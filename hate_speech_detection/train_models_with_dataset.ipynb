{
  "cells": [
    {
      "cell_type": "markdown",
      "metadata": {
        "colab_type": "text",
        "id": "view-in-github"
      },
      "source": [
        "<a href=\"https://colab.research.google.com/github/senaldm/Research_Project/blob/main/hate_speech_detection/train_models_with_dataset.ipynb\" target=\"_parent\"><img src=\"https://colab.research.google.com/assets/colab-badge.svg\" alt=\"Open In Colab\"/></a>"
      ]
    },
    {
      "cell_type": "markdown",
      "metadata": {
        "id": "YjMOr-WNkVfE"
      },
      "source": [
        "### install necessary packages and libraries"
      ]
    },
    {
      "cell_type": "code",
      "execution_count": null,
      "metadata": {
        "colab": {
          "base_uri": "https://localhost:8080/"
        },
        "id": "yGZU10yMkVH3",
        "outputId": "2d3e93e0-1bc6-4e0e-a35a-c0c3edb8a478"
      },
      "outputs": [
        {
          "name": "stdout",
          "output_type": "stream",
          "text": [
            "Collecting fasttext\n",
            "  Downloading fasttext-0.9.2.tar.gz (68 kB)\n",
            "\u001b[?25l     \u001b[90m━━━━━━━━━━━━━━━━━━━━━━━━━━━━━━━━━━━━━━━━\u001b[0m \u001b[32m0.0/68.8 kB\u001b[0m \u001b[31m?\u001b[0m eta \u001b[36m-:--:--\u001b[0m\r\u001b[2K     \u001b[90m━━━━━━━━━━━━━━━━━━━━━━━━━━━━━━━━━━━━━━━━\u001b[0m \u001b[32m68.8/68.8 kB\u001b[0m \u001b[31m1.8 MB/s\u001b[0m eta \u001b[36m0:00:00\u001b[0m\n",
            "\u001b[?25h  Preparing metadata (setup.py) ... \u001b[?25l\u001b[?25hdone\n",
            "Collecting pybind11>=2.2 (from fasttext)\n",
            "  Using cached pybind11-2.12.0-py3-none-any.whl (234 kB)\n",
            "Requirement already satisfied: setuptools>=0.7.0 in /usr/local/lib/python3.10/dist-packages (from fasttext) (67.7.2)\n",
            "Requirement already satisfied: numpy in /usr/local/lib/python3.10/dist-packages (from fasttext) (1.25.2)\n",
            "Building wheels for collected packages: fasttext\n",
            "  Building wheel for fasttext (setup.py) ... \u001b[?25l\u001b[?25hdone\n",
            "  Created wheel for fasttext: filename=fasttext-0.9.2-cp310-cp310-linux_x86_64.whl size=4227138 sha256=c1c36776f8801aae99beb87e5498bd3275701e2e3fb361a6d2f66650999bc267\n",
            "  Stored in directory: /root/.cache/pip/wheels/a5/13/75/f811c84a8ab36eedbaef977a6a58a98990e8e0f1967f98f394\n",
            "Successfully built fasttext\n",
            "Installing collected packages: pybind11, fasttext\n",
            "Successfully installed fasttext-0.9.2 pybind11-2.12.0\n"
          ]
        }
      ],
      "source": [
        "\n",
        "!pip install fasttext"
      ]
    },
    {
      "cell_type": "markdown",
      "metadata": {
        "id": "w6jxjaWMj9m6"
      },
      "source": [
        "### Import necessary packages and libraries"
      ]
    },
    {
      "cell_type": "code",
      "execution_count": null,
      "metadata": {
        "id": "NWNqkY4Lj6Yp"
      },
      "outputs": [],
      "source": [
        "import numpy as np\n",
        "import pandas as pd\n",
        "from google.colab import drive\n",
        "import fasttext\n",
        "import fasttext.util\n",
        "from keras.models import Sequential\n",
        "from keras.layers import Dense, Embedding, Flatten, Dropout,Bidirectional\n",
        "from sklearn.model_selection import train_test_split\n",
        "from keras.optimizers import Adam\n",
        "from keras.callbacks import EarlyStopping\n",
        "from sklearn.utils import shuffle\n",
        "from sklearn.utils.class_weight import compute_class_weight\n",
        "import gensim.models as gsm"
      ]
    },
    {
      "cell_type": "markdown",
      "metadata": {
        "id": "HbPcjWFsmIN7"
      },
      "source": [
        "### Import the dataset"
      ]
    },
    {
      "cell_type": "code",
      "execution_count": null,
      "metadata": {
        "colab": {
          "base_uri": "https://localhost:8080/"
        },
        "id": "HUDQSk3Sl3_l",
        "outputId": "4db0d551-fabe-494d-876c-7ffa3b3853fc"
      },
      "outputs": [
        {
          "name": "stdout",
          "output_type": "stream",
          "text": [
            "Mounted at /content/drive\n"
          ]
        }
      ],
      "source": [
        "drive.mount('/content/drive')\n",
        "dataset_file = '/content/drive/MyDrive/dataset.csv'\n",
        "# data[0]='😂'\n",
        "# data[1]='😡'\n",
        "# print(data[0])\n",
        "data=pd.read_csv(dataset_file)"
      ]
    },
    {
      "cell_type": "markdown",
      "metadata": {
        "id": "7NkOi8colfzA"
      },
      "source": [
        "### Import pre-trained models(fasttext and emoji2Vec)"
      ]
    },
    {
      "cell_type": "code",
      "execution_count": null,
      "metadata": {
        "id": "jYyHFU0YkNC_"
      },
      "outputs": [],
      "source": [
        "# import fastText model for text\n",
        "\n",
        "fastText_model_path = '/content/drive/MyDrive/cc.si.300.bin/cc.si.300.bin'\n",
        "fasttext.FastText.eprint = lambda x: None\n",
        "ft = fasttext.load_model(fastText_model_path)\n",
        "\n",
        "\n",
        "#import emoji2Vec model for emojis\n",
        "\n",
        "e2v = gsm.KeyedVectors.load_word2vec_format('/content/drive/MyDrive/emoji2vec.bin', binary=True)"
      ]
    },
    {
      "cell_type": "markdown",
      "metadata": {
        "id": "rINgHTJcm9i0"
      },
      "source": [
        "shuffle the dataset"
      ]
    },
    {
      "cell_type": "code",
      "execution_count": null,
      "metadata": {
        "colab": {
          "base_uri": "https://localhost:8080/"
        },
        "id": "ciWCT9Qlm-H6",
        "outputId": "3061502f-340d-498b-ebaa-161ccfa094ec"
      },
      "outputs": [
        {
          "name": "stdout",
          "output_type": "stream",
          "text": [
            "      index                                            comment  \\\n",
            "2468   2469  අම්මො මට නං මේකත් ඇති .. 2021 වෙනකල් ඉන්න හිත ...   \n",
            "9044   9045  ජාතිවාදය අවුස්සන්නට තැත් කරමින් ගොන් කම ප්‍රදර...   \n",
            "891     892  මිනිස්සු ආතල් එකේ ඉන්නවට මං පට්ට කැමතියි. . හැ...   \n",
            "5859   5860  ඇත්ත ජීවිතේ කොන්ද පන නැති වුන් ට්විටරෙට ආවම පක...   \n",
            "4183   4184                        නියමයි වැඩේ දිගටම කරගෙන යමං   \n",
            "\n",
            "     expression_emoji  label  \n",
            "2468                😂      0  \n",
            "9044               ❤️      2  \n",
            "891                 😡      1  \n",
            "5859                😂      1  \n",
            "4183                😂      0  \n"
          ]
        }
      ],
      "source": [
        "\n",
        "data = shuffle(data)\n",
        "print(data.tail())"
      ]
    },
    {
      "cell_type": "markdown",
      "metadata": {
        "id": "x5kkIL4WoLkP"
      },
      "source": [
        "### Split the dataset"
      ]
    },
    {
      "cell_type": "code",
      "execution_count": null,
      "metadata": {
        "id": "bFvIKiC7FWT7"
      },
      "outputs": [],
      "source": [
        "# combined the emoji and text column for split in same points\n",
        "\n",
        "combined_data = pd.concat([data['comment'], data['expression_emoji']], axis=1)\n",
        "\n",
        "#split the dataset into train, test, validation\n",
        "combined_train, combined_test, y_train, y_test = train_test_split(combined_data, data['label'], test_size=0.2, random_state=42, stratify=data['label'])\n",
        "\n",
        "combined_actual_train,combined_val,y_actual_train,y_val=train_test_split(combined_train, y_train, test_size=0.2, random_state=42, stratify=y_train)\n",
        "\n",
        "#devide each column under train, test, validation\n",
        "X_actual_train_text, X_actual_train_emoji = combined_actual_train['comment'], combined_actual_train['expression_emoji']\n",
        "\n",
        "X_test_text, X_test_emoji= combined_test['comment'], combined_test['expression_emoji']\n",
        "\n",
        "x_val_text,x_val_emoji=combined_val['comment'],combined_val['expression_emoji']\n"
      ]
    },
    {
      "cell_type": "code",
      "execution_count": null,
      "metadata": {
        "id": "MaXtDcZ4LCzi"
      },
      "outputs": [],
      "source": []
    },
    {
      "cell_type": "code",
      "execution_count": null,
      "metadata": {
        "id": "lR0Ivqv2oL_c"
      },
      "outputs": [],
      "source": [
        "# for text and class values\n",
        "\n",
        "\n",
        "X_train_text,X_test_text, y_train, y_test=train_test_split(data['comment'], data['label'],test_size=0.2,random_state=42,stratify=data['label'])\n",
        "\n",
        "X_actual_train_text,x_val_text,y_actual_train,y_val=train_test_split(X_train_text,y_train,test_size=0.2,random_state=42,stratify=y_train)\n"
      ]
    },
    {
      "cell_type": "code",
      "execution_count": null,
      "metadata": {
        "id": "zef-Yrs6orGe"
      },
      "outputs": [],
      "source": [
        "# for emoji\n",
        "\n",
        "\n",
        "X_train_emoji, X_test_emoji= train_test_split(data['Expression_emoji'], test_size=0.2, random_state=42,stratify=data['label'])\n",
        "X_actual_emoji_train, x_emoji_val = train_test_split(X_train_emoji, test_size=0.2, random_state=42)\n",
        "#  X_actual_emoji_train,x_emoji_val= train_test_split(X_train_emoji,test_size=0.2,random_state=42,stratify=data['label'])"
      ]
    },
    {
      "cell_type": "markdown",
      "metadata": {
        "id": "6_hLp25GnR8R"
      },
      "source": [
        "Perform word to vector using fastText model for comment column"
      ]
    },
    {
      "cell_type": "code",
      "execution_count": null,
      "metadata": {
        "id": "Pwl7cVLmnTUJ"
      },
      "outputs": [],
      "source": [
        "def get_word_vector(word):\n",
        "    try:\n",
        "        wordVec=ft.get_word_vector(word)\n",
        "\n",
        "\n",
        "        return wordVec\n",
        "    except KeyError:\n",
        "        return np.zeros(ft.get_dimension())\n",
        "\n",
        "\n",
        "\n",
        "def get_sentence_vector(sentence):\n",
        "\n",
        "    if not isinstance(sentence, str):\n",
        "        sentence = str(sentence)\n",
        "    vectors = [get_word_vector(word) for word in sentence.split()]\n",
        "\n",
        "    return np.mean(vectors, axis=0)\n",
        "\n",
        "# data=data['comment'].head(4)\n",
        "\n",
        "# for comment in data:\n",
        "#   print(get_sentence_vector(comment))\n",
        "\n"
      ]
    },
    {
      "cell_type": "code",
      "execution_count": null,
      "metadata": {
        "id": "jSKIuYT5pbx5"
      },
      "outputs": [],
      "source": [
        "X_train_text_vectors=np.array([get_sentence_vector(sentence) for sentence in X_actual_train_text])\n",
        "X_test_text_vectors=np.array([get_sentence_vector(sentence) for sentence in X_test_text])\n",
        "x_text_val_vectors=np.array([get_sentence_vector(sentence) for sentence in x_val_text])"
      ]
    },
    {
      "cell_type": "markdown",
      "metadata": {
        "id": "Ctj3GEOFrTN0"
      },
      "source": [
        " perform Emoji to vector task using emoji2Vec model for expression_emoji column"
      ]
    },
    {
      "cell_type": "code",
      "execution_count": null,
      "metadata": {
        "colab": {
          "base_uri": "https://localhost:8080/"
        },
        "id": "9eIGQsmyrYmw",
        "outputId": "932f41b4-4c7d-4169-8e18-eb23973d319f"
      },
      "outputs": [
        {
          "name": "stdout",
          "output_type": "stream",
          "text": [
            "0.0009083676\n"
          ]
        }
      ],
      "source": [
        "print(np.mean(get_word_vector('තියෙනවා')))"
      ]
    },
    {
      "cell_type": "code",
      "execution_count": null,
      "metadata": {
        "colab": {
          "base_uri": "https://localhost:8080/"
        },
        "id": "bv_2bCnCzMKI",
        "outputId": "4332203e-c9ab-4c5f-9308-3dbf50c122ab"
      },
      "outputs": [
        {
          "name": "stdout",
          "output_type": "stream",
          "text": [
            "0.00010161365\n"
          ]
        }
      ],
      "source": [
        "print(np.mean(get_sentence_vector('මේකෙත් වෙනමම ආතල් එකක් තියෙනවා!!')))"
      ]
    },
    {
      "cell_type": "code",
      "execution_count": null,
      "metadata": {
        "id": "I-Ut5-b_rUTp"
      },
      "outputs": [],
      "source": [
        "def get_emoji_vector(emoji):\n",
        "\n",
        "    try:\n",
        "        value=-e2v[emoji]\n",
        "\n",
        "        return value\n",
        "\n",
        "    except KeyError:\n",
        "        return np.zeros(300)"
      ]
    },
    {
      "cell_type": "markdown",
      "metadata": {
        "id": "ACPU_pKYc-ZJ"
      },
      "source": [
        "Vector Normalization"
      ]
    },
    {
      "cell_type": "code",
      "execution_count": null,
      "metadata": {
        "colab": {
          "base_uri": "https://localhost:8080/"
        },
        "id": "w_beAu6A4H-A",
        "outputId": "0bdff9f0-9a5f-43c9-d833-921db0560623"
      },
      "outputs": [
        {
          "name": "stdout",
          "output_type": "stream",
          "text": [
            "-0.0007260342\n",
            "-0.0015154603\n"
          ]
        }
      ],
      "source": [
        "textHate=np.mean(get_word_vector('පොන්නයෙක්ද'))\n",
        "print(textHate)\n",
        "emojiHate=np.mean(get_emoji_vector('😡'))\n",
        "print(emojiHate)"
      ]
    },
    {
      "cell_type": "code",
      "execution_count": null,
      "metadata": {
        "colab": {
          "base_uri": "https://localhost:8080/"
        },
        "id": "MxLae8NB6rmv",
        "outputId": "24b96a34-3355-4168-a48a-49ca8d0ff007"
      },
      "outputs": [
        {
          "name": "stdout",
          "output_type": "stream",
          "text": [
            "0.0009083676\n",
            "0.0021346046\n"
          ]
        }
      ],
      "source": [
        "textNon=np.mean(get_word_vector('තියෙනවා'))\n",
        "print(textNon)\n",
        "emojiNon=np.mean(get_emoji_vector('😂'))\n",
        "print(emojiNon)\n"
      ]
    },
    {
      "cell_type": "code",
      "execution_count": null,
      "metadata": {
        "colab": {
          "base_uri": "https://localhost:8080/"
        },
        "id": "jxqVt35eI3lP",
        "outputId": "720840d2-af08-44b5-bd3f-b8311e97773d"
      },
      "outputs": [
        {
          "name": "stdout",
          "output_type": "stream",
          "text": [
            "0.0009083676\n",
            "0.0\n"
          ]
        }
      ],
      "source": [
        "textNon=np.mean(get_word_vector('තියෙනවා'))\n",
        "print(textNon)\n",
        "emojiNon=np.mean(get_emoji_vector('🥰'))\n",
        "print(emojiNon)\n"
      ]
    },
    {
      "cell_type": "code",
      "execution_count": null,
      "metadata": {
        "colab": {
          "base_uri": "https://localhost:8080/"
        },
        "id": "Qo2oA17w7rkZ",
        "outputId": "a8216252-300d-4af4-e449-b66080f8efe4"
      },
      "outputs": [
        {
          "name": "stdout",
          "output_type": "stream",
          "text": [
            "-0.0011207473\n",
            "0.0004541838134173304\n",
            "-0.0003630171122495085\n"
          ]
        }
      ],
      "source": [
        "CombineHate=np.mean([textHate,emojiHate])\n",
        "print(CombineHate)\n",
        "\n",
        "combineNon=np.mean([textNon,emojiNon])\n",
        "print(combineNon)\n",
        "\n",
        "combineMid=np.mean([textHate,emojiNon])\n",
        "print(combineMid)"
      ]
    },
    {
      "cell_type": "code",
      "execution_count": null,
      "metadata": {
        "id": "LE9XS6JEra5N"
      },
      "outputs": [],
      "source": [
        "X_train_emoji_vectors = np.array([get_emoji_vector(emoji) for emoji in X_actual_train_emoji])\n",
        "X_test_emoji_vectors = np.array([get_emoji_vector(emoji) for emoji in X_test_emoji])\n",
        "X_val_emoji_vectors=np.array([get_emoji_vector(emoji) for emoji in x_val_emoji])"
      ]
    },
    {
      "cell_type": "code",
      "execution_count": null,
      "metadata": {
        "id": "-lUEdSqYmw0n"
      },
      "outputs": [],
      "source": [
        "# X_train_emoji_vectors = np.linalg.norm(X_train_emoji_vectors, axis=1, keepdims=True)\n",
        "# X_test_emoji_vectors = np.linalg.norm(X_test_emoji_vectors, axis=1, keepdims=True)\n",
        "# X_val_emoji_vectors = np.linalg.norm(X_val_emoji_vectors, axis=1, keepdims=True)"
      ]
    },
    {
      "cell_type": "markdown",
      "metadata": {
        "id": "bGK30DrFlrwX"
      },
      "source": []
    },
    {
      "cell_type": "markdown",
      "metadata": {
        "id": "y7knzRnJrjx_"
      },
      "source": [
        "### Combined the emoji and comment vectors"
      ]
    },
    {
      "cell_type": "code",
      "execution_count": null,
      "metadata": {
        "id": "0OexuR3Frjc7"
      },
      "outputs": [],
      "source": [
        "X_train_vectors=np.mean([X_train_text_vectors,X_train_emoji_vectors],axis=0)\n",
        "\n",
        "X_test_vectors=np.mean([X_test_emoji_vectors,X_test_text_vectors],axis=0)\n",
        "\n",
        "X_val_vectors=np.mean([x_text_val_vectors,X_val_emoji_vectors],axis=0)"
      ]
    },
    {
      "cell_type": "code",
      "execution_count": null,
      "metadata": {
        "id": "ytHqs_pV6WgB"
      },
      "outputs": [],
      "source": []
    },
    {
      "cell_type": "code",
      "execution_count": null,
      "metadata": {
        "colab": {
          "base_uri": "https://localhost:8080/"
        },
        "id": "vCOE8LlmEvNb",
        "outputId": "9e8c0dad-17c7-4fbe-98f3-43364b8f498f"
      },
      "outputs": [
        {
          "name": "stdout",
          "output_type": "stream",
          "text": [
            "[[-1.0005704e-01 -2.5081947e-02 -9.6125782e-02 ...  2.8096240e-02\n",
            "  -7.6157525e-02 -6.9955558e-02]\n",
            " [-3.6899541e-03  7.4781240e-03 -4.7976583e-02 ...  6.2614366e-02\n",
            "  -7.2210715e-03  4.8995636e-02]\n",
            " [-3.6899541e-03  7.4781240e-03 -4.7976583e-02 ...  6.2614366e-02\n",
            "  -7.2210715e-03  4.8995636e-02]\n",
            " ...\n",
            " [ 2.6991028e-02  1.2518818e-02  1.2590548e-02 ...  1.1667472e-02\n",
            "  -1.8293642e-02 -1.0773489e-02]\n",
            " [ 1.7217604e-02 -3.7000027e-02  3.2607704e-02 ...  1.7880958e-02\n",
            "  -7.7907625e-03  9.4048366e-05]\n",
            " [ 5.2058958e-02  1.5794160e-02 -1.4743252e-03 ...  1.9772295e-02\n",
            "  -1.9245077e-02  1.6191572e-02]]\n"
          ]
        }
      ],
      "source": [
        "print(X_test_vectors)"
      ]
    },
    {
      "cell_type": "markdown",
      "metadata": {
        "id": "h0amIYIbr4tI"
      },
      "source": [
        "Define model nature and aspects"
      ]
    },
    {
      "cell_type": "code",
      "execution_count": null,
      "metadata": {
        "id": "IeuMnzCEr4Z5"
      },
      "outputs": [],
      "source": [
        "early_stopping = EarlyStopping(monitor='val_accuracy', patience=6, restore_best_weights=True)\n",
        "\n",
        "class_weights = compute_class_weight(class_weight='balanced', classes=np.unique(y_train),y= y_train)\n",
        "\n",
        "class_weight_dict = dict(enumerate(class_weights))"
      ]
    },
    {
      "cell_type": "markdown",
      "metadata": {
        "id": "JtaDlekp-Kw-"
      },
      "source": [
        "Define the model"
      ]
    },
    {
      "cell_type": "code",
      "execution_count": null,
      "metadata": {
        "id": "vat_yF2Iu4m1"
      },
      "outputs": [],
      "source": [
        "from keras.layers import LeakyReLU\n",
        "from keras.layers import LSTM\n",
        "input_dim = 300\n",
        "\n",
        "model = Sequential()\n",
        "\n",
        "# model.add(Dense(2048, activation='relu', input_dim=input_dim))\n",
        "# model.add(Dense(1024, activation='relu', input_dim=input_dim))\n",
        "# model.add(Dropout(0.2))\n",
        "# model.add(Dense(512))\n",
        "# model.add(LeakyReLU(alpha=0.1,input_dim=input_dim))\n",
        "# model.add(Dropout(0.2))\n",
        "# model.add(Dense(256))\n",
        "# model.add(LeakyReLU(alpha=0.1))\n",
        "# model.add(Dropout(0.2))\n",
        "# model.add(Dense(128))\n",
        "# model.add(LeakyReLU(alpha=0.1))\n",
        "# model.add(Dropout(0.2))\n",
        "# model.add(Dense(64))\n",
        "# model.add(LeakyReLU(alpha=0.1))\n",
        "# model.add(Dropout(0.2))\n",
        "# model.add(Dense(32))\n",
        "# model.add(LeakyReLU(alpha=0.1))\n",
        "# model.add(Dropout(0.2))\n",
        "\n",
        "# model.add(Flatten())\n",
        "timesteps=None\n",
        "# model.add(Bidirectional(LSTM(2048,return_sequences=True, input_shape=(timesteps, input_dim))))\n",
        "\n",
        "model.add(Bidirectional(LSTM(512, return_sequences=True,input_shape=(timesteps, input_dim))))\n",
        "model.add(Bidirectional(LSTM(128, return_sequences=True,)))\n",
        "model.add(Bidirectional(LSTM(100, return_sequences=True)))\n",
        "model.add(Bidirectional(LSTM(64, return_sequences=True)))\n",
        "model.add(Bidirectional(LSTM(32)))\n",
        "model.add(Dense(64, activation='relu'))\n",
        "# Output layer\n",
        "model.add(Dense(1, activation='sigmoid'))"
      ]
    },
    {
      "cell_type": "markdown",
      "metadata": {
        "id": "EPxwkIp6-UAX"
      },
      "source": [
        "Define the Optimization of the model"
      ]
    },
    {
      "cell_type": "code",
      "execution_count": null,
      "metadata": {
        "id": "yd-f-Gnf-Ty4"
      },
      "outputs": [],
      "source": [
        "custom_optimizer = Adam(learning_rate=0.001)\n"
      ]
    },
    {
      "cell_type": "code",
      "execution_count": null,
      "metadata": {
        "colab": {
          "base_uri": "https://localhost:8080/"
        },
        "id": "ovwKFOqTqy4T",
        "outputId": "8a8ff529-fb08-492c-e5fd-b68fa69f1229"
      },
      "outputs": [
        {
          "name": "stdout",
          "output_type": "stream",
          "text": [
            "label\n",
            "1    610\n",
            "0    610\n",
            "2    609\n",
            "Name: count, dtype: int64\n"
          ]
        }
      ],
      "source": [
        "y_test = pd.Series(y_test)\n",
        "\n",
        "print(y_test.value_counts())"
      ]
    },
    {
      "cell_type": "code",
      "execution_count": null,
      "metadata": {
        "colab": {
          "base_uri": "https://localhost:8080/"
        },
        "id": "C93aGLCYqzO6",
        "outputId": "bec25e1f-5866-4a96-9f5f-cdf79bb3c34b"
      },
      "outputs": [
        {
          "name": "stdout",
          "output_type": "stream",
          "text": [
            "label\n",
            "1    1081\n",
            "0     465\n",
            "2      32\n",
            "Name: count, dtype: int64\n"
          ]
        }
      ],
      "source": [
        "print(y_val.value_counts())"
      ]
    },
    {
      "cell_type": "code",
      "execution_count": null,
      "metadata": {
        "colab": {
          "base_uri": "https://localhost:8080/"
        },
        "id": "QKixkIL2qzfQ",
        "outputId": "bc102dcf-ee51-4b7b-a61d-58f80859f618"
      },
      "outputs": [
        {
          "name": "stdout",
          "output_type": "stream",
          "text": [
            "label\n",
            "1    4324\n",
            "0    1857\n",
            "2     130\n",
            "Name: count, dtype: int64\n"
          ]
        }
      ],
      "source": [
        "print(y_actual_train.value_counts())"
      ]
    },
    {
      "cell_type": "markdown",
      "metadata": {
        "id": "RVyrqmsO-hiu"
      },
      "source": [
        "Train the model"
      ]
    },
    {
      "cell_type": "code",
      "execution_count": null,
      "metadata": {
        "colab": {
          "base_uri": "https://localhost:8080/"
        },
        "id": "XhsdxBdn-hVg",
        "outputId": "429b504a-268f-440b-b3b3-9de3e8c0bf2a"
      },
      "outputs": [
        {
          "name": "stdout",
          "output_type": "stream",
          "text": [
            "Epoch 1/100\n",
            "92/92 [==============================] - 38s 171ms/step - loss: -19.4529 - accuracy: 0.5100 - val_loss: -22.7618 - val_accuracy: 0.5318\n",
            "Epoch 2/100\n",
            "92/92 [==============================] - 12s 126ms/step - loss: -27.4458 - accuracy: 0.5156 - val_loss: -31.6512 - val_accuracy: 0.5318\n",
            "Epoch 3/100\n",
            "92/92 [==============================] - 10s 112ms/step - loss: -38.2117 - accuracy: 0.5281 - val_loss: -44.4308 - val_accuracy: 0.5318\n",
            "Epoch 4/100\n",
            "92/92 [==============================] - 12s 125ms/step - loss: -53.5163 - accuracy: 0.5281 - val_loss: -61.9523 - val_accuracy: 0.5318\n",
            "Epoch 5/100\n",
            "92/92 [==============================] - 12s 125ms/step - loss: -75.2313 - accuracy: 0.5281 - val_loss: -87.7173 - val_accuracy: 0.5318\n",
            "Epoch 6/100\n",
            "92/92 [==============================] - 12s 131ms/step - loss: -106.0881 - accuracy: 0.5281 - val_loss: -123.5050 - val_accuracy: 0.5318\n",
            "Epoch 7/100\n",
            "92/92 [==============================] - 11s 120ms/step - loss: -149.2493 - accuracy: 0.4881 - val_loss: -173.2618 - val_accuracy: 0.5318\n"
          ]
        }
      ],
      "source": [
        "# model.compile(optimizer=custom_optimizer, loss='binary_crossentropy', metrics=['accuracy'])\n",
        "# history=model.fit(X_train_vecotrs, y_actual_train, epochs=100, batch_size=64, validation_data=(X_val_vectors, y_val), callbacks=[early_stopping])\n",
        "\n",
        "# Compile the model\n",
        "\n",
        "X_train_vecotrs_reshaped = X_train_vectors.reshape(X_train_vectors.shape[0], 1, X_train_vectors.shape[1])\n",
        "X_val_vectors_reshaped = X_val_vectors.reshape(X_val_vectors.shape[0], 1, X_val_vectors.shape[1])\n",
        "X_test_vecotrs_reshaped = X_test_vectors.reshape(X_test_vectors.shape[0], 1, X_test_vectors.shape[1])\n",
        "\n",
        "model.compile(optimizer=custom_optimizer, loss='binary_crossentropy', metrics=['accuracy'])\n",
        "\n",
        "# Train the model\n",
        "# history = model.fit(X_train_text_vectors, y_actual_train, epochs=100, batch_size=64, validation_data=(x_text_val_vectors, y_val), callbacks=[early_stopping],class_weight=class_weight_dict)\n",
        "\n",
        "history = model.fit(X_train_vecotrs_reshaped, y_actual_train, epochs=100, batch_size=64, validation_data=(X_val_vectors_reshaped, y_val), callbacks=[early_stopping],class_weight=class_weight_dict)\n"
      ]
    },
    {
      "cell_type": "markdown",
      "metadata": {
        "id": "1rCIwBZ1VtKC"
      },
      "source": [
        "Test LSTM model"
      ]
    },
    {
      "cell_type": "code",
      "execution_count": null,
      "metadata": {
        "colab": {
          "base_uri": "https://localhost:8080/"
        },
        "id": "XK8fpx25VsNP",
        "outputId": "88e38087-ae35-4adc-b928-259b6f79bb1a"
      },
      "outputs": [
        {
          "name": "stdout",
          "output_type": "stream",
          "text": [
            "58/58 [==============================] - 6s 25ms/step\n",
            "[[0.4832496 ]\n",
            " [0.48325294]\n",
            " [1.        ]\n",
            " ...\n",
            " [1.        ]\n",
            " [1.        ]\n",
            " [0.4832514 ]]\n",
            "58/58 [==============================] - 1s 21ms/step - loss: -14.8731 - accuracy: 0.5254\n",
            "Test Loss: -14.873109817504883, Test Accuracy: 0.5254237055778503\n"
          ]
        }
      ],
      "source": [
        "\n",
        "prediction=model.predict(X_test_vecotrs_reshaped)\n",
        "\n",
        "print(prediction)\n",
        "loss, accuracy = model.evaluate(X_test_vecotrs_reshaped, y_test)\n",
        "print(f\"Test Loss: {loss}, Test Accuracy: {accuracy}\")"
      ]
    },
    {
      "cell_type": "markdown",
      "metadata": {
        "id": "opQTNU0jV1AL"
      },
      "source": [
        "Classification report for LSTM"
      ]
    },
    {
      "cell_type": "code",
      "execution_count": null,
      "metadata": {
        "colab": {
          "base_uri": "https://localhost:8080/"
        },
        "id": "McVLaQeaV0vH",
        "outputId": "805ae317-e6eb-4eee-cad8-0095d769d1f8"
      },
      "outputs": [
        {
          "name": "stdout",
          "output_type": "stream",
          "text": [
            "Classification Report:\n",
            "              precision    recall  f1-score   support\n",
            "\n",
            "           0       0.33      1.00      0.50       610\n",
            "           1       0.00      0.00      0.00       610\n",
            "           2       0.00      0.00      0.00       609\n",
            "\n",
            "    accuracy                           0.33      1829\n",
            "   macro avg       0.11      0.33      0.17      1829\n",
            "weighted avg       0.11      0.33      0.17      1829\n",
            "\n"
          ]
        },
        {
          "name": "stderr",
          "output_type": "stream",
          "text": [
            "/usr/local/lib/python3.10/dist-packages/sklearn/metrics/_classification.py:1344: UndefinedMetricWarning: Precision and F-score are ill-defined and being set to 0.0 in labels with no predicted samples. Use `zero_division` parameter to control this behavior.\n",
            "  _warn_prf(average, modifier, msg_start, len(result))\n",
            "/usr/local/lib/python3.10/dist-packages/sklearn/metrics/_classification.py:1344: UndefinedMetricWarning: Precision and F-score are ill-defined and being set to 0.0 in labels with no predicted samples. Use `zero_division` parameter to control this behavior.\n",
            "  _warn_prf(average, modifier, msg_start, len(result))\n",
            "/usr/local/lib/python3.10/dist-packages/sklearn/metrics/_classification.py:1344: UndefinedMetricWarning: Precision and F-score are ill-defined and being set to 0.0 in labels with no predicted samples. Use `zero_division` parameter to control this behavior.\n",
            "  _warn_prf(average, modifier, msg_start, len(result))\n"
          ]
        }
      ],
      "source": [
        "from sklearn.metrics import classification_report\n",
        "\n",
        "y_test = np.array(y_test)\n",
        "predicted_classes = np.array(prediction)\n",
        "prediction=prediction.argmax(axis=1)\n",
        "print(\"Classification Report:\")\n",
        "print(classification_report(y_test, prediction))"
      ]
    },
    {
      "cell_type": "markdown",
      "metadata": {
        "id": "kqjxmVhUmCDp"
      },
      "source": [
        "# Try with KMeans (Optional)\n",
        "\n"
      ]
    },
    {
      "cell_type": "code",
      "execution_count": null,
      "metadata": {
        "id": "drA8hDo-V8FR"
      },
      "outputs": [],
      "source": [
        "X_train_vecotrs_reshaped = X_train_vectors.reshape(X_train_vectors.shape[0], X_train_vectors.shape[1])\n",
        "X_val_vectors_reshaped = X_val_vectors.reshape(X_val_vectors.shape[0], X_val_vectors.shape[1])\n",
        "X_test_vecotrs_reshaped = X_test_vectors.reshape(X_test_vectors.shape[0], X_test_vectors.shape[1])"
      ]
    },
    {
      "cell_type": "code",
      "execution_count": null,
      "metadata": {
        "colab": {
          "base_uri": "https://localhost:8080/"
        },
        "id": "AjQQDG51kjmC",
        "outputId": "e87ef0fd-1f84-4e8f-bad5-fa04c755d38b"
      },
      "outputs": [
        {
          "name": "stderr",
          "output_type": "stream",
          "text": [
            "/usr/local/lib/python3.10/dist-packages/sklearn/cluster/_kmeans.py:870: FutureWarning: The default value of `n_init` will change from 10 to 'auto' in 1.4. Set the value of `n_init` explicitly to suppress the warning\n",
            "  warnings.warn(\n"
          ]
        }
      ],
      "source": [
        "from re import X\n",
        "from sklearn.cluster import KMeans\n",
        "\n",
        "kmeans = KMeans(n_clusters=3, random_state=42)\n",
        "\n",
        "kmeans.fit(X_train_vecotrs_reshaped)\n",
        "\n",
        "y_train_pred = kmeans.predict(X_train_vecotrs_reshaped)\n",
        "\n",
        "y_val_pred = kmeans.predict(X_test_vecotrs_reshaped)\n"
      ]
    },
    {
      "cell_type": "code",
      "execution_count": null,
      "metadata": {
        "colab": {
          "base_uri": "https://localhost:8080/"
        },
        "id": "96icpoOOlKA6",
        "outputId": "b38cd7f8-fc69-4fe4-effd-d561d38529d3"
      },
      "outputs": [
        {
          "name": "stdout",
          "output_type": "stream",
          "text": [
            "Accuracy of K-means on validation data: 0.33351558228540185\n"
          ]
        }
      ],
      "source": [
        "from sklearn.metrics import accuracy_score\n",
        "\n",
        "accuracy = accuracy_score(y_test, y_val_pred)\n",
        "print(\"Accuracy of K-means on validation data:\", accuracy)\n"
      ]
    },
    {
      "cell_type": "code",
      "execution_count": null,
      "metadata": {
        "colab": {
          "base_uri": "https://localhost:8080/"
        },
        "id": "0z_LJFa6mMLy",
        "outputId": "91f6e3a6-d8e0-41b3-a14f-66356b80ef78"
      },
      "outputs": [
        {
          "name": "stdout",
          "output_type": "stream",
          "text": [
            "Classification Report:\n",
            "              precision    recall  f1-score   support\n",
            "\n",
            "           0       0.57      1.00      0.73       610\n",
            "           1       0.00      0.00      0.00       610\n",
            "           2       0.00      0.00      0.00       609\n",
            "\n",
            "    accuracy                           0.33      1829\n",
            "   macro avg       0.19      0.33      0.24      1829\n",
            "weighted avg       0.19      0.33      0.24      1829\n",
            "\n"
          ]
        }
      ],
      "source": [
        "from sklearn.metrics import classification_report, roc_auc_score\n",
        "\n",
        "y_test = np.array(y_test)\n",
        "predicted_classes = np.array(y_val_pred)\n",
        "\n",
        "\n",
        "print(\"Classification Report:\")\n",
        "print(classification_report(y_test, predicted_classes))\n"
      ]
    },
    {
      "cell_type": "markdown",
      "metadata": {
        "id": "5aAbDTgCmTdW"
      },
      "source": [
        "# Try with K nearest Neighbours(Optional)"
      ]
    },
    {
      "cell_type": "code",
      "execution_count": null,
      "metadata": {
        "id": "sE6YaXHWmhGP"
      },
      "outputs": [],
      "source": [
        "from sklearn.neighbors import KNeighborsClassifier\n",
        "\n",
        "\n",
        "knn = KNeighborsClassifier(n_neighbors=3, weights='distance')\n",
        "knn.fit(X_train_vecotrs_reshaped, y_actual_train)\n",
        "\n",
        "y_train_pred = knn.predict(X_train_vecotrs_reshaped)\n",
        "\n",
        "KNN_predict = knn.predict(X_test_vecotrs_reshaped)\n"
      ]
    },
    {
      "cell_type": "code",
      "execution_count": null,
      "metadata": {
        "colab": {
          "base_uri": "https://localhost:8080/"
        },
        "id": "6Y1uwk5bmwtD",
        "outputId": "5ed69807-71d9-4577-fb7c-a5088c671ae4"
      },
      "outputs": [
        {
          "name": "stdout",
          "output_type": "stream",
          "text": [
            "Accuracy of KNN on validation data: 0.7993439037725533\n",
            "[1 1 2 ... 2 1 1]\n",
            "[0 0 2 ... 2 1 1]\n"
          ]
        }
      ],
      "source": [
        "from sklearn.metrics import accuracy_score\n",
        "\n",
        "accuracy = accuracy_score(y_test, KNN_predict)\n",
        "print(\"Accuracy of KNN on validation data:\", accuracy)\n",
        "print(y_test)\n",
        "print(KNN_predict)"
      ]
    },
    {
      "cell_type": "code",
      "execution_count": null,
      "metadata": {
        "colab": {
          "base_uri": "https://localhost:8080/"
        },
        "id": "oDirb4-7m5NG",
        "outputId": "31368739-8868-4135-db6c-0ad2ebbff66e"
      },
      "outputs": [
        {
          "name": "stdout",
          "output_type": "stream",
          "text": [
            "[0 0 2 ... 2 1 1]\n",
            "Classification Report:\n",
            "              precision    recall  f1-score   support\n",
            "\n",
            "           0       0.79      0.65      0.71       610\n",
            "           1       0.71      0.88      0.78       610\n",
            "           2       0.94      0.87      0.90       609\n",
            "\n",
            "    accuracy                           0.80      1829\n",
            "   macro avg       0.81      0.80      0.80      1829\n",
            "weighted avg       0.81      0.80      0.80      1829\n",
            "\n"
          ]
        }
      ],
      "source": [
        "from sklearn.metrics import classification_report, roc_auc_score\n",
        "\n",
        "y_test = np.array(y_test)\n",
        "predicted_classes = np.array(KNN_predict)\n",
        "print(predicted_classes)\n",
        "\n",
        "print(\"Classification Report:\")\n",
        "print(classification_report(y_test, predicted_classes))\n"
      ]
    },
    {
      "cell_type": "markdown",
      "metadata": {
        "id": "SlkXkWC_2zJZ"
      },
      "source": [
        "Test by manually"
      ]
    },
    {
      "cell_type": "code",
      "execution_count": null,
      "metadata": {
        "colab": {
          "base_uri": "https://localhost:8080/"
        },
        "id": "3qUNR9iQ2y9q",
        "outputId": "c3ac566b-b595-4253-d618-884d92c94db4"
      },
      "outputs": [
        {
          "name": "stdout",
          "output_type": "stream",
          "text": [
            "Enter a comment: සංහිදියාවට අවුලක් වෙයි ද😂\n",
            "Predicted Class: [0]\n"
          ]
        }
      ],
      "source": [
        "import regex as re\n",
        "\n",
        "user_comment = input(\"Enter a comment: \")\n",
        "\n",
        "\n",
        "emoji_pattern = re.compile(r'\\p{So}')\n",
        "\n",
        "emojis = emoji_pattern.findall(user_comment)\n",
        "\n",
        "text_without_emojis = emoji_pattern.sub('', user_comment)\n",
        "\n",
        "user_text_vector = get_sentence_vector(user_comment)\n",
        "user_emoji_vector=get_emoji_vector(emojis[0])\n",
        "\n",
        "user_comment_vector=np.mean([user_text_vector,user_emoji_vector],axis=0)\n",
        "\n",
        "user_comment_vector = user_comment_vector.reshape(1,-1)\n",
        "\n",
        "prediction = knn.predict(user_comment_vector)\n",
        "\n",
        "print(f\"Predicted Class: {prediction}\")"
      ]
    },
    {
      "cell_type": "code",
      "execution_count": null,
      "metadata": {
        "id": "vFtFl-54Kqzh"
      },
      "outputs": [],
      "source": [
        "\n"
      ]
    }
  ],
  "metadata": {
    "colab": {
      "authorship_tag": "ABX9TyOElUFgmRRH+7vLxGP3cZNB",
      "include_colab_link": true,
      "provenance": []
    },
    "kernelspec": {
      "display_name": "Python 3",
      "name": "python3"
    },
    "language_info": {
      "name": "python"
    }
  },
  "nbformat": 4,
  "nbformat_minor": 0
}

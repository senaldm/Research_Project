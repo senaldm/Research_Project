{
  "nbformat": 4,
  "nbformat_minor": 0,
  "metadata": {
    "colab": {
      "provenance": [],
      "authorship_tag": "ABX9TyO8rBP1GQ4tIzWN6NxnZRmM",
      "include_colab_link": true
    },
    "kernelspec": {
      "name": "python3",
      "display_name": "Python 3"
    },
    "language_info": {
      "name": "python"
    }
  },
  "cells": [
    {
      "cell_type": "markdown",
      "metadata": {
        "id": "view-in-github",
        "colab_type": "text"
      },
      "source": [
        "<a href=\"https://colab.research.google.com/github/senaldm/Research_Project/blob/main/hate_speech_detection/emoji_update_to_dataset.ipynb\" target=\"_parent\"><img src=\"https://colab.research.google.com/assets/colab-badge.svg\" alt=\"Open In Colab\"/></a>"
      ]
    },
    {
      "cell_type": "code",
      "execution_count": null,
      "metadata": {
        "colab": {
          "base_uri": "https://localhost:8080/"
        },
        "id": "XjQR5zl6RWKN",
        "outputId": "2ce4c398-3992-4469-f49d-af0ff82877fc"
      },
      "outputs": [
        {
          "output_type": "stream",
          "name": "stdout",
          "text": [
            "Requirement already satisfied: emoji in /usr/local/lib/python3.10/dist-packages (2.11.0)\n"
          ]
        }
      ],
      "source": [
        "!pip install emoji"
      ]
    },
    {
      "cell_type": "code",
      "source": [
        "import pandas as pd\n",
        "import emoji\n",
        "from google.colab import drive"
      ],
      "metadata": {
        "id": "BqH6cGrMRZsC"
      },
      "execution_count": null,
      "outputs": []
    },
    {
      "cell_type": "code",
      "source": [
        "drive.mount('/content/drive')\n",
        "dataset_file = '/content/drive/MyDrive/newDataset.csv'\n",
        "\n",
        "data=pd.read_csv(dataset_file)\n"
      ],
      "metadata": {
        "colab": {
          "base_uri": "https://localhost:8080/"
        },
        "id": "Jog77JuwRaL8",
        "outputId": "e84822e1-f8cc-40cc-af66-611140ebb70e"
      },
      "execution_count": null,
      "outputs": [
        {
          "output_type": "stream",
          "name": "stdout",
          "text": [
            "Drive already mounted at /content/drive; to attempt to forcibly remount, call drive.mount(\"/content/drive\", force_remount=True).\n"
          ]
        }
      ]
    },
    {
      "cell_type": "code",
      "source": [
        "print(emoji.emojize(\":smiling_face_with_smiling_eyes:\"))"
      ],
      "metadata": {
        "colab": {
          "base_uri": "https://localhost:8080/"
        },
        "id": "RzL7FAVYdYeP",
        "outputId": "01c567ae-0081-4d6b-a085-0d3de45c8642"
      },
      "execution_count": null,
      "outputs": [
        {
          "output_type": "stream",
          "name": "stdout",
          "text": [
            "😊\n"
          ]
        }
      ]
    },
    {
      "cell_type": "code",
      "source": [
        "# Define the emoji array\n",
        "\n",
        "\n",
        "rolingLaugh=emoji.emojize(\":rolling_on_the_floor_laughing:\")\n",
        "\n",
        "smileWitheyes=emoji.emojize(\":smiling_face_with_smiling_eyes:\")\n",
        "\n",
        "smileWithHeart=emoji.emojize(\":smiling_face_with_hearts:\")\n",
        "\n",
        "laugh=emoji.emojize(\":face_with_tears_of_joy:\")\n",
        "\n",
        "angry=emoji.emojize(\":enraged_face:\")\n",
        "\n",
        "redHeart=emoji.emojize(\":red_heart:\")\n",
        "\n",
        "fire=emoji.emojize(\":fire:\")\n",
        "\n",
        "emojiSet=[rolingLaugh,smileWitheyes,smileWithHeart,redHeart,fire,angry]\n",
        "\n",
        "print(emojiSet)"
      ],
      "metadata": {
        "colab": {
          "base_uri": "https://localhost:8080/"
        },
        "id": "hec71KalU68Z",
        "outputId": "ddaece9d-0fa4-4bfe-e8ee-37486476bce7"
      },
      "execution_count": null,
      "outputs": [
        {
          "output_type": "stream",
          "name": "stdout",
          "text": [
            "['🤣', '😊', '🥰', '❤️', '🔥', '😡']\n"
          ]
        }
      ]
    },
    {
      "cell_type": "code",
      "source": [
        "\n"
      ],
      "metadata": {
        "colab": {
          "base_uri": "https://localhost:8080/"
        },
        "id": "6xKVIQ-MZ11A",
        "outputId": "1121f0ee-c6fa-47eb-d115-37f3bdc9931f"
      },
      "execution_count": null,
      "outputs": [
        {
          "output_type": "stream",
          "name": "stdout",
          "text": [
            "0\n"
          ]
        }
      ]
    },
    {
      "cell_type": "code",
      "source": [
        "\n",
        "label=data['label']\n",
        "classLabel=2\n",
        "# labeledClass=pd.to_numeric(data['label'],errors='coerce')\n",
        "\n",
        "lastIndex = 8113\n",
        "\n",
        "class1Index,class0Index=0,0\n",
        "\n",
        "for i, value in data['label'].items():\n",
        "    if value ==0 and class0Index<3050:\n",
        "\n",
        "      data.at[i,'expression_emoji']=laugh\n",
        "      class0Index+=1\n",
        "      print(\"class 0 \",class0Index)\n",
        "\n",
        "    elif value==1 and class1Index<2543:\n",
        "\n",
        "      data.at[i,'expression_emoji']=angry\n",
        "      comment = data.iloc[i, data.columns.get_loc('comment')]\n",
        "      new_row = pd.DataFrame({'index': [lastIndex], 'comment': [comment], 'expression_emoji': [laugh],'label':[1]} )\n",
        "\n",
        "      data = pd.concat([data, new_row], ignore_index=True)\n",
        "      lastIndex+=1\n",
        "      class1Index+=2\n",
        "      print(\"class 1 \",class1Index)\n",
        "\n",
        "    elif value == 2:\n",
        "\n",
        "        data.at[i,'expression_emoji']=laugh\n",
        "        comment = data.iloc[i, data.columns.get_loc('comment')]\n",
        "\n",
        "        for emoji in emojiSet:\n",
        "          if(emoji==angry):\n",
        "            classLabel=1\n",
        "\n",
        "          new_row = pd.DataFrame({'index': [lastIndex], 'comment': [comment], 'expression_emoji': [emoji],'label':[classLabel]})\n",
        "          data = pd.concat([data, new_row], ignore_index=True)\n",
        "          lastIndex += 1\n",
        "          classLabel=2\n",
        "\n",
        "# Save the updated DataFrame to a new CSV file\n",
        "new_file_path = '/content/drive/My Drive/updated_dataset.csv'\n",
        "data.to_csv(new_file_path, index=False)\n",
        "\n",
        "# Confirm the file is saved\n",
        "print(\"File saved successfully at:\", new_file_path)\n"
      ],
      "metadata": {
        "id": "J4R8puKRS-nN"
      },
      "execution_count": null,
      "outputs": []
    },
    {
      "cell_type": "code",
      "source": [
        "dataset_file = '/content/drive/MyDrive/updated_dataset.csv'\n",
        "\n",
        "updatedData=pd.read_csv(dataset_file)"
      ],
      "metadata": {
        "id": "7RdQf3QKXNst"
      },
      "execution_count": null,
      "outputs": []
    },
    {
      "cell_type": "code",
      "source": [
        "updatedData=data.dropna(subset=['expression_emoji'], inplace=True)"
      ],
      "metadata": {
        "id": "TuF42VQ0wGMN"
      },
      "execution_count": null,
      "outputs": []
    },
    {
      "cell_type": "code",
      "source": [
        "new_file_path = '/content/drive/My Drive/new_updated_dataset.csv'\n",
        "data.to_csv(new_file_path, index=False)"
      ],
      "metadata": {
        "id": "j3mo0TOQwaw2"
      },
      "execution_count": null,
      "outputs": []
    },
    {
      "cell_type": "code",
      "source": [
        "new_file_path = '/content/drive/My Drive/new_updated_dataset.csv'\n",
        "data.to_csv(new_file_path, index=False)"
      ],
      "metadata": {
        "id": "G3TKLp0fwgMR"
      },
      "execution_count": null,
      "outputs": []
    },
    {
      "cell_type": "code",
      "source": [
        "index=1\n",
        "\n",
        "for i, value in data['index'].items():\n",
        "    data.at[i,'index']=index\n",
        "    index+=1\n",
        "\n",
        "new_file_path = '/content/drive/My Drive/new_updated_dataset.csv'\n",
        "data.to_csv(new_file_path, index=False)"
      ],
      "metadata": {
        "id": "r-ihJ9wm0sQE"
      },
      "execution_count": null,
      "outputs": []
    }
  ]
}
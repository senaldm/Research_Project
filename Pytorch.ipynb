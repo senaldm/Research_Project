{
  "nbformat": 4,
  "nbformat_minor": 0,
  "metadata": {
    "colab": {
      "provenance": [],
      "gpuType": "T4",
      "authorship_tag": "ABX9TyMGWwy1KzzPi9fBy05MPgWu",
      "include_colab_link": true
    },
    "kernelspec": {
      "name": "python3",
      "display_name": "Python 3"
    },
    "language_info": {
      "name": "python"
    },
    "accelerator": "GPU"
  },
  "cells": [
    {
      "cell_type": "markdown",
      "metadata": {
        "id": "view-in-github",
        "colab_type": "text"
      },
      "source": [
        "<a href=\"https://colab.research.google.com/github/senaldm/machine-Learning/blob/main/Pytorch.ipynb\" target=\"_parent\"><img src=\"https://colab.research.google.com/assets/colab-badge.svg\" alt=\"Open In Colab\"/></a>"
      ]
    },
    {
      "cell_type": "code",
      "execution_count": null,
      "metadata": {
        "id": "UKmWkW2vekzT"
      },
      "outputs": [],
      "source": [
        "import torch\n",
        "import numpy as np\n",
        "import time"
      ]
    },
    {
      "cell_type": "code",
      "source": [
        "a=torch.ones(10,5)\n",
        "print(a)\n",
        "b=torch.tensor([1,2,3,4,5])\n",
        "print(b)\n",
        "c=torch.zeros_like(a)\n",
        "print(c)\n"
      ],
      "metadata": {
        "colab": {
          "base_uri": "https://localhost:8080/"
        },
        "id": "DjsozMwKfqf2",
        "outputId": "7fa1a0c4-3f64-446b-bc03-8d7ac9e1e9e8"
      },
      "execution_count": null,
      "outputs": [
        {
          "output_type": "stream",
          "name": "stdout",
          "text": [
            "tensor([[1., 1., 1., 1., 1.],\n",
            "        [1., 1., 1., 1., 1.],\n",
            "        [1., 1., 1., 1., 1.],\n",
            "        [1., 1., 1., 1., 1.],\n",
            "        [1., 1., 1., 1., 1.],\n",
            "        [1., 1., 1., 1., 1.],\n",
            "        [1., 1., 1., 1., 1.],\n",
            "        [1., 1., 1., 1., 1.],\n",
            "        [1., 1., 1., 1., 1.],\n",
            "        [1., 1., 1., 1., 1.]])\n",
            "tensor([1, 2, 3, 4, 5])\n",
            "tensor([[0., 0., 0., 0., 0.],\n",
            "        [0., 0., 0., 0., 0.],\n",
            "        [0., 0., 0., 0., 0.],\n",
            "        [0., 0., 0., 0., 0.],\n",
            "        [0., 0., 0., 0., 0.],\n",
            "        [0., 0., 0., 0., 0.],\n",
            "        [0., 0., 0., 0., 0.],\n",
            "        [0., 0., 0., 0., 0.],\n",
            "        [0., 0., 0., 0., 0.],\n",
            "        [0., 0., 0., 0., 0.]])\n"
          ]
        }
      ]
    },
    {
      "cell_type": "code",
      "source": [
        "print(c.device)\n",
        "c=c.cuda(0)\n",
        "print(c.device)"
      ],
      "metadata": {
        "colab": {
          "base_uri": "https://localhost:8080/"
        },
        "id": "j-yPazXZf9Cq",
        "outputId": "e9991a4e-c2b1-4688-b68f-54c8c3407349"
      },
      "execution_count": null,
      "outputs": [
        {
          "output_type": "stream",
          "name": "stdout",
          "text": [
            "cuda:0\n",
            "cuda:0\n"
          ]
        }
      ]
    },
    {
      "cell_type": "code",
      "source": [
        "print(a.evice)"
      ],
      "metadata": {
        "colab": {
          "base_uri": "https://localhost:8080/"
        },
        "id": "EryU88hJiEuC",
        "outputId": "8eee63ed-7c9d-48f7-d566-9431b5cac0e7"
      },
      "execution_count": null,
      "outputs": [
        {
          "output_type": "stream",
          "name": "stdout",
          "text": [
            "cpu\n"
          ]
        }
      ]
    },
    {
      "cell_type": "code",
      "source": [
        "d=5000\n",
        "#CPU\n",
        "start_time=time.time()\n",
        "A=np.random.rand(d,d).astype(np.float32)\n",
        "B=np.random.rand(d,d).astype(np.float32)\n",
        "C=A.dot(B)\n",
        "print(\"----%s seconds-----\"% (time.time() - start_time))"
      ],
      "metadata": {
        "colab": {
          "base_uri": "https://localhost:8080/"
        },
        "id": "2d9hAlJIi7Wp",
        "outputId": "2f147ff5-0aa5-4772-c900-d0c2b89579cc"
      },
      "execution_count": null,
      "outputs": [
        {
          "output_type": "stream",
          "name": "stdout",
          "text": [
            "----4.264317512512207 seconds-----\n"
          ]
        }
      ]
    },
    {
      "cell_type": "code",
      "source": [
        "#GPU\n",
        "start_time=time.time()\n",
        "A=torch.rand((d,d)).cuda()\n",
        "B=torch.rand((d,d)).cuda()\n",
        "C=torch.mm(A,B)\n",
        "print(\"----%s seconds-----\"% (time.time() - start_time))"
      ],
      "metadata": {
        "colab": {
          "base_uri": "https://localhost:8080/"
        },
        "id": "Z6SPhLcwkNmv",
        "outputId": "3cf56920-3b03-4aec-d1fa-0edf76d879a1"
      },
      "execution_count": null,
      "outputs": [
        {
          "output_type": "stream",
          "name": "stdout",
          "text": [
            "----0.6626157760620117 seconds-----\n"
          ]
        }
      ]
    },
    {
      "cell_type": "code",
      "source": [
        "N,D=5,3\n",
        "\n",
        "A=torch.rand((N,D),requires_grad=True)\n",
        "B=torch.rand((N,D),requires_grad=True)\n",
        "C=torch.rand((N,D),requires_grad=True)\n",
        "\n",
        "#forward pass to calculate the output\n",
        "tmp=A*B+C\n",
        "tmp=tmp.sum()\n",
        "\n",
        "#backward pass to calculate the gradients\n",
        "tmp.backward()\n",
        "\n",
        "print(A.data)\n",
        "print(A.grad)\n",
        "\n",
        "print(C.data)\n",
        "print(C.grad)"
      ],
      "metadata": {
        "colab": {
          "base_uri": "https://localhost:8080/"
        },
        "id": "6h8_CgC2lW3u",
        "outputId": "4b54fb72-bf11-49c8-bdcc-2dcb132c04ab"
      },
      "execution_count": null,
      "outputs": [
        {
          "output_type": "stream",
          "name": "stdout",
          "text": [
            "tensor([[0.4081, 0.9269, 0.7637],\n",
            "        [0.2433, 0.4676, 0.4195],\n",
            "        [0.3847, 0.4066, 0.5000],\n",
            "        [0.8061, 0.5599, 0.8944],\n",
            "        [0.9548, 0.3664, 0.6748]])\n",
            "tensor([[0.0931, 0.8211, 0.8691],\n",
            "        [0.2261, 0.5035, 0.1659],\n",
            "        [0.4441, 0.7093, 0.9278],\n",
            "        [0.1603, 0.3577, 0.9379],\n",
            "        [0.9269, 0.1502, 0.7796]])\n",
            "tensor([[0.9641, 0.4747, 0.6108],\n",
            "        [0.4602, 0.1201, 0.5809],\n",
            "        [0.3806, 0.1455, 0.0118],\n",
            "        [0.3631, 0.0069, 0.7115],\n",
            "        [0.6514, 0.3522, 0.0801]])\n",
            "tensor([[1., 1., 1.],\n",
            "        [1., 1., 1.],\n",
            "        [1., 1., 1.],\n",
            "        [1., 1., 1.],\n",
            "        [1., 1., 1.]])\n"
          ]
        }
      ]
    },
    {
      "cell_type": "code",
      "source": [
        "x=torch.tensor(1.,requires_grad=True)\n",
        "w=torch.tensor(2.,requires_grad=True)\n",
        "b=torch.tensor(3.,requires_grad=True)\n",
        "\n",
        "# forword pass to calculate the output\n",
        "y=w*x+b\n",
        "\n",
        "# backward pass to calculate the gradients\n",
        "y.backward(retain_graph=True)\n",
        "print(w.grad,b.grad)"
      ],
      "metadata": {
        "colab": {
          "base_uri": "https://localhost:8080/"
        },
        "id": "I5ztM7JLmgrP",
        "outputId": "f3b9006a-2061-474d-d472-65c2d40ae154"
      },
      "execution_count": null,
      "outputs": [
        {
          "output_type": "stream",
          "name": "stdout",
          "text": [
            "tensor(1.) tensor(1.)\n"
          ]
        }
      ]
    },
    {
      "cell_type": "code",
      "source": [
        "y.backward(retain_graph=True)\n",
        "print(w.grad,b.grad)"
      ],
      "metadata": {
        "colab": {
          "base_uri": "https://localhost:8080/"
        },
        "id": "k52D7kxypoB1",
        "outputId": "f266cf8f-1a66-4e10-e9bc-f650fbaca1dc"
      },
      "execution_count": null,
      "outputs": [
        {
          "output_type": "stream",
          "name": "stdout",
          "text": [
            "tensor(2.) tensor(2.)\n"
          ]
        }
      ]
    },
    {
      "cell_type": "code",
      "source": [
        "N=4\n",
        "d=3\n",
        "\n",
        "X=torch.rand((N,d),requires_grad=False)\n",
        "w=torch.rand((d,1),requires_grad=True)\n",
        "t=torch.rand((N,1),requires_grad=False)\n",
        "\n",
        "\n",
        "X=torch.cat((X,torch.ones(N,1)),dim=1)\n",
        "w=torch.rand((d+1,1),requires_grad=True)\n",
        "#forward propagation: calculate the predition\n",
        "lr=0.01\n",
        "\n",
        "for epoch in range(10):\n",
        "  y=torch.matmul(X,w)\n",
        "\n",
        "  #calculate the error # MSE\n",
        "  L=torch.pow(y-t,2).mean()\n",
        "\n",
        "  #backward prob: calculate the derivatives\n",
        "  L.backward()\n",
        "\n",
        "  w.data=w.data-lr*w.grad\n",
        "  print(L.data)\n"
      ],
      "metadata": {
        "id": "NFLEs7O6puv7",
        "colab": {
          "base_uri": "https://localhost:8080/"
        },
        "outputId": "d2490224-5760-47c0-c137-8b26f6ad8062"
      },
      "execution_count": 40,
      "outputs": [
        {
          "output_type": "stream",
          "name": "stdout",
          "text": [
            "tensor(0.6320)\n",
            "tensor(0.5915)\n",
            "tensor(0.5185)\n",
            "tensor(0.4276)\n",
            "tensor(0.3369)\n",
            "tensor(0.2643)\n",
            "tensor(0.2240)\n",
            "tensor(0.2238)\n",
            "tensor(0.2630)\n",
            "tensor(0.3330)\n"
          ]
        }
      ]
    },
    {
      "cell_type": "code",
      "source": [],
      "metadata": {
        "id": "qk7rh0ErvUT0"
      },
      "execution_count": null,
      "outputs": []
    }
  ]
}
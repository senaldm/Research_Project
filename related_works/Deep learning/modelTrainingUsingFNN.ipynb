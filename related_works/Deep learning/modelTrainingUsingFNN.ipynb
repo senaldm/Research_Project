{
  "nbformat": 4,
  "nbformat_minor": 0,
  "metadata": {
    "colab": {
      "provenance": [],
      "authorship_tag": "ABX9TyNquSMpEzAFjHI7BheNfWjg",
      "include_colab_link": true
    },
    "kernelspec": {
      "name": "python3",
      "display_name": "Python 3"
    },
    "language_info": {
      "name": "python"
    }
  },
  "cells": [
    {
      "cell_type": "markdown",
      "metadata": {
        "id": "view-in-github",
        "colab_type": "text"
      },
      "source": [
        "<a href=\"https://colab.research.google.com/github/senaldm/machine-Learning/blob/main/modelTrainingUsingFNN.ipynb\" target=\"_parent\"><img src=\"https://colab.research.google.com/assets/colab-badge.svg\" alt=\"Open In Colab\"/></a>"
      ]
    },
    {
      "cell_type": "code",
      "execution_count": 1,
      "metadata": {
        "colab": {
          "base_uri": "https://localhost:8080/"
        },
        "id": "QYV9PuIpe5A2",
        "outputId": "6ad1b639-b6ad-4ffd-984d-a183ecff473c"
      },
      "outputs": [
        {
          "output_type": "stream",
          "name": "stdout",
          "text": [
            "Mounted at /content/drive\n"
          ]
        }
      ],
      "source": [
        "import pandas as pd\n",
        "import numpy as np\n",
        "\n",
        "from google.colab import drive\n",
        "drive.mount('/content/drive')\n",
        "\n",
        "dataset_file = '/content/drive/MyDrive/ML/Sinhala_Singlish_Hate_Speech.csv'\n",
        "data=pd.read_csv(dataset_file)"
      ]
    },
    {
      "cell_type": "code",
      "source": [
        "from tensorflow.keras.models import Sequential\n",
        "from tensorflow.keras.layers import Embedding, Flatten, Dense\n",
        "from sklearn.model_selection import train_test_split\n",
        "from sklearn.metrics import accuracy_score\n",
        "from sklearn.preprocessing import LabelEncoder\n",
        "from tensorflow.keras.preprocessing.text import Tokenizer\n",
        "from tensorflow.keras.preprocessing.sequence import pad_sequences"
      ],
      "metadata": {
        "id": "ewhaYdlXe-N1"
      },
      "execution_count": 2,
      "outputs": []
    },
    {
      "cell_type": "code",
      "source": [
        "X = data['Phrase'].values\n",
        "y = data['IsHateSpeech'].values\n",
        "\n",
        "# Convert labels to numerical format\n",
        "label_encoder = LabelEncoder()\n",
        "y = label_encoder.fit_transform(y)\n",
        "\n",
        "# Split the dataset into training and testing sets (70:30)\n",
        "X_train, X_test, y_train, y_test = train_test_split(X, y, test_size=0.3, random_state=42)\n",
        "\n",
        "# Tokenize and pad sequences\n",
        "tokenizer = Tokenizer()\n",
        "tokenizer.fit_on_texts(X_train)\n",
        "X_train_sequences = tokenizer.texts_to_sequences(X_train)\n",
        "X_test_sequences = tokenizer.texts_to_sequences(X_test)\n",
        "\n",
        "vocab_size = len(tokenizer.word_index) + 1\n",
        "max_length = max(len(seq) for seq in X_train_sequences)\n",
        "\n",
        "X_train_padded = pad_sequences(X_train_sequences, maxlen=max_length, padding='post')\n",
        "X_test_padded = pad_sequences(X_test_sequences, maxlen=max_length, padding='post')\n",
        "\n",
        "# Build the model\n",
        "model = Sequential()\n",
        "model.add(Embedding(input_dim=vocab_size, output_dim=100, input_length=max_length))\n",
        "model.add(Flatten())\n",
        "model.add(Dense(128, activation='relu'))\n",
        "model.add(Dense(1, activation='sigmoid'))\n",
        "\n",
        "model.compile(optimizer='adam', loss='binary_crossentropy', metrics=['accuracy'])\n",
        "model.summary()\n",
        "\n",
        "# Train the model\n",
        "model.fit(X_train_padded, y_train, epochs=5, validation_data=(X_test_padded, y_test))\n",
        "\n",
        "# Evaluate on the test set\n",
        "y_pred = (model.predict(X_test_padded) > 0.5).astype('int32')\n",
        "accuracy = accuracy_score(y_test, y_pred)\n",
        "print(f'Test Accuracy: {accuracy * 100:.2f}%')"
      ],
      "metadata": {
        "colab": {
          "base_uri": "https://localhost:8080/"
        },
        "id": "Oyvn8ubjfK3n",
        "outputId": "e683b75d-eb90-4799-ad83-f74d284d84ca"
      },
      "execution_count": 3,
      "outputs": [
        {
          "output_type": "stream",
          "name": "stdout",
          "text": [
            "Model: \"sequential\"\n",
            "_________________________________________________________________\n",
            " Layer (type)                Output Shape              Param #   \n",
            "=================================================================\n",
            " embedding (Embedding)       (None, 136, 100)          1250000   \n",
            "                                                                 \n",
            " flatten (Flatten)           (None, 13600)             0         \n",
            "                                                                 \n",
            " dense (Dense)               (None, 128)               1740928   \n",
            "                                                                 \n",
            " dense_1 (Dense)             (None, 1)                 129       \n",
            "                                                                 \n",
            "=================================================================\n",
            "Total params: 2991057 (11.41 MB)\n",
            "Trainable params: 2991057 (11.41 MB)\n",
            "Non-trainable params: 0 (0.00 Byte)\n",
            "_________________________________________________________________\n",
            "Epoch 1/5\n",
            "55/55 [==============================] - 5s 61ms/step - loss: 0.7039 - accuracy: 0.5537 - val_loss: 0.6840 - val_accuracy: 0.5600\n",
            "Epoch 2/5\n",
            "55/55 [==============================] - 5s 92ms/step - loss: 0.4826 - accuracy: 0.8497 - val_loss: 0.6677 - val_accuracy: 0.6067\n",
            "Epoch 3/5\n",
            "55/55 [==============================] - 4s 70ms/step - loss: 0.0658 - accuracy: 0.9971 - val_loss: 0.6626 - val_accuracy: 0.6587\n",
            "Epoch 4/5\n",
            "55/55 [==============================] - 3s 56ms/step - loss: 0.0077 - accuracy: 1.0000 - val_loss: 0.6614 - val_accuracy: 0.6707\n",
            "Epoch 5/5\n",
            "55/55 [==============================] - 3s 58ms/step - loss: 0.0032 - accuracy: 1.0000 - val_loss: 0.7074 - val_accuracy: 0.6573\n",
            "24/24 [==============================] - 0s 6ms/step\n",
            "Test Accuracy: 65.73%\n"
          ]
        }
      ]
    }
  ]
}
{
  "nbformat": 4,
  "nbformat_minor": 0,
  "metadata": {
    "colab": {
      "provenance": [],
      "authorship_tag": "ABX9TyOK4jM3lgf42QvLivp203WC",
      "include_colab_link": true
    },
    "kernelspec": {
      "name": "python3",
      "display_name": "Python 3"
    },
    "language_info": {
      "name": "python"
    }
  },
  "cells": [
    {
      "cell_type": "markdown",
      "metadata": {
        "id": "view-in-github",
        "colab_type": "text"
      },
      "source": [
        "<a href=\"https://colab.research.google.com/github/senaldm/machine-Learning/blob/main/testCopiedReseachProject.ipynb\" target=\"_parent\"><img src=\"https://colab.research.google.com/assets/colab-badge.svg\" alt=\"Open In Colab\"/></a>"
      ]
    },
    {
      "cell_type": "markdown",
      "source": [
        "This content is a copied one and used only for testing and learning purposes. The original owner's contents of this content can be fount on following link. https://github.com/chashikajw/sinhala-hate-speech-detection"
      ],
      "metadata": {
        "id": "GYaIDG0L_9Qu"
      }
    },
    {
      "cell_type": "code",
      "execution_count": null,
      "metadata": {
        "colab": {
          "base_uri": "https://localhost:8080/"
        },
        "id": "fqd0Xdekb50I",
        "outputId": "203a0289-57c9-4fba-b845-76db69f3c744"
      },
      "outputs": [
        {
          "output_type": "stream",
          "name": "stdout",
          "text": [
            "Drive already mounted at /content/drive; to attempt to forcibly remount, call drive.mount(\"/content/drive\", force_remount=True).\n"
          ]
        }
      ],
      "source": [
        "import pandas as pd\n",
        "import numpy as np\n",
        "\n",
        "from google.colab import drive\n",
        "drive.mount('/content/drive')\n",
        "\n",
        "dataset_file = '/content/drive/MyDrive/ML/Sinhala_Singlish_Hate_Speech.csv'\n",
        "data=pd.read_csv(dataset_file)"
      ]
    },
    {
      "cell_type": "code",
      "source": [
        "import pandas as pd\n",
        "import re\n",
        "import nltk\n",
        "from nltk.tokenize import word_tokenize\n",
        "import csv\n",
        "import io\n",
        "import numpy as np\n",
        "import matplotlib.pyplot as plt\n",
        "from sklearn.feature_extraction.text import TfidfTransformer\n",
        "from sklearn.linear_model import LogisticRegression\n",
        "from sklearn.feature_extraction.text import CountVectorizer"
      ],
      "metadata": {
        "id": "6UMhU1Z6ck9O"
      },
      "execution_count": null,
      "outputs": []
    },
    {
      "cell_type": "code",
      "source": [
        "# preporocessing texts\n",
        "def preporocessingText(sentence):\n",
        "    #regex for html tags cleaner\n",
        "    cleaner_htmlTags  = re.compile('<.*?>|&([a-z0-9]+|#[0-9]{1,6}|#x[0-9a-f]{1,6});')\n",
        "    cleantext_htmltags = re.sub(cleaner_htmlTags, '',sentence).lower()   #convert to lower case\n",
        "\n",
        "    #regex for non alphabetical characters cleaner\n",
        "    cleantext_NonAlp = re.compile(u'[^\\u0061-\\u007A|^\\u0D80-\\u0DFF|^\\u0030-\\u0039]', re.UNICODE)\n",
        "    #Englosh lower case unicode range = \\u0061-\\u007A\n",
        "    #Sinhala unicode range = |u0D80-\\u0DFF\n",
        "    #Numbers unicode range = \\u0030-\\u0039\n",
        "\n",
        "    cleantext_finalText = re.sub(cleantext_NonAlp, ' ',cleantext_htmltags).strip(\" \")\n",
        "\n",
        "    #tokenzing\n",
        "    #finalText = word_tokenize(cleantext_finalText)\n",
        "    #finalText = sent_token = nltk.sent_tokenize(tokenzie_finalText)\n",
        "\n",
        "    #return finalText\n",
        "    return cleantext_finalText"
      ],
      "metadata": {
        "id": "AR0_kXpmcrJM"
      },
      "execution_count": null,
      "outputs": []
    },
    {
      "cell_type": "code",
      "source": [
        "def isSinglish(sentence):\n",
        "    try:\n",
        "        sentence.encode(encoding='utf-8').decode('ascii')\n",
        "    except UnicodeDecodeError:\n",
        "        return False\n",
        "    else:\n",
        "        return True\n"
      ],
      "metadata": {
        "id": "EvkPIUPacvnV"
      },
      "execution_count": null,
      "outputs": []
    },
    {
      "cell_type": "code",
      "source": [
        "# genarate separate dataframes\n",
        "df_Sinhala  = pd.DataFrame(columns=['PhraseNo', 'Phrase', 'IsHateSpeech'])\n",
        "df_Singlish = pd.DataFrame(columns=['PhraseNo', 'Phrase', 'IsHateSpeech'])\n",
        "df_All_preprocess = pd.DataFrame(columns=['PhraseNo', 'Phrase', 'IsHateSpeech'])\n",
        "\n",
        "\n",
        "singish_index = 1\n",
        "sinhala_index = 1\n",
        "\n",
        "for i in range(data.shape[0]):\n",
        "    dataSentence = data['Phrase'][i]\n",
        "    preprocessData = preporocessingText(dataSentence)\n",
        "\n",
        "    if(isSinglish(dataSentence)):\n",
        "        df_Singlish.loc[singish_index-1] = [singish_index] + [preprocessData] + [data['IsHateSpeech'][i]]\n",
        "        singish_index += 1\n",
        "\n",
        "    else:\n",
        "        df_Sinhala.loc[sinhala_index-1] = [sinhala_index] + [preprocessData] + [data['IsHateSpeech'][i]]\n",
        "        sinhala_index += 1\n",
        "    df_All_preprocess.loc[i] = [i+1] + [preprocessData] + [data['IsHateSpeech'][i]]\n",
        "\n",
        "#df_Sinhala.to_csv('Sinhala_hatespeech.csv')\n",
        "#df_Singlish.to_csv('Singlish_hatespeech.csv')\n",
        "#df_All_preprocess.to_csv('AllPreProcess_hatespeech.csv')"
      ],
      "metadata": {
        "id": "D1qRnD2JcysM"
      },
      "execution_count": null,
      "outputs": []
    },
    {
      "cell_type": "code",
      "source": [
        "sinhala_sent_percentage = (sinhala_index/data.shape[0])*100\n",
        "singlish_sent_percentage = (singish_index/data.shape[0])*100\n",
        "print(\"Sinhala sentences percentage(mix sinhala and english letters)  = \",str(sinhala_sent_percentage)+\" %\")\n",
        "print(\"Singlish sentences percentage(only has english letters) = \",str(singlish_sent_percentage) +\" %\")"
      ],
      "metadata": {
        "colab": {
          "base_uri": "https://localhost:8080/"
        },
        "id": "0_5OaAzCc1T2",
        "outputId": "a148b40a-f03f-4fe2-e16a-14156d9a555e"
      },
      "execution_count": null,
      "outputs": [
        {
          "output_type": "stream",
          "name": "stdout",
          "text": [
            "Sinhala sentences percentage(mix sinhala and english letters)  =  72.48 %\n",
            "Singlish sentences percentage(only has english letters) =  27.6 %\n"
          ]
        }
      ]
    },
    {
      "cell_type": "code",
      "source": [
        "def getUniqueTokens(myarr):\n",
        "    myset = list(set(myarr))\n",
        "    return myset\n",
        "\n",
        "def joinWordsIntoSentence(dataframe):\n",
        "    for itm in range(len(dataframe)):\n",
        "        words_arr = dataframe['Phrase'][itm]\n",
        "        dataframe['Phrase'][itm] = ( \" \".join( words_arr ))"
      ],
      "metadata": {
        "id": "9SLNl1ySc5Q8"
      },
      "execution_count": null,
      "outputs": []
    },
    {
      "cell_type": "code",
      "source": [
        "#getting the stop words\n",
        "f_stopWords = io.open(\"/content/drive/MyDrive/ML/StopWords_425.txt\", mode=\"r\", encoding=\"utf-16\")\n",
        "sinhala_stop_words = []\n",
        "df_StopWordsRemoval_Sinhala = pd.DataFrame(columns=['PhraseNo', 'Phrase', 'IsHateSpeech'])\n",
        "\n",
        "for x in f_stopWords:\n",
        "  sinhala_stop_words.append(x.split()[0])\n",
        "\n"
      ],
      "metadata": {
        "id": "IYPGERqhc8qc"
      },
      "execution_count": null,
      "outputs": []
    },
    {
      "cell_type": "code",
      "source": [
        "import nltk\n",
        "nltk.download('punkt')"
      ],
      "metadata": {
        "colab": {
          "base_uri": "https://localhost:8080/"
        },
        "id": "TtWROE2reCtH",
        "outputId": "43e462ad-64d1-4538-bb83-a3bd24e45995"
      },
      "execution_count": null,
      "outputs": [
        {
          "output_type": "stream",
          "name": "stderr",
          "text": [
            "[nltk_data] Downloading package punkt to /root/nltk_data...\n",
            "[nltk_data]   Unzipping tokenizers/punkt.zip.\n"
          ]
        },
        {
          "output_type": "execute_result",
          "data": {
            "text/plain": [
              "True"
            ]
          },
          "metadata": {},
          "execution_count": 19
        }
      ]
    },
    {
      "cell_type": "code",
      "source": [
        "SinhalaData = df_Sinhala\n",
        "prev_lengths_arr = []\n",
        "prev_lengths_arr_unique = []\n",
        "after_removal_stopWords_lenghts_arr = []\n",
        "after_removal_stopWords_lenghts_arr_unique = []\n",
        "\n",
        "for k in range(SinhalaData.shape[0]):\n",
        "    SentenceTokens = word_tokenize(SinhalaData['Phrase'][k])\n",
        "\n",
        "    prev_lengths_arr.append(len(SentenceTokens))\n",
        "    #print(len(SentenceTokens))\n",
        "    prev_lengths_arr_unique.append(len(getUniqueTokens(SentenceTokens)))\n",
        "    #remove stop words\n",
        "    removing_stopwords_sentence = [word for word in SentenceTokens if word not in sinhala_stop_words]\n",
        "    after_removal_stopWords_lenghts_arr.append(len(removing_stopwords_sentence))\n",
        "    after_removal_stopWords_lenghts_arr_unique.append(len(getUniqueTokens(removing_stopwords_sentence)))\n",
        "    #print(removing_stopwords_sentence)\n",
        "    df_StopWordsRemoval_Sinhala.loc[k] = [k+1] + [removing_stopwords_sentence] + [SinhalaData['IsHateSpeech'][k]]\n",
        "\n",
        "\n",
        "joinWordsIntoSentence(df_StopWordsRemoval_Sinhala )"
      ],
      "metadata": {
        "colab": {
          "base_uri": "https://localhost:8080/"
        },
        "id": "Ud2TsbCxc_49",
        "outputId": "cf916827-8149-4421-fccf-ff9ef26b9782"
      },
      "execution_count": null,
      "outputs": [
        {
          "output_type": "stream",
          "name": "stderr",
          "text": [
            "<ipython-input-8-7d8504a95fa5>:8: SettingWithCopyWarning: \n",
            "A value is trying to be set on a copy of a slice from a DataFrame\n",
            "\n",
            "See the caveats in the documentation: https://pandas.pydata.org/pandas-docs/stable/user_guide/indexing.html#returning-a-view-versus-a-copy\n",
            "  dataframe['Phrase'][itm] = ( \" \".join( words_arr ))\n"
          ]
        }
      ]
    },
    {
      "cell_type": "code",
      "source": [
        "df_StopWordsRemoval_Sinhala"
      ],
      "metadata": {
        "colab": {
          "base_uri": "https://localhost:8080/",
          "height": 423
        },
        "id": "JCV1SBn-d1jB",
        "outputId": "4f4957fd-921b-404b-e699-6eea5db160f4"
      },
      "execution_count": null,
      "outputs": [
        {
          "output_type": "execute_result",
          "data": {
            "text/plain": [
              "      PhraseNo                                             Phrase IsHateSpeech\n",
              "0            1  බැල්ලි කොටින්ගේ ගු කනකොට අපහසුවක් දැනුනෙ දන් ඔ...          YES\n",
              "1            2  මන් ඊයේ මුස්ලිම් ඩෑල් එකක් සෙල්ෆියක් ගත්තා සහජ...          YES\n",
              "2            3                             සංහිදියාවට අවුලක් වෙයි           NO\n",
              "3            4  කටින් පුරසාරම් දොඩන අපි සිංහලයො විදියට ලැජ්ජා ...          YES\n",
              "4            5  මචන් මගුල නවත්තලා කොන්දක් තියෙනවානම් පුලුවන්නම...          YES\n",
              "...        ...                                                ...          ...\n",
              "1806      1807  දෙන්නා එකතු වෙලා tv program එකක් කරන්නකො තියන ...           NO\n",
              "1807      1808  මොනා කිව්වත් ඔයාල දෙන්නගෙ කටවල් දෙකට ගහන්න ලංක...           NO\n",
              "1808      1809  ඇස්වහ කටවහක් ඔයාලා දෙනාටම හැමදාමත් අපිව සතුටින...           NO\n",
              "1809      1810  මුන් දෙන්න රෙඩියෝ එකේ සුපිරි ඩබල හිරු ඉන්න කාල...           NO\n",
              "1810      1811  ane manda joke eka hodai eth wadu දෙමව්පියන්ව ...           NO\n",
              "\n",
              "[1811 rows x 3 columns]"
            ],
            "text/html": [
              "\n",
              "  <div id=\"df-1d0393b8-2b0b-4db4-a51b-a977fd3f21c6\" class=\"colab-df-container\">\n",
              "    <div>\n",
              "<style scoped>\n",
              "    .dataframe tbody tr th:only-of-type {\n",
              "        vertical-align: middle;\n",
              "    }\n",
              "\n",
              "    .dataframe tbody tr th {\n",
              "        vertical-align: top;\n",
              "    }\n",
              "\n",
              "    .dataframe thead th {\n",
              "        text-align: right;\n",
              "    }\n",
              "</style>\n",
              "<table border=\"1\" class=\"dataframe\">\n",
              "  <thead>\n",
              "    <tr style=\"text-align: right;\">\n",
              "      <th></th>\n",
              "      <th>PhraseNo</th>\n",
              "      <th>Phrase</th>\n",
              "      <th>IsHateSpeech</th>\n",
              "    </tr>\n",
              "  </thead>\n",
              "  <tbody>\n",
              "    <tr>\n",
              "      <th>0</th>\n",
              "      <td>1</td>\n",
              "      <td>බැල්ලි කොටින්ගේ ගු කනකොට අපහසුවක් දැනුනෙ දන් ඔ...</td>\n",
              "      <td>YES</td>\n",
              "    </tr>\n",
              "    <tr>\n",
              "      <th>1</th>\n",
              "      <td>2</td>\n",
              "      <td>මන් ඊයේ මුස්ලිම් ඩෑල් එකක් සෙල්ෆියක් ගත්තා සහජ...</td>\n",
              "      <td>YES</td>\n",
              "    </tr>\n",
              "    <tr>\n",
              "      <th>2</th>\n",
              "      <td>3</td>\n",
              "      <td>සංහිදියාවට අවුලක් වෙයි</td>\n",
              "      <td>NO</td>\n",
              "    </tr>\n",
              "    <tr>\n",
              "      <th>3</th>\n",
              "      <td>4</td>\n",
              "      <td>කටින් පුරසාරම් දොඩන අපි සිංහලයො විදියට ලැජ්ජා ...</td>\n",
              "      <td>YES</td>\n",
              "    </tr>\n",
              "    <tr>\n",
              "      <th>4</th>\n",
              "      <td>5</td>\n",
              "      <td>මචන් මගුල නවත්තලා කොන්දක් තියෙනවානම් පුලුවන්නම...</td>\n",
              "      <td>YES</td>\n",
              "    </tr>\n",
              "    <tr>\n",
              "      <th>...</th>\n",
              "      <td>...</td>\n",
              "      <td>...</td>\n",
              "      <td>...</td>\n",
              "    </tr>\n",
              "    <tr>\n",
              "      <th>1806</th>\n",
              "      <td>1807</td>\n",
              "      <td>දෙන්නා එකතු වෙලා tv program එකක් කරන්නකො තියන ...</td>\n",
              "      <td>NO</td>\n",
              "    </tr>\n",
              "    <tr>\n",
              "      <th>1807</th>\n",
              "      <td>1808</td>\n",
              "      <td>මොනා කිව්වත් ඔයාල දෙන්නගෙ කටවල් දෙකට ගහන්න ලංක...</td>\n",
              "      <td>NO</td>\n",
              "    </tr>\n",
              "    <tr>\n",
              "      <th>1808</th>\n",
              "      <td>1809</td>\n",
              "      <td>ඇස්වහ කටවහක් ඔයාලා දෙනාටම හැමදාමත් අපිව සතුටින...</td>\n",
              "      <td>NO</td>\n",
              "    </tr>\n",
              "    <tr>\n",
              "      <th>1809</th>\n",
              "      <td>1810</td>\n",
              "      <td>මුන් දෙන්න රෙඩියෝ එකේ සුපිරි ඩබල හිරු ඉන්න කාල...</td>\n",
              "      <td>NO</td>\n",
              "    </tr>\n",
              "    <tr>\n",
              "      <th>1810</th>\n",
              "      <td>1811</td>\n",
              "      <td>ane manda joke eka hodai eth wadu දෙමව්පියන්ව ...</td>\n",
              "      <td>NO</td>\n",
              "    </tr>\n",
              "  </tbody>\n",
              "</table>\n",
              "<p>1811 rows × 3 columns</p>\n",
              "</div>\n",
              "    <div class=\"colab-df-buttons\">\n",
              "\n",
              "  <div class=\"colab-df-container\">\n",
              "    <button class=\"colab-df-convert\" onclick=\"convertToInteractive('df-1d0393b8-2b0b-4db4-a51b-a977fd3f21c6')\"\n",
              "            title=\"Convert this dataframe to an interactive table.\"\n",
              "            style=\"display:none;\">\n",
              "\n",
              "  <svg xmlns=\"http://www.w3.org/2000/svg\" height=\"24px\" viewBox=\"0 -960 960 960\">\n",
              "    <path d=\"M120-120v-720h720v720H120Zm60-500h600v-160H180v160Zm220 220h160v-160H400v160Zm0 220h160v-160H400v160ZM180-400h160v-160H180v160Zm440 0h160v-160H620v160ZM180-180h160v-160H180v160Zm440 0h160v-160H620v160Z\"/>\n",
              "  </svg>\n",
              "    </button>\n",
              "\n",
              "  <style>\n",
              "    .colab-df-container {\n",
              "      display:flex;\n",
              "      gap: 12px;\n",
              "    }\n",
              "\n",
              "    .colab-df-convert {\n",
              "      background-color: #E8F0FE;\n",
              "      border: none;\n",
              "      border-radius: 50%;\n",
              "      cursor: pointer;\n",
              "      display: none;\n",
              "      fill: #1967D2;\n",
              "      height: 32px;\n",
              "      padding: 0 0 0 0;\n",
              "      width: 32px;\n",
              "    }\n",
              "\n",
              "    .colab-df-convert:hover {\n",
              "      background-color: #E2EBFA;\n",
              "      box-shadow: 0px 1px 2px rgba(60, 64, 67, 0.3), 0px 1px 3px 1px rgba(60, 64, 67, 0.15);\n",
              "      fill: #174EA6;\n",
              "    }\n",
              "\n",
              "    .colab-df-buttons div {\n",
              "      margin-bottom: 4px;\n",
              "    }\n",
              "\n",
              "    [theme=dark] .colab-df-convert {\n",
              "      background-color: #3B4455;\n",
              "      fill: #D2E3FC;\n",
              "    }\n",
              "\n",
              "    [theme=dark] .colab-df-convert:hover {\n",
              "      background-color: #434B5C;\n",
              "      box-shadow: 0px 1px 3px 1px rgba(0, 0, 0, 0.15);\n",
              "      filter: drop-shadow(0px 1px 2px rgba(0, 0, 0, 0.3));\n",
              "      fill: #FFFFFF;\n",
              "    }\n",
              "  </style>\n",
              "\n",
              "    <script>\n",
              "      const buttonEl =\n",
              "        document.querySelector('#df-1d0393b8-2b0b-4db4-a51b-a977fd3f21c6 button.colab-df-convert');\n",
              "      buttonEl.style.display =\n",
              "        google.colab.kernel.accessAllowed ? 'block' : 'none';\n",
              "\n",
              "      async function convertToInteractive(key) {\n",
              "        const element = document.querySelector('#df-1d0393b8-2b0b-4db4-a51b-a977fd3f21c6');\n",
              "        const dataTable =\n",
              "          await google.colab.kernel.invokeFunction('convertToInteractive',\n",
              "                                                    [key], {});\n",
              "        if (!dataTable) return;\n",
              "\n",
              "        const docLinkHtml = 'Like what you see? Visit the ' +\n",
              "          '<a target=\"_blank\" href=https://colab.research.google.com/notebooks/data_table.ipynb>data table notebook</a>'\n",
              "          + ' to learn more about interactive tables.';\n",
              "        element.innerHTML = '';\n",
              "        dataTable['output_type'] = 'display_data';\n",
              "        await google.colab.output.renderOutput(dataTable, element);\n",
              "        const docLink = document.createElement('div');\n",
              "        docLink.innerHTML = docLinkHtml;\n",
              "        element.appendChild(docLink);\n",
              "      }\n",
              "    </script>\n",
              "  </div>\n",
              "\n",
              "\n",
              "<div id=\"df-6bc2b5b4-5df9-42d9-9ca8-546e2f5f8007\">\n",
              "  <button class=\"colab-df-quickchart\" onclick=\"quickchart('df-6bc2b5b4-5df9-42d9-9ca8-546e2f5f8007')\"\n",
              "            title=\"Suggest charts.\"\n",
              "            style=\"display:none;\">\n",
              "\n",
              "<svg xmlns=\"http://www.w3.org/2000/svg\" height=\"24px\"viewBox=\"0 0 24 24\"\n",
              "     width=\"24px\">\n",
              "    <g>\n",
              "        <path d=\"M19 3H5c-1.1 0-2 .9-2 2v14c0 1.1.9 2 2 2h14c1.1 0 2-.9 2-2V5c0-1.1-.9-2-2-2zM9 17H7v-7h2v7zm4 0h-2V7h2v10zm4 0h-2v-4h2v4z\"/>\n",
              "    </g>\n",
              "</svg>\n",
              "  </button>\n",
              "\n",
              "<style>\n",
              "  .colab-df-quickchart {\n",
              "    background-color: #E8F0FE;\n",
              "    border: none;\n",
              "    border-radius: 50%;\n",
              "    cursor: pointer;\n",
              "    display: none;\n",
              "    fill: #1967D2;\n",
              "    height: 32px;\n",
              "    padding: 0 0 0 0;\n",
              "    width: 32px;\n",
              "  }\n",
              "\n",
              "  .colab-df-quickchart:hover {\n",
              "    background-color: #E2EBFA;\n",
              "    box-shadow: 0px 1px 2px rgba(60, 64, 67, 0.3), 0px 1px 3px 1px rgba(60, 64, 67, 0.15);\n",
              "    fill: #174EA6;\n",
              "  }\n",
              "\n",
              "  [theme=dark] .colab-df-quickchart {\n",
              "    background-color: #3B4455;\n",
              "    fill: #D2E3FC;\n",
              "  }\n",
              "\n",
              "  [theme=dark] .colab-df-quickchart:hover {\n",
              "    background-color: #434B5C;\n",
              "    box-shadow: 0px 1px 3px 1px rgba(0, 0, 0, 0.15);\n",
              "    filter: drop-shadow(0px 1px 2px rgba(0, 0, 0, 0.3));\n",
              "    fill: #FFFFFF;\n",
              "  }\n",
              "</style>\n",
              "\n",
              "  <script>\n",
              "    async function quickchart(key) {\n",
              "      const charts = await google.colab.kernel.invokeFunction(\n",
              "          'suggestCharts', [key], {});\n",
              "    }\n",
              "    (() => {\n",
              "      let quickchartButtonEl =\n",
              "        document.querySelector('#df-6bc2b5b4-5df9-42d9-9ca8-546e2f5f8007 button');\n",
              "      quickchartButtonEl.style.display =\n",
              "        google.colab.kernel.accessAllowed ? 'block' : 'none';\n",
              "    })();\n",
              "  </script>\n",
              "</div>\n",
              "    </div>\n",
              "  </div>\n"
            ]
          },
          "metadata": {},
          "execution_count": 22
        }
      ]
    },
    {
      "cell_type": "code",
      "source": [
        "preLenghts = prev_lengths_arr\n",
        "afterLenghts = after_removal_stopWords_lenghts_arr\n",
        "preLenghtsUnique = prev_lengths_arr_unique\n",
        "afterLenghtsUnique = after_removal_stopWords_lenghts_arr_unique\n",
        "\n",
        "arr1 = []\n",
        "arr2 = []\n",
        "for i in range(len(preLenghts)):\n",
        "    ar_i = []\n",
        "    ar_i.append(preLenghts[i])\n",
        "    ar_i.append(afterLenghts[i])\n",
        "    arr1.append(ar_i)\n",
        "\n",
        "    ar_j = []\n",
        "    ar_j.append(preLenghtsUnique[i])\n",
        "    ar_j.append(afterLenghtsUnique[i])\n",
        "    arr2.append(ar_j)\n",
        "\n",
        "import numpy as np\n",
        "myarray1 = np.asarray(arr1)\n",
        "myarray2 = np.asarray(arr2)\n",
        "\n",
        "\n",
        "import matplotlib.pyplot as plt\n",
        "\n",
        "np.random.seed(19680801)\n",
        "\n",
        "n_bins = 30\n",
        "x = np.random.randn(1000, 3)\n",
        "\n",
        "fig, axes = plt.subplots(nrows=1, ncols=2,figsize=(12, 7))\n",
        "ax0, ax1 = axes.flatten()\n",
        "\n",
        "colors = ['red', 'tan']\n",
        "\n",
        "\n",
        "ax0.hist(myarray1, n_bins, density=True, histtype='bar', stacked=True,label=colors)\n",
        "ax0.set_title('sentences(before and after stopwordsremoval)')\n",
        "\n",
        "ax1.hist(myarray2, n_bins, density=True, histtype='bar', stacked=True,color=colors, label=colors)\n",
        "ax1.set_title('unique sentences(before and after stopwordsremoval)')\n",
        "\n",
        "\n",
        "\n",
        "fig.tight_layout()\n",
        "plt.show()"
      ],
      "metadata": {
        "colab": {
          "base_uri": "https://localhost:8080/",
          "height": 707
        },
        "id": "BeQoUdnOfJtJ",
        "outputId": "a0f616ee-e7ed-4301-8225-287be923ea25"
      },
      "execution_count": null,
      "outputs": [
        {
          "output_type": "display_data",
          "data": {
            "text/plain": [
              "<Figure size 1200x700 with 2 Axes>"
            ],
            "image/png": "[encoded data removed]"
          },
          "metadata": {}
        }
      ]
    },
    {
      "cell_type": "code",
      "source": [
        "print(\"Max length(previous) = \",max(prev_lengths_arr))\n",
        "print(\"Max length(after removal of stopwords) = \",max(after_removal_stopWords_lenghts_arr))\n",
        "print()\n",
        "print(\"Min length(previous) = \",min(prev_lengths_arr))\n",
        "print(\"Min length(after removal of stopwords) = \",min(after_removal_stopWords_lenghts_arr))"
      ],
      "metadata": {
        "colab": {
          "base_uri": "https://localhost:8080/"
        },
        "id": "GN30-1BxfLUJ",
        "outputId": "0f89917d-9132-4406-f007-65ff44b7568d"
      },
      "execution_count": null,
      "outputs": [
        {
          "output_type": "stream",
          "name": "stdout",
          "text": [
            "Max length(previous) =  142\n",
            "Max length(after removal of stopwords) =  126\n",
            "\n",
            "Min length(previous) =  2\n",
            "Min length(after removal of stopwords) =  1\n"
          ]
        }
      ]
    },
    {
      "cell_type": "code",
      "source": [
        "f_suffixes = io.open(\"/content/drive/MyDrive/ML/Suffixes-413.txt\", mode=\"r\", encoding=\"utf-16\")\n",
        "sinhala_suffixes = []\n",
        "df_Stemming_Sinhala = pd.DataFrame(columns=['PhraseNo', 'Phrase', 'IsHateSpeech'])\n",
        "afterStemingLenghtsUnique = []\n",
        "\n",
        "for suf in f_suffixes:\n",
        "  sinhala_suffixes.append(suf.strip().split()[0])"
      ],
      "metadata": {
        "id": "bw6kSYlEfOHF"
      },
      "execution_count": null,
      "outputs": []
    },
    {
      "cell_type": "code",
      "source": [
        "def isSuffix(s1, s2):\n",
        "\n",
        "    n1 = len(s1)\n",
        "    n2 = len(s2)\n",
        "    if (n1 > n2):\n",
        "        return False\n",
        "    for i in range(n1):\n",
        "        if(s1[n1 - i - 1] != s2[n2 - i - 1]):\n",
        "            return False\n",
        "    return True\n",
        "\n",
        "def removeSuffix(word,suffix):\n",
        "    newLen = len(word)-len(suffix)\n",
        "    wordN = word[0:newLen]\n",
        "    return wordN"
      ],
      "metadata": {
        "id": "W282eVSTfSy5"
      },
      "execution_count": null,
      "outputs": []
    },
    {
      "cell_type": "code",
      "source": [
        "def stemming(data_frame):\n",
        "    stems = {}\n",
        "    found = 0\n",
        "    df_Stemming = pd.DataFrame(columns=['PhraseNo', 'Phrase', 'IsHateSpeech'])\n",
        "    for r in range(data_frame.shape[0]):\n",
        "        Sentence = data_frame['Phrase'][r]\n",
        "        #print(Sentence)\n",
        "        SentenceTokens = word_tokenize(Sentence)\n",
        "        stemming_sentence_n = []\n",
        "        for wr in SentenceTokens:\n",
        "            found = 0\n",
        "            for suf in sinhala_suffixes:\n",
        "                if(isSuffix(suf.strip(),wr.strip())):\n",
        "                    stm = removeSuffix(wr.strip(),suf.strip())\n",
        "                    stems[wr] = stm\n",
        "                    stemming_sentence_n.append(stems[wr])\n",
        "                    found = 1\n",
        "                    break\n",
        "\n",
        "            if(found == 0):\n",
        "                stemming_sentence_n.append(wr)\n",
        "\n",
        "        #print(stemming_sentence_n)\n",
        "        df_Stemming.loc[r] = [r+1] + [stemming_sentence_n] + [data_frame['IsHateSpeech'][r]]\n",
        "        stemming_sentence_n = []\n",
        "        #print(stemming_sentence_n)\n",
        "    print(stems)\n",
        "    joinWordsIntoSentence(df_Stemming)\n",
        "    return df_Stemming\n"
      ],
      "metadata": {
        "id": "cwhH-iV0ffuh"
      },
      "execution_count": null,
      "outputs": []
    },
    {
      "cell_type": "code",
      "source": [
        "df_Stemming_Sinhala = stemming(df_StopWordsRemoval_Sinhala)"
      ],
      "metadata": {
        "colab": {
          "base_uri": "https://localhost:8080/"
        },
        "id": "axBgFfPPfh73",
        "outputId": "d123b58d-267d-4dd2-b99e-c7ac13e21445"
      },
      "execution_count": null,
      "outputs": [
        {
          "output_type": "stream",
          "name": "stdout",
          "text": [
            "{'කොටින්ගේ': 'කොටින්', 'ගු': 'ග', 'කනකොට': 'කනකො', 'අපහසුවක්': 'අපහසුවක', 'දැනුනෙ': 'දැනුන', 'දන්': 'දන', 'ඔකිට': 'ඔ', 'මිනිහා': 'මිනිහ', 'මැරුනම': 'මැරුන', 'දැනුන': 'දැනු', 'දුකට': 'දු', 'දහස්': 'දහස', 'ගුනයක': 'ගුනය', 'දුකක්': 'දුකක', 'දැනෙනවා': 'දැනෙ', 'ඉස්සරහට': 'ඉස්සරහ', 'උපසම්පදාව': 'උපසම්පදා', 'තියන': 'තිය', 'භික්සුවක්': 'භික්සුවක', 'හිරේ': 'හිර', 'යැවුවට': 'යැවුව', 'ඔකි': 'ඔ', 'වැඩියෙන්ම': 'වැඩියෙන්', 'ආදරේ': 'ආදර', 'කෙනෙක්': 'කෙනෙක', 'නැති': 'නැ', 'වෙනවා': 'වෙ', 'කල්': 'කල', 'නොගිහින්': 'නොගිහින', 'මන්': 'මන', 'ඊයේ': 'ඊ', 'මුස්ලිම්': 'මුස්ලිම', 'ඩෑල්': 'ඩෑල', 'එකක්': 'එකක', 'සෙල්ෆියක්': 'සෙල්ෆියක', 'ගත්තා': 'ගත්ත', 'සහජීවනේ': 'සහජීවන', 'රැකගෙන': 'රැකගෙ', 'යන්න': 'යන්', 'ඒක': 'ඒ', 'තාම': 'තා', 'දාලා': 'දා', 'පරයා': 'පර', 'සංහිදියාවට': 'සංහිදියාව', 'අවුලක්': 'අවුලක', 'වෙයි': 'වෙ', 'කටින්': 'කටින', 'පුරසාරම්': 'පුරසාරම', 'දොඩන': 'දොඩ', 'සිංහලයො': 'සිංහලය', 'විදියට': 'විදිය', 'ලැජ්ජා': 'ලැජ්ජ', 'විය': 'වි', 'යුතුයි': 'යුතු', 'මචන්': 'මචන', 'මගුල': 'මගු', 'නවත්තලා': 'නවත්ත', 'කොන්දක්': 'කොන්දක', 'තියෙනවානම්': 'තියෙනවානම', 'පුලුවන්නම්': 'පුලුවන්නම', 'කරලා': 'කර', 'පෙන්නපන්': 'පෙන්නපන', 'දෙසපාලනය': 'දෙසපාලන', 'කරන': 'කර', 'අයගෙන්': 'අයගෙන', 'මෙ': 'ම', 'රටට': 'රට', 'වෙලාතියෙන්නෙ': 'වෙලාතියෙ', 'කියලා': 'කිය', 'එදාට': 'එදා', 'නියම': 'නිය', 'කොල්ලෙක්': 'කොල්ලෙක', 'පෙන්නනවාද': 'පෙන්නනවා', 'ආණ්ඩුවේ': 'ආණ්ඩු', 'නෙවෙයි': 'නෙවෙ', 'රට': 'ර', 'හූරාගෙන': 'හූරාගෙ', 'තමන්ගෙ': 'තමන්', 'බූදලය': 'බූදල', 'කියල': 'කිය', 'හිතාගෙන': 'හිතාගෙ', 'උගස්': 'උගස', 'තියල': 'තිය', 'නයට': 'නය', 'අරගෙන': 'අරගෙ', 'තමතමන්ගෙ': 'තමතමන්', 'පරම්පරාවෙ': 'පරම්පරා', 'එවුන්ටයි': 'එවුන්ට', 'හිතවත්': 'හිතවත', 'බෙදාගෙන': 'බෙදාගෙ', 'කන': 'ක', 'සියලුම': 'සියලු', 'දේශපාලකයන්': 'දේශපාලකයන', 'දුටු': 'දුට', 'තැන': 'තැ', 'මරලා': 'මර', 'දාන': 'දා', 'දිනය': 'දින', 'ඈතක': 'ඈත', 'ලංකාව': 'ලංකා', 'මෙිකෙ': 'මෙි', 'ඉන්නෙ': 'ඉ', 'වාහනයක්': 'වාහනයක', 'ගත්තම': 'ගත්ත', 'ඔලුවෙන්': 'ඔලුවෙන', 'ඉන්න': 'ඉන්', 'පාරෙ': 'පාර', 'යන': 'ය', 'එකෙක්': 'එකෙක', 'හිතන්නැති': 'හිතන්නැ', 'නිරැවත්': 'නිරැවත', 'පිංපියො': 'පිංපිය', 'වගෙ': 'ව', 'එවුන්': 'එවුන', 'ටිකක්': 'ටිකක', 'නෙ': 'න', 'ලෝකයක්': 'ලෝකයක', 'නම්බුව': 'නම්බු', 'ලංකාවේ': 'ලංකා', 'එක': 'එ', 'විනාඩියේන්': 'විනාඩියේන', 'කරයි': 'කර', 'බන්': 'බන', 'හන්ද': 'හන්', 'දේශපාලනය': 'දේශපාලන', 'කරන්ට': 'කරන්', 'එන්ට': 'එන්', 'ගුඩ්ලක්': 'ගුඩ්ලක', 'පල්ලියකට': 'පල්ලිය', 'ගලක්': 'ගලක', 'වැදුනත්': 'වැදුනත', 'පරසක්වල': 'පරසක්ව', 'ගහන': 'ගහ', 'මූ': 'ම', 'පන්සල්': 'පන්සල', 'බිමට': 'බිම', 'සමතලා': 'සමත', 'කරද්දී': 'කර', 'සද්ද': 'සද්', 'මූට': 'මූ', 'කොහොමත්': 'කොහොමත', 'ඡන්දෙ': 'ඡන්ද', 'දෙන්නෙ': 'දෙ', 'පංසල්': 'පංසල', 'ඇරෙන්නේ': 'ඇරෙ', 'සංගාගේ': 'සංගා', 'කට': '', 'පල්ලියට': 'පල්ලිය', 'ගල්': 'ගල', 'ඇරුණා': 'ඇරුණ', 'එහෙම': 'එහෙ', 'නායකත්වයක්': 'නායකත්වයක', 'සිංහල': 'සිංහ', 'ජාතිය': 'ජාති', 'හදයිද': 'හදයි', 'ජයසූරිය': 'ජයසූරි', 'හදන්න': 'හදන්', 'ඕනේ': 'ඕන', 'ගැට': 'ගැ', 'වලින්': 'වලින', 'මිදී': 'මිද', 'ගෙදරට': 'ගෙදර', 'වී': 'ව', 'කියන්න': 'කියන්', 'හොදනම්': 'හොදනම', 'හදවතින්ම': 'හදවතින්', 'සපෝර්ට්': 'සපෝර්ට', 'පොහොට්ටුව': 'පොහොට්ටු', 'නොවී': 'නොව', 'කලින්': 'කලින', 'මිනිසුන්': 'මිනිසුන', 'රවටන': 'රවට', 'ප්': 'ප', 'රචාරක': 'රචාර', 'දැන්විම්': 'දැන්විම', 'මුදල්': 'මුදල', 'නවත්වා': 'නව', 'සමාජයට': 'සමාජය', 'සේවයක්': 'සේවයක', 'කරන්න': 'කරන්', 'ජයසූරියත්': 'ජයසූරියත', 'ආවෙ': 'ආ', 'හැදුවද': 'හැදුව', 'ලමයි': 'ලම', 'හැදුවා': 'හැදු', 'අපිටත්': 'අපිටත', 'ඇඩ්': 'ඇඩ', 'එකක': 'එක', 'පුළුවන්': 'පුළුවන', 'නේ': 'න', 'පොන්නයො': 'පොන්නය', 'පලනය': 'පලන', 'කරනකොට': 'කරනකො', 'ඔහොම': 'ඔහො', 'තමා': 'තම', 'ජිවිතේ': 'ජිවිත', 'අසාවෙන්': 'අසාවෙන', 'බලපු': 'බල', 'එකම': 'එක', 'දේ': 'ද', 'ක්': 'ක', 'රිකට්': 'රිකට', 'එකත්': 'එකත', 'කාරනය': 'කාරන', 'විග්': 'විග', 'ඩුප්ලිකේට්': 'ඩුප්ලිකේට', 'මහමෙව්නාවේ': 'මහමෙව්නා', 'මිතුරන්ට': 'මිතුරන්', 'පුලුවන්': 'පුලුවන', 'දිව්': 'දිව', 'ලෝක': 'ලෝ', 'ස්ට්': 'ස්ට', 'රයික්': 'රයික', 'ඔක්කොටම': 'ඔක්කො', 'ගහන්න': 'ගහන්', 'දෝස්තරලාත්': 'දෝස්තරලාත', 'ඇතුලු': 'ඇතුල', 'ගිය': 'ගි', 'ආන්ඩුව': 'ආන්ඩු', 'කාලෙ': 'කාල', 'නැටුවේ': 'නැටු', 'මුන්ගෙ': 'මුන්', 'කොන්ද': 'කොන්', 'පන': 'ප', 'උබලා': 'උබ', 'පිස්සු': 'පිස්ස', 'නටලා': 'නට', 'ඊට': 'ඊ', 'ගන්නෙ': 'ග', 'ඕක': 'ඕ', 'කල්ලතෝනි': 'කල්ලතෝ', 'පකෙක්': 'පකෙක', 'අැත්තටම': 'අැත්ත', 'සතුටුයි': 'සතුටු', 'එ්': 'එ', 'මනුස්සකමට': 'මනුස්සකම', 'වගේම': 'වගේ', 'අරාබියට': 'අරාබිය', 'ගිහින්එන': 'ගිහින්එ', 'අපේ': 'අප', 'මුස්ලිමි': 'මුස්ලි', 'කාන්තාවන්': 'කාන්තාවන', 'මුන': 'මු', 'වහගෙන': 'වහගෙ', 'බිල්ලෝ': 'බිල්ල', 'එනකොට': 'එනකො', 'නෝනා': 'නෝ', 'අැවිත්': 'අැවිත', 'ඉන්නවා': 'ඉන්', 'පුතාල': 'පුතා', 'ඉන්නකල්': 'ඉන්නකල', 'කෙලවෙන': 'කෙලවෙ', 'අහන්නත්': 'අහන්නත', 'දෙයක්ද': 'දෙයක්', 'කාලකන්නි': 'කාලකන්', 'බල්ලො': 'බල්ල', 'රටේ': 'රට', 'ලොක්කො': 'ලොක්ක', 'වෙනකොට': 'වෙනකො', 'බල්ලට': 'බල්ල', 'නාහෙන්': 'නාහෙන', 'අඩන': 'අඩ', 'සංගීතයට': 'සංගීතය', 'අද': 'අ', 'කොකා': 'කො', 'හඩලා': 'හඩ', 'තියෙන්නෙ': 'තියෙ', 'ලැජ්ජයි': 'ලැජ්ජ', 'යකෝ': 'යක', 'තෝ': 'ත', 'ආයෙ': 'ආ', 'මුණ': 'ම', 'ගැහුනා': 'ගැහු', 'ඌත්': 'ඌත', 'වගේම': 'ව', 'අඩයිනෙ': 'අඩයින', 'දවසක': 'දවස', 'ජනාධිපති': 'ජනාධිප', 'නෙද': 'නෙ', 'හුත්තෝ': 'හුත්ත', 'හොදයි': 'හොද', 'නගරසභාවේ': 'නගරසභා', 'සුද්ද': 'සුද්', 'හිකුණ්ඨික': 'හිකුණ්ඨි', 'සක්කිලියා': 'සක්කිලි', 'මොනව': 'මොන', 'උනත්': 'උනත', 'පොලිසියෙ': 'පොලිසි', 'බල්ලො': 'බල්ලෙ', 'වැදගත්': 'වැදගත', 'දෙයක්': 'දෙයක', 'කරපිය': 'කර', 'ගොන්': 'ගොන', 'වස්සෙක්': 'වස්සෙක', 'ඉදකින්': 'ඉදකින', 'හුත්තො': 'හුත්ත', 'පොලිසිය': 'පොලිසි', 'මිනිසුන්ට': 'මිනිසුන්', 'ගහන්නේ': 'ගහ', 'එලවා': 'එල', 'පොලිස්සිය': 'පොලිස්සි', 'තාමත්': 'තාමත', 'කැද': 'කැ', 'තරැන': 'තරැ', 'කොල්ලොන්ට': 'කොල්ලොන්', 'ජීවිතෙන්': 'ජීවිතෙන', 'ගෙවන්න': 'ගෙවන්', 'වෙන්නෙ': 'වෙ', 'නාකි': 'නා', 'පප්පල': 'පප්ප', 'බුලත්විටක්': 'බුලත්විටක', 'කාගෙන': 'කාගෙ', 'දහයක්': 'දහයක', 'දුවා': 'දු', 'ගන්න': 'ගන්', 'තුවක්කු': 'තුවක්', 'පුහුනුව': 'පුහුනු', 'එකේ': 'එ', 'විතරයි': 'විතර', 'ඉලක්කයක්': 'ඉලක්කයක', 'අරන්': 'අරන', 'තියන්න': 'තියන්', 'කී': '', 'දෙනාද': 'දෙනා', 'ගහල': 'ගහ', 'පන්නන්න': 'පන්නන්', 'ජරාව': 'ජරා', 'කකා': 'ක', 'ඉන්නන්': 'ඉන්නන', 'වාලේ': 'වාල', 'ඉන්නවට': 'ඉන්නව', 'සාමාන්': 'සාමාන', 'මිනිස්සු': 'මිනිස්ස', 'තැබීම': 'තැබී', 'පාතාල': 'පාතා', 'කාරයන්ට': 'කාරයන්', 'මනුස්සකමක්': 'මනුස්සකමක', 'නැනේ': 'නැන', 'මුන්': 'මුන', 'බයික්': 'බයික', 'වලට': 'වල', 'නගිනකන්': 'නගිනකන', 'ඉවසන්න': 'ඉවසන්', 'තිබුනේ': 'තිබුන', 'නැත්තන්': 'නැත්තන', 'තත්වය': 'තත්ව', 'බලල': 'බල', 'ගෙනන්න': 'ගෙනන්', 'කොහේද': 'කොහේ', 'දෙන': 'දෙ', 'අපරාදෙ': 'අපරාද', 'වටින': 'වටි', 'ජීවිතයක්': 'ජීවිතයක', 'ගිහින්': 'ගිහින', 'එකෙක්ටවත්': 'එකෙක්ටවත', 'ආපහු': 'ආප', 'ලෝකේ': 'ලෝ', 'දකින්න': 'දකින්', 'මුන්ව': 'මුන්', 'යවන්නනම්': 'යවන්නනම', 'දානවා': 'දා', 'මෙහෙමත්': 'මෙහෙමත', 'කුහක': 'කුහ', 'හොරු': 'හොර', 'හොදට': 'හොද', 'තුවක්කුවලින්': 'තුවක්කුවලින', 'තියනවා': 'තිය', 'වන': 'ව', 'ඇවිත්': 'ඇවිත', 'හොරුන්ගෙන්': 'හොරුන්ගෙන', 'කනවා': 'ක', 'මෙලෝ': 'මෙල', 'රහක්': 'රහක', 'උන්': 'උන', 'ටවුන්': 'ටවුන', 'මන්නම්': 'මන්නම', 'කියන්නෙ': 'කිය', 'පොලිසියෙ': 'පොලිසි', 'උන්නැහැලා': 'උන්නැහැ', 'ටිකටත්': 'ටිකටත', 'පුහුණුවක්': 'පුහුණුවක', 'අවශයයි': 'අවශ', 'හොරාට': 'හොරා', 'පන්න': 'පන්', 'මොලෙ': 'මොල', 'හොරා': 'හොර', 'කොටු': 'කොට', 'කරගන්නෙ': 'කරග', 'ගොඩක්': 'ගොඩක', 'තියෙනව': 'තියෙන', 'කතා': 'කත', 'කරෝත්': 'කරෝත', 'ලොකුවට': 'ලොකුව', 'දකුණේ': 'දක', 'කෝන්දක්': 'කෝන්දක', 'කේනේක්': 'කේනේක', 'අයියව': 'අයිය', 'උස්සන්න': 'උස්සන්', 'උස්සපු': 'උස්ස', 'අයියා': 'අයි', 'පිරිමි': 'පිරි', 'යේක්': 'යේක', 'දැක්කේ': 'දැක්', 'ඔක්කෝම': 'ඔක්කෝ', 'පිරිමී': 'පිරිම', 'අදින': 'අදි', 'ගවුම්': 'ගවුම', 'හෝද': 'හෝ', 'ඇදගන්න': 'ඇදගන්', 'මට': 'ම', 'අයට': 'අය', 'දැක්ක': 'දැක්', 'හොදම': 'හොද', 'නපුංසකයෝ': 'නපුංසක', 'ප්ලීස්': 'ප්ලීස', 'මංකොල්ල': 'මංකොල්', 'කාරයෝ': 'කාර', 'කෝහෝම': 'කෝහෝ', 'වෙඩිතියල': 'වෙඩිතිය', 'දාන්න': 'දාන්', 'පොලිස්පති': 'පොලිස්ප', 'තුමනි': 'තුම', 'අයේත්': 'අයේත', 'මේවැනි': 'මේවැ', 'නොවෙන්න': 'නොවෙන්', 'මව්': 'මව', 'බිම': 'බි', 'මරණය': 'මරණ', 'මෙයයි': 'මෙ', 'තේමා': 'තේම', 'පාටය': 'පාට', 'යුත්තේ': 'යුත්ත', 'පෝන්': 'පෝන', 'කෝල්': 'කෝල', 'බයේ': 'බ', 'කාලය': 'කාල', 'තුවක්කුවක්': 'තුවක්කුවක', 'පැත්තකට': 'පැත්ත', 'වෙලා': 'වෙ', 'ඉදපංකො': 'ඉදපංක', 'මැරැම්කන්නැතිව': 'මැරැම්කන්නැති', 'මංකොලල': 'මංකොල', 'බැටන්පොල්ලෙන්': 'බැටන්පොල්ලෙන', 'ගියාම': 'ගියා', 'මැරැංකන': 'මැරැංක', 'මේක': 'මේ', 'මෝඩයෙක්': 'මෝඩයෙක', 'ඔවාට': 'ඔවා', 'කෙලින්': 'කෙලින', 'සීන්': 'සීන', 'ගහන්නෙ': 'ගහ', 'නැතුව': 'නැතු', 'මත්ද්': 'මත්ද', 'රව්': 'රව', 'යවලට': 'යවල', 'ඇබ්බැහි': 'ඇබ්බැ', 'ඔිිනි': 'ඔිි', 'පොලිසියට': 'පොලිසිය', 'විම': 'වි', 'දේසපාලකන්ගේ': 'දේසපාලකන්', 'කකුල්': 'කකුල', 'ලේවකනවා': 'ලේවක', 'කොල්ලා': 'කො', 'නිකන්': 'නිකන', 'මැරැැනා': 'මැරැැ', 'හරිහමන්': 'හරිහමන', 'දෙන්න': 'දෙන්', 'බැරිද': 'බැරි', 'ඇමති': 'ඇම', 'අයගේ': 'අය', 'වාහන': 'වාහ', 'ගනන්': 'ගනන', 'නාස්ති': 'නාස්', 'කරනවා': 'කර', 'දේකට': 'දේ', 'වියදම්': 'වියදම', 'කරන්නේ': 'කර', 'දිවියව': 'දිවිය', 'මරපු': 'මර', 'තරම්': 'තරම', 'නෙමේ': 'නෙ', 'වෙන්න': 'වෙන්', 'ඇති': 'ඇ', 'පොලිස්': 'පොලිස', 'නිලධාරියාව': 'නිලධාරියා', 'මිනිමරුවෝ': 'මිනිමරු', 'එකනේ': 'එකන', 'දරුණු': 'දරුණ', 'වචන': 'වච', 'නැත්තේ': 'නැත්ත', 'මිනි': 'මි', 'මරුවන්ට': 'මරුවන්', 'එරෙහිව': 'එරෙහි', 'සෝමාලියාවක්': 'සෝමාලියාවක', 'ශිට්': 'ශිට', 'පාතාලයේ': 'පාතාල', 'කියන': 'කිය', 'එකාවම': 'එකාව', 'මරල': 'මර', 'ඕනා': 'ඕ', 'ත්': 'ත', 'හමුදාවට': 'හමුදාව', 'පනවා': 'ප', 'හොරුන්ට': 'හොරුන්', 'නීති': 'නී', 'රීති': 'රී', 'ලිහිල්වුන': 'ලිහිල්වු', 'රටක්': 'රටක', 'දකුනේ': 'දකුන', 'විලි': 'ව', 'ඕකුන්වත්': 'ඕකුන්වත', 'පෝලිමට': 'පෝලිම', 'තියලා': 'තිය', 'දාපල්ලා': 'දා', 'අහිංසකයට': 'අහිංසකය', 'වුනා': 'වු', 'වෙනසෙ': 'වෙනස', 'පේනවනේ': 'පේනවන', 'නිතිය': 'නිති', 'නිලධාරීන්': 'නිලධාරීන', 'දකින්නේ': 'දකි', 'කනගාටුදායක': 'කනගාටුදාය', 'අපෙන්': 'අපෙන', 'සල්ලිවලින්': 'සල්ලිවලින', 'මහින්ද': 'මහින්', 'මහත්තයා': 'මහත්ත', 'නැතිකම': 'නැතික', 'අපිත්': 'අපිත', 'දැන්': 'දැන', 'බැන': 'බැ', 'මේකෙ': 'මේ', 'පෝස්ට්': 'පෝස්ට', 'දැම්මට': 'දැම්ම', 'මේවා': 'මේ', 'පිලිවෙලට': 'පිලිවෙල', 'මහින්දගෙ': 'මහින්ද', 'උනා': 'උ', 'ඒවාට': 'ඒවා', 'අසංවේදී': 'අසංවේද', 'උන': 'උ', 'මිනිස්සුන්ගෙ': 'මිනිස්සුන්', 'ඡන්ද': 'ඡන්', 'වල': 'ව', 'පිහිටෙන්': 'පිහිටෙන', 'ලැබුනු': 'ලැබු', 'තියෙන්න්නේ': 'තියෙන්', 'තුවාල': 'තුවා', 'බේත්': 'බේත', 'දුකයි': 'දුක', 'කාළකණ්නි': 'කාළකණ්', 'ජාතියක්': 'ජාතියක', 'පත්': 'පත', 'හමාරයි': 'හමාර', 'ඇත්තම': 'ඇත්ත', 'කියනවනම්': 'කියනවනම', 'හැතිකරය': 'හැතිකර', 'ලබු': 'ලබ', 'රජයේ': 'රජ', 'අයතන': 'අයත', 'හන': 'හ', 'හගන්න': 'හගන්', 'ඔන': 'ඔ', 'ඔක්කොම': 'ඔක්කො', 'බදු': 'බද', 'හොටු': 'හොට', 'අඬන': 'අඬ', 'හෙලු': 'හෙල', 'කෙල්ලොංගෙ': 'කෙල්ලොං', 'ලබ්බවල්': 'ලබ්බවල', 'කරපු': 'කර', 'වැඩේනම්': 'වැඩේනම', 'මොනතරම්': 'මොනතරම', 'ගින්දරක්': 'ගින්දරක', 'පපු': 'ප', 'ඇතුලේ': 'ඇතුල', 'පත්තු': 'පත්ත', 'අැද්ද': 'අැද්', 'තාත්තා': 'තාත්ත', 'අත්': 'අත', 'පා': 'ප', 'උස්මහත්': 'උස්මහත', 'දෙයියනේ': 'දෙයියන', 'උඹලට': 'උඹල', 'ආත්මෙම': 'ආත්මෙ', 'උගෙ': 'උ', 'අප්පගෙ': 'අප්ප', 'නීතියක්නෙ': 'නීතියක්න', 'යකො': 'යක', 'රංගෙ': 'රං', 'බන්ඩාරගෙ': 'බන්ඩාර', 'පුතා': 'පුත', 'පාරක්': 'පාරක', 'වාහනෙ': 'වාහන', 'හප්පලා': 'හප්ප', 'මිනිහෙක්': 'මිනිහෙක', 'පවුලක්': 'පවුලක', 'අබ්බගාතයො': 'අබ්බගාතය', 'කො': 'ක', 'ගෙයක්': 'ගෙයක', 'කුඩු': 'කුඩ', 'හොදටම': 'හොද', 'බීලා': 'බී', 'ඇතුලෙ': 'ඇතුල', 'කඩු': 'කඩ', 'පොලු': 'පොල', 'තියෙද්දිත්': 'තියෙද්දිත', 'ඌට': 'ඌ', 'වලින්ද': 'වලින්', 'ලංකාවෙ': 'ලංකා', 'ක්රියාත්මක': 'ක්රියාත්ම', 'කරන්නෙ': 'කර', 'කලකිරෙනවා': 'කලකිරෙ', 'මෙවා': 'මෙ', 'දැක්කම': 'දැක්ක', 'මොනද': 'මොන', 'අපෙ': 'අප', 'හාමුදුරුවෝ': 'හාමුදුරු', 'හාමුදුරුවන්ට': 'හාමුදුරුවන්', 'මෙහෙම': 'මෙහෙ', 'කරාට': 'කරා', 'දඬුවම': 'දඬුව', 'දේවා': 'දේ', 'හුත්තී': 'හුත්ත', 'හැමිනියන්': 'හැමිනියන', 'වෙසී': 'වෙස', 'තොට': 'තො', 'වේනවා': 'වේ', 'බැල්ලීයේ': 'බැල්ලී', 'ලොකු': 'ලො', 'තැන්වල': 'තැන්ව', 'පිරිහිලා': 'පිරිහි', 'ඉවරයි': 'ඉවර', 'බලයට': 'බලය', 'ධනයට': 'ධනය', 'ආගම': 'ආග', 'විකුණනවා': 'විකුණ', 'දන්නෙ': 'ද', 'උන්ට': 'උන්', 'වෙන්නේ': 'වෙ', 'මොකක්ද': 'මොකක්', 'මෙවට': 'මෙව', 'වගකිවයුතු': 'වගකිවයුත', 'වන්නේ': 'ව', 'පෙලෙ': 'පෙල', 'සක්කිලින්ට': 'සක්කිලින්', 'කන්න': 'කන්', 'ගූත්': 'ගූත', 'නැතිවෙනව': 'නැතිවෙන', 'හමුදාව': 'හමුදා', 'කෙමිකල්': 'කෙමිකල', 'මිසයිල': 'මිසයි', 'සමූලඝාතන': 'සමූලඝාත', 'සිදුකලා': 'සිදුක', 'හුත්තිගෙ': 'හුත්ති', 'කිව්වා': 'කිව්', 'ඒකම': 'ඒක', 'හුත්තිත්': 'හුත්තිත', 'කියනවා': 'කිය', 'වේසිට': 'වේසි', 'දඩුවම්': 'දඩුවම', 'බල්ලන්ට': 'බල්ලන්', 'අල්ලන': 'අල්ල', 'හමගහන්න': 'හමගහන්', 'ඕනි': 'ඕ', 'පනපිටින්': 'පනපිටින', 'හුත්තිට': 'හුත්ති', 'සතුටුයිලු': 'සතුටුයිල', 'රටහරක්ටිකටත්': 'රටහරක්ටිකටත', 'සතුටුඇති': 'සතුටුඇ', 'හාමුදුරැන්': 'හාමුදුරැන', 'ට': '', 'දුන්න': 'දුන්', 'දඩුවමට': 'දඩුවම', 'ඊටත්වැඩිය': 'ඊටත්වැඩි', 'මරාගන': 'මරාග', 'මැරෙන්න': 'මැරෙන්', 'හිතෙන්නෙ': 'හිතෙ', 'අපෙහාමුදුරැවන්ට': 'අපෙහාමුදුරැවන්', 'ජමිිබරේ': 'ජමිිබරෙ', 'අන්දපුඑකට': 'අන්දපුඑ', 'සංඝා': 'සංඝ', 'වහන්සේ': 'වහන්ස', 'නමකට': 'නම', 'විශේෂයෙන්': 'විශේෂයෙන', 'චිවරයට': 'චිවරය', 'අගෞරව': 'අගෞර', 'කල': 'ක', 'පාපයට': 'පාපය', 'නුඹට': 'නුඹ', 'මතු': 'මත', 'මතුත්': 'මතුත', 'වෙිවා': 'වෙි', 'හෙනගහපිය': 'හෙනගහ', 'ගැනු': 'ගැ', 'රටේන්': 'රටේන', 'එලවන්න': 'එලවන්', 'නොදකින්': 'නොදකින', 'ශාපවේවා': 'ශාපවේ', 'අමන': 'අම', 'පාලකයොන්ගේ': 'පාලකයොන්', 'වේසී': 'වේස', 'තැනටම': 'තැන', 'දගලනවා': 'දගල', 'පල': 'ප', 'වේසියෙ': 'වේසි', 'ලෝකෙන්ම': 'ලෝකෙන්', 'හැප්පිය': 'හැප්', 'වාහනේකට': 'වාහනේ', 'මැරෙන්නම': 'මැරෙන්න', 'බැල්ලිව': 'බැල්ලි', 'රටක': 'රට', 'ආගමික': 'ආගමි', 'නායකයකු': 'නායකය', 'දෙ': 'ද', 'කලානම්': 'කලානම', 'රාජ්': 'රාජ', 'ගෙෘරව': 'ගෙෘර', 'ජනතාවට': 'ජනතාව', 'දෙවියෝ': 'දෙවි', 'හෙන': 'හෙ', 'ගහපන්': 'ගහපන', 'දේට': 'දේ', 'තෝනමි': 'තෝන', 'විඳවලා': 'විඳව', 'හතම': 'හත', 'වැදියන්': 'වැදියන', 'ගහනවා': 'ගහ', 'වෙසිට': 'වෙසි', 'අපරාද': 'අපරා', 'පාවලා': 'පාව', 'රකින': 'රකි', 'සක්කිලි': 'සක්ක', 'තිට': 'ති', 'පට්ට': 'පට්', 'දම්මලා': 'දම්ම', 'හුකන්න': 'හුකන්', 'ඉනී': 'ඉන', 'ජම්පරේ': 'ජම්පර', 'ඕනී': 'ඕන', 'ආයේ': 'ආ', 'චීවරේ': 'චීවර', 'නොදාන්නම': 'නොදාන්න', 'එකට': 'එ', 'කඩේ': 'කඩ', 'පාවා': 'පා', 'ගැනිට': 'ගැනි', 'අපායෙ': 'අපා', 'කොටිදෙන': 'කොටිදෙ', 'සමාජෙට': 'සමාජෙ', 'හොද': 'හො', 'කරපන්': 'කරපන', 'දෙනක්': 'දෙනක', 'පඩංගු': 'පඩංග', 'දෙමළු': 'දෙමළ', 'එහෙමද': 'එහෙම', 'කැරී': 'කැර', 'බලු': 'බල', 'තොගෙ': 'තො', 'අම්මා': 'අම්ම', 'බල්ලොත්': 'බල්ලොත', 'ලැගලා': 'ලැග', 'තොව': 'තො', 'ජාතක': 'ජාත', 'තියෙන්නේ': 'තියෙ', 'තෙවරප්පෙරැමට': 'තෙවරප්පෙරැම', 'අහුඋනොත්': 'අහුඋනොත', 'මිනිස්සුන්ට': 'මිනිස්සුන්', 'මොනතරමි': 'මොනතර', 'කලත්': 'කලත', 'වැඩක්': 'වැඩක', 'වෙනස්කරන්න': 'වෙනස්කරන්', 'ඒදේ': 'ඒද', 'වැටහෙනවා': 'වැටහෙ', 'බහුතරයක්': 'බහුතරයක', 'පොලීසිය': 'පොලීසි', 'ආතල්': 'ආතල', 'දෙනවා': 'දෙ', 'පූජිතයෝ': 'පූජිත', 'උබට': 'උබ', 'තියෙන': 'තියෙ', 'මේවද': 'මේව', 'යුද්ධයේ': 'යුද්ධ', 'සැබෑම': 'සැබෑ', 'අවසානය': 'අවසාන', 'මේකයි': 'මේක', 'දැන්වත්': 'දැන්වත', 'විග්නේෂ්වරන්': 'විග්නේෂ්වරන', 'සිවාජිලිංගම්': 'සිවාජිලිංගම', 'සම්බන්ධන්': 'සම්බන්ධන', 'සුමන්තිරන්': 'සුමන්තිරන', 'කාළක්නි': 'කාළක්', 'දේශපාලකයින්': 'දේශපාලකයින', 'දේශපාලනයෙන්': 'දේශපාලනයෙන', 'අතුගා': 'අතුග', 'දැමිය': 'දැමි', 'පාර්ලිමේන්තුවේ': 'පාර්ලිමේන්තු', 'කටා': 'කට', 'දත්': 'දත', 'කාල': 'කා', 'කන්නි': 'කන්', 'රාජිතයා': 'රාජිත', 'මතක්': 'මතක', 'මගේ': 'ම', 'මාළු': 'මාළ', 'නටනවා': 'නට', 'ස්වාමීන්': 'ස්වාමීන', 'හිමියනට': 'හිමියන', 'සෙබළුන්ගෙන්': 'සෙබළුන්ගෙන', 'ලබාගන්න': 'ලබාගන්', 'බුදුන්ගෙන්': 'බුදුන්ගෙන', 'ලබාගත්තේ': 'ලබාගත්ත', 'නැතිකොට': 'නැතිකො', 'මොකෙක්ගෙන්වත්': 'මොකෙක්ගෙන්වත', 'ගනීද': 'ගනී', 'තම': 'ත', 'හරක්': 'හරක', 'ඕවා': 'ඕ', 'හොඳට': 'හොඳ', 'පිළිගන්නවා': 'පිළිගන්', 'හරකුන්ට': 'හරකුන්', 'ගහක්': 'ගහක', 'හිටවන්න': 'හිටවන්', 'ගියත්': 'ගියත', 'කුඩයක්': 'කුඩයක', 'අල්ලන්න': 'අල්ලන්', 'ඔනේ': 'ඔන', 'බහින්න': 'බහින්', 'වලකුත්': 'වලකුත', 'හාරලා': 'හාර', 'පවු': 'පව', 'කාලෙකට': 'කාලෙ', 'පාලත්': 'පාලත', 'සභා': 'සභ', 'මන්ත්': 'මන්ත', 'රී': 'ර', 'ජුන්ඩේක්': 'ජුන්ඩේක', 'මහතෙක්': 'මහතෙක', 'හැදුලුම්': 'හැදුලුම', 'ඉල්ලූවා': 'ඉල්ලූ', 'දාපු': 'දා', 'ගෙම්බර්': 'ගෙම්බර', 'ලස්සන': 'ලස්ස', 'මුට්ටියක්': 'මුට්ටියක', 'කියලයි': 'කියල', 'මටනම්': 'මටනම', 'තා': 'ත', 'දවසකින්': 'දවසකින', 'දාගෙන': 'දාගෙ', 'යන්නේ': 'ය', 'ජයරත්නගෙ': 'ජයරත්න', 'නෑදෑයෙක්ද': 'නෑදෑයෙක්', 'කොහෙද': 'කොහෙ', 'වැස්සොත්': 'වැස්සොත', 'ශොට්': 'ශොට', 'වෙල': 'වෙ', 'මැරෙන්නෙ': 'මැරෙ', 'දියුනු': 'දියු', 'වුන්': 'වුන', 'කනට': 'කන', 'ගහලා': 'ගහ', 'මෙක': 'මෙ', 'පෙන්නපල්ලා': 'පෙන්න', 'දියුණුවක්': 'දියුණුවක', 'හිතනවා': 'හිත', 'වැරදිලා': 'වැරදි', 'සහෝදරයා': 'සහෝදර', 'පාඩම්': 'පාඩම', 'කරපල්ලකෝ': 'කරපල්ලක', 'පැය': 'පැ', 'පෝලීමේ': 'පෝලී', 'ඉන්නේ': 'ඉ', 'අමාරුවෙන්': 'අමාරුවෙන', 'පුටුවක්': 'පුටුවක', 'අල්ලගන්න': 'අල්ලගන්', 'ඕනිද': 'ඕනි', 'වාඩිවෙලා': 'වාඩිවෙ', 'බලන්න': 'බලන්', 'ආපු': 'ආ', 'අය': 'අ', 'මෙතනින්': 'මෙතනින', 'විඩීයෝ': 'විඩී', 'අප්සට්': 'අප්සට', 'පේන්නේ': 'පේ', 'යක්කුන්ට': 'යක්කුන්', 'ලජ්ජා': 'ලජ්ජ', 'මුන්ට': 'මුන්', 'සමානකරලා': 'සමානකර', 'ඒකෙන්': 'ඒකෙන', 'මේකෙන්': 'මේකෙන', 'උනේ': 'උන', 'ගීතට': 'ගීත', 'හිටිය': 'හිටි', 'නැතිවුන': 'නැතිවු', 'ගෙන්': 'ගෙන', 'උනාට': 'උනා', 'ඉඩල': 'ඉඩ', 'හිටලා': 'හිට', 'දෙවලුත්': 'දෙවලුත', 'නොකියන': 'නොකිය', 'වම': 'ව', 'බයිසන්ලට': 'බයිසන්ල', 'සුරංගනාවියන්': 'සුරංගනාවියන', 'මීට': 'මී', 'හිතෙන්නේ': 'හිතෙ', 'ඩයල්': 'ඩයල', 'දුප්පත්': 'දුප්පත', 'සියගනනකට': 'සියගනන', 'පැල්පතක්': 'පැල්පතක', 'තනාදෙන්න': 'තනාදෙන්', 'තීබු': 'තීබ', 'අපුරුව': 'අපුරු', 'පිහි': 'පි', 'ඇනුම්': 'ඇනුම', 'විනෝද': 'විනෝ', 'රීඩා': 'රීඩ', 'රැසකුත්': 'රැසකුත', 'නෙහ්': 'නෙහ', 'කෑමකඩත්': 'කෑමකඩත', 'තියෙනවද': 'තියෙනව', 'වගේද': 'වගේ', 'එනවද': 'එනව', 'ගෑන': 'ගෑ', 'දන්න': 'දන්', 'කියපන්': 'කියපන', 'කන්ටැක්': 'කන්ටැක', 'ඔනී': 'ඔන', 'ඊළඟට': 'ඊළඟ', 'මේවල': 'මේව', 'විදිහට': 'විදිහ', 'ගණන්': 'ගණන', 'ටිකට්': 'ටිකට', 'නිකුත්': 'නිකුත', 'අන්තිමේ': 'අන්ති', 'යාඩ්': 'යාඩ', 'ගෙනල්ලා': 'ගෙන', 'නැවැත්තුවාම': 'නැවැත්තුවා', 'ආරක්ෂාවත්': 'ආරක්ෂාවත', 'රෑට': 'රෑ', 'ෆෑන්': 'ෆෑන', 'පන්නන': 'පන්න', 'අයත්': 'අයත', 'ඇතුල': 'ඇතු', 'සතියකට': 'සතිය', 'දෙසැරයක්': 'දෙසැරයක', 'පිරිසිදු': 'පිරිසිද', 'විශේෂයෙන්ම': 'විශේෂයෙන්', 'ටොයිලට්': 'ටොයිලට', 'මසෙට': 'මසෙ', 'ක්ලීන්': 'ක්ලීන', 'කලොත්': 'කලොත', 'අවුරුදු': 'අවුරුද', '5ක්': '5ක', 'ලස්සනට': 'ලස්සන', 'තියාගතහැකි': 'තියාගතහැ', 'ලංකාවට': 'ලංකාව', 'ඕව': 'ඕ', 'හරියන්නෙ': 'හරිය', 'සුපෝකබෝගී': 'සුපෝකබෝග', 'දේවල්': 'දේවල', 'විදින්න': 'විදින්', 'හුරුකරගන්න': 'හුරුකරගන්', 'උන්ටත්': 'උන්ටත', 'ඉතුරුකරල': 'ඉතුරුකර', 'සිංහලනෙ': 'සිංහලන', 'සිංහයන්ගෙන්ලුනෙ': 'සිංහයන්ගෙන්ලුන', 'පැවතගෙන': 'පැවතගෙ', 'එන්නෙ': 'එ', 'අපිට': 'අපි', 'රෙන්': 'රෙන', 'ඒව': 'ඒ', 'ගෙනත්': 'ගෙනත', 'ඒවනම්': 'ඒවනම', 'යනව': 'යන', 'මම': 'ම', 'දැකල': 'දැක', 'තියනවනෙ': 'තියනවන', 'අලුතින්ම': 'අලුතින්', 'ගෙනාපු': 'ගෙනා', 'ඔපිස්': 'ඔපිස', 'සෙට්': 'සෙට', 'ට්': 'ට', 'රිප්': 'රිප', 'සිගිති': 'සිගි', 'කාරයො': 'කාරය', 'බොකක්': 'බොකක', 'ලෝඩ්වෙලා': 'ලෝඩ්වෙ', 'කෝච්චියෙ': 'කෝච්චි', 'ගියොත්': 'ගියොත', 'පුදුම': 'පුදු', 'හාස්කමක්': 'හාස්කමක', 'බොක': 'බො', 'එනව': 'එන', 'ඒකටනම්': 'ඒකටනම', 'දුම්': 'දුම', 'රිය': 'රි', 'දෙපාර්තුමේන්තුවත්': 'දෙපාර්තුමේන්තුවත', 'වගකියන්න': 'වගකියන්', 'කෝච්චිය': 'කෝච්චි', 'අවසාන': 'අවසා', 'ආවහම': 'ආවහ', 'නඩත්තුවක්': 'නඩත්තුවක', 'පහුවදා': 'පහුවද', 'උදේට': 'උදේ', 'එන්ජිම': 'එන්ජි', 'පැත්තට': 'පැත්ත', 'අමුනල': 'අමුන', 'ඇදගෙන': 'ඇදගෙ', 'පේන්නෙ': 'පේ', 'ඒකට': 'ඒ', 'වරදක්': 'වරදක', 'කියන්නත්': 'කියන්නත', 'සේවකයො': 'සේවකය', 'පඩියක්': 'පඩියක', 'කොරන්න': 'කොරන්', 'රටින්': 'රටින', 'ණය': 'ණ', 'ගිහිනුත්': 'ගිහිනුත', 'පාර්ලිමේන්තුව': 'පාර්ලිමේන්තු', 'නඩත්තු': 'නඩත්ත', 'තේරෙන්නෙ': 'තේරෙ', 'කරල': 'කර', 'ටයි': 'ට', 'තෙප්පමක්': 'තෙප්පමක', 'හදාගෙන': 'හදාගෙ', 'කමක්': 'කමක', 'ජීවත්': 'ජීවත', 'රටකට': 'රට', 'පලයල්ල': 'පලයල්', 'අදහස්': 'අදහස', 'ඇතුලේම': 'ඇතුලේ', 'පල්': 'පල', 'ස්ටේෂන්': 'ස්ටේෂන', 'වලයි': 'වල', 'දුම්රිය': 'දුම්රි', 'ඇතුලෙයි': 'ඇතුලෙ', 'දැනෙන': 'දැනෙ', 'කළා': 'කළ', 'භාෂා': 'භාෂ', '3න්ම': '3න්', 'පින්තූරත්': 'පින්තූරත', 'වෙනසක්': 'වෙනසක', 'පොටෝ': 'පොට', 'ටිකම': 'ටික', 'මාසයකින්': 'මාසයකින', 'සීට්': 'සීට', 'ටිකයි': 'ටික', 'එන්ජිමයි': 'එන්ජිම', 'ඉතුරු': 'ඉතුර', 'ගලවනවා': 'ගලව', 'සත්තයි': 'සත්ත', 'එඋන්': 'එඋන', 'මිනිස්සුන්ගෙන්': 'මිනිස්සුන්ගෙන', 'පරිස්සම්': 'පරිස්සම', 'කරගන්න': 'කරගන්', 'ඔෆිස්': 'ඔෆිස', 'අමුතුම': 'අමුතු', 'සත්තු': 'සත්ත', 'එකෙම': 'එකෙ', 'ගෑනු': 'ගෑ', 'එකතු': 'එකත', 'හුරනවා': 'හුර', 'ගොඩක්ම': 'ගොඩක්', 'අහිගුන්ටකයෝ': 'අහිගුන්ටක', 'විනයක්': 'විනයක', 'පිරහෙමින්': 'පිරහෙමින', 'තිබෙන': 'තිබෙ', 'ගන්නා': 'ගන්', 'කොපමන': 'කොපම', 'රැකගනීවිද': 'රැකගනීවි', 'මන්දා': 'මන්ද', 'මිනිසුනේ': 'මිනිසුන', 'පොදු': 'පොද', 'දේපල': 'දේප', 'රැකගනිව්': 'රැකගනිව', 'කුරුටු': 'කුරුට', 'ගා': 'ග', 'අපවිත්': 'අපවිත', 'නොකරව්': 'නොකරව', 'ෂීට්': 'ෂීට', 'කඩලා': 'කඩ', 'ජරා': 'ජර', 'දැක්කොත්': 'දැක්කොත', 'පොන්නයෝ': 'පොන්න', 'බලන්': 'බලන', 'ඉන්නැතුව': 'ඉන්නැතු', 'පුරෝල': 'පුරෝ', 'පැලෙන්න': 'පැලෙන්', 'පෙන්න': 'පෙන්', 'මගිජනතාව': 'මගිජනතා', 'දුමිරිය': 'දුමිරි', 'දෙපාර්තමේන්තු': 'දෙපාර්තමේන්ත', 'සේවකයන්': 'සේවකයන', 'තුත්': 'තුත', 'මෙය': 'මෙ', 'රැකගන්න': 'රැකගන්', 'කටයුතු': 'කටයුත', 'කලයුතුයි': 'කලයුතු', 'ගමන්': 'ගමන', 'වාරයක්': 'වාරයක', 'අවසන': 'අවස', 'හොදින්': 'හොදින', 'අඩුපාඩු': 'අඩුපාඩ', 'සැකසිය': 'සැකසි', 'රැහුනු': 'රැහු', 'ෆැන්': 'ෆැන', 'මකුනුදැල්': 'මකුනුදැල', 'බැදිල': 'බැදි', 'දුවිලිවලින්': 'දුවිලිවලින', 'පිරිල': 'පිරි', 'මෙව': 'මෙ', 'දෙගොල්ල': 'දෙගොල්', 'දායක': 'දාය', 'වියයුතුමයි': 'වියයුතුම', 'එවුන්ට': 'එවුන්', 'ලියන්න': 'ලියන්', 'සිට්': 'සිට', 'ඉරන්න': 'ඉරන්', 'කඩල': 'කඩ', 'ඉරුගු': 'ඉරුග', 'කාපු': 'කා', 'එවා': 'එ', 'දලා': 'ද', 'ර්ප්': 'ර්ප', 'ගිහිල්ලා': 'ගිහි', 'එන්න': 'එන්', 'අලුත්': 'අලුත', 'භාන්ඩේ': 'භාන්ඩ', 'අපො': 'අප', 'ඉංදියන්': 'ඉංදියන', 'ජාරාව': 'ජාරා', 'ඉස්සල්ලා': 'ඉස්ස', 'පුරුදු': 'පුරුද', 'වේයල්ලා': 'වේය', 'ගොටු': 'ගොට', 'කුනු': 'කු', 'මල': 'ම', 'මානසික': 'මානසි', 'ලෙඩ්ඩු': 'ලෙඩ්ඩ', 'ලියන': 'ලිය', 'නවත්තන්න': 'නවත්තන්', 'හොයපල්ලා': 'හොය', 'ඇද': 'ඇ', 'කුද': 'කු', 'කොච්චිය': 'කොච්චි', 'අගුලාන': 'අගුලා', 'කොරලවෙල්ල': 'කොරලවෙල්', 'මොරටුව': 'මොරටු', 'ස්තාන': 'ස්තා', 'කොච්චියේ': 'කොච්චි', 'පහසුකම්': 'පහසුකම', 'මාසයක්': 'මාසයක', 'යනකොට': 'යනකො', 'පෙත්තේ': 'පෙත්ත', 'ගෙවල්': 'ගෙවල', 'තියෙයි': 'තියෙ', 'කියන්නේ': 'කිය', 'අවත්': 'අවත', 'එවගේ': 'එව', 'විදිහිට': 'විදිහි', 'පරිස්සමෙන්': 'පරිස්සමෙන', 'දෙවල්': 'දෙවල', 'රැක': 'රැ', 'එකාම': 'එකා', 'සතියෙන්': 'සතියෙන', 'කයි': 'ක', 'මෙව්වා': 'මෙව්', 'නෑනෙ': 'නෑන', 'එකෙ': 'එ', 'චුයින්ගම්': 'චුයින්ගම', 'වඩේ': 'වඩ', 'කර්ටන්': 'කර්ටන', 'පිහිදලා': 'පිහිද', 'කම්මැලිකමට': 'කම්මැලිකම', 'කුශන්': 'කුශන', 'කැඩුන': 'කැඩු', 'අව්ලක්': 'අව්ලක', 'හදල': 'හද', 'රෙපයාර්': 'රෙපයාර', 'ගෙනියලා': 'ගෙනිය', 'ගලවල': 'ගලව', 'කවුන්ටරෙට': 'කවුන්ටරෙ', 'වටේට': 'වටේ', 'ස්ටෙසමේ': 'ස්ටෙස', 'නවත්තනකොටම': 'නවත්තනකො', 'නගින': 'නගි', 'ඉන්නොනෙ': 'ඉන්නොන', 'බූමිතෙල්': 'බූමිතෙල', 'වැදිච්ච': 'වැද', 'ලා': '', 'ඕකෙ': 'ඕ', 'තීන': 'තී', 'පේන': 'පේ', 'අතුගාල': 'අතුගා', 'අනිත්ව': 'අනිත්', 'ශීටඅස්සට': 'ශීටඅස්ස', 'තල්ලු': 'තල්ල', 'ලොකුම': 'ලොකු', 'සේවය': 'සේව', 'සතියයි': 'සති', 'ගාගා': 'ගාග', 'කමෙන්ට්': 'කමෙන්ට', 'දාන්නේ': 'දා', 'පිටරට': 'පිටර', 'වෙන්නැති': 'වෙන්නැ', 'මාසයයි': 'මාස', 'එයාගෙ': 'එයා', 'ටොයියොන්ට': 'ටොයියොන්', 'ජෙප්පොන්ට': 'ජෙප්පොන්', 'පේන්න': 'පේන්', 'ලයික්': 'ලයික', 'රශ්නේ': 'රශ්න', 'අඩු': 'අඩ', 'සුවිච්': 'සුවිච', 'එකෙන්': 'එකෙන', 'හරියන්': 'හරියන', 'අඩුයි': 'අඩු', 'සමහරුන්ට': 'සමහරුන්', 'මොලයක්': 'මොලයක', 'මුදලින්': 'මුදලින', 'මේව': 'මේ', 'උපරිම': 'උපරි', 'කීයක්': 'කීයක', 'තියෙයිද': 'තියෙයි', 'ටිකත්': 'ටිකත', 'ගලවගෙන': 'ගලවගෙ', 'නොගියොත්': 'නොගියොත', 'මගී': 'මග', 'ගෙන්නපුව': 'ගෙන්නපු', 'ගෙන්නන': 'ගෙන්න', 'එවුන්ව': 'එවුන්', 'කාර්': 'කාර', 'යාල': 'යා', 'රියක': 'රිය', 'දවසක්': 'දවසක', 'යවන්න': 'යවන්', 'ගාස්තු': 'ගාස්ත', 'නහුතෙට': 'නහුතෙ', 'වෙලාවට': 'වෙලාව', 'දෙපැත්තට': 'දෙපැත්ත', 'පැද්දෙන්නෙ': 'පැද්දෙ', 'ඉල': 'ඉ', 'ඇට': 'ඇ', 'කඩා': 'කඩ', 'විදිහෙ': 'විදිහ', 'හදපල්ලා': 'හද', 'ඉහල': 'ඉහ', 'සියට': 'සිය', 'පහලට': 'පහල', 'ආදර්ශයක්': 'ආදර්ශයක', 'නොදී': 'නොද', 'නොහැක': 'නොහැ', 'සිංගප්පූරුව': 'සිංගප්පූරු', 'එයට': 'එය', 'ආදර්ශයයි': 'ආදර්ශ', 'ඉහලින්': 'ඉහලින', 'යහපත්': 'යහපත', 'ආදර්ශය': 'ආදර්ශ', 'කුමක්ද': 'කුමක්', 'රැකගනිල්ලා': 'රැකගනි', 'ඇහැවගේ': 'ඇහැව', 'වවුලෝ': 'වවුල', 'හැමදාම': 'හැමදා', 'තොපිට': 'තොපි', 'වනසන': 'වනස', 'දැක්කොත්': 'දැක්කොත', 'හැමෝම': 'හැමෝ', 'එකාවගේ': 'එකාව', 'නැගීහිටපල්ලා': 'නැගීහිට', 'අදාල': 'අදා', 'නෑනේ': 'නෑන', 'නොහිතා': 'නොහිත', 'ජනතාව': 'ජනතා', 'වගකීමවත්': 'වගකීමවත', 'කරමු': 'කර', 'දුම්රියේ': 'දුම්රි', 'අවසානයේදී': 'අවසානයේද', 'විදිය': 'විදි', 'රටටම': 'රට', 'පෙන්වන්න': 'පෙන්වන්', 'යෝජනා': 'යෝජ', 'මොකුත්': 'මොකුත', 'කලේ': 'කල', 'බලා': 'බ', 'ගනිල්ල': 'ගනිල්', 'ආන්ඩුවක්': 'ආන්ඩුවක', 'පලක්': 'පලක', 'වෙනුවෙන': 'වෙනුවෙ', 'කවදාවත්': 'කවදාවත', 'ලෝකෙට': 'ලෝකෙ', 'ණයකලේ': 'ණයකල', 'නෙළුම්': 'නෙළුම', 'පොකුනු': 'පොකු', 'ණයකරපු': 'ණයකර', 'සල්ලිවල': 'සල්ලිව', 'වටිනවද': 'වටිනව', 'ඕවට': 'ඕව', 'දකිද්දී': 'දකි', 'ඉන්දියාව': 'ඉන්දියා', 'ඉස්සරහින්ද': 'ඉස්සරහින්', 'ඔකෙ': 'ඔ', 'යන්නෙ': 'ය', 'එව්න්': 'එව්න', 'ටිකමනෙ': 'ටිකමන', 'තුනක්': 'තුනක', 'යද්දී': 'ය', 'කහල': 'කහ', 'ඉන්දීය': 'ඉන්දී', 'දුම්රියන්': 'දුම්රියන', 'එන්නම': 'එන්න', 'අසාර්තකයි': 'අසාර්තක', 'ඒවම': 'ඒව', 'ගෙන්වන්නෙ': 'ගෙන්ව', 'මේකෙනුත්': 'මේකෙනුත', 'කොමිස්': 'කොමිස', 'එන': 'එ', 'නිසාද': 'නිසා', 'ඉන්දියාවේ': 'ඉන්දියා', 'කොලනියක්': 'කොලනියක', 'රටවල': 'රටව', 'නැතිද': 'නැති', 'ඔකොම': 'ඔකො', 'තිබිලා': 'තිබි', 'අන්තිමට': 'අන්තිම', 'බ්': 'බ', 'රේක්': 'රේක', 'උනොත්': 'උනොත', 'අවුල': 'අවු', 'ලංකාවටද': 'ලංකාවට', 'ගේන්නෙ': 'ගේ', 'පලවෙනි': 'පලවෙ', 'දවසෙම': 'දවසෙ', 'ඕකේ': 'ඕ', 'ගලවන්': 'ගලවන', 'යයි': '', 'කෑම': 'කෑ', 'ගැනීම': 'ගැනී', 'තහනම්': 'තහනම', 'ඒකයි': 'ඒක', 'පිරිසිදුවට': 'පිරිසිදුව', 'මේවායේ': 'මේවා', 'විදියත්': 'විදියත', 'සැලකිලිමත්': 'සැලකිලිමත', 'කරුනා': 'කරු', 'පරෙස්සම්': 'පරෙස්සම', 'ඔස්තාර්ල': 'ඔස්තාර්', 'නග්ගල': 'නග්ග', 'රත්තරන්': 'රත්තරන', 'අපේක්ෂකයා': 'අපේක්ෂක', 'දැනගන්න': 'දැනගන්', 'දැන්ම': 'දැන්', 'මිස්': 'මිස', 'මංගල': 'මංග', 'මුදු': 'මුද', 'මාල': 'මා', 'වළලු': 'වළල', 'රන්': 'රන', 'විශ්වාසයි': 'විශ්වාස', 'පවතියි': 'පවති', 'වගකීමට': 'වගකීම', 'බැඳී': 'බැඳ', 'සිටියි': 'සිටි', 'රෝ': 'ර', 'ස්පොන්සර්': 'ස්පොන්සර', 'වැඩිවෙලාද': 'වැඩිවෙලා', 'එනකම්': 'එනකම', 'මගබලන්': 'මගබලන', 'කිය්ලා': 'කිය්', 'නෙමේද': 'නෙමේ', 'හිටියෙ': 'හිටි', 'බුදුන්': 'බුදුන', 'වහන්සේගේ': 'වහන්සේ', 'දේශනා': 'දේශ', 'ඇත්තේ': 'ඇත්ත', 'සමුද්': 'සමුද', 'විරිතට': 'විරිත', 'අනුකූලවයි': 'අනුකූලව', 'පිරිතේ': 'පිරිත', 'ලියා': 'ලි', 'අනුවමයි': 'අනුවම', 'සෙත්': 'සෙත', 'ශක්තිය': 'ශක්ති', 'ලබාගැනිමට': 'ලබාගැනිම', 'ආකාරයෙන්': 'ආකාරයෙන', 'සජ්ජායනය': 'සජ්ජායන', 'අහල': 'අහ', 'තෙරුවනේ': 'තෙරුවන', 'ගුණ': 'ග', 'කෙරෙහි': 'කෙරෙ', 'පහදවා': 'පහද', 'නැතිව': 'නැති', 'තාලයයි': 'තාල', 'භාෂාවයි': 'භාෂාව', 'වාද': 'වා', 'කවදානම්': 'කවදානම', 'සංසාරයෙන්': 'සංසාරයෙන', 'උත්සාහයක්': 'උත්සාහයක', 'පිස්සො': 'පිස්ස', 'කියයි': 'කි', 'සුනකයි': 'සුනක', 'සුනක': 'සුන', 'හූ': 'හ', 'කිය': '', 'නටයි': 'නට', 'මහමෙව්නා': 'මහමෙව්', 'පිරිසයට': 'පිරිසය', 'සත්ව': 'සත්', 'කොට්ඨාසය': 'කොට්ඨාස', 'අදාලම': 'අදාල', 'වෙලාවකුත්': 'වෙලාවකුත', 'වහන්සේලා': 'වහන්සේ', 'මෙරක්': 'මෙරක', 'ස්වාමින්වහන්සේගේ': 'ස්වාමින්වහන්සේ', 'යුගයයි': 'යුග', 'ස්වාමින්වහන්සේගෙ': 'ස්වාමින්වහන්සේ', 'මාර්ගයේ': 'මාර්ග', 'යනවා': 'ය', 'පින්වත්': 'පින්වත', 'ස්වාමින්වහන්සේලා': 'ස්වාමින්වහන්සේ', 'පහල': 'පහ', 'වන්දනාවට': 'වන්දනාව', 'දොස්': 'දොස', 'නගන': 'නග', 'දෙනාටයි': 'දෙනාට', 'බොරුවට': 'බොරුව', 'ආර්': 'ආර', 'උපවාදයට': 'උපවාදය', 'ලක්': 'ලක', 'මා': 'ම', 'හිමිගේ': 'හිමි', 'බන': 'බ', 'පදයක්වත්': 'පදයක්වත', 'අසා': 'අස', 'වහසේගේ': 'වහසේ', 'පිලිවෙතට': 'පිලිවෙත', 'නගන්න': 'නගන්', 'කා': '', 'ලගත්': 'ලගත', 'හිමියන්ගේ': 'හිමියන්', 'සීලයටවත්': 'සීලයටවත', 'ගුනයටවත්': 'ගුනයටවත', 'ලගටවත්': 'ලගටවත', 'සිදු': 'සිද', 'අති': 'අ', 'මහත්': 'මහත', 'ස්': 'ස', 'රද්දාව': 'රද්දා', 'වැඩෙනවා': 'වැඩෙ', 'හැකි': 'හැ', 'රත්නයේ': 'රත්න', 'සිහිපත්': 'සිහිපත', 'කිරීමයි': 'කිරීම', 'වහන්සේලාගේ': 'වහන්සේලා', 'දේශනාවෙන්': 'දේශනාවෙන', 'සුවපත්': 'සුවපත', 'වුනෙමි': 'වුනෙ', 'කුසලය': 'කුසල', 'අනුමෝදන්': 'අනුමෝදන', 'බිරුවට': 'බිරුව', 'කදු': 'කද', 'පාත්': 'පාත', 'බුදු': 'බුද', 'සසුන': 'සසු', 'බැබලේවා': 'බැබලේ', 'දහම්පාසලකට': 'දහම්පාසල', 'ගියේ': 'ගි', 'එකාලාට': 'එ', 'සෝක්': 'සෝක', 'ෂෝ': 'ෂ', 'ධර්මය': 'ධර්ම', 'පස්සෙ': 'පස්ස', 'එකාලා': 'එ', 'විකුර්ති': 'විකුර්', 'බුදුහාමුදරුවෝ': 'බුදුහාමුදරු', 'කීව': 'කී', 'සාසනේ': 'සාසන', 'සාසනෙන්ම': 'සාසනෙන්', 'බිහිවෙලා': 'බිහිවෙ', 'වත්තල': 'වත්ත', 'සිලරතන': 'සිලරත', 'පිරිත්': 'පිරිත', 'අහපන්': 'අහපන', 'තෙරෙයි': 'තෙරෙ', 'ව්කුර්ති': 'ව්කුර්', 'නෙති': 'නෙ', 'මේවාට': 'මේවා', 'නිවෙනවා': 'නිවෙ', 'කාලේ': 'කාල', 'ගීතිකා': 'ගීති', 'ගන': 'ග', 'දර්මය': 'දර්ම', 'සැකවින්': 'සැකවින', 'සොයා': 'සො', 'සත්': 'සත', 'තමන්': 'තමන', 'අවබෝද': 'අවබෝ', 'බුදුරජාණන්වහන්සේගේ': 'බුදුරජාණන්වහන්සේ', 'දේශනාවයි': 'දේශනාව', 'කියා': 'කි', 'තමන්ගේ': 'තමන්', 'ඉදිරිපත්': 'ඉදිරිපත', 'කරන්නාවුන්': 'කරන්නාවුන', 'දේශයක්': 'දේශයක', 'නිර්වානය': 'නිර්වාන', 'වසා': 'වස', 'රයෝජන': 'රයෝජ', 'තකා': 'ත', 'වැඩකරන්නාවුන්': 'වැඩකරන්නාවුන', 'අදුන': 'අදු', 'පුද': 'පු', 'පුජා': 'පුජ', 'රම': 'ර', 'තුල': 'තු', 'නිවනක්': 'නිවනක', 'දිගු': 'දිග', 'කරගන්නා': 'කරගන්', 'මගක්': 'මගක', 'පමනි': 'පම', 'නොපමාව': 'නොපමා', 'කුසල්': 'කුසල', 'සාක්ශාත්': 'සාක්ශාත', 'කරගනිත්වා': 'කරගනි', 'හටද': 'හට', 'අවබෝදය': 'අවබෝද', 'ඇත්තවුන්': 'ඇත්තවුන', 'තෙරුම්': 'තෙරුම', 'රිපිටකය': 'රිපිටක', 'කොටස්': 'කොටස', 'ඉංග්': 'ඉංග', 'රීසියෙන්': 'රීසියෙන', 'පල්ලියේ': 'පල්ලි', 'ගයන': 'ගය', 'විධියට': 'විධිය', 'රීසියට': 'රීසිය', 'පරිවර්තනය': 'පරිවර්තන', 'සංගීතිය': 'සංගීති', 'මුසු': 'මුස', 'රතිමා': 'රතිම', 'කලාව': 'කලා', 'පිටින්ම': 'පිටින්', 'නිරුවත්': 'නිරුවත', 'අඹල': 'අඹ', 'පිරිසක්': 'පිරිසක', 'විවේචනය': 'විවේචන', 'හදපු': 'හද', 'හදනවා': 'හද', 'ආරංචියි': 'ආරංචි', 'නොදන්නවා': 'නොදන්', 'හාමුදුරුවන්ගේ': 'හාමුදුරුවන්', 'වැඩපිළිවෙල': 'වැඩපිළිවෙ', 'දන්නේ': 'ද', 'ඉඳල': 'ඉඳ', 'ගලිගමුවේ': 'ගලිගමු', 'දීල': 'දී', 'හාමුදුරුවන්ව': 'හාමුදුරුවන්', 'අපවත්': 'අපවත', 'හැදුවේ': 'හැදු', 'කව්ද': 'කව්', 'හාමුදුරුවන්ගෙන්ම': 'හාමුදුරුවන්', 'ඇහුවනම්': 'ඇහුවනම', 'තිබුන': 'තිබු', 'මහාචාර්ය': 'මහාචාර්', 'ඉඳුරාගාරේ': 'ඉඳුරාගාර', 'ධර්මරතන': 'ධර්මරත', 'ඝාතක': 'ඝාත', 'පොතක්': 'පොතක', 'ලියල': 'ලිය', 'පොතේ': 'පොත', 'උන්නාන්සේගේ': 'උන්නාන්සේ', 'කෙරුවාව': 'කෙරුවා', 'හොයාගෙන': 'හොයාගෙ', 'කියවන්න': 'කියවන්', 'බොරු': 'බොර', 'අපහාසයක්': 'අපහාසයක', 'පාපයේ': 'පාප', 'පළල': 'පළ', 'දන්නවා': 'දන්', 'බය': 'බ', 'චෝදනාව': 'චෝදනා', 'හොඳාකාරවම': 'හොඳාකාරව', 'දන්නා': 'දන්', 'නිසයි': 'නිස', 'පරම': 'පර', 'යය': 'ය', 'මමත්': 'මමත', 'දෙකටම': 'දෙක', 'ඉඳන්ම': 'ඉඳන්', 'කාලයක්': 'කාලයක', 'කතෝලික': 'කතෝලි', 'කෙල්ලෙක්': 'කෙල්ලෙක', 'නිරායාසයෙන්': 'නිරායාසයෙන', 'නිස්කලංක': 'නිස්කලං', 'වුණා': 'වුණ', 'කෙල්ල': 'කෙල්', 'ගියා': 'ගි', 'දරුවා': 'දරු', 'තිරණය': 'තිරණ', 'පලවැනි': 'පලවැ', 'එකා': 'එ', 'දෙක': 'දෙ', 'අරකයි': 'අරක', 'දෙන්නවම': 'දෙන්නව', 'කැමතිනම්': 'කැමතිනම', 'බෞතීස්ම': 'බෞතීස්', 'කැමති': 'කැම', 'මමයි': 'මම', 'මල්ලියි': 'මල්ලි', 'දෙන්නම': 'දෙන්න', 'ඉස්කෝල': 'ඉස්කෝ', 'දෙකකට': 'දෙ', 'නිරාගමික': 'නිරාගමි', 'දෙන්නා': 'දෙන්', 'බැන්දයින්': 'බැන්දයින', 'ඉපදෙන': 'ඉපදෙ', 'ලමයා': 'ලම', 'ඊලගට': 'ඊලග', 'රශ්නයක්ද': 'රශ්නයක්', 'ලමයෙක්': 'ලමයෙක', 'අදත්': 'අදත', 'යාළුවෝ': 'යාළු', 'ගරු': 'ගර', 'කාදිනල්': 'කාදිනල', 'තුමාට': 'තුමා', 'පළු': 'පළ', 'බනිනවා': 'බනි', 'තුමා': 'තුම', 'ඔයාලගෙ': 'ඔයාල', 'දකුණු': 'දකුණ', 'කම්මුලට': 'කම්මුල', 'ගැහුවොත්': 'ගැහුවොත', 'වම්': 'වම', 'කම්මුලත්': 'කම්මුලත', 'පෙන්නන්න': 'පෙන්නන්', 'යාළුවනේ': 'යාළුවන', 'ආණ්ඩුව': 'ආණ්ඩු', 'වෙනරටවල්': 'වෙනරටවල', 'පරීකෂන': 'පරීකෂ', 'නැත්තෙ': 'නැත්ත', 'බයේද': 'බයේ', 'උප්පැන්නෙ': 'උප්පැ', 'ශ්': 'ශ', 'රීලාංකික': 'රීලාංකි', 'තිබ්බනම්': 'තිබ්බනම', 'හොදද': 'හොද', 'වැලන්ටයින්': 'වැලන්ටයින', 'සාන්තුවරයෙක්ගේ': 'සාන්තුවරයෙක්', 'නමක්': 'නමක', 'ආගම්වාදියෝ': 'ආගම්වාදි', 'දැනගත්තොත්': 'දැනගත්තොත', 'ඕකත්': 'ඕකත', 'දායි': 'දා', 'වෙසක්': 'වෙසක', 'අවුරුද්දට': 'අවුරුද්ද', 'සහන': 'සහ', 'නැහැනේ': 'නැහැන', 'චන්දවලට': 'චන්දවල', 'ආසාව': 'ආසා', 'හදිස්සියේ': 'හදිස්සි', 'බැන්දනම්': 'බැන්දනම', 'අවුරුදුත්': 'අවුරුදුත', 'නත්තලුත්': 'නත්තලුත', 'රතිසංස්කරණය': 'රතිසංස්කරණ', 'ලද': 'ල', 'මුල්ලිකුලම': 'මුල්ලිකුල', 'දේවස්ථානය': 'දේවස්ථාන', 'ආරක්ෂක': 'ආරක්ෂ', 'ලේකම්තුමන්': 'ලේකම්තුමන', 'අතින්': 'අතින', 'ජනතා': 'ජනත', 'අයිතියට': 'අයිතිය', 'ග්': 'ග', 'රෑන්ඩ්පාස්': 'රෑන්ඩ්පාස', 'දෙමල': 'දෙම', 'අඬනවා': 'අඬ', 'මන්නාරමේ': 'මන්නාර', 'මීසම': 'මීස', 'පූජකතුමන්ලා': 'පූජකතුමන්', 'රාදේශීය': 'රාදේශී', 'දේශපාලනඥයින්': 'දේශපාලනඥයින', 'මොහොතකට': 'මොහොත', 'මැතිතුමා': 'මැතිතුම', 'හමු': 'හ', 'වූහ': 'ව', 'මහාමෙව්නා': 'මහාමෙව්', 'අසපුවට': 'අසපුව', 'ගිහිල්ලම': 'ගිහිල්ල', 'දැනුමක්': 'දැනුමක', 'ලැබෙනවා': 'ලැබෙ', 'පව්': 'පව', 'උතුම්': 'උතුම', 'ගැනත්': 'ගැනත', 'කාකොටා': 'කාකොට', 'එදත්': 'එදත', 'හිටියා': 'හිටි', 'කැටයක': 'කැටය', 'තරම්වත්': 'තරම්වත', 'නොදැන': 'නොදැ', 'වැරැද්ද': 'වැරැද්', 'ඇතැමුන්': 'ඇතැමුන', 'උන්නාන්සේ': 'උන්නාන්ස', 'කව්රුත්': 'කව්රුත', 'දහම': 'දහ', 'ගමු': 'ග', 'චූඩාමානි': 'චූඩාමා', 'කයේ': 'ක', 'සරණයි': 'සරණ', 'පූර්වාදර්ශයක්': 'පූර්වාදර්ශයක', 'ඔහු': 'ඔ', 'අතට': 'අත', 'අවස්ථාවෙදිවත්': 'අවස්ථාවෙදිවත', 'එය': 'එ', 'පෙන්නුම්': 'පෙන්නුම', 'ඔහුගේ': 'ඔහු', 'උඩගු': 'උඩග', 'කම': 'ක', 'දුමින්ද': 'දුමින්', 'කලාවට': 'කලාව', 'කලාකාරිනියකට': 'කලාකාරිනිය', 'මාසෙට': 'මාසෙ', '3ගානේ': '3ගාන', 'ගෙවනවා': 'ගෙව', 'ගොඩනැගිල්ලට': 'ගොඩනැගිල්ල', 'යන්නත්': 'යන්නත', 'ඉදලම': 'ඉදල', 'උදය': 'උද', 'ගම්මන්පිල': 'ගම්මන්පි', 'නිකමෙක්': 'නිකමෙක', 'වසරේ': 'වසර', 'උසස්': 'උසස', 'අංශයෙන්': 'අංශයෙන', 'දිවයිනෙන්ම': 'දිවයිනෙන්', 'රථමස්ථානය': 'රථමස්ථාන', 'ලබා': 'ලබ', 'ගත්': 'ගත', 'ලංකා': 'ලං', 'දේශපාලනයට': 'දේශපාලනය', 'විරල': 'විර', 'උගතෙක්': 'උගතෙක', 'සිදුවීම': 'සිදුවී', 'අස්භාවිකයි': 'අස්භාවික', 'පක්ෂයක': 'පක්ෂය', 'බොරුකාරයන්': 'බොරුකාරයන', 'දිගටම': 'දිග', 'අයටත්': 'අයටත', 'රුකුලක්': 'රුකුලක', 'දේශපාලන': 'දේශපාල', 'එරෙහි': 'එරෙ', 'කලාකරුවා': 'කලාකරු', 'දේශපාලනේ': 'දේශපාලන', 'මතය': 'මත', 'දැරුවත්': 'දැරුවත', 'තැනක': 'තැන', 'නිහතමානි': 'නිහතමා', 'නොවීම': 'නොවී', 'කනගාටුවට': 'කනගාටුව', 'කාරනාවක්': 'කාරනාවක', 'සම්මානයේ': 'සම්මාන', 'දක්වපු': 'දක්ව', 'ගෞරවය': 'ගෞරව', 'එතැනින්ම': 'එතැනින්', 'තේරැමි': 'තේරැ', 'මහජනතාවගේ': 'මහජනතාව', 'පිලිකුල': 'පිලිකු', 'මහජන': 'මහජ', 'සේවයට': 'සේවය', 'තරුණියන්': 'තරුණියන', 'මෙිවගේ': 'මෙිව', 'සංවිධාන': 'සංවිධා', 'ඔින': 'ඔි', 'හම්මෝ': 'හම්ම', 'ටිකට': 'ටි', 'ශාරුක්': 'ශාරුක', 'කාන්ලටත්': 'කාන්ලටත', 'මොකුන්ද': 'මොකුන්', 'සම්මාන': 'සම්මා', 'ගත්තෙ': 'ගත්ත', 'කියනකොට': 'කියනකො', 'දැනගත්තෙම': 'දැනගත්තෙ', 'කොහොම': 'කොහො', 'මොවුන්': 'මොවුන', 'දෙදෙනා': 'දෙදෙ', 'හදවතින්': 'හදවතින', 'කලා': 'ක', 'කරුවන්': 'කරුවන', 'සමිමානේ': 'සමිමාන', 'නමි': 'න', 'තිබිබා': 'තිබිබ', 'මිනිසෙකුට': 'මිනිසෙ', 'කාරයෙක්': 'කාරයෙක', 'මිනිසෙක්': 'මිනිසෙක', 'හිනා': 'හි', 'වෙන්නවත්': 'වෙන්නවත', 'අහක': 'අහ', 'කෙනාට': 'කෙනා', 'දේශපාලුවෝ': 'දේශපාලු', 'දෙන්නනම': 'දෙන්නන', 'ගැහුවා': 'ගැහු', 'කරේ': 'කර', 'කපටිකමටද': 'කපටිකමට', 'ලැජ්ජාවෙන්': 'ලැජ්ජාවෙන', 'බේරෙන්නද': 'බේරෙන්න', 'හිතන්න': 'හිතන්', 'අමාරුයි': 'අමාරු', 'වුනේ': 'වුන', 'පැහැදිලියි': 'පැහැදිලි', 'හිතන්නෙ': 'හිත', 'උන්ගෙන්': 'උන්ගෙන', 'සම්මානයට': 'සම්මානය', 'වටිනා': 'වටි', 'නිර්මානයක්': 'නිර්මානයක', 'වටිනාකමක්': 'වටිනාකමක', 'විශබීජයක්': 'විශබීජයක', 'ලැබුනොත්': 'ලැබුනොත', 'ඒකෙ': 'ඒ', 'දෙන්නගෙ': 'දෙන්න', 'හොදේ': 'හොද', 'වපුරන': 'වපුර', 'රතිපත්තියක්': 'රතිපත්තියක', 'දෙන්නෙක්ට': 'දෙන්නෙක්', 'ආරාධනය': 'ආරාධන', 'සදාචාරාත්මක': 'සදාචාරාත්ම', 'අයිතිය': 'අයිති', 'සම්මානයක්': 'සම්මානයක', 'කලාකාරයෙකුට': 'කලාකාරයෙ', 'උසස්ම': 'උසස්', 'පාදඩයෙක්ගෙ': 'පාදඩයෙක්', 'ලැබෙන්නෙ': 'ලැබෙ', 'ඊටවඩා': 'ඊටවඩ', 'දීපු': 'දී', 'පනිවිඩය': 'පනිවිඩ', 'වියයුත්තේ': 'වියයුත්ත', 'කොතනද': 'කොතන', 'නෙමෙයි': 'නෙමෙ', 'කශේරුකාවක්': 'කශේරුකාවක', 'පෙන්නුවා': 'පෙන්නු', 'කළාවට': 'කළාව', 'උද්දච්චකම': 'උද්දච්චක', 'බොලිවුඩය': 'බොලිවුඩ', 'හොලිවුඩයෙ': 'හොලිවුඩ', 'නලු': 'නල', 'නිළියන්': 'නිළියන', 'නිහතමානී': 'නිහතමාන', 'මොකේද': 'මොකේ', 'රගපෑවෙ': 'රගපෑ', 'උනුත්': 'උනුත', 'මහජනයා': 'මහජන', 'දේශපාලකයොත්': 'දේශපාලකයොත', 'තාව': 'තා', 'කළාකරුවෙක්': 'කළාකරුවෙක', 'උපහාසයට': 'උපහාසය', 'හිත්': 'හිත', 'දිනාගැනීමට': 'දිනාගැනීම', 'හැකියාවක්': 'හැකියාවක', 'දේෂපාලනයක්': 'දේෂපාලනයක', 'ගාවගන්නෙ': 'ගාවග', 'හැකියාව': 'හැකියා', 'වැරදියි': 'වැරදි', 'තිබ්බා': 'තිබ්බ', 'අකමැති': 'අකමැ', 'වෙනයි': 'වෙන', 'වුනාට': 'වුනා', 'ඔයිට': 'ඔයි', 'රවීන': 'රවී', 'කලාකාරයෝ': 'කලාකාර', 'ආදර්ෂය': 'ආදර්ෂ', 'මොකද්ද': 'මොකද්', 'දේෂපාලකයෝ': 'දේෂපාලක', 'ගාවගන්නැතුව': 'ගාවගන්නැතු', 'එකනම්': 'එකනම', 'දේෂපාලනයට': 'දේෂපාලනය', 'නොයා': 'නො', 'සිටිය': 'සිටි', 'තිබුණෙ': 'තිබුණ', 'වුණානම්': 'වුණානම', 'ටයර්': 'ටයර', 'දෙකකුත්': 'දෙකකුත', 'නොමිලෙම': 'නොමිලෙ', 'හම්බෙනවා': 'හම්බෙ', 'බෙල්ල': 'බෙල්', 'දාගන්න': 'දාගන්', 'පහුවෙනිදට': 'පහුවෙනිද', 'මගුලටම': 'මගුල', 'දේසපාලුවො': 'දේසපාලුව', 'ගාව': 'ගා', 'කොහෙවත්': 'කොහෙවත', 'ඔස්කාර්': 'ඔස්කාර', 'බුෂ්': 'බුෂ', 'ඔබාමා': 'ඔබාම', 'ට්රම්ප්': 'ට්රම්ප', 'ආවද': 'ආව', 'ෆිල්ම්': 'ෆිල්ම', 'ෆෙයාර්': 'ෆෙයාර', 'වජ්පායි': 'වජ්පා', 'කලාම්': 'කලාම', 'තියනවද': 'තියනව', 'ගමේ': 'ග', 'ඉල්ලන්න': 'ඉල්ලන්', 'එකෙක්ට': 'එකෙක්', 'නොමිනේෂන්': 'නොමිනේෂන', 'ආවට': 'ආව', 'උන්ගෙ': 'උන්', 'ෆීල්ඩ්එක': 'ෆීල්ඩ්එ', 'කලාකරුවන්ට': 'කලාකරුවන්', 'ක්ෂේත්': 'ක්ෂේත', 'රවීණයො': 'රවීණය', 'නිකමට': 'නිකම', 'සම්මානය': 'සම්මාන', 'මනින': 'මනි', 'මිම්මත්': 'මිම්මත', 'දිහා': 'දිහ', 'බලන': 'බල', 'කෝණයත්': 'කෝණයත', 'යටම': 'ය', 'පක්': 'පක', 'ෂයකින්': 'ෂයකින', 'ඉල්ලුවොත්': 'ඉල්ලුවොත', 'රැස්වීමකට': 'රැස්වීම', 'ඉදන්': 'ඉදන', 'පක්ෂයේ': 'පක්ෂ', 'දෙශපාලනය': 'දෙශපාලන', 'ගහනව': 'ගහන', 'යාළුවො': 'යාළුව', 'ඇද්ද': 'ඇද්', 'වලම': 'වල', 'තේරෙයි': 'තේරෙ', 'නරඹන්නට': 'නරඹන්න', 'රදාන': 'රදා', 'බලන්නෙ': 'බල', 'නෙවෙ': 'නෙ', 'කලාට': 'කලා', 'රිඩාවටත්': 'රිඩාවටත', 'අදාළයි': 'අදාළ', 'ගෑවෙන': 'ගෑවෙ', 'රිඩා': 'රිඩ', 'ඉවරයිනෙ': 'ඉවරයින', 'වැඩේ': 'වැඩ', 'සම්මානනීය': 'සම්මානනී', 'කලාකරුවෙක්': 'කලාකරුවෙක', 'එකකවත්': 'එකකවත', 'ඉදල': 'ඉද', 'මෙන්ඩිස්': 'මෙන්ඩිස', 'ඇමතිලට': 'ඇමතිල', 'දුන්නොත්': 'දුන්නොත', 'වැඩෙ': 'වැඩ', 'කරුවා': 'කරු', 'සහෘදයා': 'සහෘද', 'ඔහුන්': 'ඔහුන', 'බොහෝසෙයින්': 'බොහෝසෙයින', 'ආදරණීය': 'ආදරණී', 'රියයානයෙක්': 'රියයානයෙක', 'බවයි': 'බව', 'සරස්වතී': 'සරස්වත', 'දේවින්ගෙන්': 'දේවින්ගෙන', 'ආශීර්වාද': 'ආශීර්වා', 'ලබාගෙන': 'ලබාගෙ', 'සෞම්': 'සෞම', 'සුන්දරත්වය': 'සුන්දරත්ව', 'පිළිබිඹු': 'පිළිබිඹ', 'වටිනේද': 'වටිනේ', 'කිරීම': 'කිරී', 'සංස්කෘතිය': 'සංස්කෘති', 'ජීවත්වන': 'ජීවත්ව', 'කල්ක්': 'කල්ක', 'රියාව': 'රියා', 'තීරණය': 'තීරණ', 'වේ': '', 'පිස්සොන්ට': 'පිස්සොන්', 'දැන්නම්': 'දැන්නම', 'හැදීගෙන': 'හැදීගෙ', 'සතුටක්': 'සතුටක', 'දැනෙන්නෙ': 'දැනෙ', 'නියමයි': 'නියම', 'මරු': 'මර', 'කැමත්තක්': 'කැමත්තක', 'මහත්මයෙක්': 'මහත්මයෙක', 'මහතාට': 'මහතා', 'දිලා': 'දි', 'ඉටපස්සෙ': 'ඉටපස්ස', 'ගහපු': 'ගහ', 'අදමයි': 'අදම', 'දැක්කෙ': 'දැක්', 'කලාකරුවන්': 'කලාකරුවන', 'අතකොලුවක්': 'අතකොලුවක', 'පිළිකුලක්': 'පිළිකුලක', 'කොකත්': 'කොකත', 'එකයි': 'එක', 'කවුරුත්': 'කවුරුත', 'මහජනයාට': 'මහජනයා', 'කෙනා': 'කෙ', 'පෙනුනේ': 'පෙනුන', 'දෙන්නාගෙ': 'දෙන්නා', 'පාට්': 'පාට', 'ගානේ': 'ගාන', 'කමිසේ': 'කමිස', 'බොත්තම්': 'බොත්තම', 'තිබුණා': 'තිබුණ', 'අමු': 'අ', 'රස්තියාදු': 'රස්තියාද', 'කාරයේක්': 'කාරයේක', 'ඉන්නවනම්': 'ඉන්නවනම', 'දේශපාලකයෙක්': 'දේශපාලකයෙක', 'භයටම': 'භය', 'උබලාගෙ': 'උබලා', 'කොදු': 'කොද', 'නැමෙනවා': 'නැමෙ', 'එල': 'එ', 'මෙයටත්': 'මෙයටත', 'වැඩියෙන්': 'වැඩියෙන', 'ඔවුන්': 'ඔවුන', 'වෙනතෙක්ම': 'වෙනතෙක්', 'සමාජයම': 'සමාජය', 'තත්ත්වයට': 'තත්ත්වය', 'පත්විය': 'පත්වි', 'ගේ': '', 'යුක්ති': 'යුක්', 'සහගතයි': 'සහගත', 'දෙදනා': 'දෙද', 'ආරම්භක්': 'ආරම්භක', 'දීම': 'දී', 'සියල්ලෝම': 'සියල්ලෝ', 'ඔවුන්ව': 'ඔවුන්', 'අනුගමනය': 'අනුගමන', 'දේශපාලකයා': 'දේශපාලක', 'මොක්කුද': 'මොක්කු', 'මුංට': 'මුං', 'නලුවෝ': 'නලු', 'නලුවොන්ට': 'නලුවොන්', 'වෙනනමක්': 'වෙනනමක', 'මේවගේ': 'මේව', 'හොයාගන්න': 'හොයාගන්', 'හතරෙන්': 'හතරෙන', 'බෝක්කුවක්': 'බෝක්කුවක', 'ලගට': 'ලග', 'වැඩකටම': 'වැඩක', 'කලාකාරයෙක්': 'කලාකාරයෙක', 'සමිමානය': 'සමිමාන', 'දුන්නනමි': 'දුන්නන', 'වටිනව': 'වටින', 'දෙශපාලකයින්': 'දෙශපාලකයින', 'කිරී': 'කිර', 'සිටින': 'සිටි', 'අවධියක': 'අවධිය', 'රතික්': 'රතික', 'කරානමි': 'කරාන', 'හර්දශාක්කියට': 'හර්දශාක්කිය', 'තට්ටු': 'තට්ට', 'බල්න්න': 'බල්න්', 'තැනදිම': 'තැනදි', 'කරුනකදීම': 'කරුනකදී', 'කරනවාද': 'කරනවා', 'කාටවත්': 'කාටවත', 'රිදවන්න': 'රිදවන්', 'කරනවද': 'කරනව', 'තීරනය': 'තීරන', 'ඔබම': 'ඔබ', 'සතුයි': 'සතු', 'මෙහෙමයි': 'මෙහෙම', 'කරපුදේ': 'කරපුද', 'පාට': 'පා', 'බේදයකින්': 'බේදයකින', 'තොරව': 'තොර', 'වරම': 'වර', 'කිදෙන්ක්ගෙන්': 'කිදෙන්ක්ගෙන', 'නරක': 'නර', 'අහගන්න': 'අහගන්', 'ඇතිද': 'ඇති', 'දේශපාලකයන්ට': 'දේශපාලකයන්', 'ආරාධනා': 'ආරාධ', 'ඉතිහාසයේ': 'ඉතිහාස', 'කොහේවත්': 'කොහේවත', 'විරෝධත්වය': 'විරෝධත්ව', 'පෙන්නල': 'පෙන්න', 'ගැලපෙන්නෙ': 'ගැලපෙ', 'නැතිනිසා': 'නැතිනිස', 'වයසින්': 'වයසින', 'මුහුකුරා': 'මුහුකුර', 'යනවැයි': 'යනවැ', 'අල්ලගෙන': 'අල්ලගෙ', 'තඩිබාන': 'තඩිබා', 'කලාකාරයො': 'කලාකාරය', 'පෙන්නනව': 'පෙන්නන', 'දේශපාලකයන්ගෙ': 'දේශපාලකයන්', 'අනුග්': 'අනුග', 'රහය': 'රහ', 'කරනව': 'කරන', 'දියුණු': 'දියුණ', 'සමාජයේ': 'සමාජ', 'පෙනෙන': 'පෙනෙ', 'ගතිය': 'ගති', 'දේශපාලනයේ': 'දේශපාලන', 'මට්ටමේ': 'මට්ට', 'අනුරයි': 'අනුර', 'මහින්දයි': 'මහින්ද', 'අතරවත්': 'අතරවත', 'මෝඩද': 'මෝඩ', 'නිර්මාණයකට': 'නිර්මාණය', 'කවුරුන්හෝ': 'කවුරුන්හ', 'ඇගයීමක්': 'ඇගයීමක', 'කරොත්': 'කරොත', 'ඒකත්': 'ඒකත', 'නිහතමානීව': 'නිහතමානී', 'විදගන්න': 'විදගන්', 'පුද්ගලිකව': 'පුද්ගලික', 'නෙමෙයිනේ': 'නෙමෙයින', 'ඊටත්': 'ඊටත', 'සම්මානේ': 'සම්මාන', 'වුනාය': 'වුනා', 'තියෙනවා': 'තියෙ', 'උළෙලවලට': 'උළෙලවල', 'දෙනකොට': 'දෙනකො', 'උඩදාගෙන': 'උඩදාගෙ', 'ගන්නවා': 'ගන්', 'අවස්ථාවලට': 'අවස්ථාවල', 'පක්ෂය': 'පක්ෂ', 'කින්': 'කින', 'ආවත්': 'ආවත', 'ආව': 'ආ', 'කියලත්': 'කියලත', 'විදිහටම': 'විදිහ', 'කරාවිද': 'කරාවි', 'පක්ෂග්': 'පක්ෂග', 'රාහීද': 'රාහී', 'ඒදෙන්න': 'ඒදෙන්', 'නියෝජිතයන්': 'නියෝජිතයන', 'දෙනා': 'දෙ', 'එක්කෙනෙක්': 'එක්කෙනෙක', 'කට්ටිය': 'කට්ටි', 'පැහැදිලි': 'පැහැද', 'දේශපාලුවන්': 'දේශපාලුවන', 'මතවාද': 'මතවා', 'තිබුනත්': 'තිබුනත', 'කැතයි': 'කැත', 'නිගාවක්': 'නිගාවක', 'බිබී': 'බිබ', 'අපිව': 'අපි', 'ආයෙත්': 'ආයෙත', 'යටත්': 'යටත', 'කරගනිල්ලකෝ': 'කරගනිල්ලක', 'සුද්දොන්ගේ': 'සුද්දොන්', 'ගගේ': 'ග', 'ලයන්': 'ලයන', 'බියර්': 'බියර', 'සේවකයෙක්': 'සේවකයෙක', 'කසිප්පු': 'කසිප්', 'කිතුල්': 'කිතුල', 'රා': 'ර', 'ගහනවනම්': 'ගහනවනම', 'ඕකුන්': 'ඕකුන', 'කාලෙත්': 'කාලෙත', 'බීවා': 'බී', 'හැරෙන්නවත්': 'හැරෙන්නවත', 'ටින්': 'ටින', 'ටීම්': 'ටීම', 'බෝතල්': 'බෝතල', 'ගංජා': 'ගංජ', 'ඕකුන්ගේ': 'ඕකුන්', 'එවුන්ම': 'එවුන්', 'ඔව්වා': 'ඔව්', 'හදුන්වලා': 'හදුන්ව', 'දුන්නේ': 'දු', 'බැනලා': 'බැන', 'කොමෙට්': 'කොමෙට', 'කෙනෙකුට': 'කෙනෙ', 'ටෙ': 'ට', 'අමතක': 'අමත', 'ගානක්': 'ගානක', 'නානාප්': 'නානාප', 'කියනව': 'කියන', 'ගුඩ්': 'ගුඩ', 'බායි': 'බා', 'උවමනාවක්ක්': 'උවමනාවක්ක', 'තිබ්නම්': 'තිබ්නම', 'මහින්දට': 'මහින්ද', 'හෙංචයියො': 'හෙංචයිය', 'වචනෙකින්': 'වචනෙකින', 'එත්': 'එත', 'කෙලේ': 'කෙල', 'ඔහුට': 'ඔහු', 'බලය': 'බල', 'පිරිහනෙ': 'පිරිහන', 'හොයලා': 'හොය', 'බැලුවනම්': 'බැලුවනම', 'හැත්තට': 'හැත්ත', 'බලලා': 'බල', 'ඔකුන්ව': 'ඔකුන්', 'එලවලා': 'එලව', 'දැනුම': 'දැනු', 'ඔලුව': 'ඔලු', 'රටෙන්': 'රටෙන', 'පිරිසුදු': 'පිරිසුද', 'ඉඩක්': 'ඉඩක', 'එන්නේ': 'එ', 'පිස්සන්': 'පිස්සන', 'කොටුවේ': 'කොටු', 'පිස්සෝ': 'පිස්ස', 'සංවරයි': 'සංවර', 'සොරුන්ගේ': 'සොරුන්', 'දහන': 'දහ', 'මින්': 'මින', 'ආරක්ෂාව': 'ආරක්ෂා', 'පිස්තෝලයක්': 'පිස්තෝලයක', 'ගෙන': 'ගෙ', 'යාමට': 'යාම', 'දුන්නනම්': 'දුන්නනම', 'හොදායි': 'හොදා', 'කිහිපදෙනෙක්': 'කිහිපදෙනෙක', 'එලොව': 'එලො', 'හිරගෙට': 'හිරගෙ', 'ඉස්කෝලෙ': 'ඉස්කෝල', 'පාර්ලිමේන්තු': 'පාර්ලිමේන්ත', 'පාර්ලිමේන්තුවට': 'පාර්ලිමේන්තුව', 'යවන්නෙත්': 'යවන්නෙත', 'එකක්නේ': 'එකක්න', 'පිලේ': 'පිල', 'පන්දු': 'පන්ද', 'රැකීමේ': 'රැකී', 'පුහුණුකරු': 'පුහුණුකර', 'බාරගන්නකම්': 'බාරගන්නකම', 'පෙරුම්පුරා': 'පෙරුම්පුර', 'බලාහිදිමි': 'බලාහිදි', 'නාවෙ': 'නා', 'දයා': 'ද', 'නොතිබුණු': 'නොතිබුණ', 'රශ්නයක්': 'රශ්නයක', 'රටෙහි': 'රටෙ', 'ආයතනය': 'ආයතන', 'ගිනි': 'ගි', 'මඩුවක්': 'මඩුවක', 'පුද්ගලයා': 'පුද්ගල', 'බලමින්': 'බලමින', 'සතුටු': 'සතුට', 'බේරගන්න': 'බේරගන්', 'එයාලගේ': 'එයාල', 'පුද්ගලික': 'පුද්ගලි', 'උබලනේ': 'උබලන', 'හෙනට': 'හෙන', 'එකාට': 'එකා', 'ෆොටෝ': 'ෆොට', 'පොස්ට්': 'පොස්ට', 'හදන්නේ': 'හද', 'ඒවා': 'ඒ', 'බලනවා': 'බල', 'විතරනේ': 'විතරන', 'පෙජ්': 'පෙජ', 'ඇඩ්මින්': 'ඇඩ්මින', 'මහත්වරු': 'මහත්වර', 'ඇවිල්ලා': 'ඇවි', 'බෙදිලා': 'බෙදි', 'දෙගොල්ලොම': 'දෙගොල්ලො', 'ජොලියේ': 'ජොලි', 'සැපේ': 'සැප', 'ඉස්කෝලේ': 'ඉස්කෝල', 'විභාගේ': 'විභා', 'ගියාමත්': 'ගියාමත', 'විදින': 'විදි', 'තාවකාලික': 'තාවකාලි', 'සතුට': 'සතු', 'වින්දා': 'වින්ද', 'විමල්ගේ': 'විමල්', 'ආදරණිය': 'ආදරණි', 'සිරිසේන': 'සිරිසේ', 'රාත්': 'රාත', 'රියේ': 'රි', 'නටන': 'නට', 'පිස්සුව': 'පිස්සු', 'නිවැරදිව': 'නිවැරදි', 'පුරාවට': 'පුරාව', 'ඔබව': 'ඔබ', 'නැවුම්ව': 'නැවුම්', 'තබන': 'තබ', 'ව්': 'ව', 'යාඝා': 'යාඝ', 'පෙත්තක්': 'පෙත්තක', 'දිනාගන්න': 'දිනාගන්', 'අගමැති': 'අගමැ', 'හෂිනි': 'හෂි', 'වයර්': 'වයර', 'ආය්යෝ': 'ආය්', 'රටේ': 'රටෙ', 'දේවල්': 'දේවල', 'කඩේ': 'කඩෙ', 'හැගීමක්': 'හැගීමක', 'තවම': 'තව', 'පෙන්නුවටත්': 'පෙන්නුවටත', 'ස්තූතියි': 'ස්තූති', 'අපට': 'අප', 'අායේ': 'අායෙ', 'ෆ්': 'ෆ', 'වයිෆයි': 'වයිෆ', 'ලැබෙයි': 'ලැබෙ', 'නේද': 'නේ', 'අධිකරණය': 'අධිකරණ', 'විශ්වාසයක්': 'විශ්වාසයක', 'තියා': 'ති', 'තීන්දු': 'තීන්ද', 'සමාව': 'සමා', 'ඉල්ලන': 'ඉල්ල', 'අග්': 'අග', 'විනිශ්චයකාරයෝ': 'විනිශ්චයකාර', 'නඩු': 'නඩ', 'තුට්ටුවකට': 'තුට්ටුව', 'පෙට්': 'පෙට', 'රල්': 'රල', 'අඩුකරන්න': 'අඩුකරන්', 'තීන්දුව': 'තීන්දු', 'ඡන්දය': 'ඡන්ද', 'දෙන්නේ': 'දෙ', 'අතුරු': 'අතුර', 'නියෝගයක්': 'නියෝගයක', 'නඩුව': 'නඩු', 'තීන්දුවක්': 'තීන්දුවක', 'ඔබේ': 'ඔබ', 'හය': 'හ', 'නොදත්': 'නොදත', 'දරුවාට': 'දරුවා', 'ඡන්දෙකට': 'ඡන්දෙ', 'රටෙත්': 'රටෙත', 'හොඳද': 'හොඳ', 'කතිරය': 'කතිර', 'කළින්': 'කළින', 'මෙහෙමනේ': 'මෙහෙමන', 'බෑනේ': 'බෑන', 'තිබුනොත්': 'තිබුනොත', 'මෙහේ': 'මෙහ', 'මේකත්': 'මේකත', 'හොරෙන්': 'හොරෙන', 'කෙලගන': 'කෙලග', 'දන්නවද': 'දන්නව', 'අංගොඩද': 'අංගොඩ', 'ගෙදරද': 'ගෙදර', 'ඇත්තටම': 'ඇත්ත', 'රභාකරන්': 'රභාකරන', 'ගැම්ම': 'ගැම්', 'සරලවම': 'සරලව', 'යවස්ථාවෙන්': 'යවස්ථාවෙන', 'බේරිලා': 'බේරි', 'විසිරන': 'විසිර', 'තැනට': 'තැන', 'ශුවර්': 'ශුවර', 'බෝල්': 'බෝල', 'විදියටම': 'විදිය', 'මු': '', 'ලව': 'ල', 'අැරල': 'අැර', 'රින්ගල': 'රින්ග', 'ලකුණ': 'ලක', 'ඩමියක්': 'ඩමියක', 'දැම්මේ': 'දැම්', 'පොලිසියේ': 'පොලිසි', 'වැටෙන්න': 'වැටෙන්', 'හොරෙක්ව': 'හොරෙක්', 'අල්ලගන්නෙ': 'අල්ලග', 'වැටෙද්දිම': 'වැටෙද්දි', 'විසිල්': 'විසිල', 'රගර්': 'රගර', 'මැච්': 'මැච', 'ඕකා': 'ඕ', 'පනපිටින්ද': 'පනපිටින්', 'ගිහින්වත්ද': 'ගිහින්වත්', 'පොලිස්සියේ': 'පොලිස්සි', 'බදක': 'බද', 'කිගදිවිම': 'කිගදිවි', 'පුහුනු': 'පුහු', 'සුදු': 'සුද', 'මහත්තයාට': 'මහත්තයා', 'ස්තුති': 'ස්තු', 'හැකර්': 'හැකර', 'තද': 'ත', 'හමුෆ්හාව්ලින්': 'හමුෆ්හාව්ලින', 'ගේමක්': 'ගේමක', 'බේරිල': 'බේරි', 'මිශන්': 'මිශන', 'ගැහුවෙ': 'ගැහු', 'මූව': 'මූ', 'පොහොට්ටුවෙන්': 'පොහොට්ටුවෙන', 'යවමු': 'යව', 'රයි': 'ර', 'තිබ්බේ': 'තිබ්බ', 'සුද්දයි': 'සුද්ද', 'මුලු': 'මුල', 'පොලිසියමයි': 'පොලිසියම', 'පරාදයි': 'පරාද', 'දගයො': 'දගය', 'සුද්දගේ': 'සුද්ද', 'තුනෙන්': 'තුනෙන', 'හෙළිවෙලා': 'හෙළිවෙ', 'සුද්දගෙ': 'සුද්ද', 'උනානම්': 'උනානම', 'හොරෙක්වත්': 'හොරෙක්වත', 'අල්ලගන්නේ': 'අල්ලග', 'ඉතින්කොහොමද': 'ඉතින්කොහොම', 'අල්ල': 'අල්', 'හෙට': 'හෙ', 'අයියත්': 'අයියත', 'අයියට': 'අයිය', 'සැලැන්ඩර්': 'සැලැන්ඩර', 'විසුරුවා': 'විසුරු', 'හැරියාම': 'හැරියා', 'ගත්තේ': 'ගත්ත', 'රනිල්ට': 'රනිල්', 'ඔච්චරම': 'ඔච්චර', 'ඡන්දයක්': 'ඡන්දයක', 'බලමු': 'බල', 'උබල': 'උබ', 'කලෙත්': 'කලෙත', 'ටෝක්': 'ටෝක', 'අරින': 'අරි', 'අස්සෙ': 'අස්ස', 'කාරයත්': 'කාරයත', 'පැත්තකින්': 'පැත්තකින', 'ඇනලා': 'ඇන', 'යකූ': 'යක', 'මේමත්': 'මේමත', 'සප්ප්': 'සප්ප', 'රායිස්': 'රායිස', 'මනුස්සයට': 'මනුස්සය', 'දරු': 'දර', 'මුණුපුරන්': 'මුණුපුරන', 'හින්දයී': 'හින්දය', 'තීරණයක්': 'තීරණයක', 'රමාද': 'රමා', 'කොයින්ද': 'කොයින්', 'කැක්කුමක්': 'කැක්කුමක', 'ජනමතයට': 'ජනමතය', 'විකිනිලා': 'විකිනි', 'ඔලු': 'ඔල', 'මාරු': 'මාර', 'රජාතන්ත්': 'රජාතන්ත', 'රවාදය': 'රවාද', 'තිරනය': 'තිරන', 'වීඩියෝ': 'වීඩි', 'පිට්පොකට්': 'පිට්පොකට', 'ගැහිල්ල': 'ගැහිල්', 'උනු': 'උ', 'සියලුදෙනා': 'සියලුදෙ', 'අවීචී': 'අවීච', 'නරකයේදී': 'නරකයේද', 'හමුවෙලා': 'හමුවෙ', 'දුක්වෙයි': 'දුක්වෙ', 'බොරුවක්': 'බොරුවක', 'හිතෙන': 'හිතෙ', 'දාමු': 'දා', 'උව': 'උ', 'ගෙමක්': 'ගෙමක', 'දා': 'ද', 'න්': 'න', 'උබලගේ': 'උබල', 'අදහසක්': 'අදහසක', 'පෙන්නලා': 'පෙන්න', 'හිට්': 'හිට', 'කරන්නයි': 'කරන්න', 'වැඩකට': 'වැඩ', 'ඇන්දුනු': 'ඇන්දු', 'ලෝකෙ': 'ලෝ', 'ගොඩාක්': 'ගොඩාක', 'චැනල්': 'චැනල', 'කුණු': 'කුණ', 'බලනවට': 'බලනව', 'කෙනෙක්ගෙ': 'කෙනෙක්', 'නරකක්': 'නරකක', 'පට්ටම': 'පට්', 'ලේසියි': 'ලේසි', 'විඩියෝ': 'විඩි', 'පේමස්': 'පේමස', 'කුමන්ත්': 'කුමන්ත', 'රනයක්': 'රනයක', 'අනිවාර්යෙන්': 'අනිවාර්යෙන', 'රඟපෑමක්': 'රඟපෑමක', 'ලාගෙ': 'ලා', 'ඔබටත්': 'ඔබටත', 'තේරුම්': 'තේරුම', 'මොකක්': 'මොකක', 'සීන්නෙක්': 'සීන්නෙක', 'විතරද': 'විතර', 'ඉරාජ්ද': 'ඉරාජ්', 'ගේමත්': 'ගේමත', 'සිංදුව': 'සිංදු', 'රමෝට්': 'රමෝට', 'කමන්ට්': 'කමන්ට', 'කියවයි': 'කියව', 'කියලවත්': 'කියලවත', 'සංස්කෘතික': 'සංස්කෘති', 'වෙස්': 'වෙස', 'පුදුමයක්': 'පුදුමයක', 'දුක්': 'දුක', 'රැකගත්': 'රැකගත', 'මව්වරු': 'මව්වර', 'පියවරු': 'පියවර', 'සමාජෙක්': 'සමාජෙක', 'මුදලට': 'මුදල', 'පහත්': 'පහත', 'ජාතියේ': 'ජාති', 'ගෑණු': 'ගෑණ', 'කොටසක්': 'කොටසක', 'පස්සෙන්': 'පස්සෙන', 'කතාබහට': 'කතාබහ', 'ලක්වෙන්න': 'ලක්වෙන්', 'දේවල': 'දේව', 'තියෙද්දී': 'තියෙ', 'රෙන්ඩ්': 'රෙන්ඩ', 'කරන්': 'කරන', 'මාධ්': 'මාධ', 'මෙහම': 'මෙහ', 'එන්නම්': 'එන්නම', 'දරුවන්ට': 'දරුවන්', 'අනාගතය': 'අනාගත', 'හිතමු': 'හිත', 'හිතෙනවා': 'හිතෙ', 'හැසිරෙන්නේ': 'හැසිරෙ', 'හැමෝටම': 'හැමෝ', 'පිරිහිලාද': 'පිරිහිලා', 'කිවුව': 'කිවු', 'මතකද': 'මතක', 'වැඩකින්': 'වැඩකින', 'හම්බෙමු': 'හම්බෙ', 'රගපෑමක්': 'රගපෑමක', 'ඉරාජ්ගෙ': 'ඉරාජ්', 'මාකටින්': 'මාකටින', 'එක්ස්පයරමන්ට්': 'එක්ස්පයරමන්ට', 'අශේනයව': 'අශේනය', 'මේකට': 'මේ', 'දගනයමන්': 'දගනයමන', 'මාර්කටින්': 'මාර්කටින', 'අහු': 'අ', 'ගොබ්බයො': 'ගොබ්බය', 'එහෙකුත්': 'එහෙකුත', 'ඉන්නවනේ': 'ඉන්නවන', 'එනිවේ': 'එනි', 'buggatiයක්': 'buggatiයක', 'බස්සයි': 'බස්ස', 'ලගදිම': 'ලගදි', 'ඇදුම්': 'ඇදුම', 'ඇදගන': 'ඇදග', 'ලැජයි': 'ලැජ', 'නිලියන්': 'නිලියන', 'ගායක': 'ගාය', 'ගායිකාවෝ': 'ගායිකා', 'නහයෙන්': 'නහයෙන', 'ලේසියෙන්': 'ලේසියෙන', 'සිංදු': 'සිංද', 'අහන්නේ': 'අහ', 'ඇහුවත්': 'ඇහුවත', 'අහම්බෙන්': 'අහම්බෙන', 'කමින්': 'කමින', 'ඇහුවද': 'ඇහුව', 'කාලෙකින්': 'කාලෙකින', 'අහපු': 'අහ', 'ගැනුන්ගේ': 'ගැනුන්', 'ආසයි': 'ආස', 'රහසක්': 'රහසක', 'හැබයි': 'හැබ', 'පහුගිය': 'පහුගි', 'කළේ': 'කළ', 'සිද්ද': 'සිද්', 'විකුනපු': 'විකුන', 'නිරුවතින්': 'නිරුවතින', 'පුළුවන': 'පුළුව', 'වැටහේවා': 'වැටහේ', 'කතාව': 'කතා', 'ලස්සනයි': 'ලස්සන', 'ගැහැනියගේ': 'ගැහැනිය', 'විකුණන්': 'විකුණන', 'පාඩමක්': 'පාඩමක', 'විෂුවල්': 'විෂුවල', 'රෙන්ඩින්': 'රෙන්ඩින', 'මයිල්': 'මයිල', 'පරම්පරාව': 'පරම්පරා', 'නොවේදෝ': 'නොවේද', 'කසුන්': 'කසුන', 'ඇරැනහම': 'ඇරැනහ', 'හැබෑවටම': 'හැබෑව', 'කරන්නද': 'කරන්න', 'හිතලා': 'හිත', 'බැරිම': 'බැරි', 'අතඇරලා': 'අතඇර', 'දැම්මා': 'දැම්ම', 'එකටනම්': 'එකටනම', 'හොටුත්': 'හොටුත', 'පැන්නා': 'පැන්', 'මාවත්': 'මාවත', 'පෙන්ස්': 'පෙන්ස', 'කොමෙන්ට්ස්': 'කොමෙන්ට්ස', 'කියවන': 'කියව', 'සැක': 'සැ', 'හිතෙනවනේ': 'හිතෙනවන', 'හැසිරීම්': 'හැසිරීම', 'බැලුවට': 'බැලුව', 'කියවල': 'කියව', 'අත්තටම': 'අත්ත', 'අදරෙකට': 'අදරෙ', 'කලනම්': 'කලනම', 'පුලුවන්ද': 'පුලුවන්', 'හශිනි': 'හශි', 'තමනට': 'තමන', 'ලජ්ජාව': 'ලජ්ජා', 'වහගන්න': 'වහගන්', 'විශ්වව': 'විශ්ව', 'ඔයලා': 'ඔය', 'ලජ්ජවක්': 'ලජ්ජවක', 'අදරය': 'අදර', 'විශ්වාසය': 'විශ්වාස', 'එකිනෙකාටතියන': 'එකිනෙකාටතිය', 'පවතින': 'පවති', 'ඔයලගෙ': 'ඔයල', 'හරිම්': 'හරිම', 'හිස්': 'හිස', 'ශො': 'ශ', 'සරාගී': 'සරාග', 'ගැහැනිය': 'ගැහැනි', 'නිදන්නට': 'නිදන්න', 'පිරිමින්': 'පිරිමින', 'කැමතී': 'කැමත', 'පමනයී': 'පමනය', 'කිව්වේ': 'කිව්', 'දිවට': 'දිව', 'ඩෙටා': 'ඩෙට', 'දාල': 'දා', 'කරෙ': 'කර', 'පින්': 'පින', 'තැන්ස්': 'තැන්ස', 'හැමොටම': 'හැමො', 'ඉරාජ්': 'ඉරාජ', 'සැට්': 'සැට', 'කන්ඩායමක්': 'කන්ඩායමක', 'බිහිවෙන්න': 'බිහිවෙන්', 'එක්කො': 'එක්ක', 'අතක්': 'අතක', 'පයක්': 'පයක', 'එකෙක්ව': 'එකෙක්', 'උස්සල': 'උස්ස', 'අම්බානකට': 'අම්බාන', 'එවන්න': 'එවන්', 'ඉන්නව': 'ඉන්න', 'බිහිවෙන්නෙ': 'බිහිවෙ', 'ඉක්මනට': 'ඉක්මන', 'රාර්තනා': 'රාර්ත', 'විවාහයක්': 'විවාහයක', 'උනාම': 'උනා', 'ජනප්': 'ජනප', 'ලේ': 'ල', 'මස්': 'මස', 'ආදරයේ': 'ආදර', 'අර්ථය': 'අර්ථ', 'හොයන්න': 'හොයන්', 'දගලන්නෙ': 'දගල', 'උත්සවයක්': 'උත්සවයක', 'එකකින්': 'එකකින', 'හසිනි': 'හසි', 'කිවුවා': 'කිවු', 'මොනා': 'මො', 'හසිනිව': 'හසිනි', 'විෂ්වට': 'විෂ්ව', 'එන්ගෙච්': 'එන්ගෙච', 'විෂ්ව': 'විෂ්', 'නටපු': 'නට', 'හැසිරුනු': 'හැසිරු', 'වගෙම': 'ව', 'පියුමිගෙ': 'පියුමි', 'උපන්දින': 'උපන්දි', 'ස්ප්': 'ස්ප', 'රයිස්': 'රයිස', 'එකෙදිත්': 'එකෙදිත', 'ඇදුන්': 'ඇදුන', 'කබරෙ': 'කබර', 'ඉදියා': 'ඉදි', 'මෙකිව': 'මෙකි', 'කර්න්න': 'කර්න්', 'වුණු': 'වුණ', 'ඇත්තෙ': 'ඇත්ත', 'අහලා': 'අහ', 'ඔයාගෙ': 'ඔයා', 'වසය': 'වස', '20යි': '20', 'ඔයාට': 'ඔයා', 'විනෝදෙට': 'විනෝදෙ', 'පහළවක්': 'පහළවක', 'ආපස්සට': 'ආපස්ස', 'හැරිලා': 'හැරි', 'ජීවිතේ': 'ජීවිත', 'බලනකොට': 'බලනකො', 'ඔයා': 'ඔ', 'අඩයි': 'අඩ', 'දෙකෙන්ම': 'දෙකෙන්', 'පරක්කු': 'පරක්', 'ළමයට': 'ළමය', 'දෙමව්පියො': 'දෙමව්පිය', 'ළමයා': 'ළම', 'ඇරලා': 'ඇර', 'අඩුම': 'අඩු', 'තරමෙ': 'තරම', 'ඉස්කෝලෙදිවත්': 'ඉස්කෝලෙදිවත', 'ඉගෙන': 'ඉගෙ', 'අනුකම්පාවක්': 'අනුකම්පාවක', 'මාත්': 'මාත', 'තුනයි': 'තුන', 'වැඩිමල්': 'වැඩිමල', 'මටත්': 'මටත', 'තේරුමක්': 'තේරුමක', 'අතෙන්': 'අතෙන', 'හරිගස්සගන්න': 'හරිගස්සගන්', 'වරදින්න': 'වරදින්', 'ආරක්ෂා': 'ආරක්ෂ', 'වුණත්': 'වුණත', 'සේරම': 'සේර', 'අලුතෙන්': 'අලුතෙන', 'වුණොත්': 'වුණොත', 'කාලෙම': 'කාලෙ', 'සතුටින්': 'සතුටින', 'හසිනිගෙ': 'හසිනි', 'වැටිලා': 'වැටි', 'ෆොම්': 'ෆොම', 'ලතෝනි': 'ලතෝ', 'හෙම්බත්': 'හෙම්බත', 'හිටපු': 'හිට', 'කලෙක': 'කලෙ', 'සුප්පා': 'සුප්ප', 'කරනවට': 'කරනව', 'තැන්ක්ස්': 'තැන්ක්ස', 'පතනවා': 'පත', 'සිය': 'සි', 'වතාවක්': 'වතාවක', 'අහන්න': 'අහන්', 'සින්දුවක්': 'සින්දුවක', 'කිවොත්': 'කිවොත', 'මාකට්': 'මාකට', 'උන්ටයි': 'උන්ට', 'ගෙදරක': 'ගෙදර', 'දෙකක්': 'දෙකක', 'සනුකව': 'සනුක', 'පෙන්නන': 'පෙන්න', 'යුගයක': 'යුගය', 'පරම්පරාවක': 'පරම්පරාව', 'ආරම්බය': 'ආරම්බ', 'ඉල්ලපු': 'ඉල්ල', 'මල්': 'මල', 'සින්දුකාරයිනි': 'සින්දුකාරයි', 'අවධානය': 'අවධාන', 'පිණිසයි': 'පිණිස', 'යවන්නෙපා': 'යවන්නෙප', 'බොල': 'බො', 'සරාගයේ': 'සරාග', 'වෙන්නත්': 'වෙන්නත', 'හඳේ': 'හඳ', 'කෑල්ලක්': 'කෑල්ලක', 'කාලා': '', 'ලෙසටම': 'ලෙස', 'අරහෙම': 'අරහෙ', 'කියන්': 'කියන', 'යකුනේ': 'යකුන', 'රනිල්': 'රනිල', 'රේම්': 'රේම', 'පැනපියව්': 'පැනපියව', 'එලියට': 'එලිය', 'පීඑම්': 'පීඑම', 'මුල්': 'මුල', 'පුරවැසියගේ': 'පුරවැසිය', 'තීරනේ': 'තීරන', 'යහපතක්': 'යහපතක', 'එච්චරයි': 'එච්චර', 'කොල්ලෝ': 'කොල්ල', 'රැකගත්තේ': 'රැකගත්ත', 'මතක': 'මත', 'ගනිල්ලා': 'ගනි', 'රිවිද': 'රිවි', 'හමුදා': 'හමුද', 'වලපල්ලේ': 'වලපල්ල', 'බලාපොරොත්තුවෙන්': 'බලාපොරොත්තුවෙන', 'නෙවේ': 'නෙ', 'උන්ම': 'උන්', 'දානව': 'දාන', 'එන්නෙපා': 'එන්නෙප', 'අරක': 'අර', 'හේතු': 'හේත', 'දන්නෙත්': 'දන්නෙත', 'ගාණකට': 'ගාණ', 'ගමෙන්': 'ගමෙන', 'නගරයෙන්': 'නගරයෙන', 'පිටවෙලා': 'පිටවෙ', 'තීරණක්': 'තීරණක', 'කොල්ලෙක්ට': 'කොල්ලෙක්', 'මුල්ම': 'මුල්', 'දවස්': 'දවස', 'නිතරම': 'නිතර', 'විහිලුවෙන්මයි': 'විහිලුවෙන්ම', 'හැමදේම': 'හැමදේ', 'රිංගලා': 'රිංග', 'නඟේ': 'නඟ', 'වරකා': 'වර', 'ගහටත්': 'ගහටත', 'තියාගන්න': 'තියාගන්', 'රණ්ඩු': 'රණ්ඩ', 'දෙනෙක්': 'දෙනෙක', 'සංහතියටම': 'සංහතිය', 'ඒවගේම': 'ඒව', 'අනික': 'අනි', 'ඕනම': 'ඕන', 'මනමාලයා': 'මනමාල', 'කාවත්': 'කාවත', 'වඩාගෙන': 'වඩාගෙ', 'නටන්නේ': 'නට', 'අයිතිකාරයා': 'අයිතිකාර', 'ඇරෙන්න': 'ඇරෙන්', 'වෙඩිම': 'වෙඩි', 'යාළුවෙක්': 'යාළුවෙක', 'ස්ථානයෙන්': 'ස්ථානයෙන', 'පිටව': 'පිට', 'මේකේ': 'මේ', 'තමන්ට': 'තමන්', 'වරදින්නේ': 'වරදි', 'විනාශයක්': 'විනාශයක', 'සින්දු': 'සින්ද', 'අප්ලෝඩ්': 'අප්ලෝඩ', 'උබගේ': 'උබ', 'මුහුනේම': 'මුහුනේ', 'පෙනුම': 'පෙනු', 'කරුණාකරලා': 'කරුණාකර', 'මිනුසුන්ව': 'මිනුසුන්', 'දැනුවත්': 'දැනුවත', 'අසභ්': 'අසභ', 'සාරධර්ම': 'සාරධර්', 'කෙලසන': 'කෙලස', 'ගණිකාවන්': 'ගණිකාවන', 'රියත්වය': 'රියත්ව', 'රයොජනවත්': 'රයොජනවත', 'දෙයකට': 'දෙය', 'යොදවන්න': 'යොදවන්', 'සිද්දවෙයි': 'සිද්දවෙ', 'සිංහලෙන්': 'සිංහලෙන', 'කරපල්ලා': 'කර', 'මෙයාලගේ': 'මෙයාල', 'අහන්': 'අහන', 'ඔවු': 'ඔව', 'හොදයී': 'හොදය', 'ඉදුණිල්': 'ඉදුණිල', 'බලන්නම්': 'බලන්නම', 'උදවු': 'උදව', 'දෙනවට': 'දෙනව', 'වැඩියෙ': 'වැඩි', 'අසරන': 'අසර', 'ඉන්නවද': 'ඉන්නව', 'අයටනෙ': 'අයටන', 'ඔිනා': 'ඔි', 'අපෝ': 'අප', 'එයාලට': 'එයාල', 'ව්තරයි': 'ව්තර', 'මොනවාද': 'මොනවා', 'එයාලා': 'එයා', 'පොරොන්දු': 'පොරොන්ද', 'කීවාට': 'කීවා', 'කටත්': 'කටත', 'තිත්තයි': 'තිත්ත', 'මහත්තයෝ': 'මහත්ත', 'ඔයාගේ': 'ඔයා', 'රියාවලිය': 'රියාවලි', 'නමට': 'නම', 'හිතන්නේ': 'හිත', 'තැනක්': 'තැනක', 'මිනිහෙකුට': 'මිනිහෙ', 'කෙරුවා': 'කෙරු', 'පිනක්': 'පිනක', 'මෙවගෙ': 'මෙව', 'බාල': 'බා', 'මත්තයො': 'මත්තය', 'බොඩ්': 'බොඩ', 'තිබුනනම්': 'තිබුනනම', 'දෙන්නෙ100ය්': 'දෙන්නෙ100ය', 'රවට්ටලා': 'රවට්ට', 'මැරුවොත්': 'මැරුවොත', 'මරපන්': 'මරපන', 'ඒකද': 'ඒක', 'අපේක්ෂාව': 'අපේක්ෂා', 'ඒකටද': 'ඒකට', 'වුණේ': 'ව', 'සුදුස්සොද': 'සුදුස්සො', 'නියෝජිතයෝද': 'නියෝජිතයෝ', 'කල්පනා': 'කල්ප', 'දකින': 'දකි', 'මගෙ': 'ම', 'නෙතටත්': 'නෙතටත', 'කදුලු': 'කදුල', 'උනනවා': 'උන', 'පුතුන්': 'පුතුන', 'ටත්': 'ටත', 'මේවැනිම': 'මේවැනි', 'හැගිමක්': 'හැගිමක', 'පිය': '', 'සෙව්වත්': 'සෙව්වත', 'ඔවුන්ගේම': 'ඔවුන්', 'අනගතය': 'අනගත', 'සරිකරලීමට': 'සරිකරලීම', 'දුරු': 'දුර', 'ගෙවන': 'ගෙව', 'කටුක': 'කටු', 'ජිවිතය': 'ජිවිත', 'රනිල්ව': 'රනිල්', 'විශ්වාසභංගයක්': 'විශ්වාසභංගයක', 'වැය': 'වැ', 'පරාජය': 'පරාජ', 'කිරීමක්': 'කිරීමක', 'පහසුවෙන්': 'පහසුවෙන', 'විවස්ථාව': 'විවස්ථා', 'නොවෙන': 'නොවෙ', 'ආකාරයට': 'ආකාරය', 'ලෝකයා': 'ලෝක', 'හිනස්සන්නේ': 'හිනස්ස', 'දෙමාපියන්': 'දෙමාපියන', 'දෙවියනි': 'දෙවිය', 'ලෝකයම': 'ලෝකය', 'විශාල': 'විශා', 'ගැටලුවක්': 'ගැටලුවක', 'තිබේ': 'තිබ', 'මුස්ලිම්වරු': 'මුස්ලිම්වර', 'යුරෝපයෙන්': 'යුරෝපයෙන', 'ජාතිකයන්': 'ජාතිකයන', 'සටන්': 'සටන', 'කරති': 'කර', 'සියල්ලන්ම': 'සියල්ලන්', 'දෙනාටම': 'දෙනා', 'ලෝකය': 'ලෝක', 'නවත්වන්නෙමු': 'නවත්ව', 'පළමුව': 'පළමු', 'අහිංසක': 'අහිංස', 'මිනිසා': 'මිනිස', 'ඝාතනය': 'ඝාතන', 'කිරීමේ': 'කිරී', 'ක්රියාවලිය': 'ක්රියාවලි', 'මිලක්': 'මිලක', 'රුධිරයට': 'රුධිරය', 'රුධිරය': 'රුධිර', 'සියල්ලම': 'සියල්ල', 'සිවිල්': 'සිවිල', 'යුද්ධය': 'යුද්ධ', 'අපගේ': 'අප', 'සොල්දාදුවන්ට': 'සොල්දාදුවන්', 'කියන්නෙමු': 'කිය', 'ඊනියා': 'ඊනි', 'ඇමතිවරුන්': 'ඇමතිවරුන', 'කුමක්': 'කුමක', 'ලංකාවෙන්': 'ලංකාවෙන', 'පිටවෙන්න': 'පිටවෙන්', 'ශ්රී': 'ශ්ර', 'ලාංකික': 'ලාංකි', 'මුස්ලිම්වරුන්': 'මුස්ලිම්වරුන', 'යාච්ඤා': 'යාච්ඤ', 'බෝධීන්': 'බෝධීන', 'වහන්සේලාට': 'වහන්සේලා', 'ප්රහාරයක්': 'ප්රහාරයක', 'කොහෙත්ම': 'කොහෙත්', 'නොපෙනෙන': 'නොපෙනෙ', 'තත්ත්වයක්': 'තත්ත්වයක', 'නවත්වන්න': 'නවත්වන්', 'දින': 'දි', 'දිනකට': 'දින', 'උඹේ': 'උඹ', 'ඩෝග්ස්': 'ඩෝග්ස', 'ලජ්ජාවක්ද': 'ලජ්ජාවක්', 'ඉස්ලාමිය': 'ඉස්ලාමි', 'කිතුනුවකු': 'කිතුනුව', 'සාමකාමී': 'සාමකාම', 'ක්රිස්තියානි': 'ක්රිස්තියා', 'ආගමට': 'ආගම', 'හැරවීමට': 'හැරවීම', 'බුකී': 'බු', 'කාරයා': 'කාර', 'සභාපති': 'සභාප', 'පුටුවේ': 'පුටු', 'තියන්': 'තියන', 'ටෙස්ට්': 'ටෙස්ට', 'තත්වෙ': 'තත්', 'කොල්ලො': 'කොල්ල', 'පිච්': 'පිච', 'කපල': 'කප', 'ටොස්': 'ටොස', 'දිනල': 'දින', 'විකුණපු': 'විකුණ', 'මාලිංගට': 'මාලිංග', 'පුඵවන්': 'පුඵවන', 'බැට්': 'බැට', 'උස්සන්': 'උස්සන', 'ලකුණු': 'ලකුණ', 'සීමා': 'සීම', 'මැව්': 'මැව', 'පරද්දපු': 'පරද්ද', 'කිරිකැටියන්ට': 'කිරිකැටියන්', 'ඇඳට': 'ඇඳ', 'ගෙනියනකන්': 'ගෙනියනකන', 'තම්බියොන්ට': 'තම්බියොන්', 'කෙල්ලොන්ගෙන්': 'කෙල්ලොන්ගෙන', 'ගැනීමට': 'ගැනීම', 'ඉස්ලාම්': 'ඉස්ලාම', 'පිරිමින්ගේ': 'පිරිමින්', 'වාසියට': 'වාසිය', 'ඔවුන්ගේ': 'ඔවුන්', 'ලොක්කා': 'ලොක්', 'සාදා': 'සාද', 'ගොස්': 'ගොස', 'නීතියේ': 'නීති', 'ජාතිවාදී': 'ජාතිවාද', 'ලේබලයට': 'ලේබලය', 'බියක්': 'බියක', 'නිහඬව': 'නිහඬ', 'ඔබට': 'ඔබ', 'ඔබලා': 'ඔබ', 'ජොලියෙන්': 'ජොලියෙන', 'ඉඳලා': 'ඉඳ', 'හම්බත්': 'හම්බත', 'මැරිල': 'මැරි', 'දිනෙක': 'දිනෙ', 'මිණිබිරිය': 'මිණිබිරි', 'වරු': 'වර', 'ලංකාවක': 'ලංකාව', 'යසනයට': 'යසනය', 'ගොදුරු': 'ගොදුර', 'වනවා': 'ව', 'නිසැක': 'නිසැ', 'දෙය': 'දෙ', 'බෞද්ධයන්': 'බෞද්ධයන', 'පුනර්භවය': 'පුනර්භව', 'කරනා': 'කර', 'ඔබගේ': 'ඔබ', 'භවයේ': 'භව', 'මුණුබුරු': 'මුණුබුර', 'පරම්පරාවට': 'පරම්පරාව', 'මෙසේ': 'මෙස', 'දාව': 'දා', 'ඉපිද': 'ඉපි', 'ඛේදජනක': 'ඛේදජන', 'ඉරණමට': 'ඉරණම', 'ගොදුරක්': 'ගොදුරක', 'අපා': 'අප', 'විඳින්නේ': 'විඳි', 'පාරිභෝගිකයින්': 'පාරිභෝගිකයින', 'ගොනාට': 'ගොනා', 'අන්දවා': 'අන්ද', 'එටිසලාට්': 'එටිසලාට', '්': '', 'ෑම': 'ෑ', 'නගරයක': 'නගරය', 'සැදීමට': 'සැදීම', 'රධාන': 'රධා', 'රාහකත්වය': 'රාහකත්ව', 'සිංහලයාගේ': 'සිංහලයා', 'ගුබ්බෑයම්': 'ගුබ්බෑයම', 'වර්ජනය': 'වර්ජන', 'සිංහලූනේ': 'සිංහලූන', 'සිංහයනි': 'සිංහය', 'දුරටත්': 'දුරටත', 'නිදා': 'නිද', 'අනාගතයේ': 'අනාගත', 'පැටවුන්': 'පැටවුන', 'වූ': 'ව', 'ම්ලේච්ඡුයන්ට': 'ම්ලේච්ඡුයන්', 'වීම': 'වී', 'වැළැක්විය': 'වැළැක්වි', 'නොහැකි': 'නොහැ', 'මිනිහෙක්ව': 'මිනිහෙක්', 'කසාද': 'කසා', 'බඳින්න': 'බඳින්', 'පව්කාරකමකට': 'පව්කාරකම', 'ඉපදුණේ': 'ඉපද', 'මොහුගේ': 'මොහු', 'මව': 'ම', 'දැක්වූයේ': 'දැක්වූ', 'මැරුණත්': 'මැරුණත', 'බෝධිය': 'බෝධි', 'රැුක': 'රැු', 'බෙදාහදා': 'බෙදාහද', 'ගනිමින්': 'ගනිමින', 'රස්තවාදයට': 'රස්තවාදය', 'විරුද්ධත්වය': 'විරුද්ධත්ව', 'කථාද': 'කථා', 'දෙමව්පියෝ': 'දෙමව්පි', 'විකුනලා': 'විකුන', 'හොයාපල්ලා': 'හොයා', 'තැනම': 'තැන', 'යක්ෂයා': 'යක්ෂ', 'ඇන්ජලෝ': 'ඇන්ජල', 'මැතිව්ස්ගේ': 'මැතිව්ස්', 'නායකත්වයට': 'නායකත්වය', 'පේජ්': 'පේජ', 'නම': 'න', 'ඔයාද': 'ඔයා', 'වාසියක්': 'වාසියක', 'තරමේ': 'තර', 'අයිතිකරුට': 'අයිතිකරු', 'කියන්නවත්': 'කියන්නවත', 'සහජීවන': 'සහජීව', 'නීතිය': 'නීති', 'හෙල්මට්': 'හෙල්මට', 'ගියාට': 'ගියා', 'අපේම': 'අපේ', 'සිංහළයන්ගේ': 'සිංහළයන්', 'නිෂ්පාදන': 'නිෂ්පාද', 'වෙළද': 'වෙළ', 'අධිකාරියක්': 'අධිකාරියක', 'නගමු': 'නග', 'ආඩම්බරෙන්': 'ආඩම්බරෙන', 'වෙල්ලස්සේ': 'වෙල්ලස්ස', 'කිව්වට': 'කිව්ව', 'ජාතික': 'ජාති', 'වීරයෝ': 'වීර', 'හුඟාක්': 'හුඟාක', 'දකින්නෙ': 'දකි', 'අන්තර්ජාලයේ': 'අන්තර්ජාල', 'හැමතැනම': 'හැමතැන', 'හුවමාරුවෙන': 'හුවමාරුවෙ', 'තේරෙන': 'තේරෙ', 'භාෂාවෙන්': 'භාෂාවෙන', 'සරලව': 'සරල', 'වීඩියෝවේ': 'වීඩියෝ', 'හිමිකරු': 'හිමිකර', 'දන්වන්න': 'දන්වන්', 'මෙහි': '', 'සඳහන්': 'සඳහන', 'බල්ලන්ගේ': 'බල්ලන්', 'බැලිමේ': 'බැලි', 'පිපාසයෙන්': 'පිපාසයෙන', 'පෙලෙන': 'පෙලෙ', 'මුස්තාපා': 'මුස්තාප', 'රාවුෆ්': 'රාවුෆ', 'හකීම්': 'හකීම', 'මහපුටුව': 'මහපුටු', 'කොංග්': 'කොංග', 'රසයට': 'රසය', 'ඉල්ලනවලු': 'ඉල්ලනවල', 'පිනට': 'පින', 'හිතුවද': 'හිතුව', 'මුගෙ': 'මු', 'සිංහලයා': 'සිංහල', 'මෝඩයා': 'මෝඩ', 'කැවුම්': 'කැවුම', 'සූරයා': 'සූර', 'ෂෙයා': 'ෂෙ', 'කිරිම': 'කිරි', 'නොකිරිම': 'නොකිරි', 'විමසීමට': 'විමසීම', 'මැරු': 'මැර', 'මුස්ලිමානුවෝ': 'මුස්ලිමානු', 'බල්ලෝ': 'බල්ල', 'බැහැපිය': 'බැහැ', 'එළියට': 'එළිය', 'අයුක්තිය': 'අයුක්ති', 'රජයන': 'රජය', 'ඉකිරිගොල්ලෑවේ': 'ඉකිරිගොල්ලෑ', 'වසීම්': 'වසීම', 'හෝටලය': 'හෝටල', 'නින්දේ': 'නින්ද', 'බොදු': 'බොද', 'බල': 'බ', 'සේනාවට': 'සේනාව', 'බුරන': 'බුර', 'නඩය': 'නඩ', 'බල්ලාට': 'බල්ලා', 'දමා': 'දම', 'සුද්දාට': 'සුද්දා', 'දෙමළාට': 'දෙමළා', 'තම්බියාට': 'තම්බියා', 'ෆොන්සේකා': 'ෆොන්සේ', 'සිරිසේනගේ': 'සිරිසේන', 'අමුඩය': 'අමුඩ', 'ගලවයි': 'ගලව', 'ආචාරියා': 'ආචාරි', 'කොලෙත්': 'කොලෙත', 'ඉරාගෙන': 'ඉරාගෙ', 'ඇඟෙත්': 'ඇඟෙත', 'හළාගෙන': 'හළාගෙ', 'ඉඳුල්': 'ඉඳුල', 'ඇඟේ': 'ඇඟ', 'උලාගෙන': 'උලාගෙ', 'මේකගෙ': 'මේ', 'මොලේ': 'මොල', 'ලුණු': 'ලුණ', 'ගොරකා': 'ගොර', 'මූතමයි': 'මූතම', 'රුපියල': 'රුපිය', 'බාල්දුවෙනවිට': 'බාල්දුවෙනවි', 'ඩොලරය': 'ඩොලර', 'නගිනවිට': 'නගිනවි', 'රුපියල්': 'රුපියල', 'එනවා': 'එ', 'අම්මපා': 'අම්මප', 'යාලුවන': 'යාලුව', 'ේ': 'ෙ', 'කුලියාපිටිය': 'කුලියාපිටි', 'ෙ': '', 'බස්': 'බස', 'නැවතුම': 'නැවතු', 'මනුස්සය': 'මනුස්ස', 'බඩගින්න': 'බඩගින්', 'නිමුවා': 'නිමු', 'අැදුනුත්': 'අැදුනුත', 'දුන්නා': 'දුන්', 'අවංකවම': 'අවංකව', 'ොට': 'ො', 'ෝ': 'ො', 'ේකට': 'ේ', 'දැම්ම': 'දැම්', 'ඔයාලවත්': 'ඔයාලවත', 'ොද': 'ො', 'ො': 'ෙ', 'උවමනාව': 'උවමනා', 'නන්නත්තාරයි': 'නන්නත්තාර', 'දනිස්': 'දනිස', 'උරහිස්': 'උරහිස', 'පිදුරංගල': 'පිදුරංග', 'පූජනීය': 'පූජනී', 'දුන්නු': 'දුන්', 'වටිනාකම': 'වටිනාක', 'පුක': 'පු', 'පෙන්නපු': 'පෙන්න', 'වැදපන්': 'වැදපන', 'සුද්දිට': 'සුද්දි', 'දනගහලා': 'දනගහ', 'ලන්කාවෙ': 'ලන්කා', 'එව්න්ට': 'එව්න්', 'උගන්නල': 'උගන්න', 'හැසිරෙන්න': 'හැසිරෙන්', 'වහා': 'වහ', 'කපියව්': 'කපියව', 'වලත්': 'වලත', 'මොකෙක්': 'මොකෙක', 'හරකෙක්': 'හරකෙක', 'කලාම': 'කලා', 'ඔක්කොමත්': 'ඔක්කොමත', 'මේ': 'මෙ', 'සංචාරකයෝ': 'සංචාරකයො', 'රු': 'ර', 'ගන්නව': 'ගන්න', 'හැදිච්ච': 'හැද', 'ලෝකෙටම': 'ලෝකෙ', 'පෙන්වනව': 'පෙන්වන', 'අපේ': 'අපෙ', 'මොට්ටයො': 'මොට්ටයෙ', 'ලෝකෙට': 'ලෝකෙ', 'දිපු': 'දි', 'ඩොලරයෙන්': 'ඩොලරයෙන', 'ශක්තිමත්': 'ශක්තිමත', 'වෙනව': 'වෙන', 'හිතන්': 'හිතන', 'හෙලුව': 'හෙලු', 'බුරුවන්ගේ': 'බුරුවන්', 'රාජධානිය': 'රාජධානි', 'එකතුවෙලා': 'එකතුවෙ', 'අට': 'අ', 'පාස්': 'පාස', 'උන්ගේ': 'උන්', 'නායකයා': 'නායක', 'පත්කරගෙන': 'පත්කරගෙ', 'දදා': 'දද', 'ගූ': 'ග', 'ඵ්ත්': 'ඵ්ත', 'අවංකද': 'අවංක', 'යන්නට': 'යන්න', 'අපූරු': 'අපූර', 'නිදසුනක්': 'නිදසුනක', 'තරැනයන්': 'තරැනයන', 'පුසිද්ධියේ': 'පුසිද්ධි', 'අගැයීමකට': 'අගැයීම', 'සංචාරකයන්': 'සංචාරකයන', 'වුන': 'වු', 'විශේෂත්ය': 'විශේෂත්', 'ලාංකීකයෝ': 'ලාංකීක', 'සිද්ධියක්': 'සිද්ධියක', 'බැනල': 'බැන', 'උගන්නන්නෙත්': 'උගන්නන්නෙත', 'සීගිරිය': 'සීගිරි', 'කාශ්': 'කාශ', 'ඉස්සරලම': 'ඉස්සරල', 'රාවන': 'රාව', 'රජතුමා': 'රජතුම', 'රජදරුවන්ගේ': 'රජදරුවන්', 'පෙන්විමෙන්': 'පෙන්විමෙන', 'එකල': 'එක', 'කැටයම්කරුවන්': 'කැටයම්කරුවන', 'ඉංජිනේරු': 'ඉංජිනේර', 'කිරිමට': 'කිරිම', 'හුරු': 'හුර', 'වෙමු': 'වෙ', 'කැවා': 'කැ', 'ඉතිහාසය': 'ඉතිහාස', 'රහතන්වහන්සේලාට': 'රහතන්වහන්සේලා', 'රහත්වෙන්න': 'රහත්වෙන්', 'සුදුසු': 'සුදුස', 'පරිසරයෙ': 'පරිසර', 'වටිනාකමට': 'වටිනාකම', 'හානිවෙන්න': 'හානිවෙන්', 'තෙරුවන්': 'තෙරුවන', 'හැටියක්': 'හැටියක', 'එහෙ': 'එහ', 'මෙහෙ': 'මෙහ', 'වැදගත්කම': 'වැදගත්ක', 'සමස්ථයක්': 'සමස්ථයක', 'තරුණිය': 'තරුණි', 'ආදර්ශක්ද': 'ආදර්ශක්', 'මුතුන්': 'මුතුන', 'මිත්තො': 'මිත්ත', 'අගයක්': 'අගයක', 'නොදැනෙන': 'නොදැනෙ', 'තරමටම': 'තරම', 'මොල': 'මො', 'හිතන': 'හිත', 'ගති': 'ග', 'සිරිත්': 'සිරිත', 'වෙනස්': 'වෙනස', 'පිටරටකට': 'පිටරට', 'තේරෙණවා': 'තේරෙණ', 'දහසකට': 'දහස', 'තියන්නෙ': 'තිය', 'ලෝකයට': 'ලෝකය', 'ඉදිරියෙන්ද': 'ඉදිරියෙන්', 'සුද්දො': 'සුද්ද', 'එවුන්ගෙ': 'එවුන්', 'එදා': 'එද', 'අනගාරික': 'අනගාරි', 'ධර්මපාල': 'ධර්මපා', 'කිව්වෙ': 'කිව්', 'ලෝකයටම': 'ලෝකය', 'වෙද': 'වෙ', 'ඉගැන්වූ': 'ඉගැන්ව', 'ගරුක': 'ගරු', 'රාවණා': 'රාවණ', 'ද්': 'ද', 'රෝහියෙක්': 'රෝහියෙක', 'වාල්මිකී': 'වාල්මි', 'ලියූ': 'ලිය', 'රාමායනය': 'රාමායන', 'පාසලේ': 'පාසල', 'උගන්වනවා': 'උගන්ව', 'අවදිකල': 'අවදික', 'නිදහස්': 'නිදහස', 'තොටිල්ල': 'තොටිල්', 'එස්': 'එස', 'හිමි': 'හි', 'ජාතිවාදියෙක්': 'ජාතිවාදියෙක', 'මුල': 'මු', 'සිටම': 'සි', 'උරුමයන්': 'උරුමයන', 'පුළුල්': 'පුළුල', 'කිරීමට': 'කිරීම', 'හැකිවේවා': 'හැකිවේ', 'සුබවාදී': 'සුබවාද', 'ඇතිකිරීමට': 'ඇතිකිරීම', 'කළහැකි': 'කළහැ', 'බොහෝයි': 'බොහෝ', 'බිලි': 'බ', 'දෙකු': 'දෙ', 'ඉපදීම': 'ඉපදී', 'දෙදාස්': 'දෙදාස', 'පන්සීයෙ': 'පන්සී', 'රසූතියට': 'රසූතිය', 'ළමා': 'ළම', 'ඇදුමක්': 'ඇදුමක', 'ගිලිය': 'ගිලි', 'බvවට': 'බvව', 'පැනවිය': 'පැනවි', 'යුතුය': 'යුතු', 'සියළු': 'සියළ', 'එහෙමත්': 'එහෙමත', 'සුරකින': 'සුරකි', 'විලිලැජ්ජැවේ': 'විලිලැජ්ජැ', 'ගම': 'ග', 'දකින්නට': 'දකින්න', 'තියෙන්න': 'තියෙන්', 'ගත්තට': 'ගත්ත', 'ගැටළුවක්': 'ගැටළුවක', 'සිද්ධිය': 'සිද්ධි', 'ඩොක්ටර්': 'ඩොක්ටර', 'දෙමව්පියන්ට': 'දෙමව්පියන්', 'මෙයා': 'මෙ', 'සති': 'ස', 'හයක්': 'හයක', 'එයාගේ': 'එයා', 'දෙමව්පියන්': 'දෙමව්පියන', 'එවල': 'එව', 'ඔවුන්ට': 'ඔවුන්', 'සබ්ටයිටල්ස්': 'සබ්ටයිටල්ස', 'මැයගේ': 'මැය', 'අදහසට': 'අදහස', 'ගරුකරනව': 'ගරුකරන', 'කාගෙන්වත්': 'කාගෙන්වත', 'සිරිත්විරිත්': 'සිරිත්විරිත', 'ඉගනගතයුතු': 'ඉගනගතයුත', 'හිත්වල': 'හිත්ව', 'ගුනදහම්': 'ගුනදහම', 'තියනව': 'තියන', 'හැවැයි': 'හැවැ', 'යටපත්වෙල': 'යටපත්වෙ', 'ඉපදුන': 'ඉපදු', 'ආදරය': 'ආදර', 'හෙනහුරන්ට': 'හෙනහුරන්', 'බලාපල්ලා': 'බලා', 'මිනිස්සුන්': 'මිනිස්සුන', 'දක්වන': 'දක්ව', 'ගෞරවේ': 'ගෞර', 'කලු': 'කල', 'සුද්දෝ': 'සුද්ද', 'තූ': 'ත', 'සපෝට්': 'සපෝට', 'සප්': 'සප', 'හොරෙක්': 'හොරෙක', 'කටුගස්තොට': 'කටුගස්තො', 'පැත්තේ': 'පැත්ත', 'අල්ල්හු': 'අල්ල්', 'අක්බර්': 'අක්බර', 'රමණීය': 'රමණී', 'දෙවියන්': 'දෙවියන', 'සිංහලයෝ': 'සිංහල', 'මගෙනම්': 'මගෙනම', 'ල0කාව': 'ල0කා', 'දෙයක්වත්': 'දෙයක්වත', 'එයාල': 'එයා', 'විශ්මයට': 'විශ්මය', 'පත්වෙලා': 'පත්වෙ', 'වගකිවයුත්තනි': 'වගකිවයුත්ත', 'විනාශයන්': 'විනාශයන', 'පුද්ගලයින්ද': 'පුද්ගලයින්', 'ආයතනද': 'ආයතන', 'ජාවාරම්කාරයොන්ද': 'ජාවාරම්කාරයොන්', 'කෙනෙකුටම': 'කෙනෙකු', 'එරහිව': 'එරහි', 'රියාත්මක': 'රියාත්ම', 'දැකපු': 'දැක', 'හේතුවක්': 'හේතුවක', 'මනුස්සයෙක්': 'මනුස්සයෙක', 'ඉන්නකොට': 'ඉන්නකො', 'පාගන්න': 'පාගන්', 'නැගිට්ටවන්න': 'නැගිට්ටවන්', 'තාත්තාටම': 'තාත්තා', 'වැටුන': 'වැටු', 'කෙනෙක්ව': 'කෙනෙක්', 'උඹට': 'උඹ', 'එකෙක්ටම': 'එකෙක්', 'ආයිත්': 'ආයිත', 'නැගිටපන්': 'නැගිටපන', 'අයියේ': 'අයි', 'උනහමත්': 'උනහමත', 'නුවරයි': 'නුවර', 'වුනුයි': 'වුනු', 'පනින': 'පනි', 'කොනේවත්': 'කොනේවත', 'ඇත්තට': 'ඇත්ත', 'ඔබවැනි': 'ඔබවැ', 'අඩමිබරයි': 'අඩමිබර', 'ඇසීමත්': 'ඇසීමත', 'අනාගතයක්': 'අනාගතයක', 'විශිෂ්ටයි': 'විශිෂ්ට', 'මල්ලියා': 'මල්ලි', 'සම්පතක්': 'සම්පතක', 'අගයනවා': 'අගය', 'ස්තූතිය': 'ස්තූති', 'කෙසෙවෙතත්': 'කෙසෙවෙතත', 'කොල්ලාට': 'කොල්ලා', 'ආඩම්බරයි': 'ආඩම්බර', 'දරැවෙක්': 'දරැවෙක', 'තෙරැවන්': 'තෙරැවන', 'සරනයි': 'සරන', 'ජය': 'ජ', 'කරුවෝ': 'කරු', 'ඔයාල': 'ඔයා', 'දරුවො': 'දරුව', 'අවශ්': 'අවශ', 'පුතේ': 'පුත', 'උපන්': 'උපන', 'පලයන්': 'පලයන', 'උන්නොත්': 'උන්නොත', 'හිතා': 'හිත', 'ගන්නත්': 'ගන්නත', 'නිකම්': 'නිකම', 'ඇහුවේ': 'ඇහු', 'ලාංකිකයෝ': 'ලාංකික', 'හැගීම': 'හැගී', 'ආගම්': 'ආගම', 'ජාතීන්': 'ජාතීන', 'බෙදෙනවා': 'බෙදෙ', 'නැත්තම්': 'නැත්තම', 'උංගේ': 'උං', 'පැති': 'පැ', 'නායකයට': 'නායකය', 'තිබුනන්': 'තිබුනන', 'තිබුනානම්': 'තිබුනානම', 'විකුනයි': 'විකුන', 'ෂේප්': 'ෂේප', 'න්ට': 'න්', 'මහන්සියකි': 'මහන්සිය', 'ආදායමක්': 'ආදායමක', 'හොයන': 'හොය', 'තියරිය': 'තියරි', 'එයා': 'එ', 'බලාපොරොත්තු': 'බලාපොරොත්ත', 'නැගී': 'නැග', 'හිටින්න': 'හිටින්', 'ලන්කාව': 'ලන්කා', 'තුන්වෙනි': 'තුන්වෙ', 'නොර්වේ': 'නොර්', 'එකෙකුත්': 'එකෙකුත', 'තනි': 'ත', 'ටෙස්': 'ටෙස', 'එකක්ම': 'එකක්', 'දිනෙවුවා': 'දිනෙවු', 'අතගාල': 'අතගා', 'අරටුව': 'අරටු', 'කියපු': 'කිය', 'රිදෙයි': 'රිදෙ', 'වීඩීයෝස්': 'වීඩීයෝස', 'උස්සනවන්ම්': 'උස්සනවන්ම', 'පොඩ්ඩක්': 'පොඩ්ඩක', 'අහන': 'අහ', 'යුතුකමක්': 'යුතුකමක', 'වීව්ස්': 'වීව්ස', 'වීරකමක්': 'වීරකමක', 'එකකට': 'එ', 'අමුතුවෙන්': 'අමුතුවෙන', 'බූරැවෝ': 'බූරැ', 'එකිනෙකාට': 'එකිනෙකා', 'උදව්': 'උදව', 'ජාතියෙන්': 'ජාතියෙන', 'පාර්ලිමේන්තුවෙ': 'පාර්ලිමේන්තු', 'ජනාධිපතියට': 'ජනාධිපතිය', 'හැදෙන්න': 'හැදෙන්', 'අවුලයි': 'අවුල', 'පාලකයො': 'පාලකය', 'තෝරගන්න': 'තෝරගන්', 'වීල්': 'වීල', 'ගනින්': 'ගනින', 'දොස්තරද': 'දොස්තර', 'එලෙව්වද': 'එලෙව්ව', 'රැකියාවක්': 'රැකියාවක', 'මූනක්': 'මූනක', 'ලගදීම': 'ලගදී', 'අමබානක': 'අමබාන', 'ඉස්පිරිතාලෙ': 'ඉස්පිරිතාල', 'රීවිල්කාරයා': 'රීවිල්කාර', 'ගරාජ්කාරයා': 'ගරාජ්කාර', 'කොන්දා': 'කොන්ද', 'ඩ්': 'ඩ', 'රැයිවරයා': 'රැයිවර', 'උජාරුවට': 'උජාරුව', 'වැඩ්ඩෝ': 'වැඩ්ඩ', 'කොහේ': 'කොහ', 'ඇනුනම': 'ඇනුන', 'එරුනම': 'එරුන', 'ඒම': 'ඒ', 'සමහරක්': 'සමහරක', 'ගතිගුණ': 'ගතිග', 'උගත්': 'උගත', 'බුද්ධිමත්': 'බුද්ධිමත', 'ළඟවත්': 'ළඟවත', 'උන්ව': 'උන්', 'එකාටම': 'එකා', 'දෙයින්': 'දෙයින', 'රීරෝද': 'රීරෝ', 'රියදුරන්': 'රියදුරන', 'ගෙ': '', 'මනුෂ්': 'මනුෂ', 'යත්වය': 'යත්ව', 'හැදුවට': 'හැදුව', 'බූරුවගෙ': 'බූරුව', 'මනුස්සකම': 'මනුස්සක', 'මිනිසුන්ව': 'මිනිසුන්', 'හදුන්වල': 'හදුන්ව', 'තිරිවිල්': 'තිරිවිල', 'බොක්කට': 'බොක්', 'පුතෙ': 'පුත', 'පාවිච්චිය': 'පාවිච්චි', 'වෙවා': 'වෙ', 'මනුස්සයො': 'මනුස්සය', 'කිරිල්ලත්': 'කිරිල්ලත', 'සහො': 'සහ', 'මෙකා': 'මෙ', 'නාම්බේක්': 'නාම්බේක', 'බොරැල්ලේ': 'බොරැල්ල', 'කනත්තට': 'කනත්ත', 'ගැහි': 'ගැ', 'කියවනවා': 'කියව', 'කගෙන්': 'කගෙන', 'උගේ': 'උ', 'සමහට': 'සමහ', 'කොමෙන්ට්': 'කොමෙන්ට', 'බලමුකො': 'බලමුක', 'අනුකම්පාව': 'අනුකම්පා', 'මනුස්සකමින්': 'මනුස්සකමින', 'පිරුනු': 'පිරු', 'අවස්තාවක': 'අවස්තාව', 'හේනක්': 'හේනක', 'කුඹුරක්': 'කුඹුරක', 'කොටපන්': 'කොටපන', 'මී': 'ම', 'හරකො': 'හරක', 'මනුස්සයෝ': 'මනුස්ස', 'ලොකුද': 'ලොකු', 'හෑබෑයි': 'හෑබෑ', 'තර්ජන': 'තර්ජ', 'පවුලේ': 'පවුල', 'පන්නා': 'පන්', 'දේමු': 'දේ', 'දේශපාලුවන්ගේ': 'දේශපාලුවන්', 'පරන්පරාවල්': 'පරන්පරාවල', 'හැදිගෑවිලා': 'හැදිගෑවි', 'පලයව්': 'පලයව', 'දෙමු': 'දෙ', 'හැදිගැවිලා': 'හැදිගැවි', 'දෙශපලුවන්ට': 'දෙශපලුවන්', 'මහජනයාගේ': 'මහජනයා', 'වැජඹෙන': 'වැජඹෙ', 'කාලකණ්ණින්ව': 'කාලකණ්ණින්', 'එළවා': 'එළ', 'දමන්න': 'දමන්', 'වෙිලා': 'වෙි', 'බලාගන්න': 'බලාගන්', 'තාත්තට': 'තාත්ත', 'වටපිටාව': 'වටපිටා', 'බනින': 'බනි', 'අයියලාගේ': 'අයියලා', 'කමෙන්ට්ස්': 'කමෙන්ට්ස', 'හික්මීම': 'හික්මී', 'ආගමකින්': 'ආගමකින', 'තමතුලින්': 'තමතුලින', 'අනදෙයක්': 'අනදෙයක', 'සමුහයක්': 'සමුහයක', 'සමාජයක්': 'සමාජයක', 'විසින්ම': 'විසින්', 'පුහුණු': 'පුහුණ', 'කලදෙයක්': 'කලදෙයක', 'දැම්මොත්': 'දැම්මොත', 'පිකටින්': 'පිකටින', 'එහෙව්': 'එහෙව', 'බැලුවහම': 'බැලුවහ', 'මොඩයිනේ': 'මොඩයිනෙ', 'පොඩ්ඩක්': 'පොඩ්ඩක', 'නැවැත්තුවනම්': 'නැවැත්තුවනම', 'හැමොටම': 'හැමො', 'පහසුනේ': 'පහසුනෙ', 'මේක': 'මේ', 'අගයකරන්න': 'අගයකරන්', 'දාපුඑකා': 'දාපුඑ', 'පිස්සේක්': 'පිස්සේක', 'සමනය': 'සමන', 'මිනිහේක්නොවේ': 'මිනිහේක්නොවෙ', 'තවටිකක්': 'තවටිකක', 'ළමයින්ට': 'ළමයින්', 'අනතුරක්': 'අනතුරක', 'වෙනවද': 'වෙනව', 'කෙනෙකුයි': 'කෙනෙකු', 'හාදයෙකුයි': 'හාදයෙකු', 'යැව්වනම්': 'යැව්වනම', 'අවු': 'අව', '2500ක': '2500', 'ඉතිහාසයකුත්': 'ඉතිහාසයකුත', 'තියනවනේ': 'තියනවන', 'ලෝකයේ': 'ලෝක', 'මුතු': 'මුත', 'ඇටය': 'ඇට', 'වාසනාවන්තද': 'වාසනාවන්ත', 'මාර්ගය': 'මාර්ග', 'වනසේ': 'වනස', 'වාහනය': 'වාහන', 'නතරකිරීම': 'නතරකිරී', 'නඩුත්': 'නඩුත', 'පවරලා': 'පවර', 'ටෙනිසන්': 'ටෙනිසන', 'කුරේලට': 'කුරේල', 'බන්දු': 'බන්ද', 'සමරසින්හලට': 'සමරසින්හල', 'අලුතෙන්ම': 'අලුතෙන්', 'බිහිවුන': 'බිහිවු', 'ජන්දෙ': 'ජන්ද', 'හැටදෙලක්ෂයට': 'හැටදෙලක්ෂය', 'ඇතිනෙ': 'ඇතින', 'හිතුණේ': 'හිත', 'කේන්තියට': 'කේන්තිය', 'ඔහේ': 'ඔහ', 'කියවගෙන': 'කියවගෙ', 'විද්': 'විද', 'යාත්මක': 'යාත්ම', 'පදනමක්': 'පදනමක', 'රයිවට්': 'රයිවට', 'ආවනම්': 'ආවනම', 'දෙයි': 'දෙ', 'මොවුන්දලට': 'මොවුන්දල', 'ඉවසීමෙන්': 'ඉවසීමෙන', 'මාරයා': 'මාර', 'ලගා': 'ලග', 'ඉස්කෝලෙට': 'ඉස්කෝලෙ', 'පැන්නහම': 'පැන්නහ', 'තිහක්': 'තිහක', 'හතලිහක්': 'හතලිහක', 'පාරට': 'පාර', 'මිහරක්': 'මිහරක', 'රිවිල්': 'රිවිල', 'කාරයොයි': 'කාරයො', 'විනීතයි': 'විනීත', 'ලංකාවත්': 'ලංකාවත', 'මේවගෙ': 'මේව', 'අපූරුද': 'අපූරු', 'හිතනවද': 'හිතනව', 'විනය': 'වින', 'දරුවෙක්': 'දරුවෙක', 'ඉදන්ම': 'ඉදන්', 'ලැබිලත්': 'ලැබිලත', 'කලකිරුනම': 'කලකිරුන', 'ඇඩ්මින්ට': 'ඇඩ්මින්', 'මෙතනයි': 'මෙතන', 'වැරදුනේ': 'වැරදුන', 'හහ්': 'හහ', 'කල්පයක්': 'කල්පයක', 'බලාගෙන': 'බලාගෙ', 'අයින්': 'අයින', 'රතමයෙන්ම': 'රතමයෙන්', 'ඊවා': 'ඊ', 'මහත්මිය': 'මහත්මි', 'අධිකරණයේ': 'අධිකරණ', 'සිටියේ': 'සිටි', 'රිපුද්ගල': 'රිපුද්ග', 'විනිසුරු': 'විනිසුර', 'මඩුල්ලේ': 'මඩුල්ල', 'විනිසුරුවරුන්ගේ': 'විනිසුරුවරුන්', 'එකඟතාවය': 'එකඟතාව', 'අභියාචනය': 'අභියාචන', 'අධිකරණයට': 'අධිකරණය', 'හිමියන්ට': 'හිමියන්', 'චෝදනා': 'චෝද', 'හතරක්': 'හතරක', 'එල්ල': 'එල්', 'ආකාරය': 'ආකාර', 'නීතියට': 'නීතිය', 'නීතිපතිවරයා': 'නීතිපතිවර', 'පෙනී': 'පෙන', 'නියෝජ්': 'නියෝජ', 'සොලිසිටර්': 'සොලිසිටර', 'ජෙනරාල්': 'ජෙනරාල', 'අබේසූරිය': 'අබේසූරි', 'මහතා': 'මහත', 'අභියාචනාධිකරණයට': 'අභියාචනාධිකරණය', 'බලයක්': 'බලයක', 'ඔයවගේ': 'ඔයව', 'ඉන්නකම්': 'ඉන්නකම', 'නොහැකිය': 'නොහැ', 'මෑන්ට': 'මෑන්', 'අමතකයි': 'අමතක', 'ජනාදිපති': 'ජනාදිප', 'එයැයි': 'එයැ', 'තාත්තාට': 'තාත්තා', 'කෙල්ලෝ': 'කෙල්ල', 'මනුස්සයා': 'මනුස්ස', 'බලන්නේවත්': 'බලන්නේවත', 'ආදරනීය': 'ආදරනී', 'දුවෙක්': 'දුවෙක', 'දූලා': 'දූ', 'දසුනෙන්ම': 'දසුනෙන්', 'පෙනෙන්න': 'පෙනෙන්', 'ඇතැයි': 'ඇතැ', 'සිතනව': 'සිතන', 'දුන්නෝ': 'දු', 'ළමයින්': 'ළමයින', 'මරන්න': 'මරන්', 'වද': 'ව', 'පෙති': 'පෙ', 'දොස්තරලා': 'දොස්තර', 'මරනේන්': 'මරනේන', 'කරයිද': 'කරයි', 'සැමට': 'සැම', 'අදර්ශයක්': 'අදර්ශයක', 'ඇද්දත්': 'ඇද්දත', 'ඇහැක්': 'ඇහැක', 'ලොකේ': 'ලො', 'අගේකල': 'අගේක', 'යුතුමයි': 'යුතුම', 'උනානමි': 'උනාන', 'මොනතරමි': 'මොනතර', 'ලස්සනද': 'ලස්සන', 'මිට': 'මි', 'ගුනයහපත්': 'ගුනයහපත', 'ඔිනි': 'ඔි', 'එ්ත්': 'එ්ත', 'වැඩියි': 'වැඩි', 'උගන්වන්නේ': 'උගන්ව', 'කැම්පස්': 'කැම්පස', 'විශයක්': 'විශයක', 'අපිම': 'අපි', 'රගුණ': 'රග', 'වෙයන්': 'වෙයන', 'මමද': 'මම', 'අවුල්ද': 'අවුල්', 'නෝනලා': 'නෝන', 'මෙඩිකල්': 'මෙඩිකල', 'ගව්': 'ගව', 'ගානණක්': 'ගානණක', 'උඩින්': 'උඩින', 'වෛද්': 'වෛද', 'ර්': 'ර', 'සිසුවියක්': 'සිසුවියක', 'ජීවිතය': 'ජීවිත', 'අහිමි': 'අහි', 'අයෙකු': 'අයෙ', 'බෙිරාගත්': 'බෙිරාගත', 'අපූරැව': 'අපූරැ', 'ආචාරය': 'ආචාර', 'කෙල්ලො': 'කෙල්ල', 'හිටියනම්': 'හිටියනම', 'වෙයිද': 'වෙයි', 'දොස්තරවරු': 'දොස්තරවර', 'අතකොලු': 'අතකොල', 'මරනව': 'මරන', 'කෙල්ලොන්නම්': 'කෙල්ලොන්නම', 'කෘතිම': 'කෘති', 'ස්වසනය': 'ස්වසන', 'සුවර්': 'සුවර', 'සලකනව': 'සලකන', 'දුවේ': 'දු', 'දේව': 'දේ', 'දූතිකාවක්': 'දූතිකාවක', 'බයි': 'බ', 'මනුස්සයෝද': 'මනුස්සයෝ', 'වාහනේ': 'වාහනෙ', 'විදුරැවවත්': 'විදුරැවවත', 'බලන්නේ': 'බලන්නෙ', 'එ්කයි': 'එ්ක', 'කරදරයක්': 'කරදරයක', 'ජිවිතයක්': 'ජිවිතයක', 'ලැබේවා': 'ලැබේ', 'දෙපලට': 'දෙපල', 'සතුන්ට': 'සතුන්', 'තාවකාලිකව': 'තාවකාලික', 'රැකවරණය': 'රැකවරණ', 'දුන්': 'දුන', 'ඇයට': 'ඇය', 'නොදොකින්': 'නොදොකින', 'කාලකන්නියා': 'කාලකන්නි', 'ගීතයක්': 'ගීතයක', 'කාරය': 'කාර', 'තු': 'ත', 'පිටිපස්සේ': 'පිටිපස්ස', 'වාහනේ': 'වාහන', 'බල්ලා': 'බ', 'කවුරුවත්': 'කවුරුවත', 'හිතෙන්න': 'හිතෙන්', 'දුශ්ට': 'දුශ්', 'දුර්ජන': 'දුර්ජ', 'හැඟීම': 'හැඟී', 'උපදින්නේ': 'උපදි', 'තුළයි': 'තුළ', 'ජේසු': 'ජේස', 'පිහිටයි': 'පිහිට', 'චම්පා': 'චම්ප', 'රනාන්දු': 'රනාන්ද', 'ස්තුතියි': 'ස්තුති', 'මේකා': 'මේ', 'උබලට': 'උබල', 'සිම්පල්': 'සිම්පල', 'එකකක්': 'එකකක', 'මුට': 'මු', 'පෙරේතය': 'පෙරේත', 'බුකිපාල': 'බුකිපා', 'මහතාගේ': 'මහතා', 'පෙන්වීම': 'පෙන්වී', 'වක්': 'වක', 'යෝජනයක්': 'යෝජනයක', 'සුදූ': 'සුද', 'වියාපාරය': 'වියාපාර', 'ඕකෙන්': 'ඕකෙන', 'ගලා': 'ග', 'රවුන්ඩ්': 'රවුන්ඩ', 'යනකම්': 'යනකම', 'සන්තිචය': 'සන්තිච', 'ඩොලර්': 'ඩොලර', 'පලට': 'පල', 'මෙතුමන්ලට': 'මෙතුමන්ල', 'තිලංගයගෙ': 'තිලංගය', 'අම්මට': 'අම්ම', 'ලොකෙ': 'ලො', 'ටිම්': 'ටිම', 'අන්තිම': 'අන්ති', 'ටිකෙ': 'ටි', 'ආදයම': 'ආදය', 'ලාභයි': 'ලාභ', 'මෙයිත්': 'මෙයිත', 'රිපාල': 'රිපා', 'ඉන්නො': 'ඉ', 'උනන්දුවක්': 'උනන්දුවක', 'විජයකලා': 'විජයක', 'එකිගෙ': 'එ', 'සෙල්ලම්': 'සෙල්ලම', 'බලයි': 'බල', 'දවසින්': 'දවසින', 'රටත්': 'රටත', 'රිකට්නුත්': 'රිකට්නුත', 'වලපල්ලට': 'වලපල්ල', 'පුරුද්දක්': 'පුරුද්දක', 'පිම්පියො': 'පිම්පිය', 'තරුනයො': 'තරුනය', 'ගෙදරයවලා': 'ගෙදරයව', 'නිදාගන්න': 'නිදාගන්', 'ගොඩගමු': 'ගොඩග', 'තම්බින්ගෙ': 'තම්බින්', 'කැඩෙන': 'කැඩෙ', 'වෙන්නද': 'වෙන්න', 'ඒවට': 'ඒව', 'මෙයාගෙන්': 'මෙයාගෙන', 'පිළිම': 'පිළි', 'තම්බියො': 'තම්බිය', 'කඩන්නෙ': 'කඩ', 'නැහැලු': 'නැහැල', 'සි0හලයන්ට': 'සි0හලයන්', 'හිටියේ': 'හිටි', 'තරහා': 'තරහ', 'පාසලක්': 'පාසලක', 'දැකලවත්': 'දැකලවත', 'වැන්දගෙන': 'වැන්දගෙ', 'චන්දෙ': 'චන්ද', 'ඉල්ලන්': 'ඉල්ලන', 'ඉවසීම': 'ඉවසී', 'දෝතින්': 'දෝතින', 'දෙකය්': 'දෙකය', 'පනහෙ': 'පනහ', 'පොන්න': 'පොන්', 'ගොඩේ': 'ගොඩ', 'වෙය්ද': 'වෙය්', 'එජාපයේ': 'එජාප', 'දෙසන්නට': 'දෙසන්න', 'ෂුවර්': 'ෂුවර', 'මහත්මයෝ': 'මහත්ම', 'තමුන්ට': 'තමුන්', 'ජතතා': 'ජතත', 'කැමැත්තත්': 'කැමැත්තත', 'නැතිවෙනවා': 'නැතිවෙ', 'පාලනය': 'පාලන', 'පෙනවනෙ': 'පෙනවන', 'දන්නැති': 'දන්නැ', 'සංගට': 'සංග', 'වරයත්': 'වරයත', 'ඉමු': 'ඉ', 'දේශපාලනේට': 'දේශපාලනේ', 'මිනිහෙක්ට': 'මිනිහෙක්', 'නිදහසේ': 'නිදහස', 'බෙදා': 'බෙද', 'තොරවත්': 'තොරවත', 'සංගා': 'සංග', 'දේශකයෙක්': 'දේශකයෙක', 'සවන්': 'සවන', 'දීමෙන්': 'දීමෙන', 'දේශපාලනේම': 'දේශපාලනේ', 'වහල්ලු': 'වහල්ල', 'ලේබලේ': 'ලේබල', 'අලවන්නේ': 'අලව', 'ඉස්සෙල්ලාම': 'ඉස්සෙල්ලා', 'මුලින්': 'මුලින', 'නැට්ට': 'නැට්', 'නොපාගගෙන': 'නොපාගගෙ', 'දේශපාලනට': 'දේශපාලන', 'එයි': 'එ', 'අනිවා': 'අනි', 'රමය': 'රම', 'ඔබතුමා': 'ඔබතුම', 'අකුරින්': 'අකුරින', 'ලියැවුණු': 'ලියැවුණ', 'නාමය': 'නාම', 'මෝඩයි': 'මෝඩ', 'සෝ': 'ස', 'කස්ටිය': 'කස්ටි', 'සැහෙන්න': 'සැහෙන්', 'කලබල': 'කලබ', 'එයත්': 'එයත', 'කෙලවගන්න': 'කෙලවගන්', 'අව්ස්තාවාදියෙක්': 'අව්ස්තාවාදියෙක', 'රටහදන්න': 'රටහදන්', 'සංගාට': 'සංගා', 'ගෝඨා': 'ගෝඨ', 'දේශප්': 'දේශප', 'රේමීන්': 'රේමීන', 'බලාගනි': 'බලාග', 'දේසපාලෙනට': 'දේසපාලෙන', 'ආවොත්': 'ආවොත', 'තැනත්': 'තැනත', 'නැතිවෙයි': 'නැතිවෙ', 'මද': 'ම', 'විරාමයක්': 'විරාමයක', 'දෙන්නද': 'දෙන්න', 'නැගිටිමු': 'නැගිටි', 'වලින්ම': 'වලින්', 'ලියලා': 'ලිය', 'සාධාරණයක්': 'සාධාරණයක', 'මොකාට': 'මොකා', 'හද්න්නෙ': 'හද්', 'ගොනා': 'ගො', 'කහින': 'කහි', 'හොරෙකුටවත්': 'හොරෙකුටවත', 'තනියම': 'තනිය', 'සමගයි': 'සමග', 'ජයවේවා': 'ජයවේ', 'ලොඩ්ඩෙක්': 'ලොඩ්ඩෙක', 'පරාද': 'පරා', 'යෙක්': 'යෙක', 'පුත්තලම්': 'පුත්තලම', 'බුරුවෙක්ගේ': 'බුරුවෙක්', 'දාහෙන්': 'දාහෙන', 'සම්පතයි': 'සම්පත', 'අනෙපලඩො': 'අනෙපලඩ', 'හදනරට': 'හදනර', 'මොකාටද': 'මොකාට', 'කියලාදන්නවා': 'කියලාදන්', 'දෙන්නැචන්ද': 'දෙන්නැචන්', 'ඉවරනම්': 'ඉවරනම', 'ඉදපන්': 'ඉදපන', 'බෙරිවද': 'බෙරිව', 'ඔයාටත්': 'ඔයාටත', 'දෙයියන්ගේ': 'දෙයියන්', 'පිහිට': 'පිහි', 'සංස්කෘතියට': 'සංස්කෘතිය', 'නොදන්න': 'නොදන්', 'උබේ': 'උබ', 'දවසේ': 'දවස', 'කිවුවේ': 'කිවු', 'ගාණක්': 'ගාණක', 'ඉදලා': 'ඉද', 'පන්සලකට': 'පන්සල', 'අපායටම': 'අපාය', 'ඇදලා': 'ඇද', 'දැන්මා': 'දැන්ම', 'හොරකම්': 'හොරකම', 'ඔප්පු': 'ඔප්', 'නිදැල්ලේ': 'නිදැල්ල', 'නොකල': 'නොක', 'වරදලට': 'වරදල', 'රටකවත්': 'රටකවත', 'පොත්': 'පොත', 'ඉගැන්නුව': 'ඉගැන්නු', 'ඉන්දියන්': 'ඉන්දියන', 'සාගරයේ': 'සාගර', 'අම්මලා': 'අම්ම', 'තාත්තලා': 'තාත්ත', 'ලෝකෙන්': 'ලෝකෙන', 'රටද': 'රට', 'ආත්මෙක': 'ආත්මෙ', 'දිනම': 'දින', 'ඉපදෙන්නට': 'ඉපදෙන්න', 'රාර්ථනා': 'රාර්ථ', 'කිව්වොත්': 'කිව්වොත', 'පුතෙක්': 'පුතෙක', 'කිව්ව': 'කිව්', 'පෙනි': 'පෙ', 'අසරනය': 'අසරන', 'රසිද්ධියේ': 'රසිද්ධි', 'වංචා': 'වංච', 'එළියෙ': 'එළි', 'අරින්නෙ': 'අරි', 'මහලොකු': 'මහලො', '400ක්': '400ක', 'දූෂණය': 'දූෂණ', 'රජයෙ': 'රජ', 'සූරාකන': 'සූරාක', 'දේශපාළුවන්ට': 'දේශපාළුවන්', 'පගා': 'පග', 'නිලධාරින්ට': 'නිලධාරින්', 'රමොෂන්': 'රමොෂන', 'කුඩුකාරයින්ට': 'කුඩුකාරයින්', 'මැති': 'මැ', 'ඇමතිකම්': 'ඇමතිකම', 'කාගෙ': 'කා', 'පැමිණිල්ලකට': 'පැමිණිල්ල', 'අහුවෙන': 'අහුවෙ', 'අසරණයෙකුට': 'අසරණයෙ', 'වරැද්ද': 'වරැද්', 'නිවැරැද්ද': 'නිවැරැද්', 'හොයන්නෙ': 'හොය', 'මාංචු': 'මාංච', 'මනුස්සයෙක්ට': 'මනුස්සයෙක්', 'පාඩුවෙ': 'පාඩු', 'කපන': 'කප', 'මිනීමරුවෝ': 'මිනීමරු', 'නිදැල්ලෙ': 'නිදැල්ල', 'නිතීයක්': 'නිතීයක', 'විදියක්': 'විදියක', 'ඇස්': 'ඇස', 'තුක්': 'තුක', 'ඇඬිල්ලට': 'ඇඬිල්ල', 'වාව්': 'වාව', 'පට්ටයි': 'පට්ට', 'පිරිමිත්': 'පිරිමිත', 'සමාජෙ': 'සමාජ', 'තරමින්': 'තරමින', 'පිරිමිකම': 'පිරිමික', 'ලබන්නත්': 'ලබන්නත', 'ලබපු': 'ලබ', 'වදපු': 'වද', 'ගෑනියෙක්': 'ගෑනියෙක', 'බාල්දු': 'බාල්ද', 'ඔට්ටු': 'ඔට්ට', 'සාදාරණයි': 'සාදාරණ', 'බුකිවලින්': 'බුකිවලින', 'හොයනවට': 'හොයනව', 'රිකර්': 'රිකර', 'බෝර්ඩ්': 'බෝර්ඩ', 'පලියට': 'පලිය', 'හම්බවෙනවනම්': 'හම්බවෙනවනම', 'ඕයි': 'ඕ', 'ලැජ්ජායි': 'ලැජ්ජා', 'සාක්ෂරතාව': 'සාක්ෂරතා', 'සමින්ද': 'සමින්', 'ඇතුලෙදිම': 'ඇතුලෙදි', 'දේසපාලුවොයි': 'දේසපාලුවො', 'කුමයක්': 'කුමයක', 'දෙරණෙ': 'දෙරණ', 'චෝදනාවකට': 'චෝදනාව', 'දාාලා': 'දාා', 'ජිවිතක්ෂයට': 'ජිවිතක්ෂය', 'හොරකම': 'හොරක', 'පැමිණිලි': 'පැමිණ', 'කරුවන්ගෙ': 'කරුවන්', 'අහුකරල': 'අහුකර', 'සරලයිනේ': 'සරලයින', 'බුකි': 'බු', 'දිනන': 'දින', 'එකවගේම': 'එකව', 'පරදින': 'පරදි', 'එකෙනුත්': 'එකෙනුත', 'මුදල': 'මුද', 'ගෙවලා': 'ගෙව', 'මෙයාව': 'මෙයා', 'බලමුද': 'බලමු', 'සුවිශේෂී': 'සුවිශේෂ', 'පාච්චාරණය': 'පාච්චාරණ', 'කරව': 'කර', 'ගන්නේ': 'ග', 'පාඩුවේ': 'පාඩු', 'තිබුණේ': 'තිබ', 'එ්ක': 'එ්', 'ආයේම': 'ආයේ', 'හිරේට': 'හිරේ', 'මනුස්සයෙක්ගෙන්': 'මනුස්සයෙක්ගෙන', 'ලබලා': 'ලබ', 'ආවා': 'ආ', 'අනුන්ගේ': 'අනුන්', 'විදිනවා': 'විදි', 'මොනාද': 'මොනා', 'ජිවිතෙ': 'ජිවිත', 'මනුස්සයටම': 'මනුස්සය', 'නීතියක්': 'නීතියක', 'කරත්': 'කරත', 'පෙන්නේ': 'පෙ', 'කන්': 'කන', 'ඇහෙන්නේ': 'ඇහෙ', 'මනුස්සයෙක්ව': 'මනුස්සයෙක්', 'හිතේ': 'හිත', 'වේදනාවක්': 'වේදනාවක', 'තොපේ': 'තොප', 'මනුස්සයන්ට': 'මනුස්සයන්', 'කාලකන්නින්ට': 'කාලකන්නින්', 'දුන්නම': 'දුන්න', 'දයාසිරිට': 'දයාසිරි', 'කරගන්නව': 'කරගන්න', 'වැදුනේ': 'වැදුන', 'මැරේන්න': 'මැරේන්', 'ලන්': 'ලන', 'වෙලත්': 'වෙලත', 'වැඩිය': 'වැඩි', 'නරන': 'නර', 'පිරිම': 'පිරි', 'කමට': 'කම', 'නරා': 'නර', 'නොකරපු': 'නොකර', 'වරදකට': 'වරද', 'සොරකම්': 'සොරකම', 'නඩුවකට': 'නඩුව', 'මේකනම්': 'මේකනම', 'රණයක': 'රණය', 'සමහරවිට': 'සමහරවි', 'මැරුන': 'මැරු', 'කියයිද': 'කියයි', 'හොරකමකට': 'හොරකම', 'අහුවෙලා': 'අහුවෙ', 'ටී': 'ට', 'ලෑස්ති': 'ලෑස්', 'හිතුමතේගෙ': 'හිතුමතේ', 'කතාවට': 'කතාව', 'පොලීසියට': 'පොලීසිය', 'පීරිස්': 'පීරිස', 'එලිපිට': 'එලිපි', 'චෝදනාවන්': 'චෝදනාවන', 'අවන්කව': 'අවන්ක', 'කියුව': 'කියු', 'තිරිසන්': 'තිරිසන', 'දේම': 'දේ', 'ඈයෝ': 'ඈ', 'තුප්පහි': 'තුප්ප', 'උපදින': 'උපදි', 'ආත්මෙකනම්': 'ආත්මෙකනම', 'අමුතු': 'අමුත', 'ඇටේ': 'ඇට', 'නොඉපදේවා': 'නොඉපදේ', 'දේශගුණික': 'දේශගුණි', 'ස්වාභාවික': 'ස්වාභාවි', 'ආත්ම': 'ආත්', 'වෙමින්': 'වෙමින', 'රටක්ම': 'රටක්', 'එනවට': 'එනව', 'මේහේ': 'මේහ', 'ඉන්නෙක': 'ඉන්නෙ', 'හොඳයි': 'හොඳ', 'දෙරන': 'දෙර', 'තොරතුරු': 'තොරතුර', 'බිස්නස්': 'බිස්නස', 'ඉන්ටර්වීව්': 'ඉන්ටර්වීව', 'රශ්ණය': 'රශ්ණ', 'ගැබුරු': 'ගැබුර', 'යලෝක': 'යලෝ', 'අපායට': 'අපාය', 'මාර්ගයනම්': 'මාර්ගයනම', 'හදාගන්නවා': 'හදාගන්', 'ආර්යයන්': 'ආර්යයන', 'ගරහා': 'ගරහ', 'බවනම්': 'බවනම', 'පේනවා': 'පේ', 'රාවක': 'රාව', 'වඳින්නෙ': 'වඳි', 'දෙමාපියන්ගෙන්': 'දෙමාපියන්ගෙන', 'ලැබුණු': 'ලැබුණ', 'ගස්සවන': 'ගස්සව', 'දර්ශනය': 'දර්ශන', 'පිලිපදින්නෙ': 'පිලිපදි', 'හසුරවන': 'හසුරව', 'දහමට': 'දහම', 'සූත්': 'සූත', 'රයට': 'රය', 'විනයට': 'විනය', 'ගලපා': 'ගලප', 'දහම්': 'දහම', 'අවබෝධයක්': 'අවබෝධයක', 'පමනයි': 'පමන', 'ගැලපීම': 'ගැලපී', 'තිබෙන්නේ': 'තිබෙ', 'රශ්නෙත්': 'රශ්නෙත', 'ඇහුව': 'ඇහු', 'ධර්මයට': 'ධර්මය', 'ගලපන්නෙ': 'ගලප', 'ගලපන': 'ගලප', 'ඔළුවක්': 'ඔළුවක', 'ගොයියෝ': 'ගොයි', 'කාලයක': 'කාලය', 'තරමි': 'තර', 'පහදල': 'පහද', 'මකනවා': 'මක', 'අපහසු': 'අපහස', 'නැත්නමි': 'නැත්න', 'මඩම': 'මඩ', 'ඇහුවා': 'ඇහු', 'පිංවත්': 'පිංවත', 'මුදලාලිගෙන්': 'මුදලාලිගෙන', 'පඩුවෙ': 'පඩු', 'මාමේ': 'මා', 'නිදොස්': 'නිදොස', 'කරානම්': 'කරානම', 'කොහෙන්': 'කොහෙන', 'ාහෝ': 'ාහ', 'නීතියෙ': 'නීති', 'දෙවගන': 'දෙවග', 'මේත්': 'මේත', 'සීයාලා': 'සීයා', 'දෙකෙ': 'දෙ', 'පපුව': 'පපු', 'පිච්චිලා': 'පිච්චි', 'හිතුමතේ': 'හිතුමත', 'සාධාරණය': 'සාධාරණ', 'උදවියට': 'උදවිය', 'එයාට': 'එයා', 'සතුටෙන්': 'සතුටෙන', 'වාතවරණයක්': 'වාතවරණයක', 'මනුසයෙක්': 'මනුසයෙක', 'ගස්': 'ගස', 'ගේඩ්': 'ගේඩ', 'යක්': 'යක', 'කඩන්': 'කඩන', 'කැවොත්': 'කැවොත', 'මුනවල්': 'මුනවල', 'ඇදන්': 'ඇදන', 'කරනම්': 'කරනම', 'වහල': 'වහ', 'යන්': 'යන', 'සර්': 'සර', 'පස්සේන්': 'පස්සේන', 'මුන්ගේ': 'මුන්', 'අප්පගේ': 'අප්ප', 'දේයියෝ': 'දේයි', 'ඉවරයක්': 'ඉවරයක', 'දැම්මනම්': 'දැම්මනම', 'හිතක්': 'හිතක', 'ගාල': 'ගා', 'මරාගෙන': 'මරාගෙ', 'කම්බහොරු': 'කම්බහොර', 'සිරබත්': 'සිරබත', 'අල්ලලා': 'අල්ල', 'මහාවීරකමක්': 'මහාවීරකමක', 'දෙනවනම්': 'දෙනවනම', 'ගාන': 'ගා', 'කීයද': 'කීය', 'මනුස්සයව': 'මනුස්සය', 'මිනිසුන්ගේ': 'මිනිසුන්', 'ගාම්භීරත්වයෙන්': 'ගාම්භීරත්වයෙන', 'නංගිට': 'නංගි', 'අපරාධය': 'අපරාධ', 'පලිගත්': 'පලිගත', 'සාදාරණීකරණය': 'සාදාරණීකරණ', 'වුවත්': 'වුවත', 'මනුස්සයගෙන්': 'මනුස්සයගෙන', 'දිගින්': 'දිගින', 'අනවරතේ': 'අනවරත', 'පලිගන්නෙකනම්': 'පලිගන්නෙකනම', 'අසාධාරණයක්': 'අසාධාරණයක', 'එතුමිය': 'එතුමි', 'වරද': 'වර', 'තුන්දෙනාව': 'තුන්දෙනා', 'දැක්කාම': 'දැක්කා', 'හිතුනේ': 'හිතුන', 'විදපු': 'විද', 'දුක': 'දු', 'තුන්දෙනා': 'තුන්දෙ', 'කුසලානයක්': 'කුසලානයක', 'දිනුවාවගේ': 'දිනුවාව', 'වරාය': 'වරා', 'දීපන්': 'දීපන', 'ආය': 'ආ', 'බේරුනා': 'බේරු', 'බලපන්': 'බලපන', 'මචංලා': 'මචං', 'කෑවත්': 'කෑවත', 'ජීවිතේට': 'ජීවිතේ', 'දුන්නට': 'දුන්න', 'ලැප්': 'ලැප', 'නොගත්තනම්': 'නොගත්තනම', 'චන්දේ': 'චන්ද', 'දෙන්නත්': 'දෙන්නත', 'ෆයිල්': 'ෆයිල', 'බේරපු': 'බේර', 'වීරයෙක්': 'වීරයෙක', 'උණ්': 'උණ', 'අවංක': 'අවං', 'ආමී': 'ආම', 'කොල්ලන්ට': 'කොල්ලන්', 'වැඩ්': 'වැඩ', 'ඉල්ලලා': 'ඉල්ල', 'ට්ක': 'ට්', 'කරගන්නවා': 'කරගන්', 'පුටු': 'පුට', 'වගයක්': 'වගයක', 'ගෙන්නලා': 'ගෙන්න', 'කාපල්ලා': 'කා', 'තනකොල': 'තනකො', 'මි': '', 'ලග්දිම': 'ලග්දි', 'දුවන්න': 'දුවන්', 'ඉලගට': 'ඉලග', 'දොස්තරලත්': 'දොස්තරලත', 'මරන': 'මර', 'දොස්තරලට': 'දොස්තරල', 'ගැහුවේ': 'ගැහු', 'දෙපාර්තමේන්තුවේ': 'දෙපාර්තමේන්තු', 'දෙතුන්': 'දෙතුන', 'දුන්නත්': 'දුන්නත', 'නවතින': 'නවති', 'නැතිවෙනකම්': 'නැතිවෙනකම', 'හදුන්නලා': 'හදුන්න', 'වැඩට': 'වැඩ', 'එයාලව': 'එයාල', 'කැමතියි': 'කැමති', 'කවුරැත්': 'කවුරැත', 'හුඟක්ම': 'හුඟක්', 'අන්තර්': 'අන්තර', 'ගතයි': 'ගත', 'පණිවිඩයක්': 'පණිවිඩයක', 'තුලට': 'තුල', 'ජාතියකම': 'ජාතියක', 'ජාතීයේ': 'ජාතී', 'අමාරූ': 'අමාර', 'කාට': 'කා', 'හමුවන': 'හමුව', 'හැකිතාක්': 'හැකිතාක', 'ශෙයා': 'ශෙ', 'හැකිය': 'හැ', 'පෙඡ්': 'පෙඡ', 'උදව්වක්': 'උදව්වක', 'දැය': 'දැ', 'උරදුන්නට': 'උරදුන්න', 'සහය': 'සහ', 'දෙන්නමු': 'දෙන්න', 'ලොක්ක': 'ලොක්', 'පස්වන': 'පස්ව', 'විධායක': 'විධාය', 'ජානාධිපති': 'ජානාධිප', 'මැතිඳුන්': 'මැතිඳුන', 'නොකරන්න': 'නොකරන්', 'මහත්තයගේ': 'මහත්තය', 'හිතට': 'හිත', 'එකගව': 'එකග', 'මහින්දගේ': 'මහින්ද', 'කුහකයි': 'කුහක', 'ඉංජිනේරුවගේ': 'ඉංජිනේරුව', 'දාපිය': 'දා', 'කව්රුවත්': 'කව්රුවත', 'ගෙවනවනම්': 'ගෙවනවනම', 'තොපිකාලා': 'තොපි', 'ඉන්නෙත්': 'ඉන්නෙත', 'හදපුවගෙ': 'හදපුව', 'මොරගහකන්ද': 'මොරගහකන්', 'ජලාශය': 'ජලාශ', 'කියනවද': 'කියනව', 'අහන්නෙ': 'අහ', 'මොනවම': 'මොනව', 'ජනතාවගේ': 'ජනතාව', 'හැදුවම': 'හැදුව', 'දාන්නම': 'දාන්න', 'ඕනෙද': 'ඕනෙ', 'තැබිමනම්': 'තැබිමනම', 'ගාල්ලෙත්': 'ගාල්ලෙත', 'ඕකයි': 'ඕක', 'පාලකය': 'පාලක', 'ගජබින්න': 'ගජබින්', 'කෙලිනඑකගැන': 'කෙලිනඑකගැ', 'පුහු': 'පු', 'ආඩම්බරයක්': 'ආඩම්බරයක', 'ගුරුවරයා': 'ගුරුවර', 'ගෝලයින්ට': 'ගෝලයින්', 'මගීන්ට': 'මගීන්', 'දායකයන්ට': 'දායකයන්', 'නොවෙයි': 'නොවෙ', 'ආඩම්බරකම': 'ආඩම්බරක', 'පෙන්වමින්': 'පෙන්වමින', 'ඉන්නා': 'ඉන්', 'නොදියුණු': 'නොදියුණ', 'භාවය': 'භාව', 'වෙලාවත්': 'වෙලාවත', 'නැවෙන්න': 'නැවෙන්', 'විපත්': 'විපත', 'මොකටද': 'මොකට', 'ඉල්ලන්නේ': 'ඉල්ල', 'පාලනයක්': 'පාලනයක', 'හැමදේම': 'හැමදේ', 'අරිනවා': 'අරි', 'එලවන': 'එලව', 'බිහිෙවනකන්': 'බිහිෙවනකන', 'බම්බු': 'බම්බ', 'වන්ඩේ': 'වන්ඩ', 'විමේ': 'වි', 'කිව': 'කි', 'ලැබ්රඩොග්': 'ලැබ්රඩොග', 'දැක්කනේ': 'දැක්කන', 'ලැබ්': 'ලැබ', 'රෝයි': 'රෝ', 'සුමතිට': 'සුමති', 'පොරොන්දුවක්': 'පොරොන්දුවක', 'ධනුෂ්ක': 'ධනුෂ්', 'සීනි': 'සී', 'කොහෙ': 'කොහ', 'තිබ්බත්': 'තිබ්බත', 'වහනවා': 'වහ', 'ගහන්නෙත්': 'ගහන්නෙත', 'ඕකුන්ට': 'ඕකුන්', 'ඔට්ටුපාලයා': 'ඔට්ටුපාල', 'ගේම්': 'ගේම', 'ඉන්දියන්කාරයෝ': 'ඉන්දියන්කාර', 'ඉස්සරහා': 'ඉස්සරහ', 'පීචන්': 'පීචන', 'රෝකර්': 'රෝකර', 'නොදකින': 'නොදකි', 'ඇඩුන': 'ඇඩු', 'දෙය්යනේ': 'දෙය්යන', 'කිඋවයි': 'කිඋව', 'කරන්වද': 'කරන්ව', 'කෑගහනව': 'කෑගහන', 'මතකවත්': 'මතකවත', 'අනුකම්පා': 'අනුකම්ප', 'සුද්දෙක්': 'සුද්දෙක', 'හිමිකරගෙන': 'හිමිකරගෙ', 'ජන්දේ': 'ජන්ද', 'අනිවාර්යයෙන්': 'අනිවාර්යයෙන', 'අතෑරලා': 'අතෑර', 'පෙන්': 'පෙන', 'රීඩවකින්': 'රීඩවකින', 'ජාත්': 'ජාත', 'රිඩකයන්': 'රිඩකයන', 'කවදා': 'කවද', 'පලමුවත්': 'පලමුවත', 'මව්බිම': 'මව්බි', 'දෙවනුවත්': 'දෙවනුවත', 'තෙවනුවත්': 'තෙවනුවත', 'හාමුදුරුවනේ': 'හාමුදුරුවන', 'බීල': 'බී', 'කීඩා': 'කීඩ', 'සිලෙක්ට්': 'සිලෙක්ට', 'කරෙත්': 'කරෙත', 'දිනුවත්': 'දිනුවත', 'පැරදුනත්': 'පැරදුනත', 'දැකලා': 'දැක', 'කොඩිය': 'කොඩි', 'නැතෝ': 'නැත', 'වනන්න': 'වනන්', 'අවස්ථාවක්': 'අවස්ථාවක', 'නොගියට': 'නොගිය', 'මොක්ද': 'මොක්', 'යනවනෙ': 'යනවන', 'කොඩියක්ද': 'කොඩියක්', 'යන්තරයට': 'යන්තරය', 'ගෙනියන්න': 'ගෙනියන්', 'හිටපන්කෝ': 'හිටපන්ක', 'මයිත්': 'මයිත', 'මාමා': 'මාම', 'ලෝකේම': 'ලෝකේ', 'බබලවන': 'බබලව', 'ඉන්නවමයි': 'ඉන්නවම', 'එලකිරී': 'එලකිර', 'මචෝ': 'මච', 'හදාගමුකෝ': 'හදාගමුක', 'අක්කලටනෙ': 'අක්කලටන', 'නායකයෝ': 'නායක', 'මෙයාට': 'මෙයා', 'ධූරයේ': 'ධූර', 'පව': 'ප', 'මෙයත්': 'මෙයත', 'අතීතයට': 'අතීතය', 'දවසකට': 'දවස', 'පමනක්': 'පමනක', 'සෙයා': 'සෙ', 'පෝස්ටුවක්': 'පෝස්ටුවක', 'සිස්ටම්': 'සිස්ටම', 'වෙනස්වන': 'වෙනස්ව', 'බවක්': 'බවක', 'පේනතෙක්': 'පේනතෙක', 'මානෙක': 'මානෙ', 'ටිකකින්': 'ටිකකින', 'යංග්': 'යංග', 'යර්ථයෙන්': 'යර්ථයෙන', 'හ්ම්': 'හ්ම', 'එලාම්': 'එලාම', 'ඔෆ්': 'ඔෆ', 'කරලයි': 'කරල', 'බලන්නේ': 'බල', 'ජොබ්': 'ජොබ', 'ලන්කාවේ': 'ලන්කා', 'සේවකයන්ට': 'සේවකයන්', 'සේවක': 'සේව', 'බූවල්ලගෙන්': 'බූවල්ලගෙන', 'නොගත්තොත්': 'නොගත්තොත', 'බොරුව': 'බොරු', 'ගෝල්': 'ගෝල', 'ගහනවද': 'ගහනව', 'රටේද': 'රටේ', 'ජාතියේද': 'ජාතියේ', 'ආගමේද': 'ආගමේ', 'වුනත්': 'වුනත', 'පැවරෙන': 'පැවරෙ', 'කාටත්': 'කාටත', 'විඩියෝවේ': 'විඩියෝ', 'ලංකාවටත්': 'ලංකාවටත', 'ඹිනේ': 'ඹින', 'මෙිහේම': 'මෙිහේ', 'ඡනතාවක්': 'ඡනතාවක', 'සෙමි': 'සෙ', 'ෆයිනල්': 'ෆයිනල', 'තියපු': 'තිය', 'කලින්ම': 'කලින්', 'නිවන': 'නිව', 'නොහිටපු': 'නොහිට', 'පරීක්ෂණයක්': 'පරීක්ෂණයක', 'එපේ': 'එප', 'සතුටට': 'සතුට', 'අඩියකුත්': 'අඩියකුත', 'සී': 'ස', 'පද': 'ප', 'ජිවිතයේ': 'ජිවිත', 'අත්දැකීම': 'අත්දැකී', 'අවදිකලා': 'අවදික', 'දේටම': 'දේ', 'රාජකාරිය': 'රාජකාරි', 'ලෝකෙටම': 'ලෝකෙ', 'මිලියන': 'මිලිය', 'ජනගහනය': 'ජනගහන', 'හැදෙනව': 'හැදෙන', 'හැදෙන්නෙ': 'හැදෙ', 'කෙනාව': 'කෙනා', 'කෙරවලට': 'කෙරවල', 'දුවලා': 'දුව', 'ගින්න': 'ගින්', 'ගහින්': 'ගහින', 'අෙප්': 'අෙප', 'ෙට්': 'ෙට', 'තරුණ': 'තර', 'පිරිසකට': 'පිරිස', 'ෙම': 'ෙ', 'ෙහම': 'ෙහ', 'අැෙග්': 'අැෙග', 'භාවනාවක්': 'භාවනාවක', 'දන්නවාද': 'දන්නවා', 'මැරෙන්නට': 'මැරෙන්න', 'සැගවෙලා': 'සැගවෙ', 'මොකක්දෝ': 'මොකක්ද', 'කරැම': 'කරැ', 'සැගවිලා': 'සැගවි', 'අවස්ථා': 'අවස්ථ', 'ඉබේම': 'ඉබේ', 'සක්කරයටවත්': 'සක්කරයටවත', 'වෙලාවෙමත්': 'වෙලාවෙමත', 'තියේ': 'ති', 'හිටියත්': 'හිටියත', 'දැනෙන්නේ': 'දැනෙ', 'ලාංකීක': 'ලාංකී', 'කිව්වත්': 'කිව්වත', 'දෙවිවරු': 'දෙවිවර', 'අත්දැකීමෙන්': 'අත්දැකීමෙන', 'ජාතිබේද': 'ජාතිබේ', 'දෙනාට': 'දෙනා', 'ඵල': 'ඵ', 'පිනෙන්ම': 'පිනෙන්', 'සියලුරෝගීන්': 'සියලුරෝගීන', 'අගමක්': 'අගමක', 'කෙසේවුවත්': 'කෙසේවුවත', 'රීලාංකිකකම': 'රීලාංකිකක', 'කුරුණෑගල': 'කුරුණෑග', 'කිරිවවුලෙ': 'කිරිවවුල', 'මීගොල්ලට': 'මීගොල්ල', 'යද්දිත්': 'යද්දිත', 'පෙරලිලා': 'පෙරලි', 'වැටුණම': 'වැටුණ', 'වෙලාවෙ': 'වෙලා', 'සද්දෙ': 'සද්ද', 'ඇහිලා': 'ඇහි', 'එකක්ත්': 'එකක්ත', 'හදලා': 'හද', 'දීලා': 'දී', 'බෙහෙතුත්': 'බෙහෙතුත', 'වෙලාවකට': 'වෙලාව', 'රශ්න': 'රශ්', 'වෙලාවල්': 'වෙලාවල', 'මනුස්සකම්': 'මනුස්සකම', 'පිරුණු': 'පිරුණ', 'මාගෙ': 'මා', 'අංක': 'අං', 'එතැනදී': 'එතැනද', 'පොහොසත්ම': 'පොහොසත්', 'පිහිටට': 'පිහිට', 'බින්දුවකම': 'බින්දුවක', 'ගෑවුන': 'ගෑවු', 'යමු': 'ය', 'බැහැලා': 'බැහැ', 'එකාව': 'එකා', 'හොස්පිටල්': 'හොස්පිටල', 'දෙයියෝ': 'දෙයි', 'බැලුවා': 'බැලු', 'දිව්වා': 'දිව්', 'ඉන්නවානම්': 'ඉන්නවානම', 'උන්වා': 'උන්', 'වැදලා': 'වැද', 'ඉස්තූති': 'ඉස්තූ', 'කෑගල්ල': 'කෑගල්', 'රිදීතොටුව': 'රිදීතොටු', 'නිල්': 'නිල', 'සුක්කානම': 'සුක්කාන', 'කලබලයක්': 'කලබලයක', 'නිකරුණේ': 'නිකර', 'සිහිබුද්දියෙන්': 'සිහිබුද්දියෙන', 'පදවන්න': 'පදවන්', 'මියගිය': 'මියගි', 'නිවන්සුව': 'නිවන්සු', 'රෝගිනට': 'රෝගින', 'සුවපත්බාවයත්': 'සුවපත්බාවයත', 'පතනව': 'පතන', 'තංගල්ලේ': 'තංගල්ල', 'ගෙදරකට': 'ගෙදර', 'මැරුණ': 'මැර', 'කාන්තාව': 'කාන්තා', 'නර්තන': 'නර්ත', 'ගුරුවරියක්': 'ගුරුවරියක', 'මිලියන්': 'මිලියන', 'ගණනක': 'ගණන', 'ඉපයූ': 'ඉපය', 'සභාපතිගේ': 'සභාපති', 'සංවර්ධනයක්': 'සංවර්ධනයක', 'තේරුන': 'තේරු', 'ඇම්බියුලන්ස්': 'ඇම්බියුලන්ස', 'ජාතිවාදයක්': 'ජාතිවාදයක', 'තැනකම': 'තැනක', 'වගුරක්': 'වගුරක', 'සංවේදී': 'සංවේද', 'හදවත්': 'හදවත', 'ඉක්මන්': 'ඉක්මන', 'සුවය': 'සුව', 'මල්ලිලා': 'මල්ලි', 'සියලුදෙනාටම': 'සියලුදෙනා', 'දෙවිපිහිටයි': 'දෙවිපිහිට', 'මේතමයි': 'මේතම', 'අපේකම': 'අපේක', 'හෙලයො': 'හෙලය', 'රටේම': 'රටේ', 'අතින්ම': 'අතින්', 'පොහොසත්': 'පොහොසත', 'කෙනෙක්ගේ': 'කෙනෙක්', 'වේදනාව': 'වේදනා', 'වෙන්නෙත්': 'වෙන්නෙත', 'එරෙන්නෙත්': 'එරෙන්නෙත', 'පිරිමියෙක්': 'පිරිමියෙක', 'අම්මෙක්ගෙ': 'අම්මෙක්', 'එලක්': 'එලක', 'ශීට්': 'ශීට', 'නැගිටල': 'නැගිට', 'තුන්': 'තුන', 'දෙනාම': 'දෙනා', 'කෝච්චියේ': 'කෝච්චි', 'නිසයී': 'නිසය', 'දරුවෝ': 'දරු', 'අම්මලට': 'අම්මල', 'නොදුන්නට': 'නොදුන්න', 'ඉතිහාසයක්': 'ඉතිහාසයක', 'බම්': 'බම', 'මාත්තය': 'මාත්ත', 'තීනාවා': 'තීනා', 'කීන්න': 'කීන්', 'තැන්': 'තැන', 'කු': '', 'කීන්නෙත්': 'කීන්නෙත', 'යෙකාලානේ': 'යෙකාලාන', 'යේක': 'යේ', 'මාත්තයා': 'මාත්ත', 'පුරෝලා': 'පුරෝ', 'ඉටියේ': 'ඉටි', 'පෝයට': 'පෝය', 'ශිල්': 'ශිල', 'ෂතියට': 'ෂතිය', 'පාලොවක්': 'පාලොවක', 'විශ්ශක්': 'විශ්ශක', 'ආන': 'ආ', 'පිච්ච': 'ප', 'කප්රුක': 'කප්රු', 'කංචුක': 'කංචු', 'කොරන': 'කොර', 'ඒකාට': 'ඒකා', 'යෙක': 'යෙ', 'මුන්දල': 'මුන්ද', 'අපිලව': 'අපිල', 'මරාන්ට': 'මරාන්', 'යේ': '', 'මොක්කොද': 'මොක්කො', 'අප්පා': 'අප්ප', 'ඇරුනම': 'ඇරුන', 'ආත්මාර්තකාමී': 'ආත්මාර්තකාම', '49ක්': '49ක', 'ඒකෙන්ම': 'ඒකෙන්', 'තේරුණා': 'තේරුණ', 'තත්වේ': 'තත්', 'බැහැල': 'බැහැ', 'උදෙ': 'උද', 'ර්න්': 'ර්න', 'ජප්පියො': 'ජප්පිය', 'බබා': 'බබ', 'නගිනවා': 'නගි', 'මාම': 'මා', 'නැගිටිලා': 'නැගිටි', 'ෂිට්': 'ෂිට', 'ඉයෙ': 'ඉ', 'ඉයේ': 'ඉ', 'දයිජබු': 'දයිජබ', 'දෙස්': 'දෙස', 'වට': 'ව', 'අයිත්': 'අයිත', 'සම': 'ස', 'හරක්ට': 'හරක්', 'අමිමෙක්': 'අමිමෙක', 'අතදරැවෙක්': 'අතදරැවෙක', 'මහලු': 'මහල', 'අයෙක්': 'අයෙක', 'නැග්ගම': 'නැග්ග', 'නින්ද': 'නින්', 'නැතිනමි': 'නැතින', 'ෆෝන්': 'ෆෝන', 'දරැවො': 'දරැව', 'දරැදුක': 'දරැදු', 'අරූ': 'අර', 'කරනකන්': 'කරනකන', 'ව්ඩියෝ': 'ව්ඩි', 'යලුවට': 'යලුව', 'ගෝඩක්': 'ගෝඩක', 'මිනිස්සුනේ': 'මිනිස්සුන', 'දැනට': 'දැන', 'සතුන්': 'සතුන', 'කලක්': 'කලක', 'ආදරෙයි': 'ආදරෙ', 'කවදාද': 'කවදා', 'ගොබිලන්ට': 'ගොබිලන්', 'ඉවරනේ': 'ඉවරන', 'වගයකට': 'වගය', 'හපන්': 'හපන', 'නල්ල': 'නල්', 'මලේ': 'මල', 'ඇද්දාම': 'ඇද්දා', 'ඕකුට': 'ඕ', 'අරුන්ගේ': 'අරුන්', 'අදින්නෙත්': 'අදින්නෙත', 'අන්ද': 'අන්', 'ටිකකට': 'ටි', 'පලිගැනීම්': 'පලිගැනීම', 'ඇසට': 'ඇස', 'කඳුළු': 'කඳුළ', 'බල්බ්': 'බල්බ', 'ඉතිහාසෙ': 'ඉතිහාස', 'ජපනා': 'ජප', 'ෆෙන්ස්': 'ෆෙන්ස', 'කරලම': 'කරල', 'තරුණයන්': 'තරුණයන', 'පැත්තෙන්': 'පැත්තෙන', 'හිටගන්නවා': 'හිටගන්', 'මර්දන': 'මර්ද', 'මිනිසුන්ගෙ': 'මිනිසුන්', 'සහයෝගය': 'සහයෝග', 'මොහොතෙ': 'මොහොත', 'පාතාලයන්': 'පාතාලයන', 'නිර්මාණය': 'නිර්මාණ', 'බිහි': 'බි', 'උවමනාවක්': 'උවමනාවක', 'මෙහෙමතමයි': 'මෙහෙමතම', 'අවධානම': 'අවධාන', 'ගැනවත්': 'ගැනවත', 'තිරීම': 'තිරී', 'අයද': 'අය', 'කරනු': 'කර', 'නඩුවලට': 'නඩුවල', 'කාරයක්': 'කාරයක', 'සැරෙන්': 'සැරෙන', 'නොවුනොත්': 'නොවුනොත', 'ගානෙ': 'ගාන', 'උණාම': 'උණා', 'හිතෙයි': 'හිතෙ', 'ගෞරව': 'ගෞර', 'අගයකිරීම': 'අගයකිරී', 'වටිනවා': 'වටි', 'මහත්තුරුන්ගේ': 'මහත්තුරුන්', 'නිසායි': 'නිසා', 'මහජනයට': 'මහජනය', 'ඇගයීම්': 'ඇගයීම', 'දෙපැත්තටම': 'දෙපැත්ත', 'සේවයත්': 'සේවයත', 'අගේ': 'අ', 'තණකොල': 'තණකො', 'කටහඩකටම': 'කටහඩක', 'වැස්සියෝ': 'වැස්සි', 'ටිකකුයි': 'ටිකකු', 'ඉන්නවානේ': 'ඉන්නවාන', 'රසාස්වාදය': 'රසාස්වාද', 'හිතාගන්න': 'හිතාගන්', 'ගායකයෝ': 'ගායක', 'පොඩිකාලේ': 'පොඩිකාල', 'තනිකමට': 'තනිකම', 'හුරුවෙලා': 'හුරුවෙ', 'ජීවත්වෙන්න': 'ජීවත්වෙන්', 'කලාමද': 'කලාම', 'හදපුරා': 'හදපුර', 'ඇත්තෙන්ම': 'ඇත්තෙන්', 'දිනක': 'දින', 'නොපාන්න': 'නොපාන්', 'මනුෂකම': 'මනුෂක', 'දරාගැනීම්': 'දරාගැනීම', 'සාධකේ': 'සාධ', 'අවංකව': 'අවංක', 'මනුසත්': 'මනුසත', 'අැති': 'අැ', 'උත්තම': 'උත්ත', 'අැගයීම': 'අැගයී', 'කාලීනව': 'කාලීන', 'යුත්තක්': 'යුත්තක', 'හැමදෙනාටම': 'හැමදෙනා', 'කාරයොන්ට': 'කාරයොන්', 'මමනම්': 'මමනම', 'සලකන්නෙ': 'සලක', 'අත්දැකීම්': 'අත්දැකීම', 'පාතාලෙ': 'පාතාල', 'යින්න': 'යින්', 'ඔනි': 'ඔ', 'අගේකිරීම': 'අගේකිරී', 'පුජනියන්': 'පුජනියන', 'සුත්': 'සුත', 'රය': 'ර', 'පිදිය': 'පිදි', 'යුත්තන්': 'යුත්තන', 'එයයි': 'එ', 'අයියෙ': 'අයි', 'කෝටියක්': 'කෝටියක', 'නුඹලා': 'නුඹ', 'අභිමානයක්': 'අභිමානයක', 'අගය': 'අග', 'අයිසේජ්': 'අයිසේජ', 'මෝඩම': 'මෝඩ', 'හුකන්නෙක්': 'හුකන්නෙක', 'ජාන': 'ජා', 'වැරැද්දක්': 'වැරැද්දක', 'අම්මගෙ': 'අම්ම', 'සෑහෙන': 'සෑහෙ', 'රෙස්පෙක්ට්': 'රෙස්පෙක්ට', 'තරුණයාව': 'තරුණයා', 'පොලියට': 'පොලිය', 'බඳවාගැනීම': 'බඳවාගැනී', 'සිව්පාවුන්': 'සිව්පාවුන', 'මැද': 'මැ', 'දේවතාවන්': 'දේවතාවන', 'ජරව': 'ජර', 'ලන්කවෙ': 'ලන්ක', 'දක්කම': 'දක්ක', 'දෙකට': 'දෙ', 'නෙමන': 'නෙම', 'විරයො': 'විරය', 'බ්න්': 'බ්න', 'දැක්කමත්': 'දැක්කමත', 'පෙනුනා': 'පෙනු', 'ලික්න්': 'ලික්න', 'නිලදාරිය': 'නිලදාරි', 'පිදුව': 'පිදු', 'නිලදාරින්ගෙ': 'නිලදාරින්', 'නිල': 'නි', 'ඇදුම': 'ඇදු', 'මහත්තයෙක්ගෙන්': 'මහත්තයෙක්ගෙන', 'තුවක්කුවෙන්': 'තුවක්කුවෙන', 'විතරයිනෙ': 'විතරයින', 'පුහුනුවේ': 'පුහුනු', 'රස්නයකට': 'රස්නය', 'නොවීමෙ': 'නොවීම', 'රස්නයක්': 'රස්නයක', 'වෙරෙද්දට': 'වෙරෙද්ද', 'ඔකුන්': 'ඔකුන', 'සිද්ධවෙන්නෙත්': 'සිද්ධවෙන්නෙත', 'ඒකක': 'ඒක', 'වෙනියට': 'වෙනිය', 'මෝටාර්': 'මෝටාර', 'ඒකකය': 'ඒකක', 'නිලධාරින්': 'නිලධාරින', 'ජීවිතයේ': 'ජීවිත', 'ගෙවුවා': 'ගෙවු', 'දරුවන්': 'දරුවන', 'පොලීසියෙ': 'පොලීසි', 'පස්': 'පස', 'දෙනෙක්ට': 'දෙනෙක්', 'බීමත්': 'බීමත', 'බැරිඋන': 'බැරිඋ', 'දැක්කා': 'දැක්', 'ඒවත්': 'ඒවත', 'කායවර්ධන': 'කායවර්ධ', 'වර්ධනකුත්': 'වර්ධනකුත', 'රමේ': 'ර', 'හදාගන්න': 'හදාගන්', 'ඉංදියාවෙ': 'ඉංදියා', 'මැවිල': 'මැවි', 'පේනව': 'පේන', 'කිුයාත්මක': 'කිුයාත්ම', 'කලානමි': 'කලාන', 'මංකොල්ලයේ': 'මංකොල්ල', 'අපරාධකරු': 'අපරාධකර', 'බෝම්බයක්': 'බෝම්බයක', 'උත්සාහකල': 'උත්සාහක', 'අවස්ථාවේදී': 'අවස්ථාවේද', 'එල්ලකල': 'එල්ලක', 'පහරින්': 'පහරින', 'මරුට': 'මරු', 'හිතුවොත්': 'හිතුවොත', 'නරකද': 'නරක', 'ඇදුමේ': 'ඇදු', 'වර්ණය': 'වර්ණ', 'ගන්නට': 'ගන්න', 'ආරක්ශාව': 'ආරක්ශා', 'හිතුවේ': 'හිතු', 'ඇස්කන්': 'ඇස්කන', 'ඇරපල්ලා': 'ඇර', 'මෙහෙයුමකදී': 'මෙහෙයුමකද', 'දිය': 'දි', 'නොවේද': 'නොවේ', 'සිද්දිය': 'සිද්දි', 'සිදුවීම්': 'සිදුවීම', 'කිහිපයකදීම': 'කිහිපයකදී', 'හානි': 'හා', 'සිදුවිය': 'සිදුවි', 'සිදුවන': 'සිදුව', 'හානිය': 'හානි', 'අවම': 'අව', 'කිරීමටවත්': 'කිරීමටවත', 'බලධාරීන්': 'බලධාරීන', 'වගබලා': 'වගබ', 'සුළු': 'සුළ', 'පිරිසකගේ': 'පිරිස', 'ලන්කා': 'ලන්', 'පොලීසියේ': 'පොලීසි', 'නිලධාරීන්ගේ': 'නිලධාරීන්', 'ඇගේ': 'ඇ', 'නිවන්': 'නිවන', 'සුව': 'සු', 'අයුද': 'අයු', 'එක්කන්': 'එක්කන', 'සහොදරයා': 'සහොදර', 'බයයි': 'බ', 'තමන්ටම': 'තමන්', 'මැරෙනකම්': 'මැරෙනකම', 'පවුලත්': 'පවුලත', 'කරගෙන': 'කරගෙ', 'ඕනවට': 'ඕනව', 'මානව': 'මාන', 'හිමිකම්': 'හිමිකම', 'නීතිරීතිනේ': 'නීතිරීතින', 'එයාලත්': 'එයාලත', 'දනිස්සෙන්': 'දනිස්සෙන', 'පහලටම': 'පහල', 'හො': 'හ', 'මැරුනොත්': 'මැරුනොත', 'පවුල': 'පවු', 'ගෑනි': 'ගෑ', 'අනාථයි': 'අනාථ', 'කියලානේ': 'කියලාන', 'නිලධාරීයාට': 'නිලධාරීයා', 'සාධාරණයි': 'සාධාරණ', 'කොල්ලකරුවන්': 'කොල්ලකරුවන', 'ගැටුමකට': 'ගැටුම', 'මූන': 'මූ', 'දීමට': 'දීම', 'රායෝගික': 'රායෝගි', 'පුහුනුවක්': 'පුහුනුවක', 'පෙනෙන්නෙ': 'පෙනෙ', 'දැක්ක්ම': 'දැක්ක්', 'ඇරල': 'ඇර', 'ඇත්තෙම': 'ඇත්තෙ', 'තුවක්කුව': 'තුවක්කු', 'තියාගෙන': 'තියාගෙ', 'විදියෙන්': 'විදියෙන', 'ළගින්': 'ළගින', 'දෙන්නෙක්': 'දෙන්නෙක', 'හැංගිලා': 'හැංගි', 'කොල්ලකාරයෝ': 'කොල්ලකාර', 'දුවනවා': 'දුව', 'පැනල': 'පැන', 'දුවද්දී': 'දුව', 'අස්සේ': 'අස්ස', 'වෙටෙන්නේ': 'වෙටෙ', 'නිලදාරියා': 'නිලදාරි', 'එයතම': 'එයත', 'පටලොල': 'පටලො', 'රීලංකාවේ': 'රීලංකා', 'පොලිස්ථානයකට': 'පොලිස්ථානය', 'පාපතරයින්': 'පාපතරයින', 'මෙලොවින්': 'මෙලොවින', 'තුරන්': 'තුරන', 'වෙලාවකනම්': 'වෙලාවකනම', 'වැදිලා': 'වැදි', 'කැඩිලා': 'කැඩි', 'ඉදියොත්නම්': 'ඉදියොත්නම', 'පැත්තවත්': 'පැත්තවත', 'තරමට': 'තරම', 'අහින්සක': 'අහින්ස', 'මනුස්සයෙක්ටනම්': 'මනුස්සයෙක්ටනම', 'ඵතන්ට': 'ඵතන්', 'ගියෙ': 'ගි', 'දෙසපාලාකායො': 'දෙසපාලාකාය', 'හොරකමි': 'හොරක', 'කරනවනමි': 'කරනවන', 'ාහාරකමි': 'ාහාරක', 'ලංකිකයො': 'ලංකිකය', 'සලකන': 'සලක', 'යහපාලනයෙන්': 'යහපාලනයෙන', 'චිකාගෝවක්': 'චිකාගෝවක', 'වීරයකු': 'වීරය', 'නික්ම': 'නික්', 'යාම': 'යා', 'එව්වා': 'එව්', 'පොලීසියටවත්': 'පොලීසියටවත', 'ඔක': 'ඔ', 'තියෙන්': 'තියෙන', 'සතියක්': 'සතියක', 'අයගෙ': 'අය', 'අරන්යන්නද': 'අරන්යන්න', 'ගෙවන්නම': 'ගෙවන්න', 'ඉස්සෙල්ලා': 'ඉස්සෙ', 'බේරුනානම්': 'බේරුනානම', 'කොල්ල': 'කොල්', 'පාතාලේ': 'පාතාල', 'පල්ලා': '', 'ආකල්': 'ආකල', 'මරණයට': 'මරණය', 'නොමවෙවා': 'නොමවෙ', 'පොලිස්කාරයන්': 'පොලිස්කාරයන', 'නිලධාරියෙක්': 'නිලධාරියෙක', 'උත්තමාචාරය': 'උත්තමාචාර', 'ආඩම්බරයකි': 'ආඩම්බරය', 'විරුවෙක්': 'විරුවෙක', 'නිලධාරියාගේ': 'නිලධාරියා', 'මාතරටම': 'මාතර', 'ආඩමිබරයි': 'ආඩමිබර', 'කෑවා': 'කෑ', 'කමකින්': 'කමකින', 'උදේ': 'උද', 'විදුලිය': 'විදුලි', 'කළානම්': 'කළානම', 'හිතෙන්': 'හිතෙන', 'ලබන': 'ලබ', 'අනෝරා': 'අනෝර', 'වැස්සෙ': 'වැස්ස', 'දාන්නෙ': 'දා', 'රොටී': 'රොට', 'වාගෙ': 'වා', 'ගැලවෙනවා': 'ගැලවෙ', 'ඉන්ජිනේරුවන්ට': 'ඉන්ජිනේරුවන්', 'වැහි': 'වැ', 'කාලෙට': 'කාලෙ', 'සු': 'ස', 'කන්ව': 'කන්', 'ගැලවිලා': 'ගැලවි', 'ගානට': 'ගාන', 'ලැබෙනවානෙ': 'ලැබෙනවාන', 'උඹෙ': 'උඹ', 'එකක්වත්': 'එකක්වත', 'වලටත්': 'වලටත', 'ලාභයක්': 'ලාභයක', 'ලැබුණද': 'ලැබුණ', 'පියවරුන්ගේ': 'පියවරුන්', 'දිනයේ': 'දින', 'තාත්තේ': 'තාත්ත', 'අඩුව': 'අඩු', 'අනන්තයි': 'අනන්ත', 'කාලෙක': 'කාලෙ', 'ළගට': 'ළග', 'වරෙන්': 'වරෙන', 'තරහක්': 'තරහක', 'සැපට': 'සැප', 'උන්නේ': 'උ', 'මෙයලා': 'මෙය', 'අම්මෙකුට': 'අම්මෙ', 'තාත්තෙකුට': 'තාත්තෙ', 'නොවේවා': 'නොවේ', 'ජේසුගේ': 'ජේසු', 'තරම්ම': 'තරම්', 'පිරිහුනේ': 'පිරිහුන', 'යන්නද': 'යන්න', 'දෙමාපියන්ට': 'දෙමාපියන්', 'නොසලකන': 'නොසලක', 'දරුවන්ටත්': 'දරුවන්ටත', 'අත්වන්නේ': 'අත්ව', 'ඉරණම': 'ඉරණ', 'දඬුවමෙන්': 'දඬුවමෙන', 'සෑහීමකට': 'සෑහීම', 'පත්වෙනවා': 'පත්වෙ', 'බරපතල': 'බරපත', 'ඇතිව': 'ඇති', 'හිරෙ': 'හිර', 'නඩුවක්': 'නඩුවක', 'ඇතුව': 'ඇතු', 'වන්දියක්': 'වන්දියක', 'අච්චු': 'අච්ච', 'කෙටියෙන්': 'කෙටියෙන', 'කම්පනයට': 'කම්පනය', 'ස්වාමීන්වහන්සේට': 'ස්වාමීන්වහන්සේ', 'දඬුවම්': 'දඬුවම', 'දුන්නාට': 'දුන්නා', 'රජාණන්': 'රජාණන', 'චීවරයට': 'චීවරය', 'නිගරු': 'නිගර', 'ගැනයි': 'ගැන', 'ඉපදුනේ': 'ඉපදුන', 'සිංහලයෙක්': 'සිංහලයෙක', 'සිංහලයෙකුට': 'සිංහලයෙ', 'චීන': 'චී', 'හින්දී': 'හින්ද', 'භාෂාවන්': 'භාෂාවන', 'දක්ෂතාවය': 'දක්ෂතාව', 'අතීතයේ': 'අතීත', 'ජාලය': 'ජාල', 'පිදීමයි': 'පිදීම', 'මිහිඳු': 'මිහිඳ', 'මහරහතන්': 'මහරහතන', 'වැඩම': 'වැඩ', 'කිරීමත්': 'කිරීමත', 'බුදුපියාණන්ගේ': 'බුදුපියාණන්', 'එවකට': 'එව', 'රජතුමන්': 'රජතුමන', 'ගැනීමත්': 'ගැනීමත', 'මුතුන්මිත්තන්': 'මුතුන්මිත්තන', 'දර්ශනයට': 'දර්ශනය', 'යාගමිකයන්': 'යාගමිකයන', 'බෞද්ධයෙක්': 'බෞද්ධයෙක', 'බුදුපියාණන්': 'බුදුපියාණන', 'චිවරය': 'චිවර', 'ස්වාමින්': 'ස්වාමින', 'චීවරය': 'චීවර', 'දරා': 'දර', 'හැකිද': 'හැකි', 'කරුණක්': 'කරුණක', 'වන්නේය': 'වන්නේ', 'උන්වහන්සේ': 'උන්වහන්ස', 'පිළිබඳවයි': 'පිළිබඳව', 'බුදුරජාණන්': 'බුදුරජාණන', 'සහිතව': 'සහිත', 'දීමයි': 'දීම', 'රියාවෙන්': 'රියාවෙන', 'වනු': 'ව', 'බුදුරදුන්ගේ': 'බුදුරදුන්', 'තත්පරයෙන්': 'තත්පරයෙන', 'තත්පරයට': 'තත්පරය', 'ගෙවීමට': 'ගෙවීම', 'තරයේ': 'තර', 'කරමි': 'කර', 'උසාවියට': 'උසාවිය', 'අපරාධකාරයන්': 'අපරාධකාරයන', 'නායකයන්': 'නායකයන', 'අත්අඩංගුවට': 'අත්අඩංගුව', 'යහපාලන': 'යහපාල', 'උඩරට': 'උඩර', 'කැරැල්ලේදී': 'කැරැල්ලේද', 'එක්නැලිගොඩලා': 'එක්නැලිගොඩ', 'කෙරැවාව': 'කෙරැවා', 'දෙවියනේ': 'දෙවියන', 'නිහා': 'නිහ', 'තැනකට': 'තැන', 'හිමිනමක්': 'හිමිනමක', 'වූවත්': 'වූවත', 'වරදට': 'වරද', 'දඩුවමක්': 'දඩුවමක', 'ලැබිය': 'ලැබි', 'දඩුවම': 'දඩුව', 'ගෙඞක්ම': 'ගෙඞක්', 'කාලයකින්': 'කාලයකින', 'ලබල': 'ලබ', 'පවුබන්': 'පවුබන', 'අාගමට': 'අාගම', 'මොනවද': 'මොනව', 'ගියොත්': 'ගියොත', 'අනිවාර්යයෙන්ම': 'අනිවාර්යයෙන්', 'රැල්ලට': 'රැල්ල', 'මෙව්වට': 'මෙව්ව', 'වැටෙන්නේ': 'වැටෙ', 'අඩුවෙන්': 'අඩුවෙන', 'නිලියක්ගේ': 'නිලියක්', 'දැක්කත්': 'දැක්කත', 'පත්තරේ': 'පත්තර', 'ආටිකල්': 'ආටිකල', 'මුකුත්': 'මුකුත', 'බදිනවා': 'බදි', 'කාලෙටම': 'කාලෙ', 'සිතුවිලි': 'සිතුව', 'යුගදිවියක්': 'යුගදිවියක', 'මංගලම්': 'මංගලම', 'දේයක්': 'දේයක', 'අර්ථවත්ව': 'අර්ථවත්', 'ආදර්ශමත්': 'ආදර්ශමත', 'රියාවක්': 'රියාවක', 'ඉල්ලයි': 'ඉල්ල', 'හැබෑම': 'හැබෑ', 'නොදැකපු': 'නොදැක', 'කියන්නද': 'කියන්න', 'කොල්ලට': 'කොල්ල', 'ගියානම්': 'ගියානම', 'කෙලිනව': 'කෙලින', 'ඇඩුවනම්': 'ඇඩුවනම', 'හොයල': 'හොය', 'ඇත්තනම්': 'ඇත්තනම', 'අනිව': 'අනි', 'එතනම්': 'එතනම', 'වීරයො': 'වීරය', 'නාට්': 'නාට', 'ගැහුවට': 'ගැහුව', 'යන්ඩයි': 'යන්ඩ', 'ඔතනම': 'ඔතන', 'පොකට්': 'පොකට', 'තෙවරප්පෙරුම': 'තෙවරප්පෙරු', 'ඔතනට': 'ඔතන', 'මරුම': 'මරු', 'නිළියෝ': 'නිළි', 'පොලිසියෙන්': 'පොලිසියෙන', 'සමාජය': 'සමාජ', 'ගොඩනැගීමට': 'ගොඩනැගීම', 'වෙරදරන්නට': 'වෙරදරන්න', 'නියමයිනේ': 'නියමයින', 'මරුනු': 'මරු', 'ජිවිතයකට': 'ජිවිතය', 'අපගෙ': 'අප', 'විරුවන්': 'විරුවන', 'ඔහුන්ගෙ': 'ඔහුන්', 'දෙමාපියනට': 'දෙමාපියන', 'දිර්ගායු': 'දිර්ගාය', 'මුනුස්සකමට': 'මුනුස්සකම', 'කුලයක්': 'කුලයක', 'ආගමක්': 'ආගමක', 'පුලුවන්නමි': 'පුලුවන්න', 'හිතකටම': 'හිතක', 'නිලතලවලින්': 'නිලතලවලින', 'එතනයි': 'එතන', 'දෙමවිපියන්': 'දෙමවිපියන', 'හදවත්වල': 'හදවත්ව', 'රකිරැපය': 'රකිරැප', 'ඔබතුමාගෙන්': 'ඔබතුමාගෙන', 'ගුනධර්ම': 'ගුනධර්', 'තිබෙිනමි': 'තිබෙින', 'සිතකම': 'සිතක', 'සිතිවිලි': 'සිතිව', 'මෙිදේ': 'මෙිද', 'ඊළමට': 'ඊළම', 'සාමාජිකයන්': 'සාමාජිකයන', 'අන්න්තිමට': 'අන්න්තිම', 'නිළධාරීන්ට': 'නිළධාරීන්', 'ආදරේකරන්න': 'ආදරේකරන්', 'දෙවියො': 'දෙවිය', 'රස්තවාදියො': 'රස්තවාදිය', 'යක්කු': 'යක්', 'හදලාදෙන': 'හදලාදෙ', 'මතයි': 'මත', 'මනුස්සයින්ට': 'මනුස්සයින්', 'සලකනවනම්': 'සලකනවනම', 'දෙනවනම': 'දෙනවන', 'කතාවක්': 'කතාවක', 'සෙබලා': 'සෙබ', 'මුලින්ම': 'මුලින්', 'උතුරු': 'උතුර', 'කරයට': 'කරය', 'පාතැබුවානම්': 'පාතැබුවානම', 'කවදාවත්ම': 'කවදාවත්', 'මිනී': 'මින', 'වේලු': 'වේල', 'පිල්ලෙ': 'පිල්ල', 'පිරැභාහරන්': 'පිරැභාහරන', 'උත්තමන්යන්ට': 'උත්තමන්යන්', 'බධා': 'බධ', 'ඒතුමාගේ': 'ඒතුමා', 'අවලන්ගු': 'අවලන්ග', 'ඒතුමා': 'ඒතුම', 'අගයන්න': 'අගයන්', 'රීසියෙනුත්': 'රීසියෙනුත', 'එඩිට්': 'එඩිට', 'යන්තරයෙනුත්': 'යන්තරයෙනුත', 'අවස්ථාව': 'අවස්ථා', 'වෙනවනම්': 'වෙනවනම', 'යා': '', 'ලොකේට': 'ලොකේ', 'රටටත්': 'රටටත', 'රනවිරැවන්ටත්': 'රනවිරැවන්ටත', 'උතුමානනි': 'උතුමාන', 'ටම': '', 'මෙිහේයට': 'මෙිහේය', 'තුමාව': 'තුමා', 'මහත්මයකු': 'මහත්මය', 'මිහිපිට': 'මිහිපි', 'මේඅහින්සක': 'මේඅහින්ස', 'බඩවඩාගැනිවම්': 'බඩවඩාගැනිවම', 'දේසපාලන': 'දේසපාල', 'අරමුනු': 'අරමු', 'සදහා': 'සදහ', 'නොමගයවන්නඑපා': 'නොමගයවන්නඑප', 'ඔඋන්': 'ඔඋන', 'සුමගට': 'සුමග', 'ගැනිමට': 'ගැනිම', 'සෙන්පතියා': 'සෙන්පති', 'කැපකිකිරිමක්කරන්න': 'කැපකිකිරිමක්කරන්', 'ඔබතුමාට': 'ඔබතුමා', 'අනේකවාරයක්': 'අනේකවාරයක', 'සීයත්': 'සීයත', 'මෑන්': 'මෑන', 'සංවේදියි': 'සංවේදි', 'දසුනක්': 'දසුනක', 'දැකිමත්': 'දැකිමත', 'දැසට': 'දැස', 'අසහනකාරී': 'අසහනකාර', 'කටේ': 'කට', 'හෝන්': 'හෝන', 'වයසක': 'වයස', 'කිසිදාක': 'කිසිදා', 'නොවන': 'නොව', 'මහත්මා': 'මහත්ම', 'ධාරියෙක්': 'ධාරියෙක', 'දැකීමත්': 'දැකීමත', 'රනිල්ගෙ': 'රනිල්', 'වැරදිනම්': 'වැරදිනම', 'මානුසික': 'මානුසි', 'දුර්වල': 'දුර්ව', 'තේ': 'ත', 'ග්ලයිපොසෙට්': 'ග්ලයිපොසෙට', 'වාර්තාවක්': 'වාර්තාවක', 'කර්මාන්තයට': 'කර්මාන්තය', 'නවින්': 'නවින', 'අනෙ': 'අන', 'හුකාපන්': 'හුකාපන', 'ආගිය': 'ආගි', 'සියත්': 'සියත', 'හිනාවෙලාම': 'හිනාවෙලා', 'අදිනවා': 'අදි', 'ධර්මදීපය': 'ධර්මදීප', 'ඉපදෙන්න': 'ඉපදෙන්', 'ආත්මෙන්ම': 'ආත්මෙන්', 'අගමැතිතුමා': 'අගමැතිතුම', 'මහබැංකුවම': 'මහබැංකුව', 'එකද': 'එක', 'බැංකුව': 'බැංකු', 'තනතුරු': 'තනතුර', 'මාන්නෙන්': 'මාන්නෙන', 'රේමී': 'රේම', 'පුරවැසියෙක්ලු': 'පුරවැසියෙක්ල', 'ලංකාවේන්': 'ලංකාවේන', 'දෙනවද': 'දෙනව', 'සැබැවින්ම': 'සැබැවින්', 'දක්ෂයන්': 'දක්ෂයන', 'ඉක්මවා': 'ඉක්ම', 'රදර්ශනයක්': 'රදර්ශනයක', 'සිතේ': 'සිත', 'යත්': 'යත', 'පදක්කම්': 'පදක්කම', 'රාශියක්': 'රාශියක', 'මීටත්': 'මීටත', 'රීඩකයන්': 'රීඩකයන', 'දැක': 'දැ', 'උත්සව': 'උත්ස', 'වලදී': 'වලද', 'පලදින්නේ': 'පලදි', 'ඉහලම': 'ඉහල', 'ජයග්': 'ජයග', 'රහන': 'රහ', 'පිංතූරයේ': 'පිංතූර', 'දස්කමින්': 'දස්කමින', 'උපයා': 'උප', 'කිසිවෙක්ට': 'කිසිවෙක්', 'අයිතියක්': 'අයිතියක', 'කිවතොත්': 'කිවතොත', 'නොගැලපෙන': 'නොගැලපෙ', 'භාවයක්': 'භාවයක', 'පිංතූරය': 'පිංතූර', 'සැනෙන්': 'සැනෙන', 'සිතට': 'සිත', 'හාස්': 'හාස', 'යයෙන්': 'යයෙන', 'යුතුව': 'යුතු', 'සදහන්': 'සදහන', 'කෙසේ': 'කෙස', 'මිතුරියන්': 'මිතුරියන', 'අවිවාදයෙන්': 'අවිවාදයෙන', 'රදර්ශනකාමීත්වය': 'රදර්ශනකාමීත්ව', 'පෑමට': 'පෑම', 'මොවුන්ට': 'මොවුන්', 'කවුරුන්': 'කවුරුන', 'උපදෙස්': 'උපදෙස', 'දෙන්නට': 'දෙන්න', 'එසේ': 'එස', 'දෙවරක්': 'දෙවරක', 'නොගැලපීම': 'නොගැලපී', 'සිතුවා': 'සිතු', 'තිදෙනාට': 'තිදෙනා', 'අපහාසය': 'අපහාස', 'නොවන්නට': 'නොවන්න', 'තිබිනි': 'තිබි', 'සැනින්': 'සැනින', 'පෙරමුණට': 'පෙරමුණ', 'බට': 'බ', 'ලෙසය': 'ලෙස', 'නොවූවාට': 'නොවූවා', 'භාවයක්ද': 'භාවයක්', 'මදුරුවෝ': 'මදුරු', 'හුක': 'හු', 'ලන්කන්': 'ලන්කන', 'හොරාකාපු': 'හොරාකා', 'ම්ම්ම්': 'ම්ම්ම', 'කියන්නොනි': 'කියන්නො', 'පකී': 'ප', 'නිරෝශා': 'නිරෝශ', 'ඕකු': 'ඕ', 'හෙනම': 'හෙන', 'ජෙල': 'ජෙ', 'අමාට': 'අමා', 'මේන': 'මේ', 'බොලවු': 'බොලව', 'දබිලයට': 'දබිලය', 'වේලා': 'වේ', 'ඔකගේ': 'ඔ', 'ගලවන්න': 'ගලවන්', 'ඔනා': 'ඔ', 'වලක': 'වල', 'ඔබන්න': 'ඔබන්', 'උලතියන්න': 'උලතියන්', 'හුකන': 'හුක', 'සේවාවක්': 'සේවාවක', 'සේවා': 'සේ', 'මණ්ඩලේ': 'මණ්ඩල', 'ට්වීටර්': 'ට්වීටර', 'ලයින්': 'ලයින', 'අල්ලන්නෙ': 'අල්ල', 'දෑහැට': 'දෑහැ', 'නොපෙනි': 'නොපෙ', 'තාත්තී': 'තාත්ත', 'කටින්ම': 'කටින්', 'අගමැතිකම්': 'අගමැතිකම', 'පිම්පියන්ට': 'පිම්පියන්', 'විකිනෙන': 'විකිනෙ', 'ඇමරිකාව': 'ඇමරිකා', 'මේසන්': 'මේසන', 'බාස්ලා': 'බාස්', 'හදන': 'හද', 'රම්ප්නුයි': 'රම්ප්නු', 'ඉන්දියාවයිද': 'ඉන්දියාවයි', 'හාවෝ': 'හා', 'රැල': 'රැ', 'වෙලාව': 'වෙලා', 'හොයන්': 'හොයන', 'ආර්ථික': 'ආර්ථි', 'වාර්තා': 'වාර්ත', 'පෙන්නන්නෝන': 'පෙන්නන්නෝ', 'ට්වීට්': 'ට්වීට', 'කිසිවෙකු': 'කිසිවෙ', 'අපහසුවට': 'අපහසුව', 'කෙල්ලෙකුට': 'කෙල්ලෙ', 'නෙලනකොට': 'නෙලනකො', 'හිතෙන්නේම': 'හිතෙන්නේ', 'මේම': 'මේ', 'කියන්ඩම': 'කියන්ඩ', 'වෙනෝ': 'වෙන', 'මල්ලේහ්': 'මල්ලේහ', 'මලකින්': 'මලකින', 'පු': '', 'ගත්තද': 'ගත්ත', 'නටන්නෙ': 'නට', 'කුලේ': 'කුල', 'ගංගා': 'ගංග', 'මෑණියන්ගේම': 'මෑණියන්', 'ලංකාවේත්': 'ලංකාවේත', 'ගැබිනි': 'ගැබි', 'මවක්': 'මවක', 'බඩුවක්': 'බඩුවක', 'දකින්': 'දකින', 'හැත්තක්': 'හැත්තක', 'කටු': 'කට', 'වැලක්': 'වැලක', 'කොසු': 'කොස', 'මිටක': 'මිට', 'ඔතලා': 'ඔත', 'පිටිපස්සෙන්': 'පිටිපස්සෙන', 'ඇමිනෙන්න': 'ඇමිනෙන්', 'පක්කු': 'පක්', 'මගෙන්': 'මගෙන', 'ගන්නවට': 'ගන්නව', 'කෝච්චියට': 'කෝච්චිය', 'පැනලා': 'පැන', 'එකියක්': 'එකියක', 'නොහද': 'නොහ', 'කාලකන්ණිකම්': 'කාලකන්ණිකම', 'ට්විටර්': 'ට්විටර', 'බඩුව': 'බඩු', 'එක්කකම': 'එක්කක', 'කේක්': 'කේක', 'තේබොන්න': 'තේබොන්', 'රූමුත්': 'රූමුත', 'වල්': 'වල', 'අදාස්': 'අදාස', 'සාමය': 'සාම', 'ඇමතිකම': 'ඇමතික', 'රකින්නත්': 'රකින්නත', 'ගිනිගත්තා': 'ගිනිගත්ත', 'සුමානෙකට': 'සුමානෙ', 'හමාරකට': 'හමාර', 'සැරයක්': 'සැරයක', 'ඇමතිලා': 'ඇමති', 'සන්තෝසෙන්': 'සන්තෝසෙන', 'ඊයා': 'ඊ', 'සන්නස්ගලගෙ': 'සන්නස්ගල', 'අක්කෙ': 'අක්', 'සින්හල': 'සින්හ', 'පකයො': 'පකය', 'මිතුරො': 'මිතුර', 'වර්ගික': 'වර්ගි', 'ගැටුම්': 'ගැටුම', 'වැරදී': 'වැරද', 'කිව්වාට': 'කිව්වා', 'කොටින්නටනම්': 'කොටින්නටනම', 'තියනකම්': 'තියනකම', 'බැල්ලියෙක්': 'බැල්ලියෙක', 'පනිනවා': 'පනි', 'ඇහිල්ලක්': 'ඇහිල්ලක', 'බැලිල්ලක්': 'බැලිල්ලක', 'පොඩ්ඩෙන්': 'පොඩ්ඩෙන', 'බැල්ලිගේ': 'බැල්ලි', 'පරලොව': 'පරලො', 'කටක්': 'කටක', 'අරින්නේ': 'අරි', 'එන්වා': 'එන්', 'වහන්න': 'වහන්', 'හාව': 'හා', 'හරවල': 'හරව', 'උතුරට': 'උතුර', 'පාවිච්චියට': 'පාවිච්චිය', 'බල්ලන්': 'බල්ලන', 'නිදාගත්තම': 'නිදාගත්ත', 'නැගිටින්න': 'නැගිටින්', 'මැක්කෝ': 'මැක්ක', 'ඕකම': 'ඕක', 'මරපියව්': 'මරපියව', 'පොල්ලකින්': 'පොල්ලකින', 'ඇවිස්සිලා': 'ඇවිස්සි', 'ගහපියව්': 'ගහපියව', 'දේකින්': 'දේකින', 'ඇවිලෙන්නෙ': 'ඇවිලෙ', 'රභාකරන්ට': 'රභාකරන්', 'හොයන්නයි': 'හොයන්න', 'බයිලා': 'බයි', 'කියෙව්වත්': 'කියෙව්වත', 'දෙමලා': 'දෙම', 'මරපියව': 'මරපිය', 'වරෙව්': 'වරෙව', 'වලහෙක්': 'වලහෙක', 'වලහා': 'වලහ', 'කොටාපියව්': 'කොටාපියව', 'තියපියව්': 'තියපියව', 'සරණාගතයින්': 'සරණාගතයින', '31කින්': '31කින', 'සිවුරු': 'සිවුර', 'කාරයින්ගෙන්': 'කාරයින්ගෙන', 'ගේම': '', 'මොළෙන්': 'මොළෙන', 'බැරිනම්': 'බැරිනම', 'කරපියව්': 'කරපියව', 'කොටපියව්': 'කොටපියව', 'පශ්චාත්': 'පශ්චාත', 'විප්ලවකරැවනගේ': 'විප්ලවකරැවන', 'අඳෝනාව': 'අඳෝනා', 'මාව': 'මා', 'රෙද්ද': 'රෙද්', 'පන්සලට': 'පන්සල', 'පානාතිපාතා': 'පානාතිපාත', 'වේරමණී': 'වේරමණ', 'රැකෙයිද': 'රැකෙයි', 'වැරැද්දට': 'වැරැද්ද', 'කරන්නේ': 'කරන්නෙ', 'වෙන්නේ': 'වෙන්නෙ', 'කොහෙන්ද': 'කොහෙන්', 'නවත්තන්නේ': 'නවත්තන්නෙ', 'කොහොමද': 'කොහොම', 'ආවේ': 'ආ', 'බොලාලා': 'බොලා', 'අයහපත්': 'අයහපත', 'නොගහා': 'නොගහ', 'හැත්තත්': 'හැත්තත', 'හාල්මැස්සට': 'හාල්මැස්ස', 'ඕකුන්ව': 'ඕකුන්', 'මරණ්න': 'මරණ්', 'බලාන': 'බලා', 'උදවුවක්': 'උදවුවක', 'බෝ': 'බ', 'පැළය': 'පැළ', 'කපා': 'කප', 'දැමීමෙන්': 'දැමීමෙන', 'ලිස්ට්': 'ලිස්ට', 'බාගයක්ම': 'බාගයක්', 'දකුනෙ': 'දකුන', 'විහිලු': 'විහිල', 'අතරෙ': 'අතර', 'විහිලුවක්': 'විහිලුවක', 'නොද්න්න': 'නොද්න්', 'ඩයලුත්': 'ඩයලුත', 'ඉන්න්වා': 'ඉන්න්', 'නෙද්දකිම්': 'නෙද්දකිම', 'සුනාමියක්': 'සුනාමියක', 'සින්දුවට': 'සින්දුව', 'දකුණ': 'දක', 'එහෙම්': 'එහෙම', 'පිටිම්ම': 'පිටිම්', 'ලැට්': 'ලැට', 'වලක්': 'වලක', 'අප්පිරියයි': 'අප්පිරි', 'පලකො': 'පලක', 'කන්නෙ': 'ක', 'කලකිරුණු': 'කලකිරුණ', 'දැනෙමින්': 'දැනෙමින', 'කෙල': 'කෙ', 'සමනල': 'සමන', 'කැල': 'කැ', 'හේතුව': 'හේතු', 'සාපයක්': 'සාපයක', 'මහාරාජා': 'මහාරාජ', 'වහලා': 'වහ', 'ඔළු': 'ඔළ', 'මඟුල': 'මඟු', 'පුරවලා': 'පුරව', 'මහරාජා': 'මහරාජ', 'වන්නෙමු': 'ව', 'ටොයියන්ගෙ': 'ටොයියන්', 'මොළේ': 'මොළ', 'ඇළේ': 'ඇළ', 'නොසිතා': 'නොසිත', 'රනිලගෙ': 'රනිල', 'දුවනවට': 'දුවනව', 'රිලව්': 'රිලව', 'විරුවගෙන': 'විරුවගෙ', 'හිටපියව්': 'හිටපියව', 'ලේකම්ලා': 'ලේකම්', 'මලාට': 'මලා', 'වෙනස්ම': 'වෙනස්', 'උන්ටිකක්': 'උන්ටිකක', 'හදන්නෙ': 'හද', 'හරින්': 'හරින', 'උත්සහයකින්': 'උත්සහයකින', 'ආයාසයෙන්': 'ආයාසයෙන', 'නොගත්': 'නොගත', 'උපතින්': 'උපතින', 'ලැබුන': 'ලැබු', 'ලේබල්': 'ලේබල', 'තමාට': 'තමා', 'දිනාගත්': 'දිනාගත', 'පුස්සන්': 'පුස්සන', 'නිකමුන්': 'නිකමුන', 'කාලයට': 'කාලය', 'උදුරන්': 'උදුරන', 'ඉස්සරහම': 'ඉස්සරහ', 'අයිති': 'අයි', 'ඈත්': 'ඈත', 'නැතිකලා': 'නැතික', 'හැදියල්ලා': 'හැදිය', 'පරම්පරාවේ': 'පරම්පරා', 'ජරාගති': 'ජරාග', 'මිදියල්ලා': 'මිදිය', 'කොච්චියකට': 'කොච්චිය', 'නගින්න': 'නගින්', 'පොරකනවා': 'පොරක', 'බැංකුවට': 'බැංකුව', 'බෙහෙත්': 'බෙහෙත', 'පොලිම්': 'පොලිම', 'හැසිරෙන': 'හැසිරෙ', 'විබාගෙ': 'විබා', 'වෙනවට': 'වෙනව', 'පාරින්ම': 'පාරින්', 'ෆේල්': 'ෆේල', 'කොස්': 'කොස', 'ගොඩයන': 'ගොඩය', 'ජීවිතෙ': 'ජීවිත', 'වැරදුන': 'වැරදු', 'වෙලේ': 'වෙල', 'සමච්චලේට': 'සමච්චලේ', 'ලක්කරපු': 'ලක්කර', 'කරුමෙ': 'කරුම', 'පාරා': 'පාර', 'වලල්ලක්': 'වලල්ලක', 'ලාංකිකයෙකු': 'ලාංකිකයෙ', 'වෙමි': 'වෙ', 'මෑණියන්ගේ': 'මෑණියන්', 'දරුවෙකු': 'දරුවෙ', 'උද්දාමයෙන්': 'උද්දාමයෙන', 'සිටිමි': 'සිටි', 'පිරිස්': 'පිරිස', 'කිහිපයක්': 'කිහිපයක', 'ජිවන': 'ජිව', 'රටාවට': 'රටාව', 'වින': 'වි', 'පමණින්': 'පමණින', 'මාතෘභූමිය': 'මාතෘභූමි', 'නසාගත්තම': 'නසාගත්ත', 'පෝස්': 'පෝස', 'ටිකකගෙ': 'ටික', 'බැරුව': 'බැරු', 'ලමයින්ට': 'ලමයින්', 'නසාගන්න': 'නසාගන්', 'ලයික්ස්': 'ලයික්ස', 'හිගාකන': 'හිගාක', 'ඇඩ්මින්ල': 'ඇඩ්මින්', 'අල්ලල': 'අල්ල', 'දානකම්': 'දානකම', 'මෛත්': 'මෛත', 'දැමීමට': 'දැමීම', 'පෙරමුනට': 'පෙරමුන', 'මාගේ': 'මා', 'රනාමය': 'රනාම', 'තියටර්': 'තියටර', 'ඔපරේශන්': 'ඔපරේශන', 'ළමයෙක්ට': 'ළමයෙක්', 'සිහිය': 'සිහි', 'ඇහුවෙ': 'ඇහු', 'නර්ස්': 'නර්ස', 'අම්ම': 'අම්', 'විකුනලද': 'විකුනල', 'කරාපිටිය': 'කරාපිටි', 'දේශපාලුවො': 'දේශපාලුව', 'කතාකරද්දිත්': 'කතාකරද්දිත', 'යකා': 'ය', 'හැතිකරයක්': 'හැතිකරයක', 'අපිවත්': 'අපිවත', 'කවද්ද': 'කවද්', 'ඩිග්': 'ඩිග', 'එවුන්වත්': 'එවුන්වත', 'සෙනට්': 'සෙනට', 'ෆැකල්ටිය': 'ෆැකල්ටි', 'ඉංජිනේරුවන්': 'ඉංජිනේරුවන', 'ගණකාධිකාරීවරුන්': 'ගණකාධිකාරීවරුන', 'කළමණාකරුවන්': 'කළමණාකරුවන', 'යවරුන්': 'යවරුන', 'ලොව': 'ලො', 'සියලන්ගේ': 'සියලන්', 'ආදරයට': 'ආදරය', 'රවන්නන්': 'රවන්නන', 'දෙමවුපියන්ගේ': 'දෙමවුපියන්', 'සිත්': 'සිත', 'කරන්නන්': 'කරන්නන', 'ස්වෝත්සහයෙන්': 'ස්වෝත්සහයෙන', 'නැගීසිටින්නන්': 'නැගීසිටින්නන', 'රණවිරුවන්': 'රණවිරුවන', 'නිර්මාණකරුවන්': 'නිර්මාණකරුවන', 'ඇතිකරවන': 'ඇතිකරව', 'සුලු': 'සුල', 'අධම': 'අධ', 'වදින': 'වදි', 'අන්තරේ': 'අන්තර', 'බැහල': 'බැහ', 'රංජන්': 'රංජන', 'ගෝඨාභය': 'ගෝඨාභ', 'හැප්පෙන්න': 'හැප්පෙන්', 'පකේ': 'ප', 'ලොජික්': 'ලොජික', 'රවුමට': 'රවුම', 'වැදුනම': 'වැදුන', 'ස්ලිප්': 'ස්ලිප', 'ඒනම්': 'ඒනම', 'හතරැස්': 'හතරැස', 'තිබ්බනේ': 'තිබ්බන', 'අටමගල': 'අටමග', 'කැඩිල': 'කැඩි', 'ඔලුවට': 'ඔලුව', 'හුලන්': 'හුලන', 'වදින්න': 'වදින්', 'ඕනානම්': 'ඕනානම', 'ගලෝල': 'ගලෝ', 'හිටපන්': 'හිටපන', 'නවත්තගෙන': 'නවත්තගෙ', 'නෑවාම': 'නෑවා', 'කසන්නේ': 'කස', 'හුත්තෙග්ගේ': 'හුත්තෙග්', 'කහනවනම්': 'කහනවනම', 'පෙරේතයා': 'පෙරේත', 'ශැශේ': 'ශැශ', 'පැකට්': 'පැකට', '10යි': '10', 'ටහුකන': 'ටහුක', 'මේකන්ම්': 'මේකන්ම', 'ලබ්බක්': 'ලබ්බක', 'බොන්න': 'බොන්', 'එකෙම්ම': 'එකෙම්', 'පකයා': 'පක', 'කවුන්ටරෙන්': 'කවුන්ටරෙන', 'ලෝන්': 'ලෝන', 'විසිපහක්': 'විසිපහක', 'ඉල්ල': 'ඉල්', 'පුරුද්දට': 'පුරුද්ද', 'ඌටත්': 'ඌටත', 'පනහක්': 'පනහක', 'පනහම': 'පනහ', 'විසිපහකට': 'විසිපහ', 'වාරිකෙ': 'වාරි', 'තුන': 'තු', 'ඇරියස්': 'ඇරියස', 'දැනගත්තෙ': 'දැනගත්ත', 'හිතාන': 'හිතා', 'බුවා': 'බු', 'බුවාට': 'බුවා', 'පතන': 'පත', 'පක්ෂෙ': 'පක්ෂ', 'උන්නත්': 'උන්නත', 'මලත්': 'මලත', 'රුදාවක්': 'රුදාවක', 'තට්ටෙ': 'තට්ට', 'ගාගෙන': 'ගාගෙ', 'ෆුල්': 'ෆුල', 'ශේව්': 'ශේව', 'හද': 'හ', 'හිටපන්කො': 'හිටපන්ක', 'දෙකෙන්': 'දෙකෙන', 'උට්ටෙක්ට': 'උට්ටෙක්', 'පකයලටත්': 'පකයලටත', 'ජෝක්': 'ජෝක', 'පූසිගෙ': 'පූසි', 'වෙතාලා': 'වෙතා', 'දවල්': 'දවල', 'බාගෙන': 'බාගෙ', 'ඉවරවෙලා': 'ඉවරවෙ', 'මාසෙ': 'මාස', 'ඉවරවෙනකල්': 'ඉවරවෙනකල', 'ලිංගික': 'ලිංගි', 'අවයව': 'අවය', 'මුල්කරගෙන': 'මුල්කරගෙ', 'හටගන්න': 'හටගන්', 'සෑදීම': 'සෑදී', 'යෝනිය': 'යෝනි', 'ශිෂ්නය': 'ශිෂ්න', 'පක': 'ප', 'පයිය': 'පයි', 'නපුංසක': 'නපුංස', 'පොන්නයා': 'පොන්න', 'රාණවාචී': 'රාණවාච', 'කිරීමෙන්': 'කිරීමෙන', 'හුත්තා': 'හුත්ත', 'හුත්තීද': 'හුත්තී', 'හටගනී': 'හටගන', 'කිරීමෙ': 'කිරීම', 'කැරියා': 'කැරි', 'කුනුහරපය': 'කුනුහරප', 'ලිංගිකත්වය': 'ලිංගිකත්ව', 'ආශ්': 'ආශ', 'රැකියා': 'රැකි', 'මුල්කරගෙනද': 'මුල්කරගෙන', 'ගණිකාව': 'ගණිකා', 'වෛශ්': 'වෛශ', 'යාව': 'යා', 'දැක්වූ': 'දැක්ව', 'මූලික': 'මූලි', 'එක්වීමෙන්': 'එක්වීමෙන', 'නව': 'න', 'ජොන්ස්ටන්': 'ජොන්ස්ටන', 'කතානායකට': 'කතානාය', 'චූ': 'ච', 'ගියාලු': 'ගියාල', 'රසන්න': 'රසන්', 'හලනවා': 'හල', 'දම්': 'දම', 'රැජිණලා': 'රැජිණ', 'බස්සවලා': 'බස්සව', 'වුනාම': 'වුනා', 'එන්නත්': 'එන්නත', 'දූව': 'දූ', 'ඉල්ලුවම': 'ඉල්ලුව', 'කවුන්ටරෙ': 'කවුන්ටර', 'රුපියලක්': 'රුපියලක', 'ලෙටුවා': 'ලෙටු', 'පැයක්': 'පැයක', 'ඉන්නෝන': 'ඉන්නෝ', 'කරකාරෙට': 'කරකාරෙ', 'බැන්දා': 'බැන්ද', 'මෙයින්': 'මෙයින', 'මතූ': 'මත', 'හිකුවානම්': 'හිකුවානම', 'යුතූ': 'යුත', 'සෘශිවරු': 'සෘශිවර', 'පුස්කොල': 'පුස්කො', 'ලිව්වේ': 'ලිව්', 'කහනවට': 'කහනව', 'මෙහ්': 'මෙහ', 'අහන්ඩකො': 'අහන්ඩක', 'හැදිලා': 'හැදි', 'ෆක්': 'ෆක', 'යූ': 'ය', 'එකෙන්ද': 'එකෙන්', 'දූරියන්': 'දූරියන', 'පොනනයා': 'පොනන', 'හුකවගන්න': 'හුකවගන්', 'රෙන්න': 'රෙන්', 'ගල්කිස්සේ': 'ගල්කිස්ස', 'තට්ට': 'තට්', 'නාකියෙක්': 'නාකියෙක', 'තරහට': 'තරහ', 'පරයට': 'පරය', 'කැෂියර්': 'කැෂියර', 'කියෙව්වම': 'කියෙව්ව', 'පොරක්': 'පොරක', 'හිතයි': 'හිත', 'ඊය': 'ඊ', 'හුත්ටෝ': 'හුත්ට', 'මියුසිකල්': 'මියුසිකල', 'එනවුන්ස්': 'එනවුන්ස', 'අයි': 'අ', 'එන්': 'එන', 'පේන්නම': 'පේන්න', 'සින්දුව': 'සින්දු', 'එකාටත්': 'එකාටත', 'උගන්නවා': 'උගන්', 'සතරවරම්': 'සතරවරම', 'නාමයෙන්': 'නාමයෙන', 'වික්': 'වික', 'ගාල්ලේ': 'ගාල්ල', 'එක්සෑම්': 'එක්සෑම', 'බදිනව': 'බදින', 'වෙඩින්ග්': 'වෙඩින්ග', 'පැනය': 'පැන', 'සෙද්ද': 'සෙද්', 'පොලිසියටත්': 'පොලිසියටත', 'මිරිස්': 'මිරිස', 'වේසිගේ': 'වේසි', 'පුතාලා': 'පුතා', 'මහින්දත්': 'මහින්දත', 'රනිලුත්': 'රනිලුත', 'සිරිසේනත්': 'සිරිසේනත', 'එකෙක්වත්': 'එකෙක්වත', 'මකබෑවිලා': 'මකබෑවි', 'ගහපල්ලා': 'ගහ', 'පැතිවල': 'පැතිව', 'මැච්නම්': 'මැච්නම', 'මොකා': 'මො', 'බැන්දම': 'බැන්ද', 'බදින්න': 'බදින්', 'රෙන්නෙ': 'රෙ', 'දෙයියන්ගෙ': 'දෙයියන්', 'නම්බර්': 'නම්බර', 'ගෑවිල': 'ගෑවි', 'පහලටද': 'පහලට', 'කෙල්ලන්ට': 'කෙල්ලන්', 'දාන්': 'දාන', 'උබලාට': 'උබලා', 'උඹල': 'උඹ', 'උඹලගෙ': 'උඹල', 'කටවල්': 'කටවල', 'පුනීල': 'පුනී', 'පෙව්වෙ': 'පෙව්', 'රමුඛස්ථානය': 'රමුඛස්ථාන', 'දිහාටම': 'දිහා', 'ඔනානම්': 'ඔනානම', 'හත්මුතු': 'හත්මුත', 'පරම්පරාමව': 'පරම්පරාම', 'එබෙන': 'එබෙ', 'නොබෙල්': 'නොබෙල', 'සාම': 'සා', 'ගෑනිත්': 'ගෑනිත', 'රෝහින්': 'රෝහින', 'විනිසුරුකමක්වත්': 'විනිසුරුකමක්වත', 'අමා': 'අම', 'දිනුවා': 'දිනු', 'පලයවු': 'පලයව', 'නාලා': 'නා', 'නැතු': 'නැත', 'නාන්න': 'නාන්', 'බඩේ': 'බඩ', 'අමාරුකාරයො': 'අමාරුකාරය', 'ඒලෙවල්': 'ඒලෙවල', 'පුබ්ග්': 'පුබ්ග', 'මෙන්ෂන්': 'මෙන්ෂන', 'ගහමරාගන්නේ': 'ගහමරාග', 'සාමකාමීව': 'සාමකාමී', 'පස්න': 'පස්', 'විසදගන්න': 'විසදගන්', 'පාර්ලිමේන්තුවක්': 'පාර්ලිමේන්තුවක', 'මතයකින්': 'මතයකින', 'දෙකකින්': 'දෙකකින', 'දමල': 'දම', 'රිදෙන්න': 'රිදෙන්', 'ආන්න': 'ආන්', 'බුවාල': 'බුවා', 'ඇගිල්ල': 'ඇගිල්', 'කකුලම': 'කකුල', 'ඇකට': 'ඇ', 'රිපොට්': 'රිපොට', 'ලින්ක්': 'ලින්ක', 'කොම්න්ට්': 'කොම්න්ට', 'පෙන්නුවෙ': 'පෙන්නු', 'අකුලෝලම': 'අකුලෝල', 'උඹලගේ': 'උඹල', 'හොරාකාල': 'හොරාකා', 'දේශපාලුවන්ට': 'දේශපාලුවන්', 'බාරගන්න': 'බාරගන්', 'බොතල්': 'බොතල', 'තිලංගටයී': 'තිලංගටය', 'රිලාසිරිටයි': 'රිලාසිරිට', 'රතු': 'රත', 'බලන්නද': 'බලන්න', 'ඩේටා': 'ඩේට', 'එෆ්': 'එෆ', 'බී': 'බ', 'හඳට': 'හඳ', 'පිරිසිදුව': 'පිරිසිදු', 'මොකවත්': 'මොකවත', 'දැක්කමයි': 'දැක්කම', 'විහිලුව': 'විහිලු', 'වොල්': 'වොල', 'එකේම': 'එකේ', 'හදනවට': 'හදනව', 'ඇඩ්මින්වරුන්ට': 'ඇඩ්මින්වරුන්', 'වහිනකොට': 'වහිනකො', 'හීනියට': 'හීනිය', 'හුකැස්': 'හුකැස', 'කහන්නැනෙ': 'කහන්නැන', 'තොපෙ': 'තොප', 'හොරිද': 'හොරි', 'දියුණුවක්ද': 'දියුණුවක්', 'උට්ට': 'උට්', 'මෙහෙක්': 'මෙහෙක', 'ගැහුවත්': 'ගැහුවත', 'මල්කාන්ති': 'මල්කාන්', 'මේකප්': 'මේකප', 'ගියම': 'ගිය', 'පැනියා': 'පැනි', 'මඩුල්ල': 'මඩුල්', 'වෙනසේ': 'වෙනස', 'නියමුවාට': 'නියමුවා', 'හම්බන්තොට': 'හම්බන්තො', 'පාරෙත්': 'පාරෙත', 'පාසල්': 'පාසල', 'විකුනනව': 'විකුනන', 'පුපුරා': 'පුපුර', 'ඇගට': 'ඇග', 'ගසාකාපු': 'ගසාකා', 'ඇතුලට': 'ඇතුල', 'ගිහාම': 'ගිහා', 'නූගත්': 'නූගත', 'මහජනතාවක්': 'මහජනතාවක', 'රැදෙන්නේ': 'රැදෙ', 'බාරදිලා': 'බාරදි', 'හයිකරා': 'හයිකර', 'ටිකවත්තියේද': 'ටිකවත්තියේ', 'අඇගිලිවල': 'අඇගිලිව', 'අමාරුව': 'අමාරු', 'අඇරගන්න': 'අඇරගන්', 'කොනිත්තයි': 'කොනිත්ත', 'ලෝ': 'ල', 'මරාගනි': 'මරාග', 'රටකජු': 'රටකජ', 'පොතු': 'පොත', 'සිගරට්': 'සිගරට', 'කොටන්': 'කොටන', 'ඉතිරියයි': 'ඉතිරි', 'විනාසයක්': 'විනාසයක', 'මිසයි': 'මිස', 'පැවත්මක්': 'පැවත්මක', 'රේන්': 'රේන', 'තනතුරක්': 'තනතුරක', 'සම්පත්': 'සම්පත', 'අපතයින්ව': 'අපතයින්', 'මාසෙම': 'මාසෙ', 'ඉන්ස්පෙක්ෂන්': 'ඉන්ස්පෙක්ෂන', 'බලපුවාම': 'බලපුවා', 'පඩියෙන්': 'පඩියෙන', 'කපන්න': 'කපන්', 'ගෙනාවත්': 'ගෙනාවත', 'වනසයි': 'වනස', 'සතියේන්': 'සතියේන', 'කජු': 'කජ', 'හුණු': 'හුණ', 'ජරාවක්ම': 'ජරාවක්', 'ඉද': 'ඉ', 'අතාරින': 'අතාරි', 'අහිකුණ්ඨක': 'අහිකුණ්ඨ', 'ඉස්සල්ලාම': 'ඉස්සල්ලා', 'ටීවී': 'ටීව', 'ෂොට්': 'ෂොට', 'පෝට්': 'පෝට', 'කඩනවා': 'කඩ', 'ඉතිම්': 'ඉතිම', 'ඉරලා': 'ඉර', 'නසරානි': 'නසරා', 'කොළඹට': 'කොළඹ', 'විතරක්ද': 'විතරක්', 'හැමේ': 'හැ', 'තැනකටම': 'තැනක', 'හැදියාවක්': 'හැදියාවක', 'හුජ්ජත්': 'හුජ්ජත', 'බඩුත්': 'බඩුත', 'මිනිස්සුන්ගේ': 'මිනිස්සුන්', 'දිවුණු': 'දිවුණ', 'රටවල්': 'රටවල', 'පෑන්': 'පෑන', 'හාරල': 'හාර', 'බීපුවා': 'බීපු', 'වනසාවී': 'වනසාව', 'වැසියෝ': 'වැසි', 'ඒවුන්ට': 'ඒවුන්', 'මෙිවා': 'මෙි', 'හරියන්නේ': 'හරිය', 'සත්යෙන්': 'සත්යෙන', 'ලියයි': 'ලි', 'සිටිවල': 'සිටිව', 'උලයි': 'උල', 'පසුපෙල': 'පසුපෙ', 'ජොඩු': 'ජොඩ', 'කිම': 'කි', 'ආශාවන්': 'ආශාවන', 'සපුරාගෙන': 'සපුරාගෙ', 'ඹය': 'ඹ', 'ප්හ්දායි': 'ප්හ්දා', 'භාගයක්': 'භාගයක', 'මගියො': 'මගිය', 'ඕවගෙ': 'ඕව', 'පාඩු': 'පාඩ', 'කැඩුනම': 'කැඩුන', 'සරලයි': 'සරල', 'ගත්තොත්': 'ගත්තොත', 'මායක්': 'මායක', 'ආහු': 'ආ', 'බැලුවොත්': 'බැලුවොත', 'තිබිච්ච': 'තිබ', 'කලකිරිලද': 'කලකිරිල', 'සාදාරනයි': 'සාදාරන', 'නෙමෙ': 'නෙම', 'පුතාලගෙන්': 'පුතාලගෙන', 'යෑමක්': 'යෑමක', 'ඉන්දියාවෙ': 'ඉන්දියා', 'හැමනෙන්න': 'හැමනෙන්', 'හදනකොට': 'හදනකො', 'රටෙ': 'රට', 'එවනවා': 'එව', 'කරුමෙටවත්': 'කරුමෙටවත', 'හෙල': 'හෙ', 'දෙරනේ': 'දෙරන', 'ඉපදුනොත්': 'ඉපදුනොත', 'හුකලා': 'හුක', 'ධාවනයට': 'ධාවනය', 'අත්ඇරගනිල්ලා': 'අත්ඇරගනි', 'බිදලා': 'බිද', 'දමවී': 'දමව', 'මාසෙන්': 'මාසෙන', 'දාවී': 'දාව', 'තිු': 'ති', 'විල්': 'විල', 'ජොකා': 'ජො', 'ඉංදියාවෙන්': 'ඉංදියාවෙන', 'පෙන්නයි': 'පෙන්න', 'ගොත්': 'ගොත', 'රිකයන්ට': 'රිකයන්', 'පහසුකම්ද': 'පහසුකම්', 'තම්බින්ට': 'තම්බින්', 'දෙමලුන්ට': 'දෙමලුන්', 'කැලේ': 'කැල', 'භාෂාව': 'භාෂා', 'උගන්වන්නෙ': 'උගන්ව', 'අරුත්': 'අරුත', 'ගායනා': 'ගාය', 'කරවල': 'කරව', 'ජනතාවගෙ': 'ජනතාව', 'හිතතුල': 'හිතතු', 'ආශාව': 'ආශා', 'මුඛයට': 'මුඛය', 'යවන': 'යව', 'විකුනගෙන': 'විකුනගෙ', 'වසලයො': 'වසලය', 'මේවට': 'මේව', 'සාදු': 'සාද', 'කියනවනෙ': 'කියනවන', 'ගථා': 'ගථ', 'ඵාට': 'ඵා', 'කියලදුනේ': 'කියලදුන', 'කියව': 'කිය', 'පිලිපදින්න': 'පිලිපදින්', 'නිබ්බාන': 'නිබ්බා', 'ගමී': 'ගම', 'රිංගුවම': 'රිංගුව', 'බණට': 'බණ', 'රැවටුන': 'රැවටු', 'බනට': 'බන', 'පැනියාගෙන්': 'පැනියාගෙන', 'උපුටා': 'උපුට', 'ගැනීමකි': 'ගැනීම', 'උඹද': 'උඹ', 'වරත්තු': 'වරත්ත', 'ෆේක්': 'ෆේක', 'විකුණන': 'විකුණ', 'වේසකමේ': 'වේසක', 'මිනිමැරුම්': 'මිනිමැරුම', 'කෙලවෙන්නෙ': 'කෙලවෙ', 'රතිඤ්ඤා': 'රතිඤ්ඤ', 'කිරිබත්': 'කිරිබත', 'පොරව': 'පොර', 'අපටත්': 'අපටත', 'රජෙක්': 'රජෙක', 'පහලව': 'පහල', 'ඇතේ': 'ඇත', 'පොරටත්': 'පොරටත', 'ඌෂ්ණෙ': 'ඌෂ්ණ', 'තාත්තගෙන්': 'තාත්තගෙන', 'පුතාට': 'පුතා', 'රජකම': 'රජක', 'කඩියො': 'කඩිය', 'දඟලනවා': 'දඟල', 'මැද්දෙන්': 'මැද්දෙන', 'හිතුනා': 'හිතු', 'දෙයක්ගැන': 'දෙයක්ගැ', 'අබලින්': 'අබලින', 'වෙන්නයනවා': 'වෙන්නය', 'ගොතන': 'ගොත', 'හාත්පසින්ම': 'හාත්පසින්', 'කුණුහරුපයක්': 'කුණුහරුපයක', 'රාවේ': 'රා', 'යවනවා': 'යව', 'හයිවේ': 'හයි', 'රන්ස්': 'රන්ස', 'ලේන්': 'ලේන', 'සීරියස්': 'සීරියස', 'කිව්වම': 'කිව්ව', 'අන්ෆොලෝ': 'අන්ෆොල', 'බ්ලොක්': 'බ්ලොක', 'දැම්මම': 'දැම්ම', 'වලියෙන්': 'වලියෙන', 'නෑලූ': 'නෑල', 'රැඩිකල්': 'රැඩිකල', 'අවුල්': 'අවුල', 'හමුවේ': 'හමු', 'ජීවීතය': 'ජීවීත', 'පැරදුන': 'පැරදු', 'බොහෝය': 'බොහෝ', 'දිනූ': 'දින', 'කරන්නට': 'කරන්න', 'නැට්ටට': 'නැට්ට', 'එරෙන්නෙවත්': 'එරෙන්නෙවත', 'අයියලා': 'අයිය', 'සේනාරත්නට': 'සේනාරත්න', 'රාමීය': 'රාමී', 'රදේශවලට': 'රදේශවල', 'ඕනෙමයිලු': 'ඕනෙමයිල', 'පයින්': 'පයින', 'පලයංකෝ': 'පලයංක', 'නවත්තල': 'නවත්ත', 'ගන්නනම්': 'ගන්නනම', 'බඩගාගෙන': 'බඩගාගෙ', 'රෙද්දවල්': 'රෙද්දවල', 'හොයන්නේ': 'හොය', 'දේයකට': 'දේය', 'කැපවිමේන්': 'කැපවිමේන', 'හිටියොත්': 'හිටියොත', 'කොවිල්': 'කොවිල', 'චන්ද්': 'චන්ද', 'රග්': 'රග', 'රහණයක්': 'රහණයක', 'බන්ඩාරනායක': 'බන්ඩාරනාය', 'නෝනට': 'නෝන', 'ටෞකන': 'ටෞක', 'වලව්': 'වලව', 'කරන්ට්': 'කරන්ට', 'කොන්': 'කොන', 'වීමෙන්': 'වීමෙන', 'තොරයි': 'තොර', 'පැරදෙන': 'පැරදෙ', 'තොපිලට': 'තොපිල', 'නද්දකින්': 'නද්දකින', 'යියෙන්': 'යියෙන', 'ටුවිටරේටත්': 'ටුවිටරේටත', 'අක්කලා': 'අක්ක', 'නංගලා': 'නංග', 'මොලෙන්': 'මොලෙන', 'කොඩියකුත්': 'කොඩියකුත', 'ආන්ඩුවකුත්': 'ආන්ඩුවකුත', 'සංහිඳියාවයි': 'සංහිඳියාව', 'පොශ්': 'පොශ', 'ටෝකුයි': 'ටෝකු', 'උස්සගෙන': 'උස්සගෙ', 'පලාත්': 'පලාත', 'අධ්': 'අධ', 'යාපන': 'යාප', 'ඔසවන්න': 'ඔසවන්', 'රින්සිපල්': 'රින්සිපල', 'ලව්වා': 'ලව්', 'කරවලා': 'කරව', 'බාදාවක්': 'බාදාවක', 'වෙලකට': 'වෙල', 'එල්ලේ': 'එල්ල', 'අතක්වත්': 'අතක්වත', 'රීඩාවක': 'රීඩාව', 'ස්වභාවය': 'ස්වභාව', 'අදුරන්නැති': 'අදුරන්නැ', 'ෆේස්බුක්': 'ෆේස්බුක', 'රින්ගලා': 'රින්ග', 'එපාවෙලා': 'එපාවෙ', 'අකවුන්ට්': 'අකවුන්ට', 'බලද්දී': 'බල', 'හිටියට': 'හිටිය', 'පකිස්ලන්තයෙන්': 'පකිස්ලන්තයෙන', 'දගලන': 'දගල', 'කොන': 'කො', 'ඇමැති': 'ඇමැ', 'වරෙව්කො': 'වරෙව්ක', 'හු': '', '1කේ': '1', 'සුද්දොන්ට': 'සුද්දොන්', 'ඇරගත්තු': 'ඇරගත්ත', 'ඇමරිකාවටම': 'ඇමරිකාව', 'උපාධිය': 'උපාධි', 'ලොන්තපෝල්': 'ලොන්තපෝල', '200ක්': '200ක', 'පුකවල්': 'පුකවල', 'අතුල්ල': 'අතුල්', 'ගන්නවනේ': 'ගන්නවන', 'ට්විටරෙට': 'ට්විටරෙ', 'ආවම': 'ආව', 'ලොල්': 'ලොල', 'අන්තවාදී': 'අන්තවාද', 'පියානන්': 'පියානන', 'දෙසනා': 'දෙස', 'නිර්මල්': 'නිර්මල', 'සැමදා': 'සැමද', 'පවතී': 'පවත', 'වා': '', 'ගාථා': 'ගාථ', 'පන්සල': 'පන්ස', 'රුව': 'රු', 'බුදුන්ගෙ': 'බුදුන්', 'අගිලි': 'අග', 'අස්': 'අස', 'කාන්තාවන්ගේ': 'කාන්තාවන්', 'සමෙ': 'සම', 'මෙවාට': 'මෙවා', 'ලෙ': 'ල', 'පිලිකා': 'පිලි', 'හෙදිලා': 'හෙදි', 'පවුලම': 'පවුල', 'වෙනසෙවා': 'වෙනසෙ', 'මොහොතේ': 'මොහොත', 'විදවලා': 'විදව', 'පනුවොගසත්වා': 'පනුවොගස', 'මාලිගා': 'මාලිග', 'කලාවක්': 'කලාවක', 'ලෙඩ්ඩුන්': 'ලෙඩ්ඩුන', 'සින්ගප්පුරුවෙ': 'සින්ගප්පුරු', 'ජර්මන්': 'ජර්මන', 'අමෙරිකා': 'අමෙරි', 'ලෙජ්ජය්': 'ලෙජ්ජය', 'ඉස්කොල': 'ඉස්කො', 'නුගතහෙ': 'නුගතහ', 'රත්නය': 'රත්න', 'රද්ධාවයි': 'රද්ධාව', 'පදයක': 'පදය', 'භාවිතයට': 'භාවිතය', 'සම්මා': 'සම්ම', 'සම්බුදු': 'සම්බුද', 'මුවින්': 'මුවින', 'වදාල': 'වදා', 'සද්ධර්මය': 'සද්ධර්ම', 'මෙනෙහි': 'මෙනෙ', 'කරමින්': 'කරමින', 'රවණය': 'රවණ', 'පිවිතුරු': 'පිවිතුර', 'හදවත්ය': 'හදවත්', 'මනසෙහි': 'මනසෙ', 'මවා': 'ම', 'ගුණයෙන්': 'ගුණයෙන', 'පුරවා': 'පුර', 'කරන්නෙකුට': 'කරන්නෙ', 'විකෘතියට': 'විකෘතිය', 'නොපෙනෙනු': 'නොපෙනෙ', 'රැස්': 'රැස', 'පින': 'පි', 'පමණකි': 'පමණ', 'වුව': 'වු', 'පවක්': 'පවක', 'ගැනීමද': 'ගැනීම', 'නිවනට': 'නිවන', 'සියල්ලෝ': 'සියල්ල', 'දකීවා': 'දකී', 'සත්වයෝ': 'සත්ව', 'නිදුක්': 'නිදුක', 'වෙත්වා': 'වෙ', 'නිරෝගී': 'නිරෝග', 'දකිත්වා': 'දකි', 'හම්බකරනවා': 'හම්බකර', 'අහද්දී': 'අහ', 'සැහැල්ලුවක්': 'සැහැල්ලුවක', 'අදහන්නේ': 'අදහ', 'හරවගෙන': 'හරවගෙ', 'බැදල': 'බැද', 'බලන්ඩම': 'බලන්ඩ', 'පො': 'ප', 'රුවෙනුත්': 'රුවෙනුත', 'බැදලා': 'බැද', 'පල්ලියෙනුත්': 'පල්ලියෙනුත', 'පන්සලුත්': 'පන්සලුත', 'පල්ලිත්': 'පල්ලිත', 'පහනත්': 'පහනත', 'ජේසුට': 'ජේසු', 'තෙල්': 'තෙල', 'ඔරසම්': 'ඔරසම', 'එයාලාගෙ': 'එයාලා', 'කැමැත්තට': 'කැමැත්ත', 'තීද': 'තී', 'ඇඳුමෙන්': 'ඇඳුමෙන', 'කෑමෙන්': 'කෑමෙන', 'බීමෙන්': 'බීමෙන', 'පිළිපදින': 'පිළිපදි', 'නීතියෙන්': 'නීතියෙන', 'මොකෝ': 'මොක', 'අඳින්': 'අඳින', 'රෙද්දෙ': 'රෙද්ද', 'බෙදන': 'බෙද', 'ඒවානන්': 'ඒවානන', 'ගොන්පාට්': 'ගොන්පාට', 'මැතිව්ස්': 'මැතිව්ස', 'ආගමේ': 'ආග', 'රටක්නේ': 'රටක්න', 'ආනොල්ඩ්': 'ආනොල්ඩ', 'හිවලා': 'හිව', 'සනත්': 'සනත', 'මැතිතුමාට': 'මැතිතුමා', 'ගොඩයා': 'ගොඩ', 'සිංහලෙනුත්': 'සිංහලෙනුත', 'කියනවනේ': 'කියනවන', 'හරකුත්': 'හරකුත', 'ශාන්තියක්': 'ශාන්තියක', 'හිගන්නෝ': 'හිග', 'අමිත්': 'අමිත', 'තම්බියෝ': 'තම්බි', 'තහුජීත්': 'තහුජීත', 'අනත්වාදීත්': 'අනත්වාදීත', 'දිගනේ': 'දිගන', 'අන්තවාදය': 'අන්තවාද', 'පතුරන': 'පතුර', 'ලො': 'ල', 'ල්ාලක්ගේ': 'ල්ාලක්', 'උඩද': 'උඩ', 'නරියා': 'නරි', 'අපතයන්ට': 'අපතයන්', 'පුකේ': 'පු', 'ඉත්තෑවෝ': 'ඉත්තෑ', 'දුවන්නේ': 'දුව', 'කන්තලේ': 'කන්තල', 'රදේශයේ': 'රදේශ', 'වැවකට': 'වැව', 'ලතීෆ්': 'ලතීෆ', 'වැව': 'වැ', 'තබයි': 'තබ', 'කවදද': 'කවද', 'බොලව්': 'බොලව', 'වැව්': 'වැව', 'මාවිල්ලාරු': 'මාවිල්ලාර', 'සොරොව්ව': 'සොරොව්', 'කෙලව': 'කෙල', 'තෙල්දෙණිය': 'තෙල්දෙණි', 'සිංහලයෙක්ට': 'සිංහලයෙක්', 'තහණම්': 'තහණම', 'යූන්පී': 'යූන්ප', 'සි0හල': 'සි0හ', 'හිරේදාපන්': 'හිරේදාපන', 'බලපල්ලකෝ': 'බලපල්ලක', 'ඔවා': 'ඔ', 'හීන': 'හී', 'මැරුවො': 'මැරුව', 'රිමෙම්බර්': 'රිමෙම්බර', 'දිස්': 'දිස', 'බුල්ෂිට්': 'බුල්ෂිට', 'බ්ලැඩී': 'බ්ලැඩ', 'බෝයිස්ස්': 'බෝයිස්ස', 'සිංහයෝ': 'සිංහ', 'දන': 'ද', 'යහපාලනය': 'යහපාලන', 'මිනිහාට': 'මිනිහා', 'දුන්නානේ': 'දුන්නාන', 'පැන': 'පැ', 'ඕකටනේ': 'ඕකටන', 'ඌරු': 'ඌර', 'කොටුවක්': 'කොටුවක', 'දාගනින්': 'දාගනින', 'කටයි': 'කට', 'පුකයි': 'පුක', 'වහන්': 'වහන', 'තම්බියෙක්ගෙ': 'තම්බියෙක්', 'වලියට': 'වලිය', 'සින්හලයෙක්ගෙ': 'සින්හලයෙක්', 'සපොර්ට්': 'සපොර්ට', 'සහජීවනය': 'සහජීවන', 'මහත්තයො': 'මහත්තය', 'කරැමයක්': 'කරැමයක', 'වේයවු': 'වේයව', 'සැරට': 'සැර', 'වදන්': 'වදන', 'පල්ලිය': 'පල්ලි', 'රිඩාංගනයට': 'රිඩාංගනය', 'ගල්වලින්': 'ගල්වලින', 'රිෂාඩ්': 'රිෂාඩ', 'බදූදීන්': 'බදූදීන', 'අසාද්': 'අසාද', 'සාලී': 'සාල', 'පාලකයා': 'පාලක', 'ආපූ': 'ආප', 'හතු': 'හත', 'පිපෙනවා': 'පිපෙ', 'පේන්': 'පේන', 'ජරාම': 'ජරා', 'කටුස්සෙකු': 'කටුස්සෙ', 'දෙන්': 'දෙන', 'හිතකින්ද': 'හිතකින්', 'දවසට': 'දවස', 'වදිනවලු': 'වදිනවල', 'හෙලුවට': 'හෙලුව', 'බලසේනාදිපති': 'බලසේනාදිප', 'ඟානසාරයෝ': 'ඟානසාර', 'පැකර්': 'පැකර', 'කැසිනෝ': 'කැසින', 'ඇගිල්ලෙන්': 'ඇගිල්ලෙන', 'ඇන්නත්': 'ඇන්නත', 'නොදකී': 'නොද', 'හලාල්': 'හලාල', 'පිටුපසම': 'පිටුපස', 'එලෝති': 'එලෝ', 'පටන්ගෙන': 'පටන්ගෙ', 'රජවෙන්න': 'රජවෙන්', 'මිනීමරු': 'මිනීමර', 'හීනයක්ම': 'හීනයක්', 'සිංහලයට': 'සිංහලය', 'කෙලින්න': 'කෙලින්', 'උබලාගේම': 'උබලා', 'අරාභියට': 'අරාභිය', 'මරන්නේ': 'මර', 'බලබල': 'බලබ', 'පොඩු': 'පොඩ', 'තුරුල්': 'තුරුල', 'බුදියගනින්': 'බුදියගනින', 'තුන්කාලා': 'තුන්', 'හැටිනේ': 'හැටින', 'යහපාලනයේ': 'යහපාලන', 'පෝලිමේ': 'පෝලි', 'ගෙවපල්ලා': 'ගෙව', 'ආණ්ඩුවටම': 'ආණ්ඩුව', 'හත්පොළේ': 'හත්පොළ', 'කබීර්': 'කබීර', 'හෂීම්': 'හෂීම', 'තිරප්පනේටත්': 'තිරප්පනේටත', 'කේලියා': 'කේලි', 'එවුනුත්': 'එවුනුත', 'බද්යුදීන්': 'බද්යුදීන', 'අල්ලගේ': 'අල්ල', 'හෙලුවැල්ලයි': 'හෙලුවැල්ල', 'රදර්ශනය': 'රදර්ශන', 'සිහල': 'සිහ', 'උරුමය': 'උරුම', 'අපේක්ෂකයන්': 'අපේක්ෂකයන', 'පිටුවට': 'පිටුව', 'බලුමූනු': 'බලුමූ', 'අමිත්ගේ': 'අමිත්', 'තව්හිද්': 'තව්හිද', 'ජමා': 'ජම', 'අන්තවාදීන්': 'අන්තවාදීන', 'සෝවාන්': 'සෝවාන', 'හරිමගට': 'හරිමග', 'හුකේ': 'හු', 'එකේක': 'එකේ', 'අවුස්සල': 'අවුස්ස', 'කොල්ලන්ගෙන්': 'කොල්ලන්ගෙන', 'හිඟාකනෝ': 'හිඟාකන', 'ගසාකනෝ': 'ගසාකන', 'තොපිද්': 'තොපිද', 'දැනුවත්ව': 'දැනුවත්', 'ගස්නරින්ට': 'ගස්නරින්', 'හුකන්නෝ': 'හුක', 'දහමි': 'දහ', 'කතිකාවතක්': 'කතිකාවතක', 'අැතිව්නේ': 'අැතිව්නෙ', 'කලකට': 'කල', 'පස්සේ': 'පස්සෙ', 'දහමෙින්': 'දහමෙින', 'කරාම': 'කරා', 'නඩෙිට': 'නඩෙි', 'වාසියිනේ': 'වාසියිනෙ', 'බත්': 'බත', 'දේන්නේ': 'දේන්නෙ', 'උන්ගෙත්': 'උන්ගෙත', 'ගොබ්බකම': 'ගොබ්බක', 'සම්මානෙ': 'සම්මාන', 'ගත්තනම්': 'ගත්තනම', 'උදුමමා': 'උදුමම', 'දේශපාලනඥයන්': 'දේශපාලනඥයන', 'ජන්දෙන්': 'ජන්දෙන', 'එපැයි': 'එපැ', 'කාරනාව': 'කාරනා', 'ගොබ්බයන්': 'ගොබ්බයන', 'සමාජයෙන්ම': 'සමාජයෙන්', 'යෞවන': 'යෞව', 'උළෙල': 'උළෙ', 'මෙවුන්': 'මෙවුන', 'මොවුන්ගේ': 'මොවුන්', 'දැක්වීමට': 'දැක්වීම', 'කලාකරුවකු': 'කලාකරුව', 'බූරු': 'බූර', 'දේශපාලඥයන්': 'දේශපාලඥයන', 'ගෝත්': 'ගෝත', 'රික': 'රි', 'නිවටයො': 'නිවටය', 'වර්ගෙ': 'වර්', 'වැඩේට': 'වැඩේ', 'පකයෙක්': 'පකයෙක', 'ආරාදනා': 'ආරාද', 'නලුව': 'නලු', 'මොකෙන්': 'මොකෙන', 'එකෙක්ද': 'එකෙක්', 'රාහී': 'රාහ', 'වැඩක්නෙ': 'වැඩක්න', 'පී': 'ප', 'ඔව්න්': 'ඔව්න', 'පුකත්': 'පුකත', 'ලෙවකාල': 'ලෙවකා', 'නලුකම': 'නලුක', 'රියන්නල': 'රියන්න', 'ආදර්ශයට': 'ආදර්ශය', 'ගනියව්': 'ගනියව', 'නිහතමානීකම්': 'නිහතමානීකම', 'වෙයව්': 'වෙයව', 'මතේ': 'මත', 'දක්ෂතාවයටයි': 'දක්ෂතාවයට', 'ලැබෙන්නේ': 'ලැබෙ', 'මොකාද': 'මොකා', 'නිහතමානීකම': 'නිහතමානීක', 'නෙදකිංවත්': 'නෙදකිංවත', 'නූගත්කම': 'නූගත්ක', 'ගොන්කම': 'ගොන්ක', 'වගේයි': 'වගේ', 'ශෝ': 'ශ', 'දුන්නෙ': 'දු', 'දේශපාලුන්ගෙ': 'දේශපාලුන්', 'අල්ලසක්': 'අල්ලසක', 'පොරවල්': 'පොරවල', 'සම්මානෙකට': 'සම්මානෙ', 'නුසුදුසු': 'නුසුදුස', 'හාල්පාරු': 'හාල්පාර', 'ලාබාදීම': 'ලාබාදී', 'සංවිධායකයන්': 'සංවිධායකයන', 'කලාකරුවෙක්ගේ': 'කලාකරුවෙක්', 'සංවිධායකයන්ට': 'සංවිධායකයන්', 'පිලිතුරක්': 'පිලිතුරක', 'කම්': 'කම', 'අයව': 'අය', 'ගොඩයි': 'ගොඩ', 'වහල්': 'වහල', 'ගතිවලින්': 'ගතිවලින', 'මිදෙන්න': 'මිදෙන්', 'හැමවෙලාවෙම': 'හැමවෙලාවෙ', 'පුන්නක්කු': 'පුන්නක්', 'කිරිටික': 'කිරිටි', 'දොවාගන්නවා': 'දොවාගන්', 'හතරවටේටම': 'හතරවටේ', 'පුකදීල': 'පුකදී', 'යන්තම්': 'යන්තම', 'ඔතෙන්ට': 'ඔතෙන්', 'ඔළුව': 'ඔළු', 'දාගත්තම': 'දාගත්ත', 'සූරයො': 'සූරය', 'බලපල්ල': 'බලපල්', 'රවීන්ද්': 'රවීන්ද', 'රන්දෙනිය': 'රන්දෙනි', 'මාලනී': 'මාලන', 'පොන්සේක': 'පොන්සේ', 'ජැක්ෂන්': 'ජැක්ෂන', 'ඇන්තනි': 'ඇන්ත', 'පන්ඩිත්': 'පන්ඩිත', 'අමරදේවයන්': 'අමරදේවයන', 'කරැවන්': 'කරැවන', 'මොනනායකයන්': 'මොනනායකයන', 'උවත්': 'උවත', 'සිනාමුහුනින්': 'සිනාමුහුනින', 'අරගත්': 'අරගත', 'මේමොන': 'මේමො', 'හාල්පාරුවොද': 'හාල්පාරුවො', 'අපේඋන්ව': 'අපේඋන්', 'කොටවන්න': 'කොටවන්', 'හම්බයො': 'හම්බය', 'කීදෙනෙක්': 'කීදෙනෙක', 'පොන්න': 'පොන්', 'පුනදෙනවද': 'පුනදෙනව', 'හිතපල්ල': 'හිතපල්', 'මොකාගෙ': 'මොකා', 'කොටවල': 'කොටව', 'ඉටුකරගන්නයි': 'ඉටුකරගන්න', 'රනිල්ගෙම': 'රනිල්', 'මීහරකුත්': 'මීහරකුත', 'කෙලවන්න': 'කෙලවන්', 'උන්ටම': 'උන්', 'දන්නෙම': 'දන්නෙ', 'ජාතියටම': 'ජාතිය', 'ඇරගන්නව': 'ඇරගන්න', 'මේතරම්': 'මේතරම', 'යම': 'ය', 'ගේන්න': 'ගේන්', 'දඟලන්නෙ': 'දඟල', 'පකයිනෙ': 'පකයින', 'දෙගොල්ලම': 'දෙගොල්ල', 'ඌරගෙ': 'ඌර', 'ඇඟේමතියල': 'ඇඟේමතිය', 'කපනඑකයි': 'කපනඑක', 'මහින්දව': 'මහින්ද', 'ඇතිකරගෙන': 'ඇතිකරගෙ', 'ගිවිසුම්ටික': 'ගිවිසුම්ටි', 'කරගන්නකම්': 'කරගන්නකම', 'උඩින්ම': 'උඩින්', 'ඊටපස්සෙ': 'ඊටපස්ස', 'කෙරුවාවල්ටික': 'කෙරුවාවල්ටි', 'බලපියව්': 'බලපියව', 'ඉඳගෙන': 'ඉඳගෙ', 'ගරහන්නෙ': 'ගරහ', 'සක්කිලිත්': 'සක්කිලිත', 'මෙහෙමනම්': 'මෙහෙමනම', 'අයිතිවාසිකම්': 'අයිතිවාසිකම', 'බලතල': 'බලත', 'ලැබුනදාට': 'ලැබුනදා', 'පොන්නයන්ටත්': 'පොන්නයන්ටත', 'බෙදන්නෙ': 'බෙද', 'හැන්දෙන්බව': 'හැන්දෙන්බ', 'මතකතියා': 'මතකති', 'පක්ෂයක්': 'පක්ෂයක', 'ඌතරම්වත්': 'ඌතරම්වත', 'අපිගැන': 'අපිගැ', 'නැතිනිසයි': 'නැතිනිස', 'උත්තමයෙක්': 'උත්තමයෙක', 'ගන්ට': 'ගන්', 'මහත්තයාගේත්': 'මහත්තයාගේත', 'හොදටෝම': 'හොදටෝ', 'පෑරෙන්ට': 'පෑරෙන්', 'ඉහලට': 'ඉහල', 'හදවතයි': 'හදවත', 'දේශපාලකයො': 'දේශපාලකය', 'මිසුන්': 'මිසුන', 'කමටයි': 'කමට', 'ඕය': 'ඕ', 'මනුෂීය': 'මනුෂී', 'නලුවොද': 'නලුවො', 'මහත්තයගෙ': 'මහත්තය', 'නලුවෙක්': 'නලුවෙක', 'පගරනැට්ටට': 'පගරනැට්ට', 'ගොන්නුන්ගෙන්': 'ගොන්නුන්ගෙන', 'සමිමාන': 'සමිමා', 'නොගෙන': 'නොගෙ', 'කලාකරුවකුගේ': 'කලාකරුව', 'ඉල්ලාලබාගැනිමට': 'ඉල්ලාලබාගැනිම', 'පුණාමය': 'පුණාම', 'දන්නවනමි': 'දන්නවන', 'noඑවන්න': 'noඑවන්', 'වුවද': 'වුව', 'ඇන': 'ඇ', 'කොටාගනිමින්': 'කොටාගනිමින', 'සුළැගිල්ලේ': 'සුළැග', 'ගානවෙලාවට': 'ගානවෙලාව', 'සිතා': 'සිත', 'ඉන්': 'ඉන', 'අනතුරුව': 'අනතුරු', 'බල්ලේකුටවත්': 'බල්ලේකුටවත', 'සිතන්නේ': 'සිත', 'වැඩවසම්': 'වැඩවසම', 'යුගය': 'යුග', 'නිවට': 'නිව', 'ජාතියත්': 'ජාතියත', 'කරන්නේත්': 'කරන්නේත', 'ඒවගේමයි': 'ඒවගේම', 'පැරන්නන්ගේ': 'පැරන්නන්', 'අභිතබව': 'අභිතබ', 'තාක්ෂණය': 'තාක්ෂණ', 'දැණුමින්': 'දැණුමින', 'පෝෂණය': 'පෝෂණ', 'යැපෙනවා': 'යැපෙ', 'ලාංකිකයන්': 'ලාංකිකයන', 'පේ': 'ප', 'පරම්පරාවෙන්': 'පරම්පරාවෙන', 'ජාතියටත්': 'ජාතියටත', 'දින්නා': 'දින්', 'වික්කා': 'වික්', 'බලනතාක්': 'බලනතාක', 'සැබැපාට': 'සැබැපා', 'ගලවා': 'ගල', 'බලනදාට': 'බලනදා', 'සුදානමක්': 'සුදානමක', 'ඇතිවු': 'ඇතිව', 'දෙවැනි': 'දෙවැ', 'දෙවියන්ට': 'දෙවියන්', 'පමණයි': 'පමණ', 'වචනයේ': 'වචන', 'අර්ථයෙන්': 'අර්ථයෙන', 'ගැත්තො': 'ගැත්ත', 'දෙවියෙක්': 'දෙවියෙක', 'පොලොව': 'පොලො', 'නිමැවුම්': 'නිමැවුම', 'ධනය': 'ධන', 'මනී': 'මන', 'අත්වලින්': 'අත්වලින', 'යමක්': 'යමක', 'දේශපාලකයෙකු': 'දේශපාලකයෙ', 'ලබාගනීම': 'ලබාගනී', 'දෙපාර්ශවයේම': 'දෙපාර්ශවයේ', 'ඇත්ද': 'ඇත්', 'සීයට': 'සීය', 'සීයක්': 'සීයක', 'දේශපාලකයන්ව': 'දේශපාලකයන්', 'කොයිතරම්': 'කොයිතරම', 'පිලිකුල්': 'පිලිකුල', 'පරපුරේ': 'පරපුර', 'කියක්': 'කියක', 'ඉදිමුන': 'ඉදිමු', 'උත්සවය': 'උත්සව', 'අවර්නවත්': 'අවර්නවත', 'දේශපාලනයයි': 'දේශපාලන', 'කලාවයි': 'කලාව', 'යහපතක්ම': 'යහපතක්', 'උත්සවයකට': 'උත්සවය', 'කියන්නෙම': 'කියන්නෙ', 'රසාදයක්': 'රසාදයක', 'පුතිපත්තියක්': 'පුතිපත්තියක', 'යැපෙන්නට': 'යැපෙන්න', 'කියාගන්න': 'කියාගන්', 'අපතය': 'අපත', 'ෝ': '', 'ලගින': 'ලගි', 'පුවීන': 'පුවී', 'කලාකරුවන්ටත්': 'කලාකරුවන්ටත', 'හේතූන්': 'හේතූන', 'ලී': 'ල', 'කෑල්ල': 'කෑල්', 'තෝරන්න': 'තෝරන්', 'ඔවැනි': 'ඔවැ', 'තියෙනවාද': 'තියෙනවා', 'ගෞරවනීය': 'ගෞරවනී', 'වෘත්තියක්': 'වෘත්තියක', 'ගරුකල': 'ගරුක', 'ගෞරවයනීය': 'ගෞරවයනී', 'වෘත්තීය': 'වෘත්තී', 'දේශපාලනඥයා': 'දේශපාලනඥ', 'වපසරිය': 'වපසරි', 'හදුනා': 'හදු', 'නොගන්නා': 'නොගන්', 'කවද': 'කව', 'කියනකෙනාගෙ': 'කියනකෙනා', 'වෙලාවකදී': 'වෙලාවකද', 'කලහොත්': 'කලහොත', 'වෙනු': 'වෙ', 'කලාකරුවෝ': 'කලාකරු', 'ගරුකරන්න': 'ගරුකරන්', 'කාගෙවත්': 'කාගෙවත', 'දේශපාලනයක්': 'දේශපාලනයක', 'සම්මානයකට': 'සම්මානය', 'පටලවාගන්නෙ': 'පටලවාග', 'නූගත්කමයි': 'නූගත්කම', 'මහන්තත්ත්වෙයි': 'මහන්තත්ත්වෙ', 'බොළද': 'බොළ', 'උත්සහයක්': 'උත්සහයක', 'ලාමකයි': 'ලාමක', 'මහන්සියෙන්': 'මහන්සියෙන', 'මිනිසුන්ගෙන්': 'මිනිසුන්ගෙන', 'ලැබෙන්න': 'ලැබෙන්', 'පිලිලයක්': 'පිලිලයක', 'වුනු': 'වු', 'නරැම': 'නරැ', 'පාලකයන්': 'පාලකයන', 'නොවෙ': 'නො', 'විරැද්දව': 'විරැද්ද', 'රැස්වීම්': 'රැස්වීම', 'පැවැත්වූ': 'පැවැත්ව', 'ජැක්සන්': 'ජැක්සන', 'උලෙළේදී': 'උලෙළේද', 'එතුමා': 'එතුම', 'කීවේ': 'කී', 'ඒතමයි': 'ඒතම', 'මොකෙක්ද': 'මොකෙක්', 'කරැවෝද': 'කරැවෝ', 'කරැවො': 'කරැව', 'සහෝ': 'සහ', 'කොතනත්': 'කොතනත', 'බුකියේ': 'බුකි', 'ගතහොත්': 'ගතහොත', 'හොදා': 'හොද', 'කරුවනුත්': 'කරුවනුත', 'වැඩෙන්': 'වැඩෙන', 'කාරයොත්': 'කාරයොත', 'දේශපාලකයෝත්': 'දේශපාලකයෝත', 'නැතිවෙන': 'නැතිවෙ', 'මොනව': 'මොන', 'මෙයාල': 'මෙයා', 'ගොබ්බයෝ': 'ගොබ්බ', 'ගෙම්බෝ': 'ගෙම්බ', 'පුම්බන්ට': 'පුම්බන්', 'නිර්මාණයක්': 'නිර්මාණයක', 'දෙසපලකයට': 'දෙසපලකය', 'හිගන්නට': 'හිගන්න', 'වංශවත්': 'වංශවත', 'තෝරලා': 'තෝර', 'බේරලා': 'බේර', 'කාලකණ්නි': 'කාලකණ්', 'කලාකරයොද': 'කලාකරයො', 'බල්ලොන්ට': 'බල්ලොන්', 'තීරකයෝ': 'තීරක', 'හිගන': 'හිග', 'කාලාකරැවෝ': 'කාලාකරැ', 'දියේ': 'දි', 'මළු': 'මළ', 'බානවා': 'බා', 'ඕකට': 'ඕ', 'ඩබලක්': 'ඩබලක', 'තේරැම්': 'තේරැම', 'ජෙප්පෙක්': 'ජෙප්පෙක', 'මොනවගේ': 'මොනව', 'ඈහුවොත්': 'ඈහුවොත', 'පෙන්වපන්': 'පෙන්වපන', 'බයිසන්ලාට': 'බයිසන්ලා', 'ගන්ජා': 'ගන්ජ', 'කාරයන්': 'කාරයන', 'ටොයිසන්ලාට': 'ටොයිසන්ලා', 'කොල්ලන්': 'කොල්ලන', 'තෙරුනේ': 'තෙරුන', 'නෙළුමි': 'නෙළු', 'පොකුනට': 'පොකුන', 'ගෙන්නව': 'ගෙන්න', 'ගත්තනමි': 'ගත්තන', 'ගෝතයො': 'ගෝතය', 'දෙදෙනෙකුගෙ': 'දෙදෙනෙකු', 'පටිට': 'පටි', 'රංගනයක්': 'රංගනයක', 'බෝල': 'බෝ', 'පිති': 'පි', 'අරක්කු': 'අරක්', 'බියරුත්': 'බියරුත', 'හිටහන්': 'හිටහන', 'අඩ්මින්': 'අඩ්මින', 'පංති': 'පං', 'බොනව': 'බොන', 'පියාබනව': 'පියාබන', 'පාලකයන්ට': 'පාලකයන්', 'බුද්ඨිමත්': 'බුද්ඨිමත', 'රගන්න': 'රගන්', 'බැහැනෙ': 'බැහැන', 'ගමන': 'ගම', 'හිගන්නො': 'හිග', 'බහිනව': 'බහින', 'රස්සාවක්': 'රස්සාවක', 'හයර්': 'හයර', 'බලුකම්': 'බලුකම', 'පොලිස්සියෙන්': 'පොලිස්සියෙන', 'පාරෙම': 'පාරෙ', 'මැරෙනව': 'මැරෙන', 'ජව': 'ජ', 'තාරුණ්': 'තාරුණ', 'ඉන්නකන්': 'ඉන්නකන', 'මැරුවා': 'මැරු', 'බොම්බයක්': 'බොම්බයක', 'ගහගන්න': 'ගහගන්', 'උනානෙ': 'උනාන', 'මැරුලා': 'මැරු', 'සල්ලිවලට': 'සල්ලිවල', 'කුඩුකාරයෝ': 'කුඩුකාර', 'හිඟන': 'හිඟ', 'පෙන්වූ': 'පෙන්ව', 'හැසිරීම': 'හැසිරී', 'හැක්කේ': 'හැක්', 'එවැනිම': 'එවැනි', 'මෘගයන්ට': 'මෘගයන්', 'නුගත්': 'නුගත', 'හැතිකරෙ': 'හැතිකර', 'මරනවා': 'මර', 'තෝපිලගේ': 'තෝපිල', 'වික්කත්': 'වික්කත', 'වියදමට': 'වියදම', 'රිලා': 'රි', 'වදුරො': 'වදුර', 'කුස්සියට': 'කුස්සිය', 'පොන්නයන්ට': 'පොන්නයන්', 'දෙපල': 'දෙප', 'විනාශය': 'විනාශ', 'පොලිස්ස්ස්ස්ස්ස්ස්': 'පොලිස්ස්ස්ස්ස්ස්ස', 'තාත්තාගේ': 'තාත්තා', 'නූගතුන්': 'නූගතුන', 'පිළිබඳව': 'පිළිබඳ', 'පාඨමාලාවක්': 'පාඨමාලාවක', 'කරුණාවෙන්': 'කරුණාවෙන', 'සලකා': 'සල', 'පැරදිලා': 'පැරදි', 'දවසෙ': 'දවස', 'වීරයින්': 'වීරයින', 'පුඵළුන්': 'පුඵළුන', 'ශිෂ්ට': 'ශිෂ්', 'මිනිසුනට': 'මිනිසුන', 'අප්පච්චිගෙ': 'අප්පච්චි', 'බල්ලෙක්': 'බල්ලෙක', 'පාර්ලිමේන්තුවෙන්': 'පාර්ලිමේන්තුවෙන', 'මොංගල්': 'මොංගල', 'අප්': 'අප', 'කනේ': 'කන', 'පාරකුත්': 'පාරකුත', 'මදිවට': 'මදිව', 'කුඩුත්': 'කුඩුත', 'බකන්නිලා': 'බකන්නි', 'සැලසුම්': 'සැලසුම', 'නෙවී': 'නෙව', 'හමන්නල': 'හමන්න', 'දෙගොල්ලන්වම': 'දෙගොල්ලන්ව', 'පාලකයෝ': 'පාලක', 'ගහමු': 'ගහ', 'පෝන්නයන්ට': 'පෝන්නයන්', 'ගස්සලා': 'ගස්ස', 'එකාගේ': 'එකා', 'පවුල්': 'පවුල', 'කවු': 'කව', 'මුව': 'මු', 'වදලා': 'වද', 'කැලෑවක්': 'කැලෑවක', 'කකුලක්': 'කකුලක', 'ගණිකා': 'ගණි', 'මඩමක': 'මඩම', 'තොගේ': 'තො', 'අහවල්': 'අහවල', 'නැටිලි': 'නැට', 'දැමිමත්': 'දැමිමත', 'අවසානෙට': 'අවසානෙ', 'මහජනතාව': 'මහජනතා', 'වරෙවිකෝ': 'වරෙවික', 'දගලපු': 'දගල', 'ගැහෙයි': 'ගැහෙ', 'මහජනයටතොපිලා': 'මහජනයටතොපි', 'ඒපා': 'ඒප', 'ගසා': 'ගස', 'මරා': 'මර', 'ඉදිපත්': 'ඉදිපත', 'වීරයන්ගේ': 'වීරයන්', 'ලැයිස්තුවේ': 'ලැයිස්තු', '225ක්': '225ක', 'මඩුවට': 'මඩුව', 'රැළද': 'රැළ', 'හිනාවෙනව': 'හිනාවෙන', 'ගාගනනැතුව': 'ගාගනනැතු', 'වෙද්දී': 'වෙ', 'අඩංගුවට': 'අඩංගුව', 'පාලනයකින්': 'පාලනයකින', 'තිබ්බනෙ': 'තිබ්බන', 'තරහයි': 'තරහ', 'ටී56ක්': 'ටී56ක', 'පලෙයන්': 'පලෙයන', 'වාරෙකට': 'වාරෙ', 'මෙික': 'මෙි', 'පක්ෂයමක': 'පක්ෂයම', 'නායකයො': 'නායකය', 'හිටය': 'හිට', 'නායකයන්ට': 'නායකයන්', 'ඔිකමද': 'ඔිකම', 'ඡන්දේ': 'ඡන්ද', 'මැරැවත්': 'මැරැවත', 'උන්ටමනේ': 'උන්ටමන', 'එවන්නේ': 'එව', 'බැලයෝ': 'බැල', 'දියන්': 'දියන', 'මැරෙනවා': 'මැරෙ', 'පාරටම': 'පාර', 'අවන්කවම': 'අවන්කව', 'කළකිරෙනවා': 'කළකිරෙ', 'හොයා': 'හො', 'අවස්තාවක්': 'අවස්තාවක', 'මීහරක්': 'මීහරක', '225ම': '225', 'අම්මාපා': 'අම්මාප', 'දිවිනසා': 'දිවිනස', 'හිතුනොත්': 'හිතුනොත', 'කෙලින්ම': 'කෙලින්', 'මෙතනට': 'මෙතන', 'බැදගෙන': 'බැදගෙ', 'මාරගෙන': 'මාරගෙ', 'කමෙ': 'කම', 'රභාකරන්ගෙ': 'රභාකරන්', 'දැනුයි': 'දැනු', 'මුංටිකව': 'මුංටික', 'යවයි': 'යව', 'අපරදේ': 'අපරද', 'කැන්ටිමේ': 'කැන්ටි', 'හක්කපටස්': 'හක්කපටස', 'ඇත්තමයි': 'ඇත්තම', 'සේරටම': 'සේර', 'මැරිලවත්': 'මැරිලවත', 'ජනපති': 'ජනප', 'රනිලවයි': 'රනිලව', 'ගනිකා': 'ගනි', 'හිරැනිකයි': 'හිරැනික', 'කරන්නකෝ': 'කරන්නක', 'රෑන': 'රෑ', 'කොටා': 'කොට', 'බල්ලෝත්': 'බල්ලෝත', 'ඵක්කද': 'ඵක්ක', 'සඡිත්': 'සඡිත', 'නියෝගය': 'නියෝග', 'නඩුවේ': 'නඩු', 'අවසන්': 'අවසන', 'නටන්නද': 'නටන්න', 'බඩු': 'බඩ', 'ෆෝම්': 'ෆෝම', 'වෙන්ට': 'වෙන්', 'පොස්': 'පොස', 'පිළිලයක්': 'පිළිලයක', 'මුන්ටත්': 'මුන්ටත', 'පිටකොටුවෙ': 'පිටකොටු', 'මුඩුක්කුවකින්': 'මුඩුක්කුවකින', 'ලැජ්ජාවක්': 'ලැජ්ජාවක', 'රසිද්දියට': 'රසිද්දිය', 'උඹලා': 'උඹ', 'එකාගෙම': 'එකා', 'ගානවනේ': 'ගානවන', 'පියුමි': 'පියු', 'හසිනිට': 'හසිනි', 'විශ්වට': 'විශ්ව', 'පහු': 'ප', 'ටිකේ': 'ටි', 'බැනවැද': 'බැනවැ', 'රෙද්දක්': 'රෙද්දක', 'ආතතියෙන්': 'ආතතියෙන', 'පෙළෙන': 'පෙළෙ', 'ශික්': 'ශික', 'අවලන්': 'අවලන', 'මුනුයි': 'මුනු', 'දේශපාලුවොයි': 'දේශපාලුවො', 'විනාසම': 'විනාස', 'කරුණු': 'කරුණ', 'යනයට': 'යනය', 'සිඟිති': 'සිඟි', 'මිතුරාට': 'මිතුරා', 'තෙරුන්': 'තෙරුන', 'බලේ': 'බල', 'ඉල්ලුවේ': 'ඉල්ලු', 'බැහැපන්': 'බැහැපන', 'ගහෙන්': 'ගහෙන', 'හැමදාමත්': 'හැමදාමත', 'බුදුසරණයි': 'බුදුසරණ', 'ජේසුපිහිටයි': 'ජේසුපිහිට', 'පවුලටම': 'පවුල', 'ගීතයට': 'ගීතය', 'පෙම්': 'පෙම', 'වෙන්වුන': 'වෙන්වු', 'පිටුව': 'පිටු', 'වටෙම්ම': 'වටෙම්', 'ලියුම්': 'ලියුම', 'ඉස්සෙල්ලත්': 'ඉස්සෙල්ලත', 'කොටියා': 'කොටි', 'උබෙත්': 'උබෙත', 'ටොයි': 'ටො', 'දාපන්': 'දාපන', 'වෙලාවක්': 'වෙලාවක', 'පුපුරවන්න': 'පුපුරවන්', 'වගකිව': 'වගකි', 'විද්වතුන්': 'විද්වතුන', 'විසිරෙව්වෙ': 'විසිරෙව්', 'ක්ක': 'ක්', 'පොලීසිවල': 'පොලීසිව', 'දුවනකොට': 'දුවනකො', 'පන්නනව': 'පන්නන', 'මොකො': 'මොක', 'හින්සා': 'හින්ස', 'කරන්නෙපා': 'කරන්නෙප', 'අහින්සකයා': 'අහින්සක', 'හැරිමෙන්': 'හැරිමෙන', 'සමනළයෙක්': 'සමනළයෙක', 'ශිුලංකා': 'ශිුලං', 'වලකන': 'වලක', 'විශිල්': 'විශිල', 'බලප්න්': 'බලප්න', 'ඔලුවටම': 'ඔලුව', 'පාරත්': 'පාරත', 'කරන්නෙත්': 'කරන්නෙත', 'කැපුවත්': 'කැපුවත', 'සමනල්': 'සමනල', 'ගූඇන්පී': 'ගූඇන්ප', 'විනාඩියක': 'විනාඩිය', 'නිශ්ශබ්දතාවය': 'නිශ්ශබ්දතාව', 'ඇන්පී': 'ඇන්ප', 'කාරයින්ට': 'කාරයින්', 'රෙවෙයි': 'රෙවෙ', 'ජන': 'ජ', 'තමයිවෙන්න': 'තමයිවෙන්', 'මලු': 'මල', 'එහෙමෙහෙ': 'එහෙමෙහ', 'රවාදට': 'රවාද', 'තින්දුව': 'තින්දු', 'පුලුව්න්': 'පුලුව්න', 'නන්නත්තාරයී': 'නන්නත්තාරය', 'අනාථයීනේ': 'අනාථයීන', 'දැංවත්': 'දැංවත', 'හුකන්නැතුව': 'හුකන්නැතු', 'ඉන්නලා': 'ඉන්න', 'තොපී': 'තොප', 'කෙලෝගත්තේ': 'කෙලෝගත්ත', 'හිංදා': 'හිංද', 'මාමාට': 'මාමා', 'ගත්තු': 'ගත්ත', 'කටට': 'කට', 'තීරණේ': 'තීරණ', 'විසිරෙවුවා': 'විසිරෙවු', 'රිච්': 'රිච', 'වික්ක': 'වික්', 'මාද්': 'මාද', 'ඒකකයෙ': 'ඒකක', 'ධාර්ශනිකය': 'ධාර්ශනික', 'යූඇන්පී': 'යූඇන්ප', 'හිටන්': 'හිටන', 'වාම': 'වා', 'විසුරුවලා': 'විසුරුව', 'පිස්සොත්': 'පිස්සොත', 'නොදැක්කා': 'නොදැක්', 'හරී': 'හර', 'දෙමලුන්ටයි': 'දෙමලුන්ට', 'වැද': 'වැ', 'ටොයියනි': 'ටොයිය', 'කෑගැහුවට': 'කෑගැහුව', 'උඹලගේම': 'උඹල', 'තේරීමක්': 'තේරීමක', 'බයියෙක්': 'බයියෙක', 'පාරම්පරික': 'පාරම්පරි', 'යූඑන්පී': 'යූඑන්ප', 'පාක්ෂිකයන්': 'පාක්ෂිකයන', 'රධානම': 'රධාන', 'විරුද්ද': 'විරුද්', 'පක්ෂයෙයේ': 'පක්ෂයෙ', 'සභාපතිව': 'සභාපති', 'ඡන්දයෙන්': 'ඡන්දයෙන', 'ඇරගත්': 'ඇරගත', 'ඇරගැනිල්ලටය': 'ඇරගැනිල්ලට', 'වෙලාවේ': 'වෙලා', 'දෙන්නම්': 'දෙන්නම', 'රනිලා': 'රනි', 'කොහොමවත්': 'කොහොමවත', '24ම': '24', 'යාලුවනේ': 'යාලුවන', 'කසාදෙත්': 'කසාදෙත', 'වේසා': 'වේස', 'නිලියෝ': 'නිලි', 'හෙලුවෙන්': 'හෙලුවෙන', 'තන්': 'තන', 'ඉරාජ්ගෙම': 'ඉරාජ්', 'තමය්': 'තමය', 'අසහනකාරයා': 'අසහනකාර', 'ශාර්මි': 'ශාර්', 'කුමාර්': 'කුමාර', 'තොලක්': 'තොලක', 'නිරැපන': 'නිරැප', 'ශිල්පිනියෝ': 'ශිල්පිනි', 'මේකුන්': 'මේකුන', 'පොන්ස්ලා': 'පොන්ස්', 'හුත්තක්ද': 'හුත්තක්', 'වස්තිලගෙ': 'වස්තිල', 'කසාදයක්': 'කසාදයක', 'දේටත්': 'දේටත', 'පොන්නයොයි': 'පොන්නයො', 'වේසාවියොයි': 'වේසාවියො', 'කරන්වා': 'කරන්', 'පිටුවහල්': 'පිටුවහල', 'පෝම්': 'පෝම', 'කරපුවාම': 'කරපුවා', 'සංස්කෘතිකයත්': 'සංස්කෘතිකයත', 'විනාසයි': 'විනාස', 'කැරියො': 'කැරිය', 'ගොන්නු': 'ගොන්', 'රගයි': 'රග', 'පුච්චන්': 'පුච්චන', 'කෑවනම්': 'කෑවනම', 'කොලුකමටත්': 'කොලුකමටත', 'ගොංබඩු': 'ගොංබඩ', 'පෝන්නයො': 'පෝන්නය', 'දෙන්නයි': 'දෙන්න', 'බඩ්ඩයි': 'බඩ්ඩ', 'සදාචාරයක්': 'සදාචාරයක', 'මොඩල්ස්ලයි': 'මොඩල්ස්ල', 'චැනලුයි': 'චැනලු', 'පොන්නයයෙක්': 'පොන්නයයෙක', 'දම්ම': 'දම්', 'ගස්සන්නද': 'ගස්සන්න', 'බෑද': 'බෑ', 'කියනේ': 'කියන', 'ඉරාජ්ගේ': 'ඉරාජ්', 'මියුසික්': 'මියුසික', 'වීඩියො': 'වීඩිය', 'රවට්ටනවා': 'රවට්ට', 'රැවටෙන': 'රැවටෙ', 'ගොන්නුත්': 'ගොන්නුත', 'ඉන්නවනෙ': 'ඉන්නවන', 'අන්තක්': 'අන්තක', 'පුරයක්': 'පුරයක', 'දල': 'ද', 'චාන්ස්': 'චාන්ස', 'දේශපාලඥයොන්ට': 'දේශපාලඥයොන්', 'අමතරව': 'අමතර', 'යූටියුබ්': 'යූටියුබ', 'හිඟන්නො': 'හිඟ', 'සබ්ස්ක්': 'සබ්ස්ක', 'රයිබ්': 'රයිබ', 'හැමෝවම': 'හැමෝව', 'ඉට': 'ඉ', 'කොදයි': 'කොද', 'කලීන්': 'කලීන', 'දාපූ': 'දාප', 'සූපා': 'සූප', 'දැක්කහම': 'දැක්කහ', 'වහලක්': 'වහලක', 'වට්ටුව': 'වට්ටු', 'පිස්සුසො': 'පිස්සුස', 'ට්කට': 'ට්', 'ගාහායි': 'ගාහා', 'හාදේ': 'හාද', 'වේසියක්': 'වේසියක', 'එකය්': 'එකය', 'හම්මේ': 'හම්', 'යක්කුලු': 'යක්කුල', 'වලියකදීත්': 'වලියකදීත', 'කුක්කු': 'කුක්', 'කෝම': 'කෝ', 'විශ්වකියන්නෙ': 'විශ්වකිය', 'පොන්නයෙක්නෙ': 'පොන්නයෙක්න', 'පිලිගන්නවනෙ': 'පිලිගන්නවන', 'බය්ලා': 'බය්', 'කාන්තා': 'කාන්ත', 'යුවලක්': 'යුවලක', 'තනිව': 'තනි', 'සැමිය': 'සැමි', 'නොමැති': 'නොමැ', 'සෞඛ්': 'සෞඛ', 'යාරක්ෂිතව': 'යාරක්ෂිත', 'විශ්වාසනීය': 'විශ්වාසනී', 'ස්තානයක': 'ස්තානය', 'සම්බාහනය': 'සම්බාහන', 'දෙනු': 'දෙ', 'ලැබේ': 'ලැබ', 'පුද්ගලිකත්වය': 'පුද්ගලිකත්ව', 'දෙපාර්ශ්වයේම': 'දෙපාර්ශ්වයේ', 'රැකෙන': 'රැකෙ', 'හමුවක්': 'හමුවක', 'කෙරේ': 'කෙර', 'ලීක්': 'ලීක', 'සිතියමෙනුත්': 'සිතියමෙනුත', 'මකල': 'මක', 'නවතින්නේ': 'නවති', 'යකෝව්': 'යකෝව', 'ෆකේ': 'ෆ', 'රෝල්': 'රෝල', 'හසිනට': 'හසින', 'ගන්නවද': 'ගන්නව', 'ඕකිට': 'ඕ', 'ඒස්ට්ද': 'ඒස්ට්', 'රෝගබන්': 'රෝගබන', 'අරින්න': 'අරින්', 'කියලද': 'කියල', 'හුත්තවල්': 'හුත්තවල', 'දාන්නනම්': 'දාන්නනම', 'නන්නානේ': 'නන්නාන', 'අමාරු': 'අමාර', 'අලුත්ම': 'අලුත්', 'සින්දුවක': 'සින්දුව', 'එකක්ද': 'එකක්', 'ලංකාවම': 'ලංකාව', 'පිස්සුවක්': 'පිස්සුවක', 'ගන්නම': 'ගන්න', 'යහන්ගතවෙලා': 'යහන්ගතවෙ', 'ඒකේ': 'ඒ', 'මිනිහෝ': 'මිනිහ', 'සමාජේ': 'සමාජ', 'අඬවැඩියා': 'අඬවැඩි', 'හැදෙනවා': 'හැදෙ', 'සචිනි': 'සචි', 'අක්කගේ': 'අක්', 'ඇහුන': 'ඇහු', 'අක්කියගේ': 'අක්කිය', 'නැටුම': 'නැටු', 'ගොඩාරියක්': 'ගොඩාරියක', 'ෂෙහාන්': 'ෂෙහාන', 'එව්වෝ': 'එව්', 'ලනංකවට': 'ලනංකව', 'වැලලෙන': 'වැලලෙ', 'විකුනගන්න': 'විකුනගන්', 'සොයාගන්න': 'සොයාගන්', 'පිවිසෙන්න': 'පිවිසෙන්', 'මෙයාගේ': 'මෙයා', 'සිංදුවට': 'සිංදුව', 'එල්ලන': 'එල්ල', 'ඉන්නට': 'ඉන්න', 'හැගෙන': 'හැගෙ', 'ළමයෙක්': 'ළමයෙක', 'ගැහැණු': 'ගැහැණ', 'හුවමාරු': 'හුවමාර', 'කාලෙදී': 'කාලෙද', 'ආදරයක්': 'ආදරයක', 'නැගෙනවා': 'නැගෙ', 'මාරුවක්': 'මාරුවක', 'ලැබුණ': 'ලැබ', 'එවන': 'එව', 'හම්බවෙන්නේ': 'හම්බවෙ', 'ලැබෙන්නෙත්': 'ලැබෙන්නෙත', 'එවපු': 'එව', 'ලියුම': 'ලියු', 'මතකෙත්': 'මතකෙත', 'බැරිවෙනවා': 'බැරිවෙ', 'ඇතිවෙනවා': 'ඇතිවෙ', 'ගෙදරින්': 'ගෙදරින', 'ළමයාට': 'ළමයා', 'ගෙදරදී': 'ගෙදරද', 'තිබුණ': 'තිබ', 'හම්බවෙනවා': 'හම්බවෙ', 'යවපු': 'යව', 'දකිනවා': 'දකි', 'එවෙලේ': 'එවෙල', 'දැනගන්නවා': 'දැනගන්', 'කෙනාමයි': 'කෙනාම', 'බිරිඳව': 'බිරිඳ', 'කූඹියෝ': 'කූඹි', 'විශුවල්': 'විශුවල', 'සින්දුවකට': 'සින්දුව', 'ගැලපුවේ': 'ගැලපු', 'නිරුවතට': 'නිරුවත', 'අරුතට': 'අරුත', 'ඔබලාට': 'ඔබලා', 'බෙහෙවින්ම': 'බෙහෙවින්', 'තුති': 'තු', 'ලංකාවේ': 'ලංකාවෙ', 'අගාධයට': 'අගාධය', 'අමරදේවලා': 'අමරදේව', 'මහගමසේකරලා': 'මහගමසේකර', 'අජන්තා': 'අජන්ත', 'පදමට': 'පදම', 'ගන්වන්න': 'ගන්වන්', 'කළාකරුවෝ': 'කළාකරු', 'ස්තූති': 'ස්තූ', 'මේවනෙ': 'මේවන', 'රසවත්ද': 'රසවත්', 'අරත්වත්ද': 'අරත්වත්', 'ඉතාම': 'ඉතා', 'ඉදිරියටත්': 'ඉදිරියටත', 'කේන්දරේ': 'කේන්දර', 'පාළු': 'පාළ', 'ලගින්': 'ලගින', 'දන්නේනේ': 'දන්නේන', 'හැරුණු': 'හැරුණ', 'සතු': 'සත', 'දියයුතු': 'දියයුත', 'මගහැරුණු': 'මගහැරුණ', 'දෙනෙකුට': 'දෙනෙ', 'වාසනාව': 'වාසනා', 'කෙනාවමයි': 'කෙනාවම', 'ලොකූ': 'ලොක', 'සතුටකින්': 'සතුටකින', 'පතපු': 'පත', 'කෙනෙක්ගෙන්': 'කෙනෙක්ගෙන', 'ලැබෙන': 'ලැබෙ', 'කියලායි': 'කියලා', 'සඳනාරී': 'සඳනාර', 'කාලයකට': 'කාලය', 'ඇහිල': 'ඇහි', 'වරක්': 'වරක', 'රීපීට්': 'රීපීට', 'සින්දුවේ': 'සින්දු', 'ෆීලින්ග්': 'ෆීලින්ග', 'රචනාව': 'රචනා', 'ගිහිපු': 'ගිහි', 'ඇතුළෙ': 'ඇතුළ', 'පුදුමාකරම': 'පුදුමාකර', 'කරකවල': 'කරකව', 'අතඇරපු': 'අතඇර', 'වීඩියෝවක්': 'වීඩියෝවක', 'පුදුමාකාරයි': 'පුදුමාකාර', 'භාවාතිශයයි': 'භාවාතිශ', 'අද්විතීයයි': 'අද්විතී', 'පරිපූර්ණයි': 'පරිපූර්ණ', 'තුළතිබුන': 'තුළතිබු', 'සම්පූර්ණයෙන්': 'සම්පූර්ණයෙන', 'සජානා': 'සජා', 'අක්කේ': 'අක්', 'රඟපෑම': 'රඟපෑ', 'ගැනනම්': 'ගැනනම', 'අයියටත්': 'අයියටත', 'එසේමයි': 'එසේම', 'අගයකරනවා': 'අගයකර', 'ඉස්සරහටත්': 'ඉස්සරහටත', 'දැනුනා': 'දැනු', 'මාරම': 'මාර', 'සෙන්නාත්': 'සෙන්නාත', 'හිරුන': 'හිරු', 'පරිසමාප්තාර්ථයෙන්': 'පරිසමාප්තාර්ථයෙන', 'ආසාවෙන්': 'ආසාවෙන', 'කලාත්මක': 'කලාත්ම', 'රචනයක්': 'රචනයක', 'ලන්වෙන': 'ලන්වෙ', 'ගායකයාගේ': 'ගායකයා', 'දක්ශතාව': 'දක්ශතා', 'අක්කිගෙයි': 'අක්කිගෙ', 'අයියගෙයි': 'අයියගෙ', 'රන්ගනය': 'රන්ගන', 'සමාවෙන්න': 'සමාවෙන්', 'අයියගෙ': 'අයිය', 'සිංදුවක්': 'සිංදුවක', 'නියමම': 'නියම', 'අමාරුවෙන්ද': 'අමාරුවෙන්', 'බැලුවම': 'බැලුව', 'දායද': 'දාය', 'ගායකයින්': 'ගායකයින', 'වුවමනා': 'වුවම', 'ඇහුවට': 'ඇහුව', 'අක්කි': 'අක්', 'නාරී': 'නාර', 'පැතුම්': 'පැතුම', 'වශී': 'වශ', 'හුස්මේ': 'හුස්', 'රඳවන්න': 'රඳවන්', 'අදරෙයි': 'අදරෙ', 'හදවතට': 'හදවත', 'දැනෙන්නට': 'දැනෙන්න', 'සිංදුවනම්': 'සිංදුවනම', 'වැදුනා': 'වැදු', 'මාරයි': 'මාර', 'සදනාරී': 'සදනාර', 'ලස්සනම': 'ලස්සන', 'ඉස්කොලෙ': 'ඉස්කොල', 'හුගක්': 'හුගක', 'හුගාක්': 'හුගාක', 'කතාවත්': 'කතාවත', 'එකෙන්ම': 'එකෙන්', 'සුපිරියි': 'සුපිරි', 'සනුක': 'සනු', 'ගැම්මක්': 'ගැම්මක', 'බීට්': 'බීට', 'ලිරික්ස්': 'ලිරික්ස', 'දෙවනි': 'දෙව', 'වොයිස්': 'වොයිස', 'හෙයක්': 'හෙයක', 'සෝන්ග්ස්': 'සෝන්ග්ස', 'මවන': 'මව', 'අගනා': 'අග', 'විචාරයක්': 'විචාරයක', 'පැවසීමට': 'පැවසීම', 'සිදුහත්': 'සිදුහත', 'යශෝදරා': 'යශෝදර', 'රාම': 'රා', 'සීතා': 'සීත', 'සාලිය': 'සාලි', 'අශෝකමාලා': 'අශෝකමා', 'සාහිත්': 'සාහිත', 'කෘතීන්': 'කෘතීන', 'වස්තූන්': 'වස්තූන', 'රේම': 'රේ', 'රාජයකුගේ': 'රාජය', 'රේමකලම්බනයක්': 'රේමකලම්බනයක', 'දකිනු': 'දකි', 'රියම්බිකාව': 'රියම්බිකා', 'සංසාරයේ': 'සංසාර', 'රේමය': 'රේම', 'මොනවට': 'මොනව', 'නිදසුනකි': 'නිදසුන', 'ඇය': 'ඇ', 'රේමයකින්': 'රේමයකින', 'වෙලී': 'වෙල', 'රාජයා': 'රාජ', 'ස්වප්නයකිනිදු': 'ස්වප්නයකිනිද', 'ලලන': 'ලල', 'ඇසුරක්': 'ඇසුරක', 'පහසක්': 'පහසක', 'නොපතයි': 'නොපත', 'උපනුපන්': 'උපනුපන', 'ජාති': 'ජා', 'දක්වාම': 'දක්වා', 'එකී': 'එ', 'රේමිය': 'රේමි', 'පූරණය': 'පූරණ', 'සංවාසවම': 'සංවාසව', 'වෙසෙන': 'වෙසෙ', 'ඇයගේ': 'ඇය', 'ආමන්ත්': 'ආමන්ත', 'රණය': 'රණ', 'නිරතුරුවම': 'නිරතුරුව', 'තමන්ගේම': 'තමන්', 'පවසන': 'පවස', 'අයදියි': 'අයදි', 'දේදුන්න': 'දේදුන්', 'අනංගගේ': 'අනංග', 'ධනු': 'ධ', 'වෙතටම': 'වෙත', 'හෙලන': 'හෙල', 'අකලංක': 'අකලං', 'අපේක්ෂාවෙන්': 'අපේක්ෂාවෙන', 'නිර්මාන': 'නිර්මා', 'විදහා': 'විදහ', 'දැක්වීමක්': 'දැක්වීමක', 'මෙන්ම': 'මෙන්', 'ගතියක්': 'ගතියක', 'හාස්යය': 'හාස්ය', 'ඉතාමත්ම': 'ඉතාමත්', 'පාටකයාට': 'පාටකයා', 'මහගු': 'මහග', 'හැකියාවකි': 'හැකියාව', 'කොහෙන්ද': 'කොහෙන්', 'හැමෝගෙම': 'හැමෝ', 'බොක්කෙම්ම': 'බොක්කෙම්', 'ඩෝ': 'ඩ', 'සිහිනේ': 'සිහින', 'නොහැකියි': 'නොහැකි', 'කලහැකියයි': 'කලහැකි', 'රියාවෙන්ම': 'රියාවෙන්', 'විකි': 'වි', 'සහෝදරයට': 'සහෝදරය', 'පට්ට්ම': 'පට්ට්', 'කීල': 'කී', 'කොන්ඩයට': 'කොන්ඩය', 'අල්ලන්': 'අල්ලන', 'modelingනුත්': 'modelingනුත', 'කපාගෙන': 'කපාගෙ', 'මළගෙදරක': 'මළගෙදර', 'නයිටක්': 'නයිටක', 'ගහද්දී': 'ගහ', 'කයිවාරු': 'කයිවාර', 'ෆිල්': 'ෆිල', 'කියාපු': 'කියා', 'ඩිවෙලොප්': 'ඩිවෙලොප', 'ස්ක්': 'ස්ක', 'රිප්ට්': 'රිප්ට', 'ඉන්ටවල්': 'ඉන්ටවල', 'කැමරාව': 'කැමරා', 'ඔන්': 'ඔන', 'ෆිල්ටිගේ': 'ෆිල්ටි', 'කොන්ඩම්': 'කොන්ඩම', 'වේසිගෙ': 'වේසි', 'කියාදුන්නා': 'කියාදුන්', 'කෙල්ලෙක්ගෙ': 'කෙල්ලෙක්', 'වාසනාවට': 'වාසනාව', 'අවාසනාවටත්': 'අවාසනාවටත', 'පිහිටනවා': 'පිහිට', 'අපරාදේ': 'අපරාද', 'ගෑනූ': 'ගෑන', 'කාගේ': 'කා', 'දරුවොද': 'දරුවො', 'මිනිහට': 'මිනිහ', 'සමනලයෙක්ලු': 'සමනලයෙක්ල', 'ගල': 'ග', 'වනා': 'ව', 'හරියන': 'හරිය', 'ප්ලෑන්': 'ප්ලෑන', 'අවස්තාවේදී': 'අවස්තාවේද', 'ෆිල්ටිව': 'ෆිල්ටි', 'සුපර්': 'සුපර', 'උඹත්': 'උඹත', 'හුකාගනින්': 'හුකාගනින', 'තොගෙත්': 'තොගෙත', 'හුත්ති': 'හුත්', 'කතාකරන': 'කතාකර', 'කවලම්': 'කවලම', 'බැල්ලියො': 'බැල්ලිය', 'වේසියෙකුයි': 'වේසියෙකු', 'අවජාතකයකුයි': 'අවජාතකයකු', 'පොන්නයෙක්': 'පොන්නයෙක', 'කරන්ඩෝ': 'කරන්ඩ', 'දාන්නද': 'දාන්න', 'ඉන්ට': 'ඉන්', 'නිවේදක': 'නිවේද', 'පලල්': 'පලල', 'හන්සමාලී': 'හන්සමාල', 'ඇතුලුව': 'ඇතුලු', 'කන්ඩායම': 'කන්ඩාය', 'විශ්ව': 'විශ්', 'විස්වට': 'විස්ව', 'දිව': 'දි', 'දාගන්නවා': 'දාගන්', 'ආපුහාම': 'ආපුහා', 'පියුමිටයි': 'පියුමිට', 'කව්ශිටයි': 'කව්ශිට', 'දෙන්නටම': 'දෙන්න', 'ගහන්වා': 'ගහන්', 'ෆිට්': 'ෆිට', 'යාපාරියා': 'යාපාරි', 'පියුමිටත්': 'පියුමිටත', 'හසිනිටත්': 'හසිනිටත', 'කව්ශිටත්': 'කව්ශිටත', 'විශ්වටත්': 'විශ්වටත', 'අතෙත්': 'අතෙත', 'නිදාගන්නවා': 'නිදාගන්', 'අයිසෙ': 'අයිස', 'රේට්': 'රේට', 'රිපෝට්': 'රිපෝට', 'කරන්නත්': 'කරන්නත', 'ගොබ්බයොන්ගේ': 'ගොබ්බයොන්', 'අන්සබ්ස්ක්': 'අන්සබ්ස්ක', 'බලන්නැතුව': 'බලන්නැතු', 'වෙනුවෙංවත්': 'වෙනුවෙංවත', 'ෆිල්ටී': 'ෆිල්ට', 'රිපර්': 'රිපර', 'සවලකින්': 'සවලකින', 'වීලර්': 'වීලර', 'වෙන්නම': 'වෙන්න', 'පකෝ': 'පක', 'පිල්ට්': 'පිල්ට', 'මුගේ': 'මු', 'හුකනකොට': 'හුකනකො', 'රැප්': 'රැප', 'ඒකනේ': 'ඒකන', 'ඉන්නකොටත්': 'ඉන්නකොටත', 'මුමොන': 'මුමො', 'පකෙක්ද': 'පකෙක්', 'ටව්කන්න': 'ටව්කන්', 'නළුවා': 'නළු', 'නිළිය': 'නිළි', 'රසන්ටර්': 'රසන්ටර', 'ඩිරෙක්ටර්': 'ඩිරෙක්ටර', 'හුත්තියේ': 'හුත්තියෙ', 'ඉංගිුසියෙන්': 'ඉංගිුසියෙන', 'කතාකරපිය': 'කතාකර', 'සල්ලී': 'සල්ල', 'පුම්බනන': 'පුම්බන', 'කතාද': 'කතා', 'වේසියොයි': 'වේසියො', 'හුත්තක්': 'හුත්තක', 'පකයයි': 'පක', 'අන්දන්න': 'අන්දන්', 'කට්ටක්': 'කට්ටක', 'ඇන්දුනා': 'ඇන්දු', 'මෝඩයිනෙ': 'මෝඩයින', 'ඒකනෙ': 'ඒකන', 'අනාගෙන': 'අනාගෙ', 'හමන්': 'හමන', 'අතුත්': 'අතුත', 'දතුත්': 'දතුත', 'උබලගෙ': 'උබල', 'ඇක්ටින්': 'ඇක්ටින', 'නොහුකා': 'නොහු', 'මෙලහට': 'මෙලහ', 'පිළිගත්තා': 'පිළිගත්ත', 'ඕනෑනම්': 'ඕනෑනම', 'නෑලු': 'නෑල', 'යනවලු': 'යනවල', 'අම්': 'අම', 'ස්ක්රිප්ට්': 'ස්ක්රිප්ට', 'නකියො': 'නකිය', 'ඇක්ක': 'ඇක්', 'බුදියලා': 'බුදිය', 'මොඩයො': 'මොඩය', 'ගොනට': 'ගොන', 'අන්දලා': 'අන්ද', 'මෙවාගේ': 'මෙවා', 'චනල්': 'චනල', 'චෙනල්': 'චෙනල', 'හොය': 'හො', 'රරසිද්ද': 'රරසිද්', 'විසෙසද': 'විසෙස', 'ඉන්ග්': 'ඉන්ග', 'එහෙන්': 'එහෙන', 'මෙහෙන්': 'මෙහෙන', 'දාන්නා': 'දාන්', 'පුල්වන්': 'පුල්වන', 'ඉන්ගිලීසියෙන්ම': 'ඉන්ගිලීසියෙන්', 'සින්හලෙන්ම': 'සින්හලෙන්', 'කියාපන්': 'කියාපන', 'රගන්': 'රගන', 'සමනලයා': 'සමනල', 'අල්ලාගෙන': 'අල්ලාගෙ', 'ගහගත්තේ': 'ගහගත්ත', 'බල්ලිට': 'බල්ලි', 'පියුම්': 'පියුම', 'belliට': 'belli', 'දීපන්කෝ': 'දීපන්ක', 'හැමනෙන': 'හැමනෙ', 'නෙදකින්': 'නෙදකින', 'දැනගෙන': 'දැනගෙ', 'සික්කේ': 'සික්', 'හිටුකෝ': 'හිටුක', 'ඕකී': 'ඕ', 'අහිංසකයි': 'අහිංසක', 'ගැලපෙන්නේ': 'ගැලපෙ', 'ඒකා': 'ඒ', 'උබලත්': 'උබලත', 'අතල්': 'අතල', 'මනසික': 'මනසි', 'ලමුන්': 'ලමුන', 'අත්මයක්': 'අත්මයක', 'ලැබෙද': 'ලැබෙ', 'හෙනේ': 'හෙන', 'දෙලොවටම': 'දෙලොව', 'අපතයොන්ව': 'අපතයොන්', 'පිලිගන්න': 'පිලිගන්', 'පරපුරක්': 'පරපුරක', 'බිහිවීමයි': 'බිහිවීම', 'ගෑණී': 'ගෑණ', 'ඉදිද්දී': 'ඉදි', 'අරුම': 'අරු', 'තුන්දෙනාගේ': 'තුන්දෙනා', 'ඇමරිකාවට': 'ඇමරිකාව', 'බේරෙනවා': 'බේරෙ', 'කෝමද': 'කෝම', 'කඩන්න': 'කඩන්', 'වෙසියෙ': 'වෙසි', 'තො': 'ත', 'බැන්දෙ': 'බැන්ද', 'ඔකත්': 'ඔකත', 'කරාට්': 'කරාට', 'මරාට්': 'මරාට', 'වරෙල්ලා': 'වරෙ', 'ටහුකන්න': 'ටහුකන්', 'හුත්තිගේ': 'හුත්ති', 'සත්තූ': 'සත්ත', 'දන්නව': 'දන්න', 'අහුවෙයන්': 'අහුවෙයන', 'ගනිකාවෝ': 'ගනිකා', 'ගෙන්නන්න': 'ගෙන්නන්', 'මේකි': 'මේ', 'අරු': 'අර', 'අහගෙන': 'අහගෙ', 'මේකිව': 'මේකි', 'කමේ': 'ක', 'යවලා': 'යව', 'හම්බකරන්': 'හම්බකරන', 'අවතාරයක්': 'අවතාරයක', 'ගහයිද': 'ගහයි', 'අතේ': 'අත', 'වේසියෝ': 'වේසි', 'නොයිස්ලටත්': 'නොයිස්ලටත', 'ඕන්නැති': 'ඕන්නැ', 'පඩත්තරයක්': 'පඩත්තරයක', 'වේසකන්': 'වේසකන', 'හොයනවා': 'හොය', 'කියන්නෙත්': 'කියන්නෙත', 'කාරයෙක්නෙ': 'කාරයෙක්න', 'කසාදයක්වත්': 'කසාදයක්වත', 'උනාද': 'උනා', 'අනුන්ගෙ': 'අනුන්', 'හොයාගන්නවා': 'හොයාගන්', 'පෙන්වනවට': 'පෙන්වනව', 'අයිසේ': 'අයිස', 'හාලා': 'හා', 'අස්වැන්නක්': 'අස්වැන්නක', 'තූතූ': 'තූත', 'කවුශියි': 'කවුශි', 'සලකන්න': 'සලකන්', 'හරක්ගෙ': 'හරක්', 'රශ්නම': 'රශ්න', 'ගොසිප්': 'ගොසිප', 'දිපන්කො': 'දිපන්ක', 'විඩියො': 'විඩිය', 'වදේ': 'වද', 'සුභපතනවා': 'සුභපත', 'අනාගතයට': 'අනාගතය', 'බිහීවෙලා': 'බිහීවෙ', 'තියේන': 'තියේ', 'ගොඩදාන්න': 'ගොඩදාන්', 'උබලාවගේ': 'උබලාව', 'දකශයන්ට': 'දකශයන්', 'නදීමාල්': 'නදීමාල', 'දිල්මීන්': 'දිල්මීන', 'දක්ශයෝ': 'දක්ශ', 'සීයියල්ලා': 'සීයිය', 'නමත්': 'නමත', 'ඉහලින්ම': 'ඉහලින්', 'තියපන්': 'තියපන', 'කඳුලු': 'කඳුල', 'පෙරන්': 'පෙරන', 'බූට්': 'බූට', 'සමපුර්නයෙන්ම': 'සමපුර්නයෙන්', 'වැටුනා': 'වැටු', 'දවසෙන්': 'දවසෙන', 'ගන්නවමයි': 'ගන්නවම', 'අදටත්': 'අදටත', 'කරලත්': 'කරලත', 'මිහිදු': 'මිහිද', 'තමුන්ගේ': 'තමුන්', 'බැදපු': 'බැද', 'කියනකන්': 'කියනකන', 'ගෑනිද': 'ගෑනි', 'හුත්තලා': 'හුත්ත', 'රගනවා': 'රග', 'තාත්තලාගේ': 'තාත්තලා', 'පෙන්නනවා': 'පෙන්න', 'පුටුවට': 'පුටුව', '000ක්': '000ක', 'පූකේ': 'පූ', 'අප්ඩේට්': 'අප්ඩේට', 'බිල': 'බි', 'ගෙවාගන්නෙ': 'ගෙවාග', 'පොල්': 'පොල', 'ආත්මෙ': 'ආත්ම', 'කපුටො': 'කපුට', 'පරන': 'පර', 'පොටො': 'පොට', 'අවුස්සන්නෙ': 'අවුස්ස', 'හැදිගෑවෙවා': 'හැදිගෑවෙ', 'පෙරලියන්': 'පෙරලියන', 'හෙනගහනවා': 'හෙනගහ', 'ඔකුන්ගෙ': 'ඔකුන්', 'පරම්පරා': 'පරම්පර', 'කන්ට': 'කන්', 'වෙලිලා': 'වෙලි', 'මැරියල්ලා': 'මැරිය', 'ඔකුම්': 'ඔකුම', 'හොටෙල්': 'හොටෙල', 'හොට්ඩෝග්': 'හොට්ඩෝග', 'මැද්දට': 'මැද්ද', 'සෝයාමීට්': 'සෝයාමීට', 'ඉලලන්නෙ': 'ඉලල', 'පඩියටත්': 'පඩියටත', 'කොටින්ට': 'කොටින්', 'දිවියෙකු': 'දිවියෙ', 'දැමු': 'දැ', 'ටුවිටරේ': 'ටුවිටර', 'වින්දනේ': 'වින්දන', 'යෙදෙන': 'යෙදෙ', 'පරිස්සමින්': 'පරිස්සමින', 'ලයිට්': 'ලයිට', 'එනකම': 'එනක', 'අකුනු': 'අකු', 'හලා': 'හ', 'ටිප්': 'ටිප', 'දිසාපාමොක්': 'දිසාපාමොක', 'කොල්ලොන්ගෙ': 'කොල්ලොන්', 'කලමණාකරනය': 'කලමණාකරන', 'කාලකණ්ණිම': 'කාලකණ්ණි', 'හීනෙන්': 'හීනෙන', 'මහතායි': 'මහතා', 'යකු': 'ය', '99ක්': '99ක', '4ට': '4', 'රෙද්දකුත්': 'රෙද්දකුත', '2කක': '2ක', 'උසාවියෙන්': 'උසාවියෙන', 'වෙනකන්': 'වෙනකන', 'නහය': 'නහ', 'බැන්නේ': 'බැ', 'ළමුන්ට': 'ළමුන්', 'ටොෆිට': 'ටොෆි', 'ඔබගෙ': 'ඔබ', 'පසුම්බියෙන්': 'පසුම්බියෙන', '10ක්': '10ක', 'අඩුවීම': 'අඩුවී', 'ජන්ගම': 'ජන්ග', 'දුරකථනයෙන්': 'දුරකථනයෙන', 'පාඩුවක්': 'පාඩුවක', 'හැක': 'හැ', 'පේස්': 'පේස', 'බුක්': 'බුක', 'ඉස්ටේටස්': 'ඉස්ටේටස', 'ඔයාලටත්': 'ඔයාලටත', 'වහිනවා': 'වහි', 'ලැයික්': 'ලැයික', 'හදිස්සියට': 'හදිස්සිය', 'ආන්සර්': 'ආන්සර', 'මහේල': 'මහේ', 'ජයවර්දන': 'ජයවර්ද', 'පිස්සුද': 'පිස්සු', 'අයෙ': 'අ', 'වරෙන්කො': 'වරෙන්ක', 'ගාවට': 'ගාව', 'ගහනඑක': 'ගහනඑ', 'පැලෙන්නම': 'පැලෙන්න', 'සැපයි': 'සැප', 'ගහපිය': 'ගහ', 'මනමාලියෙ': 'මනමාලි', 'යහන': 'යහ', 'කොහෙදෝ': 'කොහෙද', 'හිපාටු': 'හිපාට', 'ආමරුවෙන්': 'ආමරුවෙන', 'පෑලෑන්': 'පෑලෑන', 'බාගයක්': 'බාගයක', 'හොරෙන්ම': 'හොරෙන්', 'අප්ඩෙට්': 'අප්ඩෙට', 'අපරාදයක්': 'අපරාදයක', 'අපාරාදෙ': 'අපාරාද', 'හෙනෙ': 'හෙන', 'ආපෝ': 'ආප', 'පැටව්': 'පැටව', 'අස්සෙත්': 'අස්සෙත', 'ජතියක්': 'ජතියක', 'පකෙ': 'ප', 'වෙසියො': 'වෙසිය', 'හිතපන්': 'හිතපන', 'හිතපල්ලා': 'හිත', 'කලකන්නි': 'කලකන්', 'පොලොවටත්': 'පොලොවටත', 'බරක්': 'බරක', 'උබලාත්': 'උබලාත', 'හද්ද': 'හද්', 'ජතියට': 'ජතිය', 'අදරෙ': 'අදර', 'හිවලුන්ගෙන්': 'හිවලුන්ගෙන', 'මෙකි': 'මෙ', 'කිම්': 'කිම', 'කාර්දේෂන්': 'කාර්දේෂන', 'එකටම': 'එක', 'රැපා': 'රැප', 'චූන්': 'චූන', 'බඩුයී': 'බඩුය', 'කුඩ්ඩොයී': 'කුඩ්ඩොය', 'හොදයිනෙ': 'හොදයින', 'තට්ටුව': 'තට්ටු', 'දුන්නාම': 'දුන්නා', 'රැපියල්': 'රැපියල', '500ක්': '500ක', 'දුන්නානමි': 'දුන්නාන', 'අවුරුද්දේ්': 'අවුරුද්දේ', 'හොරකන්': 'හොරකන', 'දෙනව': 'දෙන', 'හදා': 'හද', 'කියමුකෝ': 'කියමුක', 'හරිනේ': 'හරින', 'ඔකනම්': 'ඔකනම', 'පුදින්න': 'පුදින්', 'ලොකයාට': 'ලොකයා', 'සද': 'ස', 'පෙරලපු': 'පෙරල', 'මෝරු': 'මෝර', 'ගහකට': 'ගහ', 'මොකට': 'මො', 'මනෙ': 'මන', 'වාරු': 'වාර', 'හරිනම්': 'හරිනම', 'දෙන්නෙත්': 'දෙන්නෙත', 'ජතිය': 'ජති', 'කෙලෙසන': 'කෙලෙස', 'අනිවාර්': 'අනිවාර', 'කිරිකට්': 'කිරිකට', 'දේවල්නෙ': 'දේවල්න', 'සුපුරුදු': 'සුපුරුද', 'විලාසයට': 'විලාසය', 'නැවතත්': 'නැවතත', 'රත්තරනේ': 'රත්තරන', 'ආරක්ෂාවයි': 'ආරක්ෂාව', 'ගොන්බදිනකනු': 'ගොන්බදිනක', 'තහනමක්': 'තහනමක', 'ජනාධිපතිට': 'ජනාධිපති', 'විචාරණයක්': 'විචාරණයක', 'පැවැත්වීමේ': 'පැවැත්වී', '42ක්': '42ක', 'ආසන': 'ආස', 'ජන්ද': 'ජන්', '58ක්': '58ක', 'නායකකම': 'නායකක', 'මෙතුමගෙ': 'මෙතුම', 'රිදිලා': 'රිදි', 'එලෙව්වට': 'එලෙව්ව', 'මුත්': 'මුත', 'සමණළයේක්ද': 'සමණළයේක්', 'කොහෙද': 'කොහෙ', 'පුකේ': 'පුකෙ', 'ගහගනින්': 'ගහගනින', 'මැතිතුමාත්': 'මැතිතුමාත', 'අර්ථවත්': 'අර්ථවත', 'එතුමාගේ': 'එතුමා', 'ෆීල්ඩ්': 'ෆීල්ඩ', 'මාර්ෂල්': 'මාර්ෂල', 'අලුයම': 'අලුය', 'ලූ': 'ල', 'පිඬක්': 'පිඬක', 'ලබාදුන්': 'ලබාදුන', 'ජනාධිපතිටම': 'ජනාධිපති', 'රිටර්න්': 'රිටර්න', 'කරනවාලු': 'කරනවාල', 'යාලුවෙක්': 'යාලුවෙක', 'කුට්ටිය': 'කුට්ටි', 'කැමරා': 'කැමර', 'සැලුට්': 'සැලුට', 'එකකුත්': 'එකකුත', 'ගහක': 'ගහ', 'කඩුවනම්': 'කඩුවනම', 'කොලයක්': 'කොලයක', 'නෙමේයි': 'නෙමේ', 'ගහයි': 'ගහ', 'කෙනෙකුගේ': 'කෙනෙ', 'ඊයෙ': 'ඊ', 'පිටිපස්සෙ': 'පිටිපස්ස', 'මැකැනික්': 'මැකැනික', 'ඇනයක්': 'ඇනයක', 'හාඩ්වෙයාර්': 'හාඩ්වෙයාර', 'යනගමන්': 'යනගමන', 'ඇදල': 'ඇද', 'ඇඹරෙන්න': 'ඇඹරෙන්', 'කියහන්කො': 'කියහන්ක', 'අහනව': 'අහන', 'මහත්තය': 'මහත්ත', 'වැඩකරන්නෙ': 'වැඩකර', 'අලුතින්': 'අලුතින', 'මෑන්ස්': 'මෑන්ස', 'ලිව්වෙ': 'ලිව්', 'මහිංදානන්දගෙ': 'මහිංදානන්ද', 'පුතාටත්': 'පුතාටත', 'කරාද': 'කරා', 'ඉරිසියාව': 'ඉරිසියා', 'හැමතිස්සෙම': 'හැමතිස්සෙ', 'කියවනව': 'කියවන', 'රාඩෝ': 'රාඩ', 'ලැම්බො': 'ලැම්බ', 'තේරෙනවද': 'තේරෙනව', 'මගුලක්': 'මගුලක', 'පොලිස්කාරයො': 'පොලිස්කාරය', 'වාහනවලට': 'වාහනවල', 'මතකතියාගනිල්ල': 'මතකතියාගනිල්', 'මහත්තුරු': 'මහත්තුර', 'ඉතුරුවෙලා': 'ඉතුරුවෙ', 'ලැම්බොගිනි': 'ලැම්බොගි', 'කාරයට': 'කාරය', 'බැන්නම': 'බැන්න', 'රිදෙන': 'රිදෙ', 'ගොන්ස්ල': 'ගොන්ස්', 'තොටේ': 'තොට', 'ඇවිදල': 'ඇවිද', 'පොලිස්කාරයෙක්': 'පොලිස්කාරයෙක', 'රාජපක්ෂමැතිතුමාට': 'රාජපක්ෂමැතිතුමා', 'බලපල්ලා': 'බල', 'ජන්මයක්': 'ජන්මයක', 'ඇතිනේ': 'ඇතින', 'එකපාරටම': 'එකපාර', 'ලැම්බෝගිනී': 'ලැම්බෝගින', 'කීවොත්': 'කීවොත', 'බනින්නේ': 'බනි', 'කීවම': 'කීව', 'කට්ටියට': 'කට්ටිය', 'අම්මො': 'අම්ම', 'ඩික්සිත්': 'ඩික්සිත', 'බන්ඩගේ': 'බන්ඩ', 'දේනේ': 'දේන', '75ක්': '75ක', 'වටවෙලා': 'වටවෙ', 'මැජික්': 'මැජික', '1ක්': '1ක', 'මාමි': 'මා', 'පැක්': 'පැක', 'අය්යෙ': 'අය්', 'ගෙදෙට්ට': 'ගෙදෙට්', 'ඔවාලා': 'ඔවා', 'කපන්': 'කපන', 'පුතාලද': 'පුතාල', 'නිළධාරියෙක්': 'නිළධාරියෙක', 'මහින්දානන්දගෙ': 'මහින්දානන්ද', 'පුතන්ඩියව': 'පුතන්ඩිය', 'හිතපන්කො': 'හිතපන්ක', 'බේබිල': 'බේබි', 'ම්හත්තය': 'ම්හත්ත', 'යාපනේ': 'යාපන', 'වීමකුත්': 'වීමකුත', 'එක්කම': 'එක්ක', 'මන්දමානසික': 'මන්දමානසි', 'කෝලමේ': 'කෝල', 'අතිසාර්තක': 'අතිසාර්ත', 'රංගනයක': 'රංගනය', 'ඔෆිසර්': 'ඔෆිසර', 'බුදුසර්': 'බුදුසර', 'ඔනම': 'ඔන', 'අපබ්': 'අපබ', 'ජනධිපතිගෙ': 'ජනධිපති', 'අවනම්': 'අවනම', 'සමවෙන්න': 'සමවෙන්', 'සමහරු': 'සමහර', 'ජනාදිපතිගෙ': 'ජනාදිපති', 'නවත්තන්නෙත්': 'නවත්තන්නෙත', 'හුකන්නල': 'හුකන්න', 'සම්පූර්න': 'සම්පූර්', 'නොදා': 'නොද', 'ඔයිට්': 'ඔයිට', 'විසඳන්න': 'විසඳන්', 'පතිගේ': 'පති', 'සැලියුට්': 'සැලියුට', 'වැඳලා': 'වැඳ', 'යවන්නේ': 'යව', 'ගියපු': 'ගිය', 'මෙතෙන්ට': 'මෙතෙන්', 'පමිණියේ': 'පමිණි', 'කියවීමටයි': 'කියවීමට', 'අවස්තා': 'අවස්ත', 'මෙසන්': 'මෙසන', 'බාස්': 'බාස', 'උත්': 'උත', 'බොද': 'බො', 'බැටෙක්': 'බැටෙක', 'ලකුනු': 'ලකු', 'ටොක්': 'ටොක', 'පකො': 'පක', 'මයීක්': 'මයීක', 'උදුරලා': 'උදුර', 'බැන්නෙ': 'බැ', 'තෝව': 'තෝ', 'චාටර්': 'චාටර', 'වෙනද': 'වෙන', 'හැබැයී': 'හැබැය', 'ආදරෙයී': 'ආදරෙය', 'තිබ්බෙ': 'තිබ්බ', 'රිකට': 'රි', 'විතරයී': 'විතරය', 'ඒකයී': 'ඒකය', 'ගහයී': 'ගහය', 'ගහපල්ල': 'ගහපල්', 'එච්චරයී': 'එච්චරය', 'දක්ශතා': 'දක්ශත', 'දුර්වලතාත්': 'දුර්වලතාත', 'ගුන': 'ගු', 'බනින්න': 'බනින්', 'බැනපු': 'බැන', 'වයපු': 'වය', 'ලන්කවේ': 'ලන්ක', 'රිඩකයන්ට': 'රිඩකයන්', 'දිනෙව්ව': 'දිනෙව්', 'කාංචනා': 'කාංච', 'ඉදිමෙන්න': 'ඉදිමෙන්', 'බිංදුවට': 'බිංදුව', 'ගනණාවක්': 'ගනණාවක', 'අසාර්ථක': 'අසාර්ථ', 'නවක': 'නව', 'දක්ශයෙකු': 'දක්ශයෙ', 'කණ්ඩායමේ': 'කණ්ඩාය', 'මතයේ': 'මත', 'යයක්': 'යයක', 'රහණය': 'රහණ', 'ගෙනගිය': 'ගෙනගි', 'මලයා': 'මල', 'හදාගන්නනෙ': 'හදාගන්නන', 'මැට්ටො': 'මැට්ට', 'පවතින්නෙ': 'පවති', 'රේක්ෂක': 'රේක්ෂ', 'ආදාරය': 'ආදාර', 'ආකර්ෂණයත්': 'ආකර්ෂණයත', 'ඉනිම්': 'ඉනිම', 'පපුවෙ': 'පපු', 'දුවන': 'දුව', 'පැරදුනාම': 'පැරදුනා', 'රේක්ෂකයන්ට': 'රේක්ෂකයන්', 'ලොකුකම්': 'ලොකුකම', 'මයික්': 'මයික', 'රෆෝනය': 'රෆෝන', 'වීවේචනය': 'වීවේචන', 'රේක්ශකයන්ට': 'රේක්ශකයන්', 'පැවරීමට': 'පැවරීම', 'දැන': 'දැ', 'පලමුව': 'පලමු', 'රීඩාකරන්නෙ': 'රීඩාකර', 'බෆලෝ': 'බෆල', 'රීලංකා': 'රීලං', 'බවය': 'බව', 'රටක්වත්': 'රටක්වත', 'තිබෙනවා': 'තිබෙ', 'නොදන්නා': 'නොදන්', 'කලක': 'කල', 'ලොවට': 'ලොව', 'හදුන්වා': 'හදුන්', 'නාමයක්': 'නාමයක', 'රීඩකයක්': 'රීඩකයක', 'දහසක්': 'දහසක', 'බාදා': 'බාද', 'නැගූ': 'නැග', 'රීඩාවක්': 'රීඩාවක', 'ජනතාවකට': 'ජනතාව', 'සැනසීමක්': 'සැනසීමක', 'ලබාදෙන': 'ලබාදෙ', 'ඇටයේ': 'ඇට', 'ඇසීමට': 'ඇසීම', 'සේම': 'සේ', 'අසාර්තක': 'අසාර්ත', 'එල්ලවන': 'එල්ලව', 'විවේචනයන්': 'විවේචනයන', 'භාරගැනීමටත්': 'භාරගැනීමටත', 'වන්න': 'වන්', 'කියන්නාක්': 'කියන්නාක', 'නොදන්න්වා': 'නොදන්න්', 'නාමයට': 'නාමය', 'නිසැකය': 'නිසැක', 'වසරක්': 'වසරක', 'ගන්නක්': 'ගන්නක', 'විටත්': 'විටත', 'රූපවාහිනි': 'රූපවාහි', 'තිරය': 'තිර', 'ඉදගන්නෙ': 'ඉදග', 'නිසාය': 'නිසා', 'වන්නෙ': 'ව', 'රහනය': 'රහන', 'දැකීමට': 'දැකීම', 'නොවේය': 'නොවේ', 'මිල': 'මි', 'යාන': 'යා', 'වරප්සාද': 'වරප්සා', 'නැතිය': 'නැති', 'රීතිය': 'රීති', 'සිහි': 'සි', 'තබාගන්න': 'තබාගන්', 'වගකීමක්': 'වගකීමක', 'රීකයන්ට': 'රීකයන්', 'අවස්තාව': 'අවස්තා', 'ඉනිම': 'ඉනි', 'ඕශදලා': 'ඕශද', 'ෆනෑන්ඩුලා': 'ෆනෑන්ඩු', 'දක්ශයින්ට': 'දක්ශයින්', 'වැසෙන': 'වැසෙ', 'වටහා': 'වටහ', 'මහේලද': 'මහේල', 'වරක': 'වර', 'පිටියෙන්': 'පිටියෙන', 'විවේකයක්': 'විවේකයක', 'ඔහුද': 'ඔහු', 'කියන්නට': 'කියන්න', 'නවතිමි': 'නවති', 'ඉනිමට': 'ඉනිම', 'පතමි': 'පත', 'ඉදිරියේදීද': 'ඉදිරියේදී', 'නිරන්තරයෙන්': 'නිරන්තරයෙන', 'දක්වනු': 'දක්ව', 'නැරඹීමට': 'නැරඹීම', 'හිදිමි': 'හිදි', 'අවසානයේ': 'අවසාන', 'රෝද': 'රෝ', 'වැකියකින්': 'වැකියකින', 'සටහන': 'සටහ', 'වැටෙනකොට': 'වැටෙනකො', 'රිදෙනවා': 'රිදෙ', 'පනටත්': 'පනටත', 'රේක්ශකයෙක්': 'රේක්ශකයෙක', 'අභිමානවත්': 'අභිමානවත', 'පාන්ද': 'පාන්', 'කි': '', 'රෑපවාහිනිය': 'රෑපවාහිනි', 'සිටියෙමි': 'සිටියෙ', 'රික්ට්': 'රික්ට', 'කන්ඩායමට': 'කන්ඩායම', 'ගැසූ': 'ගැස', 'සැණින්': 'සැණින', 'හතුරැසිංහට': 'හතුරැසිංහ', 'අයුරැදු': 'අයුරැද', 'අප්පිරියාවෙන්': 'අප්පිරියාවෙන', 'මල්ලී': 'මල්ල', 'නරඹන': 'නරඹ', 'බහුතරකය්': 'බහුතරකය', 'නොදනී': 'නොදන', 'නිවසින්ම': 'නිවසින්', 'පෙන්වා': 'පෙන්', 'ලෝලියෙකි': 'ලෝලියෙ', 'ඕවරයට': 'ඕවරය', 'ගණනවත්': 'ගණනවත', 'තරගයක්': 'තරගයක', 'ගැහුවද': 'ගැහුව', 'දිනුම්': 'දිනුම', 'අර්ජුන': 'අර්ජු', 'අරවින්ද': 'අරවින්', 'කී්': 'කී', 'යද': 'ය', 'අවුට්': 'අවුට', 'වුනාද': 'වුනා', 'කොලුවා': 'කොලු', 'කඵවිතාරන': 'කඵවිතාර', 'රෑපවාහිනියට': 'රෑපවාහිනිය', 'එබෙමින්': 'එබෙමින', 'අසන්නීය': 'අසන්නී', 'නොකියා': 'නොකි', 'රීකඩයන්ගේ': 'රීකඩයන්', 'නමින්': 'නමින', 'හදුවන්නී': 'හදුව', 'කියූ': 'කිය', 'පරිද': 'පරි', 'නොදන්නී': 'නොද', 'ඩක්වරත්': 'ඩක්වරත', 'ලුවිස්': 'ලුවිස', 'නෙට්': 'නෙට', 'රෙට්': 'රෙට', 'බෝලින්': 'බෝලින', 'පිව්': 'පිව', 'බැටින්': 'බැටින', 'විකට්': 'විකට', 'හෝකායි': 'හෝකා', 'සිස්ට්ම': 'සිස්ට්', 'තර්ඩ්': 'තර්ඩ', 'අප්පයර්': 'අප්පයර', 'රිවිච්': 'රිවිච', 'මැජික්ය': 'මැජික්', 'වන්නීය': 'වන්නී', 'යන්නී': 'ය', 'කෙනාම': 'කෙනා', 'සී්': 'සී', 'මාවන්': 'මාවන', 'අතපත්තු': 'අතපත්ත', 'දුරින්': 'දුරින', 'කියමින්': 'කියමින', 'පම්පොර්ද': 'පම්පොර්', 'ගසන්නී': 'ගස', 'බිංදු': 'බිංද', 'කරන්නී': 'කර', 'දැනුමේ': 'දැනු', 'පරිමාවයි': 'පරිමාව', 'දක්වන්නේ': 'දක්ව', 'රීඩාව': 'රීඩා', 'බහුතරයකට': 'බහුතරය', 'ලකුණූ': 'ලකුණ', 'කීපයක්': 'කීපයක', 'සුද්දාගෙන්': 'සුද්දාගෙන', 'රෙපා්නය': 'රෙපා්න', 'උදුරැගෙන': 'උදුරැගෙ', 'අපහසා': 'අපහස', 'රීඩාලෝලීන්ට': 'රීඩාලෝලීන්', 'සංගීතය': 'සංගීත', 'හුදනා': 'හුද', 'රගපෑම': 'රගපෑ', 'නොදන්නෙමු': 'නොද', 'විත්': 'විත', 'රපටයක්': 'රපටයක', 'විදිමට': 'විදිම', 'එලෙසින්ම': 'එලෙසින්', 'රකිකට්': 'රකිකට', 'ගැනද': 'ගැන', 'ලෝකු': 'ලෝ', 'දාන්නට': 'දාන්න', 'ලනුවෙන්': 'ලනුවෙන', 'එපිට': 'එපි', 'නගන්නට': 'නගන්න', 'රමාණවත්': 'රමාණවත', 'දැවී': 'දැව', 'හැමදාකම': 'හැමදාක', 'තරගයේදී': 'තරගයේද', 'ගසාවියැයි': 'ගසාවියැ', 'ඇරන්': 'ඇරන', 'සිටියෙමු': 'සිටියෙ', 'බිල්': 'බිල', 'කරගනෙ': 'කරගන', 'මෙරට': 'මෙර', 'දැමුවෙමු': 'දැමුවෙ', 'හොදය': 'හොද', 'වේලාවට': 'වේලාව', 'කලදක්': 'කලදක', 'පරිවර්තකයා': 'පරිවර්තක', 'පරිවරතනය': 'පරිවරතන', 'සුද්දන්': 'සුද්දන', 'බැලීමට': 'බැලීම', 'වන්නට': 'වන්න', 'කකුල': 'කකු', 'හැදු': 'හැද', 'අයියාත්': 'අයියාත', 'ඔස්තාර්ලා': 'ඔස්තාර්', 'සර්ත්': 'සර්ත', 'ගන්නම්': 'ගන්නම', 'ලෝලී': 'ලෝල', 'පාර්ශ්වයක්': 'පාර්ශ්වයක', 'පිඩනයක්': 'පිඩනයක', 'දරාගන්න': 'දරාගන්', 'පින්තූරයේ': 'පින්තූර', 'වාස්': 'වාස', 'ශේෂ්ඨයන්ගෙන්': 'ශේෂ්ඨයන්ගෙන', 'බොන්නත්': 'බොන්නත', 'දීපියව්': 'දීපියව', 'ජාතියගෙ': 'ජාතිය', 'රීගෙන': 'රීගෙ', 'වගෙනේ': 'වගෙන', 'දුවන්වටනේ': 'දුවන්වටන', 'එක්කට': 'එක්', 'ගෙවනකොට': 'ගෙවනකො', 'අපිනේ': 'අපින', 'රෙක්ෂකයයෝ': 'රෙක්ෂකය', 'හින්දද': 'හින්ද', 'බිඳු': 'බිඳ', 'චන්දිමාල්': 'චන්දිමාල', 'එකක්ක්': 'එකක්ක', 'රීමා': 'රීම', 'නූල්ඩ්ස්': 'නූල්ඩ්ස', 'නජිත්': 'නජිත', 'ණයට': 'ණය', 'මූනට': 'මූන', 'හින්දයි': 'හින්ද', 'නය': 'න', 'ගෙවපන්': 'ගෙවපන', 'කුසල්ට': 'කුසල්', 'වහේ': 'වහ', 'දක්ශතාවයෙන්': 'දක්ශතාවයෙන', 'දෙනවනේ': 'දෙනවන', 'දිනුවේ': 'දිනු', 'ෆලෝව්': 'ෆලෝව', 'අප්පට': 'අප්ප', 'හැමිනෙන්නැතිව': 'හැමිනෙන්නැති', 'එකකම': 'එකක', 'ගැස්සුවත්': 'ගැස්සුවත', 'එදාටත්': 'එදාටත', 'විදිහක්': 'විදිහක', 'මෙන්ඩිස්ව': 'මෙන්ඩිස්', 'පේස්බුක්': 'පේස්බුක', 'ඔස්තාර්ලට': 'ඔස්තාර්ල', 'හොඳටම': 'හොඳ', 'රිදී': 'රිද', 'උට': 'උ', 'දාරා': 'දාර', 'සීමාවක්': 'සීමාවක', 'සංගලා': 'සංග', 'මහේලලා': 'මහේල', 'මීඩියා': 'මීඩි', 'සෝශල්': 'සෝශල', 'වැඩිම': 'වැඩි', 'අපහසයට': 'අපහසය', 'රාකාරව': 'රාකාර', 'රිඩකයෝ': 'රිඩක', '10ට': '10', '50ක්': '50ක', 'ගැහුවම': 'ගැහුව', 'සෙල්ලන්': 'සෙල්ලන', 'හදාගනින්': 'හදාගනින', 'දන්නේම': 'දන්නේ', 'ඉදී': 'ඉද', 'ඉරිසියා': 'ඉරිසි', 'සෙල්ලමක්ම': 'සෙල්ලමක්', 'ලෝකෙම': 'ලෝකෙ', 'නාලිකා': 'නාලි', 'වටයි': 'වට', 'දැමිමෙ': 'දැමිම', 'එලඑල': 'එලඑ', 'එවුනුයි': 'එවුනු', 'රගන්නෙ': 'රග', 'නිශ්ශබ්දතාවක්': 'නිශ්ශබ්දතාවක', 'බැන්න': 'බැන්', 'වැටෙනවා': 'වැටෙ', 'කරීඩකයො': 'කරීඩකය', 'රීඩකයො': 'රීඩකය', 'හීනයක්': 'හීනයක', '25ක්': '25ක', 'සෙන්චරියක්': 'සෙන්චරියක', 'රෑක්න්': 'රෑක්න', 'වැටිල': 'වැටි', 'උබලම': 'උබල', 'ප්ලේ': 'ප්ල', 'දිනවල': 'දිනව', 'මයියා': 'මයි', 'භූමියේ': 'භූමි', 'වේද': 'වේ', 'හාංදුරුනේ': 'හාංදුරුන', 'පාගපු': 'පාග', 'ලොවටම': 'ලොව', 'මයේ': 'ම', 'අප්පලා': 'අප්ප', 'තරගේම': 'තර', 'දිනන්න': 'දිනන්', 'පැරදුනානම්': 'පැරදුනානම', 'උනන්දුවෙන්': 'උනන්දුවෙන', 'සෙල්ලම්කරනානම්': 'සෙල්ලම්කරනානම', 'ඔයාලත්': 'ඔයාලත', 'හැදුනෙ': 'හැදුන', 'හදපල්ලකො': 'හදපල්ලක', 'රිස්': 'රිස', 'ගේල්': 'ගේල', 'කරුමේ': 'කරු', 'කොච්ගේ': 'කොච්', 'මිරිකුවේ': 'මිරිකු', 'බින්දු': 'බින්ද', 'පෝලිමක්': 'පෝලිමක', 'ඉදිරියේදී': 'ඉදිරියේද', '100ට': '100', 'හිකෙන්න': 'හිකෙන්', 'දොඩවනවා': 'දොඩව', 'කියවන්ට': 'කියවන්', 'ගහනවට': 'ගහනව', 'මෙච්චරකල්': 'මෙච්චරකල', 'රත්උනාම': 'රත්උනා', 'යකඩෙ': 'යකඩ', 'තැලෙන්නෙ': 'තැලෙ', 'තැලුනොත්': 'තැලුනොත', 'පන්නරේ': 'පන්නර', 'නවතම': 'නවත', 'සහාය': 'සහා', 'මයිගෙ': 'මයි', 'පාරවල්': 'පාරවල', 'සිංදුවේ': 'සිංදු', 'අවේ': 'අ', 'නුරාවී': 'නුරාව', 'ඕඩියෝ': 'ඕඩි', 'වෙන්නෙම': 'වෙන්නෙ', 'ෆීල්': 'ෆීල', 'ලොවෙත්': 'ලොවෙත', 'මැවෙනව': 'මැවෙන', 'වීඩීයෝ': 'වීඩී', 'මෙහෙව්': 'මෙහෙව', 'කොටන්නෙත්': 'කොටන්නෙත', 'ගේමු': 'ගේ', 'කොනට': 'කොන', 'සිංදුවෙ': 'සිංදු', 'බස්සල': 'බස්ස', 'හැදුනු': 'හැදු', 'අවුරුද්දෙ': 'අවුරුද්ද', 'හෑන්ඩ්ෆ්': 'හෑන්ඩ්ෆ', 'ගහන්': 'ගහන', 'මීට්': 'මීට', 'බහින්නවත්': 'බහින්නවත', 'අජූතයි': 'අජූත', 'රසය': 'රස', 'කටහඩක්': 'කටහඩක', 'බැලුවෙ': 'බැලු', 'එහෙම්මම': 'එහෙම්ම', 'වැටුනම': 'වැටුන', 'බිදෙනව': 'බිදෙන', 'නොබල': 'නොබ', 'රසවිදීන්න': 'රසවිදීන්', 'ඔලුවෙම': 'ඔලුවෙ', 'ගැලපෙනම': 'ගැලපෙන', 'හොඳම': 'හොඳ', 'සින්දුවෙ': 'සින්දු', 'තිබුනා': 'තිබු', 'සුපිරිම': 'සුපිරි', 'ගස්සා': 'ගස්ස', 'වැස්සා': 'වැස්ස', 'බැලුනාද': 'බැලුනා', 'මංදා': 'මංද', 'ඉබේ': 'ඉබ', 'ෆට්ට': 'ෆට්', 'විඩ්යෝ': 'විඩ්', 'ඇහුනේ': 'ඇහුන', 'වෙනකල්': 'වෙනකල', 'තියෙන්නී': 'තියෙ', 'කරගත්තේ': 'කරගත්ත', 'සින්දුවත්': 'සින්දුවත', 'නංගිත්': 'නංගිත', 'ලැම්බෝගිනි': 'ලැම්බෝගි', 'රථයක්': 'රථයක', 'ලොක්කෙක්': 'ලොක්කෙක', 'බුකිය': 'බු', 'කළඹපු': 'කළඹ', 'කතාවේ': 'කතා', 'වීඩියෝව': 'වීඩියෝ', 'රටපුරා': 'රටපුර', 'වෙනවානම්': 'වෙනවානම', 'ඇල්ලුවම': 'ඇල්ලුව', 'අල්ලපන්ලු': 'අල්ලපන්ල', 'විතරලු': 'විතරල', 'හැමූම': 'හැමූ', 'ඉස්සුවේ': 'ඉස්සු', 'යාපනයට': 'යාපනය', 'වහනයක්': 'වහනයක', 'ඇරගෙන': 'ඇරගෙ', 'පාරේ': 'පාර', 'යකාගේ': 'යකා', 'ඉරනම': 'ඉරන', 'ලෝකයෙ': 'ලෝක', 'බලුම': 'බලු', 'පළාතේ': 'පළාත', 'ජීවයක්': 'ජීවයක', 'ඔස්වේ': 'ඔස්', 'මධ්': 'මධ', 'යස්ථානය': 'යස්ථාන', 'පෙරවරුවේ': 'පෙරවරු', 'කුසලානය': 'කුසලාන', 'නායක': 'නාය', 'රධානත්වයෙන්': 'රධානත්වයෙන', 'වල්ගම': 'වල්ග', 'රදේශයේදී': 'රදේශයේද', 'අය්යෝ': 'අය්', 'බඩත්': 'බඩත', 'රිදෙනෝ': 'රිදෙන', 'විහිලුද': 'විහිලු', 'ධම්මික': 'ධම්මි', 'පෙරේරාට': 'පෙරේරා', 'සබ්': 'සබ', 'කරගෙනම': 'කරගෙන', 'සුදුසුකම්ම': 'සුදුසුකම්', 'නෙවේද': 'නෙවේ', 'වැඩසටහන': 'වැඩසටහ', 'ඩිල්කා': 'ඩිල්', 'මනුස්සයාගේ': 'මනුස්සයා', 'දක්ශතාවයකට': 'දක්ශතාවය', 'වැඩ්ඩෙක්': 'වැඩ්ඩෙක', 'මනුස්සයාගෙන්': 'මනුස්සයාගෙන', 'ජිවිතේට': 'ජිවිතේ', 'කුහකයො': 'කුහකය', 'දම්මික': 'දම්මි', 'පෙරේරා': 'පෙරේර', 'මහත්මාට': 'මහත්මා', 'පුද්ගලයෙක්': 'පුද්ගලයෙක', 'මොළයක්': 'මොළයක', 'එකකින්ම': 'එකකින්', 'වැඩසටහන්': 'වැඩසටහන', 'කරනවනන්': 'කරනවනන', 'කාලයේ': 'කාල', 'මිනිස්': 'මිනිස', 'පරිඝනකය': 'පරිඝනක', 'දුවව': 'දුව', 'ටෝල්ක්': 'ටෝල්ක', 'බිකෝස්': 'බිකෝස', 'ගාඩ්': 'ගාඩ', 'දේෂපාලන': 'දේෂපාල', 'ඉල්ලුවත්': 'ඉල්ලුවත', 'නෙවෙයිද': 'නෙවෙයි', 'ආසයිනේ': 'ආසයින', 'බෑනෙ': 'බෑන', 'ඒකටත්': 'ඒකටත', 'පේටන්': 'පේටන', 'පෙරේරාගෙ': 'පෙරේරා', 'දේන්': 'දේන', 'කන්නද': 'කන්න', 'හොදකට': 'හොද', 'ජනදිපති': 'ජනදිප', 'වරනයට': 'වරනය', 'මොහු': 'මො', 'කැමතිඅය': 'කැමතිඅ', 'දමු': 'ද', 'රමානුකූලව': 'රමානුකූල', 'කසිනො': 'කසින', 'ව්දිය': 'ව්දි', 'සංවාද': 'සංවා', 'එතුමාට': 'එතුමා', 'චාපා': 'චාප', 'අහන්වා': 'අහන්', 'කකියනවෝ': 'කකියන', 'පයියාගල': 'පයියාග', 'රමයන්': 'රමයන', 'වෙලදපොල': 'වෙලදපො', 'රයෝජනවත්': 'රයෝජනවත', 'ජානාදිපති': 'ජානාදිප', 'ලොකේම': 'ලොකේ', 'ගුරු': 'ගුර', 'අහකට': 'අහ', 'වියාපාරිකයෝ': 'වියාපාරික', 'සල්ලිකාරයෝ': 'සල්ලිකාර', 'සර්ගෙන්': 'සර්ගෙන', 'ජිවිතයට': 'ජිවිතය', 'කථා': 'කථ', 'අවවාද': 'අවවා', 'රෝඩාවක්': 'රෝඩාවක', 'චතුරට': 'චතුර', 'පෙරේරගේ': 'පෙරේර', 'චරිතය': 'චරිත', 'ඔපදැමීමක්': 'ඔපදැමීමක', 'කෙනෙක්ට': 'කෙනෙක්', 'ගිනස්': 'ගිනස', 'වාර්තාවට': 'වාර්තාව', 'දියුණුව': 'දියුණු', 'ඉරිසිය': 'ඉරිසි', 'ජනාධිපතියා': 'ජනාධිපති', 'පිලිවෙල': 'පිලිවෙ', 'සිංහලෙන්ම': 'සිංහලෙන්', 'පුදුමයි': 'පුදුම', 'මොලයෙන්': 'මොලයෙන', 'රයෝජනයට': 'රයෝජනය', 'මොලයේ': 'මොල', 'සංජායන': 'සංජාය', 'රදේශයක්ම': 'රදේශයක්', 'සරු': 'සර', 'චමත්': 'චමත', 'පලිහපිටිය': 'පලිහපිටි', 'වත්කම': 'වත්ක', 'දෙගුණයකි': 'දෙගුණය', 'පුරවැසිභාවය': 'පුරවැසිභාව', 'ඇමරිකාවේ': 'ඇමරිකා', 'යාපාරිකයා': 'යාපාරික', 'මෙයාගෙ': 'මෙයා', 'සම්බන්දයක්': 'සම්බන්දයක', 'රෝහල්': 'රෝහල', 'අකුරටම': 'අකුර', 'තේරෙන්නේ': 'තේරෙ', 'අදම': 'අද', 'එයාටත්': 'එයාටත', 'මගේ': 'මගෙ', 'කලර්': 'කලර', 'භේදයක්': 'භේදයක', 'ඔයට': 'ඔය', 'තුමාම': 'තුමා', 'කොල්ලුපිටිය': 'කොල්ලුපිටි', 'බම්බලපිටිය': 'බම්බලපිටි', 'සමූහයයි': 'සමූහ', 'ගොඩනැගුවේ': 'ගොඩනැගු', 'යවසායකින්': 'යවසායකින', 'කූට': 'කූ', 'වෙලදපල': 'වෙලදප', 'ආයතන': 'ආයත', 'මිලදී': 'මිලද', 'පදනම්': 'පදනම', 'ඔබතුමාගේ': 'ඔබතුමා', 'ඒවායේ': 'ඒවා', 'කෙසේද': 'කෙසේ', 'උපක්': 'උපක', 'රමයකින්ද': 'රමයකින්', 'පහදා': 'පහද', 'දෙනවාද': 'දෙනවා', 'දිලිත්': 'දිලිත', 'ජයවීරවගෙ': 'ජයවීරව', 'ඩීල්': 'ඩීල', 'ආර්ථිකය': 'ආර්ථික', 'සංවර්ධනය': 'සංවර්ධන', 'මෙතුමාගේ': 'මෙතුමා', 'යුද්දය': 'යුද්ද', 'රශ්නයට': 'රශ්නය', 'පිලිතුරෙන්ම': 'පිලිතුරෙන්', 'ආටිෆිශියල්': 'ආටිෆිශියල', 'ඉන්ටර්ලිජන්ට්': 'ඉන්ටර්ලිජන්ට', 'පොලීසියටත්': 'පොලීසියටත', 'රමයකින්': 'රමයකින', 'අනුමාන': 'අනුමා', 'අර්බුදයකට': 'අර්බුදය', 'මුහුණ': 'මුහ', 'පාන්නයි': 'පාන්න', 'විදේශීය': 'විදේශී', 'අයටයි': 'අයට', 'මෙතුමා': 'මෙතුම', 'ජෑම්': 'ජෑම', 'ලොකෙටම': 'ලොකෙ', 'සෙවය': 'සෙව', 'අසයි': 'අස', 'හදමු': 'හද', 'කරවන': 'කරව', 'ලමයිටවත්': 'ලමයිටවත', 'තත්වයක්': 'තත්වයක', 'තරන්': 'තරන', 'අශීලාචාරයි': 'අශීලාචාර', 'අවොත්': 'අවොත', 'තුමත්': 'තුමත', 'සාමි': 'සා', 'ආයිමත්': 'ආයිමත', 'රහ්ම': 'රහ්', 'රහස්': 'රහස', 'දෙවෙනි': 'දෙවෙ', 'වතාවට': 'වතාව', 'සටහකින්': 'සටහකින', 'ජීවන': 'ජීව', 'චතුරයි': 'චතුර', 'දම්මිකයි': 'දම්මික', 'කටපාඩම්': 'කටපාඩම', 'විකටයෝ': 'විකට', 'පලල': 'පල', 'පුරාජේරු': 'පුරාජේර', 'දොඩවන්නේ': 'දොඩව', 'විනාසේ': 'විනාස', 'හරස්': 'හරස', 'කඩක්': 'කඩක', 'නැගෙන': 'නැගෙ', 'ලාංකීය': 'ලාංකී', 'විජේවර්ධන': 'විජේවර්ධ', 'ගැනලොකු': 'ගැනලො', 'යාපාරික': 'යාපාරි', 'පවුර්ෂයක්': 'පවුර්ෂයක', 'ගවුරවයක්': 'ගවුරවයක', 'නත්තල': 'නත්ත', 'දුගියා': 'දුගි', 'දාය': 'දා', 'පන්සලේ': 'පන්සල', 'පියතුමා': 'පියතුම', 'මර්සිලින්': 'මර්සිලින', 'සරදියෙල්': 'සරදියෙල', 'රතිරූපයක්': 'රතිරූපයක', 'අර්තර්': 'අර්තර', 'දියෙස්': 'දියෙස', 'රතිරුපේ': 'රතිරුප', 'හැදුනේ': 'හැදුන', 'කිට්ටු': 'කිට්ට', 'මද්දුම': 'මද්දු', 'කිරිබොන': 'කිරිබො', 'ජයතිලක': 'ජයතිල', 'හදකම': 'හදක', 'සරච්චන්ද්': 'සරච්චන්ද', 'තුනේ': 'තුන', 'පන්තියටවිතරක්': 'පන්තියටවිතරක', 'මාර්ටින්': 'මාර්ටින', 'ඇහුනත්': 'ඇහුනත', 'නැවතිලා': 'නැවති', 'සිමෙන්ති': 'සිමෙන්', 'තමාගේම': 'තමා', 'තමන්ම': 'තමන්', 'අඹන්නේ': 'අඹ', 'සමනත්': 'සමනත', 'භද්': 'භද', 'පෝයටම': 'පෝය', 'අධෝ': 'අධ', 'වාහිනියට': 'වාහිනිය', 'වාචාල': 'වාචා', 'මඬලාවට': 'මඬලාව', 'අත්තනායක': 'අත්තනාය', 'දෙකොනෙන්': 'දෙකොනෙන', 'සිල්පදේ': 'සිල්පද', 'සිමෙන්තියි': 'සිමෙන්ති', 'හැන්දයි': 'හැන්ද', 'රුපයක්': 'රුපයක', 'පෝයදාට': 'පෝයදා', 'තමන්වම': 'තමන්ව', 'මහගම': 'මහග', 'සේකරට': 'සේකර', 'පත්තරේකටත්': 'පත්තරේකටත', 'ලෙනින්': 'ලෙනින', 'වාදී': 'වාද', 'සෝවියට්': 'සෝවියට', 'දේශයේ': 'දේශ', 'පියා': 'පි', 'ඇන්ටන්': 'ඇන්ටන', 'චෙකොව්': 'චෙකොව', 'ඇගයීමෙන්': 'ඇගයීමෙන', 'මකන්න': 'මකන්', 'යෂ්ටික': 'යෂ්ටි', 'දැම්මත්': 'දැම්මත', 'යඥානෙන්': 'යඥානෙන', 'පුන': 'පු', 'පුනා': 'පු', 'ලගේ': 'ල', 'ලනු': 'ල', 'හොරාකන්න': 'හොරාකන්', 'ගැලපෙන': 'ගැලපෙ', 'කියමන්': 'කියමන', 'ගැමියෝ': 'ගැමි', 'කනෝ': 'කන', 'පිනුම්': 'පිනුම', 'කිව්වලු': 'කිව්වල', 'කියමනක්': 'කියමනක', 'හොරාගේ': 'හොරා', 'අම්මගෙන්': 'අම්මගෙන', 'ඇහීම': 'ඇහී', 'පොතකින්': 'පොතකින', 'මනෝ': 'මන', 'අපතුල': 'අපතු', 'මැවෙනවා': 'මැවෙ', 'තිස්දාහක': 'තිස්දාහ', 'කනා': 'ක', 'දෙමවුපියන්ගෙන්ම': 'දෙමවුපියන්', 'රැලක්': 'රැලක', 'හාදයා': 'හාද', 'වුනොත්': 'වුනොත', 'පෝසත්': 'පෝසත', 'ඇහුවොත්': 'ඇහුවොත', 'කළු': 'කළ', 'කොම්පැනි': 'කොම්පැ', '200කට': '200', 'තියෙනවාමෙයාගේ': 'තියෙනවාමෙයා', 'පම්පොරියෙන්': 'පම්පොරියෙන', 'සෙතක්': 'සෙතක', 'වැඩකරන': 'වැඩකර', 'බාගෙකට': 'බාගෙ', 'පෙනහළු': 'පෙනහළ', 'විදේශිකයෝ': 'විදේශික', 'බොනවා': 'බො', 'වැඩකරන්නේ': 'වැඩකර', 'සෙකන්ඩ්': 'සෙකන්ඩ', 'හෑන්ඩ්': 'හෑන්ඩ', 'ස්මොකින්': 'ස්මොකින', 'නීත්': 'නීත', 'යනුකුල': 'යනුකු', 'වැසිකිළියක්වත්': 'වැසිකිළියක්වත', 'කෙරුමෝ': 'කෙරුම', 'ගේට්ස්': 'ගේට්ස', 'බිලියන්': 'බිලියන', 'කුනෙක්': 'කුනෙක', 'මරවලා': 'මරව', 'වැඩගන්න': 'වැඩගන්', 'ඒකාධිපති': 'ඒකාධිප', 'යාපාරිකයෙක්': 'යාපාරිකයෙක', 'ලෙඩා': 'ලෙඩ', 'මාසේ': 'මාස', 'අන්තිමේදී': 'අන්තිමේද', 'අනතුරකට': 'අනතුර', 'ලක්වෙලා': 'ලක්වෙ', 'කඩාගන්නවා': 'කඩාගන්', 'ඇඳක්': 'ඇඳක', 'මැරෙන': 'මැරෙ', 'කිව්වානම්': 'කිව්වානම', 'හොඳයිනේ': 'හොඳයින', 'කියපල්ලා': 'කිය', 'ඇඳන්': 'ඇඳන', '60ක්': '60ක', 'රෝහලක': 'රෝහල', 'රෝගීන්': 'රෝගීන', '15ක්': '15ක', 'ගණනක්': 'ගණනක', 'දිස්ත්': 'දිස්ත', 'රික්කයේ': 'රික්ක', '15000කට': '15000', 'වැසිකිලි': 'වැසික', 'කන්නේ': 'ක', 'සොෆ්ට්': 'සොෆ්ට', 'වෙයාර්': 'වෙයාර', 'හැදුවොත්': 'හැදුවොත', 'අන්ඩර්': 'අන්ඩර', 'තින්ක්': 'තින්ක', 'ටැංක': 'ටැං', 'කෙලින්නේ': 'කෙලි', 'චාටර්නේ': 'චාටර්න', 'චරිතයක්': 'චරිතයක', 'ඔහුත්': 'ඔහුත', 'යාපාරිකයෙකු': 'යාපාරිකයෙ', 'ලෙසත්': 'ලෙසත', 'සාර්ථක': 'සාර්ථ', 'ගණන්වල': 'ගණන්ව', 'වතු': 'වත', 'කම්කරුවෙකු': 'කම්කරුවෙ', 'සීයා': 'සී', 'පැකිලෙන්නේ': 'පැකිලෙ', 'ආඩම්බරයෙන්': 'ආඩම්බරයෙන', 'වතුකම්කරුවන්': 'වතුකම්කරුවන', 'ගැටලු': 'ගැටල', 'වැටුප්': 'වැටුප', 'රශ්නය': 'රශ්න', 'ජීවින': 'ජීවි', 'තත්ත්වය': 'තත්ත්ව', 'තුළදී': 'තුළද', 'පිළිබඳවත්': 'පිළිබඳවත', 'එහිදී': 'එහිද', 'තරුණයෙකුට': 'තරුණයෙ', 'රීඩාවෙන්': 'රීඩාවෙන', 'දිනන්නට': 'දිනන්න', 'තුළත්': 'තුළත', 'රීඩකයෙක්': 'රීඩකයෙක', 'වත්මත්': 'වත්මත', 'කණ්ඩායමට': 'කණ්ඩායම', 'මුහුණදීමට': 'මුහුණදීම', 'සිදුව': 'සිදු', 'අභාග්': 'අභාග', 'එමෙන්ම': 'එමෙන්', 'මෙහිදී': 'මෙහිද', 'සද්දයක්': 'සද්දයක', 'බද්දයක්': 'බද්දයක', 'ගණනකට': 'ගණන', 'සත්කාරක': 'සත්කාර', 'යාපෘති': 'යාපෘ', 'සිදුකෙරෙන': 'සිදුකෙරෙ', 'හැකියි': 'හැකි', 'හිතල': 'හිත', 'බෞධ්ද': 'බෞධ්', 'හින්දු': 'හින්ද', 'රිස්තියානි': 'රිස්තියා', 'බේදයක්': 'බේදයක', 'එකෙත්': 'එකෙත', 'අදහන': 'අදහ', 'රශ්ණයක්': 'රශ්ණයක', 'ජිවත්': 'ජිවත', 'සිංහලේ': 'සිංහල', 'භේද': 'භේ', 'දිවුනු': 'දිවු', 'එංගලන්තයක්': 'එංගලන්තයක', 'කිවුවනම්': 'කිවුවනම', 'පාරක්නම්': 'පාරක්නම', 'බැලුවද': 'බැලුව', 'දාලද': 'දාල', 'උතුරෙන්': 'උතුරෙන', 'අරුන්': 'අරුන', 'දකුනෙන්': 'දකුනෙන', 'නාගානන්ද': 'නාගානන්', 'ආදරෙ': 'ආදර', 'ඔක්කම': 'ඔක්ක', 'ඔයාලට': 'ඔයාල', 'මුත්තයියා': 'මුත්තයි', 'රීඩකයෝ': 'රීඩක', 'විප්ලවකාරයොන්ට': 'විප්ලවකාරයොන්', 'පාලකයොන්ට': 'පාලකයොන්', 'තත්පරයක්වත්': 'තත්පරයක්වත', 'වචනයක්වත්': 'වචනයක්වත', 'වචනෙකම': 'වචනෙක', 'ගතයුත්තක්': 'ගතයුත්තක', 'ඇවිල්ල': 'ඇවිල්', 'දේශපාලනඥයින්ගෙන්': 'දේශපාලනඥයින්ගෙන', 'ලැබිලා': 'ලැබි', 'විප්ලවය': 'විප්ලව', 'විප්ලවේ': 'විප්ල', 'අසාධාරණයට': 'අසාධාරණය', 'දූෂණයට': 'දූෂණය', 'විරුද්ධව': 'විරුද්ධ', 'නිර්භීතව': 'නිර්භීත', 'ජනතාවක්': 'ජනතාවක', 'සිදුවෙමින්': 'සිදුවෙමින', 'පවතින්නේ': 'පවති', 'පොඩ්ඩක්වත්': 'පොඩ්ඩක්වත', 'ලක්ශනයක්': 'ලක්ශනයක', 'වට්': 'වට', 'හංසයා': 'හංස', 'පපඩමකින්': 'පපඩමකින', 'වේසකමක්ද': 'වේසකමක්', 'උට්ටො': 'උට්ට', 'මදු': 'මද', 'රොක්ස්': 'රොක්ස', 'පපඩම්': 'පපඩම', 'ලබ්බක්ද': 'ලබ්බක්', 'තාලෙට': 'තාලෙ', 'උබෙ': 'උබ', 'ඉන්ජිනේරු': 'ඉන්ජිනේර', 'විශය': 'විශ', 'විශයට': 'විශය', 'කැලලක්': 'කැලලක', 'පයියක්ද': 'පයියක්', 'ගායකයෙක්ද': 'ගායකයෙක්', 'බෙට්ට': 'බෙට්', 'වගේනෙ': 'වගේන', 'කෑගහන්නෙ': 'කෑගහ', 'බැරුවට': 'බැරුව', 'පන්දාහක්': 'පන්දාහක', 'බූරුව': 'බූරු', 'ඒකි': 'ඒ', 'ලවු': 'ලව', 'ඒකී': 'ඒ', 'හුකාගෙන': 'හුකාගෙ', 'බඩට': 'බඩ', 'ලමයෙකුත්': 'ලමයෙකුත', 'පෙන්නුවට': 'පෙන්නුව', 'හිලක්ද': 'හිලක්', 'ඩොක්ටට': 'ඩොක්ට', 'ගැජ්ජමැටික්': 'ගැජ්ජමැටික', 'පොඩී': 'පොඩ', 'අතුරුදහන්': 'අතුරුදහන', 'සමන්තබඩ්ගෙන්': 'සමන්තබඩ්ගෙන', 'ඌගෙන්': 'ඌගෙන', 'රැසුත්': 'රැසුත', 'විහිදෙන්වා': 'විහිදෙන්', 'ගහපන්කෝ': 'ගහපන්ක', 'යාළුවෙලා': 'යාළුවෙ', 'ෆකින්': 'ෆකින', 'හුකන්': 'හුකන', 'ආකල': 'ආක', 'දොස්තරය': 'දොස්තර', 'හිකෙන': 'හිකෙ', 'සින්දුනෙ': 'සින්දුන', 'ජාතියට': 'ජාතිය', 'නිග්': 'නිග', 'සමන්ත්': 'සමන්ත', 'බද්ඳා': 'බද්ඳ', 'තියෙනවනන්': 'තියෙනවනන', 'පාසලකට': 'පාසල', 'රහතන්': 'රහතන', 'පුද්ගලයෙක්ද': 'පුද්ගලයෙක්', 'ගනිවී': 'ගනිව', 'පාන': 'පා', 'උබලටම': 'උබල', 'අත්මයේ': 'අත්ම', 'පලිසන්': 'පලිසන', 'ඕකිනම්': 'ඕකිනම', 'රමෙශ්': 'රමෙශ', 'සිවලිoගම්': 'සිවලිoගම', 'දිවදාලම': 'දිවදාල', 'මූගේ': 'මූ', 'කොටවෙලා': 'කොටවෙ', 'ගැහැණියක්ට': 'ගැහැණියක්', 'ඉස්සුවාමනම්': 'ඉස්සුවාමනම', 'වේසියෙක්ට': 'වේසියෙක්', 'ගැහුවනම්': 'ගැහුවනම', 'ගස්සන්න': 'ගස්සන්', 'කරුම': 'කරු', 'බෙල්ලේ': 'බෙල්ල', 'වැල': 'වැ', 'නම්බුයි': 'නම්බු', 'එකියකට': 'එකිය', 'උබව': 'උබ', 'දීලම': 'දීල', 'සයිස්': 'සයිස', 'බුදියන්නේ': 'බුදිය', 'රැලේ': 'රැල', 'බැල්ලිට': 'බැල්ලි', 'යනවද': 'යනව', 'කීවත්': 'කීවත', 'මොඩලින්': 'මොඩලින', 'ගිහිල්ල': 'ගිහිල්', 'කැල්ලට': 'කැල්ල', 'එක්කත්': 'එක්කත', 'බුදියයි': 'බුදි', 'මුඩුක්කු': 'මුඩුක්', 'හැදුන': 'හැදු', 'හැදුවත්': 'හැදුවත', 'බයවෙලා': 'බයවෙ', 'හංගන්න': 'හංගන්', 'වේසියේ': 'වේසි', 'හංගල': 'හංග', 'දිනා': 'දි', 'රේද්දේ': 'රේද්ද', 'බදික': 'බදි', 'ගැනි': 'ගැ', 'මිනිහො': 'මිනිහ', 'විඩියොවල': 'විඩියොව', 'රැගුමි': 'රැගු', 'ලොකෙම': 'ලොකෙ', 'එවුල්ලු': 'එවුල්ල', 'හසිනිලා': 'හසිනි', 'පියුමිලා': 'පියුමි', 'සොට්': 'සොට', 'යුටියුබ්': 'යුටියුබ', 'ටවත්': 'ටවත', 'ඉස්සරහද': 'ඉස්සරහ', 'මුගේ': 'මුගෙ', 'අම්මලාට': 'අම්මලා', 'හැමනේනවා': 'හැමනේ', 'වේසවේ': 'වේසවෙ', 'සේ': 'සෙ', 'පොෂ්': 'පොෂ', 'කෙල්ලනේ': 'කෙල්ලන', 'නුබලාට': 'නුබලා', 'අම්මාගේ': 'අම්මා', 'කුසෙන්': 'කුසෙන', 'මිටමොලවාගෙන': 'මිටමොලවාගෙ', 'තමයී': 'තමය', 'යන්ට': 'යන්', 'දෙමාපියෝ': 'දෙමාපි', 'හුත්තකින්': 'හුත්තකින', 'කියපන්කෝ': 'කියපන්ක', 'තොපිලා': 'තොපි', 'කවලවම්': 'කවලවම', 'එකි': 'එ', 'අරුට': 'අරු', 'ඇරගේන': 'ඇරගේ', 'පයියක්': 'පයියක', 'සංගීතේ': 'සංගීත', 'ඔයගොල්ලෝ': 'ඔයගොල්ල', 'ෆෑන්ස්': 'ෆෑන්ස', 'හෙල්ප්': 'හෙල්ප', 'ගයමු': 'ගය', 'තාලේ': 'තාල', 'සංගීතෙට': 'සංගීතෙ', 'ජීවිතේටත්': 'ජීවිතේටත', 'බාධා': 'බාධ', 'ආසම': 'ආස', 'ලවන්': 'ලවන', 'ඇක්ට්': 'ඇක්ට', 'ඇබ්බැහිවන': 'ඇබ්බැහිව', 'සුලුයි': 'සුලු', 'රවේශමෙන්': 'රවේශමෙන', 'රසවිඳින්න': 'රසවිඳින්', 'අයියය්': 'අයියය', 'ඔයාව': 'ඔයා', 'කියන්නකෝ': 'කියන්නක', 'අයම': 'අය', 'රොටේට්': 'රොටේට', 'අලුත්ූන්': 'අලුත්ූන', 'බලන්නත්': 'බලන්නත', 'ආසයී': 'ආසය', 'සීනියස්ලා': 'සීනියස්', 'මෙලඩිය': 'මෙලඩි', 'රඟපාන්න': 'රඟපාන්', 'සිනමාව': 'සිනමා', 'ටෙලිනාට්': 'ටෙලිනාට', 'ඇප්': 'ඇප', 'රිලීස්': 'රිලීස', 'රෙෆරල්': 'රෙෆරල', 'ගෙවන්නේ': 'ගෙව', 'දොලහෙන්': 'දොලහෙන', 'දොලහට': 'දොලහ', 'වෙලාවෙන්': 'වෙලාවෙන', '30ට': '30', 'මෙයාලා': 'මෙයා', 'එක්කෙනෙක්ට': 'එක්කෙනෙක්', 'වලිනුත්': 'වලිනුත', 'හදනව': 'හදන', 'රෙජිස්ටර්': 'රෙජිස්ටර', '10000ක්': '10000ක', 'මිලියනයක්': 'මිලියනයක', 'දින්න': 'දින්', 'ලැබේබී': 'ලැබේබ', 'පර්මිසන්': 'පර්මිසන', 'ඕපන්': 'ඕපන', 'ලොග්': 'ලොග', 'පිවොට්': 'පිවොට', 'කොලෝන්': 'කොලෝන', 'එකවුන්ට්': 'එකවුන්ට', 'බෑන්': 'බෑන', 'කරාවී': 'කරාව', 'කීවා': 'කී', 'ඇහෙනකොට': 'ඇහෙනකො', 'අහලම': 'අහල', 'හුත්තිලා': 'හුත්ති', 'කෙල්ලන්වත්': 'කෙල්ලන්වත', 'බදාගෙන': 'බදාගෙ', 'පලයල්ලකො': 'පලයල්ලක', 'රෙන': 'රෙ', 'බුදියනවානේ': 'බුදියනවාන', 'වේසියො': 'වේසිය', 'හඩු': 'හඩ', 'ගදයි': 'ගද', 'මෙහෙත්': 'මෙහෙත', 'ගද': 'ග', 'ටෙලර්': 'ටෙලර', 'මෙශින්': 'මෙශින', 'වෙලානේ': 'වෙලාන', 'ගයමූ': 'ගයම', 'සොබාදහමේ': 'සොබාදහ', 'චමත්කාරය': 'චමත්කාර', 'අත්විඳින්න': 'අත්විඳින්', 'සොදුරු': 'සොදුර', 'අත්දැකීමක්': 'අත්දැකීමක', 'එක්වන්න': 'එක්වන්', 'මවත්': 'මවත', 'රිප්ලයි': 'රිප්ල', 'කරන්නම්': 'කරන්නම', 'කැළුම්': 'කැළුම', 'දෙවනාරායනගෙ': 'දෙවනාරායන', 'මරුනෙ': 'මරුන', 'ගෘප්': 'ගෘප', 'එකටත්': 'එකටත', 'හලො': 'හල', 'රෙයික්ජාවික්': 'රෙයික්ජාවික', 'බයෙන්': 'බයෙන', 'ඩයලොග්ද': 'ඩයලොග්', 'හච්': 'හච', 'දෙගොල්ලන්ටම': 'දෙගොල්ලන්', 'කීවනේ': 'කීවන', 'ෆයිනෑන්ස්': 'ෆයිනෑන්ස', 'කම්පැනි': 'කම්පැ', 'දිනන්නැත්තෙ': 'දිනන්නැත්ත', 'බැරිකමට': 'බැරිකම', 'පාලක': 'පාල', 'පරිපාලකයෙක්': 'පරිපාලකයෙක', 'තාරවගේයි': 'තාරවගේ', 'පාත්තයාගෙයි': 'පාත්තයාගෙ', 'තාරාවෙක්': 'තාරාවෙක', 'අනිකා': 'අනි', 'පාත්තයෙක්': 'පාත්තයෙක', 'තාරවට': 'තාරව', 'පාත්තයා': 'පාත්ත', 'පාත්තයාට': 'පාත්තයා', 'තාරාවා': 'තාරා', 'පස්සෙම': 'පස්සෙ', 'හැදෙමු': 'හැදෙ', 'මසුරන්': 'මසුරන', 'පාලිමන්ට්': 'පාලිමන්ට', 'යවනව': 'යවන', 'වට්ටල': 'වට්ට', 'ලට': 'ල', 'රේස්': 'රේස', 'හිටපල්ල': 'හිටපල්', 'කිවෝත්': 'කිවෝත', 'ඉදීද': 'ඉදී', 'මොබිටෙල්': 'මොබිටෙල', '3ක්': '3ක', 'වර්ජනේ': 'වර්ජන', 'කරපල්ල': 'කරපල්', 'ඔකට': 'ඔ', 'බයිල': 'බයි', 'ඒවගෙන්': 'ඒවගෙන', 'තොපිටත්': 'තොපිටත', 'නොදැනිම': 'නොදැනි', 'ශම්මි': 'ශම්', 'එකාගෙ': 'එකා', 'ගෑනුයි': 'ගෑනු', 'ලමයිනුයි': 'ලමයිනු', 'හැප්පිලා': 'හැප්පි', 'කොරු': 'කොර', 'අබ්බගාතයෝ': 'අබ්බගාත', 'තිලංගයාට': 'තිලංගයා', 'පිලිකාවක්': 'පිලිකාවක', 'හැදිය': 'හැදි', 'මක': 'ම', 'විලාම': 'විලා', 'පාතල': 'පාත', 'නායකයෙක්': 'නායකයෙක', 'ඉරිසියාවට': 'ඉරිසියාව', 'පිලි': 'ප', 'වහාගත්තම': 'වහාගත්ත', 'මදූශ්': 'මදූශ', 'පාටියට': 'පාටිය', 'අඩගැහුවනන්': 'අඩගැහුවනන', 'කරදරෙත්': 'කරදරෙත', 'ඉවරයී': 'ඉවරය', 'තිලංගලා': 'තිලංග', 'රියාකාරී': 'රියාකාර', 'ඉල්ලනව': 'ඉල්ලන', 'මුංගෙ': 'මුං', 'යටයි': 'යට', 'තිලංගයා': 'තිලංග', 'හැදිගෑවිලාම': 'හැදිගෑවිලා', 'පාලය': 'පාල', 'පලු': 'පල', 'අරේ': 'අර', 'මොකෙකුට': 'මොකෙ', 'ශිහාන්': 'ශිහාන', 'හිරු': 'හිර', 'ස්ටාර්': 'ස්ටාර', 'කාලවෙ': 'කාල', 'කුමාරවරු': 'කුමාරවර', 'විජයල': 'විජය', 'ගාමිණීල': 'ගාමිණී', 'ෆුල්ම්ස්': 'ෆුල්ම්ස', 'ඉන්ඩ්ස්ට්': 'ඉන්ඩ්ස්ට', 'ජෝතිල': 'ජෝති', 'කැලැරන්ස්ලගෙන්': 'කැලැරන්ස්ලගෙන', 'පිරෙව්ව': 'පිරෙව්', 'කාලයයි': 'කාල', 'මංචන්ලා': 'මංචන්', 'පොරක්නම්': 'පොරක්නම', 'ඊරිසියා': 'ඊරිසි', 'හිරුස්ටාර්': 'හිරුස්ටාර', 'මේයාලා': 'මේයා', 'කියහල්ලා': 'කියහ', 'විනිශ්': 'විනිශ', 'මණ්ඩලය': 'මණ්ඩල', 'පටලන්': 'පටලන', 'ගනින්න': 'ගනින්', 'යමන්': 'යමන', 'එකඟව': 'එකඟ', 'අවංකයි': 'අවංක', 'සෙහාන්': 'සෙහාන', 'ලයිව්': 'ලයිව', 'එකාද': 'එකා', 'පස්සෙයි': 'පස්සෙ', '31යි': '31', 'ඉහටත්': 'ඉහටත', 'තෙරෙන්ව': 'තෙරෙන්', 'කරන්ව': 'කරන්', 'රෙද්දෙන්': 'රෙද්දෙන', 'දිනපල්ලා': 'දින', 'නියෝජනය': 'නියෝජන', 'කණ්ඩායමක්': 'කණ්ඩායමක', 'කෝච්': 'කෝච', 'සුරාගෙ': 'සුරා', 'වැදුනු': 'වැදු', 'රිදිල': 'රිදි', 'රිදුනනම්': 'රිදුනනම', 'අතගාගනිල්ල': 'අතගාගනිල්', 'කැරිය': 'කැරි', 'මැද්දෙ': 'මැද්ද', 'ඔබතුමන්ලට': 'ඔබතුමන්ල', 'මහත්වරුනි': 'මහත්වරු', 'උඹටල': 'උඹට', 'වචනෙට': 'වචනෙ', 'ලොන්තය': 'ලොන්ත', 'පොන්නය': 'පොන්න', 'ඔනෙද': 'ඔනෙ', 'දෙයයි': 'දෙ', 'වේසබල්ලො': 'වේසබල්ල', 'වෙනරටකට': 'වෙනරට', 'ඉඳපන්': 'ඉඳපන', 'දෙමව්පියන්ටත්': 'දෙමව්පියන්ටත', 'අස්සගෙන': 'අස්සගෙ', 'කාලක්ණ්නින්ගෙ': 'කාලක්ණ්නින්', 'සුරා': 'සුර', 'ගන්නකොට': 'ගන්නකො', 'බැනුම්': 'බැනුම', 'බනින්නෙ': 'බනි', 'තියෙන්නෙත්': 'තියෙන්නෙත', 'අදමයෝ': 'අදම', 'තොපිත්': 'තොපිත', 'සමානයි': 'සමාන', 'විස්සක්': 'විස්සක', 'නතුව': 'නතු', 'රසිකයෝ': 'රසික', 'පරිපාලනයවත්': 'පරිපාලනයවත', 'පිට්ටනිය': 'පිට්ටනි', 'වදගත්': 'වදගත', 'අවුරුද්ද': 'අවුරුද්', 'රිලංකාවේ': 'රිලංකා', 'මානසිකත්වයක්': 'මානසිකත්වයක', 'සිටින්න': 'සිටින්', 'කබ්බොන්ගෙන්': 'කබ්බොන්ගෙන', 'කමකුත්': 'කමකුත', 'මිතුරනි': 'මිතුර', 'හැමෝගෙන්ම': 'හැමෝ', 'එකමුතු': 'එකමුත', 'තරගයටත්': 'තරගයටත', 'ඇන්ගල්': 'ඇන්ගල', 'හැදුනා': 'හැදු', 'මචන': 'මච', 'කොලිටියට': 'කොලිටිය', 'කැමරාවයි': 'කැමරාව', 'ලෙන්ස්': 'ලෙන්ස', 'කියන්නකො': 'කියන්නක', 'ඈන්ගල්': 'ඈන්ගල', 'කැමරාවකින්ද': 'කැමරාවකින්', 'කින්ද': 'කින්', 'ෆිෆ්ටියක්': 'ෆිෆ්ටියක', 'නාදගමේ': 'නාදග', 'කම්පා': 'කම්ප', 'නොවන්': 'නොවන', 'මහමායා': 'මහමා', 'දාන්නකෝ': 'දාන්නක', 'හිරිවැටිලා': 'හිරිවැටි', 'සුපිරියටන': 'සුපිරියට', 'නිසල්': 'නිසල', 'රසාද්': 'රසාද', 'ලස්සනටම': 'ලස්සන', 'එඩිටින්': 'එඩිටින', 'අන්ගල්': 'අන්ගල', 'රර්ථනා': 'රර්ථ', 'හම්බෙලා': 'හම්බෙ', 'තියෙනවනම්': 'තියෙනවනම', 'ගමනේ': 'ගමන', 'මුදුනටම': 'මුදුන', 'කොලෙටියක්': 'කොලෙටියක', 'ඒතරම්ම': 'ඒතරම්', 'කැත්': 'කැත', 'තක්': 'තක', 'වලියක්ලු': 'වලියක්ල', 'ලතෝ': 'ලත', 'සුහදව': 'සුහද', 'දේශය': 'දේශ', 'ලයිවු': 'ලයිව', 'තේරැනා': 'තේරැ', 'පැසී': 'පැස', 'අපහසුතාවයට': 'අපහසුතාවය', 'පත්වුනා': 'පත්වු', 'අමිමා': 'අමිම', 'ජයෙන්': 'ජයෙන', 'පෙන්ඩ්ස්': 'පෙන්ඩ්ස', 'කරන්නකො': 'කරන්නක', 'කටවහක්': 'කටවහක', 'ඔයාලා': 'ඔයා', 'ධෛර්යය': 'ධෛර්ය', 'රෙඩියෝ': 'රෙඩි', 'ඩබල': 'ඩබ', 'අහනවා': 'අහ', 'djඅරා': 'djඅර', 'පැස්බරා': 'පැස්බර', 'දෙමව්පියන්ව': 'දෙමව්පියන්'}\n"
          ]
        },
        {
          "output_type": "stream",
          "name": "stderr",
          "text": [
            "<ipython-input-8-7d8504a95fa5>:8: SettingWithCopyWarning: \n",
            "A value is trying to be set on a copy of a slice from a DataFrame\n",
            "\n",
            "See the caveats in the documentation: https://pandas.pydata.org/pandas-docs/stable/user_guide/indexing.html#returning-a-view-versus-a-copy\n",
            "  dataframe['Phrase'][itm] = ( \" \".join( words_arr ))\n"
          ]
        }
      ]
    },
    {
      "cell_type": "code",
      "source": [
        "df_Stemming_Sinhala"
      ],
      "metadata": {
        "colab": {
          "base_uri": "https://localhost:8080/",
          "height": 423
        },
        "id": "U6q_8U-2fkGR",
        "outputId": "8adda466-9130-4e50-c5f5-8dddfbd14f3b"
      },
      "execution_count": null,
      "outputs": [
        {
          "output_type": "execute_result",
          "data": {
            "text/plain": [
              "      PhraseNo                                             Phrase IsHateSpeech\n",
              "0            1  බැල්ලි කොටින් ග කනකො අපහසුවක දැනුන දන ඔ මිනිහ ...          YES\n",
              "1            2  මන ඊ මුස්ලිම ඩෑල එකක සෙල්ෆියක ගත්ත සහජීවන රැකග...          YES\n",
              "2            3                                 සංහිදියාව අවුලක වෙ           NO\n",
              "3            4    කටින පුරසාරම දොඩ අපි සිංහලය විදිය ලැජ්ජ වි යුතු          YES\n",
              "4            5  මචන මගු නවත්ත කොන්දක තියෙනවානම පුලුවන්නම කර පෙ...          YES\n",
              "...        ...                                                ...          ...\n",
              "1806      1807  දෙන් එකත වෙ tv program එකක කරන්නක තිය talent ඒ...           NO\n",
              "1807      1808      මො කිව්වත ඔයා දෙන්න කටවල දෙ ගහන් ලංකා කටක පට්           NO\n",
              "1808      1809  ඇස්වහ කටවහක ඔයා දෙනා හැමදාමත අපි සතුටින තියන් ...           NO\n",
              "1809      1810  මුන දෙන් රෙඩි එ සුපිරි ඩබ හිර ඉන් කාල ඉදන අහ d...           NO\n",
              "1810      1811  ane manda joke eka hodai eth wadu දෙමව්පියන් ව...           NO\n",
              "\n",
              "[1811 rows x 3 columns]"
            ],
            "text/html": [
              "\n",
              "  <div id=\"df-6bbf7b42-a149-4d9e-9704-6bd314d43fb4\" class=\"colab-df-container\">\n",
              "    <div>\n",
              "<style scoped>\n",
              "    .dataframe tbody tr th:only-of-type {\n",
              "        vertical-align: middle;\n",
              "    }\n",
              "\n",
              "    .dataframe tbody tr th {\n",
              "        vertical-align: top;\n",
              "    }\n",
              "\n",
              "    .dataframe thead th {\n",
              "        text-align: right;\n",
              "    }\n",
              "</style>\n",
              "<table border=\"1\" class=\"dataframe\">\n",
              "  <thead>\n",
              "    <tr style=\"text-align: right;\">\n",
              "      <th></th>\n",
              "      <th>PhraseNo</th>\n",
              "      <th>Phrase</th>\n",
              "      <th>IsHateSpeech</th>\n",
              "    </tr>\n",
              "  </thead>\n",
              "  <tbody>\n",
              "    <tr>\n",
              "      <th>0</th>\n",
              "      <td>1</td>\n",
              "      <td>බැල්ලි කොටින් ග කනකො අපහසුවක දැනුන දන ඔ මිනිහ ...</td>\n",
              "      <td>YES</td>\n",
              "    </tr>\n",
              "    <tr>\n",
              "      <th>1</th>\n",
              "      <td>2</td>\n",
              "      <td>මන ඊ මුස්ලිම ඩෑල එකක සෙල්ෆියක ගත්ත සහජීවන රැකග...</td>\n",
              "      <td>YES</td>\n",
              "    </tr>\n",
              "    <tr>\n",
              "      <th>2</th>\n",
              "      <td>3</td>\n",
              "      <td>සංහිදියාව අවුලක වෙ</td>\n",
              "      <td>NO</td>\n",
              "    </tr>\n",
              "    <tr>\n",
              "      <th>3</th>\n",
              "      <td>4</td>\n",
              "      <td>කටින පුරසාරම දොඩ අපි සිංහලය විදිය ලැජ්ජ වි යුතු</td>\n",
              "      <td>YES</td>\n",
              "    </tr>\n",
              "    <tr>\n",
              "      <th>4</th>\n",
              "      <td>5</td>\n",
              "      <td>මචන මගු නවත්ත කොන්දක තියෙනවානම පුලුවන්නම කර පෙ...</td>\n",
              "      <td>YES</td>\n",
              "    </tr>\n",
              "    <tr>\n",
              "      <th>...</th>\n",
              "      <td>...</td>\n",
              "      <td>...</td>\n",
              "      <td>...</td>\n",
              "    </tr>\n",
              "    <tr>\n",
              "      <th>1806</th>\n",
              "      <td>1807</td>\n",
              "      <td>දෙන් එකත වෙ tv program එකක කරන්නක තිය talent ඒ...</td>\n",
              "      <td>NO</td>\n",
              "    </tr>\n",
              "    <tr>\n",
              "      <th>1807</th>\n",
              "      <td>1808</td>\n",
              "      <td>මො කිව්වත ඔයා දෙන්න කටවල දෙ ගහන් ලංකා කටක පට්</td>\n",
              "      <td>NO</td>\n",
              "    </tr>\n",
              "    <tr>\n",
              "      <th>1808</th>\n",
              "      <td>1809</td>\n",
              "      <td>ඇස්වහ කටවහක ඔයා දෙනා හැමදාමත අපි සතුටින තියන් ...</td>\n",
              "      <td>NO</td>\n",
              "    </tr>\n",
              "    <tr>\n",
              "      <th>1809</th>\n",
              "      <td>1810</td>\n",
              "      <td>මුන දෙන් රෙඩි එ සුපිරි ඩබ හිර ඉන් කාල ඉදන අහ d...</td>\n",
              "      <td>NO</td>\n",
              "    </tr>\n",
              "    <tr>\n",
              "      <th>1810</th>\n",
              "      <td>1811</td>\n",
              "      <td>ane manda joke eka hodai eth wadu දෙමව්පියන් ව...</td>\n",
              "      <td>NO</td>\n",
              "    </tr>\n",
              "  </tbody>\n",
              "</table>\n",
              "<p>1811 rows × 3 columns</p>\n",
              "</div>\n",
              "    <div class=\"colab-df-buttons\">\n",
              "\n",
              "  <div class=\"colab-df-container\">\n",
              "    <button class=\"colab-df-convert\" onclick=\"convertToInteractive('df-6bbf7b42-a149-4d9e-9704-6bd314d43fb4')\"\n",
              "            title=\"Convert this dataframe to an interactive table.\"\n",
              "            style=\"display:none;\">\n",
              "\n",
              "  <svg xmlns=\"http://www.w3.org/2000/svg\" height=\"24px\" viewBox=\"0 -960 960 960\">\n",
              "    <path d=\"M120-120v-720h720v720H120Zm60-500h600v-160H180v160Zm220 220h160v-160H400v160Zm0 220h160v-160H400v160ZM180-400h160v-160H180v160Zm440 0h160v-160H620v160ZM180-180h160v-160H180v160Zm440 0h160v-160H620v160Z\"/>\n",
              "  </svg>\n",
              "    </button>\n",
              "\n",
              "  <style>\n",
              "    .colab-df-container {\n",
              "      display:flex;\n",
              "      gap: 12px;\n",
              "    }\n",
              "\n",
              "    .colab-df-convert {\n",
              "      background-color: #E8F0FE;\n",
              "      border: none;\n",
              "      border-radius: 50%;\n",
              "      cursor: pointer;\n",
              "      display: none;\n",
              "      fill: #1967D2;\n",
              "      height: 32px;\n",
              "      padding: 0 0 0 0;\n",
              "      width: 32px;\n",
              "    }\n",
              "\n",
              "    .colab-df-convert:hover {\n",
              "      background-color: #E2EBFA;\n",
              "      box-shadow: 0px 1px 2px rgba(60, 64, 67, 0.3), 0px 1px 3px 1px rgba(60, 64, 67, 0.15);\n",
              "      fill: #174EA6;\n",
              "    }\n",
              "\n",
              "    .colab-df-buttons div {\n",
              "      margin-bottom: 4px;\n",
              "    }\n",
              "\n",
              "    [theme=dark] .colab-df-convert {\n",
              "      background-color: #3B4455;\n",
              "      fill: #D2E3FC;\n",
              "    }\n",
              "\n",
              "    [theme=dark] .colab-df-convert:hover {\n",
              "      background-color: #434B5C;\n",
              "      box-shadow: 0px 1px 3px 1px rgba(0, 0, 0, 0.15);\n",
              "      filter: drop-shadow(0px 1px 2px rgba(0, 0, 0, 0.3));\n",
              "      fill: #FFFFFF;\n",
              "    }\n",
              "  </style>\n",
              "\n",
              "    <script>\n",
              "      const buttonEl =\n",
              "        document.querySelector('#df-6bbf7b42-a149-4d9e-9704-6bd314d43fb4 button.colab-df-convert');\n",
              "      buttonEl.style.display =\n",
              "        google.colab.kernel.accessAllowed ? 'block' : 'none';\n",
              "\n",
              "      async function convertToInteractive(key) {\n",
              "        const element = document.querySelector('#df-6bbf7b42-a149-4d9e-9704-6bd314d43fb4');\n",
              "        const dataTable =\n",
              "          await google.colab.kernel.invokeFunction('convertToInteractive',\n",
              "                                                    [key], {});\n",
              "        if (!dataTable) return;\n",
              "\n",
              "        const docLinkHtml = 'Like what you see? Visit the ' +\n",
              "          '<a target=\"_blank\" href=https://colab.research.google.com/notebooks/data_table.ipynb>data table notebook</a>'\n",
              "          + ' to learn more about interactive tables.';\n",
              "        element.innerHTML = '';\n",
              "        dataTable['output_type'] = 'display_data';\n",
              "        await google.colab.output.renderOutput(dataTable, element);\n",
              "        const docLink = document.createElement('div');\n",
              "        docLink.innerHTML = docLinkHtml;\n",
              "        element.appendChild(docLink);\n",
              "      }\n",
              "    </script>\n",
              "  </div>\n",
              "\n",
              "\n",
              "<div id=\"df-58c157b9-ebd5-47ca-9969-8221fdc524ce\">\n",
              "  <button class=\"colab-df-quickchart\" onclick=\"quickchart('df-58c157b9-ebd5-47ca-9969-8221fdc524ce')\"\n",
              "            title=\"Suggest charts.\"\n",
              "            style=\"display:none;\">\n",
              "\n",
              "<svg xmlns=\"http://www.w3.org/2000/svg\" height=\"24px\"viewBox=\"0 0 24 24\"\n",
              "     width=\"24px\">\n",
              "    <g>\n",
              "        <path d=\"M19 3H5c-1.1 0-2 .9-2 2v14c0 1.1.9 2 2 2h14c1.1 0 2-.9 2-2V5c0-1.1-.9-2-2-2zM9 17H7v-7h2v7zm4 0h-2V7h2v10zm4 0h-2v-4h2v4z\"/>\n",
              "    </g>\n",
              "</svg>\n",
              "  </button>\n",
              "\n",
              "<style>\n",
              "  .colab-df-quickchart {\n",
              "    background-color: #E8F0FE;\n",
              "    border: none;\n",
              "    border-radius: 50%;\n",
              "    cursor: pointer;\n",
              "    display: none;\n",
              "    fill: #1967D2;\n",
              "    height: 32px;\n",
              "    padding: 0 0 0 0;\n",
              "    width: 32px;\n",
              "  }\n",
              "\n",
              "  .colab-df-quickchart:hover {\n",
              "    background-color: #E2EBFA;\n",
              "    box-shadow: 0px 1px 2px rgba(60, 64, 67, 0.3), 0px 1px 3px 1px rgba(60, 64, 67, 0.15);\n",
              "    fill: #174EA6;\n",
              "  }\n",
              "\n",
              "  [theme=dark] .colab-df-quickchart {\n",
              "    background-color: #3B4455;\n",
              "    fill: #D2E3FC;\n",
              "  }\n",
              "\n",
              "  [theme=dark] .colab-df-quickchart:hover {\n",
              "    background-color: #434B5C;\n",
              "    box-shadow: 0px 1px 3px 1px rgba(0, 0, 0, 0.15);\n",
              "    filter: drop-shadow(0px 1px 2px rgba(0, 0, 0, 0.3));\n",
              "    fill: #FFFFFF;\n",
              "  }\n",
              "</style>\n",
              "\n",
              "  <script>\n",
              "    async function quickchart(key) {\n",
              "      const charts = await google.colab.kernel.invokeFunction(\n",
              "          'suggestCharts', [key], {});\n",
              "    }\n",
              "    (() => {\n",
              "      let quickchartButtonEl =\n",
              "        document.querySelector('#df-58c157b9-ebd5-47ca-9969-8221fdc524ce button');\n",
              "      quickchartButtonEl.style.display =\n",
              "        google.colab.kernel.accessAllowed ? 'block' : 'none';\n",
              "    })();\n",
              "  </script>\n",
              "</div>\n",
              "    </div>\n",
              "  </div>\n"
            ]
          },
          "metadata": {},
          "execution_count": 30
        }
      ]
    },
    {
      "cell_type": "code",
      "source": [
        "\n",
        "from sklearn.model_selection import train_test_split\n",
        "\n",
        "X = df_Stemming_Sinhala[\"Phrase\"]\n",
        "y = df_Stemming_Sinhala[\"IsHateSpeech\"]\n",
        "X_train, X_test, y_train, y_test = train_test_split(\n",
        "    X,y, test_size = 0.2, random_state = 0)\n"
      ],
      "metadata": {
        "id": "hn3vIk44fnZS"
      },
      "execution_count": null,
      "outputs": []
    },
    {
      "cell_type": "code",
      "source": [
        "def create_bag_of_words(X):\n",
        "    from sklearn.feature_extraction.text import CountVectorizer\n",
        "\n",
        "    print ('Creating bag of words...')\n",
        "    # Initialize the \"CountVectorizer\" object\n",
        "\n",
        "    # In this example features may be single words or two consecutive words\n",
        "    vectorizer = CountVectorizer()\n",
        "\n",
        "\n",
        "    train_data_features = vectorizer.fit_transform(X)\n",
        "\n",
        "    # Convert to a NumPy array for easy of handling\n",
        "    train_data_features = train_data_features.toarray()\n",
        "\n",
        "    # Take a look at the words in the vocabulary\n",
        "    vocab = vectorizer.get_feature_names_out()\n",
        "    print ('Created')\n",
        "    return vectorizer, vocab, train_data_features"
      ],
      "metadata": {
        "id": "RPTZn_AmfqMS"
      },
      "execution_count": null,
      "outputs": []
    },
    {
      "cell_type": "code",
      "source": [
        "vectorizer, vocab, train_data_features  = (\n",
        "        create_bag_of_words(X_train))"
      ],
      "metadata": {
        "colab": {
          "base_uri": "https://localhost:8080/"
        },
        "id": "DE581G9tfs-u",
        "outputId": "68ba96f7-0419-4fe7-ec19-e6187d5e87b3"
      },
      "execution_count": null,
      "outputs": [
        {
          "output_type": "stream",
          "name": "stdout",
          "text": [
            "Creating bag of words...\n",
            "Created\n"
          ]
        }
      ]
    },
    {
      "cell_type": "code",
      "source": [
        "vocab\n"
      ],
      "metadata": {
        "colab": {
          "base_uri": "https://localhost:8080/"
        },
        "id": "_ocNaUkifwFc",
        "outputId": "0b1a5af5-5bb1-46c8-e931-62aeacd8fabb"
      },
      "execution_count": null,
      "outputs": [
        {
          "output_type": "execute_result",
          "data": {
            "text/plain": [
              "array(['00', '000', '000ක', ..., 'ෆය', 'ෆරල', 'ෆල'], dtype=object)"
            ]
          },
          "metadata": {},
          "execution_count": 36
        }
      ]
    },
    {
      "cell_type": "code",
      "source": [
        "train_data_features"
      ],
      "metadata": {
        "colab": {
          "base_uri": "https://localhost:8080/"
        },
        "id": "z7r8hgcPjZOX",
        "outputId": "97a7ffb6-bd80-41d3-ba0d-57c142b37c0c"
      },
      "execution_count": null,
      "outputs": [
        {
          "output_type": "execute_result",
          "data": {
            "text/plain": [
              "array([[0, 0, 0, ..., 0, 0, 0],\n",
              "       [0, 0, 0, ..., 0, 0, 0],\n",
              "       [0, 0, 0, ..., 0, 0, 0],\n",
              "       ...,\n",
              "       [0, 0, 0, ..., 0, 0, 0],\n",
              "       [0, 0, 0, ..., 0, 0, 0],\n",
              "       [0, 0, 0, ..., 0, 0, 0]])"
            ]
          },
          "metadata": {},
          "execution_count": 37
        }
      ]
    },
    {
      "cell_type": "code",
      "source": [
        "def train_logistic_regression(features, label):\n",
        "    print (\"Training model........\")\n",
        "    from sklearn.linear_model import LogisticRegression\n",
        "    #ml_model = LogisticRegression(C = 100,random_state = 0)\n",
        "    ml_model = LogisticRegression()\n",
        "    ml_model.fit(features, label)\n",
        "    print ('Created')\n",
        "    return ml_model"
      ],
      "metadata": {
        "id": "3isVEkZ_jbsW"
      },
      "execution_count": null,
      "outputs": []
    },
    {
      "cell_type": "code",
      "source": [
        "def generateModel(vectorizer,train_data_featres,train_data,test_data):\n",
        "    ml_modelp = train_logistic_regression(train_data_featres, train_data)\n",
        "\n",
        "    ml_model_before = ml_modelp\n",
        "    test_data_featuresp = vectorizer.transform(test_data)\n",
        "    # Convert to numpy array\n",
        "    test_data_featuresp = test_data_featuresp.toarray()\n",
        "\n",
        "    predicted_modl = ml_modelp.predict(test_data_featuresp)\n",
        "\n",
        "    return ml_model_before,predicted_modl"
      ],
      "metadata": {
        "id": "FXBK56R2jd-g"
      },
      "execution_count": null,
      "outputs": []
    },
    {
      "cell_type": "code",
      "source": [
        "ml_model_before_1,predicdedModel_1 = generateModel(vectorizer,train_data_features,y_train,X_test)"
      ],
      "metadata": {
        "colab": {
          "base_uri": "https://localhost:8080/"
        },
        "id": "mkpsZ7_QjgOQ",
        "outputId": "e54902be-88c0-4064-86b9-4d58b4f76cbe"
      },
      "execution_count": null,
      "outputs": [
        {
          "output_type": "stream",
          "name": "stdout",
          "text": [
            "Training model........\n",
            "Created\n"
          ]
        }
      ]
    },
    {
      "cell_type": "code",
      "source": [
        "from sklearn import metrics\n",
        "from sklearn.metrics import confusion_matrix\n",
        "import numpy as np\n",
        "\n",
        "# Define function to calculate the 4 common mertics\n",
        "def get_metrics(true_labels, predicted_labels):\n",
        "    correctly_identified_y = predicted_labels == true_labels\n",
        "\n",
        "    print(\"Confusion metrix: \")\n",
        "    confusion_met = confusion_matrix(true_labels, predicted_labels)\n",
        "    print(confusion_met)\n",
        "    print()\n",
        "\n",
        "    accuracy = np.mean(correctly_identified_y) * 100\n",
        "    print ('Accuracy = %.0f%%' %accuracy)\n",
        "\n",
        "    precision = (confusion_met[0][0]/(confusion_met[0][0]+confusion_met[1][0]))* 100\n",
        "    print ('precision = %.1f%%' %precision)\n",
        "\n",
        "    recall = (confusion_met[0][0]/(confusion_met[0][0]+confusion_met[0][1]))* 100\n",
        "    print ('recall = %.1f%%' %recall)\n",
        "\n",
        "    F1_Score = 2*((precision*recall)/(precision+recall))\n",
        "    print ('F1 Score = %.1f%%' %F1_Score)"
      ],
      "metadata": {
        "id": "yTE3VYGPjihv"
      },
      "execution_count": null,
      "outputs": []
    },
    {
      "cell_type": "code",
      "source": [
        "get_metrics(y_test,predicdedModel_1)"
      ],
      "metadata": {
        "colab": {
          "base_uri": "https://localhost:8080/"
        },
        "id": "Rv4NIQ0qjkrl",
        "outputId": "f94b6b6c-3c3c-4f26-f250-4717345903ee"
      },
      "execution_count": null,
      "outputs": [
        {
          "output_type": "stream",
          "name": "stdout",
          "text": [
            "Confusion metrix: \n",
            "[[146  39]\n",
            " [ 65 113]]\n",
            "\n",
            "Accuracy = 71%\n",
            "precision = 69.2%\n",
            "recall = 78.9%\n",
            "F1 Score = 73.7%\n"
          ]
        }
      ]
    },
    {
      "cell_type": "code",
      "source": [
        "SinglishData = df_Singlish"
      ],
      "metadata": {
        "id": "Lpmz7xMEjnPY"
      },
      "execution_count": null,
      "outputs": []
    },
    {
      "cell_type": "code",
      "source": [
        "df_Singlish_unique = pd.DataFrame(columns=['PhraseNo', 'Phrase', 'IsHateSpeech'])\n",
        "prev_lengths_arr_singlish = []\n",
        "after_unique_arr_singlish = []\n",
        "\n",
        "for r in range(SinglishData.shape[0]):\n",
        "     Sentence_singlish = word_tokenize(SinglishData['Phrase'][r])\n",
        "     prev_lengths_arr_singlish.append(len(Sentence_singlish))\n",
        "     unique_sentence = getUniqueTokens(Sentence_singlish)\n",
        "     df_Singlish_unique.loc[r] = [r+1] + [unique_sentence] + [SinglishData['IsHateSpeech'][r]]\n",
        "\n",
        "     after_unique_arr_singlish.append(len(unique_sentence))\n",
        "\n",
        "joinWordsIntoSentence(df_Singlish_unique)"
      ],
      "metadata": {
        "colab": {
          "base_uri": "https://localhost:8080/"
        },
        "id": "du3RbJUvjvmY",
        "outputId": "27ab4830-12d8-4268-a0e1-a68dff7822af"
      },
      "execution_count": null,
      "outputs": [
        {
          "output_type": "stream",
          "name": "stderr",
          "text": [
            "<ipython-input-8-7d8504a95fa5>:8: SettingWithCopyWarning: \n",
            "A value is trying to be set on a copy of a slice from a DataFrame\n",
            "\n",
            "See the caveats in the documentation: https://pandas.pydata.org/pandas-docs/stable/user_guide/indexing.html#returning-a-view-versus-a-copy\n",
            "  dataframe['Phrase'][itm] = ( \" \".join( words_arr ))\n"
          ]
        }
      ]
    },
    {
      "cell_type": "code",
      "source": [
        "preLenghts = prev_lengths_arr_singlish\n",
        "afterLenghts = after_unique_arr_singlish\n",
        "\n",
        "arr3 = []\n",
        "for i in range(len(preLenghts)):\n",
        "    ar_i = []\n",
        "    ar_i.append(preLenghts[i])\n",
        "    ar_i.append(afterLenghts[i])\n",
        "    arr3.append(ar_i)\n",
        "\n",
        "\n",
        "import numpy as np\n",
        "myarray3 = np.asarray(arr3)\n",
        "\n",
        "\n",
        "\n",
        "import matplotlib.pyplot as plt\n",
        "\n",
        "np.random.seed(19680801)\n",
        "\n",
        "n_bins = 30\n",
        "x = np.random.randn(1000, 3)\n",
        "\n",
        "fig, axes = plt.subplots(nrows=1, ncols=1,figsize=(12, 7))\n",
        "\n",
        "\n",
        "labels = ['unique','not unique']\n",
        "\n",
        "axes.hist(myarray3, n_bins, density=True, histtype='bar', stacked=True,label=labels)\n",
        "axes.set_title('sentences(before and after stopwordsremoval)')\n",
        "\n",
        "fig.tight_layout()\n",
        "plt.show()"
      ],
      "metadata": {
        "colab": {
          "base_uri": "https://localhost:8080/",
          "height": 707
        },
        "id": "aqv-vtHwjx5v",
        "outputId": "a5de377c-6588-4c3c-a36d-22f535832fc1"
      },
      "execution_count": null,
      "outputs": [
        {
          "output_type": "display_data",
          "data": {
            "text/plain": [
              "<Figure size 1200x700 with 1 Axes>"
            ],
            "image/png": "[encoded data removed]"
          },
          "metadata": {}
        }
      ]
    },
    {
      "cell_type": "code",
      "source": [
        "df_Singlish_unique"
      ],
      "metadata": {
        "colab": {
          "base_uri": "https://localhost:8080/",
          "height": 423
        },
        "id": "mDQZIC3uj0bQ",
        "outputId": "18504ccc-4607-4f8b-ef9f-6f73b7fd8493"
      },
      "execution_count": null,
      "outputs": [
        {
          "output_type": "execute_result",
          "data": {
            "text/plain": [
              "     PhraseNo                                             Phrase IsHateSpeech\n",
              "0           1  inna manussayo thunema wala karala wenawa tika...          YES\n",
              "1           2  daruwan bat nethi epa atha thiyena oka nokaran...          YES\n",
              "2           3  mukuth unta muth witharai na ganan koti sadda ...          YES\n",
              "3           4  buruwo edapan kanna thiyana songs nikan epa ba...          YES\n",
              "4           5  akenma karanam set nanna yanawa walata ground ...          YES\n",
              "..        ...                                                ...          ...\n",
              "684       685               kunu witharai nathi harapa kiwwe eka           NO\n",
              "685       686         balnna tok mawa athal tik karnna subscribe           NO\n",
              "686       687                 me kama tiyena latha mokada kuhaka           NO\n",
              "687       688                 aiyooo appa husmath ape hirawenawa           NO\n",
              "688       689                  wela niyamai badath ridanawa hina           NO\n",
              "\n",
              "[689 rows x 3 columns]"
            ],
            "text/html": [
              "\n",
              "  <div id=\"df-a58461a9-6aa5-42d0-aa33-e0360d3459aa\" class=\"colab-df-container\">\n",
              "    <div>\n",
              "<style scoped>\n",
              "    .dataframe tbody tr th:only-of-type {\n",
              "        vertical-align: middle;\n",
              "    }\n",
              "\n",
              "    .dataframe tbody tr th {\n",
              "        vertical-align: top;\n",
              "    }\n",
              "\n",
              "    .dataframe thead th {\n",
              "        text-align: right;\n",
              "    }\n",
              "</style>\n",
              "<table border=\"1\" class=\"dataframe\">\n",
              "  <thead>\n",
              "    <tr style=\"text-align: right;\">\n",
              "      <th></th>\n",
              "      <th>PhraseNo</th>\n",
              "      <th>Phrase</th>\n",
              "      <th>IsHateSpeech</th>\n",
              "    </tr>\n",
              "  </thead>\n",
              "  <tbody>\n",
              "    <tr>\n",
              "      <th>0</th>\n",
              "      <td>1</td>\n",
              "      <td>inna manussayo thunema wala karala wenawa tika...</td>\n",
              "      <td>YES</td>\n",
              "    </tr>\n",
              "    <tr>\n",
              "      <th>1</th>\n",
              "      <td>2</td>\n",
              "      <td>daruwan bat nethi epa atha thiyena oka nokaran...</td>\n",
              "      <td>YES</td>\n",
              "    </tr>\n",
              "    <tr>\n",
              "      <th>2</th>\n",
              "      <td>3</td>\n",
              "      <td>mukuth unta muth witharai na ganan koti sadda ...</td>\n",
              "      <td>YES</td>\n",
              "    </tr>\n",
              "    <tr>\n",
              "      <th>3</th>\n",
              "      <td>4</td>\n",
              "      <td>buruwo edapan kanna thiyana songs nikan epa ba...</td>\n",
              "      <td>YES</td>\n",
              "    </tr>\n",
              "    <tr>\n",
              "      <th>4</th>\n",
              "      <td>5</td>\n",
              "      <td>akenma karanam set nanna yanawa walata ground ...</td>\n",
              "      <td>YES</td>\n",
              "    </tr>\n",
              "    <tr>\n",
              "      <th>...</th>\n",
              "      <td>...</td>\n",
              "      <td>...</td>\n",
              "      <td>...</td>\n",
              "    </tr>\n",
              "    <tr>\n",
              "      <th>684</th>\n",
              "      <td>685</td>\n",
              "      <td>kunu witharai nathi harapa kiwwe eka</td>\n",
              "      <td>NO</td>\n",
              "    </tr>\n",
              "    <tr>\n",
              "      <th>685</th>\n",
              "      <td>686</td>\n",
              "      <td>balnna tok mawa athal tik karnna subscribe</td>\n",
              "      <td>NO</td>\n",
              "    </tr>\n",
              "    <tr>\n",
              "      <th>686</th>\n",
              "      <td>687</td>\n",
              "      <td>me kama tiyena latha mokada kuhaka</td>\n",
              "      <td>NO</td>\n",
              "    </tr>\n",
              "    <tr>\n",
              "      <th>687</th>\n",
              "      <td>688</td>\n",
              "      <td>aiyooo appa husmath ape hirawenawa</td>\n",
              "      <td>NO</td>\n",
              "    </tr>\n",
              "    <tr>\n",
              "      <th>688</th>\n",
              "      <td>689</td>\n",
              "      <td>wela niyamai badath ridanawa hina</td>\n",
              "      <td>NO</td>\n",
              "    </tr>\n",
              "  </tbody>\n",
              "</table>\n",
              "<p>689 rows × 3 columns</p>\n",
              "</div>\n",
              "    <div class=\"colab-df-buttons\">\n",
              "\n",
              "  <div class=\"colab-df-container\">\n",
              "    <button class=\"colab-df-convert\" onclick=\"convertToInteractive('df-a58461a9-6aa5-42d0-aa33-e0360d3459aa')\"\n",
              "            title=\"Convert this dataframe to an interactive table.\"\n",
              "            style=\"display:none;\">\n",
              "\n",
              "  <svg xmlns=\"http://www.w3.org/2000/svg\" height=\"24px\" viewBox=\"0 -960 960 960\">\n",
              "    <path d=\"M120-120v-720h720v720H120Zm60-500h600v-160H180v160Zm220 220h160v-160H400v160Zm0 220h160v-160H400v160ZM180-400h160v-160H180v160Zm440 0h160v-160H620v160ZM180-180h160v-160H180v160Zm440 0h160v-160H620v160Z\"/>\n",
              "  </svg>\n",
              "    </button>\n",
              "\n",
              "  <style>\n",
              "    .colab-df-container {\n",
              "      display:flex;\n",
              "      gap: 12px;\n",
              "    }\n",
              "\n",
              "    .colab-df-convert {\n",
              "      background-color: #E8F0FE;\n",
              "      border: none;\n",
              "      border-radius: 50%;\n",
              "      cursor: pointer;\n",
              "      display: none;\n",
              "      fill: #1967D2;\n",
              "      height: 32px;\n",
              "      padding: 0 0 0 0;\n",
              "      width: 32px;\n",
              "    }\n",
              "\n",
              "    .colab-df-convert:hover {\n",
              "      background-color: #E2EBFA;\n",
              "      box-shadow: 0px 1px 2px rgba(60, 64, 67, 0.3), 0px 1px 3px 1px rgba(60, 64, 67, 0.15);\n",
              "      fill: #174EA6;\n",
              "    }\n",
              "\n",
              "    .colab-df-buttons div {\n",
              "      margin-bottom: 4px;\n",
              "    }\n",
              "\n",
              "    [theme=dark] .colab-df-convert {\n",
              "      background-color: #3B4455;\n",
              "      fill: #D2E3FC;\n",
              "    }\n",
              "\n",
              "    [theme=dark] .colab-df-convert:hover {\n",
              "      background-color: #434B5C;\n",
              "      box-shadow: 0px 1px 3px 1px rgba(0, 0, 0, 0.15);\n",
              "      filter: drop-shadow(0px 1px 2px rgba(0, 0, 0, 0.3));\n",
              "      fill: #FFFFFF;\n",
              "    }\n",
              "  </style>\n",
              "\n",
              "    <script>\n",
              "      const buttonEl =\n",
              "        document.querySelector('#df-a58461a9-6aa5-42d0-aa33-e0360d3459aa button.colab-df-convert');\n",
              "      buttonEl.style.display =\n",
              "        google.colab.kernel.accessAllowed ? 'block' : 'none';\n",
              "\n",
              "      async function convertToInteractive(key) {\n",
              "        const element = document.querySelector('#df-a58461a9-6aa5-42d0-aa33-e0360d3459aa');\n",
              "        const dataTable =\n",
              "          await google.colab.kernel.invokeFunction('convertToInteractive',\n",
              "                                                    [key], {});\n",
              "        if (!dataTable) return;\n",
              "\n",
              "        const docLinkHtml = 'Like what you see? Visit the ' +\n",
              "          '<a target=\"_blank\" href=https://colab.research.google.com/notebooks/data_table.ipynb>data table notebook</a>'\n",
              "          + ' to learn more about interactive tables.';\n",
              "        element.innerHTML = '';\n",
              "        dataTable['output_type'] = 'display_data';\n",
              "        await google.colab.output.renderOutput(dataTable, element);\n",
              "        const docLink = document.createElement('div');\n",
              "        docLink.innerHTML = docLinkHtml;\n",
              "        element.appendChild(docLink);\n",
              "      }\n",
              "    </script>\n",
              "  </div>\n",
              "\n",
              "\n",
              "<div id=\"df-9d31cda3-408f-40a9-a528-3122887e8d31\">\n",
              "  <button class=\"colab-df-quickchart\" onclick=\"quickchart('df-9d31cda3-408f-40a9-a528-3122887e8d31')\"\n",
              "            title=\"Suggest charts.\"\n",
              "            style=\"display:none;\">\n",
              "\n",
              "<svg xmlns=\"http://www.w3.org/2000/svg\" height=\"24px\"viewBox=\"0 0 24 24\"\n",
              "     width=\"24px\">\n",
              "    <g>\n",
              "        <path d=\"M19 3H5c-1.1 0-2 .9-2 2v14c0 1.1.9 2 2 2h14c1.1 0 2-.9 2-2V5c0-1.1-.9-2-2-2zM9 17H7v-7h2v7zm4 0h-2V7h2v10zm4 0h-2v-4h2v4z\"/>\n",
              "    </g>\n",
              "</svg>\n",
              "  </button>\n",
              "\n",
              "<style>\n",
              "  .colab-df-quickchart {\n",
              "    background-color: #E8F0FE;\n",
              "    border: none;\n",
              "    border-radius: 50%;\n",
              "    cursor: pointer;\n",
              "    display: none;\n",
              "    fill: #1967D2;\n",
              "    height: 32px;\n",
              "    padding: 0 0 0 0;\n",
              "    width: 32px;\n",
              "  }\n",
              "\n",
              "  .colab-df-quickchart:hover {\n",
              "    background-color: #E2EBFA;\n",
              "    box-shadow: 0px 1px 2px rgba(60, 64, 67, 0.3), 0px 1px 3px 1px rgba(60, 64, 67, 0.15);\n",
              "    fill: #174EA6;\n",
              "  }\n",
              "\n",
              "  [theme=dark] .colab-df-quickchart {\n",
              "    background-color: #3B4455;\n",
              "    fill: #D2E3FC;\n",
              "  }\n",
              "\n",
              "  [theme=dark] .colab-df-quickchart:hover {\n",
              "    background-color: #434B5C;\n",
              "    box-shadow: 0px 1px 3px 1px rgba(0, 0, 0, 0.15);\n",
              "    filter: drop-shadow(0px 1px 2px rgba(0, 0, 0, 0.3));\n",
              "    fill: #FFFFFF;\n",
              "  }\n",
              "</style>\n",
              "\n",
              "  <script>\n",
              "    async function quickchart(key) {\n",
              "      const charts = await google.colab.kernel.invokeFunction(\n",
              "          'suggestCharts', [key], {});\n",
              "    }\n",
              "    (() => {\n",
              "      let quickchartButtonEl =\n",
              "        document.querySelector('#df-9d31cda3-408f-40a9-a528-3122887e8d31 button');\n",
              "      quickchartButtonEl.style.display =\n",
              "        google.colab.kernel.accessAllowed ? 'block' : 'none';\n",
              "    })();\n",
              "  </script>\n",
              "</div>\n",
              "    </div>\n",
              "  </div>\n"
            ]
          },
          "metadata": {},
          "execution_count": 46
        }
      ]
    },
    {
      "cell_type": "code",
      "source": [
        "\n",
        "X2 = df_Singlish_unique[\"Phrase\"]\n",
        "y2 = df_Singlish_unique[\"IsHateSpeech\"]\n",
        "X_train_singlish, X_test_singlish, y_train_singlish, y_test_singlish = train_test_split(\n",
        "    X2,y2, test_size = 0.2, random_state = 0)"
      ],
      "metadata": {
        "id": "Q2FzGK_Jj3FW"
      },
      "execution_count": null,
      "outputs": []
    },
    {
      "cell_type": "code",
      "source": [
        "vectorizer2, vocab2, train_data_features2  = (\n",
        "        create_bag_of_words(X_train_singlish))"
      ],
      "metadata": {
        "colab": {
          "base_uri": "https://localhost:8080/"
        },
        "id": "dRO-uzN7j5Kf",
        "outputId": "70738473-5beb-4dcd-d15a-f4fa81a56163"
      },
      "execution_count": null,
      "outputs": [
        {
          "output_type": "stream",
          "name": "stdout",
          "text": [
            "Creating bag of words...\n",
            "Created\n"
          ]
        }
      ]
    },
    {
      "cell_type": "code",
      "source": [
        "ml_model_before_2,predicdedModel_2 = generateModel(vectorizer2,train_data_features2,y_train_singlish,X_test_singlish)"
      ],
      "metadata": {
        "colab": {
          "base_uri": "https://localhost:8080/"
        },
        "id": "2xB6jOr0j7Lw",
        "outputId": "41c1bcde-60be-4181-e8ff-33f154ccd610"
      },
      "execution_count": null,
      "outputs": [
        {
          "output_type": "stream",
          "name": "stdout",
          "text": [
            "Training model........\n",
            "Created\n"
          ]
        }
      ]
    },
    {
      "cell_type": "code",
      "source": [
        "get_metrics(y_test_singlish,predicdedModel_2)"
      ],
      "metadata": {
        "colab": {
          "base_uri": "https://localhost:8080/"
        },
        "id": "AwkPeFJmj9XY",
        "outputId": "7ac646a6-ab2c-4af8-bfc8-742089bbcc84"
      },
      "execution_count": null,
      "outputs": [
        {
          "output_type": "stream",
          "name": "stdout",
          "text": [
            "Confusion metrix: \n",
            "[[69  9]\n",
            " [31 29]]\n",
            "\n",
            "Accuracy = 71%\n",
            "precision = 69.0%\n",
            "recall = 88.5%\n",
            "F1 Score = 77.5%\n"
          ]
        }
      ]
    },
    {
      "cell_type": "code",
      "source": [
        "def get_important_words(vocab, model):\n",
        "\n",
        "    model_coeff = pd.DataFrame({'frequency & features': vocab,\n",
        "                              'model_coefficient': model.coef_.transpose().flatten()})\n",
        "\n",
        "    # Sort the value\n",
        "    model_coeff = model_coeff.sort_values('model_coefficient',ascending=False)\n",
        "\n",
        "    # Top 10 values are the important tokens\n",
        "    coeff_top = model_coeff.head(10)\n",
        "\n",
        "    return coeff_top"
      ],
      "metadata": {
        "id": "9TXpXfbPj_gn"
      },
      "execution_count": null,
      "outputs": []
    },
    {
      "cell_type": "code",
      "source": [
        "get_important_words(vocab, ml_model_before_1)"
      ],
      "metadata": {
        "colab": {
          "base_uri": "https://localhost:8080/",
          "height": 363
        },
        "id": "cxN-D4IfkCuA",
        "outputId": "6d33860b-fd8d-4057-a3f1-405fbfe2478e"
      },
      "execution_count": null,
      "outputs": [
        {
          "output_type": "execute_result",
          "data": {
            "text/plain": [
              "     frequency & features  model_coefficient\n",
              "1814                   බඩ           2.340855\n",
              "1717                   පක           2.073834\n",
              "1783                 පලයව           1.855033\n",
              "2100                  ලකන           1.757749\n",
              "1670                   නට           1.481538\n",
              "997                   ආතල           1.434201\n",
              "1143                  උඹල           1.398614\n",
              "2383                   හම           1.386183\n",
              "1449                  ජනප           1.309001\n",
              "1420                 ගහපන           1.188151"
            ],
            "text/html": [
              "\n",
              "  <div id=\"df-b63cab47-1fe6-46aa-8b82-b08bea5ec5e6\" class=\"colab-df-container\">\n",
              "    <div>\n",
              "<style scoped>\n",
              "    .dataframe tbody tr th:only-of-type {\n",
              "        vertical-align: middle;\n",
              "    }\n",
              "\n",
              "    .dataframe tbody tr th {\n",
              "        vertical-align: top;\n",
              "    }\n",
              "\n",
              "    .dataframe thead th {\n",
              "        text-align: right;\n",
              "    }\n",
              "</style>\n",
              "<table border=\"1\" class=\"dataframe\">\n",
              "  <thead>\n",
              "    <tr style=\"text-align: right;\">\n",
              "      <th></th>\n",
              "      <th>frequency &amp; features</th>\n",
              "      <th>model_coefficient</th>\n",
              "    </tr>\n",
              "  </thead>\n",
              "  <tbody>\n",
              "    <tr>\n",
              "      <th>1814</th>\n",
              "      <td>බඩ</td>\n",
              "      <td>2.340855</td>\n",
              "    </tr>\n",
              "    <tr>\n",
              "      <th>1717</th>\n",
              "      <td>පක</td>\n",
              "      <td>2.073834</td>\n",
              "    </tr>\n",
              "    <tr>\n",
              "      <th>1783</th>\n",
              "      <td>පලයව</td>\n",
              "      <td>1.855033</td>\n",
              "    </tr>\n",
              "    <tr>\n",
              "      <th>2100</th>\n",
              "      <td>ලකන</td>\n",
              "      <td>1.757749</td>\n",
              "    </tr>\n",
              "    <tr>\n",
              "      <th>1670</th>\n",
              "      <td>නට</td>\n",
              "      <td>1.481538</td>\n",
              "    </tr>\n",
              "    <tr>\n",
              "      <th>997</th>\n",
              "      <td>ආතල</td>\n",
              "      <td>1.434201</td>\n",
              "    </tr>\n",
              "    <tr>\n",
              "      <th>1143</th>\n",
              "      <td>උඹල</td>\n",
              "      <td>1.398614</td>\n",
              "    </tr>\n",
              "    <tr>\n",
              "      <th>2383</th>\n",
              "      <td>හම</td>\n",
              "      <td>1.386183</td>\n",
              "    </tr>\n",
              "    <tr>\n",
              "      <th>1449</th>\n",
              "      <td>ජනප</td>\n",
              "      <td>1.309001</td>\n",
              "    </tr>\n",
              "    <tr>\n",
              "      <th>1420</th>\n",
              "      <td>ගහපන</td>\n",
              "      <td>1.188151</td>\n",
              "    </tr>\n",
              "  </tbody>\n",
              "</table>\n",
              "</div>\n",
              "    <div class=\"colab-df-buttons\">\n",
              "\n",
              "  <div class=\"colab-df-container\">\n",
              "    <button class=\"colab-df-convert\" onclick=\"convertToInteractive('df-b63cab47-1fe6-46aa-8b82-b08bea5ec5e6')\"\n",
              "            title=\"Convert this dataframe to an interactive table.\"\n",
              "            style=\"display:none;\">\n",
              "\n",
              "  <svg xmlns=\"http://www.w3.org/2000/svg\" height=\"24px\" viewBox=\"0 -960 960 960\">\n",
              "    <path d=\"M120-120v-720h720v720H120Zm60-500h600v-160H180v160Zm220 220h160v-160H400v160Zm0 220h160v-160H400v160ZM180-400h160v-160H180v160Zm440 0h160v-160H620v160ZM180-180h160v-160H180v160Zm440 0h160v-160H620v160Z\"/>\n",
              "  </svg>\n",
              "    </button>\n",
              "\n",
              "  <style>\n",
              "    .colab-df-container {\n",
              "      display:flex;\n",
              "      gap: 12px;\n",
              "    }\n",
              "\n",
              "    .colab-df-convert {\n",
              "      background-color: #E8F0FE;\n",
              "      border: none;\n",
              "      border-radius: 50%;\n",
              "      cursor: pointer;\n",
              "      display: none;\n",
              "      fill: #1967D2;\n",
              "      height: 32px;\n",
              "      padding: 0 0 0 0;\n",
              "      width: 32px;\n",
              "    }\n",
              "\n",
              "    .colab-df-convert:hover {\n",
              "      background-color: #E2EBFA;\n",
              "      box-shadow: 0px 1px 2px rgba(60, 64, 67, 0.3), 0px 1px 3px 1px rgba(60, 64, 67, 0.15);\n",
              "      fill: #174EA6;\n",
              "    }\n",
              "\n",
              "    .colab-df-buttons div {\n",
              "      margin-bottom: 4px;\n",
              "    }\n",
              "\n",
              "    [theme=dark] .colab-df-convert {\n",
              "      background-color: #3B4455;\n",
              "      fill: #D2E3FC;\n",
              "    }\n",
              "\n",
              "    [theme=dark] .colab-df-convert:hover {\n",
              "      background-color: #434B5C;\n",
              "      box-shadow: 0px 1px 3px 1px rgba(0, 0, 0, 0.15);\n",
              "      filter: drop-shadow(0px 1px 2px rgba(0, 0, 0, 0.3));\n",
              "      fill: #FFFFFF;\n",
              "    }\n",
              "  </style>\n",
              "\n",
              "    <script>\n",
              "      const buttonEl =\n",
              "        document.querySelector('#df-b63cab47-1fe6-46aa-8b82-b08bea5ec5e6 button.colab-df-convert');\n",
              "      buttonEl.style.display =\n",
              "        google.colab.kernel.accessAllowed ? 'block' : 'none';\n",
              "\n",
              "      async function convertToInteractive(key) {\n",
              "        const element = document.querySelector('#df-b63cab47-1fe6-46aa-8b82-b08bea5ec5e6');\n",
              "        const dataTable =\n",
              "          await google.colab.kernel.invokeFunction('convertToInteractive',\n",
              "                                                    [key], {});\n",
              "        if (!dataTable) return;\n",
              "\n",
              "        const docLinkHtml = 'Like what you see? Visit the ' +\n",
              "          '<a target=\"_blank\" href=https://colab.research.google.com/notebooks/data_table.ipynb>data table notebook</a>'\n",
              "          + ' to learn more about interactive tables.';\n",
              "        element.innerHTML = '';\n",
              "        dataTable['output_type'] = 'display_data';\n",
              "        await google.colab.output.renderOutput(dataTable, element);\n",
              "        const docLink = document.createElement('div');\n",
              "        docLink.innerHTML = docLinkHtml;\n",
              "        element.appendChild(docLink);\n",
              "      }\n",
              "    </script>\n",
              "  </div>\n",
              "\n",
              "\n",
              "<div id=\"df-fb564f31-8abe-4a33-9b44-9ac9294fd817\">\n",
              "  <button class=\"colab-df-quickchart\" onclick=\"quickchart('df-fb564f31-8abe-4a33-9b44-9ac9294fd817')\"\n",
              "            title=\"Suggest charts.\"\n",
              "            style=\"display:none;\">\n",
              "\n",
              "<svg xmlns=\"http://www.w3.org/2000/svg\" height=\"24px\"viewBox=\"0 0 24 24\"\n",
              "     width=\"24px\">\n",
              "    <g>\n",
              "        <path d=\"M19 3H5c-1.1 0-2 .9-2 2v14c0 1.1.9 2 2 2h14c1.1 0 2-.9 2-2V5c0-1.1-.9-2-2-2zM9 17H7v-7h2v7zm4 0h-2V7h2v10zm4 0h-2v-4h2v4z\"/>\n",
              "    </g>\n",
              "</svg>\n",
              "  </button>\n",
              "\n",
              "<style>\n",
              "  .colab-df-quickchart {\n",
              "    background-color: #E8F0FE;\n",
              "    border: none;\n",
              "    border-radius: 50%;\n",
              "    cursor: pointer;\n",
              "    display: none;\n",
              "    fill: #1967D2;\n",
              "    height: 32px;\n",
              "    padding: 0 0 0 0;\n",
              "    width: 32px;\n",
              "  }\n",
              "\n",
              "  .colab-df-quickchart:hover {\n",
              "    background-color: #E2EBFA;\n",
              "    box-shadow: 0px 1px 2px rgba(60, 64, 67, 0.3), 0px 1px 3px 1px rgba(60, 64, 67, 0.15);\n",
              "    fill: #174EA6;\n",
              "  }\n",
              "\n",
              "  [theme=dark] .colab-df-quickchart {\n",
              "    background-color: #3B4455;\n",
              "    fill: #D2E3FC;\n",
              "  }\n",
              "\n",
              "  [theme=dark] .colab-df-quickchart:hover {\n",
              "    background-color: #434B5C;\n",
              "    box-shadow: 0px 1px 3px 1px rgba(0, 0, 0, 0.15);\n",
              "    filter: drop-shadow(0px 1px 2px rgba(0, 0, 0, 0.3));\n",
              "    fill: #FFFFFF;\n",
              "  }\n",
              "</style>\n",
              "\n",
              "  <script>\n",
              "    async function quickchart(key) {\n",
              "      const charts = await google.colab.kernel.invokeFunction(\n",
              "          'suggestCharts', [key], {});\n",
              "    }\n",
              "    (() => {\n",
              "      let quickchartButtonEl =\n",
              "        document.querySelector('#df-fb564f31-8abe-4a33-9b44-9ac9294fd817 button');\n",
              "      quickchartButtonEl.style.display =\n",
              "        google.colab.kernel.accessAllowed ? 'block' : 'none';\n",
              "    })();\n",
              "  </script>\n",
              "</div>\n",
              "    </div>\n",
              "  </div>\n"
            ]
          },
          "metadata": {},
          "execution_count": 52
        }
      ]
    },
    {
      "cell_type": "code",
      "source": [
        "get_important_words(vocab2, ml_model_before_2)"
      ],
      "metadata": {
        "colab": {
          "base_uri": "https://localhost:8080/",
          "height": 363
        },
        "id": "_aOBEw5LkEw_",
        "outputId": "ffa7463b-9b97-4566-d42d-758c0316f05f"
      },
      "execution_count": null,
      "outputs": [
        {
          "output_type": "execute_result",
          "data": {
            "text/plain": [
              "     frequency & features  model_coefficient\n",
              "2437                munta           1.251622\n",
              "431                  badu           1.006828\n",
              "3914                 yako           0.940682\n",
              "481                  balu           0.928272\n",
              "1256                  gon           0.893088\n",
              "1670            kalakanni           0.889840\n",
              "2493                nathi           0.736817\n",
              "2277                   me           0.728324\n",
              "3851               wesiyo           0.709036\n",
              "1919              kiyanne           0.686786"
            ],
            "text/html": [
              "\n",
              "  <div id=\"df-8eb5f6e2-ae22-49bc-b2d0-044f6b8183c5\" class=\"colab-df-container\">\n",
              "    <div>\n",
              "<style scoped>\n",
              "    .dataframe tbody tr th:only-of-type {\n",
              "        vertical-align: middle;\n",
              "    }\n",
              "\n",
              "    .dataframe tbody tr th {\n",
              "        vertical-align: top;\n",
              "    }\n",
              "\n",
              "    .dataframe thead th {\n",
              "        text-align: right;\n",
              "    }\n",
              "</style>\n",
              "<table border=\"1\" class=\"dataframe\">\n",
              "  <thead>\n",
              "    <tr style=\"text-align: right;\">\n",
              "      <th></th>\n",
              "      <th>frequency &amp; features</th>\n",
              "      <th>model_coefficient</th>\n",
              "    </tr>\n",
              "  </thead>\n",
              "  <tbody>\n",
              "    <tr>\n",
              "      <th>2437</th>\n",
              "      <td>munta</td>\n",
              "      <td>1.251622</td>\n",
              "    </tr>\n",
              "    <tr>\n",
              "      <th>431</th>\n",
              "      <td>badu</td>\n",
              "      <td>1.006828</td>\n",
              "    </tr>\n",
              "    <tr>\n",
              "      <th>3914</th>\n",
              "      <td>yako</td>\n",
              "      <td>0.940682</td>\n",
              "    </tr>\n",
              "    <tr>\n",
              "      <th>481</th>\n",
              "      <td>balu</td>\n",
              "      <td>0.928272</td>\n",
              "    </tr>\n",
              "    <tr>\n",
              "      <th>1256</th>\n",
              "      <td>gon</td>\n",
              "      <td>0.893088</td>\n",
              "    </tr>\n",
              "    <tr>\n",
              "      <th>1670</th>\n",
              "      <td>kalakanni</td>\n",
              "      <td>0.889840</td>\n",
              "    </tr>\n",
              "    <tr>\n",
              "      <th>2493</th>\n",
              "      <td>nathi</td>\n",
              "      <td>0.736817</td>\n",
              "    </tr>\n",
              "    <tr>\n",
              "      <th>2277</th>\n",
              "      <td>me</td>\n",
              "      <td>0.728324</td>\n",
              "    </tr>\n",
              "    <tr>\n",
              "      <th>3851</th>\n",
              "      <td>wesiyo</td>\n",
              "      <td>0.709036</td>\n",
              "    </tr>\n",
              "    <tr>\n",
              "      <th>1919</th>\n",
              "      <td>kiyanne</td>\n",
              "      <td>0.686786</td>\n",
              "    </tr>\n",
              "  </tbody>\n",
              "</table>\n",
              "</div>\n",
              "    <div class=\"colab-df-buttons\">\n",
              "\n",
              "  <div class=\"colab-df-container\">\n",
              "    <button class=\"colab-df-convert\" onclick=\"convertToInteractive('df-8eb5f6e2-ae22-49bc-b2d0-044f6b8183c5')\"\n",
              "            title=\"Convert this dataframe to an interactive table.\"\n",
              "            style=\"display:none;\">\n",
              "\n",
              "  <svg xmlns=\"http://www.w3.org/2000/svg\" height=\"24px\" viewBox=\"0 -960 960 960\">\n",
              "    <path d=\"M120-120v-720h720v720H120Zm60-500h600v-160H180v160Zm220 220h160v-160H400v160Zm0 220h160v-160H400v160ZM180-400h160v-160H180v160Zm440 0h160v-160H620v160ZM180-180h160v-160H180v160Zm440 0h160v-160H620v160Z\"/>\n",
              "  </svg>\n",
              "    </button>\n",
              "\n",
              "  <style>\n",
              "    .colab-df-container {\n",
              "      display:flex;\n",
              "      gap: 12px;\n",
              "    }\n",
              "\n",
              "    .colab-df-convert {\n",
              "      background-color: #E8F0FE;\n",
              "      border: none;\n",
              "      border-radius: 50%;\n",
              "      cursor: pointer;\n",
              "      display: none;\n",
              "      fill: #1967D2;\n",
              "      height: 32px;\n",
              "      padding: 0 0 0 0;\n",
              "      width: 32px;\n",
              "    }\n",
              "\n",
              "    .colab-df-convert:hover {\n",
              "      background-color: #E2EBFA;\n",
              "      box-shadow: 0px 1px 2px rgba(60, 64, 67, 0.3), 0px 1px 3px 1px rgba(60, 64, 67, 0.15);\n",
              "      fill: #174EA6;\n",
              "    }\n",
              "\n",
              "    .colab-df-buttons div {\n",
              "      margin-bottom: 4px;\n",
              "    }\n",
              "\n",
              "    [theme=dark] .colab-df-convert {\n",
              "      background-color: #3B4455;\n",
              "      fill: #D2E3FC;\n",
              "    }\n",
              "\n",
              "    [theme=dark] .colab-df-convert:hover {\n",
              "      background-color: #434B5C;\n",
              "      box-shadow: 0px 1px 3px 1px rgba(0, 0, 0, 0.15);\n",
              "      filter: drop-shadow(0px 1px 2px rgba(0, 0, 0, 0.3));\n",
              "      fill: #FFFFFF;\n",
              "    }\n",
              "  </style>\n",
              "\n",
              "    <script>\n",
              "      const buttonEl =\n",
              "        document.querySelector('#df-8eb5f6e2-ae22-49bc-b2d0-044f6b8183c5 button.colab-df-convert');\n",
              "      buttonEl.style.display =\n",
              "        google.colab.kernel.accessAllowed ? 'block' : 'none';\n",
              "\n",
              "      async function convertToInteractive(key) {\n",
              "        const element = document.querySelector('#df-8eb5f6e2-ae22-49bc-b2d0-044f6b8183c5');\n",
              "        const dataTable =\n",
              "          await google.colab.kernel.invokeFunction('convertToInteractive',\n",
              "                                                    [key], {});\n",
              "        if (!dataTable) return;\n",
              "\n",
              "        const docLinkHtml = 'Like what you see? Visit the ' +\n",
              "          '<a target=\"_blank\" href=https://colab.research.google.com/notebooks/data_table.ipynb>data table notebook</a>'\n",
              "          + ' to learn more about interactive tables.';\n",
              "        element.innerHTML = '';\n",
              "        dataTable['output_type'] = 'display_data';\n",
              "        await google.colab.output.renderOutput(dataTable, element);\n",
              "        const docLink = document.createElement('div');\n",
              "        docLink.innerHTML = docLinkHtml;\n",
              "        element.appendChild(docLink);\n",
              "      }\n",
              "    </script>\n",
              "  </div>\n",
              "\n",
              "\n",
              "<div id=\"df-5122ddd4-9c59-464b-811a-ed98ceaa2b4d\">\n",
              "  <button class=\"colab-df-quickchart\" onclick=\"quickchart('df-5122ddd4-9c59-464b-811a-ed98ceaa2b4d')\"\n",
              "            title=\"Suggest charts.\"\n",
              "            style=\"display:none;\">\n",
              "\n",
              "<svg xmlns=\"http://www.w3.org/2000/svg\" height=\"24px\"viewBox=\"0 0 24 24\"\n",
              "     width=\"24px\">\n",
              "    <g>\n",
              "        <path d=\"M19 3H5c-1.1 0-2 .9-2 2v14c0 1.1.9 2 2 2h14c1.1 0 2-.9 2-2V5c0-1.1-.9-2-2-2zM9 17H7v-7h2v7zm4 0h-2V7h2v10zm4 0h-2v-4h2v4z\"/>\n",
              "    </g>\n",
              "</svg>\n",
              "  </button>\n",
              "\n",
              "<style>\n",
              "  .colab-df-quickchart {\n",
              "    background-color: #E8F0FE;\n",
              "    border: none;\n",
              "    border-radius: 50%;\n",
              "    cursor: pointer;\n",
              "    display: none;\n",
              "    fill: #1967D2;\n",
              "    height: 32px;\n",
              "    padding: 0 0 0 0;\n",
              "    width: 32px;\n",
              "  }\n",
              "\n",
              "  .colab-df-quickchart:hover {\n",
              "    background-color: #E2EBFA;\n",
              "    box-shadow: 0px 1px 2px rgba(60, 64, 67, 0.3), 0px 1px 3px 1px rgba(60, 64, 67, 0.15);\n",
              "    fill: #174EA6;\n",
              "  }\n",
              "\n",
              "  [theme=dark] .colab-df-quickchart {\n",
              "    background-color: #3B4455;\n",
              "    fill: #D2E3FC;\n",
              "  }\n",
              "\n",
              "  [theme=dark] .colab-df-quickchart:hover {\n",
              "    background-color: #434B5C;\n",
              "    box-shadow: 0px 1px 3px 1px rgba(0, 0, 0, 0.15);\n",
              "    filter: drop-shadow(0px 1px 2px rgba(0, 0, 0, 0.3));\n",
              "    fill: #FFFFFF;\n",
              "  }\n",
              "</style>\n",
              "\n",
              "  <script>\n",
              "    async function quickchart(key) {\n",
              "      const charts = await google.colab.kernel.invokeFunction(\n",
              "          'suggestCharts', [key], {});\n",
              "    }\n",
              "    (() => {\n",
              "      let quickchartButtonEl =\n",
              "        document.querySelector('#df-5122ddd4-9c59-464b-811a-ed98ceaa2b4d button');\n",
              "      quickchartButtonEl.style.display =\n",
              "        google.colab.kernel.accessAllowed ? 'block' : 'none';\n",
              "    })();\n",
              "  </script>\n",
              "</div>\n",
              "    </div>\n",
              "  </div>\n"
            ]
          },
          "metadata": {},
          "execution_count": 53
        }
      ]
    },
    {
      "cell_type": "code",
      "source": [
        "\n",
        "df_StopWordsRemoval_All = pd.DataFrame(columns=['PhraseNo', 'Phrase', 'IsHateSpeech'])\n",
        "pre_len_arr_all = []\n",
        "AllData = df_All_preprocess\n",
        "\n",
        "for k in range(AllData.shape[0]):\n",
        "    SentenceTokens = word_tokenize(AllData['Phrase'][k])\n",
        "\n",
        "    pre_len_arr_all.append(len(SentenceTokens))\n",
        "\n",
        "    #remove stop words\n",
        "    removing_stopwords_sentence_all = [word for word in SentenceTokens if word not in sinhala_stop_words]\n",
        "\n",
        "    #print(removing_stopwords_sentence)\n",
        "    df_StopWordsRemoval_All.loc[k] = [k+1] + [removing_stopwords_sentence_all] + [AllData['IsHateSpeech'][k]]\n",
        "\n",
        "joinWordsIntoSentence(df_StopWordsRemoval_All)  # dont run this code twise."
      ],
      "metadata": {
        "colab": {
          "base_uri": "https://localhost:8080/"
        },
        "id": "x4TTPGn_kGpI",
        "outputId": "8c54ec1d-78a6-44bf-c076-b93b222acfed"
      },
      "execution_count": null,
      "outputs": [
        {
          "output_type": "stream",
          "name": "stderr",
          "text": [
            "<ipython-input-8-7d8504a95fa5>:8: SettingWithCopyWarning: \n",
            "A value is trying to be set on a copy of a slice from a DataFrame\n",
            "\n",
            "See the caveats in the documentation: https://pandas.pydata.org/pandas-docs/stable/user_guide/indexing.html#returning-a-view-versus-a-copy\n",
            "  dataframe['Phrase'][itm] = ( \" \".join( words_arr ))\n"
          ]
        }
      ]
    },
    {
      "cell_type": "code",
      "source": [
        "\n",
        "df_StopWordsRemoval_All"
      ],
      "metadata": {
        "colab": {
          "base_uri": "https://localhost:8080/",
          "height": 423
        },
        "id": "LBPCOTiskJ7h",
        "outputId": "e3b328c7-b2d7-4110-8460-77f0f1db0fb6"
      },
      "execution_count": null,
      "outputs": [
        {
          "output_type": "execute_result",
          "data": {
            "text/plain": [
              "      PhraseNo                                             Phrase IsHateSpeech\n",
              "0            1  බැල්ලි කොටින්ගේ ගු කනකොට අපහසුවක් දැනුනෙ දන් ඔ...          YES\n",
              "1            2  මන් ඊයේ මුස්ලිම් ඩෑල් එකක් සෙල්ෆියක් ගත්තා සහජ...          YES\n",
              "2            3                             සංහිදියාවට අවුලක් වෙයි           NO\n",
              "3            4  කටින් පුරසාරම් දොඩන අපි සිංහලයො විදියට ලැජ්ජා ...          YES\n",
              "4            5  මචන් මගුල නවත්තලා කොන්දක් තියෙනවානම් පුලුවන්නම...          YES\n",
              "...        ...                                                ...          ...\n",
              "2495      2496  දෙන්නා එකතු වෙලා tv program එකක් කරන්නකො තියන ...           NO\n",
              "2496      2497  මොනා කිව්වත් ඔයාල දෙන්නගෙ කටවල් දෙකට ගහන්න ලංක...           NO\n",
              "2497      2498  ඇස්වහ කටවහක් ඔයාලා දෙනාටම හැමදාමත් අපිව සතුටින...           NO\n",
              "2498      2499  මුන් දෙන්න රෙඩියෝ එකේ සුපිරි ඩබල හිරු ඉන්න කාල...           NO\n",
              "2499      2500  ane manda joke eka hodai eth wadu දෙමව්පියන්ව ...           NO\n",
              "\n",
              "[2500 rows x 3 columns]"
            ],
            "text/html": [
              "\n",
              "  <div id=\"df-22dbdea1-f2ca-48be-abce-1e5fadd4f224\" class=\"colab-df-container\">\n",
              "    <div>\n",
              "<style scoped>\n",
              "    .dataframe tbody tr th:only-of-type {\n",
              "        vertical-align: middle;\n",
              "    }\n",
              "\n",
              "    .dataframe tbody tr th {\n",
              "        vertical-align: top;\n",
              "    }\n",
              "\n",
              "    .dataframe thead th {\n",
              "        text-align: right;\n",
              "    }\n",
              "</style>\n",
              "<table border=\"1\" class=\"dataframe\">\n",
              "  <thead>\n",
              "    <tr style=\"text-align: right;\">\n",
              "      <th></th>\n",
              "      <th>PhraseNo</th>\n",
              "      <th>Phrase</th>\n",
              "      <th>IsHateSpeech</th>\n",
              "    </tr>\n",
              "  </thead>\n",
              "  <tbody>\n",
              "    <tr>\n",
              "      <th>0</th>\n",
              "      <td>1</td>\n",
              "      <td>බැල්ලි කොටින්ගේ ගු කනකොට අපහසුවක් දැනුනෙ දන් ඔ...</td>\n",
              "      <td>YES</td>\n",
              "    </tr>\n",
              "    <tr>\n",
              "      <th>1</th>\n",
              "      <td>2</td>\n",
              "      <td>මන් ඊයේ මුස්ලිම් ඩෑල් එකක් සෙල්ෆියක් ගත්තා සහජ...</td>\n",
              "      <td>YES</td>\n",
              "    </tr>\n",
              "    <tr>\n",
              "      <th>2</th>\n",
              "      <td>3</td>\n",
              "      <td>සංහිදියාවට අවුලක් වෙයි</td>\n",
              "      <td>NO</td>\n",
              "    </tr>\n",
              "    <tr>\n",
              "      <th>3</th>\n",
              "      <td>4</td>\n",
              "      <td>කටින් පුරසාරම් දොඩන අපි සිංහලයො විදියට ලැජ්ජා ...</td>\n",
              "      <td>YES</td>\n",
              "    </tr>\n",
              "    <tr>\n",
              "      <th>4</th>\n",
              "      <td>5</td>\n",
              "      <td>මචන් මගුල නවත්තලා කොන්දක් තියෙනවානම් පුලුවන්නම...</td>\n",
              "      <td>YES</td>\n",
              "    </tr>\n",
              "    <tr>\n",
              "      <th>...</th>\n",
              "      <td>...</td>\n",
              "      <td>...</td>\n",
              "      <td>...</td>\n",
              "    </tr>\n",
              "    <tr>\n",
              "      <th>2495</th>\n",
              "      <td>2496</td>\n",
              "      <td>දෙන්නා එකතු වෙලා tv program එකක් කරන්නකො තියන ...</td>\n",
              "      <td>NO</td>\n",
              "    </tr>\n",
              "    <tr>\n",
              "      <th>2496</th>\n",
              "      <td>2497</td>\n",
              "      <td>මොනා කිව්වත් ඔයාල දෙන්නගෙ කටවල් දෙකට ගහන්න ලංක...</td>\n",
              "      <td>NO</td>\n",
              "    </tr>\n",
              "    <tr>\n",
              "      <th>2497</th>\n",
              "      <td>2498</td>\n",
              "      <td>ඇස්වහ කටවහක් ඔයාලා දෙනාටම හැමදාමත් අපිව සතුටින...</td>\n",
              "      <td>NO</td>\n",
              "    </tr>\n",
              "    <tr>\n",
              "      <th>2498</th>\n",
              "      <td>2499</td>\n",
              "      <td>මුන් දෙන්න රෙඩියෝ එකේ සුපිරි ඩබල හිරු ඉන්න කාල...</td>\n",
              "      <td>NO</td>\n",
              "    </tr>\n",
              "    <tr>\n",
              "      <th>2499</th>\n",
              "      <td>2500</td>\n",
              "      <td>ane manda joke eka hodai eth wadu දෙමව්පියන්ව ...</td>\n",
              "      <td>NO</td>\n",
              "    </tr>\n",
              "  </tbody>\n",
              "</table>\n",
              "<p>2500 rows × 3 columns</p>\n",
              "</div>\n",
              "    <div class=\"colab-df-buttons\">\n",
              "\n",
              "  <div class=\"colab-df-container\">\n",
              "    <button class=\"colab-df-convert\" onclick=\"convertToInteractive('df-22dbdea1-f2ca-48be-abce-1e5fadd4f224')\"\n",
              "            title=\"Convert this dataframe to an interactive table.\"\n",
              "            style=\"display:none;\">\n",
              "\n",
              "  <svg xmlns=\"http://www.w3.org/2000/svg\" height=\"24px\" viewBox=\"0 -960 960 960\">\n",
              "    <path d=\"M120-120v-720h720v720H120Zm60-500h600v-160H180v160Zm220 220h160v-160H400v160Zm0 220h160v-160H400v160ZM180-400h160v-160H180v160Zm440 0h160v-160H620v160ZM180-180h160v-160H180v160Zm440 0h160v-160H620v160Z\"/>\n",
              "  </svg>\n",
              "    </button>\n",
              "\n",
              "  <style>\n",
              "    .colab-df-container {\n",
              "      display:flex;\n",
              "      gap: 12px;\n",
              "    }\n",
              "\n",
              "    .colab-df-convert {\n",
              "      background-color: #E8F0FE;\n",
              "      border: none;\n",
              "      border-radius: 50%;\n",
              "      cursor: pointer;\n",
              "      display: none;\n",
              "      fill: #1967D2;\n",
              "      height: 32px;\n",
              "      padding: 0 0 0 0;\n",
              "      width: 32px;\n",
              "    }\n",
              "\n",
              "    .colab-df-convert:hover {\n",
              "      background-color: #E2EBFA;\n",
              "      box-shadow: 0px 1px 2px rgba(60, 64, 67, 0.3), 0px 1px 3px 1px rgba(60, 64, 67, 0.15);\n",
              "      fill: #174EA6;\n",
              "    }\n",
              "\n",
              "    .colab-df-buttons div {\n",
              "      margin-bottom: 4px;\n",
              "    }\n",
              "\n",
              "    [theme=dark] .colab-df-convert {\n",
              "      background-color: #3B4455;\n",
              "      fill: #D2E3FC;\n",
              "    }\n",
              "\n",
              "    [theme=dark] .colab-df-convert:hover {\n",
              "      background-color: #434B5C;\n",
              "      box-shadow: 0px 1px 3px 1px rgba(0, 0, 0, 0.15);\n",
              "      filter: drop-shadow(0px 1px 2px rgba(0, 0, 0, 0.3));\n",
              "      fill: #FFFFFF;\n",
              "    }\n",
              "  </style>\n",
              "\n",
              "    <script>\n",
              "      const buttonEl =\n",
              "        document.querySelector('#df-22dbdea1-f2ca-48be-abce-1e5fadd4f224 button.colab-df-convert');\n",
              "      buttonEl.style.display =\n",
              "        google.colab.kernel.accessAllowed ? 'block' : 'none';\n",
              "\n",
              "      async function convertToInteractive(key) {\n",
              "        const element = document.querySelector('#df-22dbdea1-f2ca-48be-abce-1e5fadd4f224');\n",
              "        const dataTable =\n",
              "          await google.colab.kernel.invokeFunction('convertToInteractive',\n",
              "                                                    [key], {});\n",
              "        if (!dataTable) return;\n",
              "\n",
              "        const docLinkHtml = 'Like what you see? Visit the ' +\n",
              "          '<a target=\"_blank\" href=https://colab.research.google.com/notebooks/data_table.ipynb>data table notebook</a>'\n",
              "          + ' to learn more about interactive tables.';\n",
              "        element.innerHTML = '';\n",
              "        dataTable['output_type'] = 'display_data';\n",
              "        await google.colab.output.renderOutput(dataTable, element);\n",
              "        const docLink = document.createElement('div');\n",
              "        docLink.innerHTML = docLinkHtml;\n",
              "        element.appendChild(docLink);\n",
              "      }\n",
              "    </script>\n",
              "  </div>\n",
              "\n",
              "\n",
              "<div id=\"df-1c32d03b-f93e-4e96-b8a9-9c4aa4e29638\">\n",
              "  <button class=\"colab-df-quickchart\" onclick=\"quickchart('df-1c32d03b-f93e-4e96-b8a9-9c4aa4e29638')\"\n",
              "            title=\"Suggest charts.\"\n",
              "            style=\"display:none;\">\n",
              "\n",
              "<svg xmlns=\"http://www.w3.org/2000/svg\" height=\"24px\"viewBox=\"0 0 24 24\"\n",
              "     width=\"24px\">\n",
              "    <g>\n",
              "        <path d=\"M19 3H5c-1.1 0-2 .9-2 2v14c0 1.1.9 2 2 2h14c1.1 0 2-.9 2-2V5c0-1.1-.9-2-2-2zM9 17H7v-7h2v7zm4 0h-2V7h2v10zm4 0h-2v-4h2v4z\"/>\n",
              "    </g>\n",
              "</svg>\n",
              "  </button>\n",
              "\n",
              "<style>\n",
              "  .colab-df-quickchart {\n",
              "    background-color: #E8F0FE;\n",
              "    border: none;\n",
              "    border-radius: 50%;\n",
              "    cursor: pointer;\n",
              "    display: none;\n",
              "    fill: #1967D2;\n",
              "    height: 32px;\n",
              "    padding: 0 0 0 0;\n",
              "    width: 32px;\n",
              "  }\n",
              "\n",
              "  .colab-df-quickchart:hover {\n",
              "    background-color: #E2EBFA;\n",
              "    box-shadow: 0px 1px 2px rgba(60, 64, 67, 0.3), 0px 1px 3px 1px rgba(60, 64, 67, 0.15);\n",
              "    fill: #174EA6;\n",
              "  }\n",
              "\n",
              "  [theme=dark] .colab-df-quickchart {\n",
              "    background-color: #3B4455;\n",
              "    fill: #D2E3FC;\n",
              "  }\n",
              "\n",
              "  [theme=dark] .colab-df-quickchart:hover {\n",
              "    background-color: #434B5C;\n",
              "    box-shadow: 0px 1px 3px 1px rgba(0, 0, 0, 0.15);\n",
              "    filter: drop-shadow(0px 1px 2px rgba(0, 0, 0, 0.3));\n",
              "    fill: #FFFFFF;\n",
              "  }\n",
              "</style>\n",
              "\n",
              "  <script>\n",
              "    async function quickchart(key) {\n",
              "      const charts = await google.colab.kernel.invokeFunction(\n",
              "          'suggestCharts', [key], {});\n",
              "    }\n",
              "    (() => {\n",
              "      let quickchartButtonEl =\n",
              "        document.querySelector('#df-1c32d03b-f93e-4e96-b8a9-9c4aa4e29638 button');\n",
              "      quickchartButtonEl.style.display =\n",
              "        google.colab.kernel.accessAllowed ? 'block' : 'none';\n",
              "    })();\n",
              "  </script>\n",
              "</div>\n",
              "    </div>\n",
              "  </div>\n"
            ]
          },
          "metadata": {},
          "execution_count": 55
        }
      ]
    },
    {
      "cell_type": "code",
      "source": [
        "df_Stemming_All = stemming(df_StopWordsRemoval_All)"
      ],
      "metadata": {
        "colab": {
          "base_uri": "https://localhost:8080/"
        },
        "id": "o-Up0N0KkMqh",
        "outputId": "f5a00dd2-28c5-4ee9-b465-751be10ba44c"
      },
      "execution_count": null,
      "outputs": [
        {
          "output_type": "stream",
          "name": "stdout",
          "text": [
            "{'කොටින්ගේ': 'කොටින්', 'ගු': 'ග', 'කනකොට': 'කනකො', 'අපහසුවක්': 'අපහසුවක', 'දැනුනෙ': 'දැනුන', 'දන්': 'දන', 'ඔකිට': 'ඔ', 'මිනිහා': 'මිනිහ', 'මැරුනම': 'මැරුන', 'දැනුන': 'දැනු', 'දුකට': 'දු', 'දහස්': 'දහස', 'ගුනයක': 'ගුනය', 'දුකක්': 'දුකක', 'දැනෙනවා': 'දැනෙ', 'ඉස්සරහට': 'ඉස්සරහ', 'උපසම්පදාව': 'උපසම්පදා', 'තියන': 'තිය', 'භික්සුවක්': 'භික්සුවක', 'හිරේ': 'හිර', 'යැවුවට': 'යැවුව', 'ඔකි': 'ඔ', 'වැඩියෙන්ම': 'වැඩියෙන්', 'ආදරේ': 'ආදර', 'කෙනෙක්': 'කෙනෙක', 'නැති': 'නැ', 'වෙනවා': 'වෙ', 'කල්': 'කල', 'නොගිහින්': 'නොගිහින', 'මන්': 'මන', 'ඊයේ': 'ඊ', 'මුස්ලිම්': 'මුස්ලිම', 'ඩෑල්': 'ඩෑල', 'එකක්': 'එකක', 'සෙල්ෆියක්': 'සෙල්ෆියක', 'ගත්තා': 'ගත්ත', 'සහජීවනේ': 'සහජීවන', 'රැකගෙන': 'රැකගෙ', 'යන්න': 'යන්', 'ඒක': 'ඒ', 'තාම': 'තා', 'දාලා': 'දා', 'පරයා': 'පර', 'සංහිදියාවට': 'සංහිදියාව', 'අවුලක්': 'අවුලක', 'වෙයි': 'වෙ', 'කටින්': 'කටින', 'පුරසාරම්': 'පුරසාරම', 'දොඩන': 'දොඩ', 'සිංහලයො': 'සිංහලය', 'විදියට': 'විදිය', 'ලැජ්ජා': 'ලැජ්ජ', 'විය': 'වි', 'යුතුයි': 'යුතු', 'මචන්': 'මචන', 'මගුල': 'මගු', 'නවත්තලා': 'නවත්ත', 'කොන්දක්': 'කොන්දක', 'තියෙනවානම්': 'තියෙනවානම', 'පුලුවන්නම්': 'පුලුවන්නම', 'කරලා': 'කර', 'පෙන්නපන්': 'පෙන්නපන', 'දෙසපාලනය': 'දෙසපාලන', 'කරන': 'කර', 'අයගෙන්': 'අයගෙන', 'මෙ': 'ම', 'රටට': 'රට', 'වෙලාතියෙන්නෙ': 'වෙලාතියෙ', 'කියලා': 'කිය', 'එදාට': 'එදා', 'නියම': 'නිය', 'කොල්ලෙක්': 'කොල්ලෙක', 'පෙන්නනවාද': 'පෙන්නනවා', 'ආණ්ඩුවේ': 'ආණ්ඩු', 'නෙවෙයි': 'නෙවෙ', 'රට': 'ර', 'හූරාගෙන': 'හූරාගෙ', 'තමන්ගෙ': 'තමන්', 'බූදලය': 'බූදල', 'කියල': 'කිය', 'හිතාගෙන': 'හිතාගෙ', 'උගස්': 'උගස', 'තියල': 'තිය', 'නයට': 'නය', 'අරගෙන': 'අරගෙ', 'තමතමන්ගෙ': 'තමතමන්', 'පරම්පරාවෙ': 'පරම්පරා', 'එවුන්ටයි': 'එවුන්ට', 'හිතවත්': 'හිතවත', 'බෙදාගෙන': 'බෙදාගෙ', 'කන': 'ක', 'සියලුම': 'සියලු', 'දේශපාලකයන්': 'දේශපාලකයන', 'දුටු': 'දුට', 'තැන': 'තැ', 'මරලා': 'මර', 'දාන': 'දා', 'දිනය': 'දින', 'ඈතක': 'ඈත', 'ලංකාව': 'ලංකා', 'මෙිකෙ': 'මෙි', 'ඉන්නෙ': 'ඉ', 'වාහනයක්': 'වාහනයක', 'ගත්තම': 'ගත්ත', 'ඔලුවෙන්': 'ඔලුවෙන', 'ඉන්න': 'ඉන්', 'පාරෙ': 'පාර', 'යන': 'ය', 'එකෙක්': 'එකෙක', 'හිතන්නැති': 'හිතන්නැ', 'නිරැවත්': 'නිරැවත', 'පිංපියො': 'පිංපිය', 'වගෙ': 'ව', 'එවුන්': 'එවුන', 'ටිකක්': 'ටිකක', 'නෙ': 'න', 'ලෝකයක්': 'ලෝකයක', 'නම්බුව': 'නම්බු', 'ලංකාවේ': 'ලංකා', 'එක': 'එ', 'විනාඩියේන්': 'විනාඩියේන', 'කරයි': 'කර', 'බන්': 'බන', 'හන්ද': 'හන්', 'දේශපාලනය': 'දේශපාලන', 'කරන්ට': 'කරන්', 'එන්ට': 'එන්', 'ගුඩ්ලක්': 'ගුඩ්ලක', 'පල්ලියකට': 'පල්ලිය', 'ගලක්': 'ගලක', 'වැදුනත්': 'වැදුනත', 'පරසක්වල': 'පරසක්ව', 'ගහන': 'ගහ', 'මූ': 'ම', 'පන්සල්': 'පන්සල', 'බිමට': 'බිම', 'සමතලා': 'සමත', 'කරද්දී': 'කර', 'සද්ද': 'සද්', 'මූට': 'මූ', 'කොහොමත්': 'කොහොමත', 'ඡන්දෙ': 'ඡන්ද', 'දෙන්නෙ': 'දෙ', 'පංසල්': 'පංසල', 'ඇරෙන්නේ': 'ඇරෙ', 'සංගාගේ': 'සංගා', 'කට': '', 'පල්ලියට': 'පල්ලිය', 'ගල්': 'ගල', 'ඇරුණා': 'ඇරුණ', 'එහෙම': 'එහෙ', 'නායකත්වයක්': 'නායකත්වයක', 'සිංහල': 'සිංහ', 'ජාතිය': 'ජාති', 'හදයිද': 'හදයි', 'ජයසූරිය': 'ජයසූරි', 'හදන්න': 'හදන්', 'ඕනේ': 'ඕන', 'ගැට': 'ගැ', 'වලින්': 'වලින', 'මිදී': 'මිද', 'ගෙදරට': 'ගෙදර', 'වී': 'ව', 'කියන්න': 'කියන්', 'හොදනම්': 'හොදනම', 'හදවතින්ම': 'හදවතින්', 'සපෝර්ට්': 'සපෝර්ට', 'පොහොට්ටුව': 'පොහොට්ටු', 'නොවී': 'නොව', 'කලින්': 'කලින', 'මිනිසුන්': 'මිනිසුන', 'රවටන': 'රවට', 'ප්': 'ප', 'රචාරක': 'රචාර', 'දැන්විම්': 'දැන්විම', 'මුදල්': 'මුදල', 'නවත්වා': 'නව', 'සමාජයට': 'සමාජය', 'සේවයක්': 'සේවයක', 'කරන්න': 'කරන්', 'ජයසූරියත්': 'ජයසූරියත', 'ආවෙ': 'ආ', 'හැදුවද': 'හැදුව', 'ලමයි': 'ලම', 'හැදුවා': 'හැදු', 'අපිටත්': 'අපිටත', 'ඇඩ්': 'ඇඩ', 'එකක': 'එක', 'පුළුවන්': 'පුළුවන', 'නේ': 'න', 'පොන්නයො': 'පොන්නය', 'පලනය': 'පලන', 'කරනකොට': 'කරනකො', 'ඔහොම': 'ඔහො', 'තමා': 'තම', 'ජිවිතේ': 'ජිවිත', 'අසාවෙන්': 'අසාවෙන', 'බලපු': 'බල', 'එකම': 'එක', 'දේ': 'ද', 'ක්': 'ක', 'රිකට්': 'රිකට', 'එකත්': 'එකත', 'කාරනය': 'කාරන', 'විග්': 'විග', 'ඩුප්ලිකේට්': 'ඩුප්ලිකේට', 'මහමෙව්නාවේ': 'මහමෙව්නා', 'මිතුරන්ට': 'මිතුරන්', 'පුලුවන්': 'පුලුවන', 'දිව්': 'දිව', 'ලෝක': 'ලෝ', 'ස්ට්': 'ස්ට', 'රයික්': 'රයික', 'ඔක්කොටම': 'ඔක්කො', 'ගහන්න': 'ගහන්', 'දෝස්තරලාත්': 'දෝස්තරලාත', 'ඇතුලු': 'ඇතුල', 'ගිය': 'ගි', 'ආන්ඩුව': 'ආන්ඩු', 'කාලෙ': 'කාල', 'නැටුවේ': 'නැටු', 'මුන්ගෙ': 'මුන්', 'කොන්ද': 'කොන්', 'පන': 'ප', 'උබලා': 'උබ', 'පිස්සු': 'පිස්ස', 'නටලා': 'නට', 'ඊට': 'ඊ', 'ගන්නෙ': 'ග', 'ඕක': 'ඕ', 'කල්ලතෝනි': 'කල්ලතෝ', 'පකෙක්': 'පකෙක', 'අැත්තටම': 'අැත්ත', 'සතුටුයි': 'සතුටු', 'එ්': 'එ', 'මනුස්සකමට': 'මනුස්සකම', 'වගේම': 'වගේ', 'අරාබියට': 'අරාබිය', 'ගිහින්එන': 'ගිහින්එ', 'අපේ': 'අප', 'මුස්ලිමි': 'මුස්ලි', 'කාන්තාවන්': 'කාන්තාවන', 'මුන': 'මු', 'වහගෙන': 'වහගෙ', 'බිල්ලෝ': 'බිල්ල', 'එනකොට': 'එනකො', 'නෝනා': 'නෝ', 'අැවිත්': 'අැවිත', 'ඉන්නවා': 'ඉන්', 'පුතාල': 'පුතා', 'ඉන්නකල්': 'ඉන්නකල', 'කෙලවෙන': 'කෙලවෙ', 'අහන්නත්': 'අහන්නත', 'දෙයක්ද': 'දෙයක්', 'කාලකන්නි': 'කාලකන්', 'බල්ලො': 'බල්ල', 'රටේ': 'රට', 'ලොක්කො': 'ලොක්ක', 'වෙනකොට': 'වෙනකො', 'බල්ලට': 'බල්ල', 'නාහෙන්': 'නාහෙන', 'අඩන': 'අඩ', 'සංගීතයට': 'සංගීතය', 'අද': 'අ', 'කොකා': 'කො', 'හඩලා': 'හඩ', 'තියෙන්නෙ': 'තියෙ', 'ලැජ්ජයි': 'ලැජ්ජ', 'යකෝ': 'යක', 'තෝ': 'ත', 'ආයෙ': 'ආ', 'මුණ': 'ම', 'ගැහුනා': 'ගැහු', 'ඌත්': 'ඌත', 'වගේම': 'ව', 'අඩයිනෙ': 'අඩයින', 'දවසක': 'දවස', 'ජනාධිපති': 'ජනාධිප', 'නෙද': 'නෙ', 'හුත්තෝ': 'හුත්ත', 'හොදයි': 'හොද', 'නගරසභාවේ': 'නගරසභා', 'සුද්ද': 'සුද්', 'හිකුණ්ඨික': 'හිකුණ්ඨි', 'සක්කිලියා': 'සක්කිලි', 'මොනව': 'මොන', 'උනත්': 'උනත', 'පොලිසියෙ': 'පොලිසි', 'බල්ලො': 'බල්ලෙ', 'වැදගත්': 'වැදගත', 'දෙයක්': 'දෙයක', 'කරපිය': 'කර', 'ගොන්': 'ගොන', 'වස්සෙක්': 'වස්සෙක', 'ඉදකින්': 'ඉදකින', 'හුත්තො': 'හුත්ත', 'පොලිසිය': 'පොලිසි', 'මිනිසුන්ට': 'මිනිසුන්', 'ගහන්නේ': 'ගහ', 'එලවා': 'එල', 'පොලිස්සිය': 'පොලිස්සි', 'තාමත්': 'තාමත', 'කැද': 'කැ', 'තරැන': 'තරැ', 'කොල්ලොන්ට': 'කොල්ලොන්', 'ජීවිතෙන්': 'ජීවිතෙන', 'ගෙවන්න': 'ගෙවන්', 'වෙන්නෙ': 'වෙ', 'නාකි': 'නා', 'පප්පල': 'පප්ප', 'බුලත්විටක්': 'බුලත්විටක', 'කාගෙන': 'කාගෙ', 'දහයක්': 'දහයක', 'දුවා': 'දු', 'ගන්න': 'ගන්', 'තුවක්කු': 'තුවක්', 'පුහුනුව': 'පුහුනු', 'එකේ': 'එ', 'විතරයි': 'විතර', 'ඉලක්කයක්': 'ඉලක්කයක', 'අරන්': 'අරන', 'තියන්න': 'තියන්', 'කී': '', 'දෙනාද': 'දෙනා', 'ගහල': 'ගහ', 'පන්නන්න': 'පන්නන්', 'ජරාව': 'ජරා', 'කකා': 'ක', 'ඉන්නන්': 'ඉන්නන', 'වාලේ': 'වාල', 'ඉන්නවට': 'ඉන්නව', 'සාමාන්': 'සාමාන', 'මිනිස්සු': 'මිනිස්ස', 'තැබීම': 'තැබී', 'පාතාල': 'පාතා', 'කාරයන්ට': 'කාරයන්', 'මනුස්සකමක්': 'මනුස්සකමක', 'නැනේ': 'නැන', 'මුන්': 'මුන', 'බයික්': 'බයික', 'වලට': 'වල', 'නගිනකන්': 'නගිනකන', 'ඉවසන්න': 'ඉවසන්', 'තිබුනේ': 'තිබුන', 'නැත්තන්': 'නැත්තන', 'තත්වය': 'තත්ව', 'බලල': 'බල', 'ගෙනන්න': 'ගෙනන්', 'කොහේද': 'කොහේ', 'දෙන': 'දෙ', 'අපරාදෙ': 'අපරාද', 'වටින': 'වටි', 'ජීවිතයක්': 'ජීවිතයක', 'ගිහින්': 'ගිහින', 'එකෙක්ටවත්': 'එකෙක්ටවත', 'ආපහු': 'ආප', 'ලෝකේ': 'ලෝ', 'දකින්න': 'දකින්', 'මුන්ව': 'මුන්', 'යවන්නනම්': 'යවන්නනම', 'දානවා': 'දා', 'මෙහෙමත්': 'මෙහෙමත', 'කුහක': 'කුහ', 'හොරු': 'හොර', 'හොදට': 'හොද', 'තුවක්කුවලින්': 'තුවක්කුවලින', 'තියනවා': 'තිය', 'වන': 'ව', 'ඇවිත්': 'ඇවිත', 'හොරුන්ගෙන්': 'හොරුන්ගෙන', 'කනවා': 'ක', 'මෙලෝ': 'මෙල', 'රහක්': 'රහක', 'උන්': 'උන', 'ටවුන්': 'ටවුන', 'මන්නම්': 'මන්නම', 'කියන්නෙ': 'කිය', 'පොලිසියෙ': 'පොලිසි', 'උන්නැහැලා': 'උන්නැහැ', 'ටිකටත්': 'ටිකටත', 'පුහුණුවක්': 'පුහුණුවක', 'අවශයයි': 'අවශ', 'හොරාට': 'හොරා', 'පන්න': 'පන්', 'මොලෙ': 'මොල', 'හොරා': 'හොර', 'කොටු': 'කොට', 'කරගන්නෙ': 'කරග', 'ගොඩක්': 'ගොඩක', 'තියෙනව': 'තියෙන', 'කතා': 'කත', 'කරෝත්': 'කරෝත', 'ලොකුවට': 'ලොකුව', 'දකුණේ': 'දක', 'කෝන්දක්': 'කෝන්දක', 'කේනේක්': 'කේනේක', 'අයියව': 'අයිය', 'උස්සන්න': 'උස්සන්', 'උස්සපු': 'උස්ස', 'අයියා': 'අයි', 'පිරිමි': 'පිරි', 'යේක්': 'යේක', 'දැක්කේ': 'දැක්', 'ඔක්කෝම': 'ඔක්කෝ', 'පිරිමී': 'පිරිම', 'අදින': 'අදි', 'ගවුම්': 'ගවුම', 'හෝද': 'හෝ', 'ඇදගන්න': 'ඇදගන්', 'මට': 'ම', 'අයට': 'අය', 'දැක්ක': 'දැක්', 'හොදම': 'හොද', 'නපුංසකයෝ': 'නපුංසක', 'ප්ලීස්': 'ප්ලීස', 'මංකොල්ල': 'මංකොල්', 'කාරයෝ': 'කාර', 'කෝහෝම': 'කෝහෝ', 'වෙඩිතියල': 'වෙඩිතිය', 'දාන්න': 'දාන්', 'පොලිස්පති': 'පොලිස්ප', 'තුමනි': 'තුම', 'අයේත්': 'අයේත', 'මේවැනි': 'මේවැ', 'නොවෙන්න': 'නොවෙන්', 'මව්': 'මව', 'බිම': 'බි', 'මරණය': 'මරණ', 'මෙයයි': 'මෙ', 'තේමා': 'තේම', 'පාටය': 'පාට', 'යුත්තේ': 'යුත්ත', 'පෝන්': 'පෝන', 'කෝල්': 'කෝල', 'බයේ': 'බ', 'කාලය': 'කාල', 'තුවක්කුවක්': 'තුවක්කුවක', 'පැත්තකට': 'පැත්ත', 'වෙලා': 'වෙ', 'ඉදපංකො': 'ඉදපංක', 'මැරැම්කන්නැතිව': 'මැරැම්කන්නැති', 'මංකොලල': 'මංකොල', 'බැටන්පොල්ලෙන්': 'බැටන්පොල්ලෙන', 'ගියාම': 'ගියා', 'මැරැංකන': 'මැරැංක', 'මේක': 'මේ', 'මෝඩයෙක්': 'මෝඩයෙක', 'ඔවාට': 'ඔවා', 'කෙලින්': 'කෙලින', 'සීන්': 'සීන', 'ගහන්නෙ': 'ගහ', 'නැතුව': 'නැතු', 'මත්ද්': 'මත්ද', 'රව්': 'රව', 'යවලට': 'යවල', 'ඇබ්බැහි': 'ඇබ්බැ', 'ඔිිනි': 'ඔිි', 'පොලිසියට': 'පොලිසිය', 'විම': 'වි', 'දේසපාලකන්ගේ': 'දේසපාලකන්', 'කකුල්': 'කකුල', 'ලේවකනවා': 'ලේවක', 'කොල්ලා': 'කො', 'නිකන්': 'නිකන', 'මැරැැනා': 'මැරැැ', 'හරිහමන්': 'හරිහමන', 'දෙන්න': 'දෙන්', 'බැරිද': 'බැරි', 'ඇමති': 'ඇම', 'අයගේ': 'අය', 'වාහන': 'වාහ', 'ගනන්': 'ගනන', 'නාස්ති': 'නාස්', 'කරනවා': 'කර', 'දේකට': 'දේ', 'වියදම්': 'වියදම', 'කරන්නේ': 'කර', 'දිවියව': 'දිවිය', 'මරපු': 'මර', 'තරම්': 'තරම', 'නෙමේ': 'නෙ', 'වෙන්න': 'වෙන්', 'ඇති': 'ඇ', 'පොලිස්': 'පොලිස', 'නිලධාරියාව': 'නිලධාරියා', 'මිනිමරුවෝ': 'මිනිමරු', 'එකනේ': 'එකන', 'දරුණු': 'දරුණ', 'වචන': 'වච', 'නැත්තේ': 'නැත්ත', 'මිනි': 'මි', 'මරුවන්ට': 'මරුවන්', 'එරෙහිව': 'එරෙහි', 'සෝමාලියාවක්': 'සෝමාලියාවක', 'ශිට්': 'ශිට', 'පාතාලයේ': 'පාතාල', 'කියන': 'කිය', 'එකාවම': 'එකාව', 'මරල': 'මර', 'ඕනා': 'ඕ', 'ත්': 'ත', 'හමුදාවට': 'හමුදාව', 'පනවා': 'ප', 'හොරුන්ට': 'හොරුන්', 'නීති': 'නී', 'රීති': 'රී', 'ලිහිල්වුන': 'ලිහිල්වු', 'රටක්': 'රටක', 'දකුනේ': 'දකුන', 'විලි': 'ව', 'ඕකුන්වත්': 'ඕකුන්වත', 'පෝලිමට': 'පෝලිම', 'තියලා': 'තිය', 'දාපල්ලා': 'දා', 'අහිංසකයට': 'අහිංසකය', 'වුනා': 'වු', 'වෙනසෙ': 'වෙනස', 'පේනවනේ': 'පේනවන', 'නිතිය': 'නිති', 'නිලධාරීන්': 'නිලධාරීන', 'දකින්නේ': 'දකි', 'කනගාටුදායක': 'කනගාටුදාය', 'අපෙන්': 'අපෙන', 'සල්ලිවලින්': 'සල්ලිවලින', 'මහින්ද': 'මහින්', 'මහත්තයා': 'මහත්ත', 'නැතිකම': 'නැතික', 'අපිත්': 'අපිත', 'දැන්': 'දැන', 'බැන': 'බැ', 'මේකෙ': 'මේ', 'පෝස්ට්': 'පෝස්ට', 'දැම්මට': 'දැම්ම', 'මේවා': 'මේ', 'පිලිවෙලට': 'පිලිවෙල', 'මහින්දගෙ': 'මහින්ද', 'උනා': 'උ', 'ඒවාට': 'ඒවා', 'අසංවේදී': 'අසංවේද', 'උන': 'උ', 'මිනිස්සුන්ගෙ': 'මිනිස්සුන්', 'ඡන්ද': 'ඡන්', 'වල': 'ව', 'පිහිටෙන්': 'පිහිටෙන', 'ලැබුනු': 'ලැබු', 'තියෙන්න්නේ': 'තියෙන්', 'තුවාල': 'තුවා', 'බේත්': 'බේත', 'දුකයි': 'දුක', 'කාළකණ්නි': 'කාළකණ්', 'ජාතියක්': 'ජාතියක', 'පත්': 'පත', 'හමාරයි': 'හමාර', 'ඇත්තම': 'ඇත්ත', 'කියනවනම්': 'කියනවනම', 'හැතිකරය': 'හැතිකර', 'ලබු': 'ලබ', 'රජයේ': 'රජ', 'අයතන': 'අයත', 'හන': 'හ', 'හගන්න': 'හගන්', 'ඔන': 'ඔ', 'ඔක්කොම': 'ඔක්කො', 'බදු': 'බද', 'හොටු': 'හොට', 'අඬන': 'අඬ', 'හෙලු': 'හෙල', 'කෙල්ලොංගෙ': 'කෙල්ලොං', 'ලබ්බවල්': 'ලබ්බවල', 'කරපු': 'කර', 'වැඩේනම්': 'වැඩේනම', 'මොනතරම්': 'මොනතරම', 'ගින්දරක්': 'ගින්දරක', 'පපු': 'ප', 'ඇතුලේ': 'ඇතුල', 'පත්තු': 'පත්ත', 'අැද්ද': 'අැද්', 'තාත්තා': 'තාත්ත', 'අත්': 'අත', 'පා': 'ප', 'උස්මහත්': 'උස්මහත', 'දෙයියනේ': 'දෙයියන', 'උඹලට': 'උඹල', 'ආත්මෙම': 'ආත්මෙ', 'උගෙ': 'උ', 'අප්පගෙ': 'අප්ප', 'නීතියක්නෙ': 'නීතියක්න', 'යකො': 'යක', 'රංගෙ': 'රං', 'බන්ඩාරගෙ': 'බන්ඩාර', 'පුතා': 'පුත', 'පාරක්': 'පාරක', 'වාහනෙ': 'වාහන', 'හප්පලා': 'හප්ප', 'මිනිහෙක්': 'මිනිහෙක', 'පවුලක්': 'පවුලක', 'අබ්බගාතයො': 'අබ්බගාතය', 'කො': 'ක', 'ගෙයක්': 'ගෙයක', 'කුඩු': 'කුඩ', 'හොදටම': 'හොද', 'බීලා': 'බී', 'ඇතුලෙ': 'ඇතුල', 'කඩු': 'කඩ', 'පොලු': 'පොල', 'තියෙද්දිත්': 'තියෙද්දිත', 'ඌට': 'ඌ', 'වලින්ද': 'වලින්', 'ලංකාවෙ': 'ලංකා', 'ක්රියාත්මක': 'ක්රියාත්ම', 'කරන්නෙ': 'කර', 'කලකිරෙනවා': 'කලකිරෙ', 'මෙවා': 'මෙ', 'දැක්කම': 'දැක්ක', 'මොනද': 'මොන', 'අපෙ': 'අප', 'හාමුදුරුවෝ': 'හාමුදුරු', 'හාමුදුරුවන්ට': 'හාමුදුරුවන්', 'මෙහෙම': 'මෙහෙ', 'කරාට': 'කරා', 'දඬුවම': 'දඬුව', 'දේවා': 'දේ', 'හුත්තී': 'හුත්ත', 'හැමිනියන්': 'හැමිනියන', 'වෙසී': 'වෙස', 'තොට': 'තො', 'වේනවා': 'වේ', 'බැල්ලීයේ': 'බැල්ලී', 'ලොකු': 'ලො', 'තැන්වල': 'තැන්ව', 'පිරිහිලා': 'පිරිහි', 'ඉවරයි': 'ඉවර', 'බලයට': 'බලය', 'ධනයට': 'ධනය', 'ආගම': 'ආග', 'විකුණනවා': 'විකුණ', 'දන්නෙ': 'ද', 'උන්ට': 'උන්', 'වෙන්නේ': 'වෙ', 'මොකක්ද': 'මොකක්', 'මෙවට': 'මෙව', 'වගකිවයුතු': 'වගකිවයුත', 'වන්නේ': 'ව', 'පෙලෙ': 'පෙල', 'සක්කිලින්ට': 'සක්කිලින්', 'කන්න': 'කන්', 'ගූත්': 'ගූත', 'නැතිවෙනව': 'නැතිවෙන', 'හමුදාව': 'හමුදා', 'කෙමිකල්': 'කෙමිකල', 'මිසයිල': 'මිසයි', 'සමූලඝාතන': 'සමූලඝාත', 'සිදුකලා': 'සිදුක', 'හුත්තිගෙ': 'හුත්ති', 'කිව්වා': 'කිව්', 'ඒකම': 'ඒක', 'හුත්තිත්': 'හුත්තිත', 'කියනවා': 'කිය', 'වේසිට': 'වේසි', 'දඩුවම්': 'දඩුවම', 'බල්ලන්ට': 'බල්ලන්', 'අල්ලන': 'අල්ල', 'හමගහන්න': 'හමගහන්', 'ඕනි': 'ඕ', 'පනපිටින්': 'පනපිටින', 'හුත්තිට': 'හුත්ති', 'සතුටුයිලු': 'සතුටුයිල', 'රටහරක්ටිකටත්': 'රටහරක්ටිකටත', 'සතුටුඇති': 'සතුටුඇ', 'හාමුදුරැන්': 'හාමුදුරැන', 'ට': '', 'දුන්න': 'දුන්', 'දඩුවමට': 'දඩුවම', 'ඊටත්වැඩිය': 'ඊටත්වැඩි', 'මරාගන': 'මරාග', 'මැරෙන්න': 'මැරෙන්', 'හිතෙන්නෙ': 'හිතෙ', 'අපෙහාමුදුරැවන්ට': 'අපෙහාමුදුරැවන්', 'ජමිිබරේ': 'ජමිිබරෙ', 'අන්දපුඑකට': 'අන්දපුඑ', 'සංඝා': 'සංඝ', 'වහන්සේ': 'වහන්ස', 'නමකට': 'නම', 'විශේෂයෙන්': 'විශේෂයෙන', 'චිවරයට': 'චිවරය', 'අගෞරව': 'අගෞර', 'කල': 'ක', 'පාපයට': 'පාපය', 'නුඹට': 'නුඹ', 'මතු': 'මත', 'මතුත්': 'මතුත', 'වෙිවා': 'වෙි', 'හෙනගහපිය': 'හෙනගහ', 'ගැනු': 'ගැ', 'රටේන්': 'රටේන', 'එලවන්න': 'එලවන්', 'නොදකින්': 'නොදකින', 'ශාපවේවා': 'ශාපවේ', 'අමන': 'අම', 'පාලකයොන්ගේ': 'පාලකයොන්', 'වේසී': 'වේස', 'තැනටම': 'තැන', 'දගලනවා': 'දගල', 'පල': 'ප', 'වේසියෙ': 'වේසි', 'ලෝකෙන්ම': 'ලෝකෙන්', 'හැප්පිය': 'හැප්', 'වාහනේකට': 'වාහනේ', 'මැරෙන්නම': 'මැරෙන්න', 'බැල්ලිව': 'බැල්ලි', 'රටක': 'රට', 'ආගමික': 'ආගමි', 'නායකයකු': 'නායකය', 'දෙ': 'ද', 'කලානම්': 'කලානම', 'රාජ්': 'රාජ', 'ගෙෘරව': 'ගෙෘර', 'ජනතාවට': 'ජනතාව', 'දෙවියෝ': 'දෙවි', 'හෙන': 'හෙ', 'ගහපන්': 'ගහපන', 'දේට': 'දේ', 'තෝනමි': 'තෝන', 'විඳවලා': 'විඳව', 'හතම': 'හත', 'වැදියන්': 'වැදියන', 'ගහනවා': 'ගහ', 'වෙසිට': 'වෙසි', 'අපරාද': 'අපරා', 'පාවලා': 'පාව', 'රකින': 'රකි', 'සක්කිලි': 'සක්ක', 'තිට': 'ති', 'පට්ට': 'පට්', 'දම්මලා': 'දම්ම', 'හුකන්න': 'හුකන්', 'ඉනී': 'ඉන', 'ජම්පරේ': 'ජම්පර', 'ඕනී': 'ඕන', 'ආයේ': 'ආ', 'චීවරේ': 'චීවර', 'නොදාන්නම': 'නොදාන්න', 'එකට': 'එ', 'කඩේ': 'කඩ', 'පාවා': 'පා', 'ගැනිට': 'ගැනි', 'අපායෙ': 'අපා', 'කොටිදෙන': 'කොටිදෙ', 'සමාජෙට': 'සමාජෙ', 'හොද': 'හො', 'කරපන්': 'කරපන', 'දෙනක්': 'දෙනක', 'පඩංගු': 'පඩංග', 'දෙමළු': 'දෙමළ', 'එහෙමද': 'එහෙම', 'කැරී': 'කැර', 'බලු': 'බල', 'තොගෙ': 'තො', 'අම්මා': 'අම්ම', 'බල්ලොත්': 'බල්ලොත', 'ලැගලා': 'ලැග', 'තොව': 'තො', 'ජාතක': 'ජාත', 'තියෙන්නේ': 'තියෙ', 'තෙවරප්පෙරැමට': 'තෙවරප්පෙරැම', 'අහුඋනොත්': 'අහුඋනොත', 'මිනිස්සුන්ට': 'මිනිස්සුන්', 'මොනතරමි': 'මොනතර', 'කලත්': 'කලත', 'වැඩක්': 'වැඩක', 'වෙනස්කරන්න': 'වෙනස්කරන්', 'ඒදේ': 'ඒද', 'වැටහෙනවා': 'වැටහෙ', 'බහුතරයක්': 'බහුතරයක', 'පොලීසිය': 'පොලීසි', 'ආතල්': 'ආතල', 'දෙනවා': 'දෙ', 'පූජිතයෝ': 'පූජිත', 'උබට': 'උබ', 'තියෙන': 'තියෙ', 'මේවද': 'මේව', 'යුද්ධයේ': 'යුද්ධ', 'සැබෑම': 'සැබෑ', 'අවසානය': 'අවසාන', 'මේකයි': 'මේක', 'දැන්වත්': 'දැන්වත', 'විග්නේෂ්වරන්': 'විග්නේෂ්වරන', 'සිවාජිලිංගම්': 'සිවාජිලිංගම', 'සම්බන්ධන්': 'සම්බන්ධන', 'සුමන්තිරන්': 'සුමන්තිරන', 'කාළක්නි': 'කාළක්', 'දේශපාලකයින්': 'දේශපාලකයින', 'දේශපාලනයෙන්': 'දේශපාලනයෙන', 'අතුගා': 'අතුග', 'දැමිය': 'දැමි', 'පාර්ලිමේන්තුවේ': 'පාර්ලිමේන්තු', 'කටා': 'කට', 'දත්': 'දත', 'කාල': 'කා', 'කන්නි': 'කන්', 'රාජිතයා': 'රාජිත', 'මතක්': 'මතක', 'මගේ': 'ම', 'මාළු': 'මාළ', 'නටනවා': 'නට', 'ස්වාමීන්': 'ස්වාමීන', 'හිමියනට': 'හිමියන', 'සෙබළුන්ගෙන්': 'සෙබළුන්ගෙන', 'ලබාගන්න': 'ලබාගන්', 'බුදුන්ගෙන්': 'බුදුන්ගෙන', 'ලබාගත්තේ': 'ලබාගත්ත', 'නැතිකොට': 'නැතිකො', 'මොකෙක්ගෙන්වත්': 'මොකෙක්ගෙන්වත', 'ගනීද': 'ගනී', 'තම': 'ත', 'හරක්': 'හරක', 'ඕවා': 'ඕ', 'හොඳට': 'හොඳ', 'පිළිගන්නවා': 'පිළිගන්', 'හරකුන්ට': 'හරකුන්', 'ගහක්': 'ගහක', 'හිටවන්න': 'හිටවන්', 'ගියත්': 'ගියත', 'කුඩයක්': 'කුඩයක', 'අල්ලන්න': 'අල්ලන්', 'ඔනේ': 'ඔන', 'බහින්න': 'බහින්', 'වලකුත්': 'වලකුත', 'හාරලා': 'හාර', 'පවු': 'පව', 'කාලෙකට': 'කාලෙ', 'පාලත්': 'පාලත', 'සභා': 'සභ', 'මන්ත්': 'මන්ත', 'රී': 'ර', 'ජුන්ඩේක්': 'ජුන්ඩේක', 'මහතෙක්': 'මහතෙක', 'හැදුලුම්': 'හැදුලුම', 'ඉල්ලූවා': 'ඉල්ලූ', 'දාපු': 'දා', 'ගෙම්බර්': 'ගෙම්බර', 'ලස්සන': 'ලස්ස', 'මුට්ටියක්': 'මුට්ටියක', 'කියලයි': 'කියල', 'මටනම්': 'මටනම', 'තා': 'ත', 'දවසකින්': 'දවසකින', 'දාගෙන': 'දාගෙ', 'යන්නේ': 'ය', 'ජයරත්නගෙ': 'ජයරත්න', 'නෑදෑයෙක්ද': 'නෑදෑයෙක්', 'කොහෙද': 'කොහෙ', 'වැස්සොත්': 'වැස්සොත', 'ශොට්': 'ශොට', 'වෙල': 'වෙ', 'මැරෙන්නෙ': 'මැරෙ', 'දියුනු': 'දියු', 'වුන්': 'වුන', 'කනට': 'කන', 'ගහලා': 'ගහ', 'මෙක': 'මෙ', 'පෙන්නපල්ලා': 'පෙන්න', 'දියුණුවක්': 'දියුණුවක', 'හිතනවා': 'හිත', 'වැරදිලා': 'වැරදි', 'සහෝදරයා': 'සහෝදර', 'පාඩම්': 'පාඩම', 'කරපල්ලකෝ': 'කරපල්ලක', 'පැය': 'පැ', 'පෝලීමේ': 'පෝලී', 'ඉන්නේ': 'ඉ', 'අමාරුවෙන්': 'අමාරුවෙන', 'පුටුවක්': 'පුටුවක', 'අල්ලගන්න': 'අල්ලගන්', 'ඕනිද': 'ඕනි', 'වාඩිවෙලා': 'වාඩිවෙ', 'බලන්න': 'බලන්', 'ආපු': 'ආ', 'අය': 'අ', 'මෙතනින්': 'මෙතනින', 'විඩීයෝ': 'විඩී', 'අප්සට්': 'අප්සට', 'පේන්නේ': 'පේ', 'යක්කුන්ට': 'යක්කුන්', 'ලජ්ජා': 'ලජ්ජ', 'මුන්ට': 'මුන්', 'සමානකරලා': 'සමානකර', 'ඒකෙන්': 'ඒකෙන', 'මේකෙන්': 'මේකෙන', 'උනේ': 'උන', 'ගීතට': 'ගීත', 'හිටිය': 'හිටි', 'නැතිවුන': 'නැතිවු', 'ගෙන්': 'ගෙන', 'උනාට': 'උනා', 'ඉඩල': 'ඉඩ', 'හිටලා': 'හිට', 'දෙවලුත්': 'දෙවලුත', 'නොකියන': 'නොකිය', 'වම': 'ව', 'බයිසන්ලට': 'බයිසන්ල', 'සුරංගනාවියන්': 'සුරංගනාවියන', 'මීට': 'මී', 'හිතෙන්නේ': 'හිතෙ', 'ඩයල්': 'ඩයල', 'දුප්පත්': 'දුප්පත', 'සියගනනකට': 'සියගනන', 'පැල්පතක්': 'පැල්පතක', 'තනාදෙන්න': 'තනාදෙන්', 'තීබු': 'තීබ', 'අපුරුව': 'අපුරු', 'පිහි': 'පි', 'ඇනුම්': 'ඇනුම', 'විනෝද': 'විනෝ', 'රීඩා': 'රීඩ', 'රැසකුත්': 'රැසකුත', 'නෙහ්': 'නෙහ', 'කෑමකඩත්': 'කෑමකඩත', 'තියෙනවද': 'තියෙනව', 'වගේද': 'වගේ', 'එනවද': 'එනව', 'ගෑන': 'ගෑ', 'දන්න': 'දන්', 'කියපන්': 'කියපන', 'කන්ටැක්': 'කන්ටැක', 'ඔනී': 'ඔන', 'ඊළඟට': 'ඊළඟ', 'මේවල': 'මේව', 'විදිහට': 'විදිහ', 'ගණන්': 'ගණන', 'ටිකට්': 'ටිකට', 'නිකුත්': 'නිකුත', 'අන්තිමේ': 'අන්ති', 'යාඩ්': 'යාඩ', 'ගෙනල්ලා': 'ගෙන', 'නැවැත්තුවාම': 'නැවැත්තුවා', 'ආරක්ෂාවත්': 'ආරක්ෂාවත', 'රෑට': 'රෑ', 'ෆෑන්': 'ෆෑන', 'පන්නන': 'පන්න', 'අයත්': 'අයත', 'ඇතුල': 'ඇතු', 'සතියකට': 'සතිය', 'දෙසැරයක්': 'දෙසැරයක', 'පිරිසිදු': 'පිරිසිද', 'විශේෂයෙන්ම': 'විශේෂයෙන්', 'ටොයිලට්': 'ටොයිලට', 'මසෙට': 'මසෙ', 'ක්ලීන්': 'ක්ලීන', 'කලොත්': 'කලොත', 'අවුරුදු': 'අවුරුද', '5ක්': '5ක', 'ලස්සනට': 'ලස්සන', 'තියාගතහැකි': 'තියාගතහැ', 'ලංකාවට': 'ලංකාව', 'ඕව': 'ඕ', 'හරියන්නෙ': 'හරිය', 'සුපෝකබෝගී': 'සුපෝකබෝග', 'දේවල්': 'දේවල', 'විදින්න': 'විදින්', 'හුරුකරගන්න': 'හුරුකරගන්', 'උන්ටත්': 'උන්ටත', 'ඉතුරුකරල': 'ඉතුරුකර', 'සිංහලනෙ': 'සිංහලන', 'සිංහයන්ගෙන්ලුනෙ': 'සිංහයන්ගෙන්ලුන', 'පැවතගෙන': 'පැවතගෙ', 'එන්නෙ': 'එ', 'අපිට': 'අපි', 'රෙන්': 'රෙන', 'ඒව': 'ඒ', 'ගෙනත්': 'ගෙනත', 'ඒවනම්': 'ඒවනම', 'යනව': 'යන', 'මම': 'ම', 'දැකල': 'දැක', 'තියනවනෙ': 'තියනවන', 'අලුතින්ම': 'අලුතින්', 'ගෙනාපු': 'ගෙනා', 'ඔපිස්': 'ඔපිස', 'සෙට්': 'සෙට', 'ට්': 'ට', 'රිප්': 'රිප', 'සිගිති': 'සිගි', 'කාරයො': 'කාරය', 'බොකක්': 'බොකක', 'ලෝඩ්වෙලා': 'ලෝඩ්වෙ', 'කෝච්චියෙ': 'කෝච්චි', 'ගියොත්': 'ගියොත', 'පුදුම': 'පුදු', 'හාස්කමක්': 'හාස්කමක', 'බොක': 'බො', 'එනව': 'එන', 'ඒකටනම්': 'ඒකටනම', 'දුම්': 'දුම', 'රිය': 'රි', 'දෙපාර්තුමේන්තුවත්': 'දෙපාර්තුමේන්තුවත', 'වගකියන්න': 'වගකියන්', 'කෝච්චිය': 'කෝච්චි', 'අවසාන': 'අවසා', 'ආවහම': 'ආවහ', 'නඩත්තුවක්': 'නඩත්තුවක', 'පහුවදා': 'පහුවද', 'උදේට': 'උදේ', 'එන්ජිම': 'එන්ජි', 'පැත්තට': 'පැත්ත', 'අමුනල': 'අමුන', 'ඇදගෙන': 'ඇදගෙ', 'පේන්නෙ': 'පේ', 'ඒකට': 'ඒ', 'වරදක්': 'වරදක', 'කියන්නත්': 'කියන්නත', 'සේවකයො': 'සේවකය', 'පඩියක්': 'පඩියක', 'කොරන්න': 'කොරන්', 'රටින්': 'රටින', 'ණය': 'ණ', 'ගිහිනුත්': 'ගිහිනුත', 'පාර්ලිමේන්තුව': 'පාර්ලිමේන්තු', 'නඩත්තු': 'නඩත්ත', 'තේරෙන්නෙ': 'තේරෙ', 'කරල': 'කර', 'ටයි': 'ට', 'තෙප්පමක්': 'තෙප්පමක', 'හදාගෙන': 'හදාගෙ', 'කමක්': 'කමක', 'ජීවත්': 'ජීවත', 'රටකට': 'රට', 'පලයල්ල': 'පලයල්', 'අදහස්': 'අදහස', 'ඇතුලේම': 'ඇතුලේ', 'පල්': 'පල', 'ස්ටේෂන්': 'ස්ටේෂන', 'වලයි': 'වල', 'දුම්රිය': 'දුම්රි', 'ඇතුලෙයි': 'ඇතුලෙ', 'දැනෙන': 'දැනෙ', 'කළා': 'කළ', 'භාෂා': 'භාෂ', '3න්ම': '3න්', 'පින්තූරත්': 'පින්තූරත', 'වෙනසක්': 'වෙනසක', 'පොටෝ': 'පොට', 'ටිකම': 'ටික', 'මාසයකින්': 'මාසයකින', 'සීට්': 'සීට', 'ටිකයි': 'ටික', 'එන්ජිමයි': 'එන්ජිම', 'ඉතුරු': 'ඉතුර', 'ගලවනවා': 'ගලව', 'සත්තයි': 'සත්ත', 'එඋන්': 'එඋන', 'මිනිස්සුන්ගෙන්': 'මිනිස්සුන්ගෙන', 'පරිස්සම්': 'පරිස්සම', 'කරගන්න': 'කරගන්', 'ඔෆිස්': 'ඔෆිස', 'අමුතුම': 'අමුතු', 'සත්තු': 'සත්ත', 'එකෙම': 'එකෙ', 'ගෑනු': 'ගෑ', 'එකතු': 'එකත', 'හුරනවා': 'හුර', 'ගොඩක්ම': 'ගොඩක්', 'අහිගුන්ටකයෝ': 'අහිගුන්ටක', 'විනයක්': 'විනයක', 'පිරහෙමින්': 'පිරහෙමින', 'තිබෙන': 'තිබෙ', 'ගන්නා': 'ගන්', 'කොපමන': 'කොපම', 'රැකගනීවිද': 'රැකගනීවි', 'මන්දා': 'මන්ද', 'මිනිසුනේ': 'මිනිසුන', 'පොදු': 'පොද', 'දේපල': 'දේප', 'රැකගනිව්': 'රැකගනිව', 'කුරුටු': 'කුරුට', 'ගා': 'ග', 'අපවිත්': 'අපවිත', 'නොකරව්': 'නොකරව', 'ෂීට්': 'ෂීට', 'කඩලා': 'කඩ', 'ජරා': 'ජර', 'දැක්කොත්': 'දැක්කොත', 'පොන්නයෝ': 'පොන්න', 'බලන්': 'බලන', 'ඉන්නැතුව': 'ඉන්නැතු', 'පුරෝල': 'පුරෝ', 'පැලෙන්න': 'පැලෙන්', 'පෙන්න': 'පෙන්', 'මගිජනතාව': 'මගිජනතා', 'දුමිරිය': 'දුමිරි', 'දෙපාර්තමේන්තු': 'දෙපාර්තමේන්ත', 'සේවකයන්': 'සේවකයන', 'තුත්': 'තුත', 'මෙය': 'මෙ', 'රැකගන්න': 'රැකගන්', 'කටයුතු': 'කටයුත', 'කලයුතුයි': 'කලයුතු', 'ගමන්': 'ගමන', 'වාරයක්': 'වාරයක', 'අවසන': 'අවස', 'හොදින්': 'හොදින', 'අඩුපාඩු': 'අඩුපාඩ', 'සැකසිය': 'සැකසි', 'රැහුනු': 'රැහු', 'ෆැන්': 'ෆැන', 'මකුනුදැල්': 'මකුනුදැල', 'බැදිල': 'බැදි', 'දුවිලිවලින්': 'දුවිලිවලින', 'පිරිල': 'පිරි', 'මෙව': 'මෙ', 'දෙගොල්ල': 'දෙගොල්', 'දායක': 'දාය', 'වියයුතුමයි': 'වියයුතුම', 'එවුන්ට': 'එවුන්', 'ලියන්න': 'ලියන්', 'සිට්': 'සිට', 'ඉරන්න': 'ඉරන්', 'කඩල': 'කඩ', 'ඉරුගු': 'ඉරුග', 'කාපු': 'කා', 'එවා': 'එ', 'දලා': 'ද', 'ර්ප්': 'ර්ප', 'ගිහිල්ලා': 'ගිහි', 'එන්න': 'එන්', 'අලුත්': 'අලුත', 'භාන්ඩේ': 'භාන්ඩ', 'අපො': 'අප', 'ඉංදියන්': 'ඉංදියන', 'ජාරාව': 'ජාරා', 'ඉස්සල්ලා': 'ඉස්ස', 'පුරුදු': 'පුරුද', 'වේයල්ලා': 'වේය', 'ගොටු': 'ගොට', 'කුනු': 'කු', 'මල': 'ම', 'මානසික': 'මානසි', 'ලෙඩ්ඩු': 'ලෙඩ්ඩ', 'ලියන': 'ලිය', 'නවත්තන්න': 'නවත්තන්', 'හොයපල්ලා': 'හොය', 'ඇද': 'ඇ', 'කුද': 'කු', 'කොච්චිය': 'කොච්චි', 'අගුලාන': 'අගුලා', 'කොරලවෙල්ල': 'කොරලවෙල්', 'මොරටුව': 'මොරටු', 'ස්තාන': 'ස්තා', 'කොච්චියේ': 'කොච්චි', 'පහසුකම්': 'පහසුකම', 'මාසයක්': 'මාසයක', 'යනකොට': 'යනකො', 'පෙත්තේ': 'පෙත්ත', 'ගෙවල්': 'ගෙවල', 'තියෙයි': 'තියෙ', 'කියන්නේ': 'කිය', 'අවත්': 'අවත', 'එවගේ': 'එව', 'විදිහිට': 'විදිහි', 'පරිස්සමෙන්': 'පරිස්සමෙන', 'දෙවල්': 'දෙවල', 'රැක': 'රැ', 'එකාම': 'එකා', 'සතියෙන්': 'සතියෙන', 'කයි': 'ක', 'මෙව්වා': 'මෙව්', 'නෑනෙ': 'නෑන', 'එකෙ': 'එ', 'චුයින්ගම්': 'චුයින්ගම', 'වඩේ': 'වඩ', 'කර්ටන්': 'කර්ටන', 'පිහිදලා': 'පිහිද', 'කම්මැලිකමට': 'කම්මැලිකම', 'කුශන්': 'කුශන', 'කැඩුන': 'කැඩු', 'අව්ලක්': 'අව්ලක', 'හදල': 'හද', 'රෙපයාර්': 'රෙපයාර', 'ගෙනියලා': 'ගෙනිය', 'ගලවල': 'ගලව', 'කවුන්ටරෙට': 'කවුන්ටරෙ', 'වටේට': 'වටේ', 'ස්ටෙසමේ': 'ස්ටෙස', 'නවත්තනකොටම': 'නවත්තනකො', 'නගින': 'නගි', 'ඉන්නොනෙ': 'ඉන්නොන', 'බූමිතෙල්': 'බූමිතෙල', 'වැදිච්ච': 'වැද', 'ලා': '', 'ඕකෙ': 'ඕ', 'තීන': 'තී', 'පේන': 'පේ', 'අතුගාල': 'අතුගා', 'අනිත්ව': 'අනිත්', 'ශීටඅස්සට': 'ශීටඅස්ස', 'තල්ලු': 'තල්ල', 'ලොකුම': 'ලොකු', 'සේවය': 'සේව', 'සතියයි': 'සති', 'ගාගා': 'ගාග', 'කමෙන්ට්': 'කමෙන්ට', 'දාන්නේ': 'දා', 'පිටරට': 'පිටර', 'වෙන්නැති': 'වෙන්නැ', 'මාසයයි': 'මාස', 'එයාගෙ': 'එයා', 'ටොයියොන්ට': 'ටොයියොන්', 'ජෙප්පොන්ට': 'ජෙප්පොන්', 'පේන්න': 'පේන්', 'ලයික්': 'ලයික', 'රශ්නේ': 'රශ්න', 'අඩු': 'අඩ', 'සුවිච්': 'සුවිච', 'එකෙන්': 'එකෙන', 'හරියන්': 'හරියන', 'අඩුයි': 'අඩු', 'සමහරුන්ට': 'සමහරුන්', 'මොලයක්': 'මොලයක', 'මුදලින්': 'මුදලින', 'මේව': 'මේ', 'උපරිම': 'උපරි', 'කීයක්': 'කීයක', 'තියෙයිද': 'තියෙයි', 'ටිකත්': 'ටිකත', 'ගලවගෙන': 'ගලවගෙ', 'නොගියොත්': 'නොගියොත', 'මගී': 'මග', 'ගෙන්නපුව': 'ගෙන්නපු', 'ගෙන්නන': 'ගෙන්න', 'එවුන්ව': 'එවුන්', 'කාර්': 'කාර', 'යාල': 'යා', 'රියක': 'රිය', 'දවසක්': 'දවසක', 'යවන්න': 'යවන්', 'ගාස්තු': 'ගාස්ත', 'නහුතෙට': 'නහුතෙ', 'වෙලාවට': 'වෙලාව', 'දෙපැත්තට': 'දෙපැත්ත', 'පැද්දෙන්නෙ': 'පැද්දෙ', 'ඉල': 'ඉ', 'ඇට': 'ඇ', 'කඩා': 'කඩ', 'විදිහෙ': 'විදිහ', 'හදපල්ලා': 'හද', 'ඉහල': 'ඉහ', 'සියට': 'සිය', 'පහලට': 'පහල', 'ආදර්ශයක්': 'ආදර්ශයක', 'නොදී': 'නොද', 'නොහැක': 'නොහැ', 'සිංගප්පූරුව': 'සිංගප්පූරු', 'එයට': 'එය', 'ආදර්ශයයි': 'ආදර්ශ', 'ඉහලින්': 'ඉහලින', 'යහපත්': 'යහපත', 'ආදර්ශය': 'ආදර්ශ', 'කුමක්ද': 'කුමක්', 'රැකගනිල්ලා': 'රැකගනි', 'ඇහැවගේ': 'ඇහැව', 'වවුලෝ': 'වවුල', 'හැමදාම': 'හැමදා', 'තොපිට': 'තොපි', 'වනසන': 'වනස', 'දැක්කොත්': 'දැක්කොත', 'හැමෝම': 'හැමෝ', 'එකාවගේ': 'එකාව', 'නැගීහිටපල්ලා': 'නැගීහිට', 'අදාල': 'අදා', 'නෑනේ': 'නෑන', 'නොහිතා': 'නොහිත', 'ජනතාව': 'ජනතා', 'වගකීමවත්': 'වගකීමවත', 'කරමු': 'කර', 'දුම්රියේ': 'දුම්රි', 'අවසානයේදී': 'අවසානයේද', 'විදිය': 'විදි', 'රටටම': 'රට', 'පෙන්වන්න': 'පෙන්වන්', 'යෝජනා': 'යෝජ', 'මොකුත්': 'මොකුත', 'කලේ': 'කල', 'බලා': 'බ', 'ගනිල්ල': 'ගනිල්', 'ආන්ඩුවක්': 'ආන්ඩුවක', 'පලක්': 'පලක', 'වෙනුවෙන': 'වෙනුවෙ', 'කවදාවත්': 'කවදාවත', 'ලෝකෙට': 'ලෝකෙ', 'ණයකලේ': 'ණයකල', 'නෙළුම්': 'නෙළුම', 'පොකුනු': 'පොකු', 'ණයකරපු': 'ණයකර', 'සල්ලිවල': 'සල්ලිව', 'වටිනවද': 'වටිනව', 'ඕවට': 'ඕව', 'දකිද්දී': 'දකි', 'ඉන්දියාව': 'ඉන්දියා', 'ඉස්සරහින්ද': 'ඉස්සරහින්', 'ඔකෙ': 'ඔ', 'යන්නෙ': 'ය', 'එව්න්': 'එව්න', 'ටිකමනෙ': 'ටිකමන', 'තුනක්': 'තුනක', 'යද්දී': 'ය', 'කහල': 'කහ', 'ඉන්දීය': 'ඉන්දී', 'දුම්රියන්': 'දුම්රියන', 'එන්නම': 'එන්න', 'අසාර්තකයි': 'අසාර්තක', 'ඒවම': 'ඒව', 'ගෙන්වන්නෙ': 'ගෙන්ව', 'මේකෙනුත්': 'මේකෙනුත', 'කොමිස්': 'කොමිස', 'එන': 'එ', 'නිසාද': 'නිසා', 'ඉන්දියාවේ': 'ඉන්දියා', 'කොලනියක්': 'කොලනියක', 'රටවල': 'රටව', 'නැතිද': 'නැති', 'ඔකොම': 'ඔකො', 'තිබිලා': 'තිබි', 'අන්තිමට': 'අන්තිම', 'බ්': 'බ', 'රේක්': 'රේක', 'උනොත්': 'උනොත', 'අවුල': 'අවු', 'ලංකාවටද': 'ලංකාවට', 'ගේන්නෙ': 'ගේ', 'පලවෙනි': 'පලවෙ', 'දවසෙම': 'දවසෙ', 'ඕකේ': 'ඕ', 'ගලවන්': 'ගලවන', 'යයි': '', 'කෑම': 'කෑ', 'ගැනීම': 'ගැනී', 'තහනම්': 'තහනම', 'ඒකයි': 'ඒක', 'පිරිසිදුවට': 'පිරිසිදුව', 'මේවායේ': 'මේවා', 'විදියත්': 'විදියත', 'සැලකිලිමත්': 'සැලකිලිමත', 'කරුනා': 'කරු', 'පරෙස්සම්': 'පරෙස්සම', 'ඔස්තාර්ල': 'ඔස්තාර්', 'නග්ගල': 'නග්ග', 'රත්තරන්': 'රත්තරන', 'අපේක්ෂකයා': 'අපේක්ෂක', 'දැනගන්න': 'දැනගන්', 'දැන්ම': 'දැන්', 'මිස්': 'මිස', 'මංගල': 'මංග', 'මුදු': 'මුද', 'මාල': 'මා', 'වළලු': 'වළල', 'රන්': 'රන', 'විශ්වාසයි': 'විශ්වාස', 'පවතියි': 'පවති', 'වගකීමට': 'වගකීම', 'බැඳී': 'බැඳ', 'සිටියි': 'සිටි', 'රෝ': 'ර', 'ස්පොන්සර්': 'ස්පොන්සර', 'වැඩිවෙලාද': 'වැඩිවෙලා', 'එනකම්': 'එනකම', 'මගබලන්': 'මගබලන', 'කිය්ලා': 'කිය්', 'නෙමේද': 'නෙමේ', 'හිටියෙ': 'හිටි', 'බුදුන්': 'බුදුන', 'වහන්සේගේ': 'වහන්සේ', 'දේශනා': 'දේශ', 'ඇත්තේ': 'ඇත්ත', 'සමුද්': 'සමුද', 'විරිතට': 'විරිත', 'අනුකූලවයි': 'අනුකූලව', 'පිරිතේ': 'පිරිත', 'ලියා': 'ලි', 'අනුවමයි': 'අනුවම', 'සෙත්': 'සෙත', 'ශක්තිය': 'ශක්ති', 'ලබාගැනිමට': 'ලබාගැනිම', 'ආකාරයෙන්': 'ආකාරයෙන', 'සජ්ජායනය': 'සජ්ජායන', 'අහල': 'අහ', 'තෙරුවනේ': 'තෙරුවන', 'ගුණ': 'ග', 'කෙරෙහි': 'කෙරෙ', 'පහදවා': 'පහද', 'නැතිව': 'නැති', 'තාලයයි': 'තාල', 'භාෂාවයි': 'භාෂාව', 'වාද': 'වා', 'කවදානම්': 'කවදානම', 'සංසාරයෙන්': 'සංසාරයෙන', 'උත්සාහයක්': 'උත්සාහයක', 'පිස්සො': 'පිස්ස', 'කියයි': 'කි', 'සුනකයි': 'සුනක', 'සුනක': 'සුන', 'හූ': 'හ', 'කිය': '', 'නටයි': 'නට', 'මහමෙව්නා': 'මහමෙව්', 'පිරිසයට': 'පිරිසය', 'සත්ව': 'සත්', 'කොට්ඨාසය': 'කොට්ඨාස', 'අදාලම': 'අදාල', 'වෙලාවකුත්': 'වෙලාවකුත', 'වහන්සේලා': 'වහන්සේ', 'මෙරක්': 'මෙරක', 'ස්වාමින්වහන්සේගේ': 'ස්වාමින්වහන්සේ', 'යුගයයි': 'යුග', 'ස්වාමින්වහන්සේගෙ': 'ස්වාමින්වහන්සේ', 'මාර්ගයේ': 'මාර්ග', 'යනවා': 'ය', 'පින්වත්': 'පින්වත', 'ස්වාමින්වහන්සේලා': 'ස්වාමින්වහන්සේ', 'පහල': 'පහ', 'වන්දනාවට': 'වන්දනාව', 'දොස්': 'දොස', 'නගන': 'නග', 'දෙනාටයි': 'දෙනාට', 'බොරුවට': 'බොරුව', 'ආර්': 'ආර', 'උපවාදයට': 'උපවාදය', 'ලක්': 'ලක', 'මා': 'ම', 'හිමිගේ': 'හිමි', 'බන': 'බ', 'පදයක්වත්': 'පදයක්වත', 'අසා': 'අස', 'වහසේගේ': 'වහසේ', 'පිලිවෙතට': 'පිලිවෙත', 'නගන්න': 'නගන්', 'කා': '', 'ලගත්': 'ලගත', 'හිමියන්ගේ': 'හිමියන්', 'සීලයටවත්': 'සීලයටවත', 'ගුනයටවත්': 'ගුනයටවත', 'ලගටවත්': 'ලගටවත', 'සිදු': 'සිද', 'අති': 'අ', 'මහත්': 'මහත', 'ස්': 'ස', 'රද්දාව': 'රද්දා', 'වැඩෙනවා': 'වැඩෙ', 'හැකි': 'හැ', 'රත්නයේ': 'රත්න', 'සිහිපත්': 'සිහිපත', 'කිරීමයි': 'කිරීම', 'වහන්සේලාගේ': 'වහන්සේලා', 'දේශනාවෙන්': 'දේශනාවෙන', 'සුවපත්': 'සුවපත', 'වුනෙමි': 'වුනෙ', 'කුසලය': 'කුසල', 'අනුමෝදන්': 'අනුමෝදන', 'බිරුවට': 'බිරුව', 'කදු': 'කද', 'පාත්': 'පාත', 'බුදු': 'බුද', 'සසුන': 'සසු', 'බැබලේවා': 'බැබලේ', 'දහම්පාසලකට': 'දහම්පාසල', 'ගියේ': 'ගි', 'එකාලාට': 'එ', 'සෝක්': 'සෝක', 'ෂෝ': 'ෂ', 'ධර්මය': 'ධර්ම', 'පස්සෙ': 'පස්ස', 'එකාලා': 'එ', 'විකුර්ති': 'විකුර්', 'බුදුහාමුදරුවෝ': 'බුදුහාමුදරු', 'කීව': 'කී', 'සාසනේ': 'සාසන', 'සාසනෙන්ම': 'සාසනෙන්', 'බිහිවෙලා': 'බිහිවෙ', 'වත්තල': 'වත්ත', 'සිලරතන': 'සිලරත', 'පිරිත්': 'පිරිත', 'අහපන්': 'අහපන', 'තෙරෙයි': 'තෙරෙ', 'ව්කුර්ති': 'ව්කුර්', 'නෙති': 'නෙ', 'මේවාට': 'මේවා', 'නිවෙනවා': 'නිවෙ', 'කාලේ': 'කාල', 'ගීතිකා': 'ගීති', 'ගන': 'ග', 'දර්මය': 'දර්ම', 'සැකවින්': 'සැකවින', 'සොයා': 'සො', 'සත්': 'සත', 'තමන්': 'තමන', 'අවබෝද': 'අවබෝ', 'බුදුරජාණන්වහන්සේගේ': 'බුදුරජාණන්වහන්සේ', 'දේශනාවයි': 'දේශනාව', 'කියා': 'කි', 'තමන්ගේ': 'තමන්', 'ඉදිරිපත්': 'ඉදිරිපත', 'කරන්නාවුන්': 'කරන්නාවුන', 'දේශයක්': 'දේශයක', 'නිර්වානය': 'නිර්වාන', 'වසා': 'වස', 'රයෝජන': 'රයෝජ', 'තකා': 'ත', 'වැඩකරන්නාවුන්': 'වැඩකරන්නාවුන', 'අදුන': 'අදු', 'පුද': 'පු', 'පුජා': 'පුජ', 'රම': 'ර', 'තුල': 'තු', 'නිවනක්': 'නිවනක', 'දිගු': 'දිග', 'කරගන්නා': 'කරගන්', 'මගක්': 'මගක', 'පමනි': 'පම', 'නොපමාව': 'නොපමා', 'කුසල්': 'කුසල', 'සාක්ශාත්': 'සාක්ශාත', 'කරගනිත්වා': 'කරගනි', 'හටද': 'හට', 'අවබෝදය': 'අවබෝද', 'ඇත්තවුන්': 'ඇත්තවුන', 'තෙරුම්': 'තෙරුම', 'රිපිටකය': 'රිපිටක', 'කොටස්': 'කොටස', 'ඉංග්': 'ඉංග', 'රීසියෙන්': 'රීසියෙන', 'පල්ලියේ': 'පල්ලි', 'ගයන': 'ගය', 'විධියට': 'විධිය', 'රීසියට': 'රීසිය', 'පරිවර්තනය': 'පරිවර්තන', 'සංගීතිය': 'සංගීති', 'මුසු': 'මුස', 'රතිමා': 'රතිම', 'කලාව': 'කලා', 'පිටින්ම': 'පිටින්', 'නිරුවත්': 'නිරුවත', 'අඹල': 'අඹ', 'පිරිසක්': 'පිරිසක', 'විවේචනය': 'විවේචන', 'හදපු': 'හද', 'හදනවා': 'හද', 'ආරංචියි': 'ආරංචි', 'නොදන්නවා': 'නොදන්', 'හාමුදුරුවන්ගේ': 'හාමුදුරුවන්', 'වැඩපිළිවෙල': 'වැඩපිළිවෙ', 'දන්නේ': 'ද', 'ඉඳල': 'ඉඳ', 'ගලිගමුවේ': 'ගලිගමු', 'දීල': 'දී', 'හාමුදුරුවන්ව': 'හාමුදුරුවන්', 'අපවත්': 'අපවත', 'හැදුවේ': 'හැදු', 'කව්ද': 'කව්', 'හාමුදුරුවන්ගෙන්ම': 'හාමුදුරුවන්', 'ඇහුවනම්': 'ඇහුවනම', 'තිබුන': 'තිබු', 'මහාචාර්ය': 'මහාචාර්', 'ඉඳුරාගාරේ': 'ඉඳුරාගාර', 'ධර්මරතන': 'ධර්මරත', 'ඝාතක': 'ඝාත', 'පොතක්': 'පොතක', 'ලියල': 'ලිය', 'පොතේ': 'පොත', 'උන්නාන්සේගේ': 'උන්නාන්සේ', 'කෙරුවාව': 'කෙරුවා', 'හොයාගෙන': 'හොයාගෙ', 'කියවන්න': 'කියවන්', 'බොරු': 'බොර', 'අපහාසයක්': 'අපහාසයක', 'පාපයේ': 'පාප', 'පළල': 'පළ', 'දන්නවා': 'දන්', 'බය': 'බ', 'චෝදනාව': 'චෝදනා', 'හොඳාකාරවම': 'හොඳාකාරව', 'දන්නා': 'දන්', 'නිසයි': 'නිස', 'පරම': 'පර', 'යය': 'ය', 'මමත්': 'මමත', 'දෙකටම': 'දෙක', 'ඉඳන්ම': 'ඉඳන්', 'කාලයක්': 'කාලයක', 'කතෝලික': 'කතෝලි', 'කෙල්ලෙක්': 'කෙල්ලෙක', 'නිරායාසයෙන්': 'නිරායාසයෙන', 'නිස්කලංක': 'නිස්කලං', 'වුණා': 'වුණ', 'කෙල්ල': 'කෙල්', 'ගියා': 'ගි', 'දරුවා': 'දරු', 'තිරණය': 'තිරණ', 'පලවැනි': 'පලවැ', 'එකා': 'එ', 'දෙක': 'දෙ', 'අරකයි': 'අරක', 'දෙන්නවම': 'දෙන්නව', 'කැමතිනම්': 'කැමතිනම', 'බෞතීස්ම': 'බෞතීස්', 'කැමති': 'කැම', 'මමයි': 'මම', 'මල්ලියි': 'මල්ලි', 'දෙන්නම': 'දෙන්න', 'ඉස්කෝල': 'ඉස්කෝ', 'දෙකකට': 'දෙ', 'නිරාගමික': 'නිරාගමි', 'දෙන්නා': 'දෙන්', 'බැන්දයින්': 'බැන්දයින', 'ඉපදෙන': 'ඉපදෙ', 'ලමයා': 'ලම', 'ඊලගට': 'ඊලග', 'රශ්නයක්ද': 'රශ්නයක්', 'ලමයෙක්': 'ලමයෙක', 'අදත්': 'අදත', 'යාළුවෝ': 'යාළු', 'ගරු': 'ගර', 'කාදිනල්': 'කාදිනල', 'තුමාට': 'තුමා', 'පළු': 'පළ', 'බනිනවා': 'බනි', 'තුමා': 'තුම', 'ඔයාලගෙ': 'ඔයාල', 'දකුණු': 'දකුණ', 'කම්මුලට': 'කම්මුල', 'ගැහුවොත්': 'ගැහුවොත', 'වම්': 'වම', 'කම්මුලත්': 'කම්මුලත', 'පෙන්නන්න': 'පෙන්නන්', 'යාළුවනේ': 'යාළුවන', 'ආණ්ඩුව': 'ආණ්ඩු', 'වෙනරටවල්': 'වෙනරටවල', 'පරීකෂන': 'පරීකෂ', 'නැත්තෙ': 'නැත්ත', 'බයේද': 'බයේ', 'උප්පැන්නෙ': 'උප්පැ', 'ශ්': 'ශ', 'රීලාංකික': 'රීලාංකි', 'තිබ්බනම්': 'තිබ්බනම', 'හොදද': 'හොද', 'වැලන්ටයින්': 'වැලන්ටයින', 'සාන්තුවරයෙක්ගේ': 'සාන්තුවරයෙක්', 'නමක්': 'නමක', 'ආගම්වාදියෝ': 'ආගම්වාදි', 'දැනගත්තොත්': 'දැනගත්තොත', 'ඕකත්': 'ඕකත', 'දායි': 'දා', 'වෙසක්': 'වෙසක', 'අවුරුද්දට': 'අවුරුද්ද', 'සහන': 'සහ', 'නැහැනේ': 'නැහැන', 'චන්දවලට': 'චන්දවල', 'ආසාව': 'ආසා', 'හදිස්සියේ': 'හදිස්සි', 'බැන්දනම්': 'බැන්දනම', 'අවුරුදුත්': 'අවුරුදුත', 'නත්තලුත්': 'නත්තලුත', 'රතිසංස්කරණය': 'රතිසංස්කරණ', 'ලද': 'ල', 'මුල්ලිකුලම': 'මුල්ලිකුල', 'දේවස්ථානය': 'දේවස්ථාන', 'ආරක්ෂක': 'ආරක්ෂ', 'ලේකම්තුමන්': 'ලේකම්තුමන', 'අතින්': 'අතින', 'ජනතා': 'ජනත', 'අයිතියට': 'අයිතිය', 'ග්': 'ග', 'රෑන්ඩ්පාස්': 'රෑන්ඩ්පාස', 'දෙමල': 'දෙම', 'අඬනවා': 'අඬ', 'මන්නාරමේ': 'මන්නාර', 'මීසම': 'මීස', 'පූජකතුමන්ලා': 'පූජකතුමන්', 'රාදේශීය': 'රාදේශී', 'දේශපාලනඥයින්': 'දේශපාලනඥයින', 'මොහොතකට': 'මොහොත', 'මැතිතුමා': 'මැතිතුම', 'හමු': 'හ', 'වූහ': 'ව', 'මහාමෙව්නා': 'මහාමෙව්', 'අසපුවට': 'අසපුව', 'ගිහිල්ලම': 'ගිහිල්ල', 'දැනුමක්': 'දැනුමක', 'ලැබෙනවා': 'ලැබෙ', 'පව්': 'පව', 'උතුම්': 'උතුම', 'ගැනත්': 'ගැනත', 'කාකොටා': 'කාකොට', 'එදත්': 'එදත', 'හිටියා': 'හිටි', 'කැටයක': 'කැටය', 'තරම්වත්': 'තරම්වත', 'නොදැන': 'නොදැ', 'වැරැද්ද': 'වැරැද්', 'ඇතැමුන්': 'ඇතැමුන', 'උන්නාන්සේ': 'උන්නාන්ස', 'කව්රුත්': 'කව්රුත', 'දහම': 'දහ', 'ගමු': 'ග', 'චූඩාමානි': 'චූඩාමා', 'කයේ': 'ක', 'සරණයි': 'සරණ', 'පූර්වාදර්ශයක්': 'පූර්වාදර්ශයක', 'ඔහු': 'ඔ', 'අතට': 'අත', 'අවස්ථාවෙදිවත්': 'අවස්ථාවෙදිවත', 'එය': 'එ', 'පෙන්නුම්': 'පෙන්නුම', 'ඔහුගේ': 'ඔහු', 'උඩගු': 'උඩග', 'කම': 'ක', 'දුමින්ද': 'දුමින්', 'කලාවට': 'කලාව', 'කලාකාරිනියකට': 'කලාකාරිනිය', 'මාසෙට': 'මාසෙ', '3ගානේ': '3ගාන', 'ගෙවනවා': 'ගෙව', 'ගොඩනැගිල්ලට': 'ගොඩනැගිල්ල', 'යන්නත්': 'යන්නත', 'ඉදලම': 'ඉදල', 'උදය': 'උද', 'ගම්මන්පිල': 'ගම්මන්පි', 'නිකමෙක්': 'නිකමෙක', 'වසරේ': 'වසර', 'උසස්': 'උසස', 'අංශයෙන්': 'අංශයෙන', 'දිවයිනෙන්ම': 'දිවයිනෙන්', 'රථමස්ථානය': 'රථමස්ථාන', 'ලබා': 'ලබ', 'ගත්': 'ගත', 'ලංකා': 'ලං', 'දේශපාලනයට': 'දේශපාලනය', 'විරල': 'විර', 'උගතෙක්': 'උගතෙක', 'සිදුවීම': 'සිදුවී', 'අස්භාවිකයි': 'අස්භාවික', 'පක්ෂයක': 'පක්ෂය', 'බොරුකාරයන්': 'බොරුකාරයන', 'දිගටම': 'දිග', 'අයටත්': 'අයටත', 'රුකුලක්': 'රුකුලක', 'දේශපාලන': 'දේශපාල', 'එරෙහි': 'එරෙ', 'කලාකරුවා': 'කලාකරු', 'දේශපාලනේ': 'දේශපාලන', 'මතය': 'මත', 'දැරුවත්': 'දැරුවත', 'තැනක': 'තැන', 'නිහතමානි': 'නිහතමා', 'නොවීම': 'නොවී', 'කනගාටුවට': 'කනගාටුව', 'කාරනාවක්': 'කාරනාවක', 'සම්මානයේ': 'සම්මාන', 'දක්වපු': 'දක්ව', 'ගෞරවය': 'ගෞරව', 'එතැනින්ම': 'එතැනින්', 'තේරැමි': 'තේරැ', 'මහජනතාවගේ': 'මහජනතාව', 'පිලිකුල': 'පිලිකු', 'මහජන': 'මහජ', 'සේවයට': 'සේවය', 'තරුණියන්': 'තරුණියන', 'මෙිවගේ': 'මෙිව', 'සංවිධාන': 'සංවිධා', 'ඔින': 'ඔි', 'හම්මෝ': 'හම්ම', 'ටිකට': 'ටි', 'ශාරුක්': 'ශාරුක', 'කාන්ලටත්': 'කාන්ලටත', 'මොකුන්ද': 'මොකුන්', 'සම්මාන': 'සම්මා', 'ගත්තෙ': 'ගත්ත', 'කියනකොට': 'කියනකො', 'දැනගත්තෙම': 'දැනගත්තෙ', 'කොහොම': 'කොහො', 'මොවුන්': 'මොවුන', 'දෙදෙනා': 'දෙදෙ', 'හදවතින්': 'හදවතින', 'කලා': 'ක', 'කරුවන්': 'කරුවන', 'සමිමානේ': 'සමිමාන', 'නමි': 'න', 'තිබිබා': 'තිබිබ', 'මිනිසෙකුට': 'මිනිසෙ', 'කාරයෙක්': 'කාරයෙක', 'මිනිසෙක්': 'මිනිසෙක', 'හිනා': 'හි', 'වෙන්නවත්': 'වෙන්නවත', 'අහක': 'අහ', 'කෙනාට': 'කෙනා', 'දේශපාලුවෝ': 'දේශපාලු', 'දෙන්නනම': 'දෙන්නන', 'ගැහුවා': 'ගැහු', 'කරේ': 'කර', 'කපටිකමටද': 'කපටිකමට', 'ලැජ්ජාවෙන්': 'ලැජ්ජාවෙන', 'බේරෙන්නද': 'බේරෙන්න', 'හිතන්න': 'හිතන්', 'අමාරුයි': 'අමාරු', 'වුනේ': 'වුන', 'පැහැදිලියි': 'පැහැදිලි', 'හිතන්නෙ': 'හිත', 'උන්ගෙන්': 'උන්ගෙන', 'සම්මානයට': 'සම්මානය', 'වටිනා': 'වටි', 'නිර්මානයක්': 'නිර්මානයක', 'වටිනාකමක්': 'වටිනාකමක', 'විශබීජයක්': 'විශබීජයක', 'ලැබුනොත්': 'ලැබුනොත', 'ඒකෙ': 'ඒ', 'දෙන්නගෙ': 'දෙන්න', 'හොදේ': 'හොද', 'වපුරන': 'වපුර', 'රතිපත්තියක්': 'රතිපත්තියක', 'දෙන්නෙක්ට': 'දෙන්නෙක්', 'ආරාධනය': 'ආරාධන', 'සදාචාරාත්මක': 'සදාචාරාත්ම', 'අයිතිය': 'අයිති', 'සම්මානයක්': 'සම්මානයක', 'කලාකාරයෙකුට': 'කලාකාරයෙ', 'උසස්ම': 'උසස්', 'පාදඩයෙක්ගෙ': 'පාදඩයෙක්', 'ලැබෙන්නෙ': 'ලැබෙ', 'ඊටවඩා': 'ඊටවඩ', 'දීපු': 'දී', 'පනිවිඩය': 'පනිවිඩ', 'වියයුත්තේ': 'වියයුත්ත', 'කොතනද': 'කොතන', 'නෙමෙයි': 'නෙමෙ', 'කශේරුකාවක්': 'කශේරුකාවක', 'පෙන්නුවා': 'පෙන්නු', 'කළාවට': 'කළාව', 'උද්දච්චකම': 'උද්දච්චක', 'බොලිවුඩය': 'බොලිවුඩ', 'හොලිවුඩයෙ': 'හොලිවුඩ', 'නලු': 'නල', 'නිළියන්': 'නිළියන', 'නිහතමානී': 'නිහතමාන', 'මොකේද': 'මොකේ', 'රගපෑවෙ': 'රගපෑ', 'උනුත්': 'උනුත', 'මහජනයා': 'මහජන', 'දේශපාලකයොත්': 'දේශපාලකයොත', 'තාව': 'තා', 'කළාකරුවෙක්': 'කළාකරුවෙක', 'උපහාසයට': 'උපහාසය', 'හිත්': 'හිත', 'දිනාගැනීමට': 'දිනාගැනීම', 'හැකියාවක්': 'හැකියාවක', 'දේෂපාලනයක්': 'දේෂපාලනයක', 'ගාවගන්නෙ': 'ගාවග', 'හැකියාව': 'හැකියා', 'වැරදියි': 'වැරදි', 'තිබ්බා': 'තිබ්බ', 'අකමැති': 'අකමැ', 'වෙනයි': 'වෙන', 'වුනාට': 'වුනා', 'ඔයිට': 'ඔයි', 'රවීන': 'රවී', 'කලාකාරයෝ': 'කලාකාර', 'ආදර්ෂය': 'ආදර්ෂ', 'මොකද්ද': 'මොකද්', 'දේෂපාලකයෝ': 'දේෂපාලක', 'ගාවගන්නැතුව': 'ගාවගන්නැතු', 'එකනම්': 'එකනම', 'දේෂපාලනයට': 'දේෂපාලනය', 'නොයා': 'නො', 'සිටිය': 'සිටි', 'තිබුණෙ': 'තිබුණ', 'වුණානම්': 'වුණානම', 'ටයර්': 'ටයර', 'දෙකකුත්': 'දෙකකුත', 'නොමිලෙම': 'නොමිලෙ', 'හම්බෙනවා': 'හම්බෙ', 'බෙල්ල': 'බෙල්', 'දාගන්න': 'දාගන්', 'පහුවෙනිදට': 'පහුවෙනිද', 'මගුලටම': 'මගුල', 'දේසපාලුවො': 'දේසපාලුව', 'ගාව': 'ගා', 'කොහෙවත්': 'කොහෙවත', 'ඔස්කාර්': 'ඔස්කාර', 'බුෂ්': 'බුෂ', 'ඔබාමා': 'ඔබාම', 'ට්රම්ප්': 'ට්රම්ප', 'ආවද': 'ආව', 'ෆිල්ම්': 'ෆිල්ම', 'ෆෙයාර්': 'ෆෙයාර', 'වජ්පායි': 'වජ්පා', 'කලාම්': 'කලාම', 'තියනවද': 'තියනව', 'ගමේ': 'ග', 'ඉල්ලන්න': 'ඉල්ලන්', 'එකෙක්ට': 'එකෙක්', 'නොමිනේෂන්': 'නොමිනේෂන', 'ආවට': 'ආව', 'උන්ගෙ': 'උන්', 'ෆීල්ඩ්එක': 'ෆීල්ඩ්එ', 'කලාකරුවන්ට': 'කලාකරුවන්', 'ක්ෂේත්': 'ක්ෂේත', 'රවීණයො': 'රවීණය', 'නිකමට': 'නිකම', 'සම්මානය': 'සම්මාන', 'මනින': 'මනි', 'මිම්මත්': 'මිම්මත', 'දිහා': 'දිහ', 'බලන': 'බල', 'කෝණයත්': 'කෝණයත', 'යටම': 'ය', 'පක්': 'පක', 'ෂයකින්': 'ෂයකින', 'ඉල්ලුවොත්': 'ඉල්ලුවොත', 'රැස්වීමකට': 'රැස්වීම', 'ඉදන්': 'ඉදන', 'පක්ෂයේ': 'පක්ෂ', 'දෙශපාලනය': 'දෙශපාලන', 'ගහනව': 'ගහන', 'යාළුවො': 'යාළුව', 'ඇද්ද': 'ඇද්', 'වලම': 'වල', 'තේරෙයි': 'තේරෙ', 'නරඹන්නට': 'නරඹන්න', 'රදාන': 'රදා', 'බලන්නෙ': 'බල', 'නෙවෙ': 'නෙ', 'කලාට': 'කලා', 'රිඩාවටත්': 'රිඩාවටත', 'අදාළයි': 'අදාළ', 'ගෑවෙන': 'ගෑවෙ', 'රිඩා': 'රිඩ', 'ඉවරයිනෙ': 'ඉවරයින', 'වැඩේ': 'වැඩ', 'සම්මානනීය': 'සම්මානනී', 'කලාකරුවෙක්': 'කලාකරුවෙක', 'එකකවත්': 'එකකවත', 'ඉදල': 'ඉද', 'මෙන්ඩිස්': 'මෙන්ඩිස', 'ඇමතිලට': 'ඇමතිල', 'දුන්නොත්': 'දුන්නොත', 'වැඩෙ': 'වැඩ', 'කරුවා': 'කරු', 'සහෘදයා': 'සහෘද', 'ඔහුන්': 'ඔහුන', 'බොහෝසෙයින්': 'බොහෝසෙයින', 'ආදරණීය': 'ආදරණී', 'රියයානයෙක්': 'රියයානයෙක', 'බවයි': 'බව', 'සරස්වතී': 'සරස්වත', 'දේවින්ගෙන්': 'දේවින්ගෙන', 'ආශීර්වාද': 'ආශීර්වා', 'ලබාගෙන': 'ලබාගෙ', 'සෞම්': 'සෞම', 'සුන්දරත්වය': 'සුන්දරත්ව', 'පිළිබිඹු': 'පිළිබිඹ', 'වටිනේද': 'වටිනේ', 'කිරීම': 'කිරී', 'සංස්කෘතිය': 'සංස්කෘති', 'ජීවත්වන': 'ජීවත්ව', 'කල්ක්': 'කල්ක', 'රියාව': 'රියා', 'තීරණය': 'තීරණ', 'වේ': '', 'පිස්සොන්ට': 'පිස්සොන්', 'දැන්නම්': 'දැන්නම', 'හැදීගෙන': 'හැදීගෙ', 'සතුටක්': 'සතුටක', 'දැනෙන්නෙ': 'දැනෙ', 'නියමයි': 'නියම', 'මරු': 'මර', 'කැමත්තක්': 'කැමත්තක', 'මහත්මයෙක්': 'මහත්මයෙක', 'මහතාට': 'මහතා', 'දිලා': 'දි', 'ඉටපස්සෙ': 'ඉටපස්ස', 'ගහපු': 'ගහ', 'අදමයි': 'අදම', 'දැක්කෙ': 'දැක්', 'කලාකරුවන්': 'කලාකරුවන', 'අතකොලුවක්': 'අතකොලුවක', 'පිළිකුලක්': 'පිළිකුලක', 'කොකත්': 'කොකත', 'එකයි': 'එක', 'කවුරුත්': 'කවුරුත', 'මහජනයාට': 'මහජනයා', 'කෙනා': 'කෙ', 'පෙනුනේ': 'පෙනුන', 'දෙන්නාගෙ': 'දෙන්නා', 'පාට්': 'පාට', 'ගානේ': 'ගාන', 'කමිසේ': 'කමිස', 'බොත්තම්': 'බොත්තම', 'තිබුණා': 'තිබුණ', 'අමු': 'අ', 'රස්තියාදු': 'රස්තියාද', 'කාරයේක්': 'කාරයේක', 'ඉන්නවනම්': 'ඉන්නවනම', 'දේශපාලකයෙක්': 'දේශපාලකයෙක', 'භයටම': 'භය', 'උබලාගෙ': 'උබලා', 'කොදු': 'කොද', 'නැමෙනවා': 'නැමෙ', 'එල': 'එ', 'මෙයටත්': 'මෙයටත', 'වැඩියෙන්': 'වැඩියෙන', 'ඔවුන්': 'ඔවුන', 'වෙනතෙක්ම': 'වෙනතෙක්', 'සමාජයම': 'සමාජය', 'තත්ත්වයට': 'තත්ත්වය', 'පත්විය': 'පත්වි', 'ගේ': '', 'යුක්ති': 'යුක්', 'සහගතයි': 'සහගත', 'දෙදනා': 'දෙද', 'ආරම්භක්': 'ආරම්භක', 'දීම': 'දී', 'සියල්ලෝම': 'සියල්ලෝ', 'ඔවුන්ව': 'ඔවුන්', 'අනුගමනය': 'අනුගමන', 'දේශපාලකයා': 'දේශපාලක', 'මොක්කුද': 'මොක්කු', 'මුංට': 'මුං', 'නලුවෝ': 'නලු', 'නලුවොන්ට': 'නලුවොන්', 'වෙනනමක්': 'වෙනනමක', 'මේවගේ': 'මේව', 'හොයාගන්න': 'හොයාගන්', 'හතරෙන්': 'හතරෙන', 'බෝක්කුවක්': 'බෝක්කුවක', 'ලගට': 'ලග', 'වැඩකටම': 'වැඩක', 'කලාකාරයෙක්': 'කලාකාරයෙක', 'සමිමානය': 'සමිමාන', 'දුන්නනමි': 'දුන්නන', 'වටිනව': 'වටින', 'දෙශපාලකයින්': 'දෙශපාලකයින', 'කිරී': 'කිර', 'සිටින': 'සිටි', 'අවධියක': 'අවධිය', 'රතික්': 'රතික', 'කරානමි': 'කරාන', 'හර්දශාක්කියට': 'හර්දශාක්කිය', 'තට්ටු': 'තට්ට', 'බල්න්න': 'බල්න්', 'තැනදිම': 'තැනදි', 'කරුනකදීම': 'කරුනකදී', 'කරනවාද': 'කරනවා', 'කාටවත්': 'කාටවත', 'රිදවන්න': 'රිදවන්', 'කරනවද': 'කරනව', 'තීරනය': 'තීරන', 'ඔබම': 'ඔබ', 'සතුයි': 'සතු', 'මෙහෙමයි': 'මෙහෙම', 'කරපුදේ': 'කරපුද', 'පාට': 'පා', 'බේදයකින්': 'බේදයකින', 'තොරව': 'තොර', 'වරම': 'වර', 'කිදෙන්ක්ගෙන්': 'කිදෙන්ක්ගෙන', 'නරක': 'නර', 'අහගන්න': 'අහගන්', 'ඇතිද': 'ඇති', 'දේශපාලකයන්ට': 'දේශපාලකයන්', 'ආරාධනා': 'ආරාධ', 'ඉතිහාසයේ': 'ඉතිහාස', 'කොහේවත්': 'කොහේවත', 'විරෝධත්වය': 'විරෝධත්ව', 'පෙන්නල': 'පෙන්න', 'ගැලපෙන්නෙ': 'ගැලපෙ', 'නැතිනිසා': 'නැතිනිස', 'වයසින්': 'වයසින', 'මුහුකුරා': 'මුහුකුර', 'යනවැයි': 'යනවැ', 'අල්ලගෙන': 'අල්ලගෙ', 'තඩිබාන': 'තඩිබා', 'කලාකාරයො': 'කලාකාරය', 'පෙන්නනව': 'පෙන්නන', 'දේශපාලකයන්ගෙ': 'දේශපාලකයන්', 'අනුග්': 'අනුග', 'රහය': 'රහ', 'කරනව': 'කරන', 'දියුණු': 'දියුණ', 'සමාජයේ': 'සමාජ', 'පෙනෙන': 'පෙනෙ', 'ගතිය': 'ගති', 'දේශපාලනයේ': 'දේශපාලන', 'මට්ටමේ': 'මට්ට', 'අනුරයි': 'අනුර', 'මහින්දයි': 'මහින්ද', 'අතරවත්': 'අතරවත', 'මෝඩද': 'මෝඩ', 'නිර්මාණයකට': 'නිර්මාණය', 'කවුරුන්හෝ': 'කවුරුන්හ', 'ඇගයීමක්': 'ඇගයීමක', 'කරොත්': 'කරොත', 'ඒකත්': 'ඒකත', 'නිහතමානීව': 'නිහතමානී', 'විදගන්න': 'විදගන්', 'පුද්ගලිකව': 'පුද්ගලික', 'නෙමෙයිනේ': 'නෙමෙයින', 'ඊටත්': 'ඊටත', 'සම්මානේ': 'සම්මාන', 'වුනාය': 'වුනා', 'තියෙනවා': 'තියෙ', 'උළෙලවලට': 'උළෙලවල', 'දෙනකොට': 'දෙනකො', 'උඩදාගෙන': 'උඩදාගෙ', 'ගන්නවා': 'ගන්', 'අවස්ථාවලට': 'අවස්ථාවල', 'පක්ෂය': 'පක්ෂ', 'කින්': 'කින', 'ආවත්': 'ආවත', 'ආව': 'ආ', 'කියලත්': 'කියලත', 'විදිහටම': 'විදිහ', 'කරාවිද': 'කරාවි', 'පක්ෂග්': 'පක්ෂග', 'රාහීද': 'රාහී', 'ඒදෙන්න': 'ඒදෙන්', 'නියෝජිතයන්': 'නියෝජිතයන', 'දෙනා': 'දෙ', 'එක්කෙනෙක්': 'එක්කෙනෙක', 'කට්ටිය': 'කට්ටි', 'පැහැදිලි': 'පැහැද', 'දේශපාලුවන්': 'දේශපාලුවන', 'මතවාද': 'මතවා', 'තිබුනත්': 'තිබුනත', 'කැතයි': 'කැත', 'නිගාවක්': 'නිගාවක', 'බිබී': 'බිබ', 'අපිව': 'අපි', 'ආයෙත්': 'ආයෙත', 'යටත්': 'යටත', 'කරගනිල්ලකෝ': 'කරගනිල්ලක', 'සුද්දොන්ගේ': 'සුද්දොන්', 'ගගේ': 'ග', 'ලයන්': 'ලයන', 'බියර්': 'බියර', 'සේවකයෙක්': 'සේවකයෙක', 'කසිප්පු': 'කසිප්', 'කිතුල්': 'කිතුල', 'රා': 'ර', 'ගහනවනම්': 'ගහනවනම', 'ඕකුන්': 'ඕකුන', 'කාලෙත්': 'කාලෙත', 'බීවා': 'බී', 'හැරෙන්නවත්': 'හැරෙන්නවත', 'ටින්': 'ටින', 'ටීම්': 'ටීම', 'බෝතල්': 'බෝතල', 'ගංජා': 'ගංජ', 'ඕකුන්ගේ': 'ඕකුන්', 'එවුන්ම': 'එවුන්', 'ඔව්වා': 'ඔව්', 'හදුන්වලා': 'හදුන්ව', 'දුන්නේ': 'දු', 'බැනලා': 'බැන', 'කොමෙට්': 'කොමෙට', 'කෙනෙකුට': 'කෙනෙ', 'ටෙ': 'ට', 'අමතක': 'අමත', 'ගානක්': 'ගානක', 'නානාප්': 'නානාප', 'කියනව': 'කියන', 'ගුඩ්': 'ගුඩ', 'බායි': 'බා', 'උවමනාවක්ක්': 'උවමනාවක්ක', 'තිබ්නම්': 'තිබ්නම', 'මහින්දට': 'මහින්ද', 'හෙංචයියො': 'හෙංචයිය', 'වචනෙකින්': 'වචනෙකින', 'එත්': 'එත', 'කෙලේ': 'කෙල', 'ඔහුට': 'ඔහු', 'බලය': 'බල', 'පිරිහනෙ': 'පිරිහන', 'හොයලා': 'හොය', 'බැලුවනම්': 'බැලුවනම', 'හැත්තට': 'හැත්ත', 'බලලා': 'බල', 'ඔකුන්ව': 'ඔකුන්', 'එලවලා': 'එලව', 'දැනුම': 'දැනු', 'ඔලුව': 'ඔලු', 'රටෙන්': 'රටෙන', 'පිරිසුදු': 'පිරිසුද', 'ඉඩක්': 'ඉඩක', 'එන්නේ': 'එ', 'පිස්සන්': 'පිස්සන', 'කොටුවේ': 'කොටු', 'පිස්සෝ': 'පිස්ස', 'සංවරයි': 'සංවර', 'සොරුන්ගේ': 'සොරුන්', 'දහන': 'දහ', 'මින්': 'මින', 'ආරක්ෂාව': 'ආරක්ෂා', 'පිස්තෝලයක්': 'පිස්තෝලයක', 'ගෙන': 'ගෙ', 'යාමට': 'යාම', 'දුන්නනම්': 'දුන්නනම', 'හොදායි': 'හොදා', 'කිහිපදෙනෙක්': 'කිහිපදෙනෙක', 'එලොව': 'එලො', 'හිරගෙට': 'හිරගෙ', 'ඉස්කෝලෙ': 'ඉස්කෝල', 'පාර්ලිමේන්තු': 'පාර්ලිමේන්ත', 'පාර්ලිමේන්තුවට': 'පාර්ලිමේන්තුව', 'යවන්නෙත්': 'යවන්නෙත', 'එකක්නේ': 'එකක්න', 'පිලේ': 'පිල', 'පන්දු': 'පන්ද', 'රැකීමේ': 'රැකී', 'පුහුණුකරු': 'පුහුණුකර', 'බාරගන්නකම්': 'බාරගන්නකම', 'පෙරුම්පුරා': 'පෙරුම්පුර', 'බලාහිදිමි': 'බලාහිදි', 'නාවෙ': 'නා', 'දයා': 'ද', 'නොතිබුණු': 'නොතිබුණ', 'රශ්නයක්': 'රශ්නයක', 'රටෙහි': 'රටෙ', 'ආයතනය': 'ආයතන', 'ගිනි': 'ගි', 'මඩුවක්': 'මඩුවක', 'පුද්ගලයා': 'පුද්ගල', 'බලමින්': 'බලමින', 'සතුටු': 'සතුට', 'බේරගන්න': 'බේරගන්', 'එයාලගේ': 'එයාල', 'පුද්ගලික': 'පුද්ගලි', 'උබලනේ': 'උබලන', 'හෙනට': 'හෙන', 'එකාට': 'එකා', 'ෆොටෝ': 'ෆොට', 'පොස්ට්': 'පොස්ට', 'හදන්නේ': 'හද', 'ඒවා': 'ඒ', 'බලනවා': 'බල', 'විතරනේ': 'විතරන', 'පෙජ්': 'පෙජ', 'ඇඩ්මින්': 'ඇඩ්මින', 'මහත්වරු': 'මහත්වර', 'ඇවිල්ලා': 'ඇවි', 'බෙදිලා': 'බෙදි', 'දෙගොල්ලොම': 'දෙගොල්ලො', 'ජොලියේ': 'ජොලි', 'සැපේ': 'සැප', 'ඉස්කෝලේ': 'ඉස්කෝල', 'විභාගේ': 'විභා', 'ගියාමත්': 'ගියාමත', 'විදින': 'විදි', 'තාවකාලික': 'තාවකාලි', 'සතුට': 'සතු', 'වින්දා': 'වින්ද', 'විමල්ගේ': 'විමල්', 'ආදරණිය': 'ආදරණි', 'සිරිසේන': 'සිරිසේ', 'රාත්': 'රාත', 'රියේ': 'රි', 'නටන': 'නට', 'පිස්සුව': 'පිස්සු', 'නිවැරදිව': 'නිවැරදි', 'පුරාවට': 'පුරාව', 'ඔබව': 'ඔබ', 'නැවුම්ව': 'නැවුම්', 'තබන': 'තබ', 'ව්': 'ව', 'යාඝා': 'යාඝ', 'පෙත්තක්': 'පෙත්තක', 'දිනාගන්න': 'දිනාගන්', 'අගමැති': 'අගමැ', 'හෂිනි': 'හෂි', 'වයර්': 'වයර', 'ආය්යෝ': 'ආය්', 'රටේ': 'රටෙ', 'දේවල්': 'දේවල', 'කඩේ': 'කඩෙ', 'හැගීමක්': 'හැගීමක', 'තවම': 'තව', 'පෙන්නුවටත්': 'පෙන්නුවටත', 'ස්තූතියි': 'ස්තූති', 'අපට': 'අප', 'අායේ': 'අායෙ', 'ෆ්': 'ෆ', 'වයිෆයි': 'වයිෆ', 'ලැබෙයි': 'ලැබෙ', 'නේද': 'නේ', 'අධිකරණය': 'අධිකරණ', 'විශ්වාසයක්': 'විශ්වාසයක', 'තියා': 'ති', 'තීන්දු': 'තීන්ද', 'සමාව': 'සමා', 'ඉල්ලන': 'ඉල්ල', 'අග්': 'අග', 'විනිශ්චයකාරයෝ': 'විනිශ්චයකාර', 'නඩු': 'නඩ', 'තුට්ටුවකට': 'තුට්ටුව', 'පෙට්': 'පෙට', 'රල්': 'රල', 'අඩුකරන්න': 'අඩුකරන්', 'තීන්දුව': 'තීන්දු', 'ඡන්දය': 'ඡන්ද', 'දෙන්නේ': 'දෙ', 'අතුරු': 'අතුර', 'නියෝගයක්': 'නියෝගයක', 'නඩුව': 'නඩු', 'තීන්දුවක්': 'තීන්දුවක', 'ඔබේ': 'ඔබ', 'හය': 'හ', 'නොදත්': 'නොදත', 'දරුවාට': 'දරුවා', 'ඡන්දෙකට': 'ඡන්දෙ', 'රටෙත්': 'රටෙත', 'හොඳද': 'හොඳ', 'කතිරය': 'කතිර', 'කළින්': 'කළින', 'මෙහෙමනේ': 'මෙහෙමන', 'බෑනේ': 'බෑන', 'තිබුනොත්': 'තිබුනොත', 'මෙහේ': 'මෙහ', 'මේකත්': 'මේකත', 'හොරෙන්': 'හොරෙන', 'කෙලගන': 'කෙලග', 'දන්නවද': 'දන්නව', 'අංගොඩද': 'අංගොඩ', 'ගෙදරද': 'ගෙදර', 'ඇත්තටම': 'ඇත්ත', 'රභාකරන්': 'රභාකරන', 'ගැම්ම': 'ගැම්', 'සරලවම': 'සරලව', 'යවස්ථාවෙන්': 'යවස්ථාවෙන', 'බේරිලා': 'බේරි', 'විසිරන': 'විසිර', 'තැනට': 'තැන', 'ශුවර්': 'ශුවර', 'බෝල්': 'බෝල', 'විදියටම': 'විදිය', 'මු': '', 'ලව': 'ල', 'අැරල': 'අැර', 'රින්ගල': 'රින්ග', 'ලකුණ': 'ලක', 'ඩමියක්': 'ඩමියක', 'දැම්මේ': 'දැම්', 'පොලිසියේ': 'පොලිසි', 'වැටෙන්න': 'වැටෙන්', 'හොරෙක්ව': 'හොරෙක්', 'අල්ලගන්නෙ': 'අල්ලග', 'වැටෙද්දිම': 'වැටෙද්දි', 'විසිල්': 'විසිල', 'රගර්': 'රගර', 'මැච්': 'මැච', 'ඕකා': 'ඕ', 'පනපිටින්ද': 'පනපිටින්', 'ගිහින්වත්ද': 'ගිහින්වත්', 'පොලිස්සියේ': 'පොලිස්සි', 'බදක': 'බද', 'කිගදිවිම': 'කිගදිවි', 'පුහුනු': 'පුහු', 'සුදු': 'සුද', 'මහත්තයාට': 'මහත්තයා', 'ස්තුති': 'ස්තු', 'හැකර්': 'හැකර', 'තද': 'ත', 'හමුෆ්හාව්ලින්': 'හමුෆ්හාව්ලින', 'ගේමක්': 'ගේමක', 'බේරිල': 'බේරි', 'මිශන්': 'මිශන', 'ගැහුවෙ': 'ගැහු', 'මූව': 'මූ', 'පොහොට්ටුවෙන්': 'පොහොට්ටුවෙන', 'යවමු': 'යව', 'රයි': 'ර', 'තිබ්බේ': 'තිබ්බ', 'සුද්දයි': 'සුද්ද', 'මුලු': 'මුල', 'පොලිසියමයි': 'පොලිසියම', 'පරාදයි': 'පරාද', 'දගයො': 'දගය', 'සුද්දගේ': 'සුද්ද', 'තුනෙන්': 'තුනෙන', 'හෙළිවෙලා': 'හෙළිවෙ', 'සුද්දගෙ': 'සුද්ද', 'උනානම්': 'උනානම', 'හොරෙක්වත්': 'හොරෙක්වත', 'අල්ලගන්නේ': 'අල්ලග', 'ඉතින්කොහොමද': 'ඉතින්කොහොම', 'අල්ල': 'අල්', 'හෙට': 'හෙ', 'අයියත්': 'අයියත', 'අයියට': 'අයිය', 'සැලැන්ඩර්': 'සැලැන්ඩර', 'විසුරුවා': 'විසුරු', 'හැරියාම': 'හැරියා', 'ගත්තේ': 'ගත්ත', 'රනිල්ට': 'රනිල්', 'ඔච්චරම': 'ඔච්චර', 'ඡන්දයක්': 'ඡන්දයක', 'බලමු': 'බල', 'උබල': 'උබ', 'කලෙත්': 'කලෙත', 'ටෝක්': 'ටෝක', 'අරින': 'අරි', 'අස්සෙ': 'අස්ස', 'කාරයත්': 'කාරයත', 'පැත්තකින්': 'පැත්තකින', 'ඇනලා': 'ඇන', 'යකූ': 'යක', 'මේමත්': 'මේමත', 'සප්ප්': 'සප්ප', 'රායිස්': 'රායිස', 'මනුස්සයට': 'මනුස්සය', 'දරු': 'දර', 'මුණුපුරන්': 'මුණුපුරන', 'හින්දයී': 'හින්දය', 'තීරණයක්': 'තීරණයක', 'රමාද': 'රමා', 'කොයින්ද': 'කොයින්', 'කැක්කුමක්': 'කැක්කුමක', 'ජනමතයට': 'ජනමතය', 'විකිනිලා': 'විකිනි', 'ඔලු': 'ඔල', 'මාරු': 'මාර', 'රජාතන්ත්': 'රජාතන්ත', 'රවාදය': 'රවාද', 'තිරනය': 'තිරන', 'වීඩියෝ': 'වීඩි', 'පිට්පොකට්': 'පිට්පොකට', 'ගැහිල්ල': 'ගැහිල්', 'උනු': 'උ', 'සියලුදෙනා': 'සියලුදෙ', 'අවීචී': 'අවීච', 'නරකයේදී': 'නරකයේද', 'හමුවෙලා': 'හමුවෙ', 'දුක්වෙයි': 'දුක්වෙ', 'බොරුවක්': 'බොරුවක', 'හිතෙන': 'හිතෙ', 'දාමු': 'දා', 'උව': 'උ', 'ගෙමක්': 'ගෙමක', 'දා': 'ද', 'න්': 'න', 'උබලගේ': 'උබල', 'අදහසක්': 'අදහසක', 'පෙන්නලා': 'පෙන්න', 'හිට්': 'හිට', 'කරන්නයි': 'කරන්න', 'වැඩකට': 'වැඩ', 'ඇන්දුනු': 'ඇන්දු', 'ලෝකෙ': 'ලෝ', 'ගොඩාක්': 'ගොඩාක', 'චැනල්': 'චැනල', 'කුණු': 'කුණ', 'බලනවට': 'බලනව', 'කෙනෙක්ගෙ': 'කෙනෙක්', 'නරකක්': 'නරකක', 'පට්ටම': 'පට්', 'ලේසියි': 'ලේසි', 'විඩියෝ': 'විඩි', 'පේමස්': 'පේමස', 'කුමන්ත්': 'කුමන්ත', 'රනයක්': 'රනයක', 'අනිවාර්යෙන්': 'අනිවාර්යෙන', 'රඟපෑමක්': 'රඟපෑමක', 'ලාගෙ': 'ලා', 'ඔබටත්': 'ඔබටත', 'තේරුම්': 'තේරුම', 'මොකක්': 'මොකක', 'සීන්නෙක්': 'සීන්නෙක', 'විතරද': 'විතර', 'ඉරාජ්ද': 'ඉරාජ්', 'ගේමත්': 'ගේමත', 'සිංදුව': 'සිංදු', 'රමෝට්': 'රමෝට', 'කමන්ට්': 'කමන්ට', 'කියවයි': 'කියව', 'කියලවත්': 'කියලවත', 'සංස්කෘතික': 'සංස්කෘති', 'වෙස්': 'වෙස', 'පුදුමයක්': 'පුදුමයක', 'දුක්': 'දුක', 'රැකගත්': 'රැකගත', 'මව්වරු': 'මව්වර', 'පියවරු': 'පියවර', 'සමාජෙක්': 'සමාජෙක', 'මුදලට': 'මුදල', 'පහත්': 'පහත', 'ජාතියේ': 'ජාති', 'ගෑණු': 'ගෑණ', 'කොටසක්': 'කොටසක', 'පස්සෙන්': 'පස්සෙන', 'කතාබහට': 'කතාබහ', 'ලක්වෙන්න': 'ලක්වෙන්', 'දේවල': 'දේව', 'තියෙද්දී': 'තියෙ', 'රෙන්ඩ්': 'රෙන්ඩ', 'කරන්': 'කරන', 'මාධ්': 'මාධ', 'මෙහම': 'මෙහ', 'එන්නම්': 'එන්නම', 'දරුවන්ට': 'දරුවන්', 'අනාගතය': 'අනාගත', 'හිතමු': 'හිත', 'හිතෙනවා': 'හිතෙ', 'හැසිරෙන්නේ': 'හැසිරෙ', 'හැමෝටම': 'හැමෝ', 'පිරිහිලාද': 'පිරිහිලා', 'කිවුව': 'කිවු', 'මතකද': 'මතක', 'වැඩකින්': 'වැඩකින', 'හම්බෙමු': 'හම්බෙ', 'රගපෑමක්': 'රගපෑමක', 'ඉරාජ්ගෙ': 'ඉරාජ්', 'මාකටින්': 'මාකටින', 'එක්ස්පයරමන්ට්': 'එක්ස්පයරමන්ට', 'අශේනයව': 'අශේනය', 'මේකට': 'මේ', 'දගනයමන්': 'දගනයමන', 'මාර්කටින්': 'මාර්කටින', 'අහු': 'අ', 'ගොබ්බයො': 'ගොබ්බය', 'එහෙකුත්': 'එහෙකුත', 'ඉන්නවනේ': 'ඉන්නවන', 'එනිවේ': 'එනි', 'buggatiයක්': 'buggatiයක', 'බස්සයි': 'බස්ස', 'ලගදිම': 'ලගදි', 'ඇදුම්': 'ඇදුම', 'ඇදගන': 'ඇදග', 'ලැජයි': 'ලැජ', 'නිලියන්': 'නිලියන', 'ගායක': 'ගාය', 'ගායිකාවෝ': 'ගායිකා', 'නහයෙන්': 'නහයෙන', 'ලේසියෙන්': 'ලේසියෙන', 'සිංදු': 'සිංද', 'අහන්නේ': 'අහ', 'ඇහුවත්': 'ඇහුවත', 'අහම්බෙන්': 'අහම්බෙන', 'කමින්': 'කමින', 'ඇහුවද': 'ඇහුව', 'කාලෙකින්': 'කාලෙකින', 'අහපු': 'අහ', 'ගැනුන්ගේ': 'ගැනුන්', 'ආසයි': 'ආස', 'රහසක්': 'රහසක', 'හැබයි': 'හැබ', 'පහුගිය': 'පහුගි', 'කළේ': 'කළ', 'සිද්ද': 'සිද්', 'විකුනපු': 'විකුන', 'නිරුවතින්': 'නිරුවතින', 'පුළුවන': 'පුළුව', 'වැටහේවා': 'වැටහේ', 'කතාව': 'කතා', 'ලස්සනයි': 'ලස්සන', 'ගැහැනියගේ': 'ගැහැනිය', 'විකුණන්': 'විකුණන', 'පාඩමක්': 'පාඩමක', 'විෂුවල්': 'විෂුවල', 'රෙන්ඩින්': 'රෙන්ඩින', 'මයිල්': 'මයිල', 'පරම්පරාව': 'පරම්පරා', 'නොවේදෝ': 'නොවේද', 'කසුන්': 'කසුන', 'ඇරැනහම': 'ඇරැනහ', 'හැබෑවටම': 'හැබෑව', 'කරන්නද': 'කරන්න', 'හිතලා': 'හිත', 'බැරිම': 'බැරි', 'අතඇරලා': 'අතඇර', 'දැම්මා': 'දැම්ම', 'එකටනම්': 'එකටනම', 'හොටුත්': 'හොටුත', 'පැන්නා': 'පැන්', 'මාවත්': 'මාවත', 'පෙන්ස්': 'පෙන්ස', 'කොමෙන්ට්ස්': 'කොමෙන්ට්ස', 'කියවන': 'කියව', 'සැක': 'සැ', 'හිතෙනවනේ': 'හිතෙනවන', 'හැසිරීම්': 'හැසිරීම', 'බැලුවට': 'බැලුව', 'කියවල': 'කියව', 'අත්තටම': 'අත්ත', 'අදරෙකට': 'අදරෙ', 'කලනම්': 'කලනම', 'පුලුවන්ද': 'පුලුවන්', 'හශිනි': 'හශි', 'තමනට': 'තමන', 'ලජ්ජාව': 'ලජ්ජා', 'වහගන්න': 'වහගන්', 'විශ්වව': 'විශ්ව', 'ඔයලා': 'ඔය', 'ලජ්ජවක්': 'ලජ්ජවක', 'අදරය': 'අදර', 'විශ්වාසය': 'විශ්වාස', 'එකිනෙකාටතියන': 'එකිනෙකාටතිය', 'පවතින': 'පවති', 'ඔයලගෙ': 'ඔයල', 'හරිම්': 'හරිම', 'හිස්': 'හිස', 'ශො': 'ශ', 'සරාගී': 'සරාග', 'ගැහැනිය': 'ගැහැනි', 'නිදන්නට': 'නිදන්න', 'පිරිමින්': 'පිරිමින', 'කැමතී': 'කැමත', 'පමනයී': 'පමනය', 'කිව්වේ': 'කිව්', 'දිවට': 'දිව', 'ඩෙටා': 'ඩෙට', 'දාල': 'දා', 'කරෙ': 'කර', 'පින්': 'පින', 'තැන්ස්': 'තැන්ස', 'හැමොටම': 'හැමො', 'ඉරාජ්': 'ඉරාජ', 'සැට්': 'සැට', 'කන්ඩායමක්': 'කන්ඩායමක', 'බිහිවෙන්න': 'බිහිවෙන්', 'එක්කො': 'එක්ක', 'අතක්': 'අතක', 'පයක්': 'පයක', 'එකෙක්ව': 'එකෙක්', 'උස්සල': 'උස්ස', 'අම්බානකට': 'අම්බාන', 'එවන්න': 'එවන්', 'ඉන්නව': 'ඉන්න', 'බිහිවෙන්නෙ': 'බිහිවෙ', 'ඉක්මනට': 'ඉක්මන', 'රාර්තනා': 'රාර්ත', 'විවාහයක්': 'විවාහයක', 'උනාම': 'උනා', 'ජනප්': 'ජනප', 'ලේ': 'ල', 'මස්': 'මස', 'ආදරයේ': 'ආදර', 'අර්ථය': 'අර්ථ', 'හොයන්න': 'හොයන්', 'දගලන්නෙ': 'දගල', 'උත්සවයක්': 'උත්සවයක', 'එකකින්': 'එකකින', 'හසිනි': 'හසි', 'කිවුවා': 'කිවු', 'මොනා': 'මො', 'හසිනිව': 'හසිනි', 'විෂ්වට': 'විෂ්ව', 'එන්ගෙච්': 'එන්ගෙච', 'විෂ්ව': 'විෂ්', 'නටපු': 'නට', 'හැසිරුනු': 'හැසිරු', 'වගෙම': 'ව', 'පියුමිගෙ': 'පියුමි', 'උපන්දින': 'උපන්දි', 'ස්ප්': 'ස්ප', 'රයිස්': 'රයිස', 'එකෙදිත්': 'එකෙදිත', 'ඇදුන්': 'ඇදුන', 'කබරෙ': 'කබර', 'ඉදියා': 'ඉදි', 'මෙකිව': 'මෙකි', 'කර්න්න': 'කර්න්', 'වුණු': 'වුණ', 'ඇත්තෙ': 'ඇත්ත', 'අහලා': 'අහ', 'ඔයාගෙ': 'ඔයා', 'වසය': 'වස', '20යි': '20', 'ඔයාට': 'ඔයා', 'විනෝදෙට': 'විනෝදෙ', 'පහළවක්': 'පහළවක', 'ආපස්සට': 'ආපස්ස', 'හැරිලා': 'හැරි', 'ජීවිතේ': 'ජීවිත', 'බලනකොට': 'බලනකො', 'ඔයා': 'ඔ', 'අඩයි': 'අඩ', 'දෙකෙන්ම': 'දෙකෙන්', 'පරක්කු': 'පරක්', 'ළමයට': 'ළමය', 'දෙමව්පියො': 'දෙමව්පිය', 'ළමයා': 'ළම', 'ඇරලා': 'ඇර', 'අඩුම': 'අඩු', 'තරමෙ': 'තරම', 'ඉස්කෝලෙදිවත්': 'ඉස්කෝලෙදිවත', 'ඉගෙන': 'ඉගෙ', 'අනුකම්පාවක්': 'අනුකම්පාවක', 'මාත්': 'මාත', 'තුනයි': 'තුන', 'වැඩිමල්': 'වැඩිමල', 'මටත්': 'මටත', 'තේරුමක්': 'තේරුමක', 'අතෙන්': 'අතෙන', 'හරිගස්සගන්න': 'හරිගස්සගන්', 'වරදින්න': 'වරදින්', 'ආරක්ෂා': 'ආරක්ෂ', 'වුණත්': 'වුණත', 'සේරම': 'සේර', 'අලුතෙන්': 'අලුතෙන', 'වුණොත්': 'වුණොත', 'කාලෙම': 'කාලෙ', 'සතුටින්': 'සතුටින', 'හසිනිගෙ': 'හසිනි', 'වැටිලා': 'වැටි', 'ෆොම්': 'ෆොම', 'ලතෝනි': 'ලතෝ', 'හෙම්බත්': 'හෙම්බත', 'හිටපු': 'හිට', 'කලෙක': 'කලෙ', 'සුප්පා': 'සුප්ප', 'කරනවට': 'කරනව', 'තැන්ක්ස්': 'තැන්ක්ස', 'පතනවා': 'පත', 'සිය': 'සි', 'වතාවක්': 'වතාවක', 'අහන්න': 'අහන්', 'සින්දුවක්': 'සින්දුවක', 'කිවොත්': 'කිවොත', 'මාකට්': 'මාකට', 'උන්ටයි': 'උන්ට', 'ගෙදරක': 'ගෙදර', 'දෙකක්': 'දෙකක', 'සනුකව': 'සනුක', 'පෙන්නන': 'පෙන්න', 'යුගයක': 'යුගය', 'පරම්පරාවක': 'පරම්පරාව', 'ආරම්බය': 'ආරම්බ', 'ඉල්ලපු': 'ඉල්ල', 'මල්': 'මල', 'සින්දුකාරයිනි': 'සින්දුකාරයි', 'අවධානය': 'අවධාන', 'පිණිසයි': 'පිණිස', 'යවන්නෙපා': 'යවන්නෙප', 'බොල': 'බො', 'සරාගයේ': 'සරාග', 'වෙන්නත්': 'වෙන්නත', 'හඳේ': 'හඳ', 'කෑල්ලක්': 'කෑල්ලක', 'කාලා': '', 'ලෙසටම': 'ලෙස', 'අරහෙම': 'අරහෙ', 'කියන්': 'කියන', 'යකුනේ': 'යකුන', 'රනිල්': 'රනිල', 'රේම්': 'රේම', 'පැනපියව්': 'පැනපියව', 'එලියට': 'එලිය', 'පීඑම්': 'පීඑම', 'මුල්': 'මුල', 'පුරවැසියගේ': 'පුරවැසිය', 'තීරනේ': 'තීරන', 'යහපතක්': 'යහපතක', 'එච්චරයි': 'එච්චර', 'කොල්ලෝ': 'කොල්ල', 'රැකගත්තේ': 'රැකගත්ත', 'මතක': 'මත', 'ගනිල්ලා': 'ගනි', 'රිවිද': 'රිවි', 'හමුදා': 'හමුද', 'වලපල්ලේ': 'වලපල්ල', 'බලාපොරොත්තුවෙන්': 'බලාපොරොත්තුවෙන', 'නෙවේ': 'නෙ', 'උන්ම': 'උන්', 'දානව': 'දාන', 'එන්නෙපා': 'එන්නෙප', 'අරක': 'අර', 'හේතු': 'හේත', 'දන්නෙත්': 'දන්නෙත', 'ගාණකට': 'ගාණ', 'ගමෙන්': 'ගමෙන', 'නගරයෙන්': 'නගරයෙන', 'පිටවෙලා': 'පිටවෙ', 'තීරණක්': 'තීරණක', 'කොල්ලෙක්ට': 'කොල්ලෙක්', 'මුල්ම': 'මුල්', 'දවස්': 'දවස', 'නිතරම': 'නිතර', 'විහිලුවෙන්මයි': 'විහිලුවෙන්ම', 'හැමදේම': 'හැමදේ', 'රිංගලා': 'රිංග', 'නඟේ': 'නඟ', 'වරකා': 'වර', 'ගහටත්': 'ගහටත', 'තියාගන්න': 'තියාගන්', 'රණ්ඩු': 'රණ්ඩ', 'දෙනෙක්': 'දෙනෙක', 'සංහතියටම': 'සංහතිය', 'ඒවගේම': 'ඒව', 'අනික': 'අනි', 'ඕනම': 'ඕන', 'මනමාලයා': 'මනමාල', 'කාවත්': 'කාවත', 'වඩාගෙන': 'වඩාගෙ', 'නටන්නේ': 'නට', 'අයිතිකාරයා': 'අයිතිකාර', 'ඇරෙන්න': 'ඇරෙන්', 'වෙඩිම': 'වෙඩි', 'යාළුවෙක්': 'යාළුවෙක', 'ස්ථානයෙන්': 'ස්ථානයෙන', 'පිටව': 'පිට', 'මේකේ': 'මේ', 'තමන්ට': 'තමන්', 'වරදින්නේ': 'වරදි', 'විනාශයක්': 'විනාශයක', 'සින්දු': 'සින්ද', 'අප්ලෝඩ්': 'අප්ලෝඩ', 'උබගේ': 'උබ', 'මුහුනේම': 'මුහුනේ', 'පෙනුම': 'පෙනු', 'කරුණාකරලා': 'කරුණාකර', 'මිනුසුන්ව': 'මිනුසුන්', 'දැනුවත්': 'දැනුවත', 'අසභ්': 'අසභ', 'සාරධර්ම': 'සාරධර්', 'කෙලසන': 'කෙලස', 'ගණිකාවන්': 'ගණිකාවන', 'රියත්වය': 'රියත්ව', 'රයොජනවත්': 'රයොජනවත', 'දෙයකට': 'දෙය', 'යොදවන්න': 'යොදවන්', 'සිද්දවෙයි': 'සිද්දවෙ', 'සිංහලෙන්': 'සිංහලෙන', 'කරපල්ලා': 'කර', 'මෙයාලගේ': 'මෙයාල', 'අහන්': 'අහන', 'ඔවු': 'ඔව', 'හොදයී': 'හොදය', 'ඉදුණිල්': 'ඉදුණිල', 'බලන්නම්': 'බලන්නම', 'උදවු': 'උදව', 'දෙනවට': 'දෙනව', 'වැඩියෙ': 'වැඩි', 'අසරන': 'අසර', 'ඉන්නවද': 'ඉන්නව', 'අයටනෙ': 'අයටන', 'ඔිනා': 'ඔි', 'අපෝ': 'අප', 'එයාලට': 'එයාල', 'ව්තරයි': 'ව්තර', 'මොනවාද': 'මොනවා', 'එයාලා': 'එයා', 'පොරොන්දු': 'පොරොන්ද', 'කීවාට': 'කීවා', 'කටත්': 'කටත', 'තිත්තයි': 'තිත්ත', 'මහත්තයෝ': 'මහත්ත', 'ඔයාගේ': 'ඔයා', 'රියාවලිය': 'රියාවලි', 'නමට': 'නම', 'හිතන්නේ': 'හිත', 'තැනක්': 'තැනක', 'මිනිහෙකුට': 'මිනිහෙ', 'කෙරුවා': 'කෙරු', 'පිනක්': 'පිනක', 'මෙවගෙ': 'මෙව', 'බාල': 'බා', 'මත්තයො': 'මත්තය', 'බොඩ්': 'බොඩ', 'තිබුනනම්': 'තිබුනනම', 'දෙන්නෙ100ය්': 'දෙන්නෙ100ය', 'රවට්ටලා': 'රවට්ට', 'මැරුවොත්': 'මැරුවොත', 'මරපන්': 'මරපන', 'ඒකද': 'ඒක', 'අපේක්ෂාව': 'අපේක්ෂා', 'ඒකටද': 'ඒකට', 'වුණේ': 'ව', 'සුදුස්සොද': 'සුදුස්සො', 'නියෝජිතයෝද': 'නියෝජිතයෝ', 'කල්පනා': 'කල්ප', 'දකින': 'දකි', 'මගෙ': 'ම', 'නෙතටත්': 'නෙතටත', 'කදුලු': 'කදුල', 'උනනවා': 'උන', 'පුතුන්': 'පුතුන', 'ටත්': 'ටත', 'මේවැනිම': 'මේවැනි', 'හැගිමක්': 'හැගිමක', 'පිය': '', 'සෙව්වත්': 'සෙව්වත', 'ඔවුන්ගේම': 'ඔවුන්', 'අනගතය': 'අනගත', 'සරිකරලීමට': 'සරිකරලීම', 'දුරු': 'දුර', 'ගෙවන': 'ගෙව', 'කටුක': 'කටු', 'ජිවිතය': 'ජිවිත', 'රනිල්ව': 'රනිල්', 'විශ්වාසභංගයක්': 'විශ්වාසභංගයක', 'වැය': 'වැ', 'පරාජය': 'පරාජ', 'කිරීමක්': 'කිරීමක', 'පහසුවෙන්': 'පහසුවෙන', 'විවස්ථාව': 'විවස්ථා', 'නොවෙන': 'නොවෙ', 'ආකාරයට': 'ආකාරය', 'ලෝකයා': 'ලෝක', 'හිනස්සන්නේ': 'හිනස්ස', 'දෙමාපියන්': 'දෙමාපියන', 'දෙවියනි': 'දෙවිය', 'ලෝකයම': 'ලෝකය', 'විශාල': 'විශා', 'ගැටලුවක්': 'ගැටලුවක', 'තිබේ': 'තිබ', 'මුස්ලිම්වරු': 'මුස්ලිම්වර', 'යුරෝපයෙන්': 'යුරෝපයෙන', 'ජාතිකයන්': 'ජාතිකයන', 'සටන්': 'සටන', 'කරති': 'කර', 'සියල්ලන්ම': 'සියල්ලන්', 'දෙනාටම': 'දෙනා', 'ලෝකය': 'ලෝක', 'නවත්වන්නෙමු': 'නවත්ව', 'පළමුව': 'පළමු', 'අහිංසක': 'අහිංස', 'මිනිසා': 'මිනිස', 'ඝාතනය': 'ඝාතන', 'කිරීමේ': 'කිරී', 'ක්රියාවලිය': 'ක්රියාවලි', 'මිලක්': 'මිලක', 'රුධිරයට': 'රුධිරය', 'රුධිරය': 'රුධිර', 'සියල්ලම': 'සියල්ල', 'සිවිල්': 'සිවිල', 'යුද්ධය': 'යුද්ධ', 'අපගේ': 'අප', 'සොල්දාදුවන්ට': 'සොල්දාදුවන්', 'කියන්නෙමු': 'කිය', 'ඊනියා': 'ඊනි', 'ඇමතිවරුන්': 'ඇමතිවරුන', 'කුමක්': 'කුමක', 'ලංකාවෙන්': 'ලංකාවෙන', 'පිටවෙන්න': 'පිටවෙන්', 'ශ්රී': 'ශ්ර', 'ලාංකික': 'ලාංකි', 'මුස්ලිම්වරුන්': 'මුස්ලිම්වරුන', 'යාච්ඤා': 'යාච්ඤ', 'බෝධීන්': 'බෝධීන', 'වහන්සේලාට': 'වහන්සේලා', 'ප්රහාරයක්': 'ප්රහාරයක', 'කොහෙත්ම': 'කොහෙත්', 'නොපෙනෙන': 'නොපෙනෙ', 'තත්ත්වයක්': 'තත්ත්වයක', 'නවත්වන්න': 'නවත්වන්', 'දින': 'දි', 'දිනකට': 'දින', 'උඹේ': 'උඹ', 'ඩෝග්ස්': 'ඩෝග්ස', 'ලජ්ජාවක්ද': 'ලජ්ජාවක්', 'ඉස්ලාමිය': 'ඉස්ලාමි', 'කිතුනුවකු': 'කිතුනුව', 'සාමකාමී': 'සාමකාම', 'ක්රිස්තියානි': 'ක්රිස්තියා', 'ආගමට': 'ආගම', 'හැරවීමට': 'හැරවීම', 'බුකී': 'බු', 'කාරයා': 'කාර', 'සභාපති': 'සභාප', 'පුටුවේ': 'පුටු', 'තියන්': 'තියන', 'ටෙස්ට්': 'ටෙස්ට', 'තත්වෙ': 'තත්', 'කොල්ලො': 'කොල්ල', 'පිච්': 'පිච', 'කපල': 'කප', 'ටොස්': 'ටොස', 'දිනල': 'දින', 'විකුණපු': 'විකුණ', 'මාලිංගට': 'මාලිංග', 'පුඵවන්': 'පුඵවන', 'බැට්': 'බැට', 'උස්සන්': 'උස්සන', 'ලකුණු': 'ලකුණ', 'සීමා': 'සීම', 'මැව්': 'මැව', 'පරද්දපු': 'පරද්ද', 'කිරිකැටියන්ට': 'කිරිකැටියන්', 'ඇඳට': 'ඇඳ', 'ගෙනියනකන්': 'ගෙනියනකන', 'තම්බියොන්ට': 'තම්බියොන්', 'කෙල්ලොන්ගෙන්': 'කෙල්ලොන්ගෙන', 'ගැනීමට': 'ගැනීම', 'ඉස්ලාම්': 'ඉස්ලාම', 'පිරිමින්ගේ': 'පිරිමින්', 'වාසියට': 'වාසිය', 'ඔවුන්ගේ': 'ඔවුන්', 'ලොක්කා': 'ලොක්', 'සාදා': 'සාද', 'ගොස්': 'ගොස', 'නීතියේ': 'නීති', 'ජාතිවාදී': 'ජාතිවාද', 'ලේබලයට': 'ලේබලය', 'බියක්': 'බියක', 'නිහඬව': 'නිහඬ', 'ඔබට': 'ඔබ', 'ඔබලා': 'ඔබ', 'ජොලියෙන්': 'ජොලියෙන', 'ඉඳලා': 'ඉඳ', 'හම්බත්': 'හම්බත', 'මැරිල': 'මැරි', 'දිනෙක': 'දිනෙ', 'මිණිබිරිය': 'මිණිබිරි', 'වරු': 'වර', 'ලංකාවක': 'ලංකාව', 'යසනයට': 'යසනය', 'ගොදුරු': 'ගොදුර', 'වනවා': 'ව', 'නිසැක': 'නිසැ', 'දෙය': 'දෙ', 'බෞද්ධයන්': 'බෞද්ධයන', 'පුනර්භවය': 'පුනර්භව', 'කරනා': 'කර', 'ඔබගේ': 'ඔබ', 'භවයේ': 'භව', 'මුණුබුරු': 'මුණුබුර', 'පරම්පරාවට': 'පරම්පරාව', 'මෙසේ': 'මෙස', 'දාව': 'දා', 'ඉපිද': 'ඉපි', 'ඛේදජනක': 'ඛේදජන', 'ඉරණමට': 'ඉරණම', 'ගොදුරක්': 'ගොදුරක', 'අපා': 'අප', 'විඳින්නේ': 'විඳි', 'පාරිභෝගිකයින්': 'පාරිභෝගිකයින', 'ගොනාට': 'ගොනා', 'අන්දවා': 'අන්ද', 'එටිසලාට්': 'එටිසලාට', '්': '', 'ෑම': 'ෑ', 'නගරයක': 'නගරය', 'සැදීමට': 'සැදීම', 'රධාන': 'රධා', 'රාහකත්වය': 'රාහකත්ව', 'සිංහලයාගේ': 'සිංහලයා', 'ගුබ්බෑයම්': 'ගුබ්බෑයම', 'වර්ජනය': 'වර්ජන', 'සිංහලූනේ': 'සිංහලූන', 'සිංහයනි': 'සිංහය', 'දුරටත්': 'දුරටත', 'නිදා': 'නිද', 'අනාගතයේ': 'අනාගත', 'පැටවුන්': 'පැටවුන', 'වූ': 'ව', 'ම්ලේච්ඡුයන්ට': 'ම්ලේච්ඡුයන්', 'වීම': 'වී', 'වැළැක්විය': 'වැළැක්වි', 'නොහැකි': 'නොහැ', 'මිනිහෙක්ව': 'මිනිහෙක්', 'කසාද': 'කසා', 'බඳින්න': 'බඳින්', 'පව්කාරකමකට': 'පව්කාරකම', 'ඉපදුණේ': 'ඉපද', 'මොහුගේ': 'මොහු', 'මව': 'ම', 'දැක්වූයේ': 'දැක්වූ', 'මැරුණත්': 'මැරුණත', 'බෝධිය': 'බෝධි', 'රැුක': 'රැු', 'බෙදාහදා': 'බෙදාහද', 'ගනිමින්': 'ගනිමින', 'රස්තවාදයට': 'රස්තවාදය', 'විරුද්ධත්වය': 'විරුද්ධත්ව', 'කථාද': 'කථා', 'දෙමව්පියෝ': 'දෙමව්පි', 'විකුනලා': 'විකුන', 'හොයාපල්ලා': 'හොයා', 'තැනම': 'තැන', 'යක්ෂයා': 'යක්ෂ', 'ඇන්ජලෝ': 'ඇන්ජල', 'මැතිව්ස්ගේ': 'මැතිව්ස්', 'නායකත්වයට': 'නායකත්වය', 'පේජ්': 'පේජ', 'නම': 'න', 'ඔයාද': 'ඔයා', 'වාසියක්': 'වාසියක', 'තරමේ': 'තර', 'අයිතිකරුට': 'අයිතිකරු', 'කියන්නවත්': 'කියන්නවත', 'සහජීවන': 'සහජීව', 'නීතිය': 'නීති', 'හෙල්මට්': 'හෙල්මට', 'ගියාට': 'ගියා', 'අපේම': 'අපේ', 'සිංහළයන්ගේ': 'සිංහළයන්', 'නිෂ්පාදන': 'නිෂ්පාද', 'වෙළද': 'වෙළ', 'අධිකාරියක්': 'අධිකාරියක', 'නගමු': 'නග', 'ආඩම්බරෙන්': 'ආඩම්බරෙන', 'වෙල්ලස්සේ': 'වෙල්ලස්ස', 'කිව්වට': 'කිව්ව', 'ජාතික': 'ජාති', 'වීරයෝ': 'වීර', 'හුඟාක්': 'හුඟාක', 'දකින්නෙ': 'දකි', 'අන්තර්ජාලයේ': 'අන්තර්ජාල', 'හැමතැනම': 'හැමතැන', 'හුවමාරුවෙන': 'හුවමාරුවෙ', 'තේරෙන': 'තේරෙ', 'භාෂාවෙන්': 'භාෂාවෙන', 'සරලව': 'සරල', 'වීඩියෝවේ': 'වීඩියෝ', 'හිමිකරු': 'හිමිකර', 'දන්වන්න': 'දන්වන්', 'මෙහි': '', 'සඳහන්': 'සඳහන', 'බල්ලන්ගේ': 'බල්ලන්', 'බැලිමේ': 'බැලි', 'පිපාසයෙන්': 'පිපාසයෙන', 'පෙලෙන': 'පෙලෙ', 'මුස්තාපා': 'මුස්තාප', 'රාවුෆ්': 'රාවුෆ', 'හකීම්': 'හකීම', 'මහපුටුව': 'මහපුටු', 'කොංග්': 'කොංග', 'රසයට': 'රසය', 'ඉල්ලනවලු': 'ඉල්ලනවල', 'පිනට': 'පින', 'හිතුවද': 'හිතුව', 'මුගෙ': 'මු', 'සිංහලයා': 'සිංහල', 'මෝඩයා': 'මෝඩ', 'කැවුම්': 'කැවුම', 'සූරයා': 'සූර', 'ෂෙයා': 'ෂෙ', 'කිරිම': 'කිරි', 'නොකිරිම': 'නොකිරි', 'විමසීමට': 'විමසීම', 'මැරු': 'මැර', 'මුස්ලිමානුවෝ': 'මුස්ලිමානු', 'බල්ලෝ': 'බල්ල', 'බැහැපිය': 'බැහැ', 'එළියට': 'එළිය', 'අයුක්තිය': 'අයුක්ති', 'රජයන': 'රජය', 'ඉකිරිගොල්ලෑවේ': 'ඉකිරිගොල්ලෑ', 'වසීම්': 'වසීම', 'හෝටලය': 'හෝටල', 'නින්දේ': 'නින්ද', 'බොදු': 'බොද', 'බල': 'බ', 'සේනාවට': 'සේනාව', 'බුරන': 'බුර', 'නඩය': 'නඩ', 'බල්ලාට': 'බල්ලා', 'දමා': 'දම', 'සුද්දාට': 'සුද්දා', 'දෙමළාට': 'දෙමළා', 'තම්බියාට': 'තම්බියා', 'ෆොන්සේකා': 'ෆොන්සේ', 'සිරිසේනගේ': 'සිරිසේන', 'අමුඩය': 'අමුඩ', 'ගලවයි': 'ගලව', 'ආචාරියා': 'ආචාරි', 'කොලෙත්': 'කොලෙත', 'ඉරාගෙන': 'ඉරාගෙ', 'ඇඟෙත්': 'ඇඟෙත', 'හළාගෙන': 'හළාගෙ', 'ඉඳුල්': 'ඉඳුල', 'ඇඟේ': 'ඇඟ', 'උලාගෙන': 'උලාගෙ', 'මේකගෙ': 'මේ', 'මොලේ': 'මොල', 'ලුණු': 'ලුණ', 'ගොරකා': 'ගොර', 'මූතමයි': 'මූතම', 'රුපියල': 'රුපිය', 'බාල්දුවෙනවිට': 'බාල්දුවෙනවි', 'ඩොලරය': 'ඩොලර', 'නගිනවිට': 'නගිනවි', 'රුපියල්': 'රුපියල', 'එනවා': 'එ', 'අම්මපා': 'අම්මප', 'යාලුවන': 'යාලුව', 'ේ': 'ෙ', 'කුලියාපිටිය': 'කුලියාපිටි', 'ෙ': '', 'බස්': 'බස', 'නැවතුම': 'නැවතු', 'මනුස්සය': 'මනුස්ස', 'බඩගින්න': 'බඩගින්', 'නිමුවා': 'නිමු', 'අැදුනුත්': 'අැදුනුත', 'දුන්නා': 'දුන්', 'අවංකවම': 'අවංකව', 'ොට': 'ො', 'ෝ': 'ො', 'ේකට': 'ේ', 'දැම්ම': 'දැම්', 'ඔයාලවත්': 'ඔයාලවත', 'ොද': 'ො', 'ො': 'ෙ', 'උවමනාව': 'උවමනා', 'නන්නත්තාරයි': 'නන්නත්තාර', 'දනිස්': 'දනිස', 'උරහිස්': 'උරහිස', 'පිදුරංගල': 'පිදුරංග', 'පූජනීය': 'පූජනී', 'දුන්නු': 'දුන්', 'වටිනාකම': 'වටිනාක', 'පුක': 'පු', 'පෙන්නපු': 'පෙන්න', 'වැදපන්': 'වැදපන', 'සුද්දිට': 'සුද්දි', 'දනගහලා': 'දනගහ', 'ලන්කාවෙ': 'ලන්කා', 'එව්න්ට': 'එව්න්', 'උගන්නල': 'උගන්න', 'හැසිරෙන්න': 'හැසිරෙන්', 'වහා': 'වහ', 'කපියව්': 'කපියව', 'වලත්': 'වලත', 'මොකෙක්': 'මොකෙක', 'හරකෙක්': 'හරකෙක', 'කලාම': 'කලා', 'ඔක්කොමත්': 'ඔක්කොමත', 'මේ': 'මෙ', 'සංචාරකයෝ': 'සංචාරකයො', 'රු': 'ර', 'ගන්නව': 'ගන්න', 'හැදිච්ච': 'හැද', 'ලෝකෙටම': 'ලෝකෙ', 'පෙන්වනව': 'පෙන්වන', 'අපේ': 'අපෙ', 'මොට්ටයො': 'මොට්ටයෙ', 'ලෝකෙට': 'ලෝකෙ', 'දිපු': 'දි', 'ඩොලරයෙන්': 'ඩොලරයෙන', 'ශක්තිමත්': 'ශක්තිමත', 'වෙනව': 'වෙන', 'හිතන්': 'හිතන', 'හෙලුව': 'හෙලු', 'බුරුවන්ගේ': 'බුරුවන්', 'රාජධානිය': 'රාජධානි', 'එකතුවෙලා': 'එකතුවෙ', 'අට': 'අ', 'පාස්': 'පාස', 'උන්ගේ': 'උන්', 'නායකයා': 'නායක', 'පත්කරගෙන': 'පත්කරගෙ', 'දදා': 'දද', 'ගූ': 'ග', 'ඵ්ත්': 'ඵ්ත', 'අවංකද': 'අවංක', 'යන්නට': 'යන්න', 'අපූරු': 'අපූර', 'නිදසුනක්': 'නිදසුනක', 'තරැනයන්': 'තරැනයන', 'පුසිද්ධියේ': 'පුසිද්ධි', 'අගැයීමකට': 'අගැයීම', 'සංචාරකයන්': 'සංචාරකයන', 'වුන': 'වු', 'විශේෂත්ය': 'විශේෂත්', 'ලාංකීකයෝ': 'ලාංකීක', 'සිද්ධියක්': 'සිද්ධියක', 'බැනල': 'බැන', 'උගන්නන්නෙත්': 'උගන්නන්නෙත', 'සීගිරිය': 'සීගිරි', 'කාශ්': 'කාශ', 'ඉස්සරලම': 'ඉස්සරල', 'රාවන': 'රාව', 'රජතුමා': 'රජතුම', 'රජදරුවන්ගේ': 'රජදරුවන්', 'පෙන්විමෙන්': 'පෙන්විමෙන', 'එකල': 'එක', 'කැටයම්කරුවන්': 'කැටයම්කරුවන', 'ඉංජිනේරු': 'ඉංජිනේර', 'කිරිමට': 'කිරිම', 'හුරු': 'හුර', 'වෙමු': 'වෙ', 'කැවා': 'කැ', 'ඉතිහාසය': 'ඉතිහාස', 'රහතන්වහන්සේලාට': 'රහතන්වහන්සේලා', 'රහත්වෙන්න': 'රහත්වෙන්', 'සුදුසු': 'සුදුස', 'පරිසරයෙ': 'පරිසර', 'වටිනාකමට': 'වටිනාකම', 'හානිවෙන්න': 'හානිවෙන්', 'තෙරුවන්': 'තෙරුවන', 'හැටියක්': 'හැටියක', 'එහෙ': 'එහ', 'මෙහෙ': 'මෙහ', 'වැදගත්කම': 'වැදගත්ක', 'සමස්ථයක්': 'සමස්ථයක', 'තරුණිය': 'තරුණි', 'ආදර්ශක්ද': 'ආදර්ශක්', 'මුතුන්': 'මුතුන', 'මිත්තො': 'මිත්ත', 'අගයක්': 'අගයක', 'නොදැනෙන': 'නොදැනෙ', 'තරමටම': 'තරම', 'මොල': 'මො', 'හිතන': 'හිත', 'ගති': 'ග', 'සිරිත්': 'සිරිත', 'වෙනස්': 'වෙනස', 'පිටරටකට': 'පිටරට', 'තේරෙණවා': 'තේරෙණ', 'දහසකට': 'දහස', 'තියන්නෙ': 'තිය', 'ලෝකයට': 'ලෝකය', 'ඉදිරියෙන්ද': 'ඉදිරියෙන්', 'සුද්දො': 'සුද්ද', 'එවුන්ගෙ': 'එවුන්', 'එදා': 'එද', 'අනගාරික': 'අනගාරි', 'ධර්මපාල': 'ධර්මපා', 'කිව්වෙ': 'කිව්', 'ලෝකයටම': 'ලෝකය', 'වෙද': 'වෙ', 'ඉගැන්වූ': 'ඉගැන්ව', 'ගරුක': 'ගරු', 'රාවණා': 'රාවණ', 'ද්': 'ද', 'රෝහියෙක්': 'රෝහියෙක', 'වාල්මිකී': 'වාල්මි', 'ලියූ': 'ලිය', 'රාමායනය': 'රාමායන', 'පාසලේ': 'පාසල', 'උගන්වනවා': 'උගන්ව', 'අවදිකල': 'අවදික', 'නිදහස්': 'නිදහස', 'තොටිල්ල': 'තොටිල්', 'එස්': 'එස', 'හිමි': 'හි', 'ජාතිවාදියෙක්': 'ජාතිවාදියෙක', 'මුල': 'මු', 'සිටම': 'සි', 'උරුමයන්': 'උරුමයන', 'පුළුල්': 'පුළුල', 'කිරීමට': 'කිරීම', 'හැකිවේවා': 'හැකිවේ', 'සුබවාදී': 'සුබවාද', 'ඇතිකිරීමට': 'ඇතිකිරීම', 'කළහැකි': 'කළහැ', 'බොහෝයි': 'බොහෝ', 'බිලි': 'බ', 'දෙකු': 'දෙ', 'ඉපදීම': 'ඉපදී', 'දෙදාස්': 'දෙදාස', 'පන්සීයෙ': 'පන්සී', 'රසූතියට': 'රසූතිය', 'ළමා': 'ළම', 'ඇදුමක්': 'ඇදුමක', 'ගිලිය': 'ගිලි', 'බvවට': 'බvව', 'පැනවිය': 'පැනවි', 'යුතුය': 'යුතු', 'සියළු': 'සියළ', 'එහෙමත්': 'එහෙමත', 'සුරකින': 'සුරකි', 'විලිලැජ්ජැවේ': 'විලිලැජ්ජැ', 'ගම': 'ග', 'දකින්නට': 'දකින්න', 'තියෙන්න': 'තියෙන්', 'ගත්තට': 'ගත්ත', 'ගැටළුවක්': 'ගැටළුවක', 'සිද්ධිය': 'සිද්ධි', 'ඩොක්ටර්': 'ඩොක්ටර', 'දෙමව්පියන්ට': 'දෙමව්පියන්', 'මෙයා': 'මෙ', 'සති': 'ස', 'හයක්': 'හයක', 'එයාගේ': 'එයා', 'දෙමව්පියන්': 'දෙමව්පියන', 'එවල': 'එව', 'ඔවුන්ට': 'ඔවුන්', 'සබ්ටයිටල්ස්': 'සබ්ටයිටල්ස', 'මැයගේ': 'මැය', 'අදහසට': 'අදහස', 'ගරුකරනව': 'ගරුකරන', 'කාගෙන්වත්': 'කාගෙන්වත', 'සිරිත්විරිත්': 'සිරිත්විරිත', 'ඉගනගතයුතු': 'ඉගනගතයුත', 'හිත්වල': 'හිත්ව', 'ගුනදහම්': 'ගුනදහම', 'තියනව': 'තියන', 'හැවැයි': 'හැවැ', 'යටපත්වෙල': 'යටපත්වෙ', 'ඉපදුන': 'ඉපදු', 'ආදරය': 'ආදර', 'හෙනහුරන්ට': 'හෙනහුරන්', 'බලාපල්ලා': 'බලා', 'මිනිස්සුන්': 'මිනිස්සුන', 'දක්වන': 'දක්ව', 'ගෞරවේ': 'ගෞර', 'කලු': 'කල', 'සුද්දෝ': 'සුද්ද', 'තූ': 'ත', 'සපෝට්': 'සපෝට', 'සප්': 'සප', 'හොරෙක්': 'හොරෙක', 'කටුගස්තොට': 'කටුගස්තො', 'පැත්තේ': 'පැත්ත', 'අල්ල්හු': 'අල්ල්', 'අක්බර්': 'අක්බර', 'රමණීය': 'රමණී', 'දෙවියන්': 'දෙවියන', 'සිංහලයෝ': 'සිංහල', 'මගෙනම්': 'මගෙනම', 'ල0කාව': 'ල0කා', 'දෙයක්වත්': 'දෙයක්වත', 'එයාල': 'එයා', 'විශ්මයට': 'විශ්මය', 'පත්වෙලා': 'පත්වෙ', 'වගකිවයුත්තනි': 'වගකිවයුත්ත', 'විනාශයන්': 'විනාශයන', 'පුද්ගලයින්ද': 'පුද්ගලයින්', 'ආයතනද': 'ආයතන', 'ජාවාරම්කාරයොන්ද': 'ජාවාරම්කාරයොන්', 'කෙනෙකුටම': 'කෙනෙකු', 'එරහිව': 'එරහි', 'රියාත්මක': 'රියාත්ම', 'දැකපු': 'දැක', 'හේතුවක්': 'හේතුවක', 'මනුස්සයෙක්': 'මනුස්සයෙක', 'ඉන්නකොට': 'ඉන්නකො', 'පාගන්න': 'පාගන්', 'නැගිට්ටවන්න': 'නැගිට්ටවන්', 'තාත්තාටම': 'තාත්තා', 'වැටුන': 'වැටු', 'කෙනෙක්ව': 'කෙනෙක්', 'උඹට': 'උඹ', 'එකෙක්ටම': 'එකෙක්', 'ආයිත්': 'ආයිත', 'නැගිටපන්': 'නැගිටපන', 'අයියේ': 'අයි', 'උනහමත්': 'උනහමත', 'නුවරයි': 'නුවර', 'වුනුයි': 'වුනු', 'පනින': 'පනි', 'කොනේවත්': 'කොනේවත', 'ඇත්තට': 'ඇත්ත', 'ඔබවැනි': 'ඔබවැ', 'අඩමිබරයි': 'අඩමිබර', 'ඇසීමත්': 'ඇසීමත', 'අනාගතයක්': 'අනාගතයක', 'විශිෂ්ටයි': 'විශිෂ්ට', 'මල්ලියා': 'මල්ලි', 'සම්පතක්': 'සම්පතක', 'අගයනවා': 'අගය', 'ස්තූතිය': 'ස්තූති', 'කෙසෙවෙතත්': 'කෙසෙවෙතත', 'කොල්ලාට': 'කොල්ලා', 'ආඩම්බරයි': 'ආඩම්බර', 'දරැවෙක්': 'දරැවෙක', 'තෙරැවන්': 'තෙරැවන', 'සරනයි': 'සරන', 'ජය': 'ජ', 'කරුවෝ': 'කරු', 'ඔයාල': 'ඔයා', 'දරුවො': 'දරුව', 'අවශ්': 'අවශ', 'පුතේ': 'පුත', 'උපන්': 'උපන', 'පලයන්': 'පලයන', 'උන්නොත්': 'උන්නොත', 'හිතා': 'හිත', 'ගන්නත්': 'ගන්නත', 'නිකම්': 'නිකම', 'ඇහුවේ': 'ඇහු', 'ලාංකිකයෝ': 'ලාංකික', 'හැගීම': 'හැගී', 'ආගම්': 'ආගම', 'ජාතීන්': 'ජාතීන', 'බෙදෙනවා': 'බෙදෙ', 'නැත්තම්': 'නැත්තම', 'උංගේ': 'උං', 'පැති': 'පැ', 'නායකයට': 'නායකය', 'තිබුනන්': 'තිබුනන', 'තිබුනානම්': 'තිබුනානම', 'විකුනයි': 'විකුන', 'ෂේප්': 'ෂේප', 'න්ට': 'න්', 'මහන්සියකි': 'මහන්සිය', 'ආදායමක්': 'ආදායමක', 'හොයන': 'හොය', 'තියරිය': 'තියරි', 'එයා': 'එ', 'බලාපොරොත්තු': 'බලාපොරොත්ත', 'නැගී': 'නැග', 'හිටින්න': 'හිටින්', 'ලන්කාව': 'ලන්කා', 'තුන්වෙනි': 'තුන්වෙ', 'නොර්වේ': 'නොර්', 'එකෙකුත්': 'එකෙකුත', 'තනි': 'ත', 'ටෙස්': 'ටෙස', 'එකක්ම': 'එකක්', 'දිනෙවුවා': 'දිනෙවු', 'අතගාල': 'අතගා', 'අරටුව': 'අරටු', 'කියපු': 'කිය', 'රිදෙයි': 'රිදෙ', 'වීඩීයෝස්': 'වීඩීයෝස', 'උස්සනවන්ම්': 'උස්සනවන්ම', 'පොඩ්ඩක්': 'පොඩ්ඩක', 'අහන': 'අහ', 'යුතුකමක්': 'යුතුකමක', 'වීව්ස්': 'වීව්ස', 'වීරකමක්': 'වීරකමක', 'එකකට': 'එ', 'අමුතුවෙන්': 'අමුතුවෙන', 'බූරැවෝ': 'බූරැ', 'එකිනෙකාට': 'එකිනෙකා', 'උදව්': 'උදව', 'ජාතියෙන්': 'ජාතියෙන', 'පාර්ලිමේන්තුවෙ': 'පාර්ලිමේන්තු', 'ජනාධිපතියට': 'ජනාධිපතිය', 'හැදෙන්න': 'හැදෙන්', 'අවුලයි': 'අවුල', 'පාලකයො': 'පාලකය', 'තෝරගන්න': 'තෝරගන්', 'වීල්': 'වීල', 'ගනින්': 'ගනින', 'දොස්තරද': 'දොස්තර', 'එලෙව්වද': 'එලෙව්ව', 'රැකියාවක්': 'රැකියාවක', 'මූනක්': 'මූනක', 'ලගදීම': 'ලගදී', 'අමබානක': 'අමබාන', 'ඉස්පිරිතාලෙ': 'ඉස්පිරිතාල', 'රීවිල්කාරයා': 'රීවිල්කාර', 'ගරාජ්කාරයා': 'ගරාජ්කාර', 'කොන්දා': 'කොන්ද', 'ඩ්': 'ඩ', 'රැයිවරයා': 'රැයිවර', 'උජාරුවට': 'උජාරුව', 'වැඩ්ඩෝ': 'වැඩ්ඩ', 'කොහේ': 'කොහ', 'ඇනුනම': 'ඇනුන', 'එරුනම': 'එරුන', 'ඒම': 'ඒ', 'සමහරක්': 'සමහරක', 'ගතිගුණ': 'ගතිග', 'උගත්': 'උගත', 'බුද්ධිමත්': 'බුද්ධිමත', 'ළඟවත්': 'ළඟවත', 'උන්ව': 'උන්', 'එකාටම': 'එකා', 'දෙයින්': 'දෙයින', 'රීරෝද': 'රීරෝ', 'රියදුරන්': 'රියදුරන', 'ගෙ': '', 'මනුෂ්': 'මනුෂ', 'යත්වය': 'යත්ව', 'හැදුවට': 'හැදුව', 'බූරුවගෙ': 'බූරුව', 'මනුස්සකම': 'මනුස්සක', 'මිනිසුන්ව': 'මිනිසුන්', 'හදුන්වල': 'හදුන්ව', 'තිරිවිල්': 'තිරිවිල', 'බොක්කට': 'බොක්', 'පුතෙ': 'පුත', 'පාවිච්චිය': 'පාවිච්චි', 'වෙවා': 'වෙ', 'මනුස්සයො': 'මනුස්සය', 'කිරිල්ලත්': 'කිරිල්ලත', 'සහො': 'සහ', 'මෙකා': 'මෙ', 'නාම්බේක්': 'නාම්බේක', 'බොරැල්ලේ': 'බොරැල්ල', 'කනත්තට': 'කනත්ත', 'ගැහි': 'ගැ', 'කියවනවා': 'කියව', 'කගෙන්': 'කගෙන', 'උගේ': 'උ', 'සමහට': 'සමහ', 'කොමෙන්ට්': 'කොමෙන්ට', 'බලමුකො': 'බලමුක', 'අනුකම්පාව': 'අනුකම්පා', 'මනුස්සකමින්': 'මනුස්සකමින', 'පිරුනු': 'පිරු', 'අවස්තාවක': 'අවස්තාව', 'හේනක්': 'හේනක', 'කුඹුරක්': 'කුඹුරක', 'කොටපන්': 'කොටපන', 'මී': 'ම', 'හරකො': 'හරක', 'මනුස්සයෝ': 'මනුස්ස', 'ලොකුද': 'ලොකු', 'හෑබෑයි': 'හෑබෑ', 'තර්ජන': 'තර්ජ', 'පවුලේ': 'පවුල', 'පන්නා': 'පන්', 'දේමු': 'දේ', 'දේශපාලුවන්ගේ': 'දේශපාලුවන්', 'පරන්පරාවල්': 'පරන්පරාවල', 'හැදිගෑවිලා': 'හැදිගෑවි', 'පලයව්': 'පලයව', 'දෙමු': 'දෙ', 'හැදිගැවිලා': 'හැදිගැවි', 'දෙශපලුවන්ට': 'දෙශපලුවන්', 'මහජනයාගේ': 'මහජනයා', 'වැජඹෙන': 'වැජඹෙ', 'කාලකණ්ණින්ව': 'කාලකණ්ණින්', 'එළවා': 'එළ', 'දමන්න': 'දමන්', 'වෙිලා': 'වෙි', 'බලාගන්න': 'බලාගන්', 'තාත්තට': 'තාත්ත', 'වටපිටාව': 'වටපිටා', 'බනින': 'බනි', 'අයියලාගේ': 'අයියලා', 'කමෙන්ට්ස්': 'කමෙන්ට්ස', 'හික්මීම': 'හික්මී', 'ආගමකින්': 'ආගමකින', 'තමතුලින්': 'තමතුලින', 'අනදෙයක්': 'අනදෙයක', 'සමුහයක්': 'සමුහයක', 'සමාජයක්': 'සමාජයක', 'විසින්ම': 'විසින්', 'පුහුණු': 'පුහුණ', 'කලදෙයක්': 'කලදෙයක', 'දැම්මොත්': 'දැම්මොත', 'පිකටින්': 'පිකටින', 'එහෙව්': 'එහෙව', 'බැලුවහම': 'බැලුවහ', 'මොඩයිනේ': 'මොඩයිනෙ', 'පොඩ්ඩක්': 'පොඩ්ඩක', 'නැවැත්තුවනම්': 'නැවැත්තුවනම', 'හැමොටම': 'හැමො', 'පහසුනේ': 'පහසුනෙ', 'මේක': 'මේ', 'අගයකරන්න': 'අගයකරන්', 'දාපුඑකා': 'දාපුඑ', 'පිස්සේක්': 'පිස්සේක', 'සමනය': 'සමන', 'මිනිහේක්නොවේ': 'මිනිහේක්නොවෙ', 'තවටිකක්': 'තවටිකක', 'ළමයින්ට': 'ළමයින්', 'අනතුරක්': 'අනතුරක', 'වෙනවද': 'වෙනව', 'කෙනෙකුයි': 'කෙනෙකු', 'හාදයෙකුයි': 'හාදයෙකු', 'යැව්වනම්': 'යැව්වනම', 'අවු': 'අව', '2500ක': '2500', 'ඉතිහාසයකුත්': 'ඉතිහාසයකුත', 'තියනවනේ': 'තියනවන', 'ලෝකයේ': 'ලෝක', 'මුතු': 'මුත', 'ඇටය': 'ඇට', 'වාසනාවන්තද': 'වාසනාවන්ත', 'මාර්ගය': 'මාර්ග', 'වනසේ': 'වනස', 'වාහනය': 'වාහන', 'නතරකිරීම': 'නතරකිරී', 'නඩුත්': 'නඩුත', 'පවරලා': 'පවර', 'ටෙනිසන්': 'ටෙනිසන', 'කුරේලට': 'කුරේල', 'බන්දු': 'බන්ද', 'සමරසින්හලට': 'සමරසින්හල', 'අලුතෙන්ම': 'අලුතෙන්', 'බිහිවුන': 'බිහිවු', 'ජන්දෙ': 'ජන්ද', 'හැටදෙලක්ෂයට': 'හැටදෙලක්ෂය', 'ඇතිනෙ': 'ඇතින', 'හිතුණේ': 'හිත', 'කේන්තියට': 'කේන්තිය', 'ඔහේ': 'ඔහ', 'කියවගෙන': 'කියවගෙ', 'විද්': 'විද', 'යාත්මක': 'යාත්ම', 'පදනමක්': 'පදනමක', 'රයිවට්': 'රයිවට', 'ආවනම්': 'ආවනම', 'දෙයි': 'දෙ', 'මොවුන්දලට': 'මොවුන්දල', 'ඉවසීමෙන්': 'ඉවසීමෙන', 'මාරයා': 'මාර', 'ලගා': 'ලග', 'ඉස්කෝලෙට': 'ඉස්කෝලෙ', 'පැන්නහම': 'පැන්නහ', 'තිහක්': 'තිහක', 'හතලිහක්': 'හතලිහක', 'පාරට': 'පාර', 'මිහරක්': 'මිහරක', 'රිවිල්': 'රිවිල', 'කාරයොයි': 'කාරයො', 'විනීතයි': 'විනීත', 'ලංකාවත්': 'ලංකාවත', 'මේවගෙ': 'මේව', 'අපූරුද': 'අපූරු', 'හිතනවද': 'හිතනව', 'විනය': 'වින', 'දරුවෙක්': 'දරුවෙක', 'ඉදන්ම': 'ඉදන්', 'ලැබිලත්': 'ලැබිලත', 'කලකිරුනම': 'කලකිරුන', 'ඇඩ්මින්ට': 'ඇඩ්මින්', 'මෙතනයි': 'මෙතන', 'වැරදුනේ': 'වැරදුන', 'හහ්': 'හහ', 'කල්පයක්': 'කල්පයක', 'බලාගෙන': 'බලාගෙ', 'අයින්': 'අයින', 'රතමයෙන්ම': 'රතමයෙන්', 'ඊවා': 'ඊ', 'මහත්මිය': 'මහත්මි', 'අධිකරණයේ': 'අධිකරණ', 'සිටියේ': 'සිටි', 'රිපුද්ගල': 'රිපුද්ග', 'විනිසුරු': 'විනිසුර', 'මඩුල්ලේ': 'මඩුල්ල', 'විනිසුරුවරුන්ගේ': 'විනිසුරුවරුන්', 'එකඟතාවය': 'එකඟතාව', 'අභියාචනය': 'අභියාචන', 'අධිකරණයට': 'අධිකරණය', 'හිමියන්ට': 'හිමියන්', 'චෝදනා': 'චෝද', 'හතරක්': 'හතරක', 'එල්ල': 'එල්', 'ආකාරය': 'ආකාර', 'නීතියට': 'නීතිය', 'නීතිපතිවරයා': 'නීතිපතිවර', 'පෙනී': 'පෙන', 'නියෝජ්': 'නියෝජ', 'සොලිසිටර්': 'සොලිසිටර', 'ජෙනරාල්': 'ජෙනරාල', 'අබේසූරිය': 'අබේසූරි', 'මහතා': 'මහත', 'අභියාචනාධිකරණයට': 'අභියාචනාධිකරණය', 'බලයක්': 'බලයක', 'ඔයවගේ': 'ඔයව', 'ඉන්නකම්': 'ඉන්නකම', 'නොහැකිය': 'නොහැ', 'මෑන්ට': 'මෑන්', 'අමතකයි': 'අමතක', 'ජනාදිපති': 'ජනාදිප', 'එයැයි': 'එයැ', 'තාත්තාට': 'තාත්තා', 'කෙල්ලෝ': 'කෙල්ල', 'මනුස්සයා': 'මනුස්ස', 'බලන්නේවත්': 'බලන්නේවත', 'ආදරනීය': 'ආදරනී', 'දුවෙක්': 'දුවෙක', 'දූලා': 'දූ', 'දසුනෙන්ම': 'දසුනෙන්', 'පෙනෙන්න': 'පෙනෙන්', 'ඇතැයි': 'ඇතැ', 'සිතනව': 'සිතන', 'දුන්නෝ': 'දු', 'ළමයින්': 'ළමයින', 'මරන්න': 'මරන්', 'වද': 'ව', 'පෙති': 'පෙ', 'දොස්තරලා': 'දොස්තර', 'මරනේන්': 'මරනේන', 'කරයිද': 'කරයි', 'සැමට': 'සැම', 'අදර්ශයක්': 'අදර්ශයක', 'ඇද්දත්': 'ඇද්දත', 'ඇහැක්': 'ඇහැක', 'ලොකේ': 'ලො', 'අගේකල': 'අගේක', 'යුතුමයි': 'යුතුම', 'උනානමි': 'උනාන', 'මොනතරමි': 'මොනතර', 'ලස්සනද': 'ලස්සන', 'මිට': 'මි', 'ගුනයහපත්': 'ගුනයහපත', 'ඔිනි': 'ඔි', 'එ්ත්': 'එ්ත', 'වැඩියි': 'වැඩි', 'උගන්වන්නේ': 'උගන්ව', 'කැම්පස්': 'කැම්පස', 'විශයක්': 'විශයක', 'අපිම': 'අපි', 'රගුණ': 'රග', 'වෙයන්': 'වෙයන', 'මමද': 'මම', 'අවුල්ද': 'අවුල්', 'නෝනලා': 'නෝන', 'මෙඩිකල්': 'මෙඩිකල', 'ගව්': 'ගව', 'ගානණක්': 'ගානණක', 'උඩින්': 'උඩින', 'වෛද්': 'වෛද', 'ර්': 'ර', 'සිසුවියක්': 'සිසුවියක', 'ජීවිතය': 'ජීවිත', 'අහිමි': 'අහි', 'අයෙකු': 'අයෙ', 'බෙිරාගත්': 'බෙිරාගත', 'අපූරැව': 'අපූරැ', 'ආචාරය': 'ආචාර', 'කෙල්ලො': 'කෙල්ල', 'හිටියනම්': 'හිටියනම', 'වෙයිද': 'වෙයි', 'දොස්තරවරු': 'දොස්තරවර', 'අතකොලු': 'අතකොල', 'මරනව': 'මරන', 'කෙල්ලොන්නම්': 'කෙල්ලොන්නම', 'කෘතිම': 'කෘති', 'ස්වසනය': 'ස්වසන', 'සුවර්': 'සුවර', 'සලකනව': 'සලකන', 'දුවේ': 'දු', 'දේව': 'දේ', 'දූතිකාවක්': 'දූතිකාවක', 'බයි': 'බ', 'මනුස්සයෝද': 'මනුස්සයෝ', 'වාහනේ': 'වාහනෙ', 'විදුරැවවත්': 'විදුරැවවත', 'බලන්නේ': 'බලන්නෙ', 'එ්කයි': 'එ්ක', 'කරදරයක්': 'කරදරයක', 'ජිවිතයක්': 'ජිවිතයක', 'ලැබේවා': 'ලැබේ', 'දෙපලට': 'දෙපල', 'සතුන්ට': 'සතුන්', 'තාවකාලිකව': 'තාවකාලික', 'රැකවරණය': 'රැකවරණ', 'දුන්': 'දුන', 'ඇයට': 'ඇය', 'නොදොකින්': 'නොදොකින', 'කාලකන්නියා': 'කාලකන්නි', 'ගීතයක්': 'ගීතයක', 'කාරය': 'කාර', 'තු': 'ත', 'පිටිපස්සේ': 'පිටිපස්ස', 'වාහනේ': 'වාහන', 'බල්ලා': 'බ', 'කවුරුවත්': 'කවුරුවත', 'හිතෙන්න': 'හිතෙන්', 'දුශ්ට': 'දුශ්', 'දුර්ජන': 'දුර්ජ', 'හැඟීම': 'හැඟී', 'උපදින්නේ': 'උපදි', 'තුළයි': 'තුළ', 'ජේසු': 'ජේස', 'පිහිටයි': 'පිහිට', 'චම්පා': 'චම්ප', 'රනාන්දු': 'රනාන්ද', 'ස්තුතියි': 'ස්තුති', 'මේකා': 'මේ', 'උබලට': 'උබල', 'සිම්පල්': 'සිම්පල', 'එකකක්': 'එකකක', 'මුට': 'මු', 'පෙරේතය': 'පෙරේත', 'බුකිපාල': 'බුකිපා', 'මහතාගේ': 'මහතා', 'පෙන්වීම': 'පෙන්වී', 'වක්': 'වක', 'යෝජනයක්': 'යෝජනයක', 'සුදූ': 'සුද', 'වියාපාරය': 'වියාපාර', 'ඕකෙන්': 'ඕකෙන', 'ගලා': 'ග', 'රවුන්ඩ්': 'රවුන්ඩ', 'යනකම්': 'යනකම', 'සන්තිචය': 'සන්තිච', 'ඩොලර්': 'ඩොලර', 'පලට': 'පල', 'මෙතුමන්ලට': 'මෙතුමන්ල', 'තිලංගයගෙ': 'තිලංගය', 'අම්මට': 'අම්ම', 'ලොකෙ': 'ලො', 'ටිම්': 'ටිම', 'අන්තිම': 'අන්ති', 'ටිකෙ': 'ටි', 'ආදයම': 'ආදය', 'ලාභයි': 'ලාභ', 'මෙයිත්': 'මෙයිත', 'රිපාල': 'රිපා', 'ඉන්නො': 'ඉ', 'උනන්දුවක්': 'උනන්දුවක', 'විජයකලා': 'විජයක', 'එකිගෙ': 'එ', 'සෙල්ලම්': 'සෙල්ලම', 'බලයි': 'බල', 'දවසින්': 'දවසින', 'රටත්': 'රටත', 'රිකට්නුත්': 'රිකට්නුත', 'වලපල්ලට': 'වලපල්ල', 'පුරුද්දක්': 'පුරුද්දක', 'පිම්පියො': 'පිම්පිය', 'තරුනයො': 'තරුනය', 'ගෙදරයවලා': 'ගෙදරයව', 'නිදාගන්න': 'නිදාගන්', 'ගොඩගමු': 'ගොඩග', 'තම්බින්ගෙ': 'තම්බින්', 'කැඩෙන': 'කැඩෙ', 'වෙන්නද': 'වෙන්න', 'ඒවට': 'ඒව', 'මෙයාගෙන්': 'මෙයාගෙන', 'පිළිම': 'පිළි', 'තම්බියො': 'තම්බිය', 'කඩන්නෙ': 'කඩ', 'නැහැලු': 'නැහැල', 'සි0හලයන්ට': 'සි0හලයන්', 'හිටියේ': 'හිටි', 'තරහා': 'තරහ', 'පාසලක්': 'පාසලක', 'දැකලවත්': 'දැකලවත', 'වැන්දගෙන': 'වැන්දගෙ', 'චන්දෙ': 'චන්ද', 'ඉල්ලන්': 'ඉල්ලන', 'ඉවසීම': 'ඉවසී', 'දෝතින්': 'දෝතින', 'දෙකය්': 'දෙකය', 'පනහෙ': 'පනහ', 'පොන්න': 'පොන්', 'ගොඩේ': 'ගොඩ', 'වෙය්ද': 'වෙය්', 'එජාපයේ': 'එජාප', 'දෙසන්නට': 'දෙසන්න', 'ෂුවර්': 'ෂුවර', 'මහත්මයෝ': 'මහත්ම', 'තමුන්ට': 'තමුන්', 'ජතතා': 'ජතත', 'කැමැත්තත්': 'කැමැත්තත', 'නැතිවෙනවා': 'නැතිවෙ', 'පාලනය': 'පාලන', 'පෙනවනෙ': 'පෙනවන', 'දන්නැති': 'දන්නැ', 'සංගට': 'සංග', 'වරයත්': 'වරයත', 'ඉමු': 'ඉ', 'දේශපාලනේට': 'දේශපාලනේ', 'මිනිහෙක්ට': 'මිනිහෙක්', 'නිදහසේ': 'නිදහස', 'බෙදා': 'බෙද', 'තොරවත්': 'තොරවත', 'සංගා': 'සංග', 'දේශකයෙක්': 'දේශකයෙක', 'සවන්': 'සවන', 'දීමෙන්': 'දීමෙන', 'දේශපාලනේම': 'දේශපාලනේ', 'වහල්ලු': 'වහල්ල', 'ලේබලේ': 'ලේබල', 'අලවන්නේ': 'අලව', 'ඉස්සෙල්ලාම': 'ඉස්සෙල්ලා', 'මුලින්': 'මුලින', 'නැට්ට': 'නැට්', 'නොපාගගෙන': 'නොපාගගෙ', 'දේශපාලනට': 'දේශපාලන', 'එයි': 'එ', 'අනිවා': 'අනි', 'රමය': 'රම', 'ඔබතුමා': 'ඔබතුම', 'අකුරින්': 'අකුරින', 'ලියැවුණු': 'ලියැවුණ', 'නාමය': 'නාම', 'මෝඩයි': 'මෝඩ', 'සෝ': 'ස', 'කස්ටිය': 'කස්ටි', 'සැහෙන්න': 'සැහෙන්', 'කලබල': 'කලබ', 'එයත්': 'එයත', 'කෙලවගන්න': 'කෙලවගන්', 'අව්ස්තාවාදියෙක්': 'අව්ස්තාවාදියෙක', 'රටහදන්න': 'රටහදන්', 'සංගාට': 'සංගා', 'ගෝඨා': 'ගෝඨ', 'දේශප්': 'දේශප', 'රේමීන්': 'රේමීන', 'බලාගනි': 'බලාග', 'දේසපාලෙනට': 'දේසපාලෙන', 'ආවොත්': 'ආවොත', 'තැනත්': 'තැනත', 'නැතිවෙයි': 'නැතිවෙ', 'මද': 'ම', 'විරාමයක්': 'විරාමයක', 'දෙන්නද': 'දෙන්න', 'නැගිටිමු': 'නැගිටි', 'වලින්ම': 'වලින්', 'ලියලා': 'ලිය', 'සාධාරණයක්': 'සාධාරණයක', 'මොකාට': 'මොකා', 'හද්න්නෙ': 'හද්', 'ගොනා': 'ගො', 'කහින': 'කහි', 'හොරෙකුටවත්': 'හොරෙකුටවත', 'තනියම': 'තනිය', 'සමගයි': 'සමග', 'ජයවේවා': 'ජයවේ', 'ලොඩ්ඩෙක්': 'ලොඩ්ඩෙක', 'පරාද': 'පරා', 'යෙක්': 'යෙක', 'පුත්තලම්': 'පුත්තලම', 'බුරුවෙක්ගේ': 'බුරුවෙක්', 'දාහෙන්': 'දාහෙන', 'සම්පතයි': 'සම්පත', 'අනෙපලඩො': 'අනෙපලඩ', 'හදනරට': 'හදනර', 'මොකාටද': 'මොකාට', 'කියලාදන්නවා': 'කියලාදන්', 'දෙන්නැචන්ද': 'දෙන්නැචන්', 'ඉවරනම්': 'ඉවරනම', 'ඉදපන්': 'ඉදපන', 'බෙරිවද': 'බෙරිව', 'ඔයාටත්': 'ඔයාටත', 'දෙයියන්ගේ': 'දෙයියන්', 'පිහිට': 'පිහි', 'සංස්කෘතියට': 'සංස්කෘතිය', 'නොදන්න': 'නොදන්', 'උබේ': 'උබ', 'දවසේ': 'දවස', 'කිවුවේ': 'කිවු', 'ගාණක්': 'ගාණක', 'ඉදලා': 'ඉද', 'පන්සලකට': 'පන්සල', 'අපායටම': 'අපාය', 'ඇදලා': 'ඇද', 'දැන්මා': 'දැන්ම', 'හොරකම්': 'හොරකම', 'ඔප්පු': 'ඔප්', 'නිදැල්ලේ': 'නිදැල්ල', 'නොකල': 'නොක', 'වරදලට': 'වරදල', 'රටකවත්': 'රටකවත', 'පොත්': 'පොත', 'ඉගැන්නුව': 'ඉගැන්නු', 'ඉන්දියන්': 'ඉන්දියන', 'සාගරයේ': 'සාගර', 'අම්මලා': 'අම්ම', 'තාත්තලා': 'තාත්ත', 'ලෝකෙන්': 'ලෝකෙන', 'රටද': 'රට', 'ආත්මෙක': 'ආත්මෙ', 'දිනම': 'දින', 'ඉපදෙන්නට': 'ඉපදෙන්න', 'රාර්ථනා': 'රාර්ථ', 'කිව්වොත්': 'කිව්වොත', 'පුතෙක්': 'පුතෙක', 'කිව්ව': 'කිව්', 'පෙනි': 'පෙ', 'අසරනය': 'අසරන', 'රසිද්ධියේ': 'රසිද්ධි', 'වංචා': 'වංච', 'එළියෙ': 'එළි', 'අරින්නෙ': 'අරි', 'මහලොකු': 'මහලො', '400ක්': '400ක', 'දූෂණය': 'දූෂණ', 'රජයෙ': 'රජ', 'සූරාකන': 'සූරාක', 'දේශපාළුවන්ට': 'දේශපාළුවන්', 'පගා': 'පග', 'නිලධාරින්ට': 'නිලධාරින්', 'රමොෂන්': 'රමොෂන', 'කුඩුකාරයින්ට': 'කුඩුකාරයින්', 'මැති': 'මැ', 'ඇමතිකම්': 'ඇමතිකම', 'කාගෙ': 'කා', 'පැමිණිල්ලකට': 'පැමිණිල්ල', 'අහුවෙන': 'අහුවෙ', 'අසරණයෙකුට': 'අසරණයෙ', 'වරැද්ද': 'වරැද්', 'නිවැරැද්ද': 'නිවැරැද්', 'හොයන්නෙ': 'හොය', 'මාංචු': 'මාංච', 'මනුස්සයෙක්ට': 'මනුස්සයෙක්', 'පාඩුවෙ': 'පාඩු', 'කපන': 'කප', 'මිනීමරුවෝ': 'මිනීමරු', 'නිදැල්ලෙ': 'නිදැල්ල', 'නිතීයක්': 'නිතීයක', 'විදියක්': 'විදියක', 'ඇස්': 'ඇස', 'තුක්': 'තුක', 'ඇඬිල්ලට': 'ඇඬිල්ල', 'වාව්': 'වාව', 'පට්ටයි': 'පට්ට', 'පිරිමිත්': 'පිරිමිත', 'සමාජෙ': 'සමාජ', 'තරමින්': 'තරමින', 'පිරිමිකම': 'පිරිමික', 'ලබන්නත්': 'ලබන්නත', 'ලබපු': 'ලබ', 'වදපු': 'වද', 'ගෑනියෙක්': 'ගෑනියෙක', 'බාල්දු': 'බාල්ද', 'ඔට්ටු': 'ඔට්ට', 'සාදාරණයි': 'සාදාරණ', 'බුකිවලින්': 'බුකිවලින', 'හොයනවට': 'හොයනව', 'රිකර්': 'රිකර', 'බෝර්ඩ්': 'බෝර්ඩ', 'පලියට': 'පලිය', 'හම්බවෙනවනම්': 'හම්බවෙනවනම', 'ඕයි': 'ඕ', 'ලැජ්ජායි': 'ලැජ්ජා', 'සාක්ෂරතාව': 'සාක්ෂරතා', 'සමින්ද': 'සමින්', 'ඇතුලෙදිම': 'ඇතුලෙදි', 'දේසපාලුවොයි': 'දේසපාලුවො', 'කුමයක්': 'කුමයක', 'දෙරණෙ': 'දෙරණ', 'චෝදනාවකට': 'චෝදනාව', 'දාාලා': 'දාා', 'ජිවිතක්ෂයට': 'ජිවිතක්ෂය', 'හොරකම': 'හොරක', 'පැමිණිලි': 'පැමිණ', 'කරුවන්ගෙ': 'කරුවන්', 'අහුකරල': 'අහුකර', 'සරලයිනේ': 'සරලයින', 'බුකි': 'බු', 'දිනන': 'දින', 'එකවගේම': 'එකව', 'පරදින': 'පරදි', 'එකෙනුත්': 'එකෙනුත', 'මුදල': 'මුද', 'ගෙවලා': 'ගෙව', 'මෙයාව': 'මෙයා', 'බලමුද': 'බලමු', 'සුවිශේෂී': 'සුවිශේෂ', 'පාච්චාරණය': 'පාච්චාරණ', 'කරව': 'කර', 'ගන්නේ': 'ග', 'පාඩුවේ': 'පාඩු', 'තිබුණේ': 'තිබ', 'එ්ක': 'එ්', 'ආයේම': 'ආයේ', 'හිරේට': 'හිරේ', 'මනුස්සයෙක්ගෙන්': 'මනුස්සයෙක්ගෙන', 'ලබලා': 'ලබ', 'ආවා': 'ආ', 'අනුන්ගේ': 'අනුන්', 'විදිනවා': 'විදි', 'මොනාද': 'මොනා', 'ජිවිතෙ': 'ජිවිත', 'මනුස්සයටම': 'මනුස්සය', 'නීතියක්': 'නීතියක', 'කරත්': 'කරත', 'පෙන්නේ': 'පෙ', 'කන්': 'කන', 'ඇහෙන්නේ': 'ඇහෙ', 'මනුස්සයෙක්ව': 'මනුස්සයෙක්', 'හිතේ': 'හිත', 'වේදනාවක්': 'වේදනාවක', 'තොපේ': 'තොප', 'මනුස්සයන්ට': 'මනුස්සයන්', 'කාලකන්නින්ට': 'කාලකන්නින්', 'දුන්නම': 'දුන්න', 'දයාසිරිට': 'දයාසිරි', 'කරගන්නව': 'කරගන්න', 'වැදුනේ': 'වැදුන', 'මැරේන්න': 'මැරේන්', 'ලන්': 'ලන', 'වෙලත්': 'වෙලත', 'වැඩිය': 'වැඩි', 'නරන': 'නර', 'පිරිම': 'පිරි', 'කමට': 'කම', 'නරා': 'නර', 'නොකරපු': 'නොකර', 'වරදකට': 'වරද', 'සොරකම්': 'සොරකම', 'නඩුවකට': 'නඩුව', 'මේකනම්': 'මේකනම', 'රණයක': 'රණය', 'සමහරවිට': 'සමහරවි', 'මැරුන': 'මැරු', 'කියයිද': 'කියයි', 'හොරකමකට': 'හොරකම', 'අහුවෙලා': 'අහුවෙ', 'ටී': 'ට', 'ලෑස්ති': 'ලෑස්', 'හිතුමතේගෙ': 'හිතුමතේ', 'කතාවට': 'කතාව', 'පොලීසියට': 'පොලීසිය', 'පීරිස්': 'පීරිස', 'එලිපිට': 'එලිපි', 'චෝදනාවන්': 'චෝදනාවන', 'අවන්කව': 'අවන්ක', 'කියුව': 'කියු', 'තිරිසන්': 'තිරිසන', 'දේම': 'දේ', 'ඈයෝ': 'ඈ', 'තුප්පහි': 'තුප්ප', 'උපදින': 'උපදි', 'ආත්මෙකනම්': 'ආත්මෙකනම', 'අමුතු': 'අමුත', 'ඇටේ': 'ඇට', 'නොඉපදේවා': 'නොඉපදේ', 'දේශගුණික': 'දේශගුණි', 'ස්වාභාවික': 'ස්වාභාවි', 'ආත්ම': 'ආත්', 'වෙමින්': 'වෙමින', 'රටක්ම': 'රටක්', 'එනවට': 'එනව', 'මේහේ': 'මේහ', 'ඉන්නෙක': 'ඉන්නෙ', 'හොඳයි': 'හොඳ', 'දෙරන': 'දෙර', 'තොරතුරු': 'තොරතුර', 'බිස්නස්': 'බිස්නස', 'ඉන්ටර්වීව්': 'ඉන්ටර්වීව', 'රශ්ණය': 'රශ්ණ', 'ගැබුරු': 'ගැබුර', 'යලෝක': 'යලෝ', 'අපායට': 'අපාය', 'මාර්ගයනම්': 'මාර්ගයනම', 'හදාගන්නවා': 'හදාගන්', 'ආර්යයන්': 'ආර්යයන', 'ගරහා': 'ගරහ', 'බවනම්': 'බවනම', 'පේනවා': 'පේ', 'රාවක': 'රාව', 'වඳින්නෙ': 'වඳි', 'දෙමාපියන්ගෙන්': 'දෙමාපියන්ගෙන', 'ලැබුණු': 'ලැබුණ', 'ගස්සවන': 'ගස්සව', 'දර්ශනය': 'දර්ශන', 'පිලිපදින්නෙ': 'පිලිපදි', 'හසුරවන': 'හසුරව', 'දහමට': 'දහම', 'සූත්': 'සූත', 'රයට': 'රය', 'විනයට': 'විනය', 'ගලපා': 'ගලප', 'දහම්': 'දහම', 'අවබෝධයක්': 'අවබෝධයක', 'පමනයි': 'පමන', 'ගැලපීම': 'ගැලපී', 'තිබෙන්නේ': 'තිබෙ', 'රශ්නෙත්': 'රශ්නෙත', 'ඇහුව': 'ඇහු', 'ධර්මයට': 'ධර්මය', 'ගලපන්නෙ': 'ගලප', 'ගලපන': 'ගලප', 'ඔළුවක්': 'ඔළුවක', 'ගොයියෝ': 'ගොයි', 'කාලයක': 'කාලය', 'තරමි': 'තර', 'පහදල': 'පහද', 'මකනවා': 'මක', 'අපහසු': 'අපහස', 'නැත්නමි': 'නැත්න', 'මඩම': 'මඩ', 'ඇහුවා': 'ඇහු', 'පිංවත්': 'පිංවත', 'මුදලාලිගෙන්': 'මුදලාලිගෙන', 'පඩුවෙ': 'පඩු', 'මාමේ': 'මා', 'නිදොස්': 'නිදොස', 'කරානම්': 'කරානම', 'කොහෙන්': 'කොහෙන', 'ාහෝ': 'ාහ', 'නීතියෙ': 'නීති', 'දෙවගන': 'දෙවග', 'මේත්': 'මේත', 'සීයාලා': 'සීයා', 'දෙකෙ': 'දෙ', 'පපුව': 'පපු', 'පිච්චිලා': 'පිච්චි', 'හිතුමතේ': 'හිතුමත', 'සාධාරණය': 'සාධාරණ', 'උදවියට': 'උදවිය', 'එයාට': 'එයා', 'සතුටෙන්': 'සතුටෙන', 'වාතවරණයක්': 'වාතවරණයක', 'මනුසයෙක්': 'මනුසයෙක', 'ගස්': 'ගස', 'ගේඩ්': 'ගේඩ', 'යක්': 'යක', 'කඩන්': 'කඩන', 'කැවොත්': 'කැවොත', 'මුනවල්': 'මුනවල', 'ඇදන්': 'ඇදන', 'කරනම්': 'කරනම', 'වහල': 'වහ', 'යන්': 'යන', 'සර්': 'සර', 'පස්සේන්': 'පස්සේන', 'මුන්ගේ': 'මුන්', 'අප්පගේ': 'අප්ප', 'දේයියෝ': 'දේයි', 'ඉවරයක්': 'ඉවරයක', 'දැම්මනම්': 'දැම්මනම', 'හිතක්': 'හිතක', 'ගාල': 'ගා', 'මරාගෙන': 'මරාගෙ', 'කම්බහොරු': 'කම්බහොර', 'සිරබත්': 'සිරබත', 'අල්ලලා': 'අල්ල', 'මහාවීරකමක්': 'මහාවීරකමක', 'දෙනවනම්': 'දෙනවනම', 'ගාන': 'ගා', 'කීයද': 'කීය', 'මනුස්සයව': 'මනුස්සය', 'මිනිසුන්ගේ': 'මිනිසුන්', 'ගාම්භීරත්වයෙන්': 'ගාම්භීරත්වයෙන', 'නංගිට': 'නංගි', 'අපරාධය': 'අපරාධ', 'පලිගත්': 'පලිගත', 'සාදාරණීකරණය': 'සාදාරණීකරණ', 'වුවත්': 'වුවත', 'මනුස්සයගෙන්': 'මනුස්සයගෙන', 'දිගින්': 'දිගින', 'අනවරතේ': 'අනවරත', 'පලිගන්නෙකනම්': 'පලිගන්නෙකනම', 'අසාධාරණයක්': 'අසාධාරණයක', 'එතුමිය': 'එතුමි', 'වරද': 'වර', 'තුන්දෙනාව': 'තුන්දෙනා', 'දැක්කාම': 'දැක්කා', 'හිතුනේ': 'හිතුන', 'විදපු': 'විද', 'දුක': 'දු', 'තුන්දෙනා': 'තුන්දෙ', 'කුසලානයක්': 'කුසලානයක', 'දිනුවාවගේ': 'දිනුවාව', 'වරාය': 'වරා', 'දීපන්': 'දීපන', 'ආය': 'ආ', 'බේරුනා': 'බේරු', 'බලපන්': 'බලපන', 'මචංලා': 'මචං', 'කෑවත්': 'කෑවත', 'ජීවිතේට': 'ජීවිතේ', 'දුන්නට': 'දුන්න', 'ලැප්': 'ලැප', 'නොගත්තනම්': 'නොගත්තනම', 'චන්දේ': 'චන්ද', 'දෙන්නත්': 'දෙන්නත', 'ෆයිල්': 'ෆයිල', 'බේරපු': 'බේර', 'වීරයෙක්': 'වීරයෙක', 'උණ්': 'උණ', 'අවංක': 'අවං', 'ආමී': 'ආම', 'කොල්ලන්ට': 'කොල්ලන්', 'වැඩ්': 'වැඩ', 'ඉල්ලලා': 'ඉල්ල', 'ට්ක': 'ට්', 'කරගන්නවා': 'කරගන්', 'පුටු': 'පුට', 'වගයක්': 'වගයක', 'ගෙන්නලා': 'ගෙන්න', 'කාපල්ලා': 'කා', 'තනකොල': 'තනකො', 'මි': '', 'ලග්දිම': 'ලග්දි', 'දුවන්න': 'දුවන්', 'ඉලගට': 'ඉලග', 'දොස්තරලත්': 'දොස්තරලත', 'මරන': 'මර', 'දොස්තරලට': 'දොස්තරල', 'ගැහුවේ': 'ගැහු', 'දෙපාර්තමේන්තුවේ': 'දෙපාර්තමේන්තු', 'දෙතුන්': 'දෙතුන', 'දුන්නත්': 'දුන්නත', 'නවතින': 'නවති', 'නැතිවෙනකම්': 'නැතිවෙනකම', 'හදුන්නලා': 'හදුන්න', 'වැඩට': 'වැඩ', 'එයාලව': 'එයාල', 'කැමතියි': 'කැමති', 'කවුරැත්': 'කවුරැත', 'හුඟක්ම': 'හුඟක්', 'අන්තර්': 'අන්තර', 'ගතයි': 'ගත', 'පණිවිඩයක්': 'පණිවිඩයක', 'තුලට': 'තුල', 'ජාතියකම': 'ජාතියක', 'ජාතීයේ': 'ජාතී', 'අමාරූ': 'අමාර', 'කාට': 'කා', 'හමුවන': 'හමුව', 'හැකිතාක්': 'හැකිතාක', 'ශෙයා': 'ශෙ', 'හැකිය': 'හැ', 'පෙඡ්': 'පෙඡ', 'උදව්වක්': 'උදව්වක', 'දැය': 'දැ', 'උරදුන්නට': 'උරදුන්න', 'සහය': 'සහ', 'දෙන්නමු': 'දෙන්න', 'ලොක්ක': 'ලොක්', 'පස්වන': 'පස්ව', 'විධායක': 'විධාය', 'ජානාධිපති': 'ජානාධිප', 'මැතිඳුන්': 'මැතිඳුන', 'නොකරන්න': 'නොකරන්', 'මහත්තයගේ': 'මහත්තය', 'හිතට': 'හිත', 'එකගව': 'එකග', 'මහින්දගේ': 'මහින්ද', 'කුහකයි': 'කුහක', 'ඉංජිනේරුවගේ': 'ඉංජිනේරුව', 'දාපිය': 'දා', 'කව්රුවත්': 'කව්රුවත', 'ගෙවනවනම්': 'ගෙවනවනම', 'තොපිකාලා': 'තොපි', 'ඉන්නෙත්': 'ඉන්නෙත', 'හදපුවගෙ': 'හදපුව', 'මොරගහකන්ද': 'මොරගහකන්', 'ජලාශය': 'ජලාශ', 'කියනවද': 'කියනව', 'අහන්නෙ': 'අහ', 'මොනවම': 'මොනව', 'ජනතාවගේ': 'ජනතාව', 'හැදුවම': 'හැදුව', 'දාන්නම': 'දාන්න', 'ඕනෙද': 'ඕනෙ', 'තැබිමනම්': 'තැබිමනම', 'ගාල්ලෙත්': 'ගාල්ලෙත', 'ඕකයි': 'ඕක', 'පාලකය': 'පාලක', 'ගජබින්න': 'ගජබින්', 'කෙලිනඑකගැන': 'කෙලිනඑකගැ', 'පුහු': 'පු', 'ආඩම්බරයක්': 'ආඩම්බරයක', 'ගුරුවරයා': 'ගුරුවර', 'ගෝලයින්ට': 'ගෝලයින්', 'මගීන්ට': 'මගීන්', 'දායකයන්ට': 'දායකයන්', 'නොවෙයි': 'නොවෙ', 'ආඩම්බරකම': 'ආඩම්බරක', 'පෙන්වමින්': 'පෙන්වමින', 'ඉන්නා': 'ඉන්', 'නොදියුණු': 'නොදියුණ', 'භාවය': 'භාව', 'වෙලාවත්': 'වෙලාවත', 'නැවෙන්න': 'නැවෙන්', 'විපත්': 'විපත', 'මොකටද': 'මොකට', 'ඉල්ලන්නේ': 'ඉල්ල', 'පාලනයක්': 'පාලනයක', 'හැමදේම': 'හැමදේ', 'අරිනවා': 'අරි', 'එලවන': 'එලව', 'බිහිෙවනකන්': 'බිහිෙවනකන', 'බම්බු': 'බම්බ', 'වන්ඩේ': 'වන්ඩ', 'විමේ': 'වි', 'කිව': 'කි', 'ලැබ්රඩොග්': 'ලැබ්රඩොග', 'දැක්කනේ': 'දැක්කන', 'ලැබ්': 'ලැබ', 'රෝයි': 'රෝ', 'සුමතිට': 'සුමති', 'පොරොන්දුවක්': 'පොරොන්දුවක', 'ධනුෂ්ක': 'ධනුෂ්', 'සීනි': 'සී', 'කොහෙ': 'කොහ', 'තිබ්බත්': 'තිබ්බත', 'වහනවා': 'වහ', 'ගහන්නෙත්': 'ගහන්නෙත', 'ඕකුන්ට': 'ඕකුන්', 'ඔට්ටුපාලයා': 'ඔට්ටුපාල', 'ගේම්': 'ගේම', 'ඉන්දියන්කාරයෝ': 'ඉන්දියන්කාර', 'ඉස්සරහා': 'ඉස්සරහ', 'පීචන්': 'පීචන', 'රෝකර්': 'රෝකර', 'නොදකින': 'නොදකි', 'ඇඩුන': 'ඇඩු', 'දෙය්යනේ': 'දෙය්යන', 'කිඋවයි': 'කිඋව', 'කරන්වද': 'කරන්ව', 'කෑගහනව': 'කෑගහන', 'මතකවත්': 'මතකවත', 'අනුකම්පා': 'අනුකම්ප', 'සුද්දෙක්': 'සුද්දෙක', 'හිමිකරගෙන': 'හිමිකරගෙ', 'ජන්දේ': 'ජන්ද', 'අනිවාර්යයෙන්': 'අනිවාර්යයෙන', 'අතෑරලා': 'අතෑර', 'පෙන්': 'පෙන', 'රීඩවකින්': 'රීඩවකින', 'ජාත්': 'ජාත', 'රිඩකයන්': 'රිඩකයන', 'කවදා': 'කවද', 'පලමුවත්': 'පලමුවත', 'මව්බිම': 'මව්බි', 'දෙවනුවත්': 'දෙවනුවත', 'තෙවනුවත්': 'තෙවනුවත', 'හාමුදුරුවනේ': 'හාමුදුරුවන', 'බීල': 'බී', 'කීඩා': 'කීඩ', 'සිලෙක්ට්': 'සිලෙක්ට', 'කරෙත්': 'කරෙත', 'දිනුවත්': 'දිනුවත', 'පැරදුනත්': 'පැරදුනත', 'දැකලා': 'දැක', 'කොඩිය': 'කොඩි', 'නැතෝ': 'නැත', 'වනන්න': 'වනන්', 'අවස්ථාවක්': 'අවස්ථාවක', 'නොගියට': 'නොගිය', 'මොක්ද': 'මොක්', 'යනවනෙ': 'යනවන', 'කොඩියක්ද': 'කොඩියක්', 'යන්තරයට': 'යන්තරය', 'ගෙනියන්න': 'ගෙනියන්', 'හිටපන්කෝ': 'හිටපන්ක', 'මයිත්': 'මයිත', 'මාමා': 'මාම', 'ලෝකේම': 'ලෝකේ', 'බබලවන': 'බබලව', 'ඉන්නවමයි': 'ඉන්නවම', 'එලකිරී': 'එලකිර', 'මචෝ': 'මච', 'හදාගමුකෝ': 'හදාගමුක', 'අක්කලටනෙ': 'අක්කලටන', 'නායකයෝ': 'නායක', 'මෙයාට': 'මෙයා', 'ධූරයේ': 'ධූර', 'පව': 'ප', 'මෙයත්': 'මෙයත', 'අතීතයට': 'අතීතය', 'දවසකට': 'දවස', 'පමනක්': 'පමනක', 'සෙයා': 'සෙ', 'පෝස්ටුවක්': 'පෝස්ටුවක', 'සිස්ටම්': 'සිස්ටම', 'වෙනස්වන': 'වෙනස්ව', 'බවක්': 'බවක', 'පේනතෙක්': 'පේනතෙක', 'මානෙක': 'මානෙ', 'ටිකකින්': 'ටිකකින', 'යංග්': 'යංග', 'යර්ථයෙන්': 'යර්ථයෙන', 'හ්ම්': 'හ්ම', 'එලාම්': 'එලාම', 'ඔෆ්': 'ඔෆ', 'කරලයි': 'කරල', 'බලන්නේ': 'බල', 'ජොබ්': 'ජොබ', 'ලන්කාවේ': 'ලන්කා', 'සේවකයන්ට': 'සේවකයන්', 'සේවක': 'සේව', 'බූවල්ලගෙන්': 'බූවල්ලගෙන', 'නොගත්තොත්': 'නොගත්තොත', 'බොරුව': 'බොරු', 'ගෝල්': 'ගෝල', 'ගහනවද': 'ගහනව', 'රටේද': 'රටේ', 'ජාතියේද': 'ජාතියේ', 'ආගමේද': 'ආගමේ', 'වුනත්': 'වුනත', 'පැවරෙන': 'පැවරෙ', 'කාටත්': 'කාටත', 'විඩියෝවේ': 'විඩියෝ', 'ලංකාවටත්': 'ලංකාවටත', 'ඹිනේ': 'ඹින', 'මෙිහේම': 'මෙිහේ', 'ඡනතාවක්': 'ඡනතාවක', 'සෙමි': 'සෙ', 'ෆයිනල්': 'ෆයිනල', 'තියපු': 'තිය', 'කලින්ම': 'කලින්', 'නිවන': 'නිව', 'නොහිටපු': 'නොහිට', 'පරීක්ෂණයක්': 'පරීක්ෂණයක', 'එපේ': 'එප', 'සතුටට': 'සතුට', 'අඩියකුත්': 'අඩියකුත', 'සී': 'ස', 'පද': 'ප', 'ජිවිතයේ': 'ජිවිත', 'අත්දැකීම': 'අත්දැකී', 'අවදිකලා': 'අවදික', 'දේටම': 'දේ', 'රාජකාරිය': 'රාජකාරි', 'ලෝකෙටම': 'ලෝකෙ', 'මිලියන': 'මිලිය', 'ජනගහනය': 'ජනගහන', 'හැදෙනව': 'හැදෙන', 'හැදෙන්නෙ': 'හැදෙ', 'කෙනාව': 'කෙනා', 'කෙරවලට': 'කෙරවල', 'දුවලා': 'දුව', 'ගින්න': 'ගින්', 'ගහින්': 'ගහින', 'අෙප්': 'අෙප', 'ෙට්': 'ෙට', 'තරුණ': 'තර', 'පිරිසකට': 'පිරිස', 'ෙම': 'ෙ', 'ෙහම': 'ෙහ', 'අැෙග්': 'අැෙග', 'භාවනාවක්': 'භාවනාවක', 'දන්නවාද': 'දන්නවා', 'මැරෙන්නට': 'මැරෙන්න', 'සැගවෙලා': 'සැගවෙ', 'මොකක්දෝ': 'මොකක්ද', 'කරැම': 'කරැ', 'සැගවිලා': 'සැගවි', 'අවස්ථා': 'අවස්ථ', 'ඉබේම': 'ඉබේ', 'සක්කරයටවත්': 'සක්කරයටවත', 'වෙලාවෙමත්': 'වෙලාවෙමත', 'තියේ': 'ති', 'හිටියත්': 'හිටියත', 'දැනෙන්නේ': 'දැනෙ', 'ලාංකීක': 'ලාංකී', 'කිව්වත්': 'කිව්වත', 'දෙවිවරු': 'දෙවිවර', 'අත්දැකීමෙන්': 'අත්දැකීමෙන', 'ජාතිබේද': 'ජාතිබේ', 'දෙනාට': 'දෙනා', 'ඵල': 'ඵ', 'පිනෙන්ම': 'පිනෙන්', 'සියලුරෝගීන්': 'සියලුරෝගීන', 'අගමක්': 'අගමක', 'කෙසේවුවත්': 'කෙසේවුවත', 'රීලාංකිකකම': 'රීලාංකිකක', 'කුරුණෑගල': 'කුරුණෑග', 'කිරිවවුලෙ': 'කිරිවවුල', 'මීගොල්ලට': 'මීගොල්ල', 'යද්දිත්': 'යද්දිත', 'පෙරලිලා': 'පෙරලි', 'වැටුණම': 'වැටුණ', 'වෙලාවෙ': 'වෙලා', 'සද්දෙ': 'සද්ද', 'ඇහිලා': 'ඇහි', 'එකක්ත්': 'එකක්ත', 'හදලා': 'හද', 'දීලා': 'දී', 'බෙහෙතුත්': 'බෙහෙතුත', 'වෙලාවකට': 'වෙලාව', 'රශ්න': 'රශ්', 'වෙලාවල්': 'වෙලාවල', 'මනුස්සකම්': 'මනුස්සකම', 'පිරුණු': 'පිරුණ', 'මාගෙ': 'මා', 'අංක': 'අං', 'එතැනදී': 'එතැනද', 'පොහොසත්ම': 'පොහොසත්', 'පිහිටට': 'පිහිට', 'බින්දුවකම': 'බින්දුවක', 'ගෑවුන': 'ගෑවු', 'යමු': 'ය', 'බැහැලා': 'බැහැ', 'එකාව': 'එකා', 'හොස්පිටල්': 'හොස්පිටල', 'දෙයියෝ': 'දෙයි', 'බැලුවා': 'බැලු', 'දිව්වා': 'දිව්', 'ඉන්නවානම්': 'ඉන්නවානම', 'උන්වා': 'උන්', 'වැදලා': 'වැද', 'ඉස්තූති': 'ඉස්තූ', 'කෑගල්ල': 'කෑගල්', 'රිදීතොටුව': 'රිදීතොටු', 'නිල්': 'නිල', 'සුක්කානම': 'සුක්කාන', 'කලබලයක්': 'කලබලයක', 'නිකරුණේ': 'නිකර', 'සිහිබුද්දියෙන්': 'සිහිබුද්දියෙන', 'පදවන්න': 'පදවන්', 'මියගිය': 'මියගි', 'නිවන්සුව': 'නිවන්සු', 'රෝගිනට': 'රෝගින', 'සුවපත්බාවයත්': 'සුවපත්බාවයත', 'පතනව': 'පතන', 'තංගල්ලේ': 'තංගල්ල', 'ගෙදරකට': 'ගෙදර', 'මැරුණ': 'මැර', 'කාන්තාව': 'කාන්තා', 'නර්තන': 'නර්ත', 'ගුරුවරියක්': 'ගුරුවරියක', 'මිලියන්': 'මිලියන', 'ගණනක': 'ගණන', 'ඉපයූ': 'ඉපය', 'සභාපතිගේ': 'සභාපති', 'සංවර්ධනයක්': 'සංවර්ධනයක', 'තේරුන': 'තේරු', 'ඇම්බියුලන්ස්': 'ඇම්බියුලන්ස', 'ජාතිවාදයක්': 'ජාතිවාදයක', 'තැනකම': 'තැනක', 'වගුරක්': 'වගුරක', 'සංවේදී': 'සංවේද', 'හදවත්': 'හදවත', 'ඉක්මන්': 'ඉක්මන', 'සුවය': 'සුව', 'මල්ලිලා': 'මල්ලි', 'සියලුදෙනාටම': 'සියලුදෙනා', 'දෙවිපිහිටයි': 'දෙවිපිහිට', 'මේතමයි': 'මේතම', 'අපේකම': 'අපේක', 'හෙලයො': 'හෙලය', 'රටේම': 'රටේ', 'අතින්ම': 'අතින්', 'පොහොසත්': 'පොහොසත', 'කෙනෙක්ගේ': 'කෙනෙක්', 'වේදනාව': 'වේදනා', 'වෙන්නෙත්': 'වෙන්නෙත', 'එරෙන්නෙත්': 'එරෙන්නෙත', 'පිරිමියෙක්': 'පිරිමියෙක', 'අම්මෙක්ගෙ': 'අම්මෙක්', 'එලක්': 'එලක', 'ශීට්': 'ශීට', 'නැගිටල': 'නැගිට', 'තුන්': 'තුන', 'දෙනාම': 'දෙනා', 'කෝච්චියේ': 'කෝච්චි', 'නිසයී': 'නිසය', 'දරුවෝ': 'දරු', 'අම්මලට': 'අම්මල', 'නොදුන්නට': 'නොදුන්න', 'ඉතිහාසයක්': 'ඉතිහාසයක', 'බම්': 'බම', 'මාත්තය': 'මාත්ත', 'තීනාවා': 'තීනා', 'කීන්න': 'කීන්', 'තැන්': 'තැන', 'කු': '', 'කීන්නෙත්': 'කීන්නෙත', 'යෙකාලානේ': 'යෙකාලාන', 'යේක': 'යේ', 'මාත්තයා': 'මාත්ත', 'පුරෝලා': 'පුරෝ', 'ඉටියේ': 'ඉටි', 'පෝයට': 'පෝය', 'ශිල්': 'ශිල', 'ෂතියට': 'ෂතිය', 'පාලොවක්': 'පාලොවක', 'විශ්ශක්': 'විශ්ශක', 'ආන': 'ආ', 'පිච්ච': 'ප', 'කප්රුක': 'කප්රු', 'කංචුක': 'කංචු', 'කොරන': 'කොර', 'ඒකාට': 'ඒකා', 'යෙක': 'යෙ', 'මුන්දල': 'මුන්ද', 'අපිලව': 'අපිල', 'මරාන්ට': 'මරාන්', 'යේ': '', 'මොක්කොද': 'මොක්කො', 'අප්පා': 'අප්ප', 'ඇරුනම': 'ඇරුන', 'ආත්මාර්තකාමී': 'ආත්මාර්තකාම', '49ක්': '49ක', 'ඒකෙන්ම': 'ඒකෙන්', 'තේරුණා': 'තේරුණ', 'තත්වේ': 'තත්', 'බැහැල': 'බැහැ', 'උදෙ': 'උද', 'ර්න්': 'ර්න', 'ජප්පියො': 'ජප්පිය', 'බබා': 'බබ', 'නගිනවා': 'නගි', 'මාම': 'මා', 'නැගිටිලා': 'නැගිටි', 'ෂිට්': 'ෂිට', 'ඉයෙ': 'ඉ', 'ඉයේ': 'ඉ', 'දයිජබු': 'දයිජබ', 'දෙස්': 'දෙස', 'වට': 'ව', 'අයිත්': 'අයිත', 'සම': 'ස', 'හරක්ට': 'හරක්', 'අමිමෙක්': 'අමිමෙක', 'අතදරැවෙක්': 'අතදරැවෙක', 'මහලු': 'මහල', 'අයෙක්': 'අයෙක', 'නැග්ගම': 'නැග්ග', 'නින්ද': 'නින්', 'නැතිනමි': 'නැතින', 'ෆෝන්': 'ෆෝන', 'දරැවො': 'දරැව', 'දරැදුක': 'දරැදු', 'අරූ': 'අර', 'කරනකන්': 'කරනකන', 'ව්ඩියෝ': 'ව්ඩි', 'යලුවට': 'යලුව', 'ගෝඩක්': 'ගෝඩක', 'මිනිස්සුනේ': 'මිනිස්සුන', 'දැනට': 'දැන', 'සතුන්': 'සතුන', 'කලක්': 'කලක', 'ආදරෙයි': 'ආදරෙ', 'කවදාද': 'කවදා', 'ගොබිලන්ට': 'ගොබිලන්', 'ඉවරනේ': 'ඉවරන', 'වගයකට': 'වගය', 'හපන්': 'හපන', 'නල්ල': 'නල්', 'මලේ': 'මල', 'ඇද්දාම': 'ඇද්දා', 'ඕකුට': 'ඕ', 'අරුන්ගේ': 'අරුන්', 'අදින්නෙත්': 'අදින්නෙත', 'අන්ද': 'අන්', 'ටිකකට': 'ටි', 'පලිගැනීම්': 'පලිගැනීම', 'ඇසට': 'ඇස', 'කඳුළු': 'කඳුළ', 'බල්බ්': 'බල්බ', 'ඉතිහාසෙ': 'ඉතිහාස', 'ජපනා': 'ජප', 'ෆෙන්ස්': 'ෆෙන්ස', 'කරලම': 'කරල', 'තරුණයන්': 'තරුණයන', 'පැත්තෙන්': 'පැත්තෙන', 'හිටගන්නවා': 'හිටගන්', 'මර්දන': 'මර්ද', 'මිනිසුන්ගෙ': 'මිනිසුන්', 'සහයෝගය': 'සහයෝග', 'මොහොතෙ': 'මොහොත', 'පාතාලයන්': 'පාතාලයන', 'නිර්මාණය': 'නිර්මාණ', 'බිහි': 'බි', 'උවමනාවක්': 'උවමනාවක', 'මෙහෙමතමයි': 'මෙහෙමතම', 'අවධානම': 'අවධාන', 'ගැනවත්': 'ගැනවත', 'තිරීම': 'තිරී', 'අයද': 'අය', 'කරනු': 'කර', 'නඩුවලට': 'නඩුවල', 'කාරයක්': 'කාරයක', 'සැරෙන්': 'සැරෙන', 'නොවුනොත්': 'නොවුනොත', 'ගානෙ': 'ගාන', 'උණාම': 'උණා', 'හිතෙයි': 'හිතෙ', 'ගෞරව': 'ගෞර', 'අගයකිරීම': 'අගයකිරී', 'වටිනවා': 'වටි', 'මහත්තුරුන්ගේ': 'මහත්තුරුන්', 'නිසායි': 'නිසා', 'මහජනයට': 'මහජනය', 'ඇගයීම්': 'ඇගයීම', 'දෙපැත්තටම': 'දෙපැත්ත', 'සේවයත්': 'සේවයත', 'අගේ': 'අ', 'තණකොල': 'තණකො', 'කටහඩකටම': 'කටහඩක', 'වැස්සියෝ': 'වැස්සි', 'ටිකකුයි': 'ටිකකු', 'ඉන්නවානේ': 'ඉන්නවාන', 'රසාස්වාදය': 'රසාස්වාද', 'හිතාගන්න': 'හිතාගන්', 'ගායකයෝ': 'ගායක', 'පොඩිකාලේ': 'පොඩිකාල', 'තනිකමට': 'තනිකම', 'හුරුවෙලා': 'හුරුවෙ', 'ජීවත්වෙන්න': 'ජීවත්වෙන්', 'කලාමද': 'කලාම', 'හදපුරා': 'හදපුර', 'ඇත්තෙන්ම': 'ඇත්තෙන්', 'දිනක': 'දින', 'නොපාන්න': 'නොපාන්', 'මනුෂකම': 'මනුෂක', 'දරාගැනීම්': 'දරාගැනීම', 'සාධකේ': 'සාධ', 'අවංකව': 'අවංක', 'මනුසත්': 'මනුසත', 'අැති': 'අැ', 'උත්තම': 'උත්ත', 'අැගයීම': 'අැගයී', 'කාලීනව': 'කාලීන', 'යුත්තක්': 'යුත්තක', 'හැමදෙනාටම': 'හැමදෙනා', 'කාරයොන්ට': 'කාරයොන්', 'මමනම්': 'මමනම', 'සලකන්නෙ': 'සලක', 'අත්දැකීම්': 'අත්දැකීම', 'පාතාලෙ': 'පාතාල', 'යින්න': 'යින්', 'ඔනි': 'ඔ', 'අගේකිරීම': 'අගේකිරී', 'පුජනියන්': 'පුජනියන', 'සුත්': 'සුත', 'රය': 'ර', 'පිදිය': 'පිදි', 'යුත්තන්': 'යුත්තන', 'එයයි': 'එ', 'අයියෙ': 'අයි', 'කෝටියක්': 'කෝටියක', 'නුඹලා': 'නුඹ', 'අභිමානයක්': 'අභිමානයක', 'අගය': 'අග', 'අයිසේජ්': 'අයිසේජ', 'මෝඩම': 'මෝඩ', 'හුකන්නෙක්': 'හුකන්නෙක', 'ජාන': 'ජා', 'වැරැද්දක්': 'වැරැද්දක', 'අම්මගෙ': 'අම්ම', 'සෑහෙන': 'සෑහෙ', 'රෙස්පෙක්ට්': 'රෙස්පෙක්ට', 'තරුණයාව': 'තරුණයා', 'පොලියට': 'පොලිය', 'බඳවාගැනීම': 'බඳවාගැනී', 'සිව්පාවුන්': 'සිව්පාවුන', 'මැද': 'මැ', 'දේවතාවන්': 'දේවතාවන', 'ජරව': 'ජර', 'ලන්කවෙ': 'ලන්ක', 'දක්කම': 'දක්ක', 'දෙකට': 'දෙ', 'නෙමන': 'නෙම', 'විරයො': 'විරය', 'බ්න්': 'බ්න', 'දැක්කමත්': 'දැක්කමත', 'පෙනුනා': 'පෙනු', 'ලික්න්': 'ලික්න', 'නිලදාරිය': 'නිලදාරි', 'පිදුව': 'පිදු', 'නිලදාරින්ගෙ': 'නිලදාරින්', 'නිල': 'නි', 'ඇදුම': 'ඇදු', 'මහත්තයෙක්ගෙන්': 'මහත්තයෙක්ගෙන', 'තුවක්කුවෙන්': 'තුවක්කුවෙන', 'විතරයිනෙ': 'විතරයින', 'පුහුනුවේ': 'පුහුනු', 'රස්නයකට': 'රස්නය', 'නොවීමෙ': 'නොවීම', 'රස්නයක්': 'රස්නයක', 'වෙරෙද්දට': 'වෙරෙද්ද', 'ඔකුන්': 'ඔකුන', 'සිද්ධවෙන්නෙත්': 'සිද්ධවෙන්නෙත', 'ඒකක': 'ඒක', 'වෙනියට': 'වෙනිය', 'මෝටාර්': 'මෝටාර', 'ඒකකය': 'ඒකක', 'නිලධාරින්': 'නිලධාරින', 'ජීවිතයේ': 'ජීවිත', 'ගෙවුවා': 'ගෙවු', 'දරුවන්': 'දරුවන', 'පොලීසියෙ': 'පොලීසි', 'පස්': 'පස', 'දෙනෙක්ට': 'දෙනෙක්', 'බීමත්': 'බීමත', 'බැරිඋන': 'බැරිඋ', 'දැක්කා': 'දැක්', 'ඒවත්': 'ඒවත', 'කායවර්ධන': 'කායවර්ධ', 'වර්ධනකුත්': 'වර්ධනකුත', 'රමේ': 'ර', 'හදාගන්න': 'හදාගන්', 'ඉංදියාවෙ': 'ඉංදියා', 'මැවිල': 'මැවි', 'පේනව': 'පේන', 'කිුයාත්මක': 'කිුයාත්ම', 'කලානමි': 'කලාන', 'මංකොල්ලයේ': 'මංකොල්ල', 'අපරාධකරු': 'අපරාධකර', 'බෝම්බයක්': 'බෝම්බයක', 'උත්සාහකල': 'උත්සාහක', 'අවස්ථාවේදී': 'අවස්ථාවේද', 'එල්ලකල': 'එල්ලක', 'පහරින්': 'පහරින', 'මරුට': 'මරු', 'හිතුවොත්': 'හිතුවොත', 'නරකද': 'නරක', 'ඇදුමේ': 'ඇදු', 'වර්ණය': 'වර්ණ', 'ගන්නට': 'ගන්න', 'ආරක්ශාව': 'ආරක්ශා', 'හිතුවේ': 'හිතු', 'ඇස්කන්': 'ඇස්කන', 'ඇරපල්ලා': 'ඇර', 'මෙහෙයුමකදී': 'මෙහෙයුමකද', 'දිය': 'දි', 'නොවේද': 'නොවේ', 'සිද්දිය': 'සිද්දි', 'සිදුවීම්': 'සිදුවීම', 'කිහිපයකදීම': 'කිහිපයකදී', 'හානි': 'හා', 'සිදුවිය': 'සිදුවි', 'සිදුවන': 'සිදුව', 'හානිය': 'හානි', 'අවම': 'අව', 'කිරීමටවත්': 'කිරීමටවත', 'බලධාරීන්': 'බලධාරීන', 'වගබලා': 'වගබ', 'සුළු': 'සුළ', 'පිරිසකගේ': 'පිරිස', 'ලන්කා': 'ලන්', 'පොලීසියේ': 'පොලීසි', 'නිලධාරීන්ගේ': 'නිලධාරීන්', 'ඇගේ': 'ඇ', 'නිවන්': 'නිවන', 'සුව': 'සු', 'අයුද': 'අයු', 'එක්කන්': 'එක්කන', 'සහොදරයා': 'සහොදර', 'බයයි': 'බ', 'තමන්ටම': 'තමන්', 'මැරෙනකම්': 'මැරෙනකම', 'පවුලත්': 'පවුලත', 'කරගෙන': 'කරගෙ', 'ඕනවට': 'ඕනව', 'මානව': 'මාන', 'හිමිකම්': 'හිමිකම', 'නීතිරීතිනේ': 'නීතිරීතින', 'එයාලත්': 'එයාලත', 'දනිස්සෙන්': 'දනිස්සෙන', 'පහලටම': 'පහල', 'හො': 'හ', 'මැරුනොත්': 'මැරුනොත', 'පවුල': 'පවු', 'ගෑනි': 'ගෑ', 'අනාථයි': 'අනාථ', 'කියලානේ': 'කියලාන', 'නිලධාරීයාට': 'නිලධාරීයා', 'සාධාරණයි': 'සාධාරණ', 'කොල්ලකරුවන්': 'කොල්ලකරුවන', 'ගැටුමකට': 'ගැටුම', 'මූන': 'මූ', 'දීමට': 'දීම', 'රායෝගික': 'රායෝගි', 'පුහුනුවක්': 'පුහුනුවක', 'පෙනෙන්නෙ': 'පෙනෙ', 'දැක්ක්ම': 'දැක්ක්', 'ඇරල': 'ඇර', 'ඇත්තෙම': 'ඇත්තෙ', 'තුවක්කුව': 'තුවක්කු', 'තියාගෙන': 'තියාගෙ', 'විදියෙන්': 'විදියෙන', 'ළගින්': 'ළගින', 'දෙන්නෙක්': 'දෙන්නෙක', 'හැංගිලා': 'හැංගි', 'කොල්ලකාරයෝ': 'කොල්ලකාර', 'දුවනවා': 'දුව', 'පැනල': 'පැන', 'දුවද්දී': 'දුව', 'අස්සේ': 'අස්ස', 'වෙටෙන්නේ': 'වෙටෙ', 'නිලදාරියා': 'නිලදාරි', 'එයතම': 'එයත', 'පටලොල': 'පටලො', 'රීලංකාවේ': 'රීලංකා', 'පොලිස්ථානයකට': 'පොලිස්ථානය', 'පාපතරයින්': 'පාපතරයින', 'මෙලොවින්': 'මෙලොවින', 'තුරන්': 'තුරන', 'වෙලාවකනම්': 'වෙලාවකනම', 'වැදිලා': 'වැදි', 'කැඩිලා': 'කැඩි', 'ඉදියොත්නම්': 'ඉදියොත්නම', 'පැත්තවත්': 'පැත්තවත', 'තරමට': 'තරම', 'අහින්සක': 'අහින්ස', 'මනුස්සයෙක්ටනම්': 'මනුස්සයෙක්ටනම', 'ඵතන්ට': 'ඵතන්', 'ගියෙ': 'ගි', 'දෙසපාලාකායො': 'දෙසපාලාකාය', 'හොරකමි': 'හොරක', 'කරනවනමි': 'කරනවන', 'ාහාරකමි': 'ාහාරක', 'ලංකිකයො': 'ලංකිකය', 'සලකන': 'සලක', 'යහපාලනයෙන්': 'යහපාලනයෙන', 'චිකාගෝවක්': 'චිකාගෝවක', 'වීරයකු': 'වීරය', 'නික්ම': 'නික්', 'යාම': 'යා', 'එව්වා': 'එව්', 'පොලීසියටවත්': 'පොලීසියටවත', 'ඔක': 'ඔ', 'තියෙන්': 'තියෙන', 'සතියක්': 'සතියක', 'අයගෙ': 'අය', 'අරන්යන්නද': 'අරන්යන්න', 'ගෙවන්නම': 'ගෙවන්න', 'ඉස්සෙල්ලා': 'ඉස්සෙ', 'බේරුනානම්': 'බේරුනානම', 'කොල්ල': 'කොල්', 'පාතාලේ': 'පාතාල', 'පල්ලා': '', 'ආකල්': 'ආකල', 'මරණයට': 'මරණය', 'නොමවෙවා': 'නොමවෙ', 'පොලිස්කාරයන්': 'පොලිස්කාරයන', 'නිලධාරියෙක්': 'නිලධාරියෙක', 'උත්තමාචාරය': 'උත්තමාචාර', 'ආඩම්බරයකි': 'ආඩම්බරය', 'විරුවෙක්': 'විරුවෙක', 'නිලධාරියාගේ': 'නිලධාරියා', 'මාතරටම': 'මාතර', 'ආඩමිබරයි': 'ආඩමිබර', 'කෑවා': 'කෑ', 'කමකින්': 'කමකින', 'උදේ': 'උද', 'විදුලිය': 'විදුලි', 'කළානම්': 'කළානම', 'හිතෙන්': 'හිතෙන', 'ලබන': 'ලබ', 'අනෝරා': 'අනෝර', 'වැස්සෙ': 'වැස්ස', 'දාන්නෙ': 'දා', 'රොටී': 'රොට', 'වාගෙ': 'වා', 'ගැලවෙනවා': 'ගැලවෙ', 'ඉන්ජිනේරුවන්ට': 'ඉන්ජිනේරුවන්', 'වැහි': 'වැ', 'කාලෙට': 'කාලෙ', 'සු': 'ස', 'කන්ව': 'කන්', 'ගැලවිලා': 'ගැලවි', 'ගානට': 'ගාන', 'ලැබෙනවානෙ': 'ලැබෙනවාන', 'උඹෙ': 'උඹ', 'එකක්වත්': 'එකක්වත', 'වලටත්': 'වලටත', 'ලාභයක්': 'ලාභයක', 'ලැබුණද': 'ලැබුණ', 'පියවරුන්ගේ': 'පියවරුන්', 'දිනයේ': 'දින', 'තාත්තේ': 'තාත්ත', 'අඩුව': 'අඩු', 'අනන්තයි': 'අනන්ත', 'කාලෙක': 'කාලෙ', 'ළගට': 'ළග', 'වරෙන්': 'වරෙන', 'තරහක්': 'තරහක', 'සැපට': 'සැප', 'උන්නේ': 'උ', 'මෙයලා': 'මෙය', 'අම්මෙකුට': 'අම්මෙ', 'තාත්තෙකුට': 'තාත්තෙ', 'නොවේවා': 'නොවේ', 'ජේසුගේ': 'ජේසු', 'තරම්ම': 'තරම්', 'පිරිහුනේ': 'පිරිහුන', 'යන්නද': 'යන්න', 'දෙමාපියන්ට': 'දෙමාපියන්', 'නොසලකන': 'නොසලක', 'දරුවන්ටත්': 'දරුවන්ටත', 'අත්වන්නේ': 'අත්ව', 'ඉරණම': 'ඉරණ', 'දඬුවමෙන්': 'දඬුවමෙන', 'සෑහීමකට': 'සෑහීම', 'පත්වෙනවා': 'පත්වෙ', 'බරපතල': 'බරපත', 'ඇතිව': 'ඇති', 'හිරෙ': 'හිර', 'නඩුවක්': 'නඩුවක', 'ඇතුව': 'ඇතු', 'වන්දියක්': 'වන්දියක', 'අච්චු': 'අච්ච', 'කෙටියෙන්': 'කෙටියෙන', 'කම්පනයට': 'කම්පනය', 'ස්වාමීන්වහන්සේට': 'ස්වාමීන්වහන්සේ', 'දඬුවම්': 'දඬුවම', 'දුන්නාට': 'දුන්නා', 'රජාණන්': 'රජාණන', 'චීවරයට': 'චීවරය', 'නිගරු': 'නිගර', 'ගැනයි': 'ගැන', 'ඉපදුනේ': 'ඉපදුන', 'සිංහලයෙක්': 'සිංහලයෙක', 'සිංහලයෙකුට': 'සිංහලයෙ', 'චීන': 'චී', 'හින්දී': 'හින්ද', 'භාෂාවන්': 'භාෂාවන', 'දක්ෂතාවය': 'දක්ෂතාව', 'අතීතයේ': 'අතීත', 'ජාලය': 'ජාල', 'පිදීමයි': 'පිදීම', 'මිහිඳු': 'මිහිඳ', 'මහරහතන්': 'මහරහතන', 'වැඩම': 'වැඩ', 'කිරීමත්': 'කිරීමත', 'බුදුපියාණන්ගේ': 'බුදුපියාණන්', 'එවකට': 'එව', 'රජතුමන්': 'රජතුමන', 'ගැනීමත්': 'ගැනීමත', 'මුතුන්මිත්තන්': 'මුතුන්මිත්තන', 'දර්ශනයට': 'දර්ශනය', 'යාගමිකයන්': 'යාගමිකයන', 'බෞද්ධයෙක්': 'බෞද්ධයෙක', 'බුදුපියාණන්': 'බුදුපියාණන', 'චිවරය': 'චිවර', 'ස්වාමින්': 'ස්වාමින', 'චීවරය': 'චීවර', 'දරා': 'දර', 'හැකිද': 'හැකි', 'කරුණක්': 'කරුණක', 'වන්නේය': 'වන්නේ', 'උන්වහන්සේ': 'උන්වහන්ස', 'පිළිබඳවයි': 'පිළිබඳව', 'බුදුරජාණන්': 'බුදුරජාණන', 'සහිතව': 'සහිත', 'දීමයි': 'දීම', 'රියාවෙන්': 'රියාවෙන', 'වනු': 'ව', 'බුදුරදුන්ගේ': 'බුදුරදුන්', 'තත්පරයෙන්': 'තත්පරයෙන', 'තත්පරයට': 'තත්පරය', 'ගෙවීමට': 'ගෙවීම', 'තරයේ': 'තර', 'කරමි': 'කර', 'උසාවියට': 'උසාවිය', 'අපරාධකාරයන්': 'අපරාධකාරයන', 'නායකයන්': 'නායකයන', 'අත්අඩංගුවට': 'අත්අඩංගුව', 'යහපාලන': 'යහපාල', 'උඩරට': 'උඩර', 'කැරැල්ලේදී': 'කැරැල්ලේද', 'එක්නැලිගොඩලා': 'එක්නැලිගොඩ', 'කෙරැවාව': 'කෙරැවා', 'දෙවියනේ': 'දෙවියන', 'නිහා': 'නිහ', 'තැනකට': 'තැන', 'හිමිනමක්': 'හිමිනමක', 'වූවත්': 'වූවත', 'වරදට': 'වරද', 'දඩුවමක්': 'දඩුවමක', 'ලැබිය': 'ලැබි', 'දඩුවම': 'දඩුව', 'ගෙඞක්ම': 'ගෙඞක්', 'කාලයකින්': 'කාලයකින', 'ලබල': 'ලබ', 'පවුබන්': 'පවුබන', 'අාගමට': 'අාගම', 'මොනවද': 'මොනව', 'ගියොත්': 'ගියොත', 'අනිවාර්යයෙන්ම': 'අනිවාර්යයෙන්', 'රැල්ලට': 'රැල්ල', 'මෙව්වට': 'මෙව්ව', 'වැටෙන්නේ': 'වැටෙ', 'අඩුවෙන්': 'අඩුවෙන', 'නිලියක්ගේ': 'නිලියක්', 'දැක්කත්': 'දැක්කත', 'පත්තරේ': 'පත්තර', 'ආටිකල්': 'ආටිකල', 'මුකුත්': 'මුකුත', 'බදිනවා': 'බදි', 'කාලෙටම': 'කාලෙ', 'සිතුවිලි': 'සිතුව', 'යුගදිවියක්': 'යුගදිවියක', 'මංගලම්': 'මංගලම', 'දේයක්': 'දේයක', 'අර්ථවත්ව': 'අර්ථවත්', 'ආදර්ශමත්': 'ආදර්ශමත', 'රියාවක්': 'රියාවක', 'ඉල්ලයි': 'ඉල්ල', 'හැබෑම': 'හැබෑ', 'නොදැකපු': 'නොදැක', 'කියන්නද': 'කියන්න', 'කොල්ලට': 'කොල්ල', 'ගියානම්': 'ගියානම', 'කෙලිනව': 'කෙලින', 'ඇඩුවනම්': 'ඇඩුවනම', 'හොයල': 'හොය', 'ඇත්තනම්': 'ඇත්තනම', 'අනිව': 'අනි', 'එතනම්': 'එතනම', 'වීරයො': 'වීරය', 'නාට්': 'නාට', 'ගැහුවට': 'ගැහුව', 'යන්ඩයි': 'යන්ඩ', 'ඔතනම': 'ඔතන', 'පොකට්': 'පොකට', 'තෙවරප්පෙරුම': 'තෙවරප්පෙරු', 'ඔතනට': 'ඔතන', 'මරුම': 'මරු', 'නිළියෝ': 'නිළි', 'පොලිසියෙන්': 'පොලිසියෙන', 'සමාජය': 'සමාජ', 'ගොඩනැගීමට': 'ගොඩනැගීම', 'වෙරදරන්නට': 'වෙරදරන්න', 'නියමයිනේ': 'නියමයින', 'මරුනු': 'මරු', 'ජිවිතයකට': 'ජිවිතය', 'අපගෙ': 'අප', 'විරුවන්': 'විරුවන', 'ඔහුන්ගෙ': 'ඔහුන්', 'දෙමාපියනට': 'දෙමාපියන', 'දිර්ගායු': 'දිර්ගාය', 'මුනුස්සකමට': 'මුනුස්සකම', 'කුලයක්': 'කුලයක', 'ආගමක්': 'ආගමක', 'පුලුවන්නමි': 'පුලුවන්න', 'හිතකටම': 'හිතක', 'නිලතලවලින්': 'නිලතලවලින', 'එතනයි': 'එතන', 'දෙමවිපියන්': 'දෙමවිපියන', 'හදවත්වල': 'හදවත්ව', 'රකිරැපය': 'රකිරැප', 'ඔබතුමාගෙන්': 'ඔබතුමාගෙන', 'ගුනධර්ම': 'ගුනධර්', 'තිබෙිනමි': 'තිබෙින', 'සිතකම': 'සිතක', 'සිතිවිලි': 'සිතිව', 'මෙිදේ': 'මෙිද', 'ඊළමට': 'ඊළම', 'සාමාජිකයන්': 'සාමාජිකයන', 'අන්න්තිමට': 'අන්න්තිම', 'නිළධාරීන්ට': 'නිළධාරීන්', 'ආදරේකරන්න': 'ආදරේකරන්', 'දෙවියො': 'දෙවිය', 'රස්තවාදියො': 'රස්තවාදිය', 'යක්කු': 'යක්', 'හදලාදෙන': 'හදලාදෙ', 'මතයි': 'මත', 'මනුස්සයින්ට': 'මනුස්සයින්', 'සලකනවනම්': 'සලකනවනම', 'දෙනවනම': 'දෙනවන', 'කතාවක්': 'කතාවක', 'සෙබලා': 'සෙබ', 'මුලින්ම': 'මුලින්', 'උතුරු': 'උතුර', 'කරයට': 'කරය', 'පාතැබුවානම්': 'පාතැබුවානම', 'කවදාවත්ම': 'කවදාවත්', 'මිනී': 'මින', 'වේලු': 'වේල', 'පිල්ලෙ': 'පිල්ල', 'පිරැභාහරන්': 'පිරැභාහරන', 'උත්තමන්යන්ට': 'උත්තමන්යන්', 'බධා': 'බධ', 'ඒතුමාගේ': 'ඒතුමා', 'අවලන්ගු': 'අවලන්ග', 'ඒතුමා': 'ඒතුම', 'අගයන්න': 'අගයන්', 'රීසියෙනුත්': 'රීසියෙනුත', 'එඩිට්': 'එඩිට', 'යන්තරයෙනුත්': 'යන්තරයෙනුත', 'අවස්ථාව': 'අවස්ථා', 'වෙනවනම්': 'වෙනවනම', 'යා': '', 'ලොකේට': 'ලොකේ', 'රටටත්': 'රටටත', 'රනවිරැවන්ටත්': 'රනවිරැවන්ටත', 'උතුමානනි': 'උතුමාන', 'ටම': '', 'මෙිහේයට': 'මෙිහේය', 'තුමාව': 'තුමා', 'මහත්මයකු': 'මහත්මය', 'මිහිපිට': 'මිහිපි', 'මේඅහින්සක': 'මේඅහින්ස', 'බඩවඩාගැනිවම්': 'බඩවඩාගැනිවම', 'දේසපාලන': 'දේසපාල', 'අරමුනු': 'අරමු', 'සදහා': 'සදහ', 'නොමගයවන්නඑපා': 'නොමගයවන්නඑප', 'ඔඋන්': 'ඔඋන', 'සුමගට': 'සුමග', 'ගැනිමට': 'ගැනිම', 'සෙන්පතියා': 'සෙන්පති', 'කැපකිකිරිමක්කරන්න': 'කැපකිකිරිමක්කරන්', 'ඔබතුමාට': 'ඔබතුමා', 'අනේකවාරයක්': 'අනේකවාරයක', 'සීයත්': 'සීයත', 'මෑන්': 'මෑන', 'සංවේදියි': 'සංවේදි', 'දසුනක්': 'දසුනක', 'දැකිමත්': 'දැකිමත', 'දැසට': 'දැස', 'අසහනකාරී': 'අසහනකාර', 'කටේ': 'කට', 'හෝන්': 'හෝන', 'වයසක': 'වයස', 'කිසිදාක': 'කිසිදා', 'නොවන': 'නොව', 'මහත්මා': 'මහත්ම', 'ධාරියෙක්': 'ධාරියෙක', 'දැකීමත්': 'දැකීමත', 'රනිල්ගෙ': 'රනිල්', 'වැරදිනම්': 'වැරදිනම', 'මානුසික': 'මානුසි', 'දුර්වල': 'දුර්ව', 'තේ': 'ත', 'ග්ලයිපොසෙට්': 'ග්ලයිපොසෙට', 'වාර්තාවක්': 'වාර්තාවක', 'කර්මාන්තයට': 'කර්මාන්තය', 'නවින්': 'නවින', 'අනෙ': 'අන', 'හුකාපන්': 'හුකාපන', 'ආගිය': 'ආගි', 'සියත්': 'සියත', 'හිනාවෙලාම': 'හිනාවෙලා', 'අදිනවා': 'අදි', 'ධර්මදීපය': 'ධර්මදීප', 'ඉපදෙන්න': 'ඉපදෙන්', 'ආත්මෙන්ම': 'ආත්මෙන්', 'අගමැතිතුමා': 'අගමැතිතුම', 'මහබැංකුවම': 'මහබැංකුව', 'එකද': 'එක', 'බැංකුව': 'බැංකු', 'තනතුරු': 'තනතුර', 'මාන්නෙන්': 'මාන්නෙන', 'රේමී': 'රේම', 'පුරවැසියෙක්ලු': 'පුරවැසියෙක්ල', 'ලංකාවේන්': 'ලංකාවේන', 'දෙනවද': 'දෙනව', 'සැබැවින්ම': 'සැබැවින්', 'දක්ෂයන්': 'දක්ෂයන', 'ඉක්මවා': 'ඉක්ම', 'රදර්ශනයක්': 'රදර්ශනයක', 'සිතේ': 'සිත', 'යත්': 'යත', 'පදක්කම්': 'පදක්කම', 'රාශියක්': 'රාශියක', 'මීටත්': 'මීටත', 'රීඩකයන්': 'රීඩකයන', 'දැක': 'දැ', 'උත්සව': 'උත්ස', 'වලදී': 'වලද', 'පලදින්නේ': 'පලදි', 'ඉහලම': 'ඉහල', 'ජයග්': 'ජයග', 'රහන': 'රහ', 'පිංතූරයේ': 'පිංතූර', 'දස්කමින්': 'දස්කමින', 'උපයා': 'උප', 'කිසිවෙක්ට': 'කිසිවෙක්', 'අයිතියක්': 'අයිතියක', 'කිවතොත්': 'කිවතොත', 'නොගැලපෙන': 'නොගැලපෙ', 'භාවයක්': 'භාවයක', 'පිංතූරය': 'පිංතූර', 'සැනෙන්': 'සැනෙන', 'සිතට': 'සිත', 'හාස්': 'හාස', 'යයෙන්': 'යයෙන', 'යුතුව': 'යුතු', 'සදහන්': 'සදහන', 'කෙසේ': 'කෙස', 'මිතුරියන්': 'මිතුරියන', 'අවිවාදයෙන්': 'අවිවාදයෙන', 'රදර්ශනකාමීත්වය': 'රදර්ශනකාමීත්ව', 'පෑමට': 'පෑම', 'මොවුන්ට': 'මොවුන්', 'කවුරුන්': 'කවුරුන', 'උපදෙස්': 'උපදෙස', 'දෙන්නට': 'දෙන්න', 'එසේ': 'එස', 'දෙවරක්': 'දෙවරක', 'නොගැලපීම': 'නොගැලපී', 'සිතුවා': 'සිතු', 'තිදෙනාට': 'තිදෙනා', 'අපහාසය': 'අපහාස', 'නොවන්නට': 'නොවන්න', 'තිබිනි': 'තිබි', 'සැනින්': 'සැනින', 'පෙරමුණට': 'පෙරමුණ', 'බට': 'බ', 'ලෙසය': 'ලෙස', 'නොවූවාට': 'නොවූවා', 'භාවයක්ද': 'භාවයක්', 'මදුරුවෝ': 'මදුරු', 'හුක': 'හු', 'ලන්කන්': 'ලන්කන', 'හොරාකාපු': 'හොරාකා', 'ම්ම්ම්': 'ම්ම්ම', 'කියන්නොනි': 'කියන්නො', 'පකී': 'ප', 'නිරෝශා': 'නිරෝශ', 'ඕකු': 'ඕ', 'හෙනම': 'හෙන', 'ජෙල': 'ජෙ', 'අමාට': 'අමා', 'මේන': 'මේ', 'බොලවු': 'බොලව', 'දබිලයට': 'දබිලය', 'වේලා': 'වේ', 'ඔකගේ': 'ඔ', 'ගලවන්න': 'ගලවන්', 'ඔනා': 'ඔ', 'වලක': 'වල', 'ඔබන්න': 'ඔබන්', 'උලතියන්න': 'උලතියන්', 'හුකන': 'හුක', 'සේවාවක්': 'සේවාවක', 'සේවා': 'සේ', 'මණ්ඩලේ': 'මණ්ඩල', 'ට්වීටර්': 'ට්වීටර', 'ලයින්': 'ලයින', 'අල්ලන්නෙ': 'අල්ල', 'දෑහැට': 'දෑහැ', 'නොපෙනි': 'නොපෙ', 'තාත්තී': 'තාත්ත', 'කටින්ම': 'කටින්', 'අගමැතිකම්': 'අගමැතිකම', 'පිම්පියන්ට': 'පිම්පියන්', 'විකිනෙන': 'විකිනෙ', 'ඇමරිකාව': 'ඇමරිකා', 'මේසන්': 'මේසන', 'බාස්ලා': 'බාස්', 'හදන': 'හද', 'රම්ප්නුයි': 'රම්ප්නු', 'ඉන්දියාවයිද': 'ඉන්දියාවයි', 'හාවෝ': 'හා', 'රැල': 'රැ', 'වෙලාව': 'වෙලා', 'හොයන්': 'හොයන', 'ආර්ථික': 'ආර්ථි', 'වාර්තා': 'වාර්ත', 'පෙන්නන්නෝන': 'පෙන්නන්නෝ', 'ට්වීට්': 'ට්වීට', 'කිසිවෙකු': 'කිසිවෙ', 'අපහසුවට': 'අපහසුව', 'කෙල්ලෙකුට': 'කෙල්ලෙ', 'නෙලනකොට': 'නෙලනකො', 'හිතෙන්නේම': 'හිතෙන්නේ', 'මේම': 'මේ', 'කියන්ඩම': 'කියන්ඩ', 'වෙනෝ': 'වෙන', 'මල්ලේහ්': 'මල්ලේහ', 'මලකින්': 'මලකින', 'පු': '', 'ගත්තද': 'ගත්ත', 'නටන්නෙ': 'නට', 'කුලේ': 'කුල', 'ගංගා': 'ගංග', 'මෑණියන්ගේම': 'මෑණියන්', 'ලංකාවේත්': 'ලංකාවේත', 'ගැබිනි': 'ගැබි', 'මවක්': 'මවක', 'බඩුවක්': 'බඩුවක', 'දකින්': 'දකින', 'හැත්තක්': 'හැත්තක', 'කටු': 'කට', 'වැලක්': 'වැලක', 'කොසු': 'කොස', 'මිටක': 'මිට', 'ඔතලා': 'ඔත', 'පිටිපස්සෙන්': 'පිටිපස්සෙන', 'ඇමිනෙන්න': 'ඇමිනෙන්', 'පක්කු': 'පක්', 'මගෙන්': 'මගෙන', 'ගන්නවට': 'ගන්නව', 'කෝච්චියට': 'කෝච්චිය', 'පැනලා': 'පැන', 'එකියක්': 'එකියක', 'නොහද': 'නොහ', 'කාලකන්ණිකම්': 'කාලකන්ණිකම', 'ට්විටර්': 'ට්විටර', 'බඩුව': 'බඩු', 'එක්කකම': 'එක්කක', 'කේක්': 'කේක', 'තේබොන්න': 'තේබොන්', 'රූමුත්': 'රූමුත', 'වල්': 'වල', 'අදාස්': 'අදාස', 'සාමය': 'සාම', 'ඇමතිකම': 'ඇමතික', 'රකින්නත්': 'රකින්නත', 'ගිනිගත්තා': 'ගිනිගත්ත', 'සුමානෙකට': 'සුමානෙ', 'හමාරකට': 'හමාර', 'සැරයක්': 'සැරයක', 'ඇමතිලා': 'ඇමති', 'සන්තෝසෙන්': 'සන්තෝසෙන', 'ඊයා': 'ඊ', 'සන්නස්ගලගෙ': 'සන්නස්ගල', 'අක්කෙ': 'අක්', 'සින්හල': 'සින්හ', 'පකයො': 'පකය', 'මිතුරො': 'මිතුර', 'වර්ගික': 'වර්ගි', 'ගැටුම්': 'ගැටුම', 'වැරදී': 'වැරද', 'කිව්වාට': 'කිව්වා', 'කොටින්නටනම්': 'කොටින්නටනම', 'තියනකම්': 'තියනකම', 'බැල්ලියෙක්': 'බැල්ලියෙක', 'පනිනවා': 'පනි', 'ඇහිල්ලක්': 'ඇහිල්ලක', 'බැලිල්ලක්': 'බැලිල්ලක', 'පොඩ්ඩෙන්': 'පොඩ්ඩෙන', 'බැල්ලිගේ': 'බැල්ලි', 'පරලොව': 'පරලො', 'කටක්': 'කටක', 'අරින්නේ': 'අරි', 'එන්වා': 'එන්', 'වහන්න': 'වහන්', 'හාව': 'හා', 'හරවල': 'හරව', 'උතුරට': 'උතුර', 'පාවිච්චියට': 'පාවිච්චිය', 'බල්ලන්': 'බල්ලන', 'නිදාගත්තම': 'නිදාගත්ත', 'නැගිටින්න': 'නැගිටින්', 'මැක්කෝ': 'මැක්ක', 'ඕකම': 'ඕක', 'මරපියව්': 'මරපියව', 'පොල්ලකින්': 'පොල්ලකින', 'ඇවිස්සිලා': 'ඇවිස්සි', 'ගහපියව්': 'ගහපියව', 'දේකින්': 'දේකින', 'ඇවිලෙන්නෙ': 'ඇවිලෙ', 'රභාකරන්ට': 'රභාකරන්', 'හොයන්නයි': 'හොයන්න', 'බයිලා': 'බයි', 'කියෙව්වත්': 'කියෙව්වත', 'දෙමලා': 'දෙම', 'මරපියව': 'මරපිය', 'වරෙව්': 'වරෙව', 'වලහෙක්': 'වලහෙක', 'වලහා': 'වලහ', 'කොටාපියව්': 'කොටාපියව', 'තියපියව්': 'තියපියව', 'සරණාගතයින්': 'සරණාගතයින', '31කින්': '31කින', 'සිවුරු': 'සිවුර', 'කාරයින්ගෙන්': 'කාරයින්ගෙන', 'ගේම': '', 'මොළෙන්': 'මොළෙන', 'බැරිනම්': 'බැරිනම', 'කරපියව්': 'කරපියව', 'කොටපියව්': 'කොටපියව', 'පශ්චාත්': 'පශ්චාත', 'විප්ලවකරැවනගේ': 'විප්ලවකරැවන', 'අඳෝනාව': 'අඳෝනා', 'මාව': 'මා', 'රෙද්ද': 'රෙද්', 'පන්සලට': 'පන්සල', 'පානාතිපාතා': 'පානාතිපාත', 'වේරමණී': 'වේරමණ', 'රැකෙයිද': 'රැකෙයි', 'වැරැද්දට': 'වැරැද්ද', 'කරන්නේ': 'කරන්නෙ', 'වෙන්නේ': 'වෙන්නෙ', 'කොහෙන්ද': 'කොහෙන්', 'නවත්තන්නේ': 'නවත්තන්නෙ', 'කොහොමද': 'කොහොම', 'ආවේ': 'ආ', 'බොලාලා': 'බොලා', 'අයහපත්': 'අයහපත', 'නොගහා': 'නොගහ', 'හැත්තත්': 'හැත්තත', 'හාල්මැස්සට': 'හාල්මැස්ස', 'ඕකුන්ව': 'ඕකුන්', 'මරණ්න': 'මරණ්', 'බලාන': 'බලා', 'උදවුවක්': 'උදවුවක', 'බෝ': 'බ', 'පැළය': 'පැළ', 'කපා': 'කප', 'දැමීමෙන්': 'දැමීමෙන', 'ලිස්ට්': 'ලිස්ට', 'බාගයක්ම': 'බාගයක්', 'දකුනෙ': 'දකුන', 'විහිලු': 'විහිල', 'අතරෙ': 'අතර', 'විහිලුවක්': 'විහිලුවක', 'නොද්න්න': 'නොද්න්', 'ඩයලුත්': 'ඩයලුත', 'ඉන්න්වා': 'ඉන්න්', 'නෙද්දකිම්': 'නෙද්දකිම', 'සුනාමියක්': 'සුනාමියක', 'සින්දුවට': 'සින්දුව', 'දකුණ': 'දක', 'එහෙම්': 'එහෙම', 'පිටිම්ම': 'පිටිම්', 'ලැට්': 'ලැට', 'වලක්': 'වලක', 'අප්පිරියයි': 'අප්පිරි', 'පලකො': 'පලක', 'කන්නෙ': 'ක', 'කලකිරුණු': 'කලකිරුණ', 'දැනෙමින්': 'දැනෙමින', 'කෙල': 'කෙ', 'සමනල': 'සමන', 'කැල': 'කැ', 'හේතුව': 'හේතු', 'සාපයක්': 'සාපයක', 'මහාරාජා': 'මහාරාජ', 'වහලා': 'වහ', 'ඔළු': 'ඔළ', 'මඟුල': 'මඟු', 'පුරවලා': 'පුරව', 'මහරාජා': 'මහරාජ', 'වන්නෙමු': 'ව', 'ටොයියන්ගෙ': 'ටොයියන්', 'මොළේ': 'මොළ', 'ඇළේ': 'ඇළ', 'නොසිතා': 'නොසිත', 'රනිලගෙ': 'රනිල', 'දුවනවට': 'දුවනව', 'රිලව්': 'රිලව', 'විරුවගෙන': 'විරුවගෙ', 'හිටපියව්': 'හිටපියව', 'ලේකම්ලා': 'ලේකම්', 'මලාට': 'මලා', 'වෙනස්ම': 'වෙනස්', 'උන්ටිකක්': 'උන්ටිකක', 'හදන්නෙ': 'හද', 'හරින්': 'හරින', 'උත්සහයකින්': 'උත්සහයකින', 'ආයාසයෙන්': 'ආයාසයෙන', 'නොගත්': 'නොගත', 'උපතින්': 'උපතින', 'ලැබුන': 'ලැබු', 'ලේබල්': 'ලේබල', 'තමාට': 'තමා', 'දිනාගත්': 'දිනාගත', 'පුස්සන්': 'පුස්සන', 'නිකමුන්': 'නිකමුන', 'කාලයට': 'කාලය', 'උදුරන්': 'උදුරන', 'ඉස්සරහම': 'ඉස්සරහ', 'අයිති': 'අයි', 'ඈත්': 'ඈත', 'නැතිකලා': 'නැතික', 'හැදියල්ලා': 'හැදිය', 'පරම්පරාවේ': 'පරම්පරා', 'ජරාගති': 'ජරාග', 'මිදියල්ලා': 'මිදිය', 'කොච්චියකට': 'කොච්චිය', 'නගින්න': 'නගින්', 'පොරකනවා': 'පොරක', 'බැංකුවට': 'බැංකුව', 'බෙහෙත්': 'බෙහෙත', 'පොලිම්': 'පොලිම', 'හැසිරෙන': 'හැසිරෙ', 'විබාගෙ': 'විබා', 'වෙනවට': 'වෙනව', 'පාරින්ම': 'පාරින්', 'ෆේල්': 'ෆේල', 'කොස්': 'කොස', 'ගොඩයන': 'ගොඩය', 'ජීවිතෙ': 'ජීවිත', 'වැරදුන': 'වැරදු', 'වෙලේ': 'වෙල', 'සමච්චලේට': 'සමච්චලේ', 'ලක්කරපු': 'ලක්කර', 'කරුමෙ': 'කරුම', 'පාරා': 'පාර', 'වලල්ලක්': 'වලල්ලක', 'ලාංකිකයෙකු': 'ලාංකිකයෙ', 'වෙමි': 'වෙ', 'මෑණියන්ගේ': 'මෑණියන්', 'දරුවෙකු': 'දරුවෙ', 'උද්දාමයෙන්': 'උද්දාමයෙන', 'සිටිමි': 'සිටි', 'පිරිස්': 'පිරිස', 'කිහිපයක්': 'කිහිපයක', 'ජිවන': 'ජිව', 'රටාවට': 'රටාව', 'වින': 'වි', 'පමණින්': 'පමණින', 'මාතෘභූමිය': 'මාතෘභූමි', 'නසාගත්තම': 'නසාගත්ත', 'පෝස්': 'පෝස', 'ටිකකගෙ': 'ටික', 'බැරුව': 'බැරු', 'ලමයින්ට': 'ලමයින්', 'නසාගන්න': 'නසාගන්', 'ලයික්ස්': 'ලයික්ස', 'හිගාකන': 'හිගාක', 'ඇඩ්මින්ල': 'ඇඩ්මින්', 'අල්ලල': 'අල්ල', 'දානකම්': 'දානකම', 'මෛත්': 'මෛත', 'දැමීමට': 'දැමීම', 'පෙරමුනට': 'පෙරමුන', 'මාගේ': 'මා', 'රනාමය': 'රනාම', 'තියටර්': 'තියටර', 'ඔපරේශන්': 'ඔපරේශන', 'ළමයෙක්ට': 'ළමයෙක්', 'සිහිය': 'සිහි', 'ඇහුවෙ': 'ඇහු', 'නර්ස්': 'නර්ස', 'අම්ම': 'අම්', 'විකුනලද': 'විකුනල', 'කරාපිටිය': 'කරාපිටි', 'දේශපාලුවො': 'දේශපාලුව', 'කතාකරද්දිත්': 'කතාකරද්දිත', 'යකා': 'ය', 'හැතිකරයක්': 'හැතිකරයක', 'අපිවත්': 'අපිවත', 'කවද්ද': 'කවද්', 'ඩිග්': 'ඩිග', 'එවුන්වත්': 'එවුන්වත', 'සෙනට්': 'සෙනට', 'ෆැකල්ටිය': 'ෆැකල්ටි', 'ඉංජිනේරුවන්': 'ඉංජිනේරුවන', 'ගණකාධිකාරීවරුන්': 'ගණකාධිකාරීවරුන', 'කළමණාකරුවන්': 'කළමණාකරුවන', 'යවරුන්': 'යවරුන', 'ලොව': 'ලො', 'සියලන්ගේ': 'සියලන්', 'ආදරයට': 'ආදරය', 'රවන්නන්': 'රවන්නන', 'දෙමවුපියන්ගේ': 'දෙමවුපියන්', 'සිත්': 'සිත', 'කරන්නන්': 'කරන්නන', 'ස්වෝත්සහයෙන්': 'ස්වෝත්සහයෙන', 'නැගීසිටින්නන්': 'නැගීසිටින්නන', 'රණවිරුවන්': 'රණවිරුවන', 'නිර්මාණකරුවන්': 'නිර්මාණකරුවන', 'ඇතිකරවන': 'ඇතිකරව', 'සුලු': 'සුල', 'අධම': 'අධ', 'වදින': 'වදි', 'අන්තරේ': 'අන්තර', 'බැහල': 'බැහ', 'රංජන්': 'රංජන', 'ගෝඨාභය': 'ගෝඨාභ', 'හැප්පෙන්න': 'හැප්පෙන්', 'පකේ': 'ප', 'ලොජික්': 'ලොජික', 'රවුමට': 'රවුම', 'වැදුනම': 'වැදුන', 'ස්ලිප්': 'ස්ලිප', 'ඒනම්': 'ඒනම', 'හතරැස්': 'හතරැස', 'තිබ්බනේ': 'තිබ්බන', 'අටමගල': 'අටමග', 'කැඩිල': 'කැඩි', 'ඔලුවට': 'ඔලුව', 'හුලන්': 'හුලන', 'වදින්න': 'වදින්', 'ඕනානම්': 'ඕනානම', 'ගලෝල': 'ගලෝ', 'හිටපන්': 'හිටපන', 'නවත්තගෙන': 'නවත්තගෙ', 'නෑවාම': 'නෑවා', 'කසන්නේ': 'කස', 'හුත්තෙග්ගේ': 'හුත්තෙග්', 'කහනවනම්': 'කහනවනම', 'පෙරේතයා': 'පෙරේත', 'ශැශේ': 'ශැශ', 'පැකට්': 'පැකට', '10යි': '10', 'ටහුකන': 'ටහුක', 'මේකන්ම්': 'මේකන්ම', 'ලබ්බක්': 'ලබ්බක', 'බොන්න': 'බොන්', 'එකෙම්ම': 'එකෙම්', 'පකයා': 'පක', 'කවුන්ටරෙන්': 'කවුන්ටරෙන', 'ලෝන්': 'ලෝන', 'විසිපහක්': 'විසිපහක', 'ඉල්ල': 'ඉල්', 'පුරුද්දට': 'පුරුද්ද', 'ඌටත්': 'ඌටත', 'පනහක්': 'පනහක', 'පනහම': 'පනහ', 'විසිපහකට': 'විසිපහ', 'වාරිකෙ': 'වාරි', 'තුන': 'තු', 'ඇරියස්': 'ඇරියස', 'දැනගත්තෙ': 'දැනගත්ත', 'හිතාන': 'හිතා', 'බුවා': 'බු', 'බුවාට': 'බුවා', 'පතන': 'පත', 'පක්ෂෙ': 'පක්ෂ', 'උන්නත්': 'උන්නත', 'මලත්': 'මලත', 'රුදාවක්': 'රුදාවක', 'තට්ටෙ': 'තට්ට', 'ගාගෙන': 'ගාගෙ', 'ෆුල්': 'ෆුල', 'ශේව්': 'ශේව', 'හද': 'හ', 'හිටපන්කො': 'හිටපන්ක', 'දෙකෙන්': 'දෙකෙන', 'උට්ටෙක්ට': 'උට්ටෙක්', 'පකයලටත්': 'පකයලටත', 'ජෝක්': 'ජෝක', 'පූසිගෙ': 'පූසි', 'වෙතාලා': 'වෙතා', 'දවල්': 'දවල', 'බාගෙන': 'බාගෙ', 'ඉවරවෙලා': 'ඉවරවෙ', 'මාසෙ': 'මාස', 'ඉවරවෙනකල්': 'ඉවරවෙනකල', 'ලිංගික': 'ලිංගි', 'අවයව': 'අවය', 'මුල්කරගෙන': 'මුල්කරගෙ', 'හටගන්න': 'හටගන්', 'සෑදීම': 'සෑදී', 'යෝනිය': 'යෝනි', 'ශිෂ්නය': 'ශිෂ්න', 'පක': 'ප', 'පයිය': 'පයි', 'නපුංසක': 'නපුංස', 'පොන්නයා': 'පොන්න', 'රාණවාචී': 'රාණවාච', 'කිරීමෙන්': 'කිරීමෙන', 'හුත්තා': 'හුත්ත', 'හුත්තීද': 'හුත්තී', 'හටගනී': 'හටගන', 'කිරීමෙ': 'කිරීම', 'කැරියා': 'කැරි', 'කුනුහරපය': 'කුනුහරප', 'ලිංගිකත්වය': 'ලිංගිකත්ව', 'ආශ්': 'ආශ', 'රැකියා': 'රැකි', 'මුල්කරගෙනද': 'මුල්කරගෙන', 'ගණිකාව': 'ගණිකා', 'වෛශ්': 'වෛශ', 'යාව': 'යා', 'දැක්වූ': 'දැක්ව', 'මූලික': 'මූලි', 'එක්වීමෙන්': 'එක්වීමෙන', 'නව': 'න', 'ජොන්ස්ටන්': 'ජොන්ස්ටන', 'කතානායකට': 'කතානාය', 'චූ': 'ච', 'ගියාලු': 'ගියාල', 'රසන්න': 'රසන්', 'හලනවා': 'හල', 'දම්': 'දම', 'රැජිණලා': 'රැජිණ', 'බස්සවලා': 'බස්සව', 'වුනාම': 'වුනා', 'එන්නත්': 'එන්නත', 'දූව': 'දූ', 'ඉල්ලුවම': 'ඉල්ලුව', 'කවුන්ටරෙ': 'කවුන්ටර', 'රුපියලක්': 'රුපියලක', 'ලෙටුවා': 'ලෙටු', 'පැයක්': 'පැයක', 'ඉන්නෝන': 'ඉන්නෝ', 'කරකාරෙට': 'කරකාරෙ', 'බැන්දා': 'බැන්ද', 'මෙයින්': 'මෙයින', 'මතූ': 'මත', 'හිකුවානම්': 'හිකුවානම', 'යුතූ': 'යුත', 'සෘශිවරු': 'සෘශිවර', 'පුස්කොල': 'පුස්කො', 'ලිව්වේ': 'ලිව්', 'කහනවට': 'කහනව', 'මෙහ්': 'මෙහ', 'අහන්ඩකො': 'අහන්ඩක', 'හැදිලා': 'හැදි', 'ෆක්': 'ෆක', 'යූ': 'ය', 'එකෙන්ද': 'එකෙන්', 'දූරියන්': 'දූරියන', 'පොනනයා': 'පොනන', 'හුකවගන්න': 'හුකවගන්', 'රෙන්න': 'රෙන්', 'ගල්කිස්සේ': 'ගල්කිස්ස', 'තට්ට': 'තට්', 'නාකියෙක්': 'නාකියෙක', 'තරහට': 'තරහ', 'පරයට': 'පරය', 'කැෂියර්': 'කැෂියර', 'කියෙව්වම': 'කියෙව්ව', 'පොරක්': 'පොරක', 'හිතයි': 'හිත', 'ඊය': 'ඊ', 'හුත්ටෝ': 'හුත්ට', 'මියුසිකල්': 'මියුසිකල', 'එනවුන්ස්': 'එනවුන්ස', 'අයි': 'අ', 'එන්': 'එන', 'පේන්නම': 'පේන්න', 'සින්දුව': 'සින්දු', 'එකාටත්': 'එකාටත', 'උගන්නවා': 'උගන්', 'සතරවරම්': 'සතරවරම', 'නාමයෙන්': 'නාමයෙන', 'වික්': 'වික', 'ගාල්ලේ': 'ගාල්ල', 'එක්සෑම්': 'එක්සෑම', 'බදිනව': 'බදින', 'වෙඩින්ග්': 'වෙඩින්ග', 'පැනය': 'පැන', 'සෙද්ද': 'සෙද්', 'පොලිසියටත්': 'පොලිසියටත', 'මිරිස්': 'මිරිස', 'වේසිගේ': 'වේසි', 'පුතාලා': 'පුතා', 'මහින්දත්': 'මහින්දත', 'රනිලුත්': 'රනිලුත', 'සිරිසේනත්': 'සිරිසේනත', 'එකෙක්වත්': 'එකෙක්වත', 'මකබෑවිලා': 'මකබෑවි', 'ගහපල්ලා': 'ගහ', 'පැතිවල': 'පැතිව', 'මැච්නම්': 'මැච්නම', 'මොකා': 'මො', 'බැන්දම': 'බැන්ද', 'බදින්න': 'බදින්', 'රෙන්නෙ': 'රෙ', 'දෙයියන්ගෙ': 'දෙයියන්', 'නම්බර්': 'නම්බර', 'ගෑවිල': 'ගෑවි', 'පහලටද': 'පහලට', 'කෙල්ලන්ට': 'කෙල්ලන්', 'දාන්': 'දාන', 'උබලාට': 'උබලා', 'උඹල': 'උඹ', 'උඹලගෙ': 'උඹල', 'කටවල්': 'කටවල', 'පුනීල': 'පුනී', 'පෙව්වෙ': 'පෙව්', 'රමුඛස්ථානය': 'රමුඛස්ථාන', 'දිහාටම': 'දිහා', 'ඔනානම්': 'ඔනානම', 'හත්මුතු': 'හත්මුත', 'පරම්පරාමව': 'පරම්පරාම', 'එබෙන': 'එබෙ', 'නොබෙල්': 'නොබෙල', 'සාම': 'සා', 'ගෑනිත්': 'ගෑනිත', 'රෝහින්': 'රෝහින', 'විනිසුරුකමක්වත්': 'විනිසුරුකමක්වත', 'අමා': 'අම', 'දිනුවා': 'දිනු', 'පලයවු': 'පලයව', 'නාලා': 'නා', 'නැතු': 'නැත', 'නාන්න': 'නාන්', 'බඩේ': 'බඩ', 'අමාරුකාරයො': 'අමාරුකාරය', 'ඒලෙවල්': 'ඒලෙවල', 'පුබ්ග්': 'පුබ්ග', 'මෙන්ෂන්': 'මෙන්ෂන', 'ගහමරාගන්නේ': 'ගහමරාග', 'සාමකාමීව': 'සාමකාමී', 'පස්න': 'පස්', 'විසදගන්න': 'විසදගන්', 'පාර්ලිමේන්තුවක්': 'පාර්ලිමේන්තුවක', 'මතයකින්': 'මතයකින', 'දෙකකින්': 'දෙකකින', 'දමල': 'දම', 'රිදෙන්න': 'රිදෙන්', 'ආන්න': 'ආන්', 'බුවාල': 'බුවා', 'ඇගිල්ල': 'ඇගිල්', 'කකුලම': 'කකුල', 'ඇකට': 'ඇ', 'රිපොට්': 'රිපොට', 'ලින්ක්': 'ලින්ක', 'කොම්න්ට්': 'කොම්න්ට', 'පෙන්නුවෙ': 'පෙන්නු', 'අකුලෝලම': 'අකුලෝල', 'උඹලගේ': 'උඹල', 'හොරාකාල': 'හොරාකා', 'දේශපාලුවන්ට': 'දේශපාලුවන්', 'බාරගන්න': 'බාරගන්', 'බොතල්': 'බොතල', 'තිලංගටයී': 'තිලංගටය', 'රිලාසිරිටයි': 'රිලාසිරිට', 'රතු': 'රත', 'බලන්නද': 'බලන්න', 'ඩේටා': 'ඩේට', 'එෆ්': 'එෆ', 'බී': 'බ', 'හඳට': 'හඳ', 'පිරිසිදුව': 'පිරිසිදු', 'මොකවත්': 'මොකවත', 'දැක්කමයි': 'දැක්කම', 'විහිලුව': 'විහිලු', 'වොල්': 'වොල', 'එකේම': 'එකේ', 'හදනවට': 'හදනව', 'ඇඩ්මින්වරුන්ට': 'ඇඩ්මින්වරුන්', 'වහිනකොට': 'වහිනකො', 'හීනියට': 'හීනිය', 'හුකැස්': 'හුකැස', 'කහන්නැනෙ': 'කහන්නැන', 'තොපෙ': 'තොප', 'හොරිද': 'හොරි', 'දියුණුවක්ද': 'දියුණුවක්', 'උට්ට': 'උට්', 'මෙහෙක්': 'මෙහෙක', 'ගැහුවත්': 'ගැහුවත', 'මල්කාන්ති': 'මල්කාන්', 'මේකප්': 'මේකප', 'ගියම': 'ගිය', 'පැනියා': 'පැනි', 'මඩුල්ල': 'මඩුල්', 'වෙනසේ': 'වෙනස', 'නියමුවාට': 'නියමුවා', 'හම්බන්තොට': 'හම්බන්තො', 'පාරෙත්': 'පාරෙත', 'පාසල්': 'පාසල', 'විකුනනව': 'විකුනන', 'පුපුරා': 'පුපුර', 'ඇගට': 'ඇග', 'ගසාකාපු': 'ගසාකා', 'ඇතුලට': 'ඇතුල', 'ගිහාම': 'ගිහා', 'නූගත්': 'නූගත', 'මහජනතාවක්': 'මහජනතාවක', 'රැදෙන්නේ': 'රැදෙ', 'බාරදිලා': 'බාරදි', 'හයිකරා': 'හයිකර', 'ටිකවත්තියේද': 'ටිකවත්තියේ', 'අඇගිලිවල': 'අඇගිලිව', 'අමාරුව': 'අමාරු', 'අඇරගන්න': 'අඇරගන්', 'කොනිත්තයි': 'කොනිත්ත', 'ලෝ': 'ල', 'මරාගනි': 'මරාග', 'රටකජු': 'රටකජ', 'පොතු': 'පොත', 'සිගරට්': 'සිගරට', 'කොටන්': 'කොටන', 'ඉතිරියයි': 'ඉතිරි', 'විනාසයක්': 'විනාසයක', 'මිසයි': 'මිස', 'පැවත්මක්': 'පැවත්මක', 'රේන්': 'රේන', 'තනතුරක්': 'තනතුරක', 'සම්පත්': 'සම්පත', 'අපතයින්ව': 'අපතයින්', 'මාසෙම': 'මාසෙ', 'ඉන්ස්පෙක්ෂන්': 'ඉන්ස්පෙක්ෂන', 'බලපුවාම': 'බලපුවා', 'පඩියෙන්': 'පඩියෙන', 'කපන්න': 'කපන්', 'ගෙනාවත්': 'ගෙනාවත', 'වනසයි': 'වනස', 'සතියේන්': 'සතියේන', 'කජු': 'කජ', 'හුණු': 'හුණ', 'ජරාවක්ම': 'ජරාවක්', 'ඉද': 'ඉ', 'අතාරින': 'අතාරි', 'අහිකුණ්ඨක': 'අහිකුණ්ඨ', 'ඉස්සල්ලාම': 'ඉස්සල්ලා', 'ටීවී': 'ටීව', 'ෂොට්': 'ෂොට', 'පෝට්': 'පෝට', 'කඩනවා': 'කඩ', 'ඉතිම්': 'ඉතිම', 'ඉරලා': 'ඉර', 'නසරානි': 'නසරා', 'කොළඹට': 'කොළඹ', 'විතරක්ද': 'විතරක්', 'හැමේ': 'හැ', 'තැනකටම': 'තැනක', 'හැදියාවක්': 'හැදියාවක', 'හුජ්ජත්': 'හුජ්ජත', 'බඩුත්': 'බඩුත', 'මිනිස්සුන්ගේ': 'මිනිස්සුන්', 'දිවුණු': 'දිවුණ', 'රටවල්': 'රටවල', 'පෑන්': 'පෑන', 'හාරල': 'හාර', 'බීපුවා': 'බීපු', 'වනසාවී': 'වනසාව', 'වැසියෝ': 'වැසි', 'ඒවුන්ට': 'ඒවුන්', 'මෙිවා': 'මෙි', 'හරියන්නේ': 'හරිය', 'සත්යෙන්': 'සත්යෙන', 'ලියයි': 'ලි', 'සිටිවල': 'සිටිව', 'උලයි': 'උල', 'පසුපෙල': 'පසුපෙ', 'ජොඩු': 'ජොඩ', 'කිම': 'කි', 'ආශාවන්': 'ආශාවන', 'සපුරාගෙන': 'සපුරාගෙ', 'ඹය': 'ඹ', 'ප්හ්දායි': 'ප්හ්දා', 'භාගයක්': 'භාගයක', 'මගියො': 'මගිය', 'ඕවගෙ': 'ඕව', 'පාඩු': 'පාඩ', 'කැඩුනම': 'කැඩුන', 'සරලයි': 'සරල', 'ගත්තොත්': 'ගත්තොත', 'මායක්': 'මායක', 'ආහු': 'ආ', 'බැලුවොත්': 'බැලුවොත', 'තිබිච්ච': 'තිබ', 'කලකිරිලද': 'කලකිරිල', 'සාදාරනයි': 'සාදාරන', 'නෙමෙ': 'නෙම', 'පුතාලගෙන්': 'පුතාලගෙන', 'යෑමක්': 'යෑමක', 'ඉන්දියාවෙ': 'ඉන්දියා', 'හැමනෙන්න': 'හැමනෙන්', 'හදනකොට': 'හදනකො', 'රටෙ': 'රට', 'එවනවා': 'එව', 'කරුමෙටවත්': 'කරුමෙටවත', 'හෙල': 'හෙ', 'දෙරනේ': 'දෙරන', 'ඉපදුනොත්': 'ඉපදුනොත', 'හුකලා': 'හුක', 'ධාවනයට': 'ධාවනය', 'අත්ඇරගනිල්ලා': 'අත්ඇරගනි', 'බිදලා': 'බිද', 'දමවී': 'දමව', 'මාසෙන්': 'මාසෙන', 'දාවී': 'දාව', 'තිු': 'ති', 'විල්': 'විල', 'ජොකා': 'ජො', 'ඉංදියාවෙන්': 'ඉංදියාවෙන', 'පෙන්නයි': 'පෙන්න', 'ගොත්': 'ගොත', 'රිකයන්ට': 'රිකයන්', 'පහසුකම්ද': 'පහසුකම්', 'තම්බින්ට': 'තම්බින්', 'දෙමලුන්ට': 'දෙමලුන්', 'කැලේ': 'කැල', 'භාෂාව': 'භාෂා', 'උගන්වන්නෙ': 'උගන්ව', 'අරුත්': 'අරුත', 'ගායනා': 'ගාය', 'කරවල': 'කරව', 'ජනතාවගෙ': 'ජනතාව', 'හිතතුල': 'හිතතු', 'ආශාව': 'ආශා', 'මුඛයට': 'මුඛය', 'යවන': 'යව', 'විකුනගෙන': 'විකුනගෙ', 'වසලයො': 'වසලය', 'මේවට': 'මේව', 'සාදු': 'සාද', 'කියනවනෙ': 'කියනවන', 'ගථා': 'ගථ', 'ඵාට': 'ඵා', 'කියලදුනේ': 'කියලදුන', 'කියව': 'කිය', 'පිලිපදින්න': 'පිලිපදින්', 'නිබ්බාන': 'නිබ්බා', 'ගමී': 'ගම', 'රිංගුවම': 'රිංගුව', 'බණට': 'බණ', 'රැවටුන': 'රැවටු', 'බනට': 'බන', 'පැනියාගෙන්': 'පැනියාගෙන', 'උපුටා': 'උපුට', 'ගැනීමකි': 'ගැනීම', 'උඹද': 'උඹ', 'වරත්තු': 'වරත්ත', 'ෆේක්': 'ෆේක', 'විකුණන': 'විකුණ', 'වේසකමේ': 'වේසක', 'මිනිමැරුම්': 'මිනිමැරුම', 'කෙලවෙන්නෙ': 'කෙලවෙ', 'රතිඤ්ඤා': 'රතිඤ්ඤ', 'කිරිබත්': 'කිරිබත', 'පොරව': 'පොර', 'අපටත්': 'අපටත', 'රජෙක්': 'රජෙක', 'පහලව': 'පහල', 'ඇතේ': 'ඇත', 'පොරටත්': 'පොරටත', 'ඌෂ්ණෙ': 'ඌෂ්ණ', 'තාත්තගෙන්': 'තාත්තගෙන', 'පුතාට': 'පුතා', 'රජකම': 'රජක', 'කඩියො': 'කඩිය', 'දඟලනවා': 'දඟල', 'මැද්දෙන්': 'මැද්දෙන', 'හිතුනා': 'හිතු', 'දෙයක්ගැන': 'දෙයක්ගැ', 'අබලින්': 'අබලින', 'වෙන්නයනවා': 'වෙන්නය', 'ගොතන': 'ගොත', 'හාත්පසින්ම': 'හාත්පසින්', 'කුණුහරුපයක්': 'කුණුහරුපයක', 'රාවේ': 'රා', 'යවනවා': 'යව', 'හයිවේ': 'හයි', 'රන්ස්': 'රන්ස', 'ලේන්': 'ලේන', 'සීරියස්': 'සීරියස', 'කිව්වම': 'කිව්ව', 'අන්ෆොලෝ': 'අන්ෆොල', 'බ්ලොක්': 'බ්ලොක', 'දැම්මම': 'දැම්ම', 'වලියෙන්': 'වලියෙන', 'නෑලූ': 'නෑල', 'රැඩිකල්': 'රැඩිකල', 'අවුල්': 'අවුල', 'හමුවේ': 'හමු', 'ජීවීතය': 'ජීවීත', 'පැරදුන': 'පැරදු', 'බොහෝය': 'බොහෝ', 'දිනූ': 'දින', 'කරන්නට': 'කරන්න', 'නැට්ටට': 'නැට්ට', 'එරෙන්නෙවත්': 'එරෙන්නෙවත', 'අයියලා': 'අයිය', 'සේනාරත්නට': 'සේනාරත්න', 'රාමීය': 'රාමී', 'රදේශවලට': 'රදේශවල', 'ඕනෙමයිලු': 'ඕනෙමයිල', 'පයින්': 'පයින', 'පලයංකෝ': 'පලයංක', 'නවත්තල': 'නවත්ත', 'ගන්නනම්': 'ගන්නනම', 'බඩගාගෙන': 'බඩගාගෙ', 'රෙද්දවල්': 'රෙද්දවල', 'හොයන්නේ': 'හොය', 'දේයකට': 'දේය', 'කැපවිමේන්': 'කැපවිමේන', 'හිටියොත්': 'හිටියොත', 'කොවිල්': 'කොවිල', 'චන්ද්': 'චන්ද', 'රග්': 'රග', 'රහණයක්': 'රහණයක', 'බන්ඩාරනායක': 'බන්ඩාරනාය', 'නෝනට': 'නෝන', 'ටෞකන': 'ටෞක', 'වලව්': 'වලව', 'කරන්ට්': 'කරන්ට', 'කොන්': 'කොන', 'වීමෙන්': 'වීමෙන', 'තොරයි': 'තොර', 'පැරදෙන': 'පැරදෙ', 'තොපිලට': 'තොපිල', 'නද්දකින්': 'නද්දකින', 'යියෙන්': 'යියෙන', 'ටුවිටරේටත්': 'ටුවිටරේටත', 'අක්කලා': 'අක්ක', 'නංගලා': 'නංග', 'මොලෙන්': 'මොලෙන', 'කොඩියකුත්': 'කොඩියකුත', 'ආන්ඩුවකුත්': 'ආන්ඩුවකුත', 'සංහිඳියාවයි': 'සංහිඳියාව', 'පොශ්': 'පොශ', 'ටෝකුයි': 'ටෝකු', 'උස්සගෙන': 'උස්සගෙ', 'පලාත්': 'පලාත', 'අධ්': 'අධ', 'යාපන': 'යාප', 'ඔසවන්න': 'ඔසවන්', 'රින්සිපල්': 'රින්සිපල', 'ලව්වා': 'ලව්', 'කරවලා': 'කරව', 'බාදාවක්': 'බාදාවක', 'වෙලකට': 'වෙල', 'එල්ලේ': 'එල්ල', 'අතක්වත්': 'අතක්වත', 'රීඩාවක': 'රීඩාව', 'ස්වභාවය': 'ස්වභාව', 'අදුරන්නැති': 'අදුරන්නැ', 'ෆේස්බුක්': 'ෆේස්බුක', 'රින්ගලා': 'රින්ග', 'එපාවෙලා': 'එපාවෙ', 'අකවුන්ට්': 'අකවුන්ට', 'බලද්දී': 'බල', 'හිටියට': 'හිටිය', 'පකිස්ලන්තයෙන්': 'පකිස්ලන්තයෙන', 'දගලන': 'දගල', 'කොන': 'කො', 'ඇමැති': 'ඇමැ', 'වරෙව්කො': 'වරෙව්ක', 'හු': '', '1කේ': '1', 'සුද්දොන්ට': 'සුද්දොන්', 'ඇරගත්තු': 'ඇරගත්ත', 'ඇමරිකාවටම': 'ඇමරිකාව', 'උපාධිය': 'උපාධි', 'ලොන්තපෝල්': 'ලොන්තපෝල', '200ක්': '200ක', 'පුකවල්': 'පුකවල', 'අතුල්ල': 'අතුල්', 'ගන්නවනේ': 'ගන්නවන', 'ට්විටරෙට': 'ට්විටරෙ', 'ආවම': 'ආව', 'ලොල්': 'ලොල', 'අන්තවාදී': 'අන්තවාද', 'පියානන්': 'පියානන', 'දෙසනා': 'දෙස', 'නිර්මල්': 'නිර්මල', 'සැමදා': 'සැමද', 'පවතී': 'පවත', 'වා': '', 'ගාථා': 'ගාථ', 'පන්සල': 'පන්ස', 'රුව': 'රු', 'බුදුන්ගෙ': 'බුදුන්', 'අගිලි': 'අග', 'අස්': 'අස', 'කාන්තාවන්ගේ': 'කාන්තාවන්', 'සමෙ': 'සම', 'මෙවාට': 'මෙවා', 'ලෙ': 'ල', 'පිලිකා': 'පිලි', 'හෙදිලා': 'හෙදි', 'පවුලම': 'පවුල', 'වෙනසෙවා': 'වෙනසෙ', 'මොහොතේ': 'මොහොත', 'විදවලා': 'විදව', 'පනුවොගසත්වා': 'පනුවොගස', 'මාලිගා': 'මාලිග', 'කලාවක්': 'කලාවක', 'ලෙඩ්ඩුන්': 'ලෙඩ්ඩුන', 'සින්ගප්පුරුවෙ': 'සින්ගප්පුරු', 'ජර්මන්': 'ජර්මන', 'අමෙරිකා': 'අමෙරි', 'ලෙජ්ජය්': 'ලෙජ්ජය', 'ඉස්කොල': 'ඉස්කො', 'නුගතහෙ': 'නුගතහ', 'රත්නය': 'රත්න', 'රද්ධාවයි': 'රද්ධාව', 'පදයක': 'පදය', 'භාවිතයට': 'භාවිතය', 'සම්මා': 'සම්ම', 'සම්බුදු': 'සම්බුද', 'මුවින්': 'මුවින', 'වදාල': 'වදා', 'සද්ධර්මය': 'සද්ධර්ම', 'මෙනෙහි': 'මෙනෙ', 'කරමින්': 'කරමින', 'රවණය': 'රවණ', 'පිවිතුරු': 'පිවිතුර', 'හදවත්ය': 'හදවත්', 'මනසෙහි': 'මනසෙ', 'මවා': 'ම', 'ගුණයෙන්': 'ගුණයෙන', 'පුරවා': 'පුර', 'කරන්නෙකුට': 'කරන්නෙ', 'විකෘතියට': 'විකෘතිය', 'නොපෙනෙනු': 'නොපෙනෙ', 'රැස්': 'රැස', 'පින': 'පි', 'පමණකි': 'පමණ', 'වුව': 'වු', 'පවක්': 'පවක', 'ගැනීමද': 'ගැනීම', 'නිවනට': 'නිවන', 'සියල්ලෝ': 'සියල්ල', 'දකීවා': 'දකී', 'සත්වයෝ': 'සත්ව', 'නිදුක්': 'නිදුක', 'වෙත්වා': 'වෙ', 'නිරෝගී': 'නිරෝග', 'දකිත්වා': 'දකි', 'හම්බකරනවා': 'හම්බකර', 'අහද්දී': 'අහ', 'සැහැල්ලුවක්': 'සැහැල්ලුවක', 'අදහන්නේ': 'අදහ', 'හරවගෙන': 'හරවගෙ', 'බැදල': 'බැද', 'බලන්ඩම': 'බලන්ඩ', 'පො': 'ප', 'රුවෙනුත්': 'රුවෙනුත', 'බැදලා': 'බැද', 'පල්ලියෙනුත්': 'පල්ලියෙනුත', 'පන්සලුත්': 'පන්සලුත', 'පල්ලිත්': 'පල්ලිත', 'පහනත්': 'පහනත', 'ජේසුට': 'ජේසු', 'තෙල්': 'තෙල', 'ඔරසම්': 'ඔරසම', 'එයාලාගෙ': 'එයාලා', 'කැමැත්තට': 'කැමැත්ත', 'තීද': 'තී', 'ඇඳුමෙන්': 'ඇඳුමෙන', 'කෑමෙන්': 'කෑමෙන', 'බීමෙන්': 'බීමෙන', 'පිළිපදින': 'පිළිපදි', 'නීතියෙන්': 'නීතියෙන', 'මොකෝ': 'මොක', 'අඳින්': 'අඳින', 'රෙද්දෙ': 'රෙද්ද', 'බෙදන': 'බෙද', 'ඒවානන්': 'ඒවානන', 'ගොන්පාට්': 'ගොන්පාට', 'මැතිව්ස්': 'මැතිව්ස', 'ආගමේ': 'ආග', 'රටක්නේ': 'රටක්න', 'ආනොල්ඩ්': 'ආනොල්ඩ', 'හිවලා': 'හිව', 'සනත්': 'සනත', 'මැතිතුමාට': 'මැතිතුමා', 'ගොඩයා': 'ගොඩ', 'සිංහලෙනුත්': 'සිංහලෙනුත', 'කියනවනේ': 'කියනවන', 'හරකුත්': 'හරකුත', 'ශාන්තියක්': 'ශාන්තියක', 'හිගන්නෝ': 'හිග', 'අමිත්': 'අමිත', 'තම්බියෝ': 'තම්බි', 'තහුජීත්': 'තහුජීත', 'අනත්වාදීත්': 'අනත්වාදීත', 'දිගනේ': 'දිගන', 'අන්තවාදය': 'අන්තවාද', 'පතුරන': 'පතුර', 'ලො': 'ල', 'ල්ාලක්ගේ': 'ල්ාලක්', 'උඩද': 'උඩ', 'නරියා': 'නරි', 'අපතයන්ට': 'අපතයන්', 'පුකේ': 'පු', 'ඉත්තෑවෝ': 'ඉත්තෑ', 'දුවන්නේ': 'දුව', 'කන්තලේ': 'කන්තල', 'රදේශයේ': 'රදේශ', 'වැවකට': 'වැව', 'ලතීෆ්': 'ලතීෆ', 'වැව': 'වැ', 'තබයි': 'තබ', 'කවදද': 'කවද', 'බොලව්': 'බොලව', 'වැව්': 'වැව', 'මාවිල්ලාරු': 'මාවිල්ලාර', 'සොරොව්ව': 'සොරොව්', 'කෙලව': 'කෙල', 'තෙල්දෙණිය': 'තෙල්දෙණි', 'සිංහලයෙක්ට': 'සිංහලයෙක්', 'තහණම්': 'තහණම', 'යූන්පී': 'යූන්ප', 'සි0හල': 'සි0හ', 'හිරේදාපන්': 'හිරේදාපන', 'බලපල්ලකෝ': 'බලපල්ලක', 'ඔවා': 'ඔ', 'හීන': 'හී', 'මැරුවො': 'මැරුව', 'රිමෙම්බර්': 'රිමෙම්බර', 'දිස්': 'දිස', 'බුල්ෂිට්': 'බුල්ෂිට', 'බ්ලැඩී': 'බ්ලැඩ', 'බෝයිස්ස්': 'බෝයිස්ස', 'සිංහයෝ': 'සිංහ', 'දන': 'ද', 'යහපාලනය': 'යහපාලන', 'මිනිහාට': 'මිනිහා', 'දුන්නානේ': 'දුන්නාන', 'පැන': 'පැ', 'ඕකටනේ': 'ඕකටන', 'ඌරු': 'ඌර', 'කොටුවක්': 'කොටුවක', 'දාගනින්': 'දාගනින', 'කටයි': 'කට', 'පුකයි': 'පුක', 'වහන්': 'වහන', 'තම්බියෙක්ගෙ': 'තම්බියෙක්', 'වලියට': 'වලිය', 'සින්හලයෙක්ගෙ': 'සින්හලයෙක්', 'සපොර්ට්': 'සපොර්ට', 'සහජීවනය': 'සහජීවන', 'මහත්තයො': 'මහත්තය', 'කරැමයක්': 'කරැමයක', 'වේයවු': 'වේයව', 'සැරට': 'සැර', 'වදන්': 'වදන', 'පල්ලිය': 'පල්ලි', 'රිඩාංගනයට': 'රිඩාංගනය', 'ගල්වලින්': 'ගල්වලින', 'රිෂාඩ්': 'රිෂාඩ', 'බදූදීන්': 'බදූදීන', 'අසාද්': 'අසාද', 'සාලී': 'සාල', 'පාලකයා': 'පාලක', 'ආපූ': 'ආප', 'හතු': 'හත', 'පිපෙනවා': 'පිපෙ', 'පේන්': 'පේන', 'ජරාම': 'ජරා', 'කටුස්සෙකු': 'කටුස්සෙ', 'දෙන්': 'දෙන', 'හිතකින්ද': 'හිතකින්', 'දවසට': 'දවස', 'වදිනවලු': 'වදිනවල', 'හෙලුවට': 'හෙලුව', 'බලසේනාදිපති': 'බලසේනාදිප', 'ඟානසාරයෝ': 'ඟානසාර', 'පැකර්': 'පැකර', 'කැසිනෝ': 'කැසින', 'ඇගිල්ලෙන්': 'ඇගිල්ලෙන', 'ඇන්නත්': 'ඇන්නත', 'නොදකී': 'නොද', 'හලාල්': 'හලාල', 'පිටුපසම': 'පිටුපස', 'එලෝති': 'එලෝ', 'පටන්ගෙන': 'පටන්ගෙ', 'රජවෙන්න': 'රජවෙන්', 'මිනීමරු': 'මිනීමර', 'හීනයක්ම': 'හීනයක්', 'සිංහලයට': 'සිංහලය', 'කෙලින්න': 'කෙලින්', 'උබලාගේම': 'උබලා', 'අරාභියට': 'අරාභිය', 'මරන්නේ': 'මර', 'බලබල': 'බලබ', 'පොඩු': 'පොඩ', 'තුරුල්': 'තුරුල', 'බුදියගනින්': 'බුදියගනින', 'තුන්කාලා': 'තුන්', 'හැටිනේ': 'හැටින', 'යහපාලනයේ': 'යහපාලන', 'පෝලිමේ': 'පෝලි', 'ගෙවපල්ලා': 'ගෙව', 'ආණ්ඩුවටම': 'ආණ්ඩුව', 'හත්පොළේ': 'හත්පොළ', 'කබීර්': 'කබීර', 'හෂීම්': 'හෂීම', 'තිරප්පනේටත්': 'තිරප්පනේටත', 'කේලියා': 'කේලි', 'එවුනුත්': 'එවුනුත', 'බද්යුදීන්': 'බද්යුදීන', 'අල්ලගේ': 'අල්ල', 'හෙලුවැල්ලයි': 'හෙලුවැල්ල', 'රදර්ශනය': 'රදර්ශන', 'සිහල': 'සිහ', 'උරුමය': 'උරුම', 'අපේක්ෂකයන්': 'අපේක්ෂකයන', 'පිටුවට': 'පිටුව', 'බලුමූනු': 'බලුමූ', 'අමිත්ගේ': 'අමිත්', 'තව්හිද්': 'තව්හිද', 'ජමා': 'ජම', 'අන්තවාදීන්': 'අන්තවාදීන', 'සෝවාන්': 'සෝවාන', 'හරිමගට': 'හරිමග', 'හුකේ': 'හු', 'එකේක': 'එකේ', 'අවුස්සල': 'අවුස්ස', 'කොල්ලන්ගෙන්': 'කොල්ලන්ගෙන', 'හිඟාකනෝ': 'හිඟාකන', 'ගසාකනෝ': 'ගසාකන', 'තොපිද්': 'තොපිද', 'දැනුවත්ව': 'දැනුවත්', 'ගස්නරින්ට': 'ගස්නරින්', 'හුකන්නෝ': 'හුක', 'දහමි': 'දහ', 'කතිකාවතක්': 'කතිකාවතක', 'අැතිව්නේ': 'අැතිව්නෙ', 'කලකට': 'කල', 'පස්සේ': 'පස්සෙ', 'දහමෙින්': 'දහමෙින', 'කරාම': 'කරා', 'නඩෙිට': 'නඩෙි', 'වාසියිනේ': 'වාසියිනෙ', 'බත්': 'බත', 'දේන්නේ': 'දේන්නෙ', 'උන්ගෙත්': 'උන්ගෙත', 'ගොබ්බකම': 'ගොබ්බක', 'සම්මානෙ': 'සම්මාන', 'ගත්තනම්': 'ගත්තනම', 'උදුමමා': 'උදුමම', 'දේශපාලනඥයන්': 'දේශපාලනඥයන', 'ජන්දෙන්': 'ජන්දෙන', 'එපැයි': 'එපැ', 'කාරනාව': 'කාරනා', 'ගොබ්බයන්': 'ගොබ්බයන', 'සමාජයෙන්ම': 'සමාජයෙන්', 'යෞවන': 'යෞව', 'උළෙල': 'උළෙ', 'මෙවුන්': 'මෙවුන', 'මොවුන්ගේ': 'මොවුන්', 'දැක්වීමට': 'දැක්වීම', 'කලාකරුවකු': 'කලාකරුව', 'බූරු': 'බූර', 'දේශපාලඥයන්': 'දේශපාලඥයන', 'ගෝත්': 'ගෝත', 'රික': 'රි', 'නිවටයො': 'නිවටය', 'වර්ගෙ': 'වර්', 'වැඩේට': 'වැඩේ', 'පකයෙක්': 'පකයෙක', 'ආරාදනා': 'ආරාද', 'නලුව': 'නලු', 'මොකෙන්': 'මොකෙන', 'එකෙක්ද': 'එකෙක්', 'රාහී': 'රාහ', 'වැඩක්නෙ': 'වැඩක්න', 'පී': 'ප', 'ඔව්න්': 'ඔව්න', 'පුකත්': 'පුකත', 'ලෙවකාල': 'ලෙවකා', 'නලුකම': 'නලුක', 'රියන්නල': 'රියන්න', 'ආදර්ශයට': 'ආදර්ශය', 'ගනියව්': 'ගනියව', 'නිහතමානීකම්': 'නිහතමානීකම', 'වෙයව්': 'වෙයව', 'මතේ': 'මත', 'දක්ෂතාවයටයි': 'දක්ෂතාවයට', 'ලැබෙන්නේ': 'ලැබෙ', 'මොකාද': 'මොකා', 'නිහතමානීකම': 'නිහතමානීක', 'නෙදකිංවත්': 'නෙදකිංවත', 'නූගත්කම': 'නූගත්ක', 'ගොන්කම': 'ගොන්ක', 'වගේයි': 'වගේ', 'ශෝ': 'ශ', 'දුන්නෙ': 'දු', 'දේශපාලුන්ගෙ': 'දේශපාලුන්', 'අල්ලසක්': 'අල්ලසක', 'පොරවල්': 'පොරවල', 'සම්මානෙකට': 'සම්මානෙ', 'නුසුදුසු': 'නුසුදුස', 'හාල්පාරු': 'හාල්පාර', 'ලාබාදීම': 'ලාබාදී', 'සංවිධායකයන්': 'සංවිධායකයන', 'කලාකරුවෙක්ගේ': 'කලාකරුවෙක්', 'සංවිධායකයන්ට': 'සංවිධායකයන්', 'පිලිතුරක්': 'පිලිතුරක', 'කම්': 'කම', 'අයව': 'අය', 'ගොඩයි': 'ගොඩ', 'වහල්': 'වහල', 'ගතිවලින්': 'ගතිවලින', 'මිදෙන්න': 'මිදෙන්', 'හැමවෙලාවෙම': 'හැමවෙලාවෙ', 'පුන්නක්කු': 'පුන්නක්', 'කිරිටික': 'කිරිටි', 'දොවාගන්නවා': 'දොවාගන්', 'හතරවටේටම': 'හතරවටේ', 'පුකදීල': 'පුකදී', 'යන්තම්': 'යන්තම', 'ඔතෙන්ට': 'ඔතෙන්', 'ඔළුව': 'ඔළු', 'දාගත්තම': 'දාගත්ත', 'සූරයො': 'සූරය', 'බලපල්ල': 'බලපල්', 'රවීන්ද්': 'රවීන්ද', 'රන්දෙනිය': 'රන්දෙනි', 'මාලනී': 'මාලන', 'පොන්සේක': 'පොන්සේ', 'ජැක්ෂන්': 'ජැක්ෂන', 'ඇන්තනි': 'ඇන්ත', 'පන්ඩිත්': 'පන්ඩිත', 'අමරදේවයන්': 'අමරදේවයන', 'කරැවන්': 'කරැවන', 'මොනනායකයන්': 'මොනනායකයන', 'උවත්': 'උවත', 'සිනාමුහුනින්': 'සිනාමුහුනින', 'අරගත්': 'අරගත', 'මේමොන': 'මේමො', 'හාල්පාරුවොද': 'හාල්පාරුවො', 'අපේඋන්ව': 'අපේඋන්', 'කොටවන්න': 'කොටවන්', 'හම්බයො': 'හම්බය', 'කීදෙනෙක්': 'කීදෙනෙක', 'පොන්න': 'පොන්', 'පුනදෙනවද': 'පුනදෙනව', 'හිතපල්ල': 'හිතපල්', 'මොකාගෙ': 'මොකා', 'කොටවල': 'කොටව', 'ඉටුකරගන්නයි': 'ඉටුකරගන්න', 'රනිල්ගෙම': 'රනිල්', 'මීහරකුත්': 'මීහරකුත', 'කෙලවන්න': 'කෙලවන්', 'උන්ටම': 'උන්', 'දන්නෙම': 'දන්නෙ', 'ජාතියටම': 'ජාතිය', 'ඇරගන්නව': 'ඇරගන්න', 'මේතරම්': 'මේතරම', 'යම': 'ය', 'ගේන්න': 'ගේන්', 'දඟලන්නෙ': 'දඟල', 'පකයිනෙ': 'පකයින', 'දෙගොල්ලම': 'දෙගොල්ල', 'ඌරගෙ': 'ඌර', 'ඇඟේමතියල': 'ඇඟේමතිය', 'කපනඑකයි': 'කපනඑක', 'මහින්දව': 'මහින්ද', 'ඇතිකරගෙන': 'ඇතිකරගෙ', 'ගිවිසුම්ටික': 'ගිවිසුම්ටි', 'කරගන්නකම්': 'කරගන්නකම', 'උඩින්ම': 'උඩින්', 'ඊටපස්සෙ': 'ඊටපස්ස', 'කෙරුවාවල්ටික': 'කෙරුවාවල්ටි', 'බලපියව්': 'බලපියව', 'ඉඳගෙන': 'ඉඳගෙ', 'ගරහන්නෙ': 'ගරහ', 'සක්කිලිත්': 'සක්කිලිත', 'මෙහෙමනම්': 'මෙහෙමනම', 'අයිතිවාසිකම්': 'අයිතිවාසිකම', 'බලතල': 'බලත', 'ලැබුනදාට': 'ලැබුනදා', 'පොන්නයන්ටත්': 'පොන්නයන්ටත', 'බෙදන්නෙ': 'බෙද', 'හැන්දෙන්බව': 'හැන්දෙන්බ', 'මතකතියා': 'මතකති', 'පක්ෂයක්': 'පක්ෂයක', 'ඌතරම්වත්': 'ඌතරම්වත', 'අපිගැන': 'අපිගැ', 'නැතිනිසයි': 'නැතිනිස', 'උත්තමයෙක්': 'උත්තමයෙක', 'ගන්ට': 'ගන්', 'මහත්තයාගේත්': 'මහත්තයාගේත', 'හොදටෝම': 'හොදටෝ', 'පෑරෙන්ට': 'පෑරෙන්', 'ඉහලට': 'ඉහල', 'හදවතයි': 'හදවත', 'දේශපාලකයො': 'දේශපාලකය', 'මිසුන්': 'මිසුන', 'කමටයි': 'කමට', 'ඕය': 'ඕ', 'මනුෂීය': 'මනුෂී', 'නලුවොද': 'නලුවො', 'මහත්තයගෙ': 'මහත්තය', 'නලුවෙක්': 'නලුවෙක', 'පගරනැට්ටට': 'පගරනැට්ට', 'ගොන්නුන්ගෙන්': 'ගොන්නුන්ගෙන', 'සමිමාන': 'සමිමා', 'නොගෙන': 'නොගෙ', 'කලාකරුවකුගේ': 'කලාකරුව', 'ඉල්ලාලබාගැනිමට': 'ඉල්ලාලබාගැනිම', 'පුණාමය': 'පුණාම', 'දන්නවනමි': 'දන්නවන', 'noඑවන්න': 'noඑවන්', 'වුවද': 'වුව', 'ඇන': 'ඇ', 'කොටාගනිමින්': 'කොටාගනිමින', 'සුළැගිල්ලේ': 'සුළැග', 'ගානවෙලාවට': 'ගානවෙලාව', 'සිතා': 'සිත', 'ඉන්': 'ඉන', 'අනතුරුව': 'අනතුරු', 'බල්ලේකුටවත්': 'බල්ලේකුටවත', 'සිතන්නේ': 'සිත', 'වැඩවසම්': 'වැඩවසම', 'යුගය': 'යුග', 'නිවට': 'නිව', 'ජාතියත්': 'ජාතියත', 'කරන්නේත්': 'කරන්නේත', 'ඒවගේමයි': 'ඒවගේම', 'පැරන්නන්ගේ': 'පැරන්නන්', 'අභිතබව': 'අභිතබ', 'තාක්ෂණය': 'තාක්ෂණ', 'දැණුමින්': 'දැණුමින', 'පෝෂණය': 'පෝෂණ', 'යැපෙනවා': 'යැපෙ', 'ලාංකිකයන්': 'ලාංකිකයන', 'පේ': 'ප', 'පරම්පරාවෙන්': 'පරම්පරාවෙන', 'ජාතියටත්': 'ජාතියටත', 'දින්නා': 'දින්', 'වික්කා': 'වික්', 'බලනතාක්': 'බලනතාක', 'සැබැපාට': 'සැබැපා', 'ගලවා': 'ගල', 'බලනදාට': 'බලනදා', 'සුදානමක්': 'සුදානමක', 'ඇතිවු': 'ඇතිව', 'දෙවැනි': 'දෙවැ', 'දෙවියන්ට': 'දෙවියන්', 'පමණයි': 'පමණ', 'වචනයේ': 'වචන', 'අර්ථයෙන්': 'අර්ථයෙන', 'ගැත්තො': 'ගැත්ත', 'දෙවියෙක්': 'දෙවියෙක', 'පොලොව': 'පොලො', 'නිමැවුම්': 'නිමැවුම', 'ධනය': 'ධන', 'මනී': 'මන', 'අත්වලින්': 'අත්වලින', 'යමක්': 'යමක', 'දේශපාලකයෙකු': 'දේශපාලකයෙ', 'ලබාගනීම': 'ලබාගනී', 'දෙපාර්ශවයේම': 'දෙපාර්ශවයේ', 'ඇත්ද': 'ඇත්', 'සීයට': 'සීය', 'සීයක්': 'සීයක', 'දේශපාලකයන්ව': 'දේශපාලකයන්', 'කොයිතරම්': 'කොයිතරම', 'පිලිකුල්': 'පිලිකුල', 'පරපුරේ': 'පරපුර', 'කියක්': 'කියක', 'ඉදිමුන': 'ඉදිමු', 'උත්සවය': 'උත්සව', 'අවර්නවත්': 'අවර්නවත', 'දේශපාලනයයි': 'දේශපාලන', 'කලාවයි': 'කලාව', 'යහපතක්ම': 'යහපතක්', 'උත්සවයකට': 'උත්සවය', 'කියන්නෙම': 'කියන්නෙ', 'රසාදයක්': 'රසාදයක', 'පුතිපත්තියක්': 'පුතිපත්තියක', 'යැපෙන්නට': 'යැපෙන්න', 'කියාගන්න': 'කියාගන්', 'අපතය': 'අපත', 'ෝ': '', 'ලගින': 'ලගි', 'පුවීන': 'පුවී', 'කලාකරුවන්ටත්': 'කලාකරුවන්ටත', 'හේතූන්': 'හේතූන', 'ලී': 'ල', 'කෑල්ල': 'කෑල්', 'තෝරන්න': 'තෝරන්', 'ඔවැනි': 'ඔවැ', 'තියෙනවාද': 'තියෙනවා', 'ගෞරවනීය': 'ගෞරවනී', 'වෘත්තියක්': 'වෘත්තියක', 'ගරුකල': 'ගරුක', 'ගෞරවයනීය': 'ගෞරවයනී', 'වෘත්තීය': 'වෘත්තී', 'දේශපාලනඥයා': 'දේශපාලනඥ', 'වපසරිය': 'වපසරි', 'හදුනා': 'හදු', 'නොගන්නා': 'නොගන්', 'කවද': 'කව', 'කියනකෙනාගෙ': 'කියනකෙනා', 'වෙලාවකදී': 'වෙලාවකද', 'කලහොත්': 'කලහොත', 'වෙනු': 'වෙ', 'කලාකරුවෝ': 'කලාකරු', 'ගරුකරන්න': 'ගරුකරන්', 'කාගෙවත්': 'කාගෙවත', 'දේශපාලනයක්': 'දේශපාලනයක', 'සම්මානයකට': 'සම්මානය', 'පටලවාගන්නෙ': 'පටලවාග', 'නූගත්කමයි': 'නූගත්කම', 'මහන්තත්ත්වෙයි': 'මහන්තත්ත්වෙ', 'බොළද': 'බොළ', 'උත්සහයක්': 'උත්සහයක', 'ලාමකයි': 'ලාමක', 'මහන්සියෙන්': 'මහන්සියෙන', 'මිනිසුන්ගෙන්': 'මිනිසුන්ගෙන', 'ලැබෙන්න': 'ලැබෙන්', 'පිලිලයක්': 'පිලිලයක', 'වුනු': 'වු', 'නරැම': 'නරැ', 'පාලකයන්': 'පාලකයන', 'නොවෙ': 'නො', 'විරැද්දව': 'විරැද්ද', 'රැස්වීම්': 'රැස්වීම', 'පැවැත්වූ': 'පැවැත්ව', 'ජැක්සන්': 'ජැක්සන', 'උලෙළේදී': 'උලෙළේද', 'එතුමා': 'එතුම', 'කීවේ': 'කී', 'ඒතමයි': 'ඒතම', 'මොකෙක්ද': 'මොකෙක්', 'කරැවෝද': 'කරැවෝ', 'කරැවො': 'කරැව', 'සහෝ': 'සහ', 'කොතනත්': 'කොතනත', 'බුකියේ': 'බුකි', 'ගතහොත්': 'ගතහොත', 'හොදා': 'හොද', 'කරුවනුත්': 'කරුවනුත', 'වැඩෙන්': 'වැඩෙන', 'කාරයොත්': 'කාරයොත', 'දේශපාලකයෝත්': 'දේශපාලකයෝත', 'නැතිවෙන': 'නැතිවෙ', 'මොනව': 'මොන', 'මෙයාල': 'මෙයා', 'ගොබ්බයෝ': 'ගොබ්බ', 'ගෙම්බෝ': 'ගෙම්බ', 'පුම්බන්ට': 'පුම්බන්', 'නිර්මාණයක්': 'නිර්මාණයක', 'දෙසපලකයට': 'දෙසපලකය', 'හිගන්නට': 'හිගන්න', 'වංශවත්': 'වංශවත', 'තෝරලා': 'තෝර', 'බේරලා': 'බේර', 'කාලකණ්නි': 'කාලකණ්', 'කලාකරයොද': 'කලාකරයො', 'බල්ලොන්ට': 'බල්ලොන්', 'තීරකයෝ': 'තීරක', 'හිගන': 'හිග', 'කාලාකරැවෝ': 'කාලාකරැ', 'දියේ': 'දි', 'මළු': 'මළ', 'බානවා': 'බා', 'ඕකට': 'ඕ', 'ඩබලක්': 'ඩබලක', 'තේරැම්': 'තේරැම', 'ජෙප්පෙක්': 'ජෙප්පෙක', 'මොනවගේ': 'මොනව', 'ඈහුවොත්': 'ඈහුවොත', 'පෙන්වපන්': 'පෙන්වපන', 'බයිසන්ලාට': 'බයිසන්ලා', 'ගන්ජා': 'ගන්ජ', 'කාරයන්': 'කාරයන', 'ටොයිසන්ලාට': 'ටොයිසන්ලා', 'කොල්ලන්': 'කොල්ලන', 'තෙරුනේ': 'තෙරුන', 'නෙළුමි': 'නෙළු', 'පොකුනට': 'පොකුන', 'ගෙන්නව': 'ගෙන්න', 'ගත්තනමි': 'ගත්තන', 'ගෝතයො': 'ගෝතය', 'දෙදෙනෙකුගෙ': 'දෙදෙනෙකු', 'පටිට': 'පටි', 'රංගනයක්': 'රංගනයක', 'බෝල': 'බෝ', 'පිති': 'පි', 'අරක්කු': 'අරක්', 'බියරුත්': 'බියරුත', 'හිටහන්': 'හිටහන', 'අඩ්මින්': 'අඩ්මින', 'පංති': 'පං', 'බොනව': 'බොන', 'පියාබනව': 'පියාබන', 'පාලකයන්ට': 'පාලකයන්', 'බුද්ඨිමත්': 'බුද්ඨිමත', 'රගන්න': 'රගන්', 'බැහැනෙ': 'බැහැන', 'ගමන': 'ගම', 'හිගන්නො': 'හිග', 'බහිනව': 'බහින', 'රස්සාවක්': 'රස්සාවක', 'හයර්': 'හයර', 'බලුකම්': 'බලුකම', 'පොලිස්සියෙන්': 'පොලිස්සියෙන', 'පාරෙම': 'පාරෙ', 'මැරෙනව': 'මැරෙන', 'ජව': 'ජ', 'තාරුණ්': 'තාරුණ', 'ඉන්නකන්': 'ඉන්නකන', 'මැරුවා': 'මැරු', 'බොම්බයක්': 'බොම්බයක', 'ගහගන්න': 'ගහගන්', 'උනානෙ': 'උනාන', 'මැරුලා': 'මැරු', 'සල්ලිවලට': 'සල්ලිවල', 'කුඩුකාරයෝ': 'කුඩුකාර', 'හිඟන': 'හිඟ', 'පෙන්වූ': 'පෙන්ව', 'හැසිරීම': 'හැසිරී', 'හැක්කේ': 'හැක්', 'එවැනිම': 'එවැනි', 'මෘගයන්ට': 'මෘගයන්', 'නුගත්': 'නුගත', 'හැතිකරෙ': 'හැතිකර', 'මරනවා': 'මර', 'තෝපිලගේ': 'තෝපිල', 'වික්කත්': 'වික්කත', 'වියදමට': 'වියදම', 'රිලා': 'රි', 'වදුරො': 'වදුර', 'කුස්සියට': 'කුස්සිය', 'පොන්නයන්ට': 'පොන්නයන්', 'දෙපල': 'දෙප', 'විනාශය': 'විනාශ', 'පොලිස්ස්ස්ස්ස්ස්ස්': 'පොලිස්ස්ස්ස්ස්ස්ස', 'තාත්තාගේ': 'තාත්තා', 'නූගතුන්': 'නූගතුන', 'පිළිබඳව': 'පිළිබඳ', 'පාඨමාලාවක්': 'පාඨමාලාවක', 'කරුණාවෙන්': 'කරුණාවෙන', 'සලකා': 'සල', 'පැරදිලා': 'පැරදි', 'දවසෙ': 'දවස', 'වීරයින්': 'වීරයින', 'පුඵළුන්': 'පුඵළුන', 'ශිෂ්ට': 'ශිෂ්', 'මිනිසුනට': 'මිනිසුන', 'අප්පච්චිගෙ': 'අප්පච්චි', 'බල්ලෙක්': 'බල්ලෙක', 'පාර්ලිමේන්තුවෙන්': 'පාර්ලිමේන්තුවෙන', 'මොංගල්': 'මොංගල', 'අප්': 'අප', 'කනේ': 'කන', 'පාරකුත්': 'පාරකුත', 'මදිවට': 'මදිව', 'කුඩුත්': 'කුඩුත', 'බකන්නිලා': 'බකන්නි', 'සැලසුම්': 'සැලසුම', 'නෙවී': 'නෙව', 'හමන්නල': 'හමන්න', 'දෙගොල්ලන්වම': 'දෙගොල්ලන්ව', 'පාලකයෝ': 'පාලක', 'ගහමු': 'ගහ', 'පෝන්නයන්ට': 'පෝන්නයන්', 'ගස්සලා': 'ගස්ස', 'එකාගේ': 'එකා', 'පවුල්': 'පවුල', 'කවු': 'කව', 'මුව': 'මු', 'වදලා': 'වද', 'කැලෑවක්': 'කැලෑවක', 'කකුලක්': 'කකුලක', 'ගණිකා': 'ගණි', 'මඩමක': 'මඩම', 'තොගේ': 'තො', 'අහවල්': 'අහවල', 'නැටිලි': 'නැට', 'දැමිමත්': 'දැමිමත', 'අවසානෙට': 'අවසානෙ', 'මහජනතාව': 'මහජනතා', 'වරෙවිකෝ': 'වරෙවික', 'දගලපු': 'දගල', 'ගැහෙයි': 'ගැහෙ', 'මහජනයටතොපිලා': 'මහජනයටතොපි', 'ඒපා': 'ඒප', 'ගසා': 'ගස', 'මරා': 'මර', 'ඉදිපත්': 'ඉදිපත', 'වීරයන්ගේ': 'වීරයන්', 'ලැයිස්තුවේ': 'ලැයිස්තු', '225ක්': '225ක', 'මඩුවට': 'මඩුව', 'රැළද': 'රැළ', 'හිනාවෙනව': 'හිනාවෙන', 'ගාගනනැතුව': 'ගාගනනැතු', 'වෙද්දී': 'වෙ', 'අඩංගුවට': 'අඩංගුව', 'පාලනයකින්': 'පාලනයකින', 'තිබ්බනෙ': 'තිබ්බන', 'තරහයි': 'තරහ', 'ටී56ක්': 'ටී56ක', 'පලෙයන්': 'පලෙයන', 'වාරෙකට': 'වාරෙ', 'මෙික': 'මෙි', 'පක්ෂයමක': 'පක්ෂයම', 'නායකයො': 'නායකය', 'හිටය': 'හිට', 'නායකයන්ට': 'නායකයන්', 'ඔිකමද': 'ඔිකම', 'ඡන්දේ': 'ඡන්ද', 'මැරැවත්': 'මැරැවත', 'උන්ටමනේ': 'උන්ටමන', 'එවන්නේ': 'එව', 'බැලයෝ': 'බැල', 'දියන්': 'දියන', 'මැරෙනවා': 'මැරෙ', 'පාරටම': 'පාර', 'අවන්කවම': 'අවන්කව', 'කළකිරෙනවා': 'කළකිරෙ', 'හොයා': 'හො', 'අවස්තාවක්': 'අවස්තාවක', 'මීහරක්': 'මීහරක', '225ම': '225', 'අම්මාපා': 'අම්මාප', 'දිවිනසා': 'දිවිනස', 'හිතුනොත්': 'හිතුනොත', 'කෙලින්ම': 'කෙලින්', 'මෙතනට': 'මෙතන', 'බැදගෙන': 'බැදගෙ', 'මාරගෙන': 'මාරගෙ', 'කමෙ': 'කම', 'රභාකරන්ගෙ': 'රභාකරන්', 'දැනුයි': 'දැනු', 'මුංටිකව': 'මුංටික', 'යවයි': 'යව', 'අපරදේ': 'අපරද', 'කැන්ටිමේ': 'කැන්ටි', 'හක්කපටස්': 'හක්කපටස', 'ඇත්තමයි': 'ඇත්තම', 'සේරටම': 'සේර', 'මැරිලවත්': 'මැරිලවත', 'ජනපති': 'ජනප', 'රනිලවයි': 'රනිලව', 'ගනිකා': 'ගනි', 'හිරැනිකයි': 'හිරැනික', 'කරන්නකෝ': 'කරන්නක', 'රෑන': 'රෑ', 'කොටා': 'කොට', 'බල්ලෝත්': 'බල්ලෝත', 'ඵක්කද': 'ඵක්ක', 'සඡිත්': 'සඡිත', 'නියෝගය': 'නියෝග', 'නඩුවේ': 'නඩු', 'අවසන්': 'අවසන', 'නටන්නද': 'නටන්න', 'බඩු': 'බඩ', 'ෆෝම්': 'ෆෝම', 'වෙන්ට': 'වෙන්', 'පොස්': 'පොස', 'පිළිලයක්': 'පිළිලයක', 'මුන්ටත්': 'මුන්ටත', 'පිටකොටුවෙ': 'පිටකොටු', 'මුඩුක්කුවකින්': 'මුඩුක්කුවකින', 'ලැජ්ජාවක්': 'ලැජ්ජාවක', 'රසිද්දියට': 'රසිද්දිය', 'උඹලා': 'උඹ', 'එකාගෙම': 'එකා', 'ගානවනේ': 'ගානවන', 'පියුමි': 'පියු', 'හසිනිට': 'හසිනි', 'විශ්වට': 'විශ්ව', 'පහු': 'ප', 'ටිකේ': 'ටි', 'බැනවැද': 'බැනවැ', 'රෙද්දක්': 'රෙද්දක', 'ආතතියෙන්': 'ආතතියෙන', 'පෙළෙන': 'පෙළෙ', 'ශික්': 'ශික', 'අවලන්': 'අවලන', 'මුනුයි': 'මුනු', 'දේශපාලුවොයි': 'දේශපාලුවො', 'විනාසම': 'විනාස', 'කරුණු': 'කරුණ', 'යනයට': 'යනය', 'සිඟිති': 'සිඟි', 'මිතුරාට': 'මිතුරා', 'තෙරුන්': 'තෙරුන', 'බලේ': 'බල', 'ඉල්ලුවේ': 'ඉල්ලු', 'බැහැපන්': 'බැහැපන', 'ගහෙන්': 'ගහෙන', 'හැමදාමත්': 'හැමදාමත', 'බුදුසරණයි': 'බුදුසරණ', 'ජේසුපිහිටයි': 'ජේසුපිහිට', 'පවුලටම': 'පවුල', 'ගීතයට': 'ගීතය', 'පෙම්': 'පෙම', 'වෙන්වුන': 'වෙන්වු', 'පිටුව': 'පිටු', 'වටෙම්ම': 'වටෙම්', 'ලියුම්': 'ලියුම', 'ඉස්සෙල්ලත්': 'ඉස්සෙල්ලත', 'කොටියා': 'කොටි', 'උබෙත්': 'උබෙත', 'ටොයි': 'ටො', 'දාපන්': 'දාපන', 'වෙලාවක්': 'වෙලාවක', 'පුපුරවන්න': 'පුපුරවන්', 'වගකිව': 'වගකි', 'විද්වතුන්': 'විද්වතුන', 'විසිරෙව්වෙ': 'විසිරෙව්', 'ක්ක': 'ක්', 'පොලීසිවල': 'පොලීසිව', 'දුවනකොට': 'දුවනකො', 'පන්නනව': 'පන්නන', 'මොකො': 'මොක', 'හින්සා': 'හින්ස', 'කරන්නෙපා': 'කරන්නෙප', 'අහින්සකයා': 'අහින්සක', 'හැරිමෙන්': 'හැරිමෙන', 'සමනළයෙක්': 'සමනළයෙක', 'ශිුලංකා': 'ශිුලං', 'වලකන': 'වලක', 'විශිල්': 'විශිල', 'බලප්න්': 'බලප්න', 'ඔලුවටම': 'ඔලුව', 'පාරත්': 'පාරත', 'කරන්නෙත්': 'කරන්නෙත', 'කැපුවත්': 'කැපුවත', 'සමනල්': 'සමනල', 'ගූඇන්පී': 'ගූඇන්ප', 'විනාඩියක': 'විනාඩිය', 'නිශ්ශබ්දතාවය': 'නිශ්ශබ්දතාව', 'ඇන්පී': 'ඇන්ප', 'කාරයින්ට': 'කාරයින්', 'රෙවෙයි': 'රෙවෙ', 'ජන': 'ජ', 'තමයිවෙන්න': 'තමයිවෙන්', 'මලු': 'මල', 'එහෙමෙහෙ': 'එහෙමෙහ', 'රවාදට': 'රවාද', 'තින්දුව': 'තින්දු', 'පුලුව්න්': 'පුලුව්න', 'නන්නත්තාරයී': 'නන්නත්තාරය', 'අනාථයීනේ': 'අනාථයීන', 'දැංවත්': 'දැංවත', 'හුකන්නැතුව': 'හුකන්නැතු', 'ඉන්නලා': 'ඉන්න', 'තොපී': 'තොප', 'කෙලෝගත්තේ': 'කෙලෝගත්ත', 'හිංදා': 'හිංද', 'මාමාට': 'මාමා', 'ගත්තු': 'ගත්ත', 'කටට': 'කට', 'තීරණේ': 'තීරණ', 'විසිරෙවුවා': 'විසිරෙවු', 'රිච්': 'රිච', 'වික්ක': 'වික්', 'මාද්': 'මාද', 'ඒකකයෙ': 'ඒකක', 'ධාර්ශනිකය': 'ධාර්ශනික', 'යූඇන්පී': 'යූඇන්ප', 'හිටන්': 'හිටන', 'වාම': 'වා', 'විසුරුවලා': 'විසුරුව', 'පිස්සොත්': 'පිස්සොත', 'නොදැක්කා': 'නොදැක්', 'හරී': 'හර', 'දෙමලුන්ටයි': 'දෙමලුන්ට', 'වැද': 'වැ', 'ටොයියනි': 'ටොයිය', 'කෑගැහුවට': 'කෑගැහුව', 'උඹලගේම': 'උඹල', 'තේරීමක්': 'තේරීමක', 'බයියෙක්': 'බයියෙක', 'පාරම්පරික': 'පාරම්පරි', 'යූඑන්පී': 'යූඑන්ප', 'පාක්ෂිකයන්': 'පාක්ෂිකයන', 'රධානම': 'රධාන', 'විරුද්ද': 'විරුද්', 'පක්ෂයෙයේ': 'පක්ෂයෙ', 'සභාපතිව': 'සභාපති', 'ඡන්දයෙන්': 'ඡන්දයෙන', 'ඇරගත්': 'ඇරගත', 'ඇරගැනිල්ලටය': 'ඇරගැනිල්ලට', 'වෙලාවේ': 'වෙලා', 'දෙන්නම්': 'දෙන්නම', 'රනිලා': 'රනි', 'කොහොමවත්': 'කොහොමවත', '24ම': '24', 'යාලුවනේ': 'යාලුවන', 'කසාදෙත්': 'කසාදෙත', 'වේසා': 'වේස', 'නිලියෝ': 'නිලි', 'හෙලුවෙන්': 'හෙලුවෙන', 'තන්': 'තන', 'ඉරාජ්ගෙම': 'ඉරාජ්', 'තමය්': 'තමය', 'අසහනකාරයා': 'අසහනකාර', 'ශාර්මි': 'ශාර්', 'කුමාර්': 'කුමාර', 'තොලක්': 'තොලක', 'නිරැපන': 'නිරැප', 'ශිල්පිනියෝ': 'ශිල්පිනි', 'මේකුන්': 'මේකුන', 'පොන්ස්ලා': 'පොන්ස්', 'හුත්තක්ද': 'හුත්තක්', 'වස්තිලගෙ': 'වස්තිල', 'කසාදයක්': 'කසාදයක', 'දේටත්': 'දේටත', 'පොන්නයොයි': 'පොන්නයො', 'වේසාවියොයි': 'වේසාවියො', 'කරන්වා': 'කරන්', 'පිටුවහල්': 'පිටුවහල', 'පෝම්': 'පෝම', 'කරපුවාම': 'කරපුවා', 'සංස්කෘතිකයත්': 'සංස්කෘතිකයත', 'විනාසයි': 'විනාස', 'කැරියො': 'කැරිය', 'ගොන්නු': 'ගොන්', 'රගයි': 'රග', 'පුච්චන්': 'පුච්චන', 'කෑවනම්': 'කෑවනම', 'කොලුකමටත්': 'කොලුකමටත', 'ගොංබඩු': 'ගොංබඩ', 'පෝන්නයො': 'පෝන්නය', 'දෙන්නයි': 'දෙන්න', 'බඩ්ඩයි': 'බඩ්ඩ', 'සදාචාරයක්': 'සදාචාරයක', 'මොඩල්ස්ලයි': 'මොඩල්ස්ල', 'චැනලුයි': 'චැනලු', 'පොන්නයයෙක්': 'පොන්නයයෙක', 'දම්ම': 'දම්', 'ගස්සන්නද': 'ගස්සන්න', 'බෑද': 'බෑ', 'කියනේ': 'කියන', 'ඉරාජ්ගේ': 'ඉරාජ්', 'මියුසික්': 'මියුසික', 'වීඩියො': 'වීඩිය', 'රවට්ටනවා': 'රවට්ට', 'රැවටෙන': 'රැවටෙ', 'ගොන්නුත්': 'ගොන්නුත', 'ඉන්නවනෙ': 'ඉන්නවන', 'අන්තක්': 'අන්තක', 'පුරයක්': 'පුරයක', 'දල': 'ද', 'චාන්ස්': 'චාන්ස', 'දේශපාලඥයොන්ට': 'දේශපාලඥයොන්', 'අමතරව': 'අමතර', 'යූටියුබ්': 'යූටියුබ', 'හිඟන්නො': 'හිඟ', 'සබ්ස්ක්': 'සබ්ස්ක', 'රයිබ්': 'රයිබ', 'හැමෝවම': 'හැමෝව', 'ඉට': 'ඉ', 'කොදයි': 'කොද', 'කලීන්': 'කලීන', 'දාපූ': 'දාප', 'සූපා': 'සූප', 'දැක්කහම': 'දැක්කහ', 'වහලක්': 'වහලක', 'වට්ටුව': 'වට්ටු', 'පිස්සුසො': 'පිස්සුස', 'ට්කට': 'ට්', 'ගාහායි': 'ගාහා', 'හාදේ': 'හාද', 'වේසියක්': 'වේසියක', 'එකය්': 'එකය', 'හම්මේ': 'හම්', 'යක්කුලු': 'යක්කුල', 'වලියකදීත්': 'වලියකදීත', 'කුක්කු': 'කුක්', 'කෝම': 'කෝ', 'විශ්වකියන්නෙ': 'විශ්වකිය', 'පොන්නයෙක්නෙ': 'පොන්නයෙක්න', 'පිලිගන්නවනෙ': 'පිලිගන්නවන', 'බය්ලා': 'බය්', 'කාන්තා': 'කාන්ත', 'යුවලක්': 'යුවලක', 'තනිව': 'තනි', 'සැමිය': 'සැමි', 'නොමැති': 'නොමැ', 'සෞඛ්': 'සෞඛ', 'යාරක්ෂිතව': 'යාරක්ෂිත', 'විශ්වාසනීය': 'විශ්වාසනී', 'ස්තානයක': 'ස්තානය', 'සම්බාහනය': 'සම්බාහන', 'දෙනු': 'දෙ', 'ලැබේ': 'ලැබ', 'පුද්ගලිකත්වය': 'පුද්ගලිකත්ව', 'දෙපාර්ශ්වයේම': 'දෙපාර්ශ්වයේ', 'රැකෙන': 'රැකෙ', 'හමුවක්': 'හමුවක', 'කෙරේ': 'කෙර', 'ලීක්': 'ලීක', 'සිතියමෙනුත්': 'සිතියමෙනුත', 'මකල': 'මක', 'නවතින්නේ': 'නවති', 'යකෝව්': 'යකෝව', 'ෆකේ': 'ෆ', 'රෝල්': 'රෝල', 'හසිනට': 'හසින', 'ගන්නවද': 'ගන්නව', 'ඕකිට': 'ඕ', 'ඒස්ට්ද': 'ඒස්ට්', 'රෝගබන්': 'රෝගබන', 'අරින්න': 'අරින්', 'කියලද': 'කියල', 'හුත්තවල්': 'හුත්තවල', 'දාන්නනම්': 'දාන්නනම', 'නන්නානේ': 'නන්නාන', 'අමාරු': 'අමාර', 'අලුත්ම': 'අලුත්', 'සින්දුවක': 'සින්දුව', 'එකක්ද': 'එකක්', 'ලංකාවම': 'ලංකාව', 'පිස්සුවක්': 'පිස්සුවක', 'ගන්නම': 'ගන්න', 'යහන්ගතවෙලා': 'යහන්ගතවෙ', 'ඒකේ': 'ඒ', 'මිනිහෝ': 'මිනිහ', 'සමාජේ': 'සමාජ', 'අඬවැඩියා': 'අඬවැඩි', 'හැදෙනවා': 'හැදෙ', 'සචිනි': 'සචි', 'අක්කගේ': 'අක්', 'ඇහුන': 'ඇහු', 'අක්කියගේ': 'අක්කිය', 'නැටුම': 'නැටු', 'ගොඩාරියක්': 'ගොඩාරියක', 'ෂෙහාන්': 'ෂෙහාන', 'එව්වෝ': 'එව්', 'ලනංකවට': 'ලනංකව', 'වැලලෙන': 'වැලලෙ', 'විකුනගන්න': 'විකුනගන්', 'සොයාගන්න': 'සොයාගන්', 'පිවිසෙන්න': 'පිවිසෙන්', 'මෙයාගේ': 'මෙයා', 'සිංදුවට': 'සිංදුව', 'එල්ලන': 'එල්ල', 'ඉන්නට': 'ඉන්න', 'හැගෙන': 'හැගෙ', 'ළමයෙක්': 'ළමයෙක', 'ගැහැණු': 'ගැහැණ', 'හුවමාරු': 'හුවමාර', 'කාලෙදී': 'කාලෙද', 'ආදරයක්': 'ආදරයක', 'නැගෙනවා': 'නැගෙ', 'මාරුවක්': 'මාරුවක', 'ලැබුණ': 'ලැබ', 'එවන': 'එව', 'හම්බවෙන්නේ': 'හම්බවෙ', 'ලැබෙන්නෙත්': 'ලැබෙන්නෙත', 'එවපු': 'එව', 'ලියුම': 'ලියු', 'මතකෙත්': 'මතකෙත', 'බැරිවෙනවා': 'බැරිවෙ', 'ඇතිවෙනවා': 'ඇතිවෙ', 'ගෙදරින්': 'ගෙදරින', 'ළමයාට': 'ළමයා', 'ගෙදරදී': 'ගෙදරද', 'තිබුණ': 'තිබ', 'හම්බවෙනවා': 'හම්බවෙ', 'යවපු': 'යව', 'දකිනවා': 'දකි', 'එවෙලේ': 'එවෙල', 'දැනගන්නවා': 'දැනගන්', 'කෙනාමයි': 'කෙනාම', 'බිරිඳව': 'බිරිඳ', 'කූඹියෝ': 'කූඹි', 'විශුවල්': 'විශුවල', 'සින්දුවකට': 'සින්දුව', 'ගැලපුවේ': 'ගැලපු', 'නිරුවතට': 'නිරුවත', 'අරුතට': 'අරුත', 'ඔබලාට': 'ඔබලා', 'බෙහෙවින්ම': 'බෙහෙවින්', 'තුති': 'තු', 'ලංකාවේ': 'ලංකාවෙ', 'අගාධයට': 'අගාධය', 'අමරදේවලා': 'අමරදේව', 'මහගමසේකරලා': 'මහගමසේකර', 'අජන්තා': 'අජන්ත', 'පදමට': 'පදම', 'ගන්වන්න': 'ගන්වන්', 'කළාකරුවෝ': 'කළාකරු', 'ස්තූති': 'ස්තූ', 'මේවනෙ': 'මේවන', 'රසවත්ද': 'රසවත්', 'අරත්වත්ද': 'අරත්වත්', 'ඉතාම': 'ඉතා', 'ඉදිරියටත්': 'ඉදිරියටත', 'කේන්දරේ': 'කේන්දර', 'පාළු': 'පාළ', 'ලගින්': 'ලගින', 'දන්නේනේ': 'දන්නේන', 'හැරුණු': 'හැරුණ', 'සතු': 'සත', 'දියයුතු': 'දියයුත', 'මගහැරුණු': 'මගහැරුණ', 'දෙනෙකුට': 'දෙනෙ', 'වාසනාව': 'වාසනා', 'කෙනාවමයි': 'කෙනාවම', 'ලොකූ': 'ලොක', 'සතුටකින්': 'සතුටකින', 'පතපු': 'පත', 'කෙනෙක්ගෙන්': 'කෙනෙක්ගෙන', 'ලැබෙන': 'ලැබෙ', 'කියලායි': 'කියලා', 'සඳනාරී': 'සඳනාර', 'කාලයකට': 'කාලය', 'ඇහිල': 'ඇහි', 'වරක්': 'වරක', 'රීපීට්': 'රීපීට', 'සින්දුවේ': 'සින්දු', 'ෆීලින්ග්': 'ෆීලින්ග', 'රචනාව': 'රචනා', 'ගිහිපු': 'ගිහි', 'ඇතුළෙ': 'ඇතුළ', 'පුදුමාකරම': 'පුදුමාකර', 'කරකවල': 'කරකව', 'අතඇරපු': 'අතඇර', 'වීඩියෝවක්': 'වීඩියෝවක', 'පුදුමාකාරයි': 'පුදුමාකාර', 'භාවාතිශයයි': 'භාවාතිශ', 'අද්විතීයයි': 'අද්විතී', 'පරිපූර්ණයි': 'පරිපූර්ණ', 'තුළතිබුන': 'තුළතිබු', 'සම්පූර්ණයෙන්': 'සම්පූර්ණයෙන', 'සජානා': 'සජා', 'අක්කේ': 'අක්', 'රඟපෑම': 'රඟපෑ', 'ගැනනම්': 'ගැනනම', 'අයියටත්': 'අයියටත', 'එසේමයි': 'එසේම', 'අගයකරනවා': 'අගයකර', 'ඉස්සරහටත්': 'ඉස්සරහටත', 'දැනුනා': 'දැනු', 'මාරම': 'මාර', 'සෙන්නාත්': 'සෙන්නාත', 'හිරුන': 'හිරු', 'පරිසමාප්තාර්ථයෙන්': 'පරිසමාප්තාර්ථයෙන', 'ආසාවෙන්': 'ආසාවෙන', 'කලාත්මක': 'කලාත්ම', 'රචනයක්': 'රචනයක', 'ලන්වෙන': 'ලන්වෙ', 'ගායකයාගේ': 'ගායකයා', 'දක්ශතාව': 'දක්ශතා', 'අක්කිගෙයි': 'අක්කිගෙ', 'අයියගෙයි': 'අයියගෙ', 'රන්ගනය': 'රන්ගන', 'සමාවෙන්න': 'සමාවෙන්', 'අයියගෙ': 'අයිය', 'සිංදුවක්': 'සිංදුවක', 'නියමම': 'නියම', 'අමාරුවෙන්ද': 'අමාරුවෙන්', 'බැලුවම': 'බැලුව', 'දායද': 'දාය', 'ගායකයින්': 'ගායකයින', 'වුවමනා': 'වුවම', 'ඇහුවට': 'ඇහුව', 'අක්කි': 'අක්', 'නාරී': 'නාර', 'පැතුම්': 'පැතුම', 'වශී': 'වශ', 'හුස්මේ': 'හුස්', 'රඳවන්න': 'රඳවන්', 'අදරෙයි': 'අදරෙ', 'හදවතට': 'හදවත', 'දැනෙන්නට': 'දැනෙන්න', 'සිංදුවනම්': 'සිංදුවනම', 'වැදුනා': 'වැදු', 'මාරයි': 'මාර', 'සදනාරී': 'සදනාර', 'ලස්සනම': 'ලස්සන', 'ඉස්කොලෙ': 'ඉස්කොල', 'හුගක්': 'හුගක', 'හුගාක්': 'හුගාක', 'කතාවත්': 'කතාවත', 'එකෙන්ම': 'එකෙන්', 'සුපිරියි': 'සුපිරි', 'සනුක': 'සනු', 'ගැම්මක්': 'ගැම්මක', 'බීට්': 'බීට', 'ලිරික්ස්': 'ලිරික්ස', 'දෙවනි': 'දෙව', 'වොයිස්': 'වොයිස', 'හෙයක්': 'හෙයක', 'සෝන්ග්ස්': 'සෝන්ග්ස', 'මවන': 'මව', 'අගනා': 'අග', 'විචාරයක්': 'විචාරයක', 'පැවසීමට': 'පැවසීම', 'සිදුහත්': 'සිදුහත', 'යශෝදරා': 'යශෝදර', 'රාම': 'රා', 'සීතා': 'සීත', 'සාලිය': 'සාලි', 'අශෝකමාලා': 'අශෝකමා', 'සාහිත්': 'සාහිත', 'කෘතීන්': 'කෘතීන', 'වස්තූන්': 'වස්තූන', 'රේම': 'රේ', 'රාජයකුගේ': 'රාජය', 'රේමකලම්බනයක්': 'රේමකලම්බනයක', 'දකිනු': 'දකි', 'රියම්බිකාව': 'රියම්බිකා', 'සංසාරයේ': 'සංසාර', 'රේමය': 'රේම', 'මොනවට': 'මොනව', 'නිදසුනකි': 'නිදසුන', 'ඇය': 'ඇ', 'රේමයකින්': 'රේමයකින', 'වෙලී': 'වෙල', 'රාජයා': 'රාජ', 'ස්වප්නයකිනිදු': 'ස්වප්නයකිනිද', 'ලලන': 'ලල', 'ඇසුරක්': 'ඇසුරක', 'පහසක්': 'පහසක', 'නොපතයි': 'නොපත', 'උපනුපන්': 'උපනුපන', 'ජාති': 'ජා', 'දක්වාම': 'දක්වා', 'එකී': 'එ', 'රේමිය': 'රේමි', 'පූරණය': 'පූරණ', 'සංවාසවම': 'සංවාසව', 'වෙසෙන': 'වෙසෙ', 'ඇයගේ': 'ඇය', 'ආමන්ත්': 'ආමන්ත', 'රණය': 'රණ', 'නිරතුරුවම': 'නිරතුරුව', 'තමන්ගේම': 'තමන්', 'පවසන': 'පවස', 'අයදියි': 'අයදි', 'දේදුන්න': 'දේදුන්', 'අනංගගේ': 'අනංග', 'ධනු': 'ධ', 'වෙතටම': 'වෙත', 'හෙලන': 'හෙල', 'අකලංක': 'අකලං', 'අපේක්ෂාවෙන්': 'අපේක්ෂාවෙන', 'නිර්මාන': 'නිර්මා', 'විදහා': 'විදහ', 'දැක්වීමක්': 'දැක්වීමක', 'මෙන්ම': 'මෙන්', 'ගතියක්': 'ගතියක', 'හාස්යය': 'හාස්ය', 'ඉතාමත්ම': 'ඉතාමත්', 'පාටකයාට': 'පාටකයා', 'මහගු': 'මහග', 'හැකියාවකි': 'හැකියාව', 'කොහෙන්ද': 'කොහෙන්', 'හැමෝගෙම': 'හැමෝ', 'බොක්කෙම්ම': 'බොක්කෙම්', 'ඩෝ': 'ඩ', 'සිහිනේ': 'සිහින', 'නොහැකියි': 'නොහැකි', 'කලහැකියයි': 'කලහැකි', 'රියාවෙන්ම': 'රියාවෙන්', 'විකි': 'වි', 'සහෝදරයට': 'සහෝදරය', 'පට්ට්ම': 'පට්ට්', 'කීල': 'කී', 'කොන්ඩයට': 'කොන්ඩය', 'අල්ලන්': 'අල්ලන', 'modelingනුත්': 'modelingනුත', 'කපාගෙන': 'කපාගෙ', 'මළගෙදරක': 'මළගෙදර', 'නයිටක්': 'නයිටක', 'ගහද්දී': 'ගහ', 'කයිවාරු': 'කයිවාර', 'ෆිල්': 'ෆිල', 'කියාපු': 'කියා', 'ඩිවෙලොප්': 'ඩිවෙලොප', 'ස්ක්': 'ස්ක', 'රිප්ට්': 'රිප්ට', 'ඉන්ටවල්': 'ඉන්ටවල', 'කැමරාව': 'කැමරා', 'ඔන්': 'ඔන', 'ෆිල්ටිගේ': 'ෆිල්ටි', 'කොන්ඩම්': 'කොන්ඩම', 'වේසිගෙ': 'වේසි', 'කියාදුන්නා': 'කියාදුන්', 'කෙල්ලෙක්ගෙ': 'කෙල්ලෙක්', 'වාසනාවට': 'වාසනාව', 'අවාසනාවටත්': 'අවාසනාවටත', 'පිහිටනවා': 'පිහිට', 'අපරාදේ': 'අපරාද', 'ගෑනූ': 'ගෑන', 'කාගේ': 'කා', 'දරුවොද': 'දරුවො', 'මිනිහට': 'මිනිහ', 'සමනලයෙක්ලු': 'සමනලයෙක්ල', 'ගල': 'ග', 'වනා': 'ව', 'හරියන': 'හරිය', 'ප්ලෑන්': 'ප්ලෑන', 'අවස්තාවේදී': 'අවස්තාවේද', 'ෆිල්ටිව': 'ෆිල්ටි', 'සුපර්': 'සුපර', 'උඹත්': 'උඹත', 'හුකාගනින්': 'හුකාගනින', 'තොගෙත්': 'තොගෙත', 'හුත්ති': 'හුත්', 'කතාකරන': 'කතාකර', 'කවලම්': 'කවලම', 'බැල්ලියො': 'බැල්ලිය', 'වේසියෙකුයි': 'වේසියෙකු', 'අවජාතකයකුයි': 'අවජාතකයකු', 'පොන්නයෙක්': 'පොන්නයෙක', 'කරන්ඩෝ': 'කරන්ඩ', 'දාන්නද': 'දාන්න', 'ඉන්ට': 'ඉන්', 'නිවේදක': 'නිවේද', 'පලල්': 'පලල', 'හන්සමාලී': 'හන්සමාල', 'ඇතුලුව': 'ඇතුලු', 'කන්ඩායම': 'කන්ඩාය', 'විශ්ව': 'විශ්', 'විස්වට': 'විස්ව', 'දිව': 'දි', 'දාගන්නවා': 'දාගන්', 'ආපුහාම': 'ආපුහා', 'පියුමිටයි': 'පියුමිට', 'කව්ශිටයි': 'කව්ශිට', 'දෙන්නටම': 'දෙන්න', 'ගහන්වා': 'ගහන්', 'ෆිට්': 'ෆිට', 'යාපාරියා': 'යාපාරි', 'පියුමිටත්': 'පියුමිටත', 'හසිනිටත්': 'හසිනිටත', 'කව්ශිටත්': 'කව්ශිටත', 'විශ්වටත්': 'විශ්වටත', 'අතෙත්': 'අතෙත', 'නිදාගන්නවා': 'නිදාගන්', 'අයිසෙ': 'අයිස', 'රේට්': 'රේට', 'රිපෝට්': 'රිපෝට', 'කරන්නත්': 'කරන්නත', 'ගොබ්බයොන්ගේ': 'ගොබ්බයොන්', 'අන්සබ්ස්ක්': 'අන්සබ්ස්ක', 'බලන්නැතුව': 'බලන්නැතු', 'වෙනුවෙංවත්': 'වෙනුවෙංවත', 'ෆිල්ටී': 'ෆිල්ට', 'රිපර්': 'රිපර', 'සවලකින්': 'සවලකින', 'වීලර්': 'වීලර', 'වෙන්නම': 'වෙන්න', 'පකෝ': 'පක', 'පිල්ට්': 'පිල්ට', 'මුගේ': 'මු', 'හුකනකොට': 'හුකනකො', 'රැප්': 'රැප', 'ඒකනේ': 'ඒකන', 'ඉන්නකොටත්': 'ඉන්නකොටත', 'මුමොන': 'මුමො', 'පකෙක්ද': 'පකෙක්', 'ටව්කන්න': 'ටව්කන්', 'නළුවා': 'නළු', 'නිළිය': 'නිළි', 'රසන්ටර්': 'රසන්ටර', 'ඩිරෙක්ටර්': 'ඩිරෙක්ටර', 'හුත්තියේ': 'හුත්තියෙ', 'ඉංගිුසියෙන්': 'ඉංගිුසියෙන', 'කතාකරපිය': 'කතාකර', 'සල්ලී': 'සල්ල', 'පුම්බනන': 'පුම්බන', 'කතාද': 'කතා', 'වේසියොයි': 'වේසියො', 'හුත්තක්': 'හුත්තක', 'පකයයි': 'පක', 'අන්දන්න': 'අන්දන්', 'කට්ටක්': 'කට්ටක', 'ඇන්දුනා': 'ඇන්දු', 'මෝඩයිනෙ': 'මෝඩයින', 'ඒකනෙ': 'ඒකන', 'අනාගෙන': 'අනාගෙ', 'හමන්': 'හමන', 'අතුත්': 'අතුත', 'දතුත්': 'දතුත', 'උබලගෙ': 'උබල', 'ඇක්ටින්': 'ඇක්ටින', 'නොහුකා': 'නොහු', 'මෙලහට': 'මෙලහ', 'පිළිගත්තා': 'පිළිගත්ත', 'ඕනෑනම්': 'ඕනෑනම', 'නෑලු': 'නෑල', 'යනවලු': 'යනවල', 'අම්': 'අම', 'ස්ක්රිප්ට්': 'ස්ක්රිප්ට', 'නකියො': 'නකිය', 'ඇක්ක': 'ඇක්', 'බුදියලා': 'බුදිය', 'මොඩයො': 'මොඩය', 'ගොනට': 'ගොන', 'අන්දලා': 'අන්ද', 'මෙවාගේ': 'මෙවා', 'චනල්': 'චනල', 'චෙනල්': 'චෙනල', 'හොය': 'හො', 'රරසිද්ද': 'රරසිද්', 'විසෙසද': 'විසෙස', 'ඉන්ග්': 'ඉන්ග', 'එහෙන්': 'එහෙන', 'මෙහෙන්': 'මෙහෙන', 'දාන්නා': 'දාන්', 'පුල්වන්': 'පුල්වන', 'ඉන්ගිලීසියෙන්ම': 'ඉන්ගිලීසියෙන්', 'සින්හලෙන්ම': 'සින්හලෙන්', 'කියාපන්': 'කියාපන', 'රගන්': 'රගන', 'සමනලයා': 'සමනල', 'අල්ලාගෙන': 'අල්ලාගෙ', 'ගහගත්තේ': 'ගහගත්ත', 'බල්ලිට': 'බල්ලි', 'පියුම්': 'පියුම', 'belliට': 'belli', 'දීපන්කෝ': 'දීපන්ක', 'හැමනෙන': 'හැමනෙ', 'නෙදකින්': 'නෙදකින', 'දැනගෙන': 'දැනගෙ', 'සික්කේ': 'සික්', 'හිටුකෝ': 'හිටුක', 'ඕකී': 'ඕ', 'අහිංසකයි': 'අහිංසක', 'ගැලපෙන්නේ': 'ගැලපෙ', 'ඒකා': 'ඒ', 'උබලත්': 'උබලත', 'අතල්': 'අතල', 'මනසික': 'මනසි', 'ලමුන්': 'ලමුන', 'අත්මයක්': 'අත්මයක', 'ලැබෙද': 'ලැබෙ', 'හෙනේ': 'හෙන', 'දෙලොවටම': 'දෙලොව', 'අපතයොන්ව': 'අපතයොන්', 'පිලිගන්න': 'පිලිගන්', 'පරපුරක්': 'පරපුරක', 'බිහිවීමයි': 'බිහිවීම', 'ගෑණී': 'ගෑණ', 'ඉදිද්දී': 'ඉදි', 'අරුම': 'අරු', 'තුන්දෙනාගේ': 'තුන්දෙනා', 'ඇමරිකාවට': 'ඇමරිකාව', 'බේරෙනවා': 'බේරෙ', 'කෝමද': 'කෝම', 'කඩන්න': 'කඩන්', 'වෙසියෙ': 'වෙසි', 'තො': 'ත', 'බැන්දෙ': 'බැන්ද', 'ඔකත්': 'ඔකත', 'කරාට්': 'කරාට', 'මරාට්': 'මරාට', 'වරෙල්ලා': 'වරෙ', 'ටහුකන්න': 'ටහුකන්', 'හුත්තිගේ': 'හුත්ති', 'සත්තූ': 'සත්ත', 'දන්නව': 'දන්න', 'අහුවෙයන්': 'අහුවෙයන', 'ගනිකාවෝ': 'ගනිකා', 'ගෙන්නන්න': 'ගෙන්නන්', 'මේකි': 'මේ', 'අරු': 'අර', 'අහගෙන': 'අහගෙ', 'මේකිව': 'මේකි', 'කමේ': 'ක', 'යවලා': 'යව', 'හම්බකරන්': 'හම්බකරන', 'අවතාරයක්': 'අවතාරයක', 'ගහයිද': 'ගහයි', 'අතේ': 'අත', 'වේසියෝ': 'වේසි', 'නොයිස්ලටත්': 'නොයිස්ලටත', 'ඕන්නැති': 'ඕන්නැ', 'පඩත්තරයක්': 'පඩත්තරයක', 'වේසකන්': 'වේසකන', 'හොයනවා': 'හොය', 'කියන්නෙත්': 'කියන්නෙත', 'කාරයෙක්නෙ': 'කාරයෙක්න', 'කසාදයක්වත්': 'කසාදයක්වත', 'උනාද': 'උනා', 'අනුන්ගෙ': 'අනුන්', 'හොයාගන්නවා': 'හොයාගන්', 'පෙන්වනවට': 'පෙන්වනව', 'අයිසේ': 'අයිස', 'හාලා': 'හා', 'අස්වැන්නක්': 'අස්වැන්නක', 'තූතූ': 'තූත', 'කවුශියි': 'කවුශි', 'සලකන්න': 'සලකන්', 'හරක්ගෙ': 'හරක්', 'රශ්නම': 'රශ්න', 'ගොසිප්': 'ගොසිප', 'දිපන්කො': 'දිපන්ක', 'විඩියො': 'විඩිය', 'වදේ': 'වද', 'සුභපතනවා': 'සුභපත', 'අනාගතයට': 'අනාගතය', 'බිහීවෙලා': 'බිහීවෙ', 'තියේන': 'තියේ', 'ගොඩදාන්න': 'ගොඩදාන්', 'උබලාවගේ': 'උබලාව', 'දකශයන්ට': 'දකශයන්', 'නදීමාල්': 'නදීමාල', 'දිල්මීන්': 'දිල්මීන', 'දක්ශයෝ': 'දක්ශ', 'සීයියල්ලා': 'සීයිය', 'නමත්': 'නමත', 'ඉහලින්ම': 'ඉහලින්', 'තියපන්': 'තියපන', 'කඳුලු': 'කඳුල', 'පෙරන්': 'පෙරන', 'බූට්': 'බූට', 'සමපුර්නයෙන්ම': 'සමපුර්නයෙන්', 'වැටුනා': 'වැටු', 'දවසෙන්': 'දවසෙන', 'ගන්නවමයි': 'ගන්නවම', 'අදටත්': 'අදටත', 'කරලත්': 'කරලත', 'මිහිදු': 'මිහිද', 'තමුන්ගේ': 'තමුන්', 'බැදපු': 'බැද', 'කියනකන්': 'කියනකන', 'ගෑනිද': 'ගෑනි', 'හුත්තලා': 'හුත්ත', 'රගනවා': 'රග', 'තාත්තලාගේ': 'තාත්තලා', 'පෙන්නනවා': 'පෙන්න', 'පුටුවට': 'පුටුව', '000ක්': '000ක', 'පූකේ': 'පූ', 'අප්ඩේට්': 'අප්ඩේට', 'බිල': 'බි', 'ගෙවාගන්නෙ': 'ගෙවාග', 'පොල්': 'පොල', 'ආත්මෙ': 'ආත්ම', 'කපුටො': 'කපුට', 'පරන': 'පර', 'පොටො': 'පොට', 'අවුස්සන්නෙ': 'අවුස්ස', 'හැදිගෑවෙවා': 'හැදිගෑවෙ', 'පෙරලියන්': 'පෙරලියන', 'හෙනගහනවා': 'හෙනගහ', 'ඔකුන්ගෙ': 'ඔකුන්', 'පරම්පරා': 'පරම්පර', 'කන්ට': 'කන්', 'වෙලිලා': 'වෙලි', 'මැරියල්ලා': 'මැරිය', 'ඔකුම්': 'ඔකුම', 'හොටෙල්': 'හොටෙල', 'හොට්ඩෝග්': 'හොට්ඩෝග', 'මැද්දට': 'මැද්ද', 'සෝයාමීට්': 'සෝයාමීට', 'ඉලලන්නෙ': 'ඉලල', 'පඩියටත්': 'පඩියටත', 'කොටින්ට': 'කොටින්', 'දිවියෙකු': 'දිවියෙ', 'දැමු': 'දැ', 'ටුවිටරේ': 'ටුවිටර', 'වින්දනේ': 'වින්දන', 'යෙදෙන': 'යෙදෙ', 'පරිස්සමින්': 'පරිස්සමින', 'ලයිට්': 'ලයිට', 'එනකම': 'එනක', 'අකුනු': 'අකු', 'හලා': 'හ', 'ටිප්': 'ටිප', 'දිසාපාමොක්': 'දිසාපාමොක', 'කොල්ලොන්ගෙ': 'කොල්ලොන්', 'කලමණාකරනය': 'කලමණාකරන', 'කාලකණ්ණිම': 'කාලකණ්ණි', 'හීනෙන්': 'හීනෙන', 'මහතායි': 'මහතා', 'යකු': 'ය', '99ක්': '99ක', '4ට': '4', 'රෙද්දකුත්': 'රෙද්දකුත', '2කක': '2ක', 'උසාවියෙන්': 'උසාවියෙන', 'වෙනකන්': 'වෙනකන', 'නහය': 'නහ', 'බැන්නේ': 'බැ', 'ළමුන්ට': 'ළමුන්', 'ටොෆිට': 'ටොෆි', 'ඔබගෙ': 'ඔබ', 'පසුම්බියෙන්': 'පසුම්බියෙන', '10ක්': '10ක', 'අඩුවීම': 'අඩුවී', 'ජන්ගම': 'ජන්ග', 'දුරකථනයෙන්': 'දුරකථනයෙන', 'පාඩුවක්': 'පාඩුවක', 'හැක': 'හැ', 'පේස්': 'පේස', 'බුක්': 'බුක', 'ඉස්ටේටස්': 'ඉස්ටේටස', 'ඔයාලටත්': 'ඔයාලටත', 'වහිනවා': 'වහි', 'ලැයික්': 'ලැයික', 'හදිස්සියට': 'හදිස්සිය', 'ආන්සර්': 'ආන්සර', 'මහේල': 'මහේ', 'ජයවර්දන': 'ජයවර්ද', 'පිස්සුද': 'පිස්සු', 'අයෙ': 'අ', 'වරෙන්කො': 'වරෙන්ක', 'ගාවට': 'ගාව', 'ගහනඑක': 'ගහනඑ', 'පැලෙන්නම': 'පැලෙන්න', 'සැපයි': 'සැප', 'ගහපිය': 'ගහ', 'මනමාලියෙ': 'මනමාලි', 'යහන': 'යහ', 'කොහෙදෝ': 'කොහෙද', 'හිපාටු': 'හිපාට', 'ආමරුවෙන්': 'ආමරුවෙන', 'පෑලෑන්': 'පෑලෑන', 'බාගයක්': 'බාගයක', 'හොරෙන්ම': 'හොරෙන්', 'අප්ඩෙට්': 'අප්ඩෙට', 'අපරාදයක්': 'අපරාදයක', 'අපාරාදෙ': 'අපාරාද', 'හෙනෙ': 'හෙන', 'ආපෝ': 'ආප', 'පැටව්': 'පැටව', 'අස්සෙත්': 'අස්සෙත', 'ජතියක්': 'ජතියක', 'පකෙ': 'ප', 'වෙසියො': 'වෙසිය', 'හිතපන්': 'හිතපන', 'හිතපල්ලා': 'හිත', 'කලකන්නි': 'කලකන්', 'පොලොවටත්': 'පොලොවටත', 'බරක්': 'බරක', 'උබලාත්': 'උබලාත', 'හද්ද': 'හද්', 'ජතියට': 'ජතිය', 'අදරෙ': 'අදර', 'හිවලුන්ගෙන්': 'හිවලුන්ගෙන', 'මෙකි': 'මෙ', 'කිම්': 'කිම', 'කාර්දේෂන්': 'කාර්දේෂන', 'එකටම': 'එක', 'රැපා': 'රැප', 'චූන්': 'චූන', 'බඩුයී': 'බඩුය', 'කුඩ්ඩොයී': 'කුඩ්ඩොය', 'හොදයිනෙ': 'හොදයින', 'තට්ටුව': 'තට්ටු', 'දුන්නාම': 'දුන්නා', 'රැපියල්': 'රැපියල', '500ක්': '500ක', 'දුන්නානමි': 'දුන්නාන', 'අවුරුද්දේ්': 'අවුරුද්දේ', 'හොරකන්': 'හොරකන', 'දෙනව': 'දෙන', 'හදා': 'හද', 'කියමුකෝ': 'කියමුක', 'හරිනේ': 'හරින', 'ඔකනම්': 'ඔකනම', 'පුදින්න': 'පුදින්', 'ලොකයාට': 'ලොකයා', 'සද': 'ස', 'පෙරලපු': 'පෙරල', 'මෝරු': 'මෝර', 'ගහකට': 'ගහ', 'මොකට': 'මො', 'මනෙ': 'මන', 'වාරු': 'වාර', 'හරිනම්': 'හරිනම', 'දෙන්නෙත්': 'දෙන්නෙත', 'ජතිය': 'ජති', 'කෙලෙසන': 'කෙලෙස', 'අනිවාර්': 'අනිවාර', 'කිරිකට්': 'කිරිකට', 'දේවල්නෙ': 'දේවල්න', 'සුපුරුදු': 'සුපුරුද', 'විලාසයට': 'විලාසය', 'නැවතත්': 'නැවතත', 'රත්තරනේ': 'රත්තරන', 'ආරක්ෂාවයි': 'ආරක්ෂාව', 'ගොන්බදිනකනු': 'ගොන්බදිනක', 'තහනමක්': 'තහනමක', 'ජනාධිපතිට': 'ජනාධිපති', 'විචාරණයක්': 'විචාරණයක', 'පැවැත්වීමේ': 'පැවැත්වී', '42ක්': '42ක', 'ආසන': 'ආස', 'ජන්ද': 'ජන්', '58ක්': '58ක', 'නායකකම': 'නායකක', 'මෙතුමගෙ': 'මෙතුම', 'රිදිලා': 'රිදි', 'එලෙව්වට': 'එලෙව්ව', 'මුත්': 'මුත', 'සමණළයේක්ද': 'සමණළයේක්', 'කොහෙද': 'කොහෙ', 'පුකේ': 'පුකෙ', 'ගහගනින්': 'ගහගනින', 'මැතිතුමාත්': 'මැතිතුමාත', 'අර්ථවත්': 'අර්ථවත', 'එතුමාගේ': 'එතුමා', 'ෆීල්ඩ්': 'ෆීල්ඩ', 'මාර්ෂල්': 'මාර්ෂල', 'අලුයම': 'අලුය', 'ලූ': 'ල', 'පිඬක්': 'පිඬක', 'ලබාදුන්': 'ලබාදුන', 'ජනාධිපතිටම': 'ජනාධිපති', 'රිටර්න්': 'රිටර්න', 'කරනවාලු': 'කරනවාල', 'යාලුවෙක්': 'යාලුවෙක', 'කුට්ටිය': 'කුට්ටි', 'කැමරා': 'කැමර', 'සැලුට්': 'සැලුට', 'එකකුත්': 'එකකුත', 'ගහක': 'ගහ', 'කඩුවනම්': 'කඩුවනම', 'කොලයක්': 'කොලයක', 'නෙමේයි': 'නෙමේ', 'ගහයි': 'ගහ', 'කෙනෙකුගේ': 'කෙනෙ', 'ඊයෙ': 'ඊ', 'පිටිපස්සෙ': 'පිටිපස්ස', 'මැකැනික්': 'මැකැනික', 'ඇනයක්': 'ඇනයක', 'හාඩ්වෙයාර්': 'හාඩ්වෙයාර', 'යනගමන්': 'යනගමන', 'ඇදල': 'ඇද', 'ඇඹරෙන්න': 'ඇඹරෙන්', 'කියහන්කො': 'කියහන්ක', 'අහනව': 'අහන', 'මහත්තය': 'මහත්ත', 'වැඩකරන්නෙ': 'වැඩකර', 'අලුතින්': 'අලුතින', 'මෑන්ස්': 'මෑන්ස', 'ලිව්වෙ': 'ලිව්', 'මහිංදානන්දගෙ': 'මහිංදානන්ද', 'පුතාටත්': 'පුතාටත', 'කරාද': 'කරා', 'ඉරිසියාව': 'ඉරිසියා', 'හැමතිස්සෙම': 'හැමතිස්සෙ', 'කියවනව': 'කියවන', 'රාඩෝ': 'රාඩ', 'ලැම්බො': 'ලැම්බ', 'තේරෙනවද': 'තේරෙනව', 'මගුලක්': 'මගුලක', 'පොලිස්කාරයො': 'පොලිස්කාරය', 'වාහනවලට': 'වාහනවල', 'මතකතියාගනිල්ල': 'මතකතියාගනිල්', 'මහත්තුරු': 'මහත්තුර', 'ඉතුරුවෙලා': 'ඉතුරුවෙ', 'ලැම්බොගිනි': 'ලැම්බොගි', 'කාරයට': 'කාරය', 'බැන්නම': 'බැන්න', 'රිදෙන': 'රිදෙ', 'ගොන්ස්ල': 'ගොන්ස්', 'තොටේ': 'තොට', 'ඇවිදල': 'ඇවිද', 'පොලිස්කාරයෙක්': 'පොලිස්කාරයෙක', 'රාජපක්ෂමැතිතුමාට': 'රාජපක්ෂමැතිතුමා', 'බලපල්ලා': 'බල', 'ජන්මයක්': 'ජන්මයක', 'ඇතිනේ': 'ඇතින', 'එකපාරටම': 'එකපාර', 'ලැම්බෝගිනී': 'ලැම්බෝගින', 'කීවොත්': 'කීවොත', 'බනින්නේ': 'බනි', 'කීවම': 'කීව', 'කට්ටියට': 'කට්ටිය', 'අම්මො': 'අම්ම', 'ඩික්සිත්': 'ඩික්සිත', 'බන්ඩගේ': 'බන්ඩ', 'දේනේ': 'දේන', '75ක්': '75ක', 'වටවෙලා': 'වටවෙ', 'මැජික්': 'මැජික', '1ක්': '1ක', 'මාමි': 'මා', 'පැක්': 'පැක', 'අය්යෙ': 'අය්', 'ගෙදෙට්ට': 'ගෙදෙට්', 'ඔවාලා': 'ඔවා', 'කපන්': 'කපන', 'පුතාලද': 'පුතාල', 'නිළධාරියෙක්': 'නිළධාරියෙක', 'මහින්දානන්දගෙ': 'මහින්දානන්ද', 'පුතන්ඩියව': 'පුතන්ඩිය', 'හිතපන්කො': 'හිතපන්ක', 'බේබිල': 'බේබි', 'ම්හත්තය': 'ම්හත්ත', 'යාපනේ': 'යාපන', 'වීමකුත්': 'වීමකුත', 'එක්කම': 'එක්ක', 'මන්දමානසික': 'මන්දමානසි', 'කෝලමේ': 'කෝල', 'අතිසාර්තක': 'අතිසාර්ත', 'රංගනයක': 'රංගනය', 'ඔෆිසර්': 'ඔෆිසර', 'බුදුසර්': 'බුදුසර', 'ඔනම': 'ඔන', 'අපබ්': 'අපබ', 'ජනධිපතිගෙ': 'ජනධිපති', 'අවනම්': 'අවනම', 'සමවෙන්න': 'සමවෙන්', 'සමහරු': 'සමහර', 'ජනාදිපතිගෙ': 'ජනාදිපති', 'නවත්තන්නෙත්': 'නවත්තන්නෙත', 'හුකන්නල': 'හුකන්න', 'සම්පූර්න': 'සම්පූර්', 'නොදා': 'නොද', 'ඔයිට්': 'ඔයිට', 'විසඳන්න': 'විසඳන්', 'පතිගේ': 'පති', 'සැලියුට්': 'සැලියුට', 'වැඳලා': 'වැඳ', 'යවන්නේ': 'යව', 'ගියපු': 'ගිය', 'මෙතෙන්ට': 'මෙතෙන්', 'පමිණියේ': 'පමිණි', 'කියවීමටයි': 'කියවීමට', 'අවස්තා': 'අවස්ත', 'මෙසන්': 'මෙසන', 'බාස්': 'බාස', 'උත්': 'උත', 'බොද': 'බො', 'බැටෙක්': 'බැටෙක', 'ලකුනු': 'ලකු', 'ටොක්': 'ටොක', 'පකො': 'පක', 'මයීක්': 'මයීක', 'උදුරලා': 'උදුර', 'බැන්නෙ': 'බැ', 'තෝව': 'තෝ', 'චාටර්': 'චාටර', 'වෙනද': 'වෙන', 'හැබැයී': 'හැබැය', 'ආදරෙයී': 'ආදරෙය', 'තිබ්බෙ': 'තිබ්බ', 'රිකට': 'රි', 'විතරයී': 'විතරය', 'ඒකයී': 'ඒකය', 'ගහයී': 'ගහය', 'ගහපල්ල': 'ගහපල්', 'එච්චරයී': 'එච්චරය', 'දක්ශතා': 'දක්ශත', 'දුර්වලතාත්': 'දුර්වලතාත', 'ගුන': 'ගු', 'බනින්න': 'බනින්', 'බැනපු': 'බැන', 'වයපු': 'වය', 'ලන්කවේ': 'ලන්ක', 'රිඩකයන්ට': 'රිඩකයන්', 'දිනෙව්ව': 'දිනෙව්', 'කාංචනා': 'කාංච', 'ඉදිමෙන්න': 'ඉදිමෙන්', 'බිංදුවට': 'බිංදුව', 'ගනණාවක්': 'ගනණාවක', 'අසාර්ථක': 'අසාර්ථ', 'නවක': 'නව', 'දක්ශයෙකු': 'දක්ශයෙ', 'කණ්ඩායමේ': 'කණ්ඩාය', 'මතයේ': 'මත', 'යයක්': 'යයක', 'රහණය': 'රහණ', 'ගෙනගිය': 'ගෙනගි', 'මලයා': 'මල', 'හදාගන්නනෙ': 'හදාගන්නන', 'මැට්ටො': 'මැට්ට', 'පවතින්නෙ': 'පවති', 'රේක්ෂක': 'රේක්ෂ', 'ආදාරය': 'ආදාර', 'ආකර්ෂණයත්': 'ආකර්ෂණයත', 'ඉනිම්': 'ඉනිම', 'පපුවෙ': 'පපු', 'දුවන': 'දුව', 'පැරදුනාම': 'පැරදුනා', 'රේක්ෂකයන්ට': 'රේක්ෂකයන්', 'ලොකුකම්': 'ලොකුකම', 'මයික්': 'මයික', 'රෆෝනය': 'රෆෝන', 'වීවේචනය': 'වීවේචන', 'රේක්ශකයන්ට': 'රේක්ශකයන්', 'පැවරීමට': 'පැවරීම', 'දැන': 'දැ', 'පලමුව': 'පලමු', 'රීඩාකරන්නෙ': 'රීඩාකර', 'බෆලෝ': 'බෆල', 'රීලංකා': 'රීලං', 'බවය': 'බව', 'රටක්වත්': 'රටක්වත', 'තිබෙනවා': 'තිබෙ', 'නොදන්නා': 'නොදන්', 'කලක': 'කල', 'ලොවට': 'ලොව', 'හදුන්වා': 'හදුන්', 'නාමයක්': 'නාමයක', 'රීඩකයක්': 'රීඩකයක', 'දහසක්': 'දහසක', 'බාදා': 'බාද', 'නැගූ': 'නැග', 'රීඩාවක්': 'රීඩාවක', 'ජනතාවකට': 'ජනතාව', 'සැනසීමක්': 'සැනසීමක', 'ලබාදෙන': 'ලබාදෙ', 'ඇටයේ': 'ඇට', 'ඇසීමට': 'ඇසීම', 'සේම': 'සේ', 'අසාර්තක': 'අසාර්ත', 'එල්ලවන': 'එල්ලව', 'විවේචනයන්': 'විවේචනයන', 'භාරගැනීමටත්': 'භාරගැනීමටත', 'වන්න': 'වන්', 'කියන්නාක්': 'කියන්නාක', 'නොදන්න්වා': 'නොදන්න්', 'නාමයට': 'නාමය', 'නිසැකය': 'නිසැක', 'වසරක්': 'වසරක', 'ගන්නක්': 'ගන්නක', 'විටත්': 'විටත', 'රූපවාහිනි': 'රූපවාහි', 'තිරය': 'තිර', 'ඉදගන්නෙ': 'ඉදග', 'නිසාය': 'නිසා', 'වන්නෙ': 'ව', 'රහනය': 'රහන', 'දැකීමට': 'දැකීම', 'නොවේය': 'නොවේ', 'මිල': 'මි', 'යාන': 'යා', 'වරප්සාද': 'වරප්සා', 'නැතිය': 'නැති', 'රීතිය': 'රීති', 'සිහි': 'සි', 'තබාගන්න': 'තබාගන්', 'වගකීමක්': 'වගකීමක', 'රීකයන්ට': 'රීකයන්', 'අවස්තාව': 'අවස්තා', 'ඉනිම': 'ඉනි', 'ඕශදලා': 'ඕශද', 'ෆනෑන්ඩුලා': 'ෆනෑන්ඩු', 'දක්ශයින්ට': 'දක්ශයින්', 'වැසෙන': 'වැසෙ', 'වටහා': 'වටහ', 'මහේලද': 'මහේල', 'වරක': 'වර', 'පිටියෙන්': 'පිටියෙන', 'විවේකයක්': 'විවේකයක', 'ඔහුද': 'ඔහු', 'කියන්නට': 'කියන්න', 'නවතිමි': 'නවති', 'ඉනිමට': 'ඉනිම', 'පතමි': 'පත', 'ඉදිරියේදීද': 'ඉදිරියේදී', 'නිරන්තරයෙන්': 'නිරන්තරයෙන', 'දක්වනු': 'දක්ව', 'නැරඹීමට': 'නැරඹීම', 'හිදිමි': 'හිදි', 'අවසානයේ': 'අවසාන', 'රෝද': 'රෝ', 'වැකියකින්': 'වැකියකින', 'සටහන': 'සටහ', 'වැටෙනකොට': 'වැටෙනකො', 'රිදෙනවා': 'රිදෙ', 'පනටත්': 'පනටත', 'රේක්ශකයෙක්': 'රේක්ශකයෙක', 'අභිමානවත්': 'අභිමානවත', 'පාන්ද': 'පාන්', 'කි': '', 'රෑපවාහිනිය': 'රෑපවාහිනි', 'සිටියෙමි': 'සිටියෙ', 'රික්ට්': 'රික්ට', 'කන්ඩායමට': 'කන්ඩායම', 'ගැසූ': 'ගැස', 'සැණින්': 'සැණින', 'හතුරැසිංහට': 'හතුරැසිංහ', 'අයුරැදු': 'අයුරැද', 'අප්පිරියාවෙන්': 'අප්පිරියාවෙන', 'මල්ලී': 'මල්ල', 'නරඹන': 'නරඹ', 'බහුතරකය්': 'බහුතරකය', 'නොදනී': 'නොදන', 'නිවසින්ම': 'නිවසින්', 'පෙන්වා': 'පෙන්', 'ලෝලියෙකි': 'ලෝලියෙ', 'ඕවරයට': 'ඕවරය', 'ගණනවත්': 'ගණනවත', 'තරගයක්': 'තරගයක', 'ගැහුවද': 'ගැහුව', 'දිනුම්': 'දිනුම', 'අර්ජුන': 'අර්ජු', 'අරවින්ද': 'අරවින්', 'කී්': 'කී', 'යද': 'ය', 'අවුට්': 'අවුට', 'වුනාද': 'වුනා', 'කොලුවා': 'කොලු', 'කඵවිතාරන': 'කඵවිතාර', 'රෑපවාහිනියට': 'රෑපවාහිනිය', 'එබෙමින්': 'එබෙමින', 'අසන්නීය': 'අසන්නී', 'නොකියා': 'නොකි', 'රීකඩයන්ගේ': 'රීකඩයන්', 'නමින්': 'නමින', 'හදුවන්නී': 'හදුව', 'කියූ': 'කිය', 'පරිද': 'පරි', 'නොදන්නී': 'නොද', 'ඩක්වරත්': 'ඩක්වරත', 'ලුවිස්': 'ලුවිස', 'නෙට්': 'නෙට', 'රෙට්': 'රෙට', 'බෝලින්': 'බෝලින', 'පිව්': 'පිව', 'බැටින්': 'බැටින', 'විකට්': 'විකට', 'හෝකායි': 'හෝකා', 'සිස්ට්ම': 'සිස්ට්', 'තර්ඩ්': 'තර්ඩ', 'අප්පයර්': 'අප්පයර', 'රිවිච්': 'රිවිච', 'මැජික්ය': 'මැජික්', 'වන්නීය': 'වන්නී', 'යන්නී': 'ය', 'කෙනාම': 'කෙනා', 'සී්': 'සී', 'මාවන්': 'මාවන', 'අතපත්තු': 'අතපත්ත', 'දුරින්': 'දුරින', 'කියමින්': 'කියමින', 'පම්පොර්ද': 'පම්පොර්', 'ගසන්නී': 'ගස', 'බිංදු': 'බිංද', 'කරන්නී': 'කර', 'දැනුමේ': 'දැනු', 'පරිමාවයි': 'පරිමාව', 'දක්වන්නේ': 'දක්ව', 'රීඩාව': 'රීඩා', 'බහුතරයකට': 'බහුතරය', 'ලකුණූ': 'ලකුණ', 'කීපයක්': 'කීපයක', 'සුද්දාගෙන්': 'සුද්දාගෙන', 'රෙපා්නය': 'රෙපා්න', 'උදුරැගෙන': 'උදුරැගෙ', 'අපහසා': 'අපහස', 'රීඩාලෝලීන්ට': 'රීඩාලෝලීන්', 'සංගීතය': 'සංගීත', 'හුදනා': 'හුද', 'රගපෑම': 'රගපෑ', 'නොදන්නෙමු': 'නොද', 'විත්': 'විත', 'රපටයක්': 'රපටයක', 'විදිමට': 'විදිම', 'එලෙසින්ම': 'එලෙසින්', 'රකිකට්': 'රකිකට', 'ගැනද': 'ගැන', 'ලෝකු': 'ලෝ', 'දාන්නට': 'දාන්න', 'ලනුවෙන්': 'ලනුවෙන', 'එපිට': 'එපි', 'නගන්නට': 'නගන්න', 'රමාණවත්': 'රමාණවත', 'දැවී': 'දැව', 'හැමදාකම': 'හැමදාක', 'තරගයේදී': 'තරගයේද', 'ගසාවියැයි': 'ගසාවියැ', 'ඇරන්': 'ඇරන', 'සිටියෙමු': 'සිටියෙ', 'බිල්': 'බිල', 'කරගනෙ': 'කරගන', 'මෙරට': 'මෙර', 'දැමුවෙමු': 'දැමුවෙ', 'හොදය': 'හොද', 'වේලාවට': 'වේලාව', 'කලදක්': 'කලදක', 'පරිවර්තකයා': 'පරිවර්තක', 'පරිවරතනය': 'පරිවරතන', 'සුද්දන්': 'සුද්දන', 'බැලීමට': 'බැලීම', 'වන්නට': 'වන්න', 'කකුල': 'කකු', 'හැදු': 'හැද', 'අයියාත්': 'අයියාත', 'ඔස්තාර්ලා': 'ඔස්තාර්', 'සර්ත්': 'සර්ත', 'ගන්නම්': 'ගන්නම', 'ලෝලී': 'ලෝල', 'පාර්ශ්වයක්': 'පාර්ශ්වයක', 'පිඩනයක්': 'පිඩනයක', 'දරාගන්න': 'දරාගන්', 'පින්තූරයේ': 'පින්තූර', 'වාස්': 'වාස', 'ශේෂ්ඨයන්ගෙන්': 'ශේෂ්ඨයන්ගෙන', 'බොන්නත්': 'බොන්නත', 'දීපියව්': 'දීපියව', 'ජාතියගෙ': 'ජාතිය', 'රීගෙන': 'රීගෙ', 'වගෙනේ': 'වගෙන', 'දුවන්වටනේ': 'දුවන්වටන', 'එක්කට': 'එක්', 'ගෙවනකොට': 'ගෙවනකො', 'අපිනේ': 'අපින', 'රෙක්ෂකයයෝ': 'රෙක්ෂකය', 'හින්දද': 'හින්ද', 'බිඳු': 'බිඳ', 'චන්දිමාල්': 'චන්දිමාල', 'එකක්ක්': 'එකක්ක', 'රීමා': 'රීම', 'නූල්ඩ්ස්': 'නූල්ඩ්ස', 'නජිත්': 'නජිත', 'ණයට': 'ණය', 'මූනට': 'මූන', 'හින්දයි': 'හින්ද', 'නය': 'න', 'ගෙවපන්': 'ගෙවපන', 'කුසල්ට': 'කුසල්', 'වහේ': 'වහ', 'දක්ශතාවයෙන්': 'දක්ශතාවයෙන', 'දෙනවනේ': 'දෙනවන', 'දිනුවේ': 'දිනු', 'ෆලෝව්': 'ෆලෝව', 'අප්පට': 'අප්ප', 'හැමිනෙන්නැතිව': 'හැමිනෙන්නැති', 'එකකම': 'එකක', 'ගැස්සුවත්': 'ගැස්සුවත', 'එදාටත්': 'එදාටත', 'විදිහක්': 'විදිහක', 'මෙන්ඩිස්ව': 'මෙන්ඩිස්', 'පේස්බුක්': 'පේස්බුක', 'ඔස්තාර්ලට': 'ඔස්තාර්ල', 'හොඳටම': 'හොඳ', 'රිදී': 'රිද', 'උට': 'උ', 'දාරා': 'දාර', 'සීමාවක්': 'සීමාවක', 'සංගලා': 'සංග', 'මහේලලා': 'මහේල', 'මීඩියා': 'මීඩි', 'සෝශල්': 'සෝශල', 'වැඩිම': 'වැඩි', 'අපහසයට': 'අපහසය', 'රාකාරව': 'රාකාර', 'රිඩකයෝ': 'රිඩක', '10ට': '10', '50ක්': '50ක', 'ගැහුවම': 'ගැහුව', 'සෙල්ලන්': 'සෙල්ලන', 'හදාගනින්': 'හදාගනින', 'දන්නේම': 'දන්නේ', 'ඉදී': 'ඉද', 'ඉරිසියා': 'ඉරිසි', 'සෙල්ලමක්ම': 'සෙල්ලමක්', 'ලෝකෙම': 'ලෝකෙ', 'නාලිකා': 'නාලි', 'වටයි': 'වට', 'දැමිමෙ': 'දැමිම', 'එලඑල': 'එලඑ', 'එවුනුයි': 'එවුනු', 'රගන්නෙ': 'රග', 'නිශ්ශබ්දතාවක්': 'නිශ්ශබ්දතාවක', 'බැන්න': 'බැන්', 'වැටෙනවා': 'වැටෙ', 'කරීඩකයො': 'කරීඩකය', 'රීඩකයො': 'රීඩකය', 'හීනයක්': 'හීනයක', '25ක්': '25ක', 'සෙන්චරියක්': 'සෙන්චරියක', 'රෑක්න්': 'රෑක්න', 'වැටිල': 'වැටි', 'උබලම': 'උබල', 'ප්ලේ': 'ප්ල', 'දිනවල': 'දිනව', 'මයියා': 'මයි', 'භූමියේ': 'භූමි', 'වේද': 'වේ', 'හාංදුරුනේ': 'හාංදුරුන', 'පාගපු': 'පාග', 'ලොවටම': 'ලොව', 'මයේ': 'ම', 'අප්පලා': 'අප්ප', 'තරගේම': 'තර', 'දිනන්න': 'දිනන්', 'පැරදුනානම්': 'පැරදුනානම', 'උනන්දුවෙන්': 'උනන්දුවෙන', 'සෙල්ලම්කරනානම්': 'සෙල්ලම්කරනානම', 'ඔයාලත්': 'ඔයාලත', 'හැදුනෙ': 'හැදුන', 'හදපල්ලකො': 'හදපල්ලක', 'රිස්': 'රිස', 'ගේල්': 'ගේල', 'කරුමේ': 'කරු', 'කොච්ගේ': 'කොච්', 'මිරිකුවේ': 'මිරිකු', 'බින්දු': 'බින්ද', 'පෝලිමක්': 'පෝලිමක', 'ඉදිරියේදී': 'ඉදිරියේද', '100ට': '100', 'හිකෙන්න': 'හිකෙන්', 'දොඩවනවා': 'දොඩව', 'කියවන්ට': 'කියවන්', 'ගහනවට': 'ගහනව', 'මෙච්චරකල්': 'මෙච්චරකල', 'රත්උනාම': 'රත්උනා', 'යකඩෙ': 'යකඩ', 'තැලෙන්නෙ': 'තැලෙ', 'තැලුනොත්': 'තැලුනොත', 'පන්නරේ': 'පන්නර', 'නවතම': 'නවත', 'සහාය': 'සහා', 'මයිගෙ': 'මයි', 'පාරවල්': 'පාරවල', 'සිංදුවේ': 'සිංදු', 'අවේ': 'අ', 'නුරාවී': 'නුරාව', 'ඕඩියෝ': 'ඕඩි', 'වෙන්නෙම': 'වෙන්නෙ', 'ෆීල්': 'ෆීල', 'ලොවෙත්': 'ලොවෙත', 'මැවෙනව': 'මැවෙන', 'වීඩීයෝ': 'වීඩී', 'මෙහෙව්': 'මෙහෙව', 'කොටන්නෙත්': 'කොටන්නෙත', 'ගේමු': 'ගේ', 'කොනට': 'කොන', 'සිංදුවෙ': 'සිංදු', 'බස්සල': 'බස්ස', 'හැදුනු': 'හැදු', 'අවුරුද්දෙ': 'අවුරුද්ද', 'හෑන්ඩ්ෆ්': 'හෑන්ඩ්ෆ', 'ගහන්': 'ගහන', 'මීට්': 'මීට', 'බහින්නවත්': 'බහින්නවත', 'අජූතයි': 'අජූත', 'රසය': 'රස', 'කටහඩක්': 'කටහඩක', 'බැලුවෙ': 'බැලු', 'එහෙම්මම': 'එහෙම්ම', 'වැටුනම': 'වැටුන', 'බිදෙනව': 'බිදෙන', 'නොබල': 'නොබ', 'රසවිදීන්න': 'රසවිදීන්', 'ඔලුවෙම': 'ඔලුවෙ', 'ගැලපෙනම': 'ගැලපෙන', 'හොඳම': 'හොඳ', 'සින්දුවෙ': 'සින්දු', 'තිබුනා': 'තිබු', 'සුපිරිම': 'සුපිරි', 'ගස්සා': 'ගස්ස', 'වැස්සා': 'වැස්ස', 'බැලුනාද': 'බැලුනා', 'මංදා': 'මංද', 'ඉබේ': 'ඉබ', 'ෆට්ට': 'ෆට්', 'විඩ්යෝ': 'විඩ්', 'ඇහුනේ': 'ඇහුන', 'වෙනකල්': 'වෙනකල', 'තියෙන්නී': 'තියෙ', 'කරගත්තේ': 'කරගත්ත', 'සින්දුවත්': 'සින්දුවත', 'නංගිත්': 'නංගිත', 'ලැම්බෝගිනි': 'ලැම්බෝගි', 'රථයක්': 'රථයක', 'ලොක්කෙක්': 'ලොක්කෙක', 'බුකිය': 'බු', 'කළඹපු': 'කළඹ', 'කතාවේ': 'කතා', 'වීඩියෝව': 'වීඩියෝ', 'රටපුරා': 'රටපුර', 'වෙනවානම්': 'වෙනවානම', 'ඇල්ලුවම': 'ඇල්ලුව', 'අල්ලපන්ලු': 'අල්ලපන්ල', 'විතරලු': 'විතරල', 'හැමූම': 'හැමූ', 'ඉස්සුවේ': 'ඉස්සු', 'යාපනයට': 'යාපනය', 'වහනයක්': 'වහනයක', 'ඇරගෙන': 'ඇරගෙ', 'පාරේ': 'පාර', 'යකාගේ': 'යකා', 'ඉරනම': 'ඉරන', 'ලෝකයෙ': 'ලෝක', 'බලුම': 'බලු', 'පළාතේ': 'පළාත', 'ජීවයක්': 'ජීවයක', 'ඔස්වේ': 'ඔස්', 'මධ්': 'මධ', 'යස්ථානය': 'යස්ථාන', 'පෙරවරුවේ': 'පෙරවරු', 'කුසලානය': 'කුසලාන', 'නායක': 'නාය', 'රධානත්වයෙන්': 'රධානත්වයෙන', 'වල්ගම': 'වල්ග', 'රදේශයේදී': 'රදේශයේද', 'අය්යෝ': 'අය්', 'බඩත්': 'බඩත', 'රිදෙනෝ': 'රිදෙන', 'විහිලුද': 'විහිලු', 'ධම්මික': 'ධම්මි', 'පෙරේරාට': 'පෙරේරා', 'සබ්': 'සබ', 'කරගෙනම': 'කරගෙන', 'සුදුසුකම්ම': 'සුදුසුකම්', 'නෙවේද': 'නෙවේ', 'වැඩසටහන': 'වැඩසටහ', 'ඩිල්කා': 'ඩිල්', 'මනුස්සයාගේ': 'මනුස්සයා', 'දක්ශතාවයකට': 'දක්ශතාවය', 'වැඩ්ඩෙක්': 'වැඩ්ඩෙක', 'මනුස්සයාගෙන්': 'මනුස්සයාගෙන', 'ජිවිතේට': 'ජිවිතේ', 'කුහකයො': 'කුහකය', 'දම්මික': 'දම්මි', 'පෙරේරා': 'පෙරේර', 'මහත්මාට': 'මහත්මා', 'පුද්ගලයෙක්': 'පුද්ගලයෙක', 'මොළයක්': 'මොළයක', 'එකකින්ම': 'එකකින්', 'වැඩසටහන්': 'වැඩසටහන', 'කරනවනන්': 'කරනවනන', 'කාලයේ': 'කාල', 'මිනිස්': 'මිනිස', 'පරිඝනකය': 'පරිඝනක', 'දුවව': 'දුව', 'ටෝල්ක්': 'ටෝල්ක', 'බිකෝස්': 'බිකෝස', 'ගාඩ්': 'ගාඩ', 'දේෂපාලන': 'දේෂපාල', 'ඉල්ලුවත්': 'ඉල්ලුවත', 'නෙවෙයිද': 'නෙවෙයි', 'ආසයිනේ': 'ආසයින', 'බෑනෙ': 'බෑන', 'ඒකටත්': 'ඒකටත', 'පේටන්': 'පේටන', 'පෙරේරාගෙ': 'පෙරේරා', 'දේන්': 'දේන', 'කන්නද': 'කන්න', 'හොදකට': 'හොද', 'ජනදිපති': 'ජනදිප', 'වරනයට': 'වරනය', 'මොහු': 'මො', 'කැමතිඅය': 'කැමතිඅ', 'දමු': 'ද', 'රමානුකූලව': 'රමානුකූල', 'කසිනො': 'කසින', 'ව්දිය': 'ව්දි', 'සංවාද': 'සංවා', 'එතුමාට': 'එතුමා', 'චාපා': 'චාප', 'අහන්වා': 'අහන්', 'කකියනවෝ': 'කකියන', 'පයියාගල': 'පයියාග', 'රමයන්': 'රමයන', 'වෙලදපොල': 'වෙලදපො', 'රයෝජනවත්': 'රයෝජනවත', 'ජානාදිපති': 'ජානාදිප', 'ලොකේම': 'ලොකේ', 'ගුරු': 'ගුර', 'අහකට': 'අහ', 'වියාපාරිකයෝ': 'වියාපාරික', 'සල්ලිකාරයෝ': 'සල්ලිකාර', 'සර්ගෙන්': 'සර්ගෙන', 'ජිවිතයට': 'ජිවිතය', 'කථා': 'කථ', 'අවවාද': 'අවවා', 'රෝඩාවක්': 'රෝඩාවක', 'චතුරට': 'චතුර', 'පෙරේරගේ': 'පෙරේර', 'චරිතය': 'චරිත', 'ඔපදැමීමක්': 'ඔපදැමීමක', 'කෙනෙක්ට': 'කෙනෙක්', 'ගිනස්': 'ගිනස', 'වාර්තාවට': 'වාර්තාව', 'දියුණුව': 'දියුණු', 'ඉරිසිය': 'ඉරිසි', 'ජනාධිපතියා': 'ජනාධිපති', 'පිලිවෙල': 'පිලිවෙ', 'සිංහලෙන්ම': 'සිංහලෙන්', 'පුදුමයි': 'පුදුම', 'මොලයෙන්': 'මොලයෙන', 'රයෝජනයට': 'රයෝජනය', 'මොලයේ': 'මොල', 'සංජායන': 'සංජාය', 'රදේශයක්ම': 'රදේශයක්', 'සරු': 'සර', 'චමත්': 'චමත', 'පලිහපිටිය': 'පලිහපිටි', 'වත්කම': 'වත්ක', 'දෙගුණයකි': 'දෙගුණය', 'පුරවැසිභාවය': 'පුරවැසිභාව', 'ඇමරිකාවේ': 'ඇමරිකා', 'යාපාරිකයා': 'යාපාරික', 'මෙයාගෙ': 'මෙයා', 'සම්බන්දයක්': 'සම්බන්දයක', 'රෝහල්': 'රෝහල', 'අකුරටම': 'අකුර', 'තේරෙන්නේ': 'තේරෙ', 'අදම': 'අද', 'එයාටත්': 'එයාටත', 'මගේ': 'මගෙ', 'කලර්': 'කලර', 'භේදයක්': 'භේදයක', 'ඔයට': 'ඔය', 'තුමාම': 'තුමා', 'කොල්ලුපිටිය': 'කොල්ලුපිටි', 'බම්බලපිටිය': 'බම්බලපිටි', 'සමූහයයි': 'සමූහ', 'ගොඩනැගුවේ': 'ගොඩනැගු', 'යවසායකින්': 'යවසායකින', 'කූට': 'කූ', 'වෙලදපල': 'වෙලදප', 'ආයතන': 'ආයත', 'මිලදී': 'මිලද', 'පදනම්': 'පදනම', 'ඔබතුමාගේ': 'ඔබතුමා', 'ඒවායේ': 'ඒවා', 'කෙසේද': 'කෙසේ', 'උපක්': 'උපක', 'රමයකින්ද': 'රමයකින්', 'පහදා': 'පහද', 'දෙනවාද': 'දෙනවා', 'දිලිත්': 'දිලිත', 'ජයවීරවගෙ': 'ජයවීරව', 'ඩීල්': 'ඩීල', 'ආර්ථිකය': 'ආර්ථික', 'සංවර්ධනය': 'සංවර්ධන', 'මෙතුමාගේ': 'මෙතුමා', 'යුද්දය': 'යුද්ද', 'රශ්නයට': 'රශ්නය', 'පිලිතුරෙන්ම': 'පිලිතුරෙන්', 'ආටිෆිශියල්': 'ආටිෆිශියල', 'ඉන්ටර්ලිජන්ට්': 'ඉන්ටර්ලිජන්ට', 'පොලීසියටත්': 'පොලීසියටත', 'රමයකින්': 'රමයකින', 'අනුමාන': 'අනුමා', 'අර්බුදයකට': 'අර්බුදය', 'මුහුණ': 'මුහ', 'පාන්නයි': 'පාන්න', 'විදේශීය': 'විදේශී', 'අයටයි': 'අයට', 'මෙතුමා': 'මෙතුම', 'ජෑම්': 'ජෑම', 'ලොකෙටම': 'ලොකෙ', 'සෙවය': 'සෙව', 'අසයි': 'අස', 'හදමු': 'හද', 'කරවන': 'කරව', 'ලමයිටවත්': 'ලමයිටවත', 'තත්වයක්': 'තත්වයක', 'තරන්': 'තරන', 'අශීලාචාරයි': 'අශීලාචාර', 'අවොත්': 'අවොත', 'තුමත්': 'තුමත', 'සාමි': 'සා', 'ආයිමත්': 'ආයිමත', 'රහ්ම': 'රහ්', 'රහස්': 'රහස', 'දෙවෙනි': 'දෙවෙ', 'වතාවට': 'වතාව', 'සටහකින්': 'සටහකින', 'ජීවන': 'ජීව', 'චතුරයි': 'චතුර', 'දම්මිකයි': 'දම්මික', 'කටපාඩම්': 'කටපාඩම', 'විකටයෝ': 'විකට', 'පලල': 'පල', 'පුරාජේරු': 'පුරාජේර', 'දොඩවන්නේ': 'දොඩව', 'විනාසේ': 'විනාස', 'හරස්': 'හරස', 'කඩක්': 'කඩක', 'නැගෙන': 'නැගෙ', 'ලාංකීය': 'ලාංකී', 'විජේවර්ධන': 'විජේවර්ධ', 'ගැනලොකු': 'ගැනලො', 'යාපාරික': 'යාපාරි', 'පවුර්ෂයක්': 'පවුර්ෂයක', 'ගවුරවයක්': 'ගවුරවයක', 'නත්තල': 'නත්ත', 'දුගියා': 'දුගි', 'දාය': 'දා', 'පන්සලේ': 'පන්සල', 'පියතුමා': 'පියතුම', 'මර්සිලින්': 'මර්සිලින', 'සරදියෙල්': 'සරදියෙල', 'රතිරූපයක්': 'රතිරූපයක', 'අර්තර්': 'අර්තර', 'දියෙස්': 'දියෙස', 'රතිරුපේ': 'රතිරුප', 'හැදුනේ': 'හැදුන', 'කිට්ටු': 'කිට්ට', 'මද්දුම': 'මද්දු', 'කිරිබොන': 'කිරිබො', 'ජයතිලක': 'ජයතිල', 'හදකම': 'හදක', 'සරච්චන්ද්': 'සරච්චන්ද', 'තුනේ': 'තුන', 'පන්තියටවිතරක්': 'පන්තියටවිතරක', 'මාර්ටින්': 'මාර්ටින', 'ඇහුනත්': 'ඇහුනත', 'නැවතිලා': 'නැවති', 'සිමෙන්ති': 'සිමෙන්', 'තමාගේම': 'තමා', 'තමන්ම': 'තමන්', 'අඹන්නේ': 'අඹ', 'සමනත්': 'සමනත', 'භද්': 'භද', 'පෝයටම': 'පෝය', 'අධෝ': 'අධ', 'වාහිනියට': 'වාහිනිය', 'වාචාල': 'වාචා', 'මඬලාවට': 'මඬලාව', 'අත්තනායක': 'අත්තනාය', 'දෙකොනෙන්': 'දෙකොනෙන', 'සිල්පදේ': 'සිල්පද', 'සිමෙන්තියි': 'සිමෙන්ති', 'හැන්දයි': 'හැන්ද', 'රුපයක්': 'රුපයක', 'පෝයදාට': 'පෝයදා', 'තමන්වම': 'තමන්ව', 'මහගම': 'මහග', 'සේකරට': 'සේකර', 'පත්තරේකටත්': 'පත්තරේකටත', 'ලෙනින්': 'ලෙනින', 'වාදී': 'වාද', 'සෝවියට්': 'සෝවියට', 'දේශයේ': 'දේශ', 'පියා': 'පි', 'ඇන්ටන්': 'ඇන්ටන', 'චෙකොව්': 'චෙකොව', 'ඇගයීමෙන්': 'ඇගයීමෙන', 'මකන්න': 'මකන්', 'යෂ්ටික': 'යෂ්ටි', 'දැම්මත්': 'දැම්මත', 'යඥානෙන්': 'යඥානෙන', 'පුන': 'පු', 'පුනා': 'පු', 'ලගේ': 'ල', 'ලනු': 'ල', 'හොරාකන්න': 'හොරාකන්', 'ගැලපෙන': 'ගැලපෙ', 'කියමන්': 'කියමන', 'ගැමියෝ': 'ගැමි', 'කනෝ': 'කන', 'පිනුම්': 'පිනුම', 'කිව්වලු': 'කිව්වල', 'කියමනක්': 'කියමනක', 'හොරාගේ': 'හොරා', 'අම්මගෙන්': 'අම්මගෙන', 'ඇහීම': 'ඇහී', 'පොතකින්': 'පොතකින', 'මනෝ': 'මන', 'අපතුල': 'අපතු', 'මැවෙනවා': 'මැවෙ', 'තිස්දාහක': 'තිස්දාහ', 'කනා': 'ක', 'දෙමවුපියන්ගෙන්ම': 'දෙමවුපියන්', 'රැලක්': 'රැලක', 'හාදයා': 'හාද', 'වුනොත්': 'වුනොත', 'පෝසත්': 'පෝසත', 'ඇහුවොත්': 'ඇහුවොත', 'කළු': 'කළ', 'කොම්පැනි': 'කොම්පැ', '200කට': '200', 'තියෙනවාමෙයාගේ': 'තියෙනවාමෙයා', 'පම්පොරියෙන්': 'පම්පොරියෙන', 'සෙතක්': 'සෙතක', 'වැඩකරන': 'වැඩකර', 'බාගෙකට': 'බාගෙ', 'පෙනහළු': 'පෙනහළ', 'විදේශිකයෝ': 'විදේශික', 'බොනවා': 'බො', 'වැඩකරන්නේ': 'වැඩකර', 'සෙකන්ඩ්': 'සෙකන්ඩ', 'හෑන්ඩ්': 'හෑන්ඩ', 'ස්මොකින්': 'ස්මොකින', 'නීත්': 'නීත', 'යනුකුල': 'යනුකු', 'වැසිකිළියක්වත්': 'වැසිකිළියක්වත', 'කෙරුමෝ': 'කෙරුම', 'ගේට්ස්': 'ගේට්ස', 'බිලියන්': 'බිලියන', 'කුනෙක්': 'කුනෙක', 'මරවලා': 'මරව', 'වැඩගන්න': 'වැඩගන්', 'ඒකාධිපති': 'ඒකාධිප', 'යාපාරිකයෙක්': 'යාපාරිකයෙක', 'ලෙඩා': 'ලෙඩ', 'මාසේ': 'මාස', 'අන්තිමේදී': 'අන්තිමේද', 'අනතුරකට': 'අනතුර', 'ලක්වෙලා': 'ලක්වෙ', 'කඩාගන්නවා': 'කඩාගන්', 'ඇඳක්': 'ඇඳක', 'මැරෙන': 'මැරෙ', 'කිව්වානම්': 'කිව්වානම', 'හොඳයිනේ': 'හොඳයින', 'කියපල්ලා': 'කිය', 'ඇඳන්': 'ඇඳන', '60ක්': '60ක', 'රෝහලක': 'රෝහල', 'රෝගීන්': 'රෝගීන', '15ක්': '15ක', 'ගණනක්': 'ගණනක', 'දිස්ත්': 'දිස්ත', 'රික්කයේ': 'රික්ක', '15000කට': '15000', 'වැසිකිලි': 'වැසික', 'කන්නේ': 'ක', 'සොෆ්ට්': 'සොෆ්ට', 'වෙයාර්': 'වෙයාර', 'හැදුවොත්': 'හැදුවොත', 'අන්ඩර්': 'අන්ඩර', 'තින්ක්': 'තින්ක', 'ටැංක': 'ටැං', 'කෙලින්නේ': 'කෙලි', 'චාටර්නේ': 'චාටර්න', 'චරිතයක්': 'චරිතයක', 'ඔහුත්': 'ඔහුත', 'යාපාරිකයෙකු': 'යාපාරිකයෙ', 'ලෙසත්': 'ලෙසත', 'සාර්ථක': 'සාර්ථ', 'ගණන්වල': 'ගණන්ව', 'වතු': 'වත', 'කම්කරුවෙකු': 'කම්කරුවෙ', 'සීයා': 'සී', 'පැකිලෙන්නේ': 'පැකිලෙ', 'ආඩම්බරයෙන්': 'ආඩම්බරයෙන', 'වතුකම්කරුවන්': 'වතුකම්කරුවන', 'ගැටලු': 'ගැටල', 'වැටුප්': 'වැටුප', 'රශ්නය': 'රශ්න', 'ජීවින': 'ජීවි', 'තත්ත්වය': 'තත්ත්ව', 'තුළදී': 'තුළද', 'පිළිබඳවත්': 'පිළිබඳවත', 'එහිදී': 'එහිද', 'තරුණයෙකුට': 'තරුණයෙ', 'රීඩාවෙන්': 'රීඩාවෙන', 'දිනන්නට': 'දිනන්න', 'තුළත්': 'තුළත', 'රීඩකයෙක්': 'රීඩකයෙක', 'වත්මත්': 'වත්මත', 'කණ්ඩායමට': 'කණ්ඩායම', 'මුහුණදීමට': 'මුහුණදීම', 'සිදුව': 'සිදු', 'අභාග්': 'අභාග', 'එමෙන්ම': 'එමෙන්', 'මෙහිදී': 'මෙහිද', 'සද්දයක්': 'සද්දයක', 'බද්දයක්': 'බද්දයක', 'ගණනකට': 'ගණන', 'සත්කාරක': 'සත්කාර', 'යාපෘති': 'යාපෘ', 'සිදුකෙරෙන': 'සිදුකෙරෙ', 'හැකියි': 'හැකි', 'හිතල': 'හිත', 'බෞධ්ද': 'බෞධ්', 'හින්දු': 'හින්ද', 'රිස්තියානි': 'රිස්තියා', 'බේදයක්': 'බේදයක', 'එකෙත්': 'එකෙත', 'අදහන': 'අදහ', 'රශ්ණයක්': 'රශ්ණයක', 'ජිවත්': 'ජිවත', 'සිංහලේ': 'සිංහල', 'භේද': 'භේ', 'දිවුනු': 'දිවු', 'එංගලන්තයක්': 'එංගලන්තයක', 'කිවුවනම්': 'කිවුවනම', 'පාරක්නම්': 'පාරක්නම', 'බැලුවද': 'බැලුව', 'දාලද': 'දාල', 'උතුරෙන්': 'උතුරෙන', 'අරුන්': 'අරුන', 'දකුනෙන්': 'දකුනෙන', 'නාගානන්ද': 'නාගානන්', 'ආදරෙ': 'ආදර', 'ඔක්කම': 'ඔක්ක', 'ඔයාලට': 'ඔයාල', 'මුත්තයියා': 'මුත්තයි', 'රීඩකයෝ': 'රීඩක', 'විප්ලවකාරයොන්ට': 'විප්ලවකාරයොන්', 'පාලකයොන්ට': 'පාලකයොන්', 'තත්පරයක්වත්': 'තත්පරයක්වත', 'වචනයක්වත්': 'වචනයක්වත', 'වචනෙකම': 'වචනෙක', 'ගතයුත්තක්': 'ගතයුත්තක', 'ඇවිල්ල': 'ඇවිල්', 'දේශපාලනඥයින්ගෙන්': 'දේශපාලනඥයින්ගෙන', 'ලැබිලා': 'ලැබි', 'විප්ලවය': 'විප්ලව', 'විප්ලවේ': 'විප්ල', 'අසාධාරණයට': 'අසාධාරණය', 'දූෂණයට': 'දූෂණය', 'විරුද්ධව': 'විරුද්ධ', 'නිර්භීතව': 'නිර්භීත', 'ජනතාවක්': 'ජනතාවක', 'සිදුවෙමින්': 'සිදුවෙමින', 'පවතින්නේ': 'පවති', 'පොඩ්ඩක්වත්': 'පොඩ්ඩක්වත', 'ලක්ශනයක්': 'ලක්ශනයක', 'වට්': 'වට', 'හංසයා': 'හංස', 'පපඩමකින්': 'පපඩමකින', 'වේසකමක්ද': 'වේසකමක්', 'උට්ටො': 'උට්ට', 'මදු': 'මද', 'රොක්ස්': 'රොක්ස', 'පපඩම්': 'පපඩම', 'ලබ්බක්ද': 'ලබ්බක්', 'තාලෙට': 'තාලෙ', 'උබෙ': 'උබ', 'ඉන්ජිනේරු': 'ඉන්ජිනේර', 'විශය': 'විශ', 'විශයට': 'විශය', 'කැලලක්': 'කැලලක', 'පයියක්ද': 'පයියක්', 'ගායකයෙක්ද': 'ගායකයෙක්', 'බෙට්ට': 'බෙට්', 'වගේනෙ': 'වගේන', 'කෑගහන්නෙ': 'කෑගහ', 'බැරුවට': 'බැරුව', 'පන්දාහක්': 'පන්දාහක', 'බූරුව': 'බූරු', 'ඒකි': 'ඒ', 'ලවු': 'ලව', 'ඒකී': 'ඒ', 'හුකාගෙන': 'හුකාගෙ', 'බඩට': 'බඩ', 'ලමයෙකුත්': 'ලමයෙකුත', 'පෙන්නුවට': 'පෙන්නුව', 'හිලක්ද': 'හිලක්', 'ඩොක්ටට': 'ඩොක්ට', 'ගැජ්ජමැටික්': 'ගැජ්ජමැටික', 'පොඩී': 'පොඩ', 'අතුරුදහන්': 'අතුරුදහන', 'සමන්තබඩ්ගෙන්': 'සමන්තබඩ්ගෙන', 'ඌගෙන්': 'ඌගෙන', 'රැසුත්': 'රැසුත', 'විහිදෙන්වා': 'විහිදෙන්', 'ගහපන්කෝ': 'ගහපන්ක', 'යාළුවෙලා': 'යාළුවෙ', 'ෆකින්': 'ෆකින', 'හුකන්': 'හුකන', 'ආකල': 'ආක', 'දොස්තරය': 'දොස්තර', 'හිකෙන': 'හිකෙ', 'සින්දුනෙ': 'සින්දුන', 'ජාතියට': 'ජාතිය', 'නිග්': 'නිග', 'සමන්ත්': 'සමන්ත', 'බද්ඳා': 'බද්ඳ', 'තියෙනවනන්': 'තියෙනවනන', 'පාසලකට': 'පාසල', 'රහතන්': 'රහතන', 'පුද්ගලයෙක්ද': 'පුද්ගලයෙක්', 'ගනිවී': 'ගනිව', 'පාන': 'පා', 'උබලටම': 'උබල', 'අත්මයේ': 'අත්ම', 'පලිසන්': 'පලිසන', 'ඕකිනම්': 'ඕකිනම', 'රමෙශ්': 'රමෙශ', 'සිවලිoගම්': 'සිවලිoගම', 'දිවදාලම': 'දිවදාල', 'මූගේ': 'මූ', 'කොටවෙලා': 'කොටවෙ', 'ගැහැණියක්ට': 'ගැහැණියක්', 'ඉස්සුවාමනම්': 'ඉස්සුවාමනම', 'වේසියෙක්ට': 'වේසියෙක්', 'ගැහුවනම්': 'ගැහුවනම', 'ගස්සන්න': 'ගස්සන්', 'කරුම': 'කරු', 'බෙල්ලේ': 'බෙල්ල', 'වැල': 'වැ', 'නම්බුයි': 'නම්බු', 'එකියකට': 'එකිය', 'උබව': 'උබ', 'දීලම': 'දීල', 'සයිස්': 'සයිස', 'බුදියන්නේ': 'බුදිය', 'රැලේ': 'රැල', 'බැල්ලිට': 'බැල්ලි', 'යනවද': 'යනව', 'කීවත්': 'කීවත', 'මොඩලින්': 'මොඩලින', 'ගිහිල්ල': 'ගිහිල්', 'කැල්ලට': 'කැල්ල', 'එක්කත්': 'එක්කත', 'බුදියයි': 'බුදි', 'මුඩුක්කු': 'මුඩුක්', 'හැදුන': 'හැදු', 'හැදුවත්': 'හැදුවත', 'බයවෙලා': 'බයවෙ', 'හංගන්න': 'හංගන්', 'වේසියේ': 'වේසි', 'හංගල': 'හංග', 'දිනා': 'දි', 'රේද්දේ': 'රේද්ද', 'බදික': 'බදි', 'ගැනි': 'ගැ', 'මිනිහො': 'මිනිහ', 'විඩියොවල': 'විඩියොව', 'රැගුමි': 'රැගු', 'ලොකෙම': 'ලොකෙ', 'එවුල්ලු': 'එවුල්ල', 'හසිනිලා': 'හසිනි', 'පියුමිලා': 'පියුමි', 'සොට්': 'සොට', 'යුටියුබ්': 'යුටියුබ', 'ටවත්': 'ටවත', 'ඉස්සරහද': 'ඉස්සරහ', 'මුගේ': 'මුගෙ', 'අම්මලාට': 'අම්මලා', 'හැමනේනවා': 'හැමනේ', 'වේසවේ': 'වේසවෙ', 'සේ': 'සෙ', 'පොෂ්': 'පොෂ', 'කෙල්ලනේ': 'කෙල්ලන', 'නුබලාට': 'නුබලා', 'අම්මාගේ': 'අම්මා', 'කුසෙන්': 'කුසෙන', 'මිටමොලවාගෙන': 'මිටමොලවාගෙ', 'තමයී': 'තමය', 'යන්ට': 'යන්', 'දෙමාපියෝ': 'දෙමාපි', 'හුත්තකින්': 'හුත්තකින', 'කියපන්කෝ': 'කියපන්ක', 'තොපිලා': 'තොපි', 'කවලවම්': 'කවලවම', 'එකි': 'එ', 'අරුට': 'අරු', 'ඇරගේන': 'ඇරගේ', 'පයියක්': 'පයියක', 'සංගීතේ': 'සංගීත', 'ඔයගොල්ලෝ': 'ඔයගොල්ල', 'ෆෑන්ස්': 'ෆෑන්ස', 'හෙල්ප්': 'හෙල්ප', 'ගයමු': 'ගය', 'තාලේ': 'තාල', 'සංගීතෙට': 'සංගීතෙ', 'ජීවිතේටත්': 'ජීවිතේටත', 'බාධා': 'බාධ', 'ආසම': 'ආස', 'ලවන්': 'ලවන', 'ඇක්ට්': 'ඇක්ට', 'ඇබ්බැහිවන': 'ඇබ්බැහිව', 'සුලුයි': 'සුලු', 'රවේශමෙන්': 'රවේශමෙන', 'රසවිඳින්න': 'රසවිඳින්', 'අයියය්': 'අයියය', 'ඔයාව': 'ඔයා', 'කියන්නකෝ': 'කියන්නක', 'අයම': 'අය', 'රොටේට්': 'රොටේට', 'අලුත්ූන්': 'අලුත්ූන', 'බලන්නත්': 'බලන්නත', 'ආසයී': 'ආසය', 'සීනියස්ලා': 'සීනියස්', 'මෙලඩිය': 'මෙලඩි', 'රඟපාන්න': 'රඟපාන්', 'සිනමාව': 'සිනමා', 'ටෙලිනාට්': 'ටෙලිනාට', 'ඇප්': 'ඇප', 'රිලීස්': 'රිලීස', 'රෙෆරල්': 'රෙෆරල', 'ගෙවන්නේ': 'ගෙව', 'දොලහෙන්': 'දොලහෙන', 'දොලහට': 'දොලහ', 'වෙලාවෙන්': 'වෙලාවෙන', '30ට': '30', 'මෙයාලා': 'මෙයා', 'එක්කෙනෙක්ට': 'එක්කෙනෙක්', 'වලිනුත්': 'වලිනුත', 'හදනව': 'හදන', 'රෙජිස්ටර්': 'රෙජිස්ටර', '10000ක්': '10000ක', 'මිලියනයක්': 'මිලියනයක', 'දින්න': 'දින්', 'ලැබේබී': 'ලැබේබ', 'පර්මිසන්': 'පර්මිසන', 'ඕපන්': 'ඕපන', 'ලොග්': 'ලොග', 'පිවොට්': 'පිවොට', 'කොලෝන්': 'කොලෝන', 'එකවුන්ට්': 'එකවුන්ට', 'බෑන්': 'බෑන', 'කරාවී': 'කරාව', 'කීවා': 'කී', 'ඇහෙනකොට': 'ඇහෙනකො', 'අහලම': 'අහල', 'හුත්තිලා': 'හුත්ති', 'කෙල්ලන්වත්': 'කෙල්ලන්වත', 'බදාගෙන': 'බදාගෙ', 'පලයල්ලකො': 'පලයල්ලක', 'රෙන': 'රෙ', 'බුදියනවානේ': 'බුදියනවාන', 'වේසියො': 'වේසිය', 'හඩු': 'හඩ', 'ගදයි': 'ගද', 'මෙහෙත්': 'මෙහෙත', 'ගද': 'ග', 'ටෙලර්': 'ටෙලර', 'මෙශින්': 'මෙශින', 'වෙලානේ': 'වෙලාන', 'ගයමූ': 'ගයම', 'සොබාදහමේ': 'සොබාදහ', 'චමත්කාරය': 'චමත්කාර', 'අත්විඳින්න': 'අත්විඳින්', 'සොදුරු': 'සොදුර', 'අත්දැකීමක්': 'අත්දැකීමක', 'එක්වන්න': 'එක්වන්', 'මවත්': 'මවත', 'රිප්ලයි': 'රිප්ල', 'කරන්නම්': 'කරන්නම', 'කැළුම්': 'කැළුම', 'දෙවනාරායනගෙ': 'දෙවනාරායන', 'මරුනෙ': 'මරුන', 'ගෘප්': 'ගෘප', 'එකටත්': 'එකටත', 'හලො': 'හල', 'රෙයික්ජාවික්': 'රෙයික්ජාවික', 'බයෙන්': 'බයෙන', 'ඩයලොග්ද': 'ඩයලොග්', 'හච්': 'හච', 'දෙගොල්ලන්ටම': 'දෙගොල්ලන්', 'කීවනේ': 'කීවන', 'ෆයිනෑන්ස්': 'ෆයිනෑන්ස', 'කම්පැනි': 'කම්පැ', 'දිනන්නැත්තෙ': 'දිනන්නැත්ත', 'බැරිකමට': 'බැරිකම', 'පාලක': 'පාල', 'පරිපාලකයෙක්': 'පරිපාලකයෙක', 'තාරවගේයි': 'තාරවගේ', 'පාත්තයාගෙයි': 'පාත්තයාගෙ', 'තාරාවෙක්': 'තාරාවෙක', 'අනිකා': 'අනි', 'පාත්තයෙක්': 'පාත්තයෙක', 'තාරවට': 'තාරව', 'පාත්තයා': 'පාත්ත', 'පාත්තයාට': 'පාත්තයා', 'තාරාවා': 'තාරා', 'පස්සෙම': 'පස්සෙ', 'හැදෙමු': 'හැදෙ', 'මසුරන්': 'මසුරන', 'පාලිමන්ට්': 'පාලිමන්ට', 'යවනව': 'යවන', 'වට්ටල': 'වට්ට', 'ලට': 'ල', 'රේස්': 'රේස', 'හිටපල්ල': 'හිටපල්', 'කිවෝත්': 'කිවෝත', 'ඉදීද': 'ඉදී', 'මොබිටෙල්': 'මොබිටෙල', '3ක්': '3ක', 'වර්ජනේ': 'වර්ජන', 'කරපල්ල': 'කරපල්', 'ඔකට': 'ඔ', 'බයිල': 'බයි', 'ඒවගෙන්': 'ඒවගෙන', 'තොපිටත්': 'තොපිටත', 'නොදැනිම': 'නොදැනි', 'ශම්මි': 'ශම්', 'එකාගෙ': 'එකා', 'ගෑනුයි': 'ගෑනු', 'ලමයිනුයි': 'ලමයිනු', 'හැප්පිලා': 'හැප්පි', 'කොරු': 'කොර', 'අබ්බගාතයෝ': 'අබ්බගාත', 'තිලංගයාට': 'තිලංගයා', 'පිලිකාවක්': 'පිලිකාවක', 'හැදිය': 'හැදි', 'මක': 'ම', 'විලාම': 'විලා', 'පාතල': 'පාත', 'නායකයෙක්': 'නායකයෙක', 'ඉරිසියාවට': 'ඉරිසියාව', 'පිලි': 'ප', 'වහාගත්තම': 'වහාගත්ත', 'මදූශ්': 'මදූශ', 'පාටියට': 'පාටිය', 'අඩගැහුවනන්': 'අඩගැහුවනන', 'කරදරෙත්': 'කරදරෙත', 'ඉවරයී': 'ඉවරය', 'තිලංගලා': 'තිලංග', 'රියාකාරී': 'රියාකාර', 'ඉල්ලනව': 'ඉල්ලන', 'මුංගෙ': 'මුං', 'යටයි': 'යට', 'තිලංගයා': 'තිලංග', 'හැදිගෑවිලාම': 'හැදිගෑවිලා', 'පාලය': 'පාල', 'පලු': 'පල', 'අරේ': 'අර', 'මොකෙකුට': 'මොකෙ', 'ශිහාන්': 'ශිහාන', 'හිරු': 'හිර', 'ස්ටාර්': 'ස්ටාර', 'කාලවෙ': 'කාල', 'කුමාරවරු': 'කුමාරවර', 'විජයල': 'විජය', 'ගාමිණීල': 'ගාමිණී', 'ෆුල්ම්ස්': 'ෆුල්ම්ස', 'ඉන්ඩ්ස්ට්': 'ඉන්ඩ්ස්ට', 'ජෝතිල': 'ජෝති', 'කැලැරන්ස්ලගෙන්': 'කැලැරන්ස්ලගෙන', 'පිරෙව්ව': 'පිරෙව්', 'කාලයයි': 'කාල', 'මංචන්ලා': 'මංචන්', 'පොරක්නම්': 'පොරක්නම', 'ඊරිසියා': 'ඊරිසි', 'හිරුස්ටාර්': 'හිරුස්ටාර', 'මේයාලා': 'මේයා', 'කියහල්ලා': 'කියහ', 'විනිශ්': 'විනිශ', 'මණ්ඩලය': 'මණ්ඩල', 'පටලන්': 'පටලන', 'ගනින්න': 'ගනින්', 'යමන්': 'යමන', 'එකඟව': 'එකඟ', 'අවංකයි': 'අවංක', 'සෙහාන්': 'සෙහාන', 'ලයිව්': 'ලයිව', 'එකාද': 'එකා', 'පස්සෙයි': 'පස්සෙ', '31යි': '31', 'ඉහටත්': 'ඉහටත', 'තෙරෙන්ව': 'තෙරෙන්', 'කරන්ව': 'කරන්', 'රෙද්දෙන්': 'රෙද්දෙන', 'දිනපල්ලා': 'දින', 'නියෝජනය': 'නියෝජන', 'කණ්ඩායමක්': 'කණ්ඩායමක', 'කෝච්': 'කෝච', 'සුරාගෙ': 'සුරා', 'වැදුනු': 'වැදු', 'රිදිල': 'රිදි', 'රිදුනනම්': 'රිදුනනම', 'අතගාගනිල්ල': 'අතගාගනිල්', 'කැරිය': 'කැරි', 'මැද්දෙ': 'මැද්ද', 'ඔබතුමන්ලට': 'ඔබතුමන්ල', 'මහත්වරුනි': 'මහත්වරු', 'උඹටල': 'උඹට', 'වචනෙට': 'වචනෙ', 'ලොන්තය': 'ලොන්ත', 'පොන්නය': 'පොන්න', 'ඔනෙද': 'ඔනෙ', 'දෙයයි': 'දෙ', 'වේසබල්ලො': 'වේසබල්ල', 'වෙනරටකට': 'වෙනරට', 'ඉඳපන්': 'ඉඳපන', 'දෙමව්පියන්ටත්': 'දෙමව්පියන්ටත', 'අස්සගෙන': 'අස්සගෙ', 'කාලක්ණ්නින්ගෙ': 'කාලක්ණ්නින්', 'සුරා': 'සුර', 'ගන්නකොට': 'ගන්නකො', 'බැනුම්': 'බැනුම', 'බනින්නෙ': 'බනි', 'තියෙන්නෙත්': 'තියෙන්නෙත', 'අදමයෝ': 'අදම', 'තොපිත්': 'තොපිත', 'සමානයි': 'සමාන', 'විස්සක්': 'විස්සක', 'නතුව': 'නතු', 'රසිකයෝ': 'රසික', 'පරිපාලනයවත්': 'පරිපාලනයවත', 'පිට්ටනිය': 'පිට්ටනි', 'වදගත්': 'වදගත', 'අවුරුද්ද': 'අවුරුද්', 'රිලංකාවේ': 'රිලංකා', 'මානසිකත්වයක්': 'මානසිකත්වයක', 'සිටින්න': 'සිටින්', 'කබ්බොන්ගෙන්': 'කබ්බොන්ගෙන', 'කමකුත්': 'කමකුත', 'මිතුරනි': 'මිතුර', 'හැමෝගෙන්ම': 'හැමෝ', 'එකමුතු': 'එකමුත', 'තරගයටත්': 'තරගයටත', 'ඇන්ගල්': 'ඇන්ගල', 'හැදුනා': 'හැදු', 'මචන': 'මච', 'කොලිටියට': 'කොලිටිය', 'කැමරාවයි': 'කැමරාව', 'ලෙන්ස්': 'ලෙන්ස', 'කියන්නකො': 'කියන්නක', 'ඈන්ගල්': 'ඈන්ගල', 'කැමරාවකින්ද': 'කැමරාවකින්', 'කින්ද': 'කින්', 'ෆිෆ්ටියක්': 'ෆිෆ්ටියක', 'නාදගමේ': 'නාදග', 'කම්පා': 'කම්ප', 'නොවන්': 'නොවන', 'මහමායා': 'මහමා', 'දාන්නකෝ': 'දාන්නක', 'හිරිවැටිලා': 'හිරිවැටි', 'සුපිරියටන': 'සුපිරියට', 'නිසල්': 'නිසල', 'රසාද්': 'රසාද', 'ලස්සනටම': 'ලස්සන', 'එඩිටින්': 'එඩිටින', 'අන්ගල්': 'අන්ගල', 'රර්ථනා': 'රර්ථ', 'හම්බෙලා': 'හම්බෙ', 'තියෙනවනම්': 'තියෙනවනම', 'ගමනේ': 'ගමන', 'මුදුනටම': 'මුදුන', 'කොලෙටියක්': 'කොලෙටියක', 'ඒතරම්ම': 'ඒතරම්', 'කැත්': 'කැත', 'තක්': 'තක', 'වලියක්ලු': 'වලියක්ල', 'ලතෝ': 'ලත', 'සුහදව': 'සුහද', 'දේශය': 'දේශ', 'ලයිවු': 'ලයිව', 'තේරැනා': 'තේරැ', 'පැසී': 'පැස', 'අපහසුතාවයට': 'අපහසුතාවය', 'පත්වුනා': 'පත්වු', 'අමිමා': 'අමිම', 'ජයෙන්': 'ජයෙන', 'පෙන්ඩ්ස්': 'පෙන්ඩ්ස', 'කරන්නකො': 'කරන්නක', 'කටවහක්': 'කටවහක', 'ඔයාලා': 'ඔයා', 'ධෛර්යය': 'ධෛර්ය', 'රෙඩියෝ': 'රෙඩි', 'ඩබල': 'ඩබ', 'අහනවා': 'අහ', 'djඅරා': 'djඅර', 'පැස්බරා': 'පැස්බර', 'දෙමව්පියන්ව': 'දෙමව්පියන්'}\n"
          ]
        },
        {
          "output_type": "stream",
          "name": "stderr",
          "text": [
            "<ipython-input-8-7d8504a95fa5>:8: SettingWithCopyWarning: \n",
            "A value is trying to be set on a copy of a slice from a DataFrame\n",
            "\n",
            "See the caveats in the documentation: https://pandas.pydata.org/pandas-docs/stable/user_guide/indexing.html#returning-a-view-versus-a-copy\n",
            "  dataframe['Phrase'][itm] = ( \" \".join( words_arr ))\n"
          ]
        }
      ]
    },
    {
      "cell_type": "code",
      "source": [
        "X_all = df_Stemming_All[\"Phrase\"]\n",
        "y_all = df_Stemming_All[\"IsHateSpeech\"]\n",
        "X_train_all, X_test_all, y_train_all, y_test_all = train_test_split(\n",
        "    X_all,y_all, test_size = 0.2, random_state = 0)"
      ],
      "metadata": {
        "id": "kxAIL1sKkOxh"
      },
      "execution_count": null,
      "outputs": []
    },
    {
      "cell_type": "code",
      "source": [
        "vectorizer_all, vocab_all, train_data_features_all  = (\n",
        "        create_bag_of_words(X_train_all))"
      ],
      "metadata": {
        "colab": {
          "base_uri": "https://localhost:8080/"
        },
        "id": "QgN7TEj4kQtg",
        "outputId": "f106c9f5-1559-4721-8eb8-1b8b53cb1766"
      },
      "execution_count": null,
      "outputs": [
        {
          "output_type": "stream",
          "name": "stdout",
          "text": [
            "Creating bag of words...\n",
            "Created\n"
          ]
        }
      ]
    },
    {
      "cell_type": "code",
      "source": [
        "ml_model_before_3,predicdedModel_3 = generateModel(vectorizer_all,train_data_features_all,y_train_all,X_test_all)"
      ],
      "metadata": {
        "colab": {
          "base_uri": "https://localhost:8080/"
        },
        "id": "ZT__lY8lkaPh",
        "outputId": "82f1b33b-2fbe-4fd9-e3a4-af08cd09589b"
      },
      "execution_count": null,
      "outputs": [
        {
          "output_type": "stream",
          "name": "stdout",
          "text": [
            "Training model........\n",
            "Created\n"
          ]
        }
      ]
    },
    {
      "cell_type": "code",
      "source": [
        "get_metrics(y_test_all,predicdedModel_3)"
      ],
      "metadata": {
        "colab": {
          "base_uri": "https://localhost:8080/"
        },
        "id": "Gshwb4HqkcPx",
        "outputId": "b02a90c3-af42-453b-ca35-227b69d1ee3e"
      },
      "execution_count": null,
      "outputs": [
        {
          "output_type": "stream",
          "name": "stdout",
          "text": [
            "Confusion metrix: \n",
            "[[228  48]\n",
            " [ 90 134]]\n",
            "\n",
            "Accuracy = 72%\n",
            "precision = 71.7%\n",
            "recall = 82.6%\n",
            "F1 Score = 76.8%\n"
          ]
        }
      ]
    },
    {
      "cell_type": "code",
      "source": [
        "get_metrics(y_test,predicdedModel_1)"
      ],
      "metadata": {
        "colab": {
          "base_uri": "https://localhost:8080/"
        },
        "id": "JQUK04CGkeW6",
        "outputId": "3dc2e259-42b0-46a8-caaf-1c0d2c874f2a"
      },
      "execution_count": null,
      "outputs": [
        {
          "output_type": "stream",
          "name": "stdout",
          "text": [
            "Confusion metrix: \n",
            "[[146  39]\n",
            " [ 65 113]]\n",
            "\n",
            "Accuracy = 71%\n",
            "precision = 69.2%\n",
            "recall = 78.9%\n",
            "F1 Score = 73.7%\n"
          ]
        }
      ]
    },
    {
      "cell_type": "code",
      "source": [
        "get_metrics(y_test_singlish,predicdedModel_2)"
      ],
      "metadata": {
        "colab": {
          "base_uri": "https://localhost:8080/"
        },
        "id": "HxOmzJeFkgaZ",
        "outputId": "11d929fa-b17d-4161-e9ab-d49f38df210d"
      },
      "execution_count": null,
      "outputs": [
        {
          "output_type": "stream",
          "name": "stdout",
          "text": [
            "Confusion metrix: \n",
            "[[69  9]\n",
            " [31 29]]\n",
            "\n",
            "Accuracy = 71%\n",
            "precision = 69.0%\n",
            "recall = 88.5%\n",
            "F1 Score = 77.5%\n"
          ]
        }
      ]
    },
    {
      "cell_type": "code",
      "source": [
        "get_metrics(y_test_all,predicdedModel_3)"
      ],
      "metadata": {
        "colab": {
          "base_uri": "https://localhost:8080/"
        },
        "id": "iHcu9B-1kiuJ",
        "outputId": "237c805b-9f26-4ca9-9ac4-549b97fe419d"
      },
      "execution_count": null,
      "outputs": [
        {
          "output_type": "stream",
          "name": "stdout",
          "text": [
            "Confusion metrix: \n",
            "[[228  48]\n",
            " [ 90 134]]\n",
            "\n",
            "Accuracy = 72%\n",
            "precision = 71.7%\n",
            "recall = 82.6%\n",
            "F1 Score = 76.8%\n"
          ]
        }
      ]
    },
    {
      "cell_type": "code",
      "source": [
        "def create_bag_of_words_new(X):\n",
        "    from sklearn.feature_extraction.text import CountVectorizer\n",
        "\n",
        "    print ('Creating bag of words...')\n",
        "\n",
        "    # In this example features may be single words or two consecutive words\n",
        "    vectorizer = CountVectorizer()\n",
        "\n",
        "    train_data_features = vectorizer.fit_transform(X)\n",
        "\n",
        "    # Convert to a NumPy array for easy of handling\n",
        "    train_data_features = train_data_features.toarray()\n",
        "\n",
        "    # tfidf transform\n",
        "    from sklearn.feature_extraction.text import TfidfTransformer\n",
        "    tfidf = TfidfTransformer()\n",
        "    tfidf_features = tfidf.fit_transform(train_data_features).toarray()\n",
        "\n",
        "    # Take a look at the words in the vocabulary\n",
        "    vocab = vectorizer.get_feature_names_out()\n",
        "\n",
        "    return vectorizer, vocab, train_data_features, tfidf_features, tfidf"
      ],
      "metadata": {
        "id": "KEE4sjEKklZq"
      },
      "execution_count": null,
      "outputs": []
    },
    {
      "cell_type": "code",
      "source": [
        "def generateModelTFID(vectorizer,tfidf_features,tfidf,y_train_data,Xtest_data):\n",
        "    ml_modelp = train_logistic_regression(tfidf_features, y_train_data)\n",
        "    ml_model_before = ml_modelp\n",
        "    test_data_featuresp = vectorizer.transform(Xtest_data)\n",
        "    # Convert to numpy array\n",
        "    test_data_featuresp = test_data_featuresp.toarray()\n",
        "\n",
        "    test_data_tfidf_features = tfidf.fit_transform(test_data_featuresp)\n",
        "    # Convert to numpy array\n",
        "    test_data_tfidf_features = test_data_tfidf_features.toarray()\n",
        "\n",
        "    predicted_modl = ml_modelp.predict(test_data_tfidf_features)\n",
        "\n",
        "    return ml_model_before,predicted_modl"
      ],
      "metadata": {
        "id": "QPktSOPYkrzR"
      },
      "execution_count": null,
      "outputs": []
    },
    {
      "cell_type": "code",
      "source": [
        "vectorizer_all_new, vocab_all_new, train_data_features_all_new, tfidf_features_all_new, tfidf_all_new  = (\n",
        "        create_bag_of_words_new(X_train_all))"
      ],
      "metadata": {
        "colab": {
          "base_uri": "https://localhost:8080/"
        },
        "id": "iyRM6Pj5ktrz",
        "outputId": "d2a62e4c-b743-46a7-ec69-d2ed12ed2e4c"
      },
      "execution_count": null,
      "outputs": [
        {
          "output_type": "stream",
          "name": "stdout",
          "text": [
            "Creating bag of words...\n"
          ]
        }
      ]
    },
    {
      "cell_type": "code",
      "source": [
        "ml_model_before_3_tfid,predicdedModel_3_tfid = generateModelTFID(vectorizer_all_new,tfidf_features_all_new,tfidf_all_new,y_train_all,X_test_all)"
      ],
      "metadata": {
        "colab": {
          "base_uri": "https://localhost:8080/"
        },
        "id": "Ox8qDeMpkv9R",
        "outputId": "702a363f-901b-4cc3-9a8c-ba4c5e6e15d5"
      },
      "execution_count": null,
      "outputs": [
        {
          "output_type": "stream",
          "name": "stdout",
          "text": [
            "Training model........\n",
            "Created\n"
          ]
        }
      ]
    },
    {
      "cell_type": "code",
      "source": [
        "ml_model_before_3_tfid,predicdedModel_3_tfid = generateModelTFID(vectorizer_all_new,tfidf_features_all_new,tfidf_all_new,y_train_all,X_test_all)"
      ],
      "metadata": {
        "colab": {
          "base_uri": "https://localhost:8080/"
        },
        "id": "p_cqFXC9k979",
        "outputId": "ff5ab0aa-69d5-4e8a-dff1-86e28e4fe740"
      },
      "execution_count": null,
      "outputs": [
        {
          "output_type": "stream",
          "name": "stdout",
          "text": [
            "Training model........\n",
            "Created\n"
          ]
        }
      ]
    },
    {
      "cell_type": "code",
      "source": [
        "from sklearn.model_selection import cross_val_score\n",
        "from sklearn.model_selection import cross_validate"
      ],
      "metadata": {
        "id": "tDQ3sxKMk-uJ"
      },
      "execution_count": null,
      "outputs": []
    },
    {
      "cell_type": "code",
      "source": [
        "vectorizer = CountVectorizer()\n",
        "\n",
        "vect_data = vectorizer.fit_transform(X_all)"
      ],
      "metadata": {
        "id": "7xSDkaJ0lAvq"
      },
      "execution_count": null,
      "outputs": []
    },
    {
      "cell_type": "code",
      "source": [
        "cv_results = cross_validate(ml_model_before_3_tfid, vect_data,y_all, cv=10)"
      ],
      "metadata": {
        "id": "fb9vsYswlDLa"
      },
      "execution_count": null,
      "outputs": []
    },
    {
      "cell_type": "code",
      "source": [
        "cv_results['test_score']"
      ],
      "metadata": {
        "colab": {
          "base_uri": "https://localhost:8080/"
        },
        "id": "6XAPBbT7lFEK",
        "outputId": "5a90d87f-9bdd-4e2d-b7a3-ec6ac4833938"
      },
      "execution_count": null,
      "outputs": [
        {
          "output_type": "execute_result",
          "data": {
            "text/plain": [
              "array([0.604, 0.64 , 0.6  , 0.604, 0.712, 0.708, 0.716, 0.684, 0.764,\n",
              "       0.664])"
            ]
          },
          "metadata": {},
          "execution_count": 75
        }
      ]
    },
    {
      "cell_type": "code",
      "source": [
        "print(\"Accuracy: %0.2f (+/- %0.2f)\" % (cv_results['test_score'].mean(), cv_results['test_score'].std() / 2))"
      ],
      "metadata": {
        "colab": {
          "base_uri": "https://localhost:8080/"
        },
        "id": "RmtoQagWlHr_",
        "outputId": "acadb0c1-b4e1-4569-a27f-450d59e4f461"
      },
      "execution_count": null,
      "outputs": [
        {
          "output_type": "stream",
          "name": "stdout",
          "text": [
            "Accuracy: 0.67 (+/- 0.03)\n"
          ]
        }
      ]
    },
    {
      "cell_type": "code",
      "source": [
        "def create_bag_of_words_new_ngram_tfid(X):\n",
        "    from sklearn.feature_extraction.text import CountVectorizer\n",
        "\n",
        "    print ('Creating bag of words...')\n",
        "    # Initialize the \"CountVectorizer\" object\n",
        "\n",
        "\n",
        "    # In this example features may be single words or two consecutive words\n",
        "    vectorizer = CountVectorizer(analyzer = \"word\",   \\\n",
        "                                 tokenizer = None,    \\\n",
        "                                 preprocessor = None, \\\n",
        "                                 stop_words = None,   \\\n",
        "                                 ngram_range = (1,2), \\\n",
        "                                 max_features = 10000)\n",
        "\n",
        "\n",
        "\n",
        "    # fit_transform() does two functions: First, it fits the model\n",
        "    # and learns the vocabulary; second, it transforms our training data\n",
        "    # into feature vectors. The input to fit_transform should be a list of\n",
        "    # strings. The output is a sparse array\n",
        "    train_data_features = vectorizer.fit_transform(X)\n",
        "\n",
        "    # Convert to a NumPy array for easy of handling\n",
        "    train_data_features = train_data_features.toarray()\n",
        "\n",
        "    # tfidf transform\n",
        "    from sklearn.feature_extraction.text import TfidfTransformer\n",
        "    tfidf = TfidfTransformer()\n",
        "    tfidf_features = tfidf.fit_transform(train_data_features).toarray()\n",
        "\n",
        "    # Take a look at the words in the vocabulary\n",
        "    vocab = vectorizer.get_feature_names_out()\n",
        "\n",
        "    return vectorizer, vocab, train_data_features, tfidf_features, tfidf"
      ],
      "metadata": {
        "id": "M7HTlywBlKOq"
      },
      "execution_count": null,
      "outputs": []
    },
    {
      "cell_type": "code",
      "source": [
        "vectorizer_all_new_ngram, vocab_all_new_ngram, train_data_features_all_new_ngram, tfidf_features_all_new_ngram, tfidf_all_new_ngram  = (\n",
        "        create_bag_of_words_new_ngram_tfid(X_train_all))"
      ],
      "metadata": {
        "colab": {
          "base_uri": "https://localhost:8080/"
        },
        "id": "xjoko-7qlMNj",
        "outputId": "0cc93858-02f3-4660-bf43-1f7a6e119914"
      },
      "execution_count": null,
      "outputs": [
        {
          "output_type": "stream",
          "name": "stdout",
          "text": [
            "Creating bag of words...\n"
          ]
        }
      ]
    },
    {
      "cell_type": "code",
      "source": [
        "ml_model_before_3_tfid_ngram,predicdedModel_3_tfid_ngram = generateModelTFID(vectorizer_all_new_ngram,tfidf_features_all_new_ngram,tfidf_all_new_ngram,y_train_all,X_test_all)"
      ],
      "metadata": {
        "colab": {
          "base_uri": "https://localhost:8080/"
        },
        "id": "i8xJRRVblP8D",
        "outputId": "bea27f6b-ad38-4ec2-9924-9411e54df2f6"
      },
      "execution_count": null,
      "outputs": [
        {
          "output_type": "stream",
          "name": "stdout",
          "text": [
            "Training model........\n",
            "Created\n"
          ]
        }
      ]
    },
    {
      "cell_type": "code",
      "source": [
        "get_metrics(y_test_all,predicdedModel_3_tfid_ngram)"
      ],
      "metadata": {
        "id": "Od4piLwvlcGE",
        "outputId": "dc74ca81-7758-4b85-eae3-d6ca7703d335",
        "colab": {
          "base_uri": "https://localhost:8080/"
        }
      },
      "execution_count": null,
      "outputs": [
        {
          "output_type": "stream",
          "name": "stdout",
          "text": [
            "Confusion metrix: \n",
            "[[239  37]\n",
            " [ 90 134]]\n",
            "\n",
            "Accuracy = 75%\n",
            "precision = 72.6%\n",
            "recall = 86.6%\n",
            "F1 Score = 79.0%\n"
          ]
        }
      ]
    },
    {
      "cell_type": "code",
      "source": [],
      "metadata": {
        "id": "cWhAlmo6lcvi"
      },
      "execution_count": null,
      "outputs": []
    }
  ]
}
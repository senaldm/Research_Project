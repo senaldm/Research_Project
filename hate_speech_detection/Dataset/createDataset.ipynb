{
  "nbformat": 4,
  "nbformat_minor": 0,
  "metadata": {
    "colab": {
      "provenance": [],
      "authorship_tag": "ABX9TyNXcNaYf8ozsyktx6JyFPI7",
      "include_colab_link": true
    },
    "kernelspec": {
      "name": "python3",
      "display_name": "Python 3"
    },
    "language_info": {
      "name": "python"
    }
  },
  "cells": [
    {
      "cell_type": "markdown",
      "metadata": {
        "id": "view-in-github",
        "colab_type": "text"
      },
      "source": [
        "<a href=\"https://colab.research.google.com/github/senaldm/Research_Project/blob/main/hate_speech_detection/createDataset.ipynb\" target=\"_parent\"><img src=\"https://colab.research.google.com/assets/colab-badge.svg\" alt=\"Open In Colab\"/></a>"
      ]
    },
    {
      "cell_type": "code",
      "execution_count": null,
      "metadata": {
        "id": "jI9zRGZZsnJp"
      },
      "outputs": [],
      "source": [
        "import pandas as pd\n",
        "from google.colab import drive"
      ]
    },
    {
      "cell_type": "code",
      "source": [
        "drive.mount('/content/drive')\n",
        "\n",
        "datasetFilePath1='/content/drive/MyDrive/TranslatedResultCheck3.csv'\n",
        "datasetFilePath2='/content/drive/MyDrive/CopyofTrainDataset2.csv'\n",
        "\n",
        "dataset1 =pd.read_csv(datasetFilePath1)\n",
        "dataset2=pd.read_csv(datasetFilePath2)"
      ],
      "metadata": {
        "colab": {
          "base_uri": "https://localhost:8080/"
        },
        "id": "WHhHrZ0Lsy-O",
        "outputId": "e81988c4-2238-4be1-f83d-33f5e98dc42b"
      },
      "execution_count": null,
      "outputs": [
        {
          "output_type": "stream",
          "name": "stdout",
          "text": [
            "Mounted at /content/drive\n"
          ]
        }
      ]
    },
    {
      "cell_type": "code",
      "source": [
        "dataset1Selected=dataset1[['Original_Text','label']]\n",
        "dataset2Selected=dataset2[['comment','label']]\n",
        "\n",
        "dataset2Selected.columns=dataset1Selected.columns"
      ],
      "metadata": {
        "id": "Dk24XC2ltQ_G"
      },
      "execution_count": null,
      "outputs": []
    },
    {
      "cell_type": "code",
      "source": [
        "newDataset=pd.concat([dataset1Selected,dataset2Selected],ignore_index=True)"
      ],
      "metadata": {
        "id": "C5c56IC74n9n"
      },
      "execution_count": null,
      "outputs": []
    },
    {
      "cell_type": "code",
      "source": [
        "new_file_path = '/content/drive/My Drive/newDataset.csv'\n",
        "newDataset.to_csv(new_file_path, index=True)\n",
        "print(\"New dataset saved successfully.\")"
      ],
      "metadata": {
        "colab": {
          "base_uri": "https://localhost:8080/"
        },
        "id": "_tapLOxq5AaZ",
        "outputId": "ea39aa12-1839-4d9f-92a5-62f095468432"
      },
      "execution_count": null,
      "outputs": [
        {
          "output_type": "stream",
          "name": "stdout",
          "text": [
            "New dataset saved successfully.\n"
          ]
        }
      ]
    },
    {
      "cell_type": "code",
      "source": [],
      "metadata": {
        "id": "BJPj2cu_5Gtg"
      },
      "execution_count": null,
      "outputs": []
    }
  ]
}
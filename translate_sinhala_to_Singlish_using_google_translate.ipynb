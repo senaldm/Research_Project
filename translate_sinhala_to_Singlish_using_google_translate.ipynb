{
  "nbformat": 4,
  "nbformat_minor": 0,
  "metadata": {
    "colab": {
      "provenance": [],
      "authorship_tag": "ABX9TyPgRiCEUPy4koBAuZjCm/sm",
      "include_colab_link": true
    },
    "kernelspec": {
      "name": "python3",
      "display_name": "Python 3"
    },
    "language_info": {
      "name": "python"
    }
  },
  "cells": [
    {
      "cell_type": "markdown",
      "metadata": {
        "id": "view-in-github",
        "colab_type": "text"
      },
      "source": [
        "<a href=\"https://colab.research.google.com/github/senaldm/machine-Learning/blob/main/translate_sinhala_to_Singlish_using_google_translate.ipynb\" target=\"_parent\"><img src=\"https://colab.research.google.com/assets/colab-badge.svg\" alt=\"Open In Colab\"/></a>"
      ]
    },
    {
      "cell_type": "code",
      "execution_count": null,
      "metadata": {
        "id": "iZed-1MHiFoL"
      },
      "outputs": [],
      "source": [
        "!pip install selenium webdriver_manager"
      ]
    },
    {
      "cell_type": "code",
      "source": [
        "import pandas as pd\n",
        "from google.colab import drive\n",
        "drive.mount('/content/drive')\n",
        "\n",
        "dataset_file = '/content/drive/MyDrive/TrainDataset2.csv'\n",
        "data=pd.read_csv(dataset_file)"
      ],
      "metadata": {
        "id": "Gr37EuvGiHse"
      },
      "execution_count": null,
      "outputs": []
    },
    {
      "cell_type": "code",
      "source": [
        "import requests\n",
        "import bs4\n",
        "import time\n",
        "import os\n",
        "import sys\n",
        "from lxml import html\n",
        "from urllib.parse import quote"
      ],
      "metadata": {
        "id": "eu58wgTEilfS"
      },
      "execution_count": 7,
      "outputs": []
    },
    {
      "cell_type": "code",
      "source": [
        "!pip install selenium\n",
        "!apt-get update\n",
        "!apt install -y chromium-chromedriver"
      ],
      "metadata": {
        "id": "mzQDP0QxjyxL"
      },
      "execution_count": null,
      "outputs": []
    },
    {
      "cell_type": "code",
      "source": [
        "\n",
        "\n",
        "from selenium import webdriver\n",
        "from selenium.webdriver.chrome.service import Service\n",
        "from selenium.webdriver.chrome.options import Options\n",
        "from selenium.webdriver.common.by import By\n",
        "from urllib.parse import quote,unquote\n",
        "import time\n",
        "\n",
        "options = Options()\n",
        "options.add_argument(\"--headless\")\n",
        "options.add_argument(\"--no-sandbox\")\n",
        "options.add_argument(\"--disable-dev-shm-usage\")\n",
        "options.add_argument(\"--disable-gpu\")\n",
        "\n",
        "\n",
        "chrome_path = \"/usr/lib/chromium-browser/chromedriver\"\n",
        "options.binary_location = \"/usr/bin/chromium-browser\"\n",
        "\n",
        "def translate_sinhala_to_silglish(url):\n",
        "\n",
        "\n",
        "  driver = webdriver.Chrome(options=options)\n",
        "\n",
        "  driver.get(url)\n",
        "\n",
        "  time.sleep(3)\n",
        "\n",
        "\n",
        "  element = driver.find_element(By.CLASS_NAME, 'kO6q6e')\n",
        "\n",
        "\n",
        "  text = element.text.strip()\n",
        "\n",
        "  driver.quit()\n",
        "\n",
        "  return text\n",
        "\n",
        "\n",
        "\n",
        "def save_translated_text(translated_texts):\n",
        "  result_file_path = '/content/drive/MyDrive/TranslatedResult.csv'\n",
        "  result_df = pd.DataFrame({\n",
        "        'Index': range(1, len(translated_texts) + 1),\n",
        "        'Translated_Text': translated_texts,\n",
        "        'Original_Text': (data.head(10)).iloc[:, 1]\n",
        "    })\n",
        "\n",
        "  result_df.to_csv(result_file_path, index=False, encoding='utf-8')\n",
        "\n",
        "  print(f\"Translated results saved to: {result_file_path}\")\n",
        "\n",
        "\n",
        "\n",
        "def send_to_translate():\n",
        "    example_data = data.head(10)\n",
        "    translated_texts = []\n",
        "    for i in range(len(example_data)):\n",
        "        encoded_text = quote(example_data.iloc[i, 1], safe='')\n",
        "        url = f\"https://translate.google.lk/?sl=si&tl=en&text={encoded_text}%0A&op=translate\"\n",
        "        translated_data = translate_sinhala_to_silglish(url)\n",
        "        translated_texts.append(translated_data)\n",
        "        print(url)\n",
        "        print(translated_data)\n",
        "\n",
        "    save_translated_text(translated_texts)\n",
        "\n",
        "send_to_translate()\n",
        "\n"
      ],
      "metadata": {
        "id": "GAPRCU5siURs"
      },
      "execution_count": null,
      "outputs": []
    },
    {
      "cell_type": "code",
      "source": [],
      "metadata": {
        "id": "RZ2ksB4aibso"
      },
      "execution_count": null,
      "outputs": []
    }
  ]
}
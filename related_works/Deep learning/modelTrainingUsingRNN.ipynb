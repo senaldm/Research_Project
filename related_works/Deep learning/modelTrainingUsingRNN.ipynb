{
  "nbformat": 4,
  "nbformat_minor": 0,
  "metadata": {
    "colab": {
      "provenance": [],
      "authorship_tag": "ABX9TyMMehT+rS0CnEWL8qoUovBt",
      "include_colab_link": true
    },
    "kernelspec": {
      "name": "python3",
      "display_name": "Python 3"
    },
    "language_info": {
      "name": "python"
    }
  },
  "cells": [
    {
      "cell_type": "markdown",
      "metadata": {
        "id": "view-in-github",
        "colab_type": "text"
      },
      "source": [
        "<a href=\"https://colab.research.google.com/github/senaldm/machine-Learning/blob/main/modelTrainingUsingRNN.ipynb\" target=\"_parent\"><img src=\"https://colab.research.google.com/assets/colab-badge.svg\" alt=\"Open In Colab\"/></a>"
      ]
    },
    {
      "cell_type": "code",
      "source": [
        "import pandas as pd\n",
        "import numpy as np\n",
        "\n",
        "from google.colab import drive\n",
        "drive.mount('/content/drive')\n",
        "\n",
        "dataset_file = '/content/drive/MyDrive/ML/Sinhala_Singlish_Hate_Speech.csv'\n",
        "data=pd.read_csv(dataset_file)"
      ],
      "metadata": {
        "colab": {
          "base_uri": "https://localhost:8080/"
        },
        "id": "y3_2dtWL_oH8",
        "outputId": "16642bcb-6da5-4f0b-e530-b7a8e867e14f"
      },
      "execution_count": 1,
      "outputs": [
        {
          "output_type": "stream",
          "name": "stdout",
          "text": [
            "Mounted at /content/drive\n"
          ]
        }
      ]
    },
    {
      "cell_type": "code",
      "execution_count": 4,
      "metadata": {
        "colab": {
          "base_uri": "https://localhost:8080/"
        },
        "id": "J8rlB4cW_YqN",
        "outputId": "8317c8fe-8134-4483-f954-6a06b658ad77"
      },
      "outputs": [
        {
          "output_type": "stream",
          "name": "stdout",
          "text": [
            "Model: \"sequential\"\n",
            "_________________________________________________________________\n",
            " Layer (type)                Output Shape              Param #   \n",
            "=================================================================\n",
            " embedding (Embedding)       (None, 136, 100)          1250000   \n",
            "                                                                 \n",
            " lstm (LSTM)                 (None, 128)               117248    \n",
            "                                                                 \n",
            " dropout (Dropout)           (None, 128)               0         \n",
            "                                                                 \n",
            " dense (Dense)               (None, 256)               33024     \n",
            "                                                                 \n",
            " dropout_1 (Dropout)         (None, 256)               0         \n",
            "                                                                 \n",
            " dense_1 (Dense)             (None, 1)                 257       \n",
            "                                                                 \n",
            "=================================================================\n",
            "Total params: 1400529 (5.34 MB)\n",
            "Trainable params: 1400529 (5.34 MB)\n",
            "Non-trainable params: 0 (0.00 Byte)\n",
            "_________________________________________________________________\n",
            "Epoch 1/10\n",
            "55/55 [==============================] - 25s 413ms/step - loss: 0.6871 - accuracy: 0.5543 - val_loss: 0.6901 - val_accuracy: 0.5453\n",
            "Epoch 2/10\n",
            "55/55 [==============================] - 18s 331ms/step - loss: 0.6859 - accuracy: 0.5646 - val_loss: 0.6915 - val_accuracy: 0.5453\n",
            "Epoch 3/10\n",
            "55/55 [==============================] - 18s 317ms/step - loss: 0.6849 - accuracy: 0.5646 - val_loss: 0.6894 - val_accuracy: 0.5453\n",
            "Epoch 4/10\n",
            "55/55 [==============================] - 17s 306ms/step - loss: 13960.7178 - accuracy: 0.5657 - val_loss: 0.6896 - val_accuracy: 0.5453\n",
            "Epoch 5/10\n",
            "55/55 [==============================] - 17s 308ms/step - loss: 0.6858 - accuracy: 0.5646 - val_loss: 0.6896 - val_accuracy: 0.5453\n",
            "Epoch 6/10\n",
            "55/55 [==============================] - 19s 346ms/step - loss: 0.6858 - accuracy: 0.5646 - val_loss: 0.6897 - val_accuracy: 0.5453\n",
            "Epoch 7/10\n",
            "55/55 [==============================] - 17s 309ms/step - loss: 0.6846 - accuracy: 0.5646 - val_loss: 0.6896 - val_accuracy: 0.5453\n",
            "Epoch 8/10\n",
            "55/55 [==============================] - 18s 322ms/step - loss: 0.6861 - accuracy: 0.5646 - val_loss: 0.6895 - val_accuracy: 0.5453\n",
            "Epoch 9/10\n",
            "55/55 [==============================] - 17s 308ms/step - loss: 0.6847 - accuracy: 0.5646 - val_loss: 0.6899 - val_accuracy: 0.5453\n",
            "Epoch 10/10\n",
            "55/55 [==============================] - 18s 329ms/step - loss: 0.6838 - accuracy: 0.5646 - val_loss: 0.6897 - val_accuracy: 0.5453\n",
            "24/24 [==============================] - 2s 67ms/step\n",
            "Test Accuracy: 54.53%\n"
          ]
        }
      ],
      "source": [
        "from tensorflow.keras.models import Sequential\n",
        "from tensorflow.keras.layers import Embedding, LSTM, Dense, Dropout\n",
        "from sklearn.model_selection import train_test_split\n",
        "from sklearn.metrics import accuracy_score\n",
        "from sklearn.preprocessing import LabelEncoder\n",
        "from tensorflow.keras.preprocessing.text import Tokenizer\n",
        "from tensorflow.keras.preprocessing.sequence import pad_sequences\n",
        "\n",
        "# Load the CSV file\n",
        "\n",
        "\n",
        "# Assume your dataset has 'text' as the column containing comments and 'label' as the column containing hate or non-hate labels\n",
        "X = data['Phrase'].values\n",
        "y = data['IsHateSpeech'].values\n",
        "\n",
        "# Convert labels to numerical format\n",
        "label_encoder = LabelEncoder()\n",
        "y = label_encoder.fit_transform(y)\n",
        "\n",
        "# Split the dataset into training and testing sets (70:30)\n",
        "X_train, X_test, y_train, y_test = train_test_split(X, y, test_size=0.3, random_state=42)\n",
        "\n",
        "# Tokenize and pad sequences\n",
        "tokenizer = Tokenizer()\n",
        "tokenizer.fit_on_texts(X_train)\n",
        "X_train_sequences = tokenizer.texts_to_sequences(X_train)\n",
        "X_test_sequences = tokenizer.texts_to_sequences(X_test)\n",
        "\n",
        "vocab_size = len(tokenizer.word_index) + 1\n",
        "max_length = max(len(seq) for seq in X_train_sequences)\n",
        "\n",
        "X_train_padded = pad_sequences(X_train_sequences, maxlen=max_length, padding='post')\n",
        "X_test_padded = pad_sequences(X_test_sequences, maxlen=max_length, padding='post')\n",
        "\n",
        "# Build the model\n",
        "model = Sequential()\n",
        "model.add(Embedding(input_dim=vocab_size, output_dim=100, input_length=max_length))\n",
        "model.add(LSTM(128, activation='relu'))  # Replace Flatten with LSTM\n",
        "model.add(Dropout(0.5))\n",
        "model.add(Dense(256, activation='relu'))\n",
        "model.add(Dropout(0.5))\n",
        "model.add(Dense(1, activation='sigmoid'))\n",
        "\n",
        "model.compile(optimizer='adam', loss='binary_crossentropy', metrics=['accuracy'])\n",
        "model.summary()\n",
        "\n",
        "# Train the model\n",
        "model.fit(X_train_padded, y_train, epochs=10, batch_size=32, validation_data=(X_test_padded, y_test))\n",
        "\n",
        "# Evaluate on the test set\n",
        "y_pred = (model.predict(X_test_padded) > 0.5).astype('int32')\n",
        "accuracy = accuracy_score(y_test, y_pred)\n",
        "print(f'Test Accuracy: {accuracy * 100:.2f}%')\n"
      ]
    },
    {
      "cell_type": "code",
      "source": [],
      "metadata": {
        "id": "3_dkA1lV_nLt"
      },
      "execution_count": null,
      "outputs": []
    }
  ]
}
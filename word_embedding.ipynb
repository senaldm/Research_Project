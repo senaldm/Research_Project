{
  "nbformat": 4,
  "nbformat_minor": 0,
  "metadata": {
    "colab": {
      "provenance": [],
      "authorship_tag": "ABX9TyNYr6ijSU/3Jh6eUVJo0Uro",
      "include_colab_link": true
    },
    "kernelspec": {
      "name": "python3",
      "display_name": "Python 3"
    },
    "language_info": {
      "name": "python"
    }
  },
  "cells": [
    {
      "cell_type": "markdown",
      "metadata": {
        "id": "view-in-github",
        "colab_type": "text"
      },
      "source": [
        "<a href=\"https://colab.research.google.com/github/senaldm/machine-Learning/blob/main/word_embedding.ipynb\" target=\"_parent\"><img src=\"https://colab.research.google.com/assets/colab-badge.svg\" alt=\"Open In Colab\"/></a>"
      ]
    },
    {
      "cell_type": "code",
      "execution_count": 3,
      "metadata": {
        "colab": {
          "base_uri": "https://localhost:8080/"
        },
        "id": "MtRlcVN1LecE",
        "outputId": "a850a6ab-0c44-4aa5-cdb4-4217438166ee"
      },
      "outputs": [
        {
          "output_type": "stream",
          "name": "stdout",
          "text": [
            "Mounted at /content/drive\n"
          ]
        }
      ],
      "source": [
        "import pandas as pd\n",
        "import numpy as np\n",
        "\n",
        "from google.colab import drive\n",
        "drive.mount('/content/drive')\n",
        "\n",
        "dataset_file = '/content/drive/MyDrive/ML/Sinhala_Singlish_Hate_Speech.csv'\n",
        "data=pd.read_csv(dataset_file)\n"
      ]
    },
    {
      "cell_type": "code",
      "source": [
        "print(data.head())\n",
        "from gensim.models import Word2Vec\n",
        "from nltk.tokenize import word_tokenize\n",
        "import nltk\n",
        "nltk.download('punkt')"
      ],
      "metadata": {
        "colab": {
          "base_uri": "https://localhost:8080/"
        },
        "id": "okCpmW4iLm9h",
        "outputId": "9e32f6b4-5ff7-407a-995b-94fe3d43b4b3"
      },
      "execution_count": 4,
      "outputs": [
        {
          "output_type": "stream",
          "name": "stdout",
          "text": [
            "   PhraseNo                                             Phrase IsHateSpeech\n",
            "0         1  මේ බැල්ලි කොටින්ගේ ගු කනකොට අපහසුවක් දැනුනෙ නැ...          YES\n",
            "1         2  මන් ඊයේ මුස්ලිම් ඩෑල් එකක් එක්ක සෙල්ෆියක් ගත්ත...          YES\n",
            "2         3                           සංහිදියාවට අවුලක් වෙයි ද           NO\n",
            "3         4  .කටින් පුරසාරම් දොඩන අපි සිංහලයො විදියට ලැජ්ජා...          YES\n",
            "4         5  මචන් ඔය මගුල නවත්තලා කොන්දක් තියෙනවානම් පුලුවන...          YES\n"
          ]
        },
        {
          "output_type": "stream",
          "name": "stderr",
          "text": [
            "[nltk_data] Downloading package punkt to /root/nltk_data...\n",
            "[nltk_data]   Unzipping tokenizers/punkt.zip.\n"
          ]
        },
        {
          "output_type": "execute_result",
          "data": {
            "text/plain": [
              "True"
            ]
          },
          "metadata": {},
          "execution_count": 4
        }
      ]
    },
    {
      "cell_type": "code",
      "source": [
        "\"\"\"sentences = [\n",
        "    \"The cat sat on the mat.\",\n",
        "    \"The dog played in the yard.\",\n",
        "    \"Birds chirped in the trees.\",\n",
        "    \"The sun set behind the mountains.\",\n",
        "]\"\"\"\n",
        "sentences = data['Phrase']\n",
        "tokenized_sentences=[word_tokenize(sentence.lower()) for sentence in sentences]\n",
        "\n",
        "model =Word2Vec(sentences=tokenized_sentences,vector_size=100,window=5, min_count=2, workers=8, epochs=model.epochs )\n",
        "\n",
        "model.save(\"word2vec_model\")\n",
        "\n",
        "word_embedding=model.wv[\"apita\"]\n",
        "print(\"word embedding for ' muth :\",word_embedding)\n",
        "\n",
        "similar_words=model.wv.most_similar(\"apita\",topn=5)\n",
        "print(\"similar words :\",similar_words)"
      ],
      "metadata": {
        "colab": {
          "base_uri": "https://localhost:8080/"
        },
        "id": "1pDwX6BfMS1B",
        "outputId": "41675fc4-7126-4ea8-b3af-c04fee513984"
      },
      "execution_count": 26,
      "outputs": [
        {
          "output_type": "stream",
          "name": "stdout",
          "text": [
            "word embedding for ' muth : [-0.0456019   0.0359256   0.04920734  0.01449472  0.02915076 -0.10506621\n",
            "  0.03448777  0.12126103 -0.06766287 -0.02868496 -0.02078519 -0.07333447\n",
            " -0.01972445  0.03628992  0.01691912 -0.06005658  0.00353424 -0.04690677\n",
            "  0.00184132 -0.11006819  0.02262173  0.00269685  0.05218249 -0.02419238\n",
            "  0.00402289 -0.00951024 -0.02999442 -0.00490516 -0.07052426  0.02272007\n",
            "  0.04878128  0.01152116  0.00844016 -0.04671632 -0.00834667  0.07440037\n",
            "  0.00660279 -0.06587058 -0.04251074 -0.10532394  0.00723313 -0.03870985\n",
            " -0.01839284  0.01106601  0.01638191 -0.02467557 -0.05243865 -0.02767902\n",
            "  0.02033799  0.04875627  0.03770358 -0.05972049 -0.02992316 -0.00636376\n",
            " -0.06199288  0.02917873  0.04073077 -0.00934791 -0.05988621  0.01187264\n",
            "  0.01389176  0.01642287  0.00714854  0.01402354 -0.0880345   0.04520438\n",
            "  0.00940564  0.05718328 -0.04086276  0.07340928 -0.02115163  0.02299837\n",
            "  0.0648597  -0.01142815  0.07884311  0.05398675  0.00779039 -0.00404155\n",
            " -0.06263403 -0.01128339 -0.04545696 -0.00452813 -0.04764428  0.06616971\n",
            " -0.03909493 -0.00465497  0.02682452  0.04508562  0.04018417  0.00619144\n",
            "  0.04889052  0.00661271  0.02819666  0.01034656  0.09346591  0.06487185\n",
            "  0.04750317 -0.06979948 -0.01323106  0.01823013]\n",
            "similar words : [('ඉතින්', 0.9915093183517456), ('kiyala', 0.9913306832313538), ('වෙන්න', 0.9911907315254211), ('ඕන', 0.9911783933639526), ('දැන්', 0.9911687970161438)]\n"
          ]
        }
      ]
    }
  ]
}